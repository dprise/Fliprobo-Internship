{
 "cells": [
  {
   "cell_type": "code",
   "execution_count": 1,
   "metadata": {},
   "outputs": [],
   "source": [
    "#Importing the required Libraries for selenium\n",
    "import selenium\n",
    "import pandas as pd\n",
    "from selenium import webdriver"
   ]
  },
  {
   "cell_type": "markdown",
   "metadata": {},
   "source": [
    "# Q1: Write a python program to scrape data for “Data Analyst” Job position in “Bangalore” location. You have to scrape the job-title, job-location, company_name, experience_required. You have to scrape first 10 jobs data.\n",
    "    \n",
    "Ans: Solution is as:-"
   ]
  },
  {
   "cell_type": "code",
   "execution_count": 2,
   "metadata": {},
   "outputs": [],
   "source": [
    "#Let's first connect to the web driver\n",
    "driver=webdriver.Chrome(\"chromedriver.exe\")"
   ]
  },
  {
   "cell_type": "code",
   "execution_count": 3,
   "metadata": {},
   "outputs": [],
   "source": [
    "#Opening webpage https://www.naukri.com/\n",
    "url=\"https://www.naukri.com/\"\n",
    "driver.get(url)"
   ]
  },
  {
   "cell_type": "code",
   "execution_count": 4,
   "metadata": {},
   "outputs": [
    {
     "data": {
      "text/plain": [
       "<selenium.webdriver.remote.webelement.WebElement (session=\"bf7fa510a2519b12dff750c601a9ba3f\", element=\"09ab0662-92b6-42b5-8009-7cf93d4917f6\")>"
      ]
     },
     "execution_count": 4,
     "metadata": {},
     "output_type": "execute_result"
    }
   ],
   "source": [
    "#finding element for job search bar\n",
    "search_job=driver.find_element_by_id('qsb-keyword-sugg')\n",
    "search_job"
   ]
  },
  {
   "cell_type": "code",
   "execution_count": 5,
   "metadata": {},
   "outputs": [],
   "source": [
    "#Searching for Data Analyst in Search bar\n",
    "search_job.send_keys(\"Data Analyst\")"
   ]
  },
  {
   "cell_type": "code",
   "execution_count": 6,
   "metadata": {},
   "outputs": [],
   "source": [
    "#finding element for job location bar\n",
    "search_loc=driver.find_element_by_id(\"qsb-location-sugg\")\n",
    "search_loc.send_keys(\"Bangalore\")"
   ]
  },
  {
   "cell_type": "code",
   "execution_count": 8,
   "metadata": {},
   "outputs": [],
   "source": [
    "#Clicking the Search Button using Xpath function\n",
    "search_btn=driver.find_element_by_xpath(\"//button[@class='btn']\")\n",
    "search_btn.click()"
   ]
  },
  {
   "cell_type": "code",
   "execution_count": 9,
   "metadata": {},
   "outputs": [],
   "source": [
    "#Creating empty Lists so that we can store data in these lists while scraping\n",
    "job_titles=[]\n",
    "company_names=[]\n",
    "locations_list=[]\n",
    "experience_list=[]"
   ]
  },
  {
   "cell_type": "code",
   "execution_count": 10,
   "metadata": {},
   "outputs": [
    {
     "data": {
      "text/plain": [
       "[<selenium.webdriver.remote.webelement.WebElement (session=\"bf7fa510a2519b12dff750c601a9ba3f\", element=\"450ef586-ba0b-4322-93d0-ebe2e7900d5e\")>,\n",
       " <selenium.webdriver.remote.webelement.WebElement (session=\"bf7fa510a2519b12dff750c601a9ba3f\", element=\"ba2e286b-eee4-4128-8fa5-c4793e8a19a0\")>,\n",
       " <selenium.webdriver.remote.webelement.WebElement (session=\"bf7fa510a2519b12dff750c601a9ba3f\", element=\"75fca8c1-9e9b-47b2-af54-a32af2da3570\")>,\n",
       " <selenium.webdriver.remote.webelement.WebElement (session=\"bf7fa510a2519b12dff750c601a9ba3f\", element=\"80f7baa3-95cc-40f9-a698-39af5191efb2\")>,\n",
       " <selenium.webdriver.remote.webelement.WebElement (session=\"bf7fa510a2519b12dff750c601a9ba3f\", element=\"4b33efb4-9478-46cb-a579-67f394ba8c7b\")>,\n",
       " <selenium.webdriver.remote.webelement.WebElement (session=\"bf7fa510a2519b12dff750c601a9ba3f\", element=\"7cc2693d-9e14-4775-beac-b75aa8844a93\")>,\n",
       " <selenium.webdriver.remote.webelement.WebElement (session=\"bf7fa510a2519b12dff750c601a9ba3f\", element=\"fbee594b-6220-46ac-b48d-d3778a3e380a\")>,\n",
       " <selenium.webdriver.remote.webelement.WebElement (session=\"bf7fa510a2519b12dff750c601a9ba3f\", element=\"026c53e9-6f9a-4827-8d9b-a53c85dc4838\")>,\n",
       " <selenium.webdriver.remote.webelement.WebElement (session=\"bf7fa510a2519b12dff750c601a9ba3f\", element=\"d0659c41-d6c4-4d63-9255-5e674d6b909b\")>,\n",
       " <selenium.webdriver.remote.webelement.WebElement (session=\"bf7fa510a2519b12dff750c601a9ba3f\", element=\"90a53fa2-378a-417a-900b-640809da4f27\")>,\n",
       " <selenium.webdriver.remote.webelement.WebElement (session=\"bf7fa510a2519b12dff750c601a9ba3f\", element=\"b9ed5f73-390a-4924-b883-582404d36f3a\")>,\n",
       " <selenium.webdriver.remote.webelement.WebElement (session=\"bf7fa510a2519b12dff750c601a9ba3f\", element=\"57636aad-2f95-4699-9d4b-b7a4975872d1\")>,\n",
       " <selenium.webdriver.remote.webelement.WebElement (session=\"bf7fa510a2519b12dff750c601a9ba3f\", element=\"2fbe2229-e080-406c-abfa-56b749980533\")>,\n",
       " <selenium.webdriver.remote.webelement.WebElement (session=\"bf7fa510a2519b12dff750c601a9ba3f\", element=\"54287d8d-db5e-4368-b27f-00acacf60ad7\")>,\n",
       " <selenium.webdriver.remote.webelement.WebElement (session=\"bf7fa510a2519b12dff750c601a9ba3f\", element=\"ce1b4a1a-594a-4bc6-b76a-1100bea507fe\")>,\n",
       " <selenium.webdriver.remote.webelement.WebElement (session=\"bf7fa510a2519b12dff750c601a9ba3f\", element=\"4df3125c-0478-468c-bdde-5acc6437acec\")>,\n",
       " <selenium.webdriver.remote.webelement.WebElement (session=\"bf7fa510a2519b12dff750c601a9ba3f\", element=\"e543cdbc-20ab-4d49-804c-be35e0f7f485\")>,\n",
       " <selenium.webdriver.remote.webelement.WebElement (session=\"bf7fa510a2519b12dff750c601a9ba3f\", element=\"f81cb304-a45c-4efb-b3e0-63daccf460f5\")>,\n",
       " <selenium.webdriver.remote.webelement.WebElement (session=\"bf7fa510a2519b12dff750c601a9ba3f\", element=\"81ffa0ae-00a5-4920-a82f-5d6a19daf5ef\")>,\n",
       " <selenium.webdriver.remote.webelement.WebElement (session=\"bf7fa510a2519b12dff750c601a9ba3f\", element=\"f00f7a8b-cc08-441f-91b0-8fedc40eb31d\")>]"
      ]
     },
     "execution_count": 10,
     "metadata": {},
     "output_type": "execute_result"
    }
   ],
   "source": [
    "#Lets extract all the tags having job-titles\n",
    "titles_tags=driver.find_elements_by_xpath(\"//a[@class='title fw500 ellipsis']\")\n",
    "titles_tags"
   ]
  },
  {
   "cell_type": "code",
   "execution_count": 11,
   "metadata": {},
   "outputs": [
    {
     "data": {
      "text/plain": [
       "['Data Scientist / Data Analyst -Business Analyst',\n",
       " 'Data Analyst - Informatica MDM',\n",
       " 'Assistant Vice President - MIS & Reporting ( Business Data Analyst)',\n",
       " 'Data Analyst',\n",
       " 'Hiring For Data Analyst/ MIS Reporting Analyst - Bangalore',\n",
       " 'Consultant-Data Analyst -Bangalore',\n",
       " 'Data analyst - Google Analytics',\n",
       " 'Senior/Regular Business Analyst / Data Analyst',\n",
       " 'SW Technologist I- Data Analyst',\n",
       " 'Data Analyst',\n",
       " 'Hiring For Data Analyst @ Flipkart on Contract',\n",
       " 'Data Analyst - Informatica MDM',\n",
       " 'Senior Data Analyst',\n",
       " 'Cybersecurity Data Analyst',\n",
       " 'Data Analyst / Business Analyst -',\n",
       " 'Business Data Analyst',\n",
       " 'Data Analyst',\n",
       " 'Data Analyst',\n",
       " 'Data Analyst',\n",
       " 'Data Analyst']"
      ]
     },
     "execution_count": 11,
     "metadata": {},
     "output_type": "execute_result"
    }
   ],
   "source": [
    "#extracting text inside title tags\n",
    "for i in titles_tags:\n",
    "    job_titles.append(i.text)\n",
    "job_titles"
   ]
  },
  {
   "cell_type": "code",
   "execution_count": 13,
   "metadata": {},
   "outputs": [
    {
     "data": {
      "text/plain": [
       "[<selenium.webdriver.remote.webelement.WebElement (session=\"bf7fa510a2519b12dff750c601a9ba3f\", element=\"a7e1ee82-b27a-440a-b3fe-194daacc7645\")>,\n",
       " <selenium.webdriver.remote.webelement.WebElement (session=\"bf7fa510a2519b12dff750c601a9ba3f\", element=\"bd245dfa-9628-4115-807a-20a16426a73d\")>,\n",
       " <selenium.webdriver.remote.webelement.WebElement (session=\"bf7fa510a2519b12dff750c601a9ba3f\", element=\"3c782970-24ce-4002-8e13-904d4634491a\")>,\n",
       " <selenium.webdriver.remote.webelement.WebElement (session=\"bf7fa510a2519b12dff750c601a9ba3f\", element=\"3195640e-2108-4381-b4e6-08a079b7d117\")>,\n",
       " <selenium.webdriver.remote.webelement.WebElement (session=\"bf7fa510a2519b12dff750c601a9ba3f\", element=\"ee1e3700-2bbb-4963-a9c5-fc4b6401ab1f\")>,\n",
       " <selenium.webdriver.remote.webelement.WebElement (session=\"bf7fa510a2519b12dff750c601a9ba3f\", element=\"69fd34e2-9665-4510-9f4a-c3c75a66b34f\")>,\n",
       " <selenium.webdriver.remote.webelement.WebElement (session=\"bf7fa510a2519b12dff750c601a9ba3f\", element=\"8b7f0cef-4df4-4263-9cac-cbee2a0c59b1\")>,\n",
       " <selenium.webdriver.remote.webelement.WebElement (session=\"bf7fa510a2519b12dff750c601a9ba3f\", element=\"93615a53-497d-45b0-88e6-a994aab74acd\")>,\n",
       " <selenium.webdriver.remote.webelement.WebElement (session=\"bf7fa510a2519b12dff750c601a9ba3f\", element=\"243ab591-3543-40d8-92b8-019f3532e93e\")>,\n",
       " <selenium.webdriver.remote.webelement.WebElement (session=\"bf7fa510a2519b12dff750c601a9ba3f\", element=\"56cc6aee-07ab-447e-8b14-bcb6521dcb0b\")>,\n",
       " <selenium.webdriver.remote.webelement.WebElement (session=\"bf7fa510a2519b12dff750c601a9ba3f\", element=\"f63f2019-765b-423c-9a74-a5be7ed3b04f\")>,\n",
       " <selenium.webdriver.remote.webelement.WebElement (session=\"bf7fa510a2519b12dff750c601a9ba3f\", element=\"2a9937d8-b95e-40eb-9913-44efc8bd1a6e\")>,\n",
       " <selenium.webdriver.remote.webelement.WebElement (session=\"bf7fa510a2519b12dff750c601a9ba3f\", element=\"044cc073-2bf2-4a22-89b2-13a244772a91\")>,\n",
       " <selenium.webdriver.remote.webelement.WebElement (session=\"bf7fa510a2519b12dff750c601a9ba3f\", element=\"ddd6d03a-7b82-4d4f-aa6f-5bad658969b2\")>,\n",
       " <selenium.webdriver.remote.webelement.WebElement (session=\"bf7fa510a2519b12dff750c601a9ba3f\", element=\"a79db252-f352-47c5-9845-e6f5318fc91e\")>,\n",
       " <selenium.webdriver.remote.webelement.WebElement (session=\"bf7fa510a2519b12dff750c601a9ba3f\", element=\"636c6c30-6b55-4910-9412-95ef4b31c821\")>,\n",
       " <selenium.webdriver.remote.webelement.WebElement (session=\"bf7fa510a2519b12dff750c601a9ba3f\", element=\"ee8bb295-d29e-458b-9aa5-67d4071ae0c7\")>,\n",
       " <selenium.webdriver.remote.webelement.WebElement (session=\"bf7fa510a2519b12dff750c601a9ba3f\", element=\"1e498ef1-52bc-4c74-9ee8-8f766e3652db\")>,\n",
       " <selenium.webdriver.remote.webelement.WebElement (session=\"bf7fa510a2519b12dff750c601a9ba3f\", element=\"a865e821-6865-44e4-a83d-56029d7d7e3a\")>,\n",
       " <selenium.webdriver.remote.webelement.WebElement (session=\"bf7fa510a2519b12dff750c601a9ba3f\", element=\"1b30afed-7946-481d-87ec-d987800af5de\")>]"
      ]
     },
     "execution_count": 13,
     "metadata": {},
     "output_type": "execute_result"
    }
   ],
   "source": [
    "#Extracting all the tags having company names\n",
    "companies_tags=driver.find_elements_by_xpath(\"//a[@class='subTitle ellipsis fleft']\")\n",
    "companies_tags"
   ]
  },
  {
   "cell_type": "code",
   "execution_count": 14,
   "metadata": {},
   "outputs": [
    {
     "data": {
      "text/plain": [
       "['Inflexion Analytix Private Limited',\n",
       " 'Shell India Markets Private Limited',\n",
       " 'INTERTRUSTVITEOS CORPORATE AND FUND SERVICES PVT. LTD.',\n",
       " 'SA Tech Software (I) Pvt. Ltd.',\n",
       " 'PHARMACEUTICAL RESEARCH ASSOCIATES INDIA Pvt Ltd',\n",
       " 'Innovsource Services Private Limited',\n",
       " 'H and M Hennes and Mauritz (P) Ltd.',\n",
       " 'Luxoft',\n",
       " 'Philips India Limited',\n",
       " 'Flipkart Internet Private Limited',\n",
       " 'Flipkart Internet Private Limited',\n",
       " 'Shell India Markets Private Limited',\n",
       " 'Flipkart Internet Private Limited',\n",
       " 'Huawei Technologies India Pvt Ltd',\n",
       " 'LatentView Analytics Private Limited',\n",
       " 'ALSTOM India Limited',\n",
       " 'Udaan',\n",
       " 'Luxoft',\n",
       " 'Yodlee Infotech Private Limited',\n",
       " 'Novel Office']"
      ]
     },
     "execution_count": 14,
     "metadata": {},
     "output_type": "execute_result"
    }
   ],
   "source": [
    "#extracting text inside company tags\n",
    "for i in companies_tags:\n",
    "    company_names.append(i.text)\n",
    "company_names"
   ]
  },
  {
   "cell_type": "code",
   "execution_count": 15,
   "metadata": {},
   "outputs": [
    {
     "data": {
      "text/plain": [
       "[<selenium.webdriver.remote.webelement.WebElement (session=\"bf7fa510a2519b12dff750c601a9ba3f\", element=\"06e3d285-565d-4249-9bd7-170204678671\")>,\n",
       " <selenium.webdriver.remote.webelement.WebElement (session=\"bf7fa510a2519b12dff750c601a9ba3f\", element=\"184707b4-2c0d-4c29-be5a-21b62339e24f\")>,\n",
       " <selenium.webdriver.remote.webelement.WebElement (session=\"bf7fa510a2519b12dff750c601a9ba3f\", element=\"b71495ac-b9ef-4c3f-86db-15d231fd7d92\")>,\n",
       " <selenium.webdriver.remote.webelement.WebElement (session=\"bf7fa510a2519b12dff750c601a9ba3f\", element=\"c143c8ec-91d6-4d5d-98eb-e53f6f434408\")>,\n",
       " <selenium.webdriver.remote.webelement.WebElement (session=\"bf7fa510a2519b12dff750c601a9ba3f\", element=\"842b201e-c4bd-4751-891a-db9276aa32e6\")>,\n",
       " <selenium.webdriver.remote.webelement.WebElement (session=\"bf7fa510a2519b12dff750c601a9ba3f\", element=\"2a2a5ede-8110-418b-9e05-3eba3e41915c\")>,\n",
       " <selenium.webdriver.remote.webelement.WebElement (session=\"bf7fa510a2519b12dff750c601a9ba3f\", element=\"d59d0c0e-c733-4b09-8bb3-80d67eb36ac6\")>,\n",
       " <selenium.webdriver.remote.webelement.WebElement (session=\"bf7fa510a2519b12dff750c601a9ba3f\", element=\"2c69810c-8a6f-4d8e-8202-3feaac70c629\")>,\n",
       " <selenium.webdriver.remote.webelement.WebElement (session=\"bf7fa510a2519b12dff750c601a9ba3f\", element=\"4bb23da4-dd56-4ea9-bc49-0162b94e780b\")>,\n",
       " <selenium.webdriver.remote.webelement.WebElement (session=\"bf7fa510a2519b12dff750c601a9ba3f\", element=\"3b2a18e1-11d7-4157-b6f7-993048a689ae\")>,\n",
       " <selenium.webdriver.remote.webelement.WebElement (session=\"bf7fa510a2519b12dff750c601a9ba3f\", element=\"01451b49-3b24-4a74-a541-ab5ded431d3e\")>,\n",
       " <selenium.webdriver.remote.webelement.WebElement (session=\"bf7fa510a2519b12dff750c601a9ba3f\", element=\"d3bb2cd9-ecc4-480c-83a6-abc862f24e94\")>,\n",
       " <selenium.webdriver.remote.webelement.WebElement (session=\"bf7fa510a2519b12dff750c601a9ba3f\", element=\"8cdea91a-c26b-47c1-bebc-2766eed7520f\")>,\n",
       " <selenium.webdriver.remote.webelement.WebElement (session=\"bf7fa510a2519b12dff750c601a9ba3f\", element=\"9fc97755-502e-4b16-93c0-61d9be788062\")>,\n",
       " <selenium.webdriver.remote.webelement.WebElement (session=\"bf7fa510a2519b12dff750c601a9ba3f\", element=\"f0b720d6-1416-4671-a9d6-23bb98be4a18\")>,\n",
       " <selenium.webdriver.remote.webelement.WebElement (session=\"bf7fa510a2519b12dff750c601a9ba3f\", element=\"1e92e131-2722-4caf-b4e1-31172a2bd1d9\")>,\n",
       " <selenium.webdriver.remote.webelement.WebElement (session=\"bf7fa510a2519b12dff750c601a9ba3f\", element=\"fe855321-79be-4030-9603-0adfe3c9166a\")>,\n",
       " <selenium.webdriver.remote.webelement.WebElement (session=\"bf7fa510a2519b12dff750c601a9ba3f\", element=\"3b0173cb-b584-4641-b252-d502eb6ff790\")>,\n",
       " <selenium.webdriver.remote.webelement.WebElement (session=\"bf7fa510a2519b12dff750c601a9ba3f\", element=\"db4ea0d2-845d-4c29-850b-41117abc5005\")>,\n",
       " <selenium.webdriver.remote.webelement.WebElement (session=\"bf7fa510a2519b12dff750c601a9ba3f\", element=\"bcab9e4a-e7fa-4018-8903-80394aad3766\")>]"
      ]
     },
     "execution_count": 15,
     "metadata": {},
     "output_type": "execute_result"
    }
   ],
   "source": [
    "#Extracting all the tags having location info\n",
    "locations_tags=driver.find_elements_by_xpath(\"//li[@class='fleft grey-text br2 placeHolderLi location']/span\")\n",
    "locations_tags"
   ]
  },
  {
   "cell_type": "code",
   "execution_count": 16,
   "metadata": {},
   "outputs": [
    {
     "data": {
      "text/plain": [
       "['Mumbai, Hyderabad/Secunderabad, Pune, Gurgaon/Gurugram, Chennai, Bangalore/Bengaluru',\n",
       " 'Bangalore/Bengaluru',\n",
       " 'Mumbai, Bangalore/Bengaluru',\n",
       " 'Kolkata, Pune, Chennai, Bangalore/Bengaluru, Delhi / NCR, Mumbai (All Areas)',\n",
       " 'Bangalore/Bengaluru',\n",
       " 'Bangalore/Bengaluru',\n",
       " 'Bangalore/Bengaluru',\n",
       " 'Bangalore/Bengaluru',\n",
       " 'Bangalore/Bengaluru',\n",
       " 'Bangalore/Bengaluru',\n",
       " 'Bangalore/Bengaluru',\n",
       " 'Bangalore/Bengaluru',\n",
       " 'Bangalore/Bengaluru',\n",
       " 'Bangalore/Bengaluru',\n",
       " 'Chennai, Bangalore/Bengaluru',\n",
       " 'Bangalore/Bengaluru',\n",
       " 'Bangalore/Bengaluru',\n",
       " 'Bangalore/Bengaluru',\n",
       " 'Bangalore/Bengaluru',\n",
       " 'Bangalore/Bengaluru']"
      ]
     },
     "execution_count": 16,
     "metadata": {},
     "output_type": "execute_result"
    }
   ],
   "source": [
    "#extracting text inside Location tags\n",
    "for i in locations_tags:\n",
    "    locations_list.append(i.text)\n",
    "locations_list"
   ]
  },
  {
   "cell_type": "code",
   "execution_count": 17,
   "metadata": {},
   "outputs": [
    {
     "data": {
      "text/plain": [
       "[<selenium.webdriver.remote.webelement.WebElement (session=\"bf7fa510a2519b12dff750c601a9ba3f\", element=\"0dee67ea-6b6a-402a-a18c-6fcfa091efe0\")>,\n",
       " <selenium.webdriver.remote.webelement.WebElement (session=\"bf7fa510a2519b12dff750c601a9ba3f\", element=\"e147d614-6c61-4f82-870e-9a09f0a3cb21\")>,\n",
       " <selenium.webdriver.remote.webelement.WebElement (session=\"bf7fa510a2519b12dff750c601a9ba3f\", element=\"f626303e-28a0-4ac6-acb8-09f28492bcff\")>,\n",
       " <selenium.webdriver.remote.webelement.WebElement (session=\"bf7fa510a2519b12dff750c601a9ba3f\", element=\"13c49ac6-9091-413d-82d6-3c821b01abf9\")>,\n",
       " <selenium.webdriver.remote.webelement.WebElement (session=\"bf7fa510a2519b12dff750c601a9ba3f\", element=\"d72e4bbc-f3c6-419d-9dca-4bfba5515a37\")>,\n",
       " <selenium.webdriver.remote.webelement.WebElement (session=\"bf7fa510a2519b12dff750c601a9ba3f\", element=\"7bbd379d-c77e-45dc-acf6-e023fc90c1f0\")>,\n",
       " <selenium.webdriver.remote.webelement.WebElement (session=\"bf7fa510a2519b12dff750c601a9ba3f\", element=\"4ec0c413-ed54-43c3-974f-bf0d81d76922\")>,\n",
       " <selenium.webdriver.remote.webelement.WebElement (session=\"bf7fa510a2519b12dff750c601a9ba3f\", element=\"da5c85bb-363c-473a-be8e-93ccf4d46906\")>,\n",
       " <selenium.webdriver.remote.webelement.WebElement (session=\"bf7fa510a2519b12dff750c601a9ba3f\", element=\"c31a49cd-b6e8-413f-bad1-f9f1f26aef0b\")>,\n",
       " <selenium.webdriver.remote.webelement.WebElement (session=\"bf7fa510a2519b12dff750c601a9ba3f\", element=\"a1c281ad-b138-4cc9-80f8-519618a1a061\")>,\n",
       " <selenium.webdriver.remote.webelement.WebElement (session=\"bf7fa510a2519b12dff750c601a9ba3f\", element=\"6dbbbefa-e466-42a8-8854-0978471613fb\")>,\n",
       " <selenium.webdriver.remote.webelement.WebElement (session=\"bf7fa510a2519b12dff750c601a9ba3f\", element=\"dd594b8a-9731-4aee-a913-3a92ef416a70\")>,\n",
       " <selenium.webdriver.remote.webelement.WebElement (session=\"bf7fa510a2519b12dff750c601a9ba3f\", element=\"ab3fbda1-9434-4514-8243-4253e351e93b\")>,\n",
       " <selenium.webdriver.remote.webelement.WebElement (session=\"bf7fa510a2519b12dff750c601a9ba3f\", element=\"7b5cd4f6-e354-4538-9f79-5fa76dd06656\")>,\n",
       " <selenium.webdriver.remote.webelement.WebElement (session=\"bf7fa510a2519b12dff750c601a9ba3f\", element=\"d2b5a90a-cdb2-46ad-b144-7825d077e54a\")>,\n",
       " <selenium.webdriver.remote.webelement.WebElement (session=\"bf7fa510a2519b12dff750c601a9ba3f\", element=\"cd6ee34f-b7f4-42ef-9777-10d83d7dc569\")>,\n",
       " <selenium.webdriver.remote.webelement.WebElement (session=\"bf7fa510a2519b12dff750c601a9ba3f\", element=\"12144bbb-4563-42a5-ae98-588972fe4f5f\")>,\n",
       " <selenium.webdriver.remote.webelement.WebElement (session=\"bf7fa510a2519b12dff750c601a9ba3f\", element=\"2ccc6001-d877-48a6-b191-aa1df5a27203\")>,\n",
       " <selenium.webdriver.remote.webelement.WebElement (session=\"bf7fa510a2519b12dff750c601a9ba3f\", element=\"df561d56-c38a-48d2-ad90-af0ad9fefb34\")>,\n",
       " <selenium.webdriver.remote.webelement.WebElement (session=\"bf7fa510a2519b12dff750c601a9ba3f\", element=\"53f3f266-09ad-4cb6-906d-86ae84647158\")>]"
      ]
     },
     "execution_count": 17,
     "metadata": {},
     "output_type": "execute_result"
    }
   ],
   "source": [
    "#Extracting all the tags having Experience info\n",
    "experience_tags=driver.find_elements_by_xpath(\"//li[@class='fleft grey-text br2 placeHolderLi experience']//span\")\n",
    "experience_tags"
   ]
  },
  {
   "cell_type": "code",
   "execution_count": 18,
   "metadata": {},
   "outputs": [
    {
     "data": {
      "text/plain": [
       "['0-3 Yrs',\n",
       " '6-9 Yrs',\n",
       " '12-18 Yrs',\n",
       " '1-3 Yrs',\n",
       " '2-4 Yrs',\n",
       " '2-7 Yrs',\n",
       " '4-7 Yrs',\n",
       " '3-6 Yrs',\n",
       " '5-10 Yrs',\n",
       " '1-3 Yrs',\n",
       " '2-6 Yrs',\n",
       " '6-9 Yrs',\n",
       " '2-5 Yrs',\n",
       " '5-8 Yrs',\n",
       " '1-5 Yrs',\n",
       " '5-10 Yrs',\n",
       " '1-6 Yrs',\n",
       " '2-6 Yrs',\n",
       " '2-6 Yrs',\n",
       " '0-3 Yrs']"
      ]
     },
     "execution_count": 18,
     "metadata": {},
     "output_type": "execute_result"
    }
   ],
   "source": [
    "#extracting text inside Experience tags\n",
    "for i in experience_tags:\n",
    "    experience_list.append(i.text)\n",
    "experience_list"
   ]
  },
  {
   "cell_type": "code",
   "execution_count": 19,
   "metadata": {},
   "outputs": [],
   "source": [
    "#Saving our answer in a DataFrame using Pandas\n",
    "jobs=pd.DataFrame({})\n",
    "jobs['Job Title']=job_titles[0:10]\n",
    "jobs['Company Name']=company_names[0:10]\n",
    "jobs['Location']=locations_list[0:10]\n",
    "jobs['Experience_required']=experience_list[0:10]"
   ]
  },
  {
   "cell_type": "code",
   "execution_count": 20,
   "metadata": {},
   "outputs": [
    {
     "data": {
      "text/html": [
       "<div>\n",
       "<style scoped>\n",
       "    .dataframe tbody tr th:only-of-type {\n",
       "        vertical-align: middle;\n",
       "    }\n",
       "\n",
       "    .dataframe tbody tr th {\n",
       "        vertical-align: top;\n",
       "    }\n",
       "\n",
       "    .dataframe thead th {\n",
       "        text-align: right;\n",
       "    }\n",
       "</style>\n",
       "<table border=\"1\" class=\"dataframe\">\n",
       "  <thead>\n",
       "    <tr style=\"text-align: right;\">\n",
       "      <th></th>\n",
       "      <th>Job Title</th>\n",
       "      <th>Company Name</th>\n",
       "      <th>Location</th>\n",
       "      <th>Experience_required</th>\n",
       "    </tr>\n",
       "  </thead>\n",
       "  <tbody>\n",
       "    <tr>\n",
       "      <th>0</th>\n",
       "      <td>Data Scientist / Data Analyst -Business Analyst</td>\n",
       "      <td>Inflexion Analytix Private Limited</td>\n",
       "      <td>Mumbai, Hyderabad/Secunderabad, Pune, Gurgaon/...</td>\n",
       "      <td>0-3 Yrs</td>\n",
       "    </tr>\n",
       "    <tr>\n",
       "      <th>1</th>\n",
       "      <td>Data Analyst - Informatica MDM</td>\n",
       "      <td>Shell India Markets Private Limited</td>\n",
       "      <td>Bangalore/Bengaluru</td>\n",
       "      <td>6-9 Yrs</td>\n",
       "    </tr>\n",
       "    <tr>\n",
       "      <th>2</th>\n",
       "      <td>Assistant Vice President - MIS &amp; Reporting ( B...</td>\n",
       "      <td>INTERTRUSTVITEOS CORPORATE AND FUND SERVICES P...</td>\n",
       "      <td>Mumbai, Bangalore/Bengaluru</td>\n",
       "      <td>12-18 Yrs</td>\n",
       "    </tr>\n",
       "    <tr>\n",
       "      <th>3</th>\n",
       "      <td>Data Analyst</td>\n",
       "      <td>SA Tech Software (I) Pvt. Ltd.</td>\n",
       "      <td>Kolkata, Pune, Chennai, Bangalore/Bengaluru, D...</td>\n",
       "      <td>1-3 Yrs</td>\n",
       "    </tr>\n",
       "    <tr>\n",
       "      <th>4</th>\n",
       "      <td>Hiring For Data Analyst/ MIS Reporting Analyst...</td>\n",
       "      <td>PHARMACEUTICAL RESEARCH ASSOCIATES INDIA Pvt Ltd</td>\n",
       "      <td>Bangalore/Bengaluru</td>\n",
       "      <td>2-4 Yrs</td>\n",
       "    </tr>\n",
       "    <tr>\n",
       "      <th>5</th>\n",
       "      <td>Consultant-Data Analyst -Bangalore</td>\n",
       "      <td>Innovsource Services Private Limited</td>\n",
       "      <td>Bangalore/Bengaluru</td>\n",
       "      <td>2-7 Yrs</td>\n",
       "    </tr>\n",
       "    <tr>\n",
       "      <th>6</th>\n",
       "      <td>Data analyst - Google Analytics</td>\n",
       "      <td>H and M Hennes and Mauritz (P) Ltd.</td>\n",
       "      <td>Bangalore/Bengaluru</td>\n",
       "      <td>4-7 Yrs</td>\n",
       "    </tr>\n",
       "    <tr>\n",
       "      <th>7</th>\n",
       "      <td>Senior/Regular Business Analyst / Data Analyst</td>\n",
       "      <td>Luxoft</td>\n",
       "      <td>Bangalore/Bengaluru</td>\n",
       "      <td>3-6 Yrs</td>\n",
       "    </tr>\n",
       "    <tr>\n",
       "      <th>8</th>\n",
       "      <td>SW Technologist I- Data Analyst</td>\n",
       "      <td>Philips India Limited</td>\n",
       "      <td>Bangalore/Bengaluru</td>\n",
       "      <td>5-10 Yrs</td>\n",
       "    </tr>\n",
       "    <tr>\n",
       "      <th>9</th>\n",
       "      <td>Data Analyst</td>\n",
       "      <td>Flipkart Internet Private Limited</td>\n",
       "      <td>Bangalore/Bengaluru</td>\n",
       "      <td>1-3 Yrs</td>\n",
       "    </tr>\n",
       "  </tbody>\n",
       "</table>\n",
       "</div>"
      ],
      "text/plain": [
       "                                           Job Title  \\\n",
       "0    Data Scientist / Data Analyst -Business Analyst   \n",
       "1                     Data Analyst - Informatica MDM   \n",
       "2  Assistant Vice President - MIS & Reporting ( B...   \n",
       "3                                       Data Analyst   \n",
       "4  Hiring For Data Analyst/ MIS Reporting Analyst...   \n",
       "5                 Consultant-Data Analyst -Bangalore   \n",
       "6                    Data analyst - Google Analytics   \n",
       "7     Senior/Regular Business Analyst / Data Analyst   \n",
       "8                    SW Technologist I- Data Analyst   \n",
       "9                                       Data Analyst   \n",
       "\n",
       "                                        Company Name  \\\n",
       "0                 Inflexion Analytix Private Limited   \n",
       "1                Shell India Markets Private Limited   \n",
       "2  INTERTRUSTVITEOS CORPORATE AND FUND SERVICES P...   \n",
       "3                     SA Tech Software (I) Pvt. Ltd.   \n",
       "4   PHARMACEUTICAL RESEARCH ASSOCIATES INDIA Pvt Ltd   \n",
       "5               Innovsource Services Private Limited   \n",
       "6                H and M Hennes and Mauritz (P) Ltd.   \n",
       "7                                             Luxoft   \n",
       "8                              Philips India Limited   \n",
       "9                  Flipkart Internet Private Limited   \n",
       "\n",
       "                                            Location Experience_required  \n",
       "0  Mumbai, Hyderabad/Secunderabad, Pune, Gurgaon/...             0-3 Yrs  \n",
       "1                                Bangalore/Bengaluru             6-9 Yrs  \n",
       "2                        Mumbai, Bangalore/Bengaluru           12-18 Yrs  \n",
       "3  Kolkata, Pune, Chennai, Bangalore/Bengaluru, D...             1-3 Yrs  \n",
       "4                                Bangalore/Bengaluru             2-4 Yrs  \n",
       "5                                Bangalore/Bengaluru             2-7 Yrs  \n",
       "6                                Bangalore/Bengaluru             4-7 Yrs  \n",
       "7                                Bangalore/Bengaluru             3-6 Yrs  \n",
       "8                                Bangalore/Bengaluru            5-10 Yrs  \n",
       "9                                Bangalore/Bengaluru             1-3 Yrs  "
      ]
     },
     "execution_count": 20,
     "metadata": {},
     "output_type": "execute_result"
    }
   ],
   "source": [
    "#Final Dataframe\n",
    "jobs"
   ]
  },
  {
   "cell_type": "code",
   "execution_count": 21,
   "metadata": {},
   "outputs": [],
   "source": [
    "#Closing driver\n",
    "driver.close()"
   ]
  },
  {
   "cell_type": "markdown",
   "metadata": {},
   "source": [
    "*******************************************Completed***********************************************************************"
   ]
  },
  {
   "cell_type": "markdown",
   "metadata": {},
   "source": [
    "# Q2: Write a python program to scrape data for “Data Scientist” Job position in “Bangalore” location. You have to scrape the job-title, job-location, company_name, full job-description. You have to scrape first 10 jobs data.\n",
    "    \n",
    "Ans: Solution is as:-\n"
   ]
  },
  {
   "cell_type": "code",
   "execution_count": 22,
   "metadata": {},
   "outputs": [],
   "source": [
    "#Let's first connect to the web driver\n",
    "driver=webdriver.Chrome(\"chromedriver.exe\")"
   ]
  },
  {
   "cell_type": "code",
   "execution_count": 23,
   "metadata": {},
   "outputs": [],
   "source": [
    "#Opening webpage https://www.naukri.com/\n",
    "url=\"https://www.naukri.com/\"\n",
    "driver.get(url)"
   ]
  },
  {
   "cell_type": "code",
   "execution_count": 24,
   "metadata": {},
   "outputs": [
    {
     "data": {
      "text/plain": [
       "<selenium.webdriver.remote.webelement.WebElement (session=\"47d329c67ba2b6fc40dc47be02c80214\", element=\"c55b8b3e-30e7-4369-b2f4-98fece605bea\")>"
      ]
     },
     "execution_count": 24,
     "metadata": {},
     "output_type": "execute_result"
    }
   ],
   "source": [
    "#finding element for job search bar\n",
    "search_job=driver.find_element_by_id('qsb-keyword-sugg')\n",
    "search_job"
   ]
  },
  {
   "cell_type": "code",
   "execution_count": 25,
   "metadata": {},
   "outputs": [],
   "source": [
    "#Searching for Data Scientist in Search bar\n",
    "search_job.send_keys(\"Data Scientist\")"
   ]
  },
  {
   "cell_type": "code",
   "execution_count": 26,
   "metadata": {},
   "outputs": [],
   "source": [
    "#finding element for job location bar\n",
    "search_loc=driver.find_element_by_id(\"qsb-location-sugg\")\n",
    "search_loc.send_keys(\"Bangalore\")"
   ]
  },
  {
   "cell_type": "code",
   "execution_count": 27,
   "metadata": {},
   "outputs": [],
   "source": [
    "#Clicking the Search Button using Xpath function\n",
    "search_btn=driver.find_element_by_xpath(\"//button[@class='btn']\")\n",
    "search_btn.click()"
   ]
  },
  {
   "cell_type": "code",
   "execution_count": 29,
   "metadata": {},
   "outputs": [],
   "source": [
    "#Creating empty Lists so that we can store data in these lists while scraping\n",
    "job_titles=[]\n",
    "job_location=[]\n",
    "company_names=[]\n",
    "job_description=[]"
   ]
  },
  {
   "cell_type": "code",
   "execution_count": 30,
   "metadata": {},
   "outputs": [
    {
     "data": {
      "text/plain": [
       "[<selenium.webdriver.remote.webelement.WebElement (session=\"47d329c67ba2b6fc40dc47be02c80214\", element=\"c7cb638f-ef15-412b-b8c9-29fc60e57647\")>,\n",
       " <selenium.webdriver.remote.webelement.WebElement (session=\"47d329c67ba2b6fc40dc47be02c80214\", element=\"f5b63b0e-085d-40a8-911d-e64ee54a2246\")>,\n",
       " <selenium.webdriver.remote.webelement.WebElement (session=\"47d329c67ba2b6fc40dc47be02c80214\", element=\"7037716e-97c6-46ef-ad99-e14c76add391\")>,\n",
       " <selenium.webdriver.remote.webelement.WebElement (session=\"47d329c67ba2b6fc40dc47be02c80214\", element=\"fb55a7ca-dada-4684-a616-10d7780f429b\")>,\n",
       " <selenium.webdriver.remote.webelement.WebElement (session=\"47d329c67ba2b6fc40dc47be02c80214\", element=\"0189ca12-6ea3-4202-888b-3ab30482952e\")>,\n",
       " <selenium.webdriver.remote.webelement.WebElement (session=\"47d329c67ba2b6fc40dc47be02c80214\", element=\"7f6f5c49-719e-46b5-a583-5ddd09a0c24c\")>,\n",
       " <selenium.webdriver.remote.webelement.WebElement (session=\"47d329c67ba2b6fc40dc47be02c80214\", element=\"f210d5fe-0276-4fde-ac1c-263318601cd1\")>,\n",
       " <selenium.webdriver.remote.webelement.WebElement (session=\"47d329c67ba2b6fc40dc47be02c80214\", element=\"0d049359-6bb3-4d73-9a4c-5af622340e26\")>,\n",
       " <selenium.webdriver.remote.webelement.WebElement (session=\"47d329c67ba2b6fc40dc47be02c80214\", element=\"de24eea6-fd98-49f0-beb0-2e4220c0aa03\")>,\n",
       " <selenium.webdriver.remote.webelement.WebElement (session=\"47d329c67ba2b6fc40dc47be02c80214\", element=\"3f9ef165-8718-4962-904a-987e3115fbc4\")>,\n",
       " <selenium.webdriver.remote.webelement.WebElement (session=\"47d329c67ba2b6fc40dc47be02c80214\", element=\"10f3469b-d169-4559-9cbd-d5ff72604ad9\")>,\n",
       " <selenium.webdriver.remote.webelement.WebElement (session=\"47d329c67ba2b6fc40dc47be02c80214\", element=\"5ac85ad8-d4f9-4113-9f1b-35c9512d121d\")>,\n",
       " <selenium.webdriver.remote.webelement.WebElement (session=\"47d329c67ba2b6fc40dc47be02c80214\", element=\"9abb9764-0c98-40b8-8f8d-f52127e454b5\")>,\n",
       " <selenium.webdriver.remote.webelement.WebElement (session=\"47d329c67ba2b6fc40dc47be02c80214\", element=\"13d02517-a0e4-462f-bde4-ec9ce1f648be\")>,\n",
       " <selenium.webdriver.remote.webelement.WebElement (session=\"47d329c67ba2b6fc40dc47be02c80214\", element=\"2a1cb840-c490-4089-81f2-1361f7d313db\")>,\n",
       " <selenium.webdriver.remote.webelement.WebElement (session=\"47d329c67ba2b6fc40dc47be02c80214\", element=\"7eb4ae8e-967f-4f8c-b6d7-b25a71bee9d0\")>,\n",
       " <selenium.webdriver.remote.webelement.WebElement (session=\"47d329c67ba2b6fc40dc47be02c80214\", element=\"cfab7346-b248-4212-8d36-4ad0db416238\")>,\n",
       " <selenium.webdriver.remote.webelement.WebElement (session=\"47d329c67ba2b6fc40dc47be02c80214\", element=\"3b331b88-2b0c-440a-8f40-a655f0c2f03c\")>,\n",
       " <selenium.webdriver.remote.webelement.WebElement (session=\"47d329c67ba2b6fc40dc47be02c80214\", element=\"376eba26-be09-4e94-b198-3b3bca6fc31c\")>,\n",
       " <selenium.webdriver.remote.webelement.WebElement (session=\"47d329c67ba2b6fc40dc47be02c80214\", element=\"65e8b416-43db-4722-a5e8-946f68c01450\")>]"
      ]
     },
     "execution_count": 30,
     "metadata": {},
     "output_type": "execute_result"
    }
   ],
   "source": [
    "#Lets extract all the tags having job-titles\n",
    "titles_tags=driver.find_elements_by_xpath(\"//a[@class='title fw500 ellipsis']\")\n",
    "titles_tags"
   ]
  },
  {
   "cell_type": "code",
   "execution_count": 31,
   "metadata": {},
   "outputs": [
    {
     "data": {
      "text/plain": [
       "['Data Scientist / Data Analyst -Business Analyst',\n",
       " 'Data Scientist',\n",
       " 'Big Data - Data Scientist',\n",
       " 'Specialist I - Data Scientist',\n",
       " 'Data Scientist',\n",
       " 'Lead Data Scientist',\n",
       " 'Data Scientist',\n",
       " 'SDE Lead Data Scientist-L3',\n",
       " 'Computational Design Lead Data Scientist-L3',\n",
       " 'Hiring For DATA Scientist - ON Contract Basis (3-6 Months)',\n",
       " 'Senior Data Scientist',\n",
       " 'Senior Data Scientist',\n",
       " 'Sr. Data Scientist',\n",
       " 'Senior Data Scientist',\n",
       " 'Senior Data Scientist',\n",
       " 'Senior Associate/Team Lead - Data Scientist Consulting',\n",
       " 'Senior Data Scientist',\n",
       " 'Data Scientist',\n",
       " 'Sr Data Scientist, Payments',\n",
       " 'Hiring For Lead data Scientist For Bangalore location']"
      ]
     },
     "execution_count": 31,
     "metadata": {},
     "output_type": "execute_result"
    }
   ],
   "source": [
    "#extracting text inside title tags\n",
    "for i in titles_tags:\n",
    "    job_titles.append(i.text)\n",
    "job_titles"
   ]
  },
  {
   "cell_type": "code",
   "execution_count": 32,
   "metadata": {},
   "outputs": [
    {
     "data": {
      "text/plain": [
       "[<selenium.webdriver.remote.webelement.WebElement (session=\"47d329c67ba2b6fc40dc47be02c80214\", element=\"2c5e052b-571a-4174-86d4-803a4cf4095d\")>,\n",
       " <selenium.webdriver.remote.webelement.WebElement (session=\"47d329c67ba2b6fc40dc47be02c80214\", element=\"fbf35d33-f37a-4730-a259-3540d7ae4aca\")>,\n",
       " <selenium.webdriver.remote.webelement.WebElement (session=\"47d329c67ba2b6fc40dc47be02c80214\", element=\"0fbca189-5b43-4ef0-bb17-5e3b69b083f5\")>,\n",
       " <selenium.webdriver.remote.webelement.WebElement (session=\"47d329c67ba2b6fc40dc47be02c80214\", element=\"53369f42-af2f-43a3-9d2c-5b7936e6e8b1\")>,\n",
       " <selenium.webdriver.remote.webelement.WebElement (session=\"47d329c67ba2b6fc40dc47be02c80214\", element=\"9e337280-6537-44d9-8189-8d5de477c421\")>,\n",
       " <selenium.webdriver.remote.webelement.WebElement (session=\"47d329c67ba2b6fc40dc47be02c80214\", element=\"8cae462f-3cc8-473b-9275-ff3f3672795a\")>,\n",
       " <selenium.webdriver.remote.webelement.WebElement (session=\"47d329c67ba2b6fc40dc47be02c80214\", element=\"730e1c1c-eaa4-4081-a1cf-8f9f05ea7ed7\")>,\n",
       " <selenium.webdriver.remote.webelement.WebElement (session=\"47d329c67ba2b6fc40dc47be02c80214\", element=\"6e7fab97-e559-4935-8d48-2b1e1b1d4538\")>,\n",
       " <selenium.webdriver.remote.webelement.WebElement (session=\"47d329c67ba2b6fc40dc47be02c80214\", element=\"fb90ae20-4d98-444c-a1da-c51e01ea188e\")>,\n",
       " <selenium.webdriver.remote.webelement.WebElement (session=\"47d329c67ba2b6fc40dc47be02c80214\", element=\"dd4b4db9-ea2b-4846-ac45-0787e8efd094\")>,\n",
       " <selenium.webdriver.remote.webelement.WebElement (session=\"47d329c67ba2b6fc40dc47be02c80214\", element=\"5a103840-b6af-4fcc-84a0-449aae945c18\")>,\n",
       " <selenium.webdriver.remote.webelement.WebElement (session=\"47d329c67ba2b6fc40dc47be02c80214\", element=\"083d9a8b-d2a7-4478-8979-0522da9b64a4\")>,\n",
       " <selenium.webdriver.remote.webelement.WebElement (session=\"47d329c67ba2b6fc40dc47be02c80214\", element=\"5d8f7800-8084-48ff-b43b-24211c30e9a6\")>,\n",
       " <selenium.webdriver.remote.webelement.WebElement (session=\"47d329c67ba2b6fc40dc47be02c80214\", element=\"eab89da4-a2a2-43c7-a139-a1865c75d7c0\")>,\n",
       " <selenium.webdriver.remote.webelement.WebElement (session=\"47d329c67ba2b6fc40dc47be02c80214\", element=\"36889d38-a5ec-409f-a20a-64ec91aa8ab9\")>,\n",
       " <selenium.webdriver.remote.webelement.WebElement (session=\"47d329c67ba2b6fc40dc47be02c80214\", element=\"987f2f4c-d95c-478b-b4c7-04160dd5b9bd\")>,\n",
       " <selenium.webdriver.remote.webelement.WebElement (session=\"47d329c67ba2b6fc40dc47be02c80214\", element=\"42841db0-6830-40df-8a3e-6defc8fc6d7a\")>,\n",
       " <selenium.webdriver.remote.webelement.WebElement (session=\"47d329c67ba2b6fc40dc47be02c80214\", element=\"9bd6b0de-ba01-4473-95f7-309ceee7a4b5\")>,\n",
       " <selenium.webdriver.remote.webelement.WebElement (session=\"47d329c67ba2b6fc40dc47be02c80214\", element=\"4cb47e3e-1009-4ec5-92c6-03576bdb13af\")>,\n",
       " <selenium.webdriver.remote.webelement.WebElement (session=\"47d329c67ba2b6fc40dc47be02c80214\", element=\"4486aae0-a307-44ae-bb13-cb6d1bb10404\")>]"
      ]
     },
     "execution_count": 32,
     "metadata": {},
     "output_type": "execute_result"
    }
   ],
   "source": [
    "#Extracting all the tags having location info\n",
    "locations_tags=driver.find_elements_by_xpath(\"//li[@class='fleft grey-text br2 placeHolderLi location']/span\")\n",
    "locations_tags"
   ]
  },
  {
   "cell_type": "code",
   "execution_count": 33,
   "metadata": {},
   "outputs": [
    {
     "data": {
      "text/plain": [
       "['Mumbai, Hyderabad/Secunderabad, Pune, Gurgaon/Gurugram, Chennai, Bangalore/Bengaluru',\n",
       " 'Kolkata, Hyderabad/Secunderabad, Chennai, Bangalore/Bengaluru',\n",
       " 'Kochi/Cochin, Indore, Hyderabad/Secunderabad, Pune, Ahmedabad, Bangalore/Bengaluru, Mumbai (All Areas)',\n",
       " 'Bangalore/Bengaluru',\n",
       " 'Bangalore/Bengaluru',\n",
       " 'Bangalore/Bengaluru',\n",
       " 'Bangalore/Bengaluru',\n",
       " 'Bangalore/Bengaluru',\n",
       " 'Bangalore/Bengaluru',\n",
       " 'Hyderabad/Secunderabad, Bangalore/Bengaluru, Mumbai (All Areas)',\n",
       " 'Bangalore/Bengaluru',\n",
       " 'Bangalore/Bengaluru',\n",
       " 'Bangalore/Bengaluru, Delhi / NCR',\n",
       " 'Bangalore/Bengaluru',\n",
       " 'Bangalore/Bengaluru',\n",
       " 'Bangalore/Bengaluru',\n",
       " 'Bangalore/Bengaluru',\n",
       " 'Bangalore/Bengaluru',\n",
       " 'Bangalore/Bengaluru',\n",
       " 'Bangalore/Bengaluru']"
      ]
     },
     "execution_count": 33,
     "metadata": {},
     "output_type": "execute_result"
    }
   ],
   "source": [
    "#extracting text inside Location tags\n",
    "for i in locations_tags:\n",
    "    job_location.append(i.text)\n",
    "job_location"
   ]
  },
  {
   "cell_type": "code",
   "execution_count": 34,
   "metadata": {},
   "outputs": [
    {
     "data": {
      "text/plain": [
       "[<selenium.webdriver.remote.webelement.WebElement (session=\"47d329c67ba2b6fc40dc47be02c80214\", element=\"6c1e8114-27f2-4dce-98f7-9f734cfa26c9\")>,\n",
       " <selenium.webdriver.remote.webelement.WebElement (session=\"47d329c67ba2b6fc40dc47be02c80214\", element=\"72d4ded4-616b-49f2-83a0-21f6b654d336\")>,\n",
       " <selenium.webdriver.remote.webelement.WebElement (session=\"47d329c67ba2b6fc40dc47be02c80214\", element=\"dd09033f-1d10-4666-b4df-ef52000b4fed\")>,\n",
       " <selenium.webdriver.remote.webelement.WebElement (session=\"47d329c67ba2b6fc40dc47be02c80214\", element=\"c24ee39a-2aee-42b4-be90-f524700f6b32\")>,\n",
       " <selenium.webdriver.remote.webelement.WebElement (session=\"47d329c67ba2b6fc40dc47be02c80214\", element=\"b74d590e-7f38-4778-80e6-5271066b16f0\")>,\n",
       " <selenium.webdriver.remote.webelement.WebElement (session=\"47d329c67ba2b6fc40dc47be02c80214\", element=\"e98f6a88-1676-4852-9eab-dd78afdd91cd\")>,\n",
       " <selenium.webdriver.remote.webelement.WebElement (session=\"47d329c67ba2b6fc40dc47be02c80214\", element=\"483110c6-4d8f-4519-8484-bf0db88d4f62\")>,\n",
       " <selenium.webdriver.remote.webelement.WebElement (session=\"47d329c67ba2b6fc40dc47be02c80214\", element=\"b6675001-bd8b-419d-b412-71cc193a44e7\")>,\n",
       " <selenium.webdriver.remote.webelement.WebElement (session=\"47d329c67ba2b6fc40dc47be02c80214\", element=\"6dc4642a-f767-4ac0-b012-5561683fa64d\")>,\n",
       " <selenium.webdriver.remote.webelement.WebElement (session=\"47d329c67ba2b6fc40dc47be02c80214\", element=\"c9ab06d4-8323-4ed6-8ba1-4f25392efd5e\")>,\n",
       " <selenium.webdriver.remote.webelement.WebElement (session=\"47d329c67ba2b6fc40dc47be02c80214\", element=\"3553f95a-5e58-4f13-adcc-c859895da874\")>,\n",
       " <selenium.webdriver.remote.webelement.WebElement (session=\"47d329c67ba2b6fc40dc47be02c80214\", element=\"a7ebdf0e-abc6-4f6d-966e-404dc9416305\")>,\n",
       " <selenium.webdriver.remote.webelement.WebElement (session=\"47d329c67ba2b6fc40dc47be02c80214\", element=\"fda2065e-e3e2-4275-8888-2f84752bf9dc\")>,\n",
       " <selenium.webdriver.remote.webelement.WebElement (session=\"47d329c67ba2b6fc40dc47be02c80214\", element=\"ef1da667-963e-4294-b012-86793e95a0bc\")>,\n",
       " <selenium.webdriver.remote.webelement.WebElement (session=\"47d329c67ba2b6fc40dc47be02c80214\", element=\"6d18c601-c6bf-4e12-9f51-ca3a3388ae3f\")>,\n",
       " <selenium.webdriver.remote.webelement.WebElement (session=\"47d329c67ba2b6fc40dc47be02c80214\", element=\"68bcb0d9-e7bd-44b9-9266-5f318052eadf\")>,\n",
       " <selenium.webdriver.remote.webelement.WebElement (session=\"47d329c67ba2b6fc40dc47be02c80214\", element=\"61c84c99-12b1-44ea-b531-6faf7a1e1743\")>,\n",
       " <selenium.webdriver.remote.webelement.WebElement (session=\"47d329c67ba2b6fc40dc47be02c80214\", element=\"89b9ef31-9ff3-472d-b3e6-e38c7d60f895\")>,\n",
       " <selenium.webdriver.remote.webelement.WebElement (session=\"47d329c67ba2b6fc40dc47be02c80214\", element=\"13058c18-63bd-41fc-b032-f31b39bbc6c1\")>,\n",
       " <selenium.webdriver.remote.webelement.WebElement (session=\"47d329c67ba2b6fc40dc47be02c80214\", element=\"4f724bea-19e5-469a-b8ea-8f012f4c27b8\")>]"
      ]
     },
     "execution_count": 34,
     "metadata": {},
     "output_type": "execute_result"
    }
   ],
   "source": [
    "#Extracting all the tags having company names\n",
    "companies_tags=driver.find_elements_by_xpath(\"//a[@class='subTitle ellipsis fleft']\")\n",
    "companies_tags"
   ]
  },
  {
   "cell_type": "code",
   "execution_count": 35,
   "metadata": {},
   "outputs": [
    {
     "data": {
      "text/plain": [
       "['Inflexion Analytix Private Limited',\n",
       " 'Wipro Limited',\n",
       " 'Xoriant Solutions Pvt Ltd',\n",
       " 'Philips India Limited',\n",
       " 'IBM India Pvt. Limited',\n",
       " 'Intel Technology India Pvt Ltd',\n",
       " 'Oracle India Pvt. Ltd.',\n",
       " 'Huawei Technologies India Pvt Ltd',\n",
       " 'Huawei Technologies India Pvt Ltd',\n",
       " 'GlobalEdx Learning and Technology Solution Pvt Ltd',\n",
       " 'GO-JEK India',\n",
       " 'nanobi data and analytics private limited',\n",
       " 'VALIANCE ANALYTICS PRIVATE LIMITED',\n",
       " 'BankBazaar.com (A&A DUKAAN FINANCIAL SERVICES PVT. LTD)',\n",
       " 'Kwalee',\n",
       " 'Analytics India Magazine',\n",
       " 'Gojek Tech',\n",
       " 'Applied Materials',\n",
       " 'AIRBNB GLOBAL CAPABILITY CENTER PRIVATE LIMITED',\n",
       " 'Societe Generale']"
      ]
     },
     "execution_count": 35,
     "metadata": {},
     "output_type": "execute_result"
    }
   ],
   "source": [
    "#extracting text inside company tags\n",
    "for i in companies_tags:\n",
    "    company_names.append(i.text)\n",
    "company_names"
   ]
  },
  {
   "cell_type": "code",
   "execution_count": 36,
   "metadata": {},
   "outputs": [
    {
     "data": {
      "text/plain": [
       "[<selenium.webdriver.remote.webelement.WebElement (session=\"47d329c67ba2b6fc40dc47be02c80214\", element=\"71b4342a-8b06-46f4-b4a6-75001ded7603\")>,\n",
       " <selenium.webdriver.remote.webelement.WebElement (session=\"47d329c67ba2b6fc40dc47be02c80214\", element=\"12a6fdbe-6a35-4038-b71d-637e50ae1e26\")>,\n",
       " <selenium.webdriver.remote.webelement.WebElement (session=\"47d329c67ba2b6fc40dc47be02c80214\", element=\"882c4386-4c5f-4180-84b8-bed0edfd688c\")>,\n",
       " <selenium.webdriver.remote.webelement.WebElement (session=\"47d329c67ba2b6fc40dc47be02c80214\", element=\"0be32c44-c2ed-4b9f-823e-e2da76ccf125\")>,\n",
       " <selenium.webdriver.remote.webelement.WebElement (session=\"47d329c67ba2b6fc40dc47be02c80214\", element=\"99fcd12d-c7eb-43f9-851d-cf4e0ca65bbf\")>,\n",
       " <selenium.webdriver.remote.webelement.WebElement (session=\"47d329c67ba2b6fc40dc47be02c80214\", element=\"537774e2-42bf-4f7b-a28a-f733f8adf863\")>,\n",
       " <selenium.webdriver.remote.webelement.WebElement (session=\"47d329c67ba2b6fc40dc47be02c80214\", element=\"1348394a-f32b-4263-9fcc-29fce9256f2f\")>,\n",
       " <selenium.webdriver.remote.webelement.WebElement (session=\"47d329c67ba2b6fc40dc47be02c80214\", element=\"f7a6d9ee-f0ce-4d8d-bc7c-d7edeb36c895\")>,\n",
       " <selenium.webdriver.remote.webelement.WebElement (session=\"47d329c67ba2b6fc40dc47be02c80214\", element=\"3d77f53e-b638-4039-881b-861435e8ae32\")>,\n",
       " <selenium.webdriver.remote.webelement.WebElement (session=\"47d329c67ba2b6fc40dc47be02c80214\", element=\"504d21f1-293e-46d1-b1f6-ca2e35dee48a\")>,\n",
       " <selenium.webdriver.remote.webelement.WebElement (session=\"47d329c67ba2b6fc40dc47be02c80214\", element=\"3c772b11-4099-43d6-adc7-81d39bb82a1a\")>,\n",
       " <selenium.webdriver.remote.webelement.WebElement (session=\"47d329c67ba2b6fc40dc47be02c80214\", element=\"f37aed46-c505-4df3-ba82-191897717cb9\")>,\n",
       " <selenium.webdriver.remote.webelement.WebElement (session=\"47d329c67ba2b6fc40dc47be02c80214\", element=\"6cb847b6-e4ac-4af0-b366-3d9aba814e09\")>,\n",
       " <selenium.webdriver.remote.webelement.WebElement (session=\"47d329c67ba2b6fc40dc47be02c80214\", element=\"8007f017-60a1-4122-8c69-877811e18887\")>,\n",
       " <selenium.webdriver.remote.webelement.WebElement (session=\"47d329c67ba2b6fc40dc47be02c80214\", element=\"6c8eb394-d571-4996-8369-bdb88beca4e7\")>,\n",
       " <selenium.webdriver.remote.webelement.WebElement (session=\"47d329c67ba2b6fc40dc47be02c80214\", element=\"05ddc1de-25fd-44ad-b5b0-ba6e0f022cfe\")>,\n",
       " <selenium.webdriver.remote.webelement.WebElement (session=\"47d329c67ba2b6fc40dc47be02c80214\", element=\"079ab3a2-95f8-4373-a311-878183ad4b2b\")>,\n",
       " <selenium.webdriver.remote.webelement.WebElement (session=\"47d329c67ba2b6fc40dc47be02c80214\", element=\"96898013-c2f8-407b-91eb-67c35ae804a0\")>,\n",
       " <selenium.webdriver.remote.webelement.WebElement (session=\"47d329c67ba2b6fc40dc47be02c80214\", element=\"f07e0583-97ee-43e2-af74-1c4ec344a3f0\")>,\n",
       " <selenium.webdriver.remote.webelement.WebElement (session=\"47d329c67ba2b6fc40dc47be02c80214\", element=\"338039b0-dff4-4be7-b2ad-ebea8de2ab91\")>]"
      ]
     },
     "execution_count": 36,
     "metadata": {},
     "output_type": "execute_result"
    }
   ],
   "source": [
    "#Extracting all the tags having full job description\n",
    "fjd_tags = driver.find_elements_by_xpath(\"//div[@class='job-description fs12 grey-text']\")\n",
    "fjd_tags"
   ]
  },
  {
   "cell_type": "code",
   "execution_count": 37,
   "metadata": {},
   "outputs": [
    {
     "data": {
      "text/plain": [
       "['Applications invited from all Freshers and experienced candidates (0-3 yrs) aspiring to...',\n",
       " 'Good statistical analysis skills for data pre-processing and data wrangling Experience ...',\n",
       " 'High motivation, good work ethic and maturityMinimum 1-3 yrs of proven project experien...',\n",
       " 'Responsibilities and Key Result Areas Design and develop project prototypes and solutio...',\n",
       " 'modeling and business system design with experience in relational SQL and NoSQL databas...',\n",
       " 'Experience in using data analysis techniques and ML methods like classification, regres...',\n",
       " 'Roles and Responsibilities Looking for 6+ yrs of experience in data science, predictive...',\n",
       " 'Strong hands-on experience in implementing and validating big data algorithms and model...',\n",
       " 'Business & Team overview:Founded in 1987, Huawei is a leading global provider of ICT (i...',\n",
       " 'Experience : 3+ Years',\n",
       " 'About the Role Fasten your helmet and climb on board if youre ready to be our Senior Da...',\n",
       " 'These will be across industries and functions and must be designed generically to handl...',\n",
       " 'Programming Language: Python / SQL (Must)',\n",
       " 'Preferable to have Masters in a numerate subject such as Mathematics, Operational Resea...',\n",
       " 'Experience with AWS - Redshift, EC2, Lambda 5+Years experience using Python for data an...',\n",
       " 'We should also let you know we put a premium on a few personality traits: - You are a p...',\n",
       " 'What You Will Do Build machine learning models that generate or foster answers to some ...',\n",
       " 'Education: Bachelors Degree analyzes possible solutions using technical experience and ...',\n",
       " '4+ years industry experience in a quantitative analysis roleExperience in Payments a st...',\n",
       " 'We are hiring for Lead data Scientist for Bangalore location Skills and QualificationsB...']"
      ]
     },
     "execution_count": 37,
     "metadata": {},
     "output_type": "execute_result"
    }
   ],
   "source": [
    "#extracting text inside fjd(full job description) tags\n",
    "for i in fjd_tags:\n",
    "    job_description.append(i.text)\n",
    "job_description"
   ]
  },
  {
   "cell_type": "code",
   "execution_count": 38,
   "metadata": {},
   "outputs": [
    {
     "data": {
      "text/html": [
       "<div>\n",
       "<style scoped>\n",
       "    .dataframe tbody tr th:only-of-type {\n",
       "        vertical-align: middle;\n",
       "    }\n",
       "\n",
       "    .dataframe tbody tr th {\n",
       "        vertical-align: top;\n",
       "    }\n",
       "\n",
       "    .dataframe thead th {\n",
       "        text-align: right;\n",
       "    }\n",
       "</style>\n",
       "<table border=\"1\" class=\"dataframe\">\n",
       "  <thead>\n",
       "    <tr style=\"text-align: right;\">\n",
       "      <th></th>\n",
       "      <th>Job Title</th>\n",
       "      <th>Job Location</th>\n",
       "      <th>Company Name</th>\n",
       "      <th>Full Job Description</th>\n",
       "    </tr>\n",
       "  </thead>\n",
       "  <tbody>\n",
       "    <tr>\n",
       "      <th>0</th>\n",
       "      <td>Data Scientist / Data Analyst -Business Analyst</td>\n",
       "      <td>Mumbai, Hyderabad/Secunderabad, Pune, Gurgaon/...</td>\n",
       "      <td>Inflexion Analytix Private Limited</td>\n",
       "      <td>Applications invited from all Freshers and exp...</td>\n",
       "    </tr>\n",
       "    <tr>\n",
       "      <th>1</th>\n",
       "      <td>Data Scientist</td>\n",
       "      <td>Kolkata, Hyderabad/Secunderabad, Chennai, Bang...</td>\n",
       "      <td>Wipro Limited</td>\n",
       "      <td>Good statistical analysis skills for data pre-...</td>\n",
       "    </tr>\n",
       "    <tr>\n",
       "      <th>2</th>\n",
       "      <td>Big Data - Data Scientist</td>\n",
       "      <td>Kochi/Cochin, Indore, Hyderabad/Secunderabad, ...</td>\n",
       "      <td>Xoriant Solutions Pvt Ltd</td>\n",
       "      <td>High motivation, good work ethic and maturityM...</td>\n",
       "    </tr>\n",
       "    <tr>\n",
       "      <th>3</th>\n",
       "      <td>Specialist I - Data Scientist</td>\n",
       "      <td>Bangalore/Bengaluru</td>\n",
       "      <td>Philips India Limited</td>\n",
       "      <td>Responsibilities and Key Result Areas Design a...</td>\n",
       "    </tr>\n",
       "    <tr>\n",
       "      <th>4</th>\n",
       "      <td>Data Scientist</td>\n",
       "      <td>Bangalore/Bengaluru</td>\n",
       "      <td>IBM India Pvt. Limited</td>\n",
       "      <td>modeling and business system design with exper...</td>\n",
       "    </tr>\n",
       "    <tr>\n",
       "      <th>5</th>\n",
       "      <td>Lead Data Scientist</td>\n",
       "      <td>Bangalore/Bengaluru</td>\n",
       "      <td>Intel Technology India Pvt Ltd</td>\n",
       "      <td>Experience in using data analysis techniques a...</td>\n",
       "    </tr>\n",
       "    <tr>\n",
       "      <th>6</th>\n",
       "      <td>Data Scientist</td>\n",
       "      <td>Bangalore/Bengaluru</td>\n",
       "      <td>Oracle India Pvt. Ltd.</td>\n",
       "      <td>Roles and Responsibilities Looking for 6+ yrs ...</td>\n",
       "    </tr>\n",
       "    <tr>\n",
       "      <th>7</th>\n",
       "      <td>SDE Lead Data Scientist-L3</td>\n",
       "      <td>Bangalore/Bengaluru</td>\n",
       "      <td>Huawei Technologies India Pvt Ltd</td>\n",
       "      <td>Strong hands-on experience in implementing and...</td>\n",
       "    </tr>\n",
       "    <tr>\n",
       "      <th>8</th>\n",
       "      <td>Computational Design Lead Data Scientist-L3</td>\n",
       "      <td>Bangalore/Bengaluru</td>\n",
       "      <td>Huawei Technologies India Pvt Ltd</td>\n",
       "      <td>Business &amp; Team overview:Founded in 1987, Huaw...</td>\n",
       "    </tr>\n",
       "    <tr>\n",
       "      <th>9</th>\n",
       "      <td>Hiring For DATA Scientist - ON Contract Basis ...</td>\n",
       "      <td>Hyderabad/Secunderabad, Bangalore/Bengaluru, M...</td>\n",
       "      <td>GlobalEdx Learning and Technology Solution Pvt...</td>\n",
       "      <td>Experience : 3+ Years</td>\n",
       "    </tr>\n",
       "  </tbody>\n",
       "</table>\n",
       "</div>"
      ],
      "text/plain": [
       "                                           Job Title  \\\n",
       "0    Data Scientist / Data Analyst -Business Analyst   \n",
       "1                                     Data Scientist   \n",
       "2                          Big Data - Data Scientist   \n",
       "3                      Specialist I - Data Scientist   \n",
       "4                                     Data Scientist   \n",
       "5                                Lead Data Scientist   \n",
       "6                                     Data Scientist   \n",
       "7                         SDE Lead Data Scientist-L3   \n",
       "8        Computational Design Lead Data Scientist-L3   \n",
       "9  Hiring For DATA Scientist - ON Contract Basis ...   \n",
       "\n",
       "                                        Job Location  \\\n",
       "0  Mumbai, Hyderabad/Secunderabad, Pune, Gurgaon/...   \n",
       "1  Kolkata, Hyderabad/Secunderabad, Chennai, Bang...   \n",
       "2  Kochi/Cochin, Indore, Hyderabad/Secunderabad, ...   \n",
       "3                                Bangalore/Bengaluru   \n",
       "4                                Bangalore/Bengaluru   \n",
       "5                                Bangalore/Bengaluru   \n",
       "6                                Bangalore/Bengaluru   \n",
       "7                                Bangalore/Bengaluru   \n",
       "8                                Bangalore/Bengaluru   \n",
       "9  Hyderabad/Secunderabad, Bangalore/Bengaluru, M...   \n",
       "\n",
       "                                        Company Name  \\\n",
       "0                 Inflexion Analytix Private Limited   \n",
       "1                                      Wipro Limited   \n",
       "2                          Xoriant Solutions Pvt Ltd   \n",
       "3                              Philips India Limited   \n",
       "4                             IBM India Pvt. Limited   \n",
       "5                     Intel Technology India Pvt Ltd   \n",
       "6                             Oracle India Pvt. Ltd.   \n",
       "7                  Huawei Technologies India Pvt Ltd   \n",
       "8                  Huawei Technologies India Pvt Ltd   \n",
       "9  GlobalEdx Learning and Technology Solution Pvt...   \n",
       "\n",
       "                                Full Job Description  \n",
       "0  Applications invited from all Freshers and exp...  \n",
       "1  Good statistical analysis skills for data pre-...  \n",
       "2  High motivation, good work ethic and maturityM...  \n",
       "3  Responsibilities and Key Result Areas Design a...  \n",
       "4  modeling and business system design with exper...  \n",
       "5  Experience in using data analysis techniques a...  \n",
       "6  Roles and Responsibilities Looking for 6+ yrs ...  \n",
       "7  Strong hands-on experience in implementing and...  \n",
       "8  Business & Team overview:Founded in 1987, Huaw...  \n",
       "9                              Experience : 3+ Years  "
      ]
     },
     "execution_count": 38,
     "metadata": {},
     "output_type": "execute_result"
    }
   ],
   "source": [
    "#Saving our answer in a DataFrame using Pandas\n",
    "jobds=pd.DataFrame({})\n",
    "jobds['Job Title']=job_titles[0:10]\n",
    "jobds['Job Location']=job_location[0:10]\n",
    "jobds['Company Name']=company_names[0:10]\n",
    "jobds['Full Job Description']=job_description[0:10]\n",
    "jobds"
   ]
  },
  {
   "cell_type": "code",
   "execution_count": 39,
   "metadata": {},
   "outputs": [],
   "source": [
    "#Closing driver\n",
    "driver.close()"
   ]
  },
  {
   "cell_type": "markdown",
   "metadata": {},
   "source": [
    "*******************************************Completed***********************************************************************"
   ]
  },
  {
   "cell_type": "markdown",
   "metadata": {},
   "source": [
    "# Q3: In this question you have to scrape data using the filters available on the webpage as shown below:\n",
    "    You have to use the location and salary filter.\n",
    "    You have to scrape data for “Data Scientist” designation for first 10 job results.\n",
    "    You have to scrape the job-title, job-location, company_name, experience_required.\n",
    "    The location filter to be used is “Delhi/NCR”.\n",
    "    The salary filter to be used is “3-6” lakhs.\n",
    "    \n",
    "Ans: Solution is as:-"
   ]
  },
  {
   "cell_type": "code",
   "execution_count": 40,
   "metadata": {},
   "outputs": [],
   "source": [
    "#Let's first connect to the web driver\n",
    "driver=webdriver.Chrome(\"chromedriver.exe\")"
   ]
  },
  {
   "cell_type": "code",
   "execution_count": 41,
   "metadata": {},
   "outputs": [],
   "source": [
    "#Opening webpage https://www.naukri.com/\n",
    "url=\"https://www.naukri.com/\"\n",
    "driver.get(url)"
   ]
  },
  {
   "cell_type": "code",
   "execution_count": 42,
   "metadata": {},
   "outputs": [
    {
     "data": {
      "text/plain": [
       "<selenium.webdriver.remote.webelement.WebElement (session=\"4d6534ebf4c50bd08944ccf25b7bc52e\", element=\"a8e3d592-ffc5-4939-a08b-11661dc0628c\")>"
      ]
     },
     "execution_count": 42,
     "metadata": {},
     "output_type": "execute_result"
    }
   ],
   "source": [
    "#finding element for job search bar\n",
    "search_job=driver.find_element_by_id('qsb-keyword-sugg')\n",
    "search_job"
   ]
  },
  {
   "cell_type": "code",
   "execution_count": 43,
   "metadata": {},
   "outputs": [],
   "source": [
    "#Searching for Data Scientist in Search bar\n",
    "search_job.send_keys(\"Data Scientist\")"
   ]
  },
  {
   "cell_type": "code",
   "execution_count": 44,
   "metadata": {},
   "outputs": [],
   "source": [
    "#finding element for job location bar\n",
    "search_loc=driver.find_element_by_id(\"qsb-location-sugg\")\n",
    "search_loc.send_keys(\"Delhi/NCR\")"
   ]
  },
  {
   "cell_type": "code",
   "execution_count": 45,
   "metadata": {},
   "outputs": [],
   "source": [
    "#Clicking the Search Button using Xpath function\n",
    "search_btn=driver.find_element_by_xpath(\"//button[@class='btn']\")\n",
    "search_btn.click()"
   ]
  },
  {
   "cell_type": "code",
   "execution_count": 46,
   "metadata": {},
   "outputs": [],
   "source": [
    "#Creating empty Lists so that we can store data in these lists while scraping\n",
    "job_titles=[]\n",
    "job_location=[]\n",
    "company_names=[]\n",
    "experience_list=[]"
   ]
  },
  {
   "cell_type": "code",
   "execution_count": 47,
   "metadata": {},
   "outputs": [
    {
     "data": {
      "text/plain": [
       "[<selenium.webdriver.remote.webelement.WebElement (session=\"4d6534ebf4c50bd08944ccf25b7bc52e\", element=\"39f6b78a-0d3d-4e81-89cc-ae7db281cf91\")>,\n",
       " <selenium.webdriver.remote.webelement.WebElement (session=\"4d6534ebf4c50bd08944ccf25b7bc52e\", element=\"ce585c44-192d-4f5b-8dbf-3f7e6dedf605\")>,\n",
       " <selenium.webdriver.remote.webelement.WebElement (session=\"4d6534ebf4c50bd08944ccf25b7bc52e\", element=\"ae70b46a-8575-42af-bbec-7b6341d617a1\")>,\n",
       " <selenium.webdriver.remote.webelement.WebElement (session=\"4d6534ebf4c50bd08944ccf25b7bc52e\", element=\"5c659381-b3e6-4747-91f1-983ea58725f6\")>,\n",
       " <selenium.webdriver.remote.webelement.WebElement (session=\"4d6534ebf4c50bd08944ccf25b7bc52e\", element=\"95a1e8f7-3bd3-4c3e-90ac-1ae203c21dfc\")>,\n",
       " <selenium.webdriver.remote.webelement.WebElement (session=\"4d6534ebf4c50bd08944ccf25b7bc52e\", element=\"43753684-7862-4d57-bba9-f4bf08ce1101\")>,\n",
       " <selenium.webdriver.remote.webelement.WebElement (session=\"4d6534ebf4c50bd08944ccf25b7bc52e\", element=\"bfbfc3a1-6724-4ed0-86c4-ad5e989d0781\")>,\n",
       " <selenium.webdriver.remote.webelement.WebElement (session=\"4d6534ebf4c50bd08944ccf25b7bc52e\", element=\"04435147-1b52-42cd-be29-ce4454a404b0\")>,\n",
       " <selenium.webdriver.remote.webelement.WebElement (session=\"4d6534ebf4c50bd08944ccf25b7bc52e\", element=\"9bcd54cf-83d6-43ff-b491-469053518f84\")>,\n",
       " <selenium.webdriver.remote.webelement.WebElement (session=\"4d6534ebf4c50bd08944ccf25b7bc52e\", element=\"aaf39c9e-6101-473e-a11e-38913b588d7f\")>,\n",
       " <selenium.webdriver.remote.webelement.WebElement (session=\"4d6534ebf4c50bd08944ccf25b7bc52e\", element=\"e2ce305f-3a55-4ae9-8440-95f65775ca1c\")>,\n",
       " <selenium.webdriver.remote.webelement.WebElement (session=\"4d6534ebf4c50bd08944ccf25b7bc52e\", element=\"b1722133-1957-4699-a034-05628908c474\")>,\n",
       " <selenium.webdriver.remote.webelement.WebElement (session=\"4d6534ebf4c50bd08944ccf25b7bc52e\", element=\"100f02f6-f3be-4e9c-950e-7692758b1435\")>,\n",
       " <selenium.webdriver.remote.webelement.WebElement (session=\"4d6534ebf4c50bd08944ccf25b7bc52e\", element=\"7e08c0da-f8ac-4d74-91d1-afcd111d5051\")>,\n",
       " <selenium.webdriver.remote.webelement.WebElement (session=\"4d6534ebf4c50bd08944ccf25b7bc52e\", element=\"b43ae2f2-541e-471b-b502-6134ecdd4638\")>,\n",
       " <selenium.webdriver.remote.webelement.WebElement (session=\"4d6534ebf4c50bd08944ccf25b7bc52e\", element=\"6c9cc1b2-d7db-4ca4-b302-49a8cabeb961\")>,\n",
       " <selenium.webdriver.remote.webelement.WebElement (session=\"4d6534ebf4c50bd08944ccf25b7bc52e\", element=\"92193624-d108-4076-b920-022afe98b123\")>,\n",
       " <selenium.webdriver.remote.webelement.WebElement (session=\"4d6534ebf4c50bd08944ccf25b7bc52e\", element=\"06018a1f-1660-4b70-8c17-459032a94615\")>,\n",
       " <selenium.webdriver.remote.webelement.WebElement (session=\"4d6534ebf4c50bd08944ccf25b7bc52e\", element=\"419a5d1b-7e99-493e-a20b-1fd907206eac\")>,\n",
       " <selenium.webdriver.remote.webelement.WebElement (session=\"4d6534ebf4c50bd08944ccf25b7bc52e\", element=\"8dc69b43-8363-4a90-a218-0fb11b6cfd1d\")>]"
      ]
     },
     "execution_count": 47,
     "metadata": {},
     "output_type": "execute_result"
    }
   ],
   "source": [
    "#Lets extract all the tags having job-titles\n",
    "titles_tags=driver.find_elements_by_xpath(\"//a[@class='title fw500 ellipsis']\")\n",
    "titles_tags"
   ]
  },
  {
   "cell_type": "code",
   "execution_count": 48,
   "metadata": {},
   "outputs": [
    {
     "data": {
      "text/plain": [
       "['Consultant II/ Sr Consultant SAS Analytics Banking Domain ISI/IIT/JNU',\n",
       " 'Social Media Specialist - eCommerce',\n",
       " 'Senior Software Developer',\n",
       " 'UI Designer HTML/CSS/SCSS/SASS - Remote',\n",
       " 'SEO Expert',\n",
       " 'Software Application Developer',\n",
       " 'Technical Manager/Sales Engineer',\n",
       " 'WordPress/PHP developer',\n",
       " 'Search Engine Optimization Expert',\n",
       " 'HTML Expert / WEB Designer',\n",
       " 'Photoshop Designers',\n",
       " 'Social Media Strategist',\n",
       " 'Counsellor',\n",
       " 'Program Manager',\n",
       " 'Open Source Developer (PHP/MYSQL/WORDPRESS)',\n",
       " 'SEO Executive',\n",
       " 'Business Development Executive',\n",
       " 'PHP Developer',\n",
       " 'Content Writer',\n",
       " 'Content Writer']"
      ]
     },
     "execution_count": 48,
     "metadata": {},
     "output_type": "execute_result"
    }
   ],
   "source": [
    "#extracting text inside title tags\n",
    "for i in titles_tags:\n",
    "    job_titles.append(i.text)\n",
    "job_titles"
   ]
  },
  {
   "cell_type": "code",
   "execution_count": 49,
   "metadata": {},
   "outputs": [
    {
     "data": {
      "text/plain": [
       "[<selenium.webdriver.remote.webelement.WebElement (session=\"4d6534ebf4c50bd08944ccf25b7bc52e\", element=\"d52e59d6-c3b6-444d-8e82-b1969a084607\")>,\n",
       " <selenium.webdriver.remote.webelement.WebElement (session=\"4d6534ebf4c50bd08944ccf25b7bc52e\", element=\"8edc4729-b31e-43ff-981b-34457c23aede\")>,\n",
       " <selenium.webdriver.remote.webelement.WebElement (session=\"4d6534ebf4c50bd08944ccf25b7bc52e\", element=\"9f97da9b-e4ab-4031-bf7b-5f1e3188598b\")>,\n",
       " <selenium.webdriver.remote.webelement.WebElement (session=\"4d6534ebf4c50bd08944ccf25b7bc52e\", element=\"b1e8a6ff-d41d-4ab0-a089-6068323572e8\")>,\n",
       " <selenium.webdriver.remote.webelement.WebElement (session=\"4d6534ebf4c50bd08944ccf25b7bc52e\", element=\"cca961c3-43e3-4e73-b8c6-ba77a1e33a27\")>,\n",
       " <selenium.webdriver.remote.webelement.WebElement (session=\"4d6534ebf4c50bd08944ccf25b7bc52e\", element=\"b210776e-d6e0-49a6-9ee8-acff660f1c79\")>,\n",
       " <selenium.webdriver.remote.webelement.WebElement (session=\"4d6534ebf4c50bd08944ccf25b7bc52e\", element=\"b6d98fba-f237-4c0b-bea4-2707f3b74637\")>,\n",
       " <selenium.webdriver.remote.webelement.WebElement (session=\"4d6534ebf4c50bd08944ccf25b7bc52e\", element=\"f29a1214-bbe9-4f13-a7cd-6e3185d1ad18\")>,\n",
       " <selenium.webdriver.remote.webelement.WebElement (session=\"4d6534ebf4c50bd08944ccf25b7bc52e\", element=\"c97f67a4-88b8-42d9-90aa-015b90bc665f\")>,\n",
       " <selenium.webdriver.remote.webelement.WebElement (session=\"4d6534ebf4c50bd08944ccf25b7bc52e\", element=\"9d46cfae-7514-4073-8524-fed45f4d98d0\")>,\n",
       " <selenium.webdriver.remote.webelement.WebElement (session=\"4d6534ebf4c50bd08944ccf25b7bc52e\", element=\"eaa0145b-e041-4ce7-be01-f4f09f66f1f5\")>,\n",
       " <selenium.webdriver.remote.webelement.WebElement (session=\"4d6534ebf4c50bd08944ccf25b7bc52e\", element=\"65b48c8f-c487-4418-8744-df7a5a5b0b78\")>,\n",
       " <selenium.webdriver.remote.webelement.WebElement (session=\"4d6534ebf4c50bd08944ccf25b7bc52e\", element=\"bc079a05-c666-45c0-b693-57aca72e135a\")>,\n",
       " <selenium.webdriver.remote.webelement.WebElement (session=\"4d6534ebf4c50bd08944ccf25b7bc52e\", element=\"17478b3b-300b-426c-ad3e-d1c3ffe04035\")>,\n",
       " <selenium.webdriver.remote.webelement.WebElement (session=\"4d6534ebf4c50bd08944ccf25b7bc52e\", element=\"2ba82c93-34ff-4e12-a088-03a5dc0d833f\")>,\n",
       " <selenium.webdriver.remote.webelement.WebElement (session=\"4d6534ebf4c50bd08944ccf25b7bc52e\", element=\"e5748068-c76e-40d6-b222-cebfda03a549\")>,\n",
       " <selenium.webdriver.remote.webelement.WebElement (session=\"4d6534ebf4c50bd08944ccf25b7bc52e\", element=\"2a3221fd-fde1-4f96-b2e8-5b924cc3d187\")>,\n",
       " <selenium.webdriver.remote.webelement.WebElement (session=\"4d6534ebf4c50bd08944ccf25b7bc52e\", element=\"2c3edbdd-5cf7-49cc-8527-8985f35df033\")>,\n",
       " <selenium.webdriver.remote.webelement.WebElement (session=\"4d6534ebf4c50bd08944ccf25b7bc52e\", element=\"61d44259-a06e-48a7-8138-dbb379bdce17\")>,\n",
       " <selenium.webdriver.remote.webelement.WebElement (session=\"4d6534ebf4c50bd08944ccf25b7bc52e\", element=\"3bf5ee99-98b7-46cf-ba8a-f1f587c216d2\")>]"
      ]
     },
     "execution_count": 49,
     "metadata": {},
     "output_type": "execute_result"
    }
   ],
   "source": [
    "#Extracting all the tags having location info\n",
    "locations_tags=driver.find_elements_by_xpath(\"//li[@class='fleft grey-text br2 placeHolderLi location']/span\")\n",
    "locations_tags"
   ]
  },
  {
   "cell_type": "code",
   "execution_count": 50,
   "metadata": {},
   "outputs": [
    {
     "data": {
      "text/plain": [
       "['Gurgaon/Gurugram, Delhi/NCR',\n",
       " 'Delhi/NCR',\n",
       " 'New Delhi, Delhi/NCR',\n",
       " 'Bangalore/Bengaluru, Delhi/NCR',\n",
       " 'New Delhi, Delhi/NCR',\n",
       " 'New Delhi, Delhi/NCR',\n",
       " 'Delhi, Delhi/NCR',\n",
       " 'Ghaziabad, New Delhi, Delhi/NCR, Ghaziabad',\n",
       " 'New Delhi, Delhi/NCR',\n",
       " 'New Delhi, Delhi/NCR',\n",
       " 'Noida, Delhi/NCR, Noida/Greater Noida',\n",
       " 'New Delhi, Delhi/NCR',\n",
       " 'New Delhi, Delhi/NCR',\n",
       " 'New Delhi, Delhi/NCR',\n",
       " 'New Delhi, Delhi/NCR',\n",
       " 'Ghaziabad, New Delhi, Delhi/NCR, Ghaziabad',\n",
       " 'Noida, Delhi/NCR, Noida/Greater Noida',\n",
       " 'Noida, Delhi/NCR, Noida/Greater Noida',\n",
       " 'New Delhi, Delhi/NCR',\n",
       " 'New Delhi, Delhi/NCR']"
      ]
     },
     "execution_count": 50,
     "metadata": {},
     "output_type": "execute_result"
    }
   ],
   "source": [
    "#extracting text inside Location tags\n",
    "for i in locations_tags:\n",
    "    job_location.append(i.text)\n",
    "job_location"
   ]
  },
  {
   "cell_type": "code",
   "execution_count": 51,
   "metadata": {},
   "outputs": [
    {
     "data": {
      "text/plain": [
       "[<selenium.webdriver.remote.webelement.WebElement (session=\"4d6534ebf4c50bd08944ccf25b7bc52e\", element=\"54536a86-de0a-4d22-85da-8ce5c543b752\")>,\n",
       " <selenium.webdriver.remote.webelement.WebElement (session=\"4d6534ebf4c50bd08944ccf25b7bc52e\", element=\"5877d4af-397b-4f84-8b47-7be012deb915\")>,\n",
       " <selenium.webdriver.remote.webelement.WebElement (session=\"4d6534ebf4c50bd08944ccf25b7bc52e\", element=\"4238cee3-246d-4911-86d6-1b3f4fed373c\")>,\n",
       " <selenium.webdriver.remote.webelement.WebElement (session=\"4d6534ebf4c50bd08944ccf25b7bc52e\", element=\"29900069-25de-4818-a9ca-02c22f6cedfb\")>,\n",
       " <selenium.webdriver.remote.webelement.WebElement (session=\"4d6534ebf4c50bd08944ccf25b7bc52e\", element=\"639b14c6-c176-49f7-bd49-02fbc88f8fab\")>,\n",
       " <selenium.webdriver.remote.webelement.WebElement (session=\"4d6534ebf4c50bd08944ccf25b7bc52e\", element=\"972c18cd-334c-4848-90a2-c21ab7932f45\")>,\n",
       " <selenium.webdriver.remote.webelement.WebElement (session=\"4d6534ebf4c50bd08944ccf25b7bc52e\", element=\"88319579-3261-4797-9f07-48a7f53e9b99\")>,\n",
       " <selenium.webdriver.remote.webelement.WebElement (session=\"4d6534ebf4c50bd08944ccf25b7bc52e\", element=\"34e2ddaf-2bcf-4cc5-b75b-ceb71dccddc6\")>,\n",
       " <selenium.webdriver.remote.webelement.WebElement (session=\"4d6534ebf4c50bd08944ccf25b7bc52e\", element=\"086ca36d-fb43-40c6-a0ba-7a6be90f3a90\")>,\n",
       " <selenium.webdriver.remote.webelement.WebElement (session=\"4d6534ebf4c50bd08944ccf25b7bc52e\", element=\"358f5b7f-2b70-494f-a843-0eaa889d6494\")>,\n",
       " <selenium.webdriver.remote.webelement.WebElement (session=\"4d6534ebf4c50bd08944ccf25b7bc52e\", element=\"965cd408-3406-481d-8529-b4681217010c\")>,\n",
       " <selenium.webdriver.remote.webelement.WebElement (session=\"4d6534ebf4c50bd08944ccf25b7bc52e\", element=\"77a3b76e-3578-457d-90b9-bd1a70fdb586\")>,\n",
       " <selenium.webdriver.remote.webelement.WebElement (session=\"4d6534ebf4c50bd08944ccf25b7bc52e\", element=\"d5ad890b-01f7-4c18-8564-84f7fd2a4c03\")>,\n",
       " <selenium.webdriver.remote.webelement.WebElement (session=\"4d6534ebf4c50bd08944ccf25b7bc52e\", element=\"7d7954c7-ca11-4724-82bd-89225130755f\")>,\n",
       " <selenium.webdriver.remote.webelement.WebElement (session=\"4d6534ebf4c50bd08944ccf25b7bc52e\", element=\"dd682102-7754-4d7e-bd3b-181e9c774666\")>,\n",
       " <selenium.webdriver.remote.webelement.WebElement (session=\"4d6534ebf4c50bd08944ccf25b7bc52e\", element=\"006b3af6-e45c-45e2-825d-cabe1544c89a\")>,\n",
       " <selenium.webdriver.remote.webelement.WebElement (session=\"4d6534ebf4c50bd08944ccf25b7bc52e\", element=\"64da41ee-467a-4414-a116-4a5fa26eeb09\")>,\n",
       " <selenium.webdriver.remote.webelement.WebElement (session=\"4d6534ebf4c50bd08944ccf25b7bc52e\", element=\"874cab2a-eb4b-460b-b0b0-bf70ad4448e9\")>,\n",
       " <selenium.webdriver.remote.webelement.WebElement (session=\"4d6534ebf4c50bd08944ccf25b7bc52e\", element=\"f43dd574-f511-4179-89bd-83101671d461\")>,\n",
       " <selenium.webdriver.remote.webelement.WebElement (session=\"4d6534ebf4c50bd08944ccf25b7bc52e\", element=\"eb170c2a-1f05-4668-93a1-27384d236248\")>]"
      ]
     },
     "execution_count": 51,
     "metadata": {},
     "output_type": "execute_result"
    }
   ],
   "source": [
    "#Extracting all the tags having company names\n",
    "companies_tags=driver.find_elements_by_xpath(\"//a[@class='subTitle ellipsis fleft']\")\n",
    "companies_tags"
   ]
  },
  {
   "cell_type": "code",
   "execution_count": 52,
   "metadata": {},
   "outputs": [
    {
     "data": {
      "text/plain": [
       "['Elixir Web Solutions',\n",
       " 'Megma Services',\n",
       " 'Pinga Solutions',\n",
       " 'Benchire',\n",
       " 'Akrsk.com',\n",
       " 'Odyssey India Ltd',\n",
       " 'Dura Build Care Pvt. Ltd',\n",
       " 'IT Monteur',\n",
       " 'Nine Digital',\n",
       " 'Akrsk.com',\n",
       " 'Dimension India Networks (P) Ltd',\n",
       " 'Nine Digital',\n",
       " 'Jugalbandi Studio',\n",
       " 'Sportseed',\n",
       " 'Odyssey India Ltd',\n",
       " 'IT Monteur',\n",
       " 'GLEAMING MEDIA',\n",
       " 'GLEAMING MEDIA',\n",
       " 'Thinktank Infotech (P) Ltd',\n",
       " 'GullyBaba Publishing House Pvt. Ltd']"
      ]
     },
     "execution_count": 52,
     "metadata": {},
     "output_type": "execute_result"
    }
   ],
   "source": [
    "#extracting text inside company tags\n",
    "for i in companies_tags:\n",
    "    company_names.append(i.text)\n",
    "company_names"
   ]
  },
  {
   "cell_type": "code",
   "execution_count": 53,
   "metadata": {},
   "outputs": [
    {
     "data": {
      "text/plain": [
       "[<selenium.webdriver.remote.webelement.WebElement (session=\"4d6534ebf4c50bd08944ccf25b7bc52e\", element=\"0d4e0cc9-e64f-46c8-91c6-7c354549de87\")>,\n",
       " <selenium.webdriver.remote.webelement.WebElement (session=\"4d6534ebf4c50bd08944ccf25b7bc52e\", element=\"259edcb0-3c66-414d-b5be-9d2b92df94ca\")>,\n",
       " <selenium.webdriver.remote.webelement.WebElement (session=\"4d6534ebf4c50bd08944ccf25b7bc52e\", element=\"12374a06-938d-4c11-8d97-0282516af921\")>,\n",
       " <selenium.webdriver.remote.webelement.WebElement (session=\"4d6534ebf4c50bd08944ccf25b7bc52e\", element=\"2713eeeb-e1ac-48c9-aeea-1c7ead65a2d5\")>,\n",
       " <selenium.webdriver.remote.webelement.WebElement (session=\"4d6534ebf4c50bd08944ccf25b7bc52e\", element=\"6321bfae-40c3-4f58-b4e5-a9204f34ba03\")>,\n",
       " <selenium.webdriver.remote.webelement.WebElement (session=\"4d6534ebf4c50bd08944ccf25b7bc52e\", element=\"c5d53cbb-37a7-47a2-b628-8500e34db84a\")>,\n",
       " <selenium.webdriver.remote.webelement.WebElement (session=\"4d6534ebf4c50bd08944ccf25b7bc52e\", element=\"f7e4727c-5e35-4d05-9a5a-2021acc54a5d\")>,\n",
       " <selenium.webdriver.remote.webelement.WebElement (session=\"4d6534ebf4c50bd08944ccf25b7bc52e\", element=\"2827bd22-94f4-4464-9fad-e9d1ab6b691f\")>,\n",
       " <selenium.webdriver.remote.webelement.WebElement (session=\"4d6534ebf4c50bd08944ccf25b7bc52e\", element=\"38309ba7-78c9-4924-93cf-a63f59c8465e\")>,\n",
       " <selenium.webdriver.remote.webelement.WebElement (session=\"4d6534ebf4c50bd08944ccf25b7bc52e\", element=\"be1b8945-33b2-40ee-ad22-23b850e4ec37\")>,\n",
       " <selenium.webdriver.remote.webelement.WebElement (session=\"4d6534ebf4c50bd08944ccf25b7bc52e\", element=\"ef7136f1-ed4d-4e56-a312-8614256680b5\")>,\n",
       " <selenium.webdriver.remote.webelement.WebElement (session=\"4d6534ebf4c50bd08944ccf25b7bc52e\", element=\"478ee10d-9460-4735-8f3d-b70a80e3acf8\")>,\n",
       " <selenium.webdriver.remote.webelement.WebElement (session=\"4d6534ebf4c50bd08944ccf25b7bc52e\", element=\"91b1317b-b65e-4472-b6b1-48e3c5ef7a82\")>,\n",
       " <selenium.webdriver.remote.webelement.WebElement (session=\"4d6534ebf4c50bd08944ccf25b7bc52e\", element=\"abcd3b20-16c6-4ce6-ae73-4ddf21bb18ef\")>,\n",
       " <selenium.webdriver.remote.webelement.WebElement (session=\"4d6534ebf4c50bd08944ccf25b7bc52e\", element=\"f783fb80-6065-450d-a0d6-26ebe2537c71\")>,\n",
       " <selenium.webdriver.remote.webelement.WebElement (session=\"4d6534ebf4c50bd08944ccf25b7bc52e\", element=\"1767b825-d736-4bc4-b57f-a0531cbb89dd\")>,\n",
       " <selenium.webdriver.remote.webelement.WebElement (session=\"4d6534ebf4c50bd08944ccf25b7bc52e\", element=\"08f8613f-ed14-477b-a336-b586016f9050\")>,\n",
       " <selenium.webdriver.remote.webelement.WebElement (session=\"4d6534ebf4c50bd08944ccf25b7bc52e\", element=\"af75deec-e2bc-4b6f-8fa0-0889f460ce3e\")>,\n",
       " <selenium.webdriver.remote.webelement.WebElement (session=\"4d6534ebf4c50bd08944ccf25b7bc52e\", element=\"d46e5575-e5a3-4373-b982-ec92c9d69b65\")>,\n",
       " <selenium.webdriver.remote.webelement.WebElement (session=\"4d6534ebf4c50bd08944ccf25b7bc52e\", element=\"6315bc71-515b-4fa4-b541-0ecbe2d7ed44\")>]"
      ]
     },
     "execution_count": 53,
     "metadata": {},
     "output_type": "execute_result"
    }
   ],
   "source": [
    "#Extracting all the tags having Experience info\n",
    "experience_tags=driver.find_elements_by_xpath(\"//li[@class='fleft grey-text br2 placeHolderLi experience']//span\")\n",
    "experience_tags"
   ]
  },
  {
   "cell_type": "code",
   "execution_count": 54,
   "metadata": {},
   "outputs": [
    {
     "data": {
      "text/plain": [
       "['1-5 Yrs',\n",
       " '1-3 Yrs',\n",
       " '3-8 Yrs',\n",
       " '2-6 Yrs',\n",
       " '1-3 Yrs',\n",
       " '2-4 Yrs',\n",
       " '2-7 Yrs',\n",
       " '1-2 Yrs',\n",
       " '2-3 Yrs',\n",
       " '1-5 Yrs',\n",
       " '0-3 Yrs',\n",
       " '2-3 Yrs',\n",
       " '2-5 Yrs',\n",
       " '3-5 Yrs',\n",
       " '2-4 Yrs',\n",
       " '1-2 Yrs',\n",
       " '1-2 Yrs',\n",
       " '1-2 Yrs',\n",
       " '0-3 Yrs',\n",
       " '1-3 Yrs']"
      ]
     },
     "execution_count": 54,
     "metadata": {},
     "output_type": "execute_result"
    }
   ],
   "source": [
    "#extracting text inside Experience tags\n",
    "for i in experience_tags:\n",
    "    experience_list.append(i.text)\n",
    "experience_list"
   ]
  },
  {
   "cell_type": "code",
   "execution_count": 55,
   "metadata": {},
   "outputs": [
    {
     "data": {
      "text/html": [
       "<div>\n",
       "<style scoped>\n",
       "    .dataframe tbody tr th:only-of-type {\n",
       "        vertical-align: middle;\n",
       "    }\n",
       "\n",
       "    .dataframe tbody tr th {\n",
       "        vertical-align: top;\n",
       "    }\n",
       "\n",
       "    .dataframe thead th {\n",
       "        text-align: right;\n",
       "    }\n",
       "</style>\n",
       "<table border=\"1\" class=\"dataframe\">\n",
       "  <thead>\n",
       "    <tr style=\"text-align: right;\">\n",
       "      <th></th>\n",
       "      <th>Job Title</th>\n",
       "      <th>Job Location</th>\n",
       "      <th>Company Name</th>\n",
       "      <th>Experience Required</th>\n",
       "    </tr>\n",
       "  </thead>\n",
       "  <tbody>\n",
       "    <tr>\n",
       "      <th>0</th>\n",
       "      <td>Consultant II/ Sr Consultant SAS Analytics Ban...</td>\n",
       "      <td>Gurgaon/Gurugram, Delhi/NCR</td>\n",
       "      <td>Elixir Web Solutions</td>\n",
       "      <td>1-5 Yrs</td>\n",
       "    </tr>\n",
       "    <tr>\n",
       "      <th>1</th>\n",
       "      <td>Social Media Specialist - eCommerce</td>\n",
       "      <td>Delhi/NCR</td>\n",
       "      <td>Megma Services</td>\n",
       "      <td>1-3 Yrs</td>\n",
       "    </tr>\n",
       "    <tr>\n",
       "      <th>2</th>\n",
       "      <td>Senior Software Developer</td>\n",
       "      <td>New Delhi, Delhi/NCR</td>\n",
       "      <td>Pinga Solutions</td>\n",
       "      <td>3-8 Yrs</td>\n",
       "    </tr>\n",
       "    <tr>\n",
       "      <th>3</th>\n",
       "      <td>UI Designer HTML/CSS/SCSS/SASS - Remote</td>\n",
       "      <td>Bangalore/Bengaluru, Delhi/NCR</td>\n",
       "      <td>Benchire</td>\n",
       "      <td>2-6 Yrs</td>\n",
       "    </tr>\n",
       "    <tr>\n",
       "      <th>4</th>\n",
       "      <td>SEO Expert</td>\n",
       "      <td>New Delhi, Delhi/NCR</td>\n",
       "      <td>Akrsk.com</td>\n",
       "      <td>1-3 Yrs</td>\n",
       "    </tr>\n",
       "    <tr>\n",
       "      <th>5</th>\n",
       "      <td>Software Application Developer</td>\n",
       "      <td>New Delhi, Delhi/NCR</td>\n",
       "      <td>Odyssey India Ltd</td>\n",
       "      <td>2-4 Yrs</td>\n",
       "    </tr>\n",
       "    <tr>\n",
       "      <th>6</th>\n",
       "      <td>Technical Manager/Sales Engineer</td>\n",
       "      <td>Delhi, Delhi/NCR</td>\n",
       "      <td>Dura Build Care Pvt. Ltd</td>\n",
       "      <td>2-7 Yrs</td>\n",
       "    </tr>\n",
       "    <tr>\n",
       "      <th>7</th>\n",
       "      <td>WordPress/PHP developer</td>\n",
       "      <td>Ghaziabad, New Delhi, Delhi/NCR, Ghaziabad</td>\n",
       "      <td>IT Monteur</td>\n",
       "      <td>1-2 Yrs</td>\n",
       "    </tr>\n",
       "    <tr>\n",
       "      <th>8</th>\n",
       "      <td>Search Engine Optimization Expert</td>\n",
       "      <td>New Delhi, Delhi/NCR</td>\n",
       "      <td>Nine Digital</td>\n",
       "      <td>2-3 Yrs</td>\n",
       "    </tr>\n",
       "    <tr>\n",
       "      <th>9</th>\n",
       "      <td>HTML Expert / WEB Designer</td>\n",
       "      <td>New Delhi, Delhi/NCR</td>\n",
       "      <td>Akrsk.com</td>\n",
       "      <td>1-5 Yrs</td>\n",
       "    </tr>\n",
       "  </tbody>\n",
       "</table>\n",
       "</div>"
      ],
      "text/plain": [
       "                                           Job Title  \\\n",
       "0  Consultant II/ Sr Consultant SAS Analytics Ban...   \n",
       "1                Social Media Specialist - eCommerce   \n",
       "2                          Senior Software Developer   \n",
       "3            UI Designer HTML/CSS/SCSS/SASS - Remote   \n",
       "4                                         SEO Expert   \n",
       "5                     Software Application Developer   \n",
       "6                   Technical Manager/Sales Engineer   \n",
       "7                            WordPress/PHP developer   \n",
       "8                  Search Engine Optimization Expert   \n",
       "9                         HTML Expert / WEB Designer   \n",
       "\n",
       "                                 Job Location              Company Name  \\\n",
       "0                 Gurgaon/Gurugram, Delhi/NCR      Elixir Web Solutions   \n",
       "1                                   Delhi/NCR            Megma Services   \n",
       "2                        New Delhi, Delhi/NCR           Pinga Solutions   \n",
       "3              Bangalore/Bengaluru, Delhi/NCR                  Benchire   \n",
       "4                        New Delhi, Delhi/NCR                 Akrsk.com   \n",
       "5                        New Delhi, Delhi/NCR         Odyssey India Ltd   \n",
       "6                            Delhi, Delhi/NCR  Dura Build Care Pvt. Ltd   \n",
       "7  Ghaziabad, New Delhi, Delhi/NCR, Ghaziabad                IT Monteur   \n",
       "8                        New Delhi, Delhi/NCR              Nine Digital   \n",
       "9                        New Delhi, Delhi/NCR                 Akrsk.com   \n",
       "\n",
       "  Experience Required  \n",
       "0             1-5 Yrs  \n",
       "1             1-3 Yrs  \n",
       "2             3-8 Yrs  \n",
       "3             2-6 Yrs  \n",
       "4             1-3 Yrs  \n",
       "5             2-4 Yrs  \n",
       "6             2-7 Yrs  \n",
       "7             1-2 Yrs  \n",
       "8             2-3 Yrs  \n",
       "9             1-5 Yrs  "
      ]
     },
     "execution_count": 55,
     "metadata": {},
     "output_type": "execute_result"
    }
   ],
   "source": [
    "#Saving our answer in a DataFrame using Pandas\n",
    "jobncr=pd.DataFrame({})\n",
    "jobncr['Job Title']=job_titles[0:10]\n",
    "jobncr['Job Location']=job_location[0:10]\n",
    "jobncr['Company Name']=company_names[0:10]\n",
    "jobncr['Experience Required']=experience_list[0:10]\n",
    "jobncr"
   ]
  },
  {
   "cell_type": "code",
   "execution_count": 56,
   "metadata": {},
   "outputs": [],
   "source": [
    "#Closing driver\n",
    "driver.close()"
   ]
  },
  {
   "cell_type": "markdown",
   "metadata": {},
   "source": [
    "*******************************************Completed***********************************************************************"
   ]
  },
  {
   "cell_type": "code",
   "execution_count": 4,
   "metadata": {},
   "outputs": [],
   "source": [
    "#Importing the required Libraries for selenium\n",
    "import selenium\n",
    "import pandas as pd\n",
    "from selenium import webdriver"
   ]
  },
  {
   "cell_type": "markdown",
   "metadata": {},
   "source": [
    "# Q4: Write a python program to scrape data for first 10 job results for Data scientist Designation in Noida location. You have to scrape company_name, No. of days ago when job was posted, Rating of the company.\n",
    "\n",
    "Ans: Solution is as:-"
   ]
  },
  {
   "cell_type": "code",
   "execution_count": 5,
   "metadata": {},
   "outputs": [],
   "source": [
    "#Let's first connect to the web driver\n",
    "driver=webdriver.Chrome(\"chromedriver.exe\")"
   ]
  },
  {
   "cell_type": "code",
   "execution_count": 6,
   "metadata": {},
   "outputs": [],
   "source": [
    "#Opening webpage https://www.glassdoor.co.in/\n",
    "url=\"https://www.glassdoor.co.in/index.htm\"\n",
    "driver.get(url)"
   ]
  },
  {
   "cell_type": "code",
   "execution_count": 7,
   "metadata": {},
   "outputs": [
    {
     "data": {
      "text/plain": [
       "<selenium.webdriver.remote.webelement.WebElement (session=\"8dafbd72bc8a33abd3653eef8aab9fdf\", element=\"17cd6677-37b6-410d-9433-1d9caf279aaf\")>"
      ]
     },
     "execution_count": 7,
     "metadata": {},
     "output_type": "execute_result"
    }
   ],
   "source": [
    "#finding element for job search bar\n",
    "search_job=driver.find_element_by_id('sc.keyword')\n",
    "search_job"
   ]
  },
  {
   "cell_type": "code",
   "execution_count": 8,
   "metadata": {},
   "outputs": [],
   "source": [
    "#Searching for Data Scientist in Search bar\n",
    "search_job.send_keys(\"Data Scientist\")"
   ]
  },
  {
   "cell_type": "code",
   "execution_count": 9,
   "metadata": {},
   "outputs": [],
   "source": [
    "#finding element for job location bar\n",
    "search_loc=driver.find_element_by_id(\"sc.location\")\n",
    "search_loc.send_keys(\"Noida\")"
   ]
  },
  {
   "cell_type": "code",
   "execution_count": 10,
   "metadata": {},
   "outputs": [],
   "source": [
    "#Clicking the Search Button using Xpath function\n",
    "search_btn=driver.find_element_by_xpath(\"//button[@class='gd-ui-button ml-std col-auto SearchStyles__newSearchButton css-iixdfr']\")\n",
    "search_btn.click()"
   ]
  },
  {
   "cell_type": "code",
   "execution_count": 11,
   "metadata": {},
   "outputs": [],
   "source": [
    "#Creating empty Lists so that we can store data in these lists while scraping\n",
    "company_names=[]\n",
    "job_posting=[]\n",
    "company_rating=[]"
   ]
  },
  {
   "cell_type": "code",
   "execution_count": 12,
   "metadata": {},
   "outputs": [],
   "source": [
    "#Updated URL for company_rating information as some companies don't have rating on glassdoor website\n",
    "url=\"https://www.glassdoor.co.in/Job/noida-data-scientist-jobs-SRCH_IL.0,5_IC4477468_KO6,20.htm?minRating=1.00\"\n",
    "driver.get(url)"
   ]
  },
  {
   "cell_type": "code",
   "execution_count": 13,
   "metadata": {},
   "outputs": [
    {
     "data": {
      "text/plain": [
       "[<selenium.webdriver.remote.webelement.WebElement (session=\"8dafbd72bc8a33abd3653eef8aab9fdf\", element=\"126f42c3-4618-40f7-83bc-9618f00d67cb\")>,\n",
       " <selenium.webdriver.remote.webelement.WebElement (session=\"8dafbd72bc8a33abd3653eef8aab9fdf\", element=\"093592ad-7e4e-4b99-ac4f-31a8c735036e\")>,\n",
       " <selenium.webdriver.remote.webelement.WebElement (session=\"8dafbd72bc8a33abd3653eef8aab9fdf\", element=\"c73fc53f-b567-4b7e-8cd4-cbba0dba83da\")>,\n",
       " <selenium.webdriver.remote.webelement.WebElement (session=\"8dafbd72bc8a33abd3653eef8aab9fdf\", element=\"7570c369-0158-416f-96ca-6c7485255959\")>,\n",
       " <selenium.webdriver.remote.webelement.WebElement (session=\"8dafbd72bc8a33abd3653eef8aab9fdf\", element=\"e82a068b-e79a-47c6-8a56-43778fc5f4b7\")>,\n",
       " <selenium.webdriver.remote.webelement.WebElement (session=\"8dafbd72bc8a33abd3653eef8aab9fdf\", element=\"d1b2c041-7899-4068-b788-f3aa4f9b35f9\")>,\n",
       " <selenium.webdriver.remote.webelement.WebElement (session=\"8dafbd72bc8a33abd3653eef8aab9fdf\", element=\"6fa93e84-b5c1-425c-921f-a6069c6f8ebf\")>,\n",
       " <selenium.webdriver.remote.webelement.WebElement (session=\"8dafbd72bc8a33abd3653eef8aab9fdf\", element=\"264d543c-7cb3-4163-ab73-5dc944fe0ef5\")>,\n",
       " <selenium.webdriver.remote.webelement.WebElement (session=\"8dafbd72bc8a33abd3653eef8aab9fdf\", element=\"62cbae18-7992-4e20-9ed3-a9db3e6941d9\")>,\n",
       " <selenium.webdriver.remote.webelement.WebElement (session=\"8dafbd72bc8a33abd3653eef8aab9fdf\", element=\"493d718c-066c-4f9f-840b-f3e9d22a26e0\")>,\n",
       " <selenium.webdriver.remote.webelement.WebElement (session=\"8dafbd72bc8a33abd3653eef8aab9fdf\", element=\"941eac0c-967b-4376-82fa-f6a58c280e05\")>,\n",
       " <selenium.webdriver.remote.webelement.WebElement (session=\"8dafbd72bc8a33abd3653eef8aab9fdf\", element=\"96ac6c56-c38d-442f-8ef0-2c5c5c7786d6\")>,\n",
       " <selenium.webdriver.remote.webelement.WebElement (session=\"8dafbd72bc8a33abd3653eef8aab9fdf\", element=\"ba074e07-6a9f-48f9-a21a-e0b5801125b2\")>,\n",
       " <selenium.webdriver.remote.webelement.WebElement (session=\"8dafbd72bc8a33abd3653eef8aab9fdf\", element=\"57e559b4-3cb4-4001-91c9-97bcb3ebb0d8\")>,\n",
       " <selenium.webdriver.remote.webelement.WebElement (session=\"8dafbd72bc8a33abd3653eef8aab9fdf\", element=\"50d8f9a6-b62b-4f53-9599-7027e41d90bb\")>,\n",
       " <selenium.webdriver.remote.webelement.WebElement (session=\"8dafbd72bc8a33abd3653eef8aab9fdf\", element=\"b7541b4e-8b30-430d-8096-4fb95e224497\")>,\n",
       " <selenium.webdriver.remote.webelement.WebElement (session=\"8dafbd72bc8a33abd3653eef8aab9fdf\", element=\"ca04c24e-21c8-4e9d-a8b4-ac6c89aecb1c\")>,\n",
       " <selenium.webdriver.remote.webelement.WebElement (session=\"8dafbd72bc8a33abd3653eef8aab9fdf\", element=\"2a512007-26b7-4f59-970f-cf7051e15760\")>,\n",
       " <selenium.webdriver.remote.webelement.WebElement (session=\"8dafbd72bc8a33abd3653eef8aab9fdf\", element=\"52969698-f133-4243-9616-16c51f147f5e\")>,\n",
       " <selenium.webdriver.remote.webelement.WebElement (session=\"8dafbd72bc8a33abd3653eef8aab9fdf\", element=\"aade8544-1c88-4dce-b7d7-05cfa6bc5018\")>,\n",
       " <selenium.webdriver.remote.webelement.WebElement (session=\"8dafbd72bc8a33abd3653eef8aab9fdf\", element=\"787183c8-8312-4f39-a679-bc169d706762\")>,\n",
       " <selenium.webdriver.remote.webelement.WebElement (session=\"8dafbd72bc8a33abd3653eef8aab9fdf\", element=\"ed09b18e-e111-4f79-a6fe-e1cf1c88f4aa\")>,\n",
       " <selenium.webdriver.remote.webelement.WebElement (session=\"8dafbd72bc8a33abd3653eef8aab9fdf\", element=\"ad087126-cdfe-4596-9261-296afb038b06\")>,\n",
       " <selenium.webdriver.remote.webelement.WebElement (session=\"8dafbd72bc8a33abd3653eef8aab9fdf\", element=\"130362c1-bd04-47f4-99e9-72c0fffed044\")>,\n",
       " <selenium.webdriver.remote.webelement.WebElement (session=\"8dafbd72bc8a33abd3653eef8aab9fdf\", element=\"3fa13fdd-8449-4bba-bfda-7ce1bd143043\")>,\n",
       " <selenium.webdriver.remote.webelement.WebElement (session=\"8dafbd72bc8a33abd3653eef8aab9fdf\", element=\"fe3d6ddc-1623-4b50-93d6-5b17488530d0\")>,\n",
       " <selenium.webdriver.remote.webelement.WebElement (session=\"8dafbd72bc8a33abd3653eef8aab9fdf\", element=\"58fa0f13-c9d2-418c-a2e1-c191e8904363\")>,\n",
       " <selenium.webdriver.remote.webelement.WebElement (session=\"8dafbd72bc8a33abd3653eef8aab9fdf\", element=\"3e6dc6fd-24ef-4c01-a1e6-d936e4ccdffa\")>,\n",
       " <selenium.webdriver.remote.webelement.WebElement (session=\"8dafbd72bc8a33abd3653eef8aab9fdf\", element=\"bfe5dd0f-d3e5-414b-8a80-488ed913ae87\")>,\n",
       " <selenium.webdriver.remote.webelement.WebElement (session=\"8dafbd72bc8a33abd3653eef8aab9fdf\", element=\"1a16ce9e-f55f-4189-ae33-cbb6750b32f3\")>,\n",
       " <selenium.webdriver.remote.webelement.WebElement (session=\"8dafbd72bc8a33abd3653eef8aab9fdf\", element=\"15e1a02b-cc01-4e75-aac5-b284ffae5d42\")>]"
      ]
     },
     "execution_count": 13,
     "metadata": {},
     "output_type": "execute_result"
    }
   ],
   "source": [
    "#Extracting all the tags having company name\n",
    "companies_tags=driver.find_elements_by_xpath(\"//div[@class='d-flex justify-content-between align-items-start']/a/span\" )\n",
    "companies_tags"
   ]
  },
  {
   "cell_type": "code",
   "execution_count": 14,
   "metadata": {},
   "outputs": [
    {
     "data": {
      "text/plain": [
       "['UnitedHealth Group',\n",
       " 'Siemens Technology and Services Private Limited',\n",
       " 'Ericsson',\n",
       " 'Priority Vendor',\n",
       " 'Gauge Data Solutions',\n",
       " 'Biz2Credit Inc',\n",
       " 'WishFin',\n",
       " 'Axslogic',\n",
       " 'Techlive',\n",
       " 'Boston Consulting Group',\n",
       " 'Mahajan Imaging',\n",
       " 'Ank Aha',\n",
       " 'Team Computers',\n",
       " 'Transorg Analytics',\n",
       " 'Profisor Services',\n",
       " 'Jubilant Biosys',\n",
       " 'Analytics Vidhya',\n",
       " 'Innovacer',\n",
       " 'Knoldus Inc',\n",
       " 'ANI Calls India Private Limited',\n",
       " 'Nihilent',\n",
       " 'Biz2Credit Inc',\n",
       " 'IMMO',\n",
       " 'Genpact',\n",
       " 'CRMNEXT',\n",
       " 'Urban Company',\n",
       " 'Nitesh Kumar',\n",
       " 'Innovacer',\n",
       " 'ANI Calls India Private Limited',\n",
       " 'Adobe',\n",
       " 'Genpact']"
      ]
     },
     "execution_count": 14,
     "metadata": {},
     "output_type": "execute_result"
    }
   ],
   "source": [
    "#extracting text inside company tags\n",
    "for i in companies_tags:\n",
    "    company_names.append(i.text)\n",
    "company_names"
   ]
  },
  {
   "cell_type": "code",
   "execution_count": 15,
   "metadata": {},
   "outputs": [
    {
     "data": {
      "text/plain": [
       "[<selenium.webdriver.remote.webelement.WebElement (session=\"8dafbd72bc8a33abd3653eef8aab9fdf\", element=\"29654284-e96c-43dc-a654-c5d6112593f4\")>,\n",
       " <selenium.webdriver.remote.webelement.WebElement (session=\"8dafbd72bc8a33abd3653eef8aab9fdf\", element=\"bb817f16-259a-4f8f-915d-c49b6d1bf7ce\")>,\n",
       " <selenium.webdriver.remote.webelement.WebElement (session=\"8dafbd72bc8a33abd3653eef8aab9fdf\", element=\"c2bee290-b2c3-4f0c-b01b-932f9fcb787b\")>,\n",
       " <selenium.webdriver.remote.webelement.WebElement (session=\"8dafbd72bc8a33abd3653eef8aab9fdf\", element=\"489c2531-03c4-40f5-9199-bec1352fc5c9\")>,\n",
       " <selenium.webdriver.remote.webelement.WebElement (session=\"8dafbd72bc8a33abd3653eef8aab9fdf\", element=\"4fbfb6a4-70e5-47ab-9cd7-28251ec8e753\")>,\n",
       " <selenium.webdriver.remote.webelement.WebElement (session=\"8dafbd72bc8a33abd3653eef8aab9fdf\", element=\"36eb91b0-2bfe-4446-9d02-6e936bb46e83\")>,\n",
       " <selenium.webdriver.remote.webelement.WebElement (session=\"8dafbd72bc8a33abd3653eef8aab9fdf\", element=\"9dfa66c9-19d9-4605-8e5f-38e7a49ed81f\")>,\n",
       " <selenium.webdriver.remote.webelement.WebElement (session=\"8dafbd72bc8a33abd3653eef8aab9fdf\", element=\"bf395ecd-e2be-48c4-9857-8a64756a0f3f\")>,\n",
       " <selenium.webdriver.remote.webelement.WebElement (session=\"8dafbd72bc8a33abd3653eef8aab9fdf\", element=\"9592bf1e-af24-4483-927e-dbed1455a1fe\")>,\n",
       " <selenium.webdriver.remote.webelement.WebElement (session=\"8dafbd72bc8a33abd3653eef8aab9fdf\", element=\"8c5918fe-4523-4781-843f-32f91da2fe11\")>,\n",
       " <selenium.webdriver.remote.webelement.WebElement (session=\"8dafbd72bc8a33abd3653eef8aab9fdf\", element=\"2734c200-b077-469a-99d7-d1f3433b2b10\")>,\n",
       " <selenium.webdriver.remote.webelement.WebElement (session=\"8dafbd72bc8a33abd3653eef8aab9fdf\", element=\"929fae7e-dc18-4b29-b274-71a75f54bdce\")>,\n",
       " <selenium.webdriver.remote.webelement.WebElement (session=\"8dafbd72bc8a33abd3653eef8aab9fdf\", element=\"3dbc0e8f-893d-446f-b5a7-50e0583b8b47\")>,\n",
       " <selenium.webdriver.remote.webelement.WebElement (session=\"8dafbd72bc8a33abd3653eef8aab9fdf\", element=\"eed2e3e9-4c2f-4d81-95a2-a3dc9a96313c\")>,\n",
       " <selenium.webdriver.remote.webelement.WebElement (session=\"8dafbd72bc8a33abd3653eef8aab9fdf\", element=\"54ee5059-651c-4e7c-accd-0df48ac60159\")>,\n",
       " <selenium.webdriver.remote.webelement.WebElement (session=\"8dafbd72bc8a33abd3653eef8aab9fdf\", element=\"d11322c0-a757-421c-84a0-a950ff9e57dc\")>,\n",
       " <selenium.webdriver.remote.webelement.WebElement (session=\"8dafbd72bc8a33abd3653eef8aab9fdf\", element=\"f0f87e53-6669-4d0d-9b16-418f0b783cc3\")>,\n",
       " <selenium.webdriver.remote.webelement.WebElement (session=\"8dafbd72bc8a33abd3653eef8aab9fdf\", element=\"60574fb6-ea95-4a30-8e05-79a9b1fff90a\")>,\n",
       " <selenium.webdriver.remote.webelement.WebElement (session=\"8dafbd72bc8a33abd3653eef8aab9fdf\", element=\"260cc568-0ab3-4fba-a114-593d9c1d9b7b\")>,\n",
       " <selenium.webdriver.remote.webelement.WebElement (session=\"8dafbd72bc8a33abd3653eef8aab9fdf\", element=\"b4ff43ba-5867-41ce-8409-9b0f1c7d2705\")>,\n",
       " <selenium.webdriver.remote.webelement.WebElement (session=\"8dafbd72bc8a33abd3653eef8aab9fdf\", element=\"07a0baae-96b1-4c7d-b3b7-851de52d5a22\")>,\n",
       " <selenium.webdriver.remote.webelement.WebElement (session=\"8dafbd72bc8a33abd3653eef8aab9fdf\", element=\"06cc65c0-48ef-4abd-a9a3-0d9fcc8fd784\")>,\n",
       " <selenium.webdriver.remote.webelement.WebElement (session=\"8dafbd72bc8a33abd3653eef8aab9fdf\", element=\"387ef13b-d9c9-4a7d-923b-89d46400896c\")>,\n",
       " <selenium.webdriver.remote.webelement.WebElement (session=\"8dafbd72bc8a33abd3653eef8aab9fdf\", element=\"fb4d0d72-1ea6-4219-9f55-a6deab5605bb\")>,\n",
       " <selenium.webdriver.remote.webelement.WebElement (session=\"8dafbd72bc8a33abd3653eef8aab9fdf\", element=\"7ba5343f-6e30-4ad1-a660-3edb8ea59468\")>,\n",
       " <selenium.webdriver.remote.webelement.WebElement (session=\"8dafbd72bc8a33abd3653eef8aab9fdf\", element=\"a7914514-f72f-4d67-bbb0-35df99235503\")>,\n",
       " <selenium.webdriver.remote.webelement.WebElement (session=\"8dafbd72bc8a33abd3653eef8aab9fdf\", element=\"4940727f-7962-4621-8157-3fee97fbb601\")>,\n",
       " <selenium.webdriver.remote.webelement.WebElement (session=\"8dafbd72bc8a33abd3653eef8aab9fdf\", element=\"229fe9b7-9c99-499d-8f2b-77554f8d988a\")>,\n",
       " <selenium.webdriver.remote.webelement.WebElement (session=\"8dafbd72bc8a33abd3653eef8aab9fdf\", element=\"17123af1-4d57-4749-afb4-d556e5ff9f9e\")>,\n",
       " <selenium.webdriver.remote.webelement.WebElement (session=\"8dafbd72bc8a33abd3653eef8aab9fdf\", element=\"6fc874ef-85e9-4abd-8915-a85ca6c19878\")>,\n",
       " <selenium.webdriver.remote.webelement.WebElement (session=\"8dafbd72bc8a33abd3653eef8aab9fdf\", element=\"32281c70-8219-4c07-920e-850e90aab868\")>]"
      ]
     },
     "execution_count": 15,
     "metadata": {},
     "output_type": "execute_result"
    }
   ],
   "source": [
    "#Extracting the tags having job posting info\n",
    "job_days=driver.find_elements_by_xpath(\"//div[@class='d-flex align-items-end pl-std css-mi55ob']\")\n",
    "job_days"
   ]
  },
  {
   "cell_type": "code",
   "execution_count": 16,
   "metadata": {},
   "outputs": [
    {
     "data": {
      "text/plain": [
       "['2 days ago',\n",
       " '4 days ago',\n",
       " '3 days ago',\n",
       " '16 days ago',\n",
       " '16 days ago',\n",
       " '25 days ago',\n",
       " '24h',\n",
       " '15 days ago',\n",
       " '23 days ago',\n",
       " '3 days ago',\n",
       " '17 days ago',\n",
       " '17 days ago',\n",
       " '5 days ago',\n",
       " '5 days ago',\n",
       " '17 days ago',\n",
       " '3 days ago',\n",
       " '17 days ago',\n",
       " '8 days ago',\n",
       " '15 days ago',\n",
       " '3 days ago',\n",
       " '25 days ago',\n",
       " '24h',\n",
       " '22 days ago',\n",
       " '22 days ago',\n",
       " '16 days ago',\n",
       " '16 days ago',\n",
       " '12 days ago',\n",
       " '24h',\n",
       " '13 days ago',\n",
       " '24h',\n",
       " '17 days ago']"
      ]
     },
     "execution_count": 16,
     "metadata": {},
     "output_type": "execute_result"
    }
   ],
   "source": [
    "#extracting text inside job posting tags\n",
    "for i in job_days:\n",
    "    job_posting.append(i.text.replace('d',' days ago'))\n",
    "job_posting"
   ]
  },
  {
   "cell_type": "code",
   "execution_count": 17,
   "metadata": {},
   "outputs": [
    {
     "data": {
      "text/plain": [
       "[<selenium.webdriver.remote.webelement.WebElement (session=\"8dafbd72bc8a33abd3653eef8aab9fdf\", element=\"f05c3131-a78c-4ff9-a514-d50aa9269a5c\")>,\n",
       " <selenium.webdriver.remote.webelement.WebElement (session=\"8dafbd72bc8a33abd3653eef8aab9fdf\", element=\"71c732b5-b355-47cb-926e-2a39317e374a\")>,\n",
       " <selenium.webdriver.remote.webelement.WebElement (session=\"8dafbd72bc8a33abd3653eef8aab9fdf\", element=\"79ff54a7-94ca-4d42-b57f-704d31af0343\")>,\n",
       " <selenium.webdriver.remote.webelement.WebElement (session=\"8dafbd72bc8a33abd3653eef8aab9fdf\", element=\"ca6709fc-95ea-4199-a8b8-3c2c4bb677a4\")>,\n",
       " <selenium.webdriver.remote.webelement.WebElement (session=\"8dafbd72bc8a33abd3653eef8aab9fdf\", element=\"6a0b8f6f-1dd4-49ec-9faf-3553f2201b60\")>,\n",
       " <selenium.webdriver.remote.webelement.WebElement (session=\"8dafbd72bc8a33abd3653eef8aab9fdf\", element=\"7c370825-307a-40c0-9024-628080a741d9\")>,\n",
       " <selenium.webdriver.remote.webelement.WebElement (session=\"8dafbd72bc8a33abd3653eef8aab9fdf\", element=\"ac347875-1439-498e-8b2d-8cd6335220b7\")>,\n",
       " <selenium.webdriver.remote.webelement.WebElement (session=\"8dafbd72bc8a33abd3653eef8aab9fdf\", element=\"c3ac7388-1111-4132-a230-2e7bc7e22488\")>,\n",
       " <selenium.webdriver.remote.webelement.WebElement (session=\"8dafbd72bc8a33abd3653eef8aab9fdf\", element=\"a8dfe177-7cde-4288-a79e-93087056dda7\")>,\n",
       " <selenium.webdriver.remote.webelement.WebElement (session=\"8dafbd72bc8a33abd3653eef8aab9fdf\", element=\"05bf0efa-007c-40e5-a0f5-657f92d7b14e\")>,\n",
       " <selenium.webdriver.remote.webelement.WebElement (session=\"8dafbd72bc8a33abd3653eef8aab9fdf\", element=\"1fd87432-1c00-4a7e-801f-62168266b697\")>,\n",
       " <selenium.webdriver.remote.webelement.WebElement (session=\"8dafbd72bc8a33abd3653eef8aab9fdf\", element=\"d4b66b75-f814-4266-81f9-8b1155b4c4e6\")>,\n",
       " <selenium.webdriver.remote.webelement.WebElement (session=\"8dafbd72bc8a33abd3653eef8aab9fdf\", element=\"2a47a1c1-deeb-47e0-9952-9247e47974fa\")>,\n",
       " <selenium.webdriver.remote.webelement.WebElement (session=\"8dafbd72bc8a33abd3653eef8aab9fdf\", element=\"e0cc15f7-491e-486b-aed0-f6e95346a8df\")>,\n",
       " <selenium.webdriver.remote.webelement.WebElement (session=\"8dafbd72bc8a33abd3653eef8aab9fdf\", element=\"d0de501a-b49d-4527-8d5c-a4be5ae7a5ce\")>,\n",
       " <selenium.webdriver.remote.webelement.WebElement (session=\"8dafbd72bc8a33abd3653eef8aab9fdf\", element=\"1bdc3643-9f3b-4633-9210-8a391b3c6d97\")>,\n",
       " <selenium.webdriver.remote.webelement.WebElement (session=\"8dafbd72bc8a33abd3653eef8aab9fdf\", element=\"a9a52ff2-4c55-4669-9ee0-564307cb9c79\")>,\n",
       " <selenium.webdriver.remote.webelement.WebElement (session=\"8dafbd72bc8a33abd3653eef8aab9fdf\", element=\"2ba45444-e283-4439-9855-9a5d57ab9d7f\")>,\n",
       " <selenium.webdriver.remote.webelement.WebElement (session=\"8dafbd72bc8a33abd3653eef8aab9fdf\", element=\"51dfb62b-b977-4351-ac00-a6f592d080ff\")>,\n",
       " <selenium.webdriver.remote.webelement.WebElement (session=\"8dafbd72bc8a33abd3653eef8aab9fdf\", element=\"78710a5e-f665-499e-873e-8e6aab15a119\")>,\n",
       " <selenium.webdriver.remote.webelement.WebElement (session=\"8dafbd72bc8a33abd3653eef8aab9fdf\", element=\"e81410f6-e47c-40d4-a6d0-5636bd8bcc10\")>,\n",
       " <selenium.webdriver.remote.webelement.WebElement (session=\"8dafbd72bc8a33abd3653eef8aab9fdf\", element=\"4ff68cb2-1e5f-47fc-bacf-623a48c115df\")>,\n",
       " <selenium.webdriver.remote.webelement.WebElement (session=\"8dafbd72bc8a33abd3653eef8aab9fdf\", element=\"7221f391-3709-4b71-b5b3-aad502cb1fd2\")>,\n",
       " <selenium.webdriver.remote.webelement.WebElement (session=\"8dafbd72bc8a33abd3653eef8aab9fdf\", element=\"fdd4b1ba-410c-4eb9-8440-c1078d336dbe\")>,\n",
       " <selenium.webdriver.remote.webelement.WebElement (session=\"8dafbd72bc8a33abd3653eef8aab9fdf\", element=\"5f02e9e2-fb5b-46cd-81ec-d77b53ad65de\")>,\n",
       " <selenium.webdriver.remote.webelement.WebElement (session=\"8dafbd72bc8a33abd3653eef8aab9fdf\", element=\"9c633116-f819-44ab-a116-fc969657dc2b\")>,\n",
       " <selenium.webdriver.remote.webelement.WebElement (session=\"8dafbd72bc8a33abd3653eef8aab9fdf\", element=\"fa7a5d35-170e-4921-9443-93fcb502f570\")>,\n",
       " <selenium.webdriver.remote.webelement.WebElement (session=\"8dafbd72bc8a33abd3653eef8aab9fdf\", element=\"3488765b-d33e-43c6-a489-5bd440094b28\")>,\n",
       " <selenium.webdriver.remote.webelement.WebElement (session=\"8dafbd72bc8a33abd3653eef8aab9fdf\", element=\"0bbfa1e5-0b4e-44b8-91ec-8964d7aafded\")>]"
      ]
     },
     "execution_count": 17,
     "metadata": {},
     "output_type": "execute_result"
    }
   ],
   "source": [
    "#Extracting the tags having the company_rating\n",
    "rating_tags=driver.find_elements_by_xpath(\"//span[@class='css-19pjha7 e1cjmv6j1']\")\n",
    "rating_tags"
   ]
  },
  {
   "cell_type": "code",
   "execution_count": 18,
   "metadata": {},
   "outputs": [
    {
     "data": {
      "text/plain": [
       "['3.6',\n",
       " '4.1',\n",
       " '4.1',\n",
       " '3.7',\n",
       " '3.1',\n",
       " '3.8',\n",
       " '3.8',\n",
       " '4.3',\n",
       " '5.0',\n",
       " '4.1',\n",
       " '4.0',\n",
       " '4.0',\n",
       " '4.1',\n",
       " '2.3',\n",
       " '4.5',\n",
       " '3.7',\n",
       " '3.7',\n",
       " '4.1',\n",
       " '4.1',\n",
       " '3.6',\n",
       " '3.8',\n",
       " '1.9',\n",
       " '3.8',\n",
       " '3.6',\n",
       " '4.1',\n",
       " '3.8',\n",
       " '3.6',\n",
       " '4.4',\n",
       " '3.8']"
      ]
     },
     "execution_count": 18,
     "metadata": {},
     "output_type": "execute_result"
    }
   ],
   "source": [
    "#extracting text inside company_rating\n",
    "for i in rating_tags:\n",
    "    company_rating.append(i.text)\n",
    "company_rating"
   ]
  },
  {
   "cell_type": "code",
   "execution_count": 19,
   "metadata": {},
   "outputs": [
    {
     "data": {
      "text/html": [
       "<div>\n",
       "<style scoped>\n",
       "    .dataframe tbody tr th:only-of-type {\n",
       "        vertical-align: middle;\n",
       "    }\n",
       "\n",
       "    .dataframe tbody tr th {\n",
       "        vertical-align: top;\n",
       "    }\n",
       "\n",
       "    .dataframe thead th {\n",
       "        text-align: right;\n",
       "    }\n",
       "</style>\n",
       "<table border=\"1\" class=\"dataframe\">\n",
       "  <thead>\n",
       "    <tr style=\"text-align: right;\">\n",
       "      <th></th>\n",
       "      <th>Company_Name,</th>\n",
       "      <th>Job Posting days</th>\n",
       "      <th>Rating of the company</th>\n",
       "    </tr>\n",
       "  </thead>\n",
       "  <tbody>\n",
       "    <tr>\n",
       "      <th>0</th>\n",
       "      <td>UnitedHealth Group</td>\n",
       "      <td>2 days ago</td>\n",
       "      <td>3.6</td>\n",
       "    </tr>\n",
       "    <tr>\n",
       "      <th>1</th>\n",
       "      <td>Siemens Technology and Services Private Limited</td>\n",
       "      <td>4 days ago</td>\n",
       "      <td>4.1</td>\n",
       "    </tr>\n",
       "    <tr>\n",
       "      <th>2</th>\n",
       "      <td>Ericsson</td>\n",
       "      <td>3 days ago</td>\n",
       "      <td>4.1</td>\n",
       "    </tr>\n",
       "    <tr>\n",
       "      <th>3</th>\n",
       "      <td>Priority Vendor</td>\n",
       "      <td>16 days ago</td>\n",
       "      <td>3.7</td>\n",
       "    </tr>\n",
       "    <tr>\n",
       "      <th>4</th>\n",
       "      <td>Gauge Data Solutions</td>\n",
       "      <td>16 days ago</td>\n",
       "      <td>3.1</td>\n",
       "    </tr>\n",
       "    <tr>\n",
       "      <th>5</th>\n",
       "      <td>Biz2Credit Inc</td>\n",
       "      <td>25 days ago</td>\n",
       "      <td>3.8</td>\n",
       "    </tr>\n",
       "    <tr>\n",
       "      <th>6</th>\n",
       "      <td>WishFin</td>\n",
       "      <td>24h</td>\n",
       "      <td>3.8</td>\n",
       "    </tr>\n",
       "    <tr>\n",
       "      <th>7</th>\n",
       "      <td>Axslogic</td>\n",
       "      <td>15 days ago</td>\n",
       "      <td>4.3</td>\n",
       "    </tr>\n",
       "    <tr>\n",
       "      <th>8</th>\n",
       "      <td>Techlive</td>\n",
       "      <td>23 days ago</td>\n",
       "      <td>5.0</td>\n",
       "    </tr>\n",
       "    <tr>\n",
       "      <th>9</th>\n",
       "      <td>Boston Consulting Group</td>\n",
       "      <td>3 days ago</td>\n",
       "      <td>4.1</td>\n",
       "    </tr>\n",
       "  </tbody>\n",
       "</table>\n",
       "</div>"
      ],
      "text/plain": [
       "                                     Company_Name, Job Posting days  \\\n",
       "0                               UnitedHealth Group       2 days ago   \n",
       "1  Siemens Technology and Services Private Limited       4 days ago   \n",
       "2                                         Ericsson       3 days ago   \n",
       "3                                  Priority Vendor      16 days ago   \n",
       "4                             Gauge Data Solutions      16 days ago   \n",
       "5                                   Biz2Credit Inc      25 days ago   \n",
       "6                                          WishFin              24h   \n",
       "7                                         Axslogic      15 days ago   \n",
       "8                                         Techlive      23 days ago   \n",
       "9                          Boston Consulting Group       3 days ago   \n",
       "\n",
       "  Rating of the company  \n",
       "0                   3.6  \n",
       "1                   4.1  \n",
       "2                   4.1  \n",
       "3                   3.7  \n",
       "4                   3.1  \n",
       "5                   3.8  \n",
       "6                   3.8  \n",
       "7                   4.3  \n",
       "8                   5.0  \n",
       "9                   4.1  "
      ]
     },
     "execution_count": 19,
     "metadata": {},
     "output_type": "execute_result"
    }
   ],
   "source": [
    "#Saving our answer in a DataFrame using Pandas\n",
    "jobglass=pd.DataFrame({})\n",
    "jobglass['Company_Name,']=company_names[0:10]\n",
    "jobglass['Job Posting days']=job_posting[0:10]\n",
    "jobglass['Rating of the company']=company_rating[0:10]\n",
    "jobglass"
   ]
  },
  {
   "cell_type": "code",
   "execution_count": 20,
   "metadata": {},
   "outputs": [],
   "source": [
    "#Closing driver\n",
    "driver.close()"
   ]
  },
  {
   "cell_type": "markdown",
   "metadata": {},
   "source": [
    "*****************************************************************************************************************************Completed************************************************************************************************************************************************************************************************************************************************************************************************************************"
   ]
  },
  {
   "cell_type": "markdown",
   "metadata": {},
   "source": [
    "# Q5: Write a python program to scrape the salary data for Data Scientist designation in Noida location.\n",
    "You have to scrape Company name, Number of salaries, Average salary, Min salary, Max Salary.\n",
    "\n",
    "Ans: Solution is as:-"
   ]
  },
  {
   "cell_type": "code",
   "execution_count": 21,
   "metadata": {},
   "outputs": [],
   "source": [
    "#Let's first connect to the web driver\n",
    "driver=webdriver.Chrome(\"chromedriver.exe\")"
   ]
  },
  {
   "cell_type": "code",
   "execution_count": 22,
   "metadata": {},
   "outputs": [],
   "source": [
    "#Opening webpage https://www.glassdoor.co.in/Salaries/index.htm/\n",
    "url=\"https://www.glassdoor.co.in/Salaries/index.htm\"\n",
    "driver.get(url)"
   ]
  },
  {
   "cell_type": "code",
   "execution_count": 23,
   "metadata": {},
   "outputs": [
    {
     "data": {
      "text/plain": [
       "<selenium.webdriver.remote.webelement.WebElement (session=\"faefc8d92cf61d13b09056a8a4905267\", element=\"a636a228-847c-4584-b5ed-1df343c19a2e\")>"
      ]
     },
     "execution_count": 23,
     "metadata": {},
     "output_type": "execute_result"
    }
   ],
   "source": [
    "#finding element for job search bar\n",
    "search_job=driver.find_element_by_id('KeywordSearch')\n",
    "search_job"
   ]
  },
  {
   "cell_type": "code",
   "execution_count": 24,
   "metadata": {},
   "outputs": [],
   "source": [
    "#Searching for Data Scientist in Search bar\n",
    "search_job.send_keys(\"Data Scientist\")"
   ]
  },
  {
   "cell_type": "code",
   "execution_count": 25,
   "metadata": {},
   "outputs": [],
   "source": [
    "#finding element for job location bar\n",
    "search_loc=driver.find_element_by_id(\"LocationSearch\")\n",
    "search_loc.send_keys(\"Noida\")"
   ]
  },
  {
   "cell_type": "code",
   "execution_count": 26,
   "metadata": {},
   "outputs": [],
   "source": [
    "#Clicking the Search Button using Xpath function\n",
    "search_btn=driver.find_element_by_xpath(\"//button[@class='gd-btn-mkt']\")\n",
    "search_btn.click()"
   ]
  },
  {
   "cell_type": "code",
   "execution_count": 27,
   "metadata": {},
   "outputs": [
    {
     "data": {
      "text/plain": [
       "[<selenium.webdriver.remote.webelement.WebElement (session=\"faefc8d92cf61d13b09056a8a4905267\", element=\"43b19157-5477-42a8-98a9-d4fdcc9cc6f7\")>,\n",
       " <selenium.webdriver.remote.webelement.WebElement (session=\"faefc8d92cf61d13b09056a8a4905267\", element=\"35fa808b-f87a-45be-a2ea-de802d1da646\")>,\n",
       " <selenium.webdriver.remote.webelement.WebElement (session=\"faefc8d92cf61d13b09056a8a4905267\", element=\"5c084bff-304d-4283-87bf-18aa4a3c0de9\")>,\n",
       " <selenium.webdriver.remote.webelement.WebElement (session=\"faefc8d92cf61d13b09056a8a4905267\", element=\"0963f524-d208-4509-9385-4618e452fc71\")>,\n",
       " <selenium.webdriver.remote.webelement.WebElement (session=\"faefc8d92cf61d13b09056a8a4905267\", element=\"1f255114-33e0-4879-8378-cc0bfb0ea4b3\")>,\n",
       " <selenium.webdriver.remote.webelement.WebElement (session=\"faefc8d92cf61d13b09056a8a4905267\", element=\"67c709a1-1225-4d91-9c1e-08d8cb9ece85\")>,\n",
       " <selenium.webdriver.remote.webelement.WebElement (session=\"faefc8d92cf61d13b09056a8a4905267\", element=\"922087a6-7cd7-42fb-9402-2adeda6519bf\")>,\n",
       " <selenium.webdriver.remote.webelement.WebElement (session=\"faefc8d92cf61d13b09056a8a4905267\", element=\"6d42b6cc-069d-427a-b409-71845f124fc1\")>,\n",
       " <selenium.webdriver.remote.webelement.WebElement (session=\"faefc8d92cf61d13b09056a8a4905267\", element=\"e84d9665-c7a3-4f3f-8965-5f1a30737aeb\")>,\n",
       " <selenium.webdriver.remote.webelement.WebElement (session=\"faefc8d92cf61d13b09056a8a4905267\", element=\"915bc258-a921-4335-a0e4-d0cba8c32cc3\")>,\n",
       " <selenium.webdriver.remote.webelement.WebElement (session=\"faefc8d92cf61d13b09056a8a4905267\", element=\"27587006-ac55-4a95-94f7-ed2c2a9856f3\")>,\n",
       " <selenium.webdriver.remote.webelement.WebElement (session=\"faefc8d92cf61d13b09056a8a4905267\", element=\"2ef28065-409a-4400-b1c4-dff520d78d43\")>,\n",
       " <selenium.webdriver.remote.webelement.WebElement (session=\"faefc8d92cf61d13b09056a8a4905267\", element=\"d400f3ac-ed01-4121-a2dc-621d8aefb8a9\")>,\n",
       " <selenium.webdriver.remote.webelement.WebElement (session=\"faefc8d92cf61d13b09056a8a4905267\", element=\"08881bbe-69d5-4197-b14e-9a2fe438d7b4\")>,\n",
       " <selenium.webdriver.remote.webelement.WebElement (session=\"faefc8d92cf61d13b09056a8a4905267\", element=\"a67b70a0-9ee9-42b3-ad9e-723c6ce2a01a\")>,\n",
       " <selenium.webdriver.remote.webelement.WebElement (session=\"faefc8d92cf61d13b09056a8a4905267\", element=\"2e67b3f9-d84e-4671-9dcd-bb49f5d5d619\")>,\n",
       " <selenium.webdriver.remote.webelement.WebElement (session=\"faefc8d92cf61d13b09056a8a4905267\", element=\"363950ed-271f-45e1-8786-4a70cb9a946a\")>,\n",
       " <selenium.webdriver.remote.webelement.WebElement (session=\"faefc8d92cf61d13b09056a8a4905267\", element=\"a221b4b6-02c0-4fee-aeea-7e91197d4a1d\")>,\n",
       " <selenium.webdriver.remote.webelement.WebElement (session=\"faefc8d92cf61d13b09056a8a4905267\", element=\"b814ce36-5d13-404f-8669-a2101fcc3310\")>,\n",
       " <selenium.webdriver.remote.webelement.WebElement (session=\"faefc8d92cf61d13b09056a8a4905267\", element=\"58840775-c6f4-4ac7-9263-37d47c3cc2e9\")>]"
      ]
     },
     "execution_count": 27,
     "metadata": {},
     "output_type": "execute_result"
    }
   ],
   "source": [
    "#Extracting all the tags having company name\n",
    "companies_tags=driver.find_elements_by_xpath(\"//div[@class='d-flex']/div[2]/p[2]\" )\n",
    "companies_tags"
   ]
  },
  {
   "cell_type": "code",
   "execution_count": 28,
   "metadata": {},
   "outputs": [
    {
     "data": {
      "text/plain": [
       "['Tata Consultancy Services',\n",
       " 'IBM',\n",
       " 'Accenture',\n",
       " 'Ericsson-Worldwide',\n",
       " 'Delhivery',\n",
       " 'UnitedHealth Group',\n",
       " 'Valiance Solutions',\n",
       " 'ZS Associates',\n",
       " 'EXL Service',\n",
       " 'Optum Global Solutions',\n",
       " 'Innovaccer',\n",
       " 'Cognizant Technology Solutions',\n",
       " 'Optum',\n",
       " 'Tech Mahindra',\n",
       " 'OYO',\n",
       " 'Nagarro',\n",
       " 'dunnhumby',\n",
       " 'Vidooly Media Tech',\n",
       " 'Algo8.ai',\n",
       " 'Amazon']"
      ]
     },
     "execution_count": 28,
     "metadata": {},
     "output_type": "execute_result"
    }
   ],
   "source": [
    "#Creating empty List so that we can store data in this list while scraping\n",
    "company_names=[]\n",
    "#extracting text inside company tags\n",
    "for i in companies_tags:\n",
    "    company_names.append(i.text)\n",
    "company_names"
   ]
  },
  {
   "cell_type": "code",
   "execution_count": 29,
   "metadata": {},
   "outputs": [
    {
     "data": {
      "text/plain": [
       "[<selenium.webdriver.remote.webelement.WebElement (session=\"faefc8d92cf61d13b09056a8a4905267\", element=\"539a0236-9e65-4cd4-b7c0-86cfbe54de8f\")>,\n",
       " <selenium.webdriver.remote.webelement.WebElement (session=\"faefc8d92cf61d13b09056a8a4905267\", element=\"d9a6b8ae-0fd8-44c3-be70-a4a7ecd04569\")>,\n",
       " <selenium.webdriver.remote.webelement.WebElement (session=\"faefc8d92cf61d13b09056a8a4905267\", element=\"e34969b9-ed97-4b61-a878-b6af9c49e56f\")>,\n",
       " <selenium.webdriver.remote.webelement.WebElement (session=\"faefc8d92cf61d13b09056a8a4905267\", element=\"38b4e1b5-3db6-4cfe-90d9-6332657f908c\")>,\n",
       " <selenium.webdriver.remote.webelement.WebElement (session=\"faefc8d92cf61d13b09056a8a4905267\", element=\"6aaa2213-076a-46bc-b55f-fdb1dee7e690\")>,\n",
       " <selenium.webdriver.remote.webelement.WebElement (session=\"faefc8d92cf61d13b09056a8a4905267\", element=\"4ef7fc0b-8c45-4ceb-a928-af26ec6bfd68\")>,\n",
       " <selenium.webdriver.remote.webelement.WebElement (session=\"faefc8d92cf61d13b09056a8a4905267\", element=\"75e08d18-ba0d-4e9f-bfd1-d018d6703f48\")>,\n",
       " <selenium.webdriver.remote.webelement.WebElement (session=\"faefc8d92cf61d13b09056a8a4905267\", element=\"84152c95-f4f4-4d45-8c3a-7afb308282e3\")>,\n",
       " <selenium.webdriver.remote.webelement.WebElement (session=\"faefc8d92cf61d13b09056a8a4905267\", element=\"ad52807b-19aa-4192-97e0-0c31f99f73f6\")>,\n",
       " <selenium.webdriver.remote.webelement.WebElement (session=\"faefc8d92cf61d13b09056a8a4905267\", element=\"206fd878-e2ca-4225-b193-1df1560b8115\")>,\n",
       " <selenium.webdriver.remote.webelement.WebElement (session=\"faefc8d92cf61d13b09056a8a4905267\", element=\"bdf2c563-0e18-4133-ab0e-8e680b6284d4\")>,\n",
       " <selenium.webdriver.remote.webelement.WebElement (session=\"faefc8d92cf61d13b09056a8a4905267\", element=\"c8ca2099-55b8-4a85-809b-e3c4ec2a95c5\")>,\n",
       " <selenium.webdriver.remote.webelement.WebElement (session=\"faefc8d92cf61d13b09056a8a4905267\", element=\"8dac9b56-722c-4939-b21c-6b21f30de15f\")>,\n",
       " <selenium.webdriver.remote.webelement.WebElement (session=\"faefc8d92cf61d13b09056a8a4905267\", element=\"6002b216-bb45-42a3-8c55-2404395f11a6\")>,\n",
       " <selenium.webdriver.remote.webelement.WebElement (session=\"faefc8d92cf61d13b09056a8a4905267\", element=\"4e859f56-759a-4cc7-956c-cdf7c4c0be30\")>,\n",
       " <selenium.webdriver.remote.webelement.WebElement (session=\"faefc8d92cf61d13b09056a8a4905267\", element=\"1128b09b-6ebb-4a62-9f02-e726497d9269\")>,\n",
       " <selenium.webdriver.remote.webelement.WebElement (session=\"faefc8d92cf61d13b09056a8a4905267\", element=\"fd822cfd-cd04-44ae-989d-058579c471c9\")>,\n",
       " <selenium.webdriver.remote.webelement.WebElement (session=\"faefc8d92cf61d13b09056a8a4905267\", element=\"c0931b6e-b918-4cc0-a6eb-170151058a88\")>,\n",
       " <selenium.webdriver.remote.webelement.WebElement (session=\"faefc8d92cf61d13b09056a8a4905267\", element=\"a9b8eee4-7c16-497d-810d-d6da6b227595\")>,\n",
       " <selenium.webdriver.remote.webelement.WebElement (session=\"faefc8d92cf61d13b09056a8a4905267\", element=\"d4a24e37-132b-4598-9b5a-408b40ee7b3b\")>]"
      ]
     },
     "execution_count": 29,
     "metadata": {},
     "output_type": "execute_result"
    }
   ],
   "source": [
    "#Extracting all the tags having Number of salaries\n",
    "salaries_count=driver.find_elements_by_xpath(\"//div[@class='d-flex']/div[2]/p[5]\")\n",
    "salaries_count"
   ]
  },
  {
   "cell_type": "code",
   "execution_count": 30,
   "metadata": {},
   "outputs": [
    {
     "data": {
      "text/plain": [
       "['17 salaries',\n",
       " '15 salaries',\n",
       " '14 salaries',\n",
       " '14 salaries',\n",
       " '14 salaries',\n",
       " '11 salaries',\n",
       " '9 salaries',\n",
       " '8 salaries',\n",
       " '8 salaries',\n",
       " '8 salaries',\n",
       " '8 salaries',\n",
       " '6 salaries',\n",
       " '6 salaries',\n",
       " '5 salaries',\n",
       " '5 salaries',\n",
       " '5 salaries',\n",
       " '5 salaries',\n",
       " '5 salaries',\n",
       " '5 salaries',\n",
       " '4 salaries']"
      ]
     },
     "execution_count": 30,
     "metadata": {},
     "output_type": "execute_result"
    }
   ],
   "source": [
    "#Creating empty List so that we can store data in this list while scraping\n",
    "salary_numbers=[]\n",
    "#extracting text inside Number of salaries tags\n",
    "for i in salaries_count:\n",
    "    salary_numbers.append(i.text)\n",
    "salary_numbers"
   ]
  },
  {
   "cell_type": "code",
   "execution_count": 31,
   "metadata": {},
   "outputs": [
    {
     "data": {
      "text/plain": [
       "[<selenium.webdriver.remote.webelement.WebElement (session=\"faefc8d92cf61d13b09056a8a4905267\", element=\"559b7f25-5682-4727-86fe-aff2398f0ce8\")>,\n",
       " <selenium.webdriver.remote.webelement.WebElement (session=\"faefc8d92cf61d13b09056a8a4905267\", element=\"62003cf5-8388-4b9f-a1e4-9380a4f9650a\")>,\n",
       " <selenium.webdriver.remote.webelement.WebElement (session=\"faefc8d92cf61d13b09056a8a4905267\", element=\"a232054e-2d84-43c6-baef-4d6f3d574db5\")>,\n",
       " <selenium.webdriver.remote.webelement.WebElement (session=\"faefc8d92cf61d13b09056a8a4905267\", element=\"bffbcbb5-73f8-4ddd-9375-37d58932549e\")>,\n",
       " <selenium.webdriver.remote.webelement.WebElement (session=\"faefc8d92cf61d13b09056a8a4905267\", element=\"a27f43d0-044c-41dc-b409-b382f5836012\")>,\n",
       " <selenium.webdriver.remote.webelement.WebElement (session=\"faefc8d92cf61d13b09056a8a4905267\", element=\"d8f16fd7-1f0b-4adc-b919-c342b5c2894f\")>,\n",
       " <selenium.webdriver.remote.webelement.WebElement (session=\"faefc8d92cf61d13b09056a8a4905267\", element=\"dd2dc338-3c29-4b12-b567-ddcc1650ead8\")>,\n",
       " <selenium.webdriver.remote.webelement.WebElement (session=\"faefc8d92cf61d13b09056a8a4905267\", element=\"46ec349e-2eb2-4fbb-8f7c-f069c6ac8527\")>,\n",
       " <selenium.webdriver.remote.webelement.WebElement (session=\"faefc8d92cf61d13b09056a8a4905267\", element=\"0915f7c8-27a3-4ea3-b393-010ec9741b9b\")>,\n",
       " <selenium.webdriver.remote.webelement.WebElement (session=\"faefc8d92cf61d13b09056a8a4905267\", element=\"13a08d44-2178-417c-b463-b1d74a6fe602\")>,\n",
       " <selenium.webdriver.remote.webelement.WebElement (session=\"faefc8d92cf61d13b09056a8a4905267\", element=\"d422fc08-e6fe-433f-9493-4dd63620aaad\")>,\n",
       " <selenium.webdriver.remote.webelement.WebElement (session=\"faefc8d92cf61d13b09056a8a4905267\", element=\"f421eadb-ce9d-431c-b5dd-e6cfaa83c008\")>,\n",
       " <selenium.webdriver.remote.webelement.WebElement (session=\"faefc8d92cf61d13b09056a8a4905267\", element=\"895204fd-8a2c-4a68-9b29-aa03c93494f2\")>,\n",
       " <selenium.webdriver.remote.webelement.WebElement (session=\"faefc8d92cf61d13b09056a8a4905267\", element=\"110a360d-8f29-4fac-a53c-c962538bc1b5\")>,\n",
       " <selenium.webdriver.remote.webelement.WebElement (session=\"faefc8d92cf61d13b09056a8a4905267\", element=\"b0d20a4b-a3f6-4a89-80ad-e42cba33f8ef\")>,\n",
       " <selenium.webdriver.remote.webelement.WebElement (session=\"faefc8d92cf61d13b09056a8a4905267\", element=\"cd999a96-6c0c-430d-b101-52de8aa3a421\")>,\n",
       " <selenium.webdriver.remote.webelement.WebElement (session=\"faefc8d92cf61d13b09056a8a4905267\", element=\"6f344ac3-2f73-4b7d-a2bb-7e5aadc9045b\")>,\n",
       " <selenium.webdriver.remote.webelement.WebElement (session=\"faefc8d92cf61d13b09056a8a4905267\", element=\"831c0ab9-a091-4fef-bd74-641029edd19b\")>,\n",
       " <selenium.webdriver.remote.webelement.WebElement (session=\"faefc8d92cf61d13b09056a8a4905267\", element=\"413a94af-f232-4017-91b4-e66de09343fc\")>,\n",
       " <selenium.webdriver.remote.webelement.WebElement (session=\"faefc8d92cf61d13b09056a8a4905267\", element=\"b71659bb-ac9d-4701-8841-9ae4a7656bed\")>]"
      ]
     },
     "execution_count": 31,
     "metadata": {},
     "output_type": "execute_result"
    }
   ],
   "source": [
    "#Extracting all the tags having Average salary\n",
    "salaries_average=driver.find_elements_by_xpath(\"//div[@class='col-2 d-none d-md-flex flex-row justify-content-end']\")\n",
    "salaries_average"
   ]
  },
  {
   "cell_type": "code",
   "execution_count": 32,
   "metadata": {},
   "outputs": [
    {
     "data": {
      "text/plain": [
       "['₹ 6,14,306/yr',\n",
       " '₹ 9,00,000/yr',\n",
       " '₹ 11,46,533/yr',\n",
       " '₹ 7,38,057/yr',\n",
       " '₹ 12,39,781/yr',\n",
       " '₹ 13,36,142/yr',\n",
       " '₹ 8,15,192/yr',\n",
       " '₹ 11,35,221/yr',\n",
       " '₹ 11,44,243/yr',\n",
       " '₹ 14,13,288/yr',\n",
       " '₹ 12,07,110/yr',\n",
       " '₹ 10,07,410/yr',\n",
       " '₹ 13,18,851/yr',\n",
       " '₹ 10,52,718/yr',\n",
       " '₹ 14,13,078/yr',\n",
       " '₹ 9,61,653/yr',\n",
       " '₹ 11,00,000/yr',\n",
       " '₹ 15,887/mo',\n",
       " '₹ 6,75,000/yr',\n",
       " '₹ 15,00,000/yr']"
      ]
     },
     "execution_count": 32,
     "metadata": {},
     "output_type": "execute_result"
    }
   ],
   "source": [
    "#Creating empty List so that we can store data in this list while scraping\n",
    "average_salary=[]\n",
    "#extracting text inside Average salary tags\n",
    "for i in salaries_average:\n",
    "    average_salary.append(i.text.replace('\\n',''))\n",
    "average_salary"
   ]
  },
  {
   "cell_type": "code",
   "execution_count": 33,
   "metadata": {},
   "outputs": [
    {
     "data": {
      "text/plain": [
       "[<selenium.webdriver.remote.webelement.WebElement (session=\"faefc8d92cf61d13b09056a8a4905267\", element=\"9de5e06e-9321-49c0-86f1-b206f15017b6\")>,\n",
       " <selenium.webdriver.remote.webelement.WebElement (session=\"faefc8d92cf61d13b09056a8a4905267\", element=\"45bcd3ad-ea01-4901-bd38-8891f321aa98\")>,\n",
       " <selenium.webdriver.remote.webelement.WebElement (session=\"faefc8d92cf61d13b09056a8a4905267\", element=\"c3bc7be8-c841-4565-86f5-9d6ff9a589e0\")>,\n",
       " <selenium.webdriver.remote.webelement.WebElement (session=\"faefc8d92cf61d13b09056a8a4905267\", element=\"906d9dde-ee67-4269-ae03-222fd6e70b4d\")>,\n",
       " <selenium.webdriver.remote.webelement.WebElement (session=\"faefc8d92cf61d13b09056a8a4905267\", element=\"cb57ec8f-69f3-41e2-8b58-8368dc022da3\")>,\n",
       " <selenium.webdriver.remote.webelement.WebElement (session=\"faefc8d92cf61d13b09056a8a4905267\", element=\"e1fa9118-289f-42b7-93ee-703c6da01775\")>,\n",
       " <selenium.webdriver.remote.webelement.WebElement (session=\"faefc8d92cf61d13b09056a8a4905267\", element=\"d9683724-5ee7-402c-bdb6-28a19d6b5595\")>,\n",
       " <selenium.webdriver.remote.webelement.WebElement (session=\"faefc8d92cf61d13b09056a8a4905267\", element=\"56e3e8bb-037e-4a6c-a39d-a4f284737b03\")>,\n",
       " <selenium.webdriver.remote.webelement.WebElement (session=\"faefc8d92cf61d13b09056a8a4905267\", element=\"d83525ba-ba26-4b33-bb86-e538c6694f56\")>,\n",
       " <selenium.webdriver.remote.webelement.WebElement (session=\"faefc8d92cf61d13b09056a8a4905267\", element=\"f2f60b46-fdfa-4752-a022-496187ca9939\")>,\n",
       " <selenium.webdriver.remote.webelement.WebElement (session=\"faefc8d92cf61d13b09056a8a4905267\", element=\"d82ace68-93e2-4eab-a077-338b010a520d\")>,\n",
       " <selenium.webdriver.remote.webelement.WebElement (session=\"faefc8d92cf61d13b09056a8a4905267\", element=\"46c4befc-09e7-4ab1-ba36-1f6559f1ca61\")>,\n",
       " <selenium.webdriver.remote.webelement.WebElement (session=\"faefc8d92cf61d13b09056a8a4905267\", element=\"2d354015-4df3-4f00-bec9-5a44d6fac2c4\")>,\n",
       " <selenium.webdriver.remote.webelement.WebElement (session=\"faefc8d92cf61d13b09056a8a4905267\", element=\"9415f2cc-ecc2-4d30-8146-466fa1d98ed8\")>,\n",
       " <selenium.webdriver.remote.webelement.WebElement (session=\"faefc8d92cf61d13b09056a8a4905267\", element=\"9a53c095-67c0-4cee-a45b-5a5992d38c6c\")>,\n",
       " <selenium.webdriver.remote.webelement.WebElement (session=\"faefc8d92cf61d13b09056a8a4905267\", element=\"b84a34ae-9a8d-485f-b0ce-a5c2e81da081\")>,\n",
       " <selenium.webdriver.remote.webelement.WebElement (session=\"faefc8d92cf61d13b09056a8a4905267\", element=\"f0e0d29c-9a0d-417f-864e-9f3299db2fb4\")>,\n",
       " <selenium.webdriver.remote.webelement.WebElement (session=\"faefc8d92cf61d13b09056a8a4905267\", element=\"ecddf523-6173-46a7-b4cb-1042bf6ebfe9\")>,\n",
       " <selenium.webdriver.remote.webelement.WebElement (session=\"faefc8d92cf61d13b09056a8a4905267\", element=\"ec26d85e-b00e-48e1-809d-92d9a21cddb3\")>,\n",
       " <selenium.webdriver.remote.webelement.WebElement (session=\"faefc8d92cf61d13b09056a8a4905267\", element=\"377ccdd6-f61a-4d0d-813c-436c6f29996e\")>]"
      ]
     },
     "execution_count": 33,
     "metadata": {},
     "output_type": "execute_result"
    }
   ],
   "source": [
    "#Extracting all the tags having Min salary\n",
    "salaries_min=driver.find_elements_by_xpath(\"//div[@class='col-3 offset-1 d-none d-md-block']/div/div[2]/span[1]\")\n",
    "salaries_min"
   ]
  },
  {
   "cell_type": "code",
   "execution_count": 34,
   "metadata": {},
   "outputs": [
    {
     "data": {
      "text/plain": [
       "['₹343K',\n",
       " '₹586K',\n",
       " '₹577K',\n",
       " '₹355K',\n",
       " '₹450K',\n",
       " '₹1,069K',\n",
       " '₹502K',\n",
       " '₹202K',\n",
       " '₹575K',\n",
       " '₹1,014K',\n",
       " '₹620K',\n",
       " '₹792K',\n",
       " '₹807K',\n",
       " '₹405K',\n",
       " '₹971K',\n",
       " '₹400K',\n",
       " '₹817K',\n",
       " '₹12K',\n",
       " '₹86K',\n",
       " '₹772K']"
      ]
     },
     "execution_count": 34,
     "metadata": {},
     "output_type": "execute_result"
    }
   ],
   "source": [
    "#Creating empty List so that we can store data in this list while scraping\n",
    "minimum_salary=[]\n",
    "#extracting text inside Average salary tags\n",
    "for i in salaries_min:\n",
    "    minimum_salary.append(i.text)\n",
    "minimum_salary"
   ]
  },
  {
   "cell_type": "code",
   "execution_count": 35,
   "metadata": {},
   "outputs": [
    {
     "data": {
      "text/plain": [
       "[<selenium.webdriver.remote.webelement.WebElement (session=\"faefc8d92cf61d13b09056a8a4905267\", element=\"0c442053-f29b-429c-8ef9-4f661022cc2e\")>,\n",
       " <selenium.webdriver.remote.webelement.WebElement (session=\"faefc8d92cf61d13b09056a8a4905267\", element=\"ac4e6a54-4648-476e-a600-79380a67d47d\")>,\n",
       " <selenium.webdriver.remote.webelement.WebElement (session=\"faefc8d92cf61d13b09056a8a4905267\", element=\"077127ca-0b03-4294-87d9-1b5e87dd35bb\")>,\n",
       " <selenium.webdriver.remote.webelement.WebElement (session=\"faefc8d92cf61d13b09056a8a4905267\", element=\"ddc0d60f-3d18-4052-a78a-dc8b0f99cfdb\")>,\n",
       " <selenium.webdriver.remote.webelement.WebElement (session=\"faefc8d92cf61d13b09056a8a4905267\", element=\"18fc5e9c-16a9-4275-8e45-bea4969bb26f\")>,\n",
       " <selenium.webdriver.remote.webelement.WebElement (session=\"faefc8d92cf61d13b09056a8a4905267\", element=\"eb8c36c5-cc64-4a21-82d5-49436b705caa\")>,\n",
       " <selenium.webdriver.remote.webelement.WebElement (session=\"faefc8d92cf61d13b09056a8a4905267\", element=\"de43497e-1980-49b8-8630-9c331bb306fc\")>,\n",
       " <selenium.webdriver.remote.webelement.WebElement (session=\"faefc8d92cf61d13b09056a8a4905267\", element=\"f26b5fd5-7f78-4c19-88b4-64c96a33790b\")>,\n",
       " <selenium.webdriver.remote.webelement.WebElement (session=\"faefc8d92cf61d13b09056a8a4905267\", element=\"6ed145e7-0c45-4f66-8371-4891185ad09d\")>,\n",
       " <selenium.webdriver.remote.webelement.WebElement (session=\"faefc8d92cf61d13b09056a8a4905267\", element=\"e4f7101a-6d02-44c7-8b1e-ca18cb9c42a1\")>,\n",
       " <selenium.webdriver.remote.webelement.WebElement (session=\"faefc8d92cf61d13b09056a8a4905267\", element=\"e2b1b5f7-f7c3-4678-aa1f-0a690207dd22\")>,\n",
       " <selenium.webdriver.remote.webelement.WebElement (session=\"faefc8d92cf61d13b09056a8a4905267\", element=\"97f05a17-735e-49ee-b78e-8dafe3d5f860\")>,\n",
       " <selenium.webdriver.remote.webelement.WebElement (session=\"faefc8d92cf61d13b09056a8a4905267\", element=\"c5dd59a9-7c28-4ee3-9caf-36fb999fad31\")>,\n",
       " <selenium.webdriver.remote.webelement.WebElement (session=\"faefc8d92cf61d13b09056a8a4905267\", element=\"4dca8def-b3d6-4588-9920-c521e8f39acb\")>,\n",
       " <selenium.webdriver.remote.webelement.WebElement (session=\"faefc8d92cf61d13b09056a8a4905267\", element=\"cfbaac7e-eaa2-41e1-a861-0f1401f55457\")>,\n",
       " <selenium.webdriver.remote.webelement.WebElement (session=\"faefc8d92cf61d13b09056a8a4905267\", element=\"29de225b-889d-4a61-a99b-bc6a21b95af1\")>,\n",
       " <selenium.webdriver.remote.webelement.WebElement (session=\"faefc8d92cf61d13b09056a8a4905267\", element=\"116f6301-28ba-498c-a7ea-b58827b2f692\")>,\n",
       " <selenium.webdriver.remote.webelement.WebElement (session=\"faefc8d92cf61d13b09056a8a4905267\", element=\"49472f21-09ff-42f2-9eeb-19520f8b4ae6\")>,\n",
       " <selenium.webdriver.remote.webelement.WebElement (session=\"faefc8d92cf61d13b09056a8a4905267\", element=\"2fdf7a39-0a3c-4e22-b1ee-26457417f84a\")>,\n",
       " <selenium.webdriver.remote.webelement.WebElement (session=\"faefc8d92cf61d13b09056a8a4905267\", element=\"a2c5c5fb-4c82-4a7c-8287-be79b2fda4cc\")>]"
      ]
     },
     "execution_count": 35,
     "metadata": {},
     "output_type": "execute_result"
    }
   ],
   "source": [
    "#Extracting all the tags having Max salary\n",
    "salaries_max=driver.find_elements_by_xpath(\"//div[@class='col-3 offset-1 d-none d-md-block']/div/div[2]/span[2]\")\n",
    "salaries_max"
   ]
  },
  {
   "cell_type": "code",
   "execution_count": 36,
   "metadata": {},
   "outputs": [
    {
     "data": {
      "text/plain": [
       "['₹1,250K',\n",
       " '₹2,730K',\n",
       " '₹2,213K',\n",
       " '₹1,613K',\n",
       " '₹11,622K',\n",
       " '₹1,520K',\n",
       " '₹1,465K',\n",
       " '₹1,809K',\n",
       " '₹1,520K',\n",
       " '₹2,149K',\n",
       " '₹1,695K',\n",
       " '₹1,263K',\n",
       " '₹1,986K',\n",
       " '₹1,703K',\n",
       " '₹1,883K',\n",
       " '₹1,124K',\n",
       " '₹2,006K',\n",
       " '₹63K',\n",
       " '₹1,358K',\n",
       " '₹2,091K']"
      ]
     },
     "execution_count": 36,
     "metadata": {},
     "output_type": "execute_result"
    }
   ],
   "source": [
    "#Creating empty List so that we can store data in this list while scraping\n",
    "maximum_salary=[]\n",
    "#extracting text inside Average salary tags\n",
    "for i in salaries_max:\n",
    "    maximum_salary.append(i.text)\n",
    "maximum_salary"
   ]
  },
  {
   "cell_type": "code",
   "execution_count": 37,
   "metadata": {},
   "outputs": [
    {
     "data": {
      "text/html": [
       "<div>\n",
       "<style scoped>\n",
       "    .dataframe tbody tr th:only-of-type {\n",
       "        vertical-align: middle;\n",
       "    }\n",
       "\n",
       "    .dataframe tbody tr th {\n",
       "        vertical-align: top;\n",
       "    }\n",
       "\n",
       "    .dataframe thead th {\n",
       "        text-align: right;\n",
       "    }\n",
       "</style>\n",
       "<table border=\"1\" class=\"dataframe\">\n",
       "  <thead>\n",
       "    <tr style=\"text-align: right;\">\n",
       "      <th></th>\n",
       "      <th>Company_Name,</th>\n",
       "      <th>Number of Salaries</th>\n",
       "      <th>Average Salary</th>\n",
       "      <th>Min Salary</th>\n",
       "      <th>Max Salary</th>\n",
       "    </tr>\n",
       "  </thead>\n",
       "  <tbody>\n",
       "    <tr>\n",
       "      <th>0</th>\n",
       "      <td>Tata Consultancy Services</td>\n",
       "      <td>17 salaries</td>\n",
       "      <td>₹ 6,14,306/yr</td>\n",
       "      <td>₹343K</td>\n",
       "      <td>₹1,250K</td>\n",
       "    </tr>\n",
       "    <tr>\n",
       "      <th>1</th>\n",
       "      <td>IBM</td>\n",
       "      <td>15 salaries</td>\n",
       "      <td>₹ 9,00,000/yr</td>\n",
       "      <td>₹586K</td>\n",
       "      <td>₹2,730K</td>\n",
       "    </tr>\n",
       "    <tr>\n",
       "      <th>2</th>\n",
       "      <td>Accenture</td>\n",
       "      <td>14 salaries</td>\n",
       "      <td>₹ 11,46,533/yr</td>\n",
       "      <td>₹577K</td>\n",
       "      <td>₹2,213K</td>\n",
       "    </tr>\n",
       "    <tr>\n",
       "      <th>3</th>\n",
       "      <td>Ericsson-Worldwide</td>\n",
       "      <td>14 salaries</td>\n",
       "      <td>₹ 7,38,057/yr</td>\n",
       "      <td>₹355K</td>\n",
       "      <td>₹1,613K</td>\n",
       "    </tr>\n",
       "    <tr>\n",
       "      <th>4</th>\n",
       "      <td>Delhivery</td>\n",
       "      <td>14 salaries</td>\n",
       "      <td>₹ 12,39,781/yr</td>\n",
       "      <td>₹450K</td>\n",
       "      <td>₹11,622K</td>\n",
       "    </tr>\n",
       "    <tr>\n",
       "      <th>5</th>\n",
       "      <td>UnitedHealth Group</td>\n",
       "      <td>11 salaries</td>\n",
       "      <td>₹ 13,36,142/yr</td>\n",
       "      <td>₹1,069K</td>\n",
       "      <td>₹1,520K</td>\n",
       "    </tr>\n",
       "    <tr>\n",
       "      <th>6</th>\n",
       "      <td>Valiance Solutions</td>\n",
       "      <td>9 salaries</td>\n",
       "      <td>₹ 8,15,192/yr</td>\n",
       "      <td>₹502K</td>\n",
       "      <td>₹1,465K</td>\n",
       "    </tr>\n",
       "    <tr>\n",
       "      <th>7</th>\n",
       "      <td>ZS Associates</td>\n",
       "      <td>8 salaries</td>\n",
       "      <td>₹ 11,35,221/yr</td>\n",
       "      <td>₹202K</td>\n",
       "      <td>₹1,809K</td>\n",
       "    </tr>\n",
       "    <tr>\n",
       "      <th>8</th>\n",
       "      <td>EXL Service</td>\n",
       "      <td>8 salaries</td>\n",
       "      <td>₹ 11,44,243/yr</td>\n",
       "      <td>₹575K</td>\n",
       "      <td>₹1,520K</td>\n",
       "    </tr>\n",
       "    <tr>\n",
       "      <th>9</th>\n",
       "      <td>Optum Global Solutions</td>\n",
       "      <td>8 salaries</td>\n",
       "      <td>₹ 14,13,288/yr</td>\n",
       "      <td>₹1,014K</td>\n",
       "      <td>₹2,149K</td>\n",
       "    </tr>\n",
       "  </tbody>\n",
       "</table>\n",
       "</div>"
      ],
      "text/plain": [
       "               Company_Name, Number of Salaries  Average Salary Min Salary  \\\n",
       "0  Tata Consultancy Services        17 salaries   ₹ 6,14,306/yr      ₹343K   \n",
       "1                        IBM        15 salaries   ₹ 9,00,000/yr      ₹586K   \n",
       "2                  Accenture        14 salaries  ₹ 11,46,533/yr      ₹577K   \n",
       "3         Ericsson-Worldwide        14 salaries   ₹ 7,38,057/yr      ₹355K   \n",
       "4                  Delhivery        14 salaries  ₹ 12,39,781/yr      ₹450K   \n",
       "5         UnitedHealth Group        11 salaries  ₹ 13,36,142/yr    ₹1,069K   \n",
       "6         Valiance Solutions         9 salaries   ₹ 8,15,192/yr      ₹502K   \n",
       "7              ZS Associates         8 salaries  ₹ 11,35,221/yr      ₹202K   \n",
       "8                EXL Service         8 salaries  ₹ 11,44,243/yr      ₹575K   \n",
       "9     Optum Global Solutions         8 salaries  ₹ 14,13,288/yr    ₹1,014K   \n",
       "\n",
       "  Max Salary  \n",
       "0    ₹1,250K  \n",
       "1    ₹2,730K  \n",
       "2    ₹2,213K  \n",
       "3    ₹1,613K  \n",
       "4   ₹11,622K  \n",
       "5    ₹1,520K  \n",
       "6    ₹1,465K  \n",
       "7    ₹1,809K  \n",
       "8    ₹1,520K  \n",
       "9    ₹2,149K  "
      ]
     },
     "execution_count": 37,
     "metadata": {},
     "output_type": "execute_result"
    }
   ],
   "source": [
    "#Saving our answer in a DataFrame using Pandas\n",
    "jobnoida=pd.DataFrame({})\n",
    "jobnoida['Company_Name,']=company_names[0:10]\n",
    "jobnoida['Number of Salaries']=salary_numbers[0:10]\n",
    "jobnoida['Average Salary']=average_salary[0:10]\n",
    "jobnoida['Min Salary']=minimum_salary[0:10]\n",
    "jobnoida['Max Salary']=maximum_salary[0:10]\n",
    "jobnoida"
   ]
  },
  {
   "cell_type": "code",
   "execution_count": 38,
   "metadata": {},
   "outputs": [],
   "source": [
    "#Closing driver\n",
    "driver.close()"
   ]
  },
  {
   "cell_type": "markdown",
   "metadata": {},
   "source": [
    "****************************************Completed*****************************************************************"
   ]
  },
  {
   "cell_type": "markdown",
   "metadata": {},
   "source": [
    "# Q6 : Scrape data of first 100 sunglasses listings on flipkart.com. You have to scrape four attributes:\n",
    "1. Brand\n",
    "2. Product Description\n",
    "3. Price\n",
    "4. Discount %\n",
    "\n",
    "Ans: Solution is as:-"
   ]
  },
  {
   "cell_type": "code",
   "execution_count": 102,
   "metadata": {},
   "outputs": [],
   "source": [
    "#Let's first connect to the web driver\n",
    "driver=webdriver.Chrome(\"chromedriver.exe\")"
   ]
  },
  {
   "cell_type": "code",
   "execution_count": 103,
   "metadata": {},
   "outputs": [],
   "source": [
    "#opening \"https://www.flipkart.com/\"\n",
    "url=\"https://www.flipkart.com/\"\n",
    "driver.get(url)"
   ]
  },
  {
   "cell_type": "code",
   "execution_count": 104,
   "metadata": {},
   "outputs": [
    {
     "data": {
      "text/plain": [
       "<selenium.webdriver.remote.webelement.WebElement (session=\"913b87598fdab2757ffc8b0ef4cee8a2\", element=\"fd121d4d-969a-44cb-8b11-aa0574c34f63\")>"
      ]
     },
     "execution_count": 104,
     "metadata": {},
     "output_type": "execute_result"
    }
   ],
   "source": [
    "#finding element for product search bar\n",
    "search_prod=driver.find_element_by_xpath(\"//input[@class='_3704LK']\")\n",
    "search_prod"
   ]
  },
  {
   "cell_type": "code",
   "execution_count": 105,
   "metadata": {},
   "outputs": [],
   "source": [
    "#Searching for “sunglasses” in Search bar\n",
    "search_prod.send_keys(\"sunglasses\")"
   ]
  },
  {
   "cell_type": "code",
   "execution_count": 106,
   "metadata": {},
   "outputs": [],
   "source": [
    "#Clicking the Search Button using Xpath function\n",
    "search_btn=driver.find_element_by_xpath(\"//button[@class='L0Z3Pu']\")\n",
    "search_btn.click()"
   ]
  },
  {
   "cell_type": "code",
   "execution_count": 107,
   "metadata": {},
   "outputs": [],
   "source": [
    "#Creating empty Lists so that we can store data in these lists while scraping first page\n",
    "Brand_list=[]\n",
    "Product_Description=[]\n",
    "Price_list=[]\n",
    "Discount=[]"
   ]
  },
  {
   "cell_type": "code",
   "execution_count": 108,
   "metadata": {},
   "outputs": [
    {
     "data": {
      "text/plain": [
       "[<selenium.webdriver.remote.webelement.WebElement (session=\"913b87598fdab2757ffc8b0ef4cee8a2\", element=\"9d27155c-7872-4172-b9be-462d64140038\")>,\n",
       " <selenium.webdriver.remote.webelement.WebElement (session=\"913b87598fdab2757ffc8b0ef4cee8a2\", element=\"75d87e90-b003-439f-b4cf-fe6081bd43d8\")>,\n",
       " <selenium.webdriver.remote.webelement.WebElement (session=\"913b87598fdab2757ffc8b0ef4cee8a2\", element=\"cfa8d7ec-3eea-402d-add0-30f2e1867fb6\")>,\n",
       " <selenium.webdriver.remote.webelement.WebElement (session=\"913b87598fdab2757ffc8b0ef4cee8a2\", element=\"1d4d791b-d30c-4c44-add9-c51270838654\")>,\n",
       " <selenium.webdriver.remote.webelement.WebElement (session=\"913b87598fdab2757ffc8b0ef4cee8a2\", element=\"c237c94e-30c0-47c2-83ec-4e9deec2bc59\")>,\n",
       " <selenium.webdriver.remote.webelement.WebElement (session=\"913b87598fdab2757ffc8b0ef4cee8a2\", element=\"abb78df1-452f-4376-97ee-fb885eb37832\")>,\n",
       " <selenium.webdriver.remote.webelement.WebElement (session=\"913b87598fdab2757ffc8b0ef4cee8a2\", element=\"05fccf35-f363-45d3-8dec-45b2daabc95c\")>,\n",
       " <selenium.webdriver.remote.webelement.WebElement (session=\"913b87598fdab2757ffc8b0ef4cee8a2\", element=\"86878cab-ca6c-4e25-9c29-139f3354d42a\")>,\n",
       " <selenium.webdriver.remote.webelement.WebElement (session=\"913b87598fdab2757ffc8b0ef4cee8a2\", element=\"ca0a2ec0-dded-428f-ac1c-246e4ab92658\")>,\n",
       " <selenium.webdriver.remote.webelement.WebElement (session=\"913b87598fdab2757ffc8b0ef4cee8a2\", element=\"8ae71bb0-3cf7-41fe-8e0c-1f0052825f8a\")>,\n",
       " <selenium.webdriver.remote.webelement.WebElement (session=\"913b87598fdab2757ffc8b0ef4cee8a2\", element=\"7a367b59-779c-40f2-b8c0-d2f2c646d92a\")>,\n",
       " <selenium.webdriver.remote.webelement.WebElement (session=\"913b87598fdab2757ffc8b0ef4cee8a2\", element=\"9252571f-b065-4584-9329-a63deca9aa56\")>,\n",
       " <selenium.webdriver.remote.webelement.WebElement (session=\"913b87598fdab2757ffc8b0ef4cee8a2\", element=\"355b1657-3f81-49cd-8766-5b6e8136db6d\")>,\n",
       " <selenium.webdriver.remote.webelement.WebElement (session=\"913b87598fdab2757ffc8b0ef4cee8a2\", element=\"c9b1fe7e-b35f-4852-a153-93dd137fe8ae\")>,\n",
       " <selenium.webdriver.remote.webelement.WebElement (session=\"913b87598fdab2757ffc8b0ef4cee8a2\", element=\"93a3971d-f901-41ab-b042-6fba55ec21e4\")>,\n",
       " <selenium.webdriver.remote.webelement.WebElement (session=\"913b87598fdab2757ffc8b0ef4cee8a2\", element=\"ecfc0061-f0fd-4152-a930-ca71d4d1a350\")>,\n",
       " <selenium.webdriver.remote.webelement.WebElement (session=\"913b87598fdab2757ffc8b0ef4cee8a2\", element=\"1e6e7f29-ef5c-49f5-b264-f9c036fb3300\")>,\n",
       " <selenium.webdriver.remote.webelement.WebElement (session=\"913b87598fdab2757ffc8b0ef4cee8a2\", element=\"90dba919-e3d5-42eb-841a-b55b0dda22c3\")>,\n",
       " <selenium.webdriver.remote.webelement.WebElement (session=\"913b87598fdab2757ffc8b0ef4cee8a2\", element=\"d0c549dd-d98d-4ff1-b8ca-153aab936a6a\")>,\n",
       " <selenium.webdriver.remote.webelement.WebElement (session=\"913b87598fdab2757ffc8b0ef4cee8a2\", element=\"f4ffceee-cab2-42c8-81fa-e898dfdd7a2a\")>,\n",
       " <selenium.webdriver.remote.webelement.WebElement (session=\"913b87598fdab2757ffc8b0ef4cee8a2\", element=\"b2db90f2-075f-4308-90a6-7ead639ff7be\")>,\n",
       " <selenium.webdriver.remote.webelement.WebElement (session=\"913b87598fdab2757ffc8b0ef4cee8a2\", element=\"6796f749-1398-41bc-9877-5ce25a8924b9\")>,\n",
       " <selenium.webdriver.remote.webelement.WebElement (session=\"913b87598fdab2757ffc8b0ef4cee8a2\", element=\"96510c4e-93ec-4fc6-bdf5-09627c248836\")>,\n",
       " <selenium.webdriver.remote.webelement.WebElement (session=\"913b87598fdab2757ffc8b0ef4cee8a2\", element=\"f3644908-84ff-48a6-8106-ac6d8b11872a\")>,\n",
       " <selenium.webdriver.remote.webelement.WebElement (session=\"913b87598fdab2757ffc8b0ef4cee8a2\", element=\"48165229-61f9-4813-ab73-6f0feec28e77\")>,\n",
       " <selenium.webdriver.remote.webelement.WebElement (session=\"913b87598fdab2757ffc8b0ef4cee8a2\", element=\"ceeea97b-1f47-49f9-9749-b82267d5b2dc\")>,\n",
       " <selenium.webdriver.remote.webelement.WebElement (session=\"913b87598fdab2757ffc8b0ef4cee8a2\", element=\"5463e4a8-f9ff-4f56-aa37-36f8451f6815\")>,\n",
       " <selenium.webdriver.remote.webelement.WebElement (session=\"913b87598fdab2757ffc8b0ef4cee8a2\", element=\"afedbe57-828c-4576-a29e-10c4b1d5c843\")>,\n",
       " <selenium.webdriver.remote.webelement.WebElement (session=\"913b87598fdab2757ffc8b0ef4cee8a2\", element=\"dbcdb6e7-680c-4265-99e3-6d3358ca840d\")>,\n",
       " <selenium.webdriver.remote.webelement.WebElement (session=\"913b87598fdab2757ffc8b0ef4cee8a2\", element=\"3910ce82-5c6d-4e99-8e41-0f15c408d30e\")>,\n",
       " <selenium.webdriver.remote.webelement.WebElement (session=\"913b87598fdab2757ffc8b0ef4cee8a2\", element=\"01448f7c-9d70-427b-af3a-f0c0c63be95c\")>,\n",
       " <selenium.webdriver.remote.webelement.WebElement (session=\"913b87598fdab2757ffc8b0ef4cee8a2\", element=\"10abf6cb-c3b2-4ed1-9308-36e4ce4cee5c\")>,\n",
       " <selenium.webdriver.remote.webelement.WebElement (session=\"913b87598fdab2757ffc8b0ef4cee8a2\", element=\"6359c6d9-9b7c-41e8-be6b-6db0634478a5\")>,\n",
       " <selenium.webdriver.remote.webelement.WebElement (session=\"913b87598fdab2757ffc8b0ef4cee8a2\", element=\"d9910c79-e45c-4907-98ad-edd51cbe2c47\")>,\n",
       " <selenium.webdriver.remote.webelement.WebElement (session=\"913b87598fdab2757ffc8b0ef4cee8a2\", element=\"5160d81c-9aec-4b85-b7c6-fd71b5abdc81\")>,\n",
       " <selenium.webdriver.remote.webelement.WebElement (session=\"913b87598fdab2757ffc8b0ef4cee8a2\", element=\"4eeb5e31-508c-4f19-990f-a1cd5d1b0a10\")>,\n",
       " <selenium.webdriver.remote.webelement.WebElement (session=\"913b87598fdab2757ffc8b0ef4cee8a2\", element=\"a884585b-c0da-4b65-92e7-844bb7c1677d\")>]"
      ]
     },
     "execution_count": 108,
     "metadata": {},
     "output_type": "execute_result"
    }
   ],
   "source": [
    "#Extracting all the tags having Brand Information on 1st Page\n",
    "brand1=driver.find_elements_by_xpath(\"//div[@class='_2WkVRV']\")\n",
    "brand1"
   ]
  },
  {
   "cell_type": "code",
   "execution_count": 109,
   "metadata": {},
   "outputs": [
    {
     "data": {
      "text/plain": [
       "['Fastrack',\n",
       " 'Fastrack',\n",
       " 'PIRASO',\n",
       " 'ROZZETTA CRAFT',\n",
       " 'PHENOMENAL',\n",
       " 'PIRASO',\n",
       " 'DEIXELS',\n",
       " 'ROZZETTA CRAFT',\n",
       " 'Fastrack',\n",
       " 'Fastrack',\n",
       " 'HIPPON',\n",
       " 'PHENOMENAL',\n",
       " 'Fastrack',\n",
       " 'Fastrack',\n",
       " 'GANSTA',\n",
       " 'Singco India',\n",
       " 'Fastrack',\n",
       " 'ROZZETTA CRAFT',\n",
       " 'Singco India',\n",
       " 'Singco India',\n",
       " 'Silver Kartz',\n",
       " 'Fastrack',\n",
       " 'DEIXELS',\n",
       " 'GANSTA',\n",
       " 'ROYAL SON',\n",
       " 'ROZZETTA CRAFT',\n",
       " 'ROZZETTA CRAFT',\n",
       " 'Fastrack',\n",
       " 'hipe',\n",
       " 'PHENOMENAL',\n",
       " 'ROZZETTA CRAFT',\n",
       " 'Silver Kartz',\n",
       " 'ROZZETTA CRAFT',\n",
       " 'Fastrack',\n",
       " 'ROYAL SON',\n",
       " 'hipe',\n",
       " 'Fravy']"
      ]
     },
     "execution_count": 109,
     "metadata": {},
     "output_type": "execute_result"
    }
   ],
   "source": [
    "#extracting text inside brand tags of first page\n",
    "for i in brand1:\n",
    "    Brand_list.append(i.text)\n",
    "Brand_list"
   ]
  },
  {
   "cell_type": "code",
   "execution_count": 110,
   "metadata": {},
   "outputs": [
    {
     "data": {
      "text/plain": [
       "[<selenium.webdriver.remote.webelement.WebElement (session=\"913b87598fdab2757ffc8b0ef4cee8a2\", element=\"08bf28f1-e3d7-458e-85ff-695df20147de\")>,\n",
       " <selenium.webdriver.remote.webelement.WebElement (session=\"913b87598fdab2757ffc8b0ef4cee8a2\", element=\"27113452-edc3-48fe-9654-29ab1afb7cc2\")>,\n",
       " <selenium.webdriver.remote.webelement.WebElement (session=\"913b87598fdab2757ffc8b0ef4cee8a2\", element=\"f3d54179-abf7-478d-9824-bb0cad955ddf\")>,\n",
       " <selenium.webdriver.remote.webelement.WebElement (session=\"913b87598fdab2757ffc8b0ef4cee8a2\", element=\"cc719c10-5f9e-4698-8f4b-ce2dcbf50212\")>,\n",
       " <selenium.webdriver.remote.webelement.WebElement (session=\"913b87598fdab2757ffc8b0ef4cee8a2\", element=\"b27c23a7-7827-4de5-b477-aed34a817892\")>,\n",
       " <selenium.webdriver.remote.webelement.WebElement (session=\"913b87598fdab2757ffc8b0ef4cee8a2\", element=\"295c5843-e128-42af-bb2d-f01d0e3046ed\")>,\n",
       " <selenium.webdriver.remote.webelement.WebElement (session=\"913b87598fdab2757ffc8b0ef4cee8a2\", element=\"f9a54b72-5aa4-434d-af97-0902a34fa06e\")>,\n",
       " <selenium.webdriver.remote.webelement.WebElement (session=\"913b87598fdab2757ffc8b0ef4cee8a2\", element=\"ca7e57ec-ecc5-4afc-a0c3-5e01bf3cce3a\")>,\n",
       " <selenium.webdriver.remote.webelement.WebElement (session=\"913b87598fdab2757ffc8b0ef4cee8a2\", element=\"566cb1ed-aeb6-432d-a8a3-eb1831167e40\")>,\n",
       " <selenium.webdriver.remote.webelement.WebElement (session=\"913b87598fdab2757ffc8b0ef4cee8a2\", element=\"d58e931e-332f-4ba6-96fe-830b481d9ea9\")>,\n",
       " <selenium.webdriver.remote.webelement.WebElement (session=\"913b87598fdab2757ffc8b0ef4cee8a2\", element=\"c723cc02-82ec-4fda-af55-59c8a852e56e\")>,\n",
       " <selenium.webdriver.remote.webelement.WebElement (session=\"913b87598fdab2757ffc8b0ef4cee8a2\", element=\"02d1daa8-b2ab-4c1a-b1fc-b69c9dbf3612\")>,\n",
       " <selenium.webdriver.remote.webelement.WebElement (session=\"913b87598fdab2757ffc8b0ef4cee8a2\", element=\"6ade3d25-66fe-4f8c-9924-2f02b4b1328a\")>,\n",
       " <selenium.webdriver.remote.webelement.WebElement (session=\"913b87598fdab2757ffc8b0ef4cee8a2\", element=\"8a721764-603e-492d-9b73-22271d7a958b\")>,\n",
       " <selenium.webdriver.remote.webelement.WebElement (session=\"913b87598fdab2757ffc8b0ef4cee8a2\", element=\"8d366cc0-d87f-46b4-8f20-51077be46a8e\")>,\n",
       " <selenium.webdriver.remote.webelement.WebElement (session=\"913b87598fdab2757ffc8b0ef4cee8a2\", element=\"a92d94e4-3a10-4b79-a7d6-3c5f42735245\")>,\n",
       " <selenium.webdriver.remote.webelement.WebElement (session=\"913b87598fdab2757ffc8b0ef4cee8a2\", element=\"56ad532f-3aa0-4357-8939-0446fa187552\")>,\n",
       " <selenium.webdriver.remote.webelement.WebElement (session=\"913b87598fdab2757ffc8b0ef4cee8a2\", element=\"cc57d1af-174a-4314-80f4-7d7464a0557c\")>,\n",
       " <selenium.webdriver.remote.webelement.WebElement (session=\"913b87598fdab2757ffc8b0ef4cee8a2\", element=\"d5f7c01f-8702-433d-a29a-8520b3a34d97\")>,\n",
       " <selenium.webdriver.remote.webelement.WebElement (session=\"913b87598fdab2757ffc8b0ef4cee8a2\", element=\"293e27fc-c1b5-456b-b177-2ebe71294be9\")>,\n",
       " <selenium.webdriver.remote.webelement.WebElement (session=\"913b87598fdab2757ffc8b0ef4cee8a2\", element=\"dcddcd8a-e16f-4b93-b3e8-ba3e30986a2d\")>,\n",
       " <selenium.webdriver.remote.webelement.WebElement (session=\"913b87598fdab2757ffc8b0ef4cee8a2\", element=\"0e982122-83cd-4ac0-8ce4-9b91b2da2ec0\")>,\n",
       " <selenium.webdriver.remote.webelement.WebElement (session=\"913b87598fdab2757ffc8b0ef4cee8a2\", element=\"8d9b00bc-f87c-444a-8501-baf1818aad9a\")>,\n",
       " <selenium.webdriver.remote.webelement.WebElement (session=\"913b87598fdab2757ffc8b0ef4cee8a2\", element=\"09c4c3f4-4ce6-4378-bbb5-96513801a107\")>,\n",
       " <selenium.webdriver.remote.webelement.WebElement (session=\"913b87598fdab2757ffc8b0ef4cee8a2\", element=\"cd374651-8ceb-4f82-aae3-d7dd7a24de3b\")>,\n",
       " <selenium.webdriver.remote.webelement.WebElement (session=\"913b87598fdab2757ffc8b0ef4cee8a2\", element=\"db5c4075-fe88-4354-ba2b-db40045987af\")>,\n",
       " <selenium.webdriver.remote.webelement.WebElement (session=\"913b87598fdab2757ffc8b0ef4cee8a2\", element=\"859808fe-f17c-4a2d-9e0e-657d18c7f341\")>,\n",
       " <selenium.webdriver.remote.webelement.WebElement (session=\"913b87598fdab2757ffc8b0ef4cee8a2\", element=\"c52b17f6-ccc8-44f6-a3f2-600135ccbfa9\")>,\n",
       " <selenium.webdriver.remote.webelement.WebElement (session=\"913b87598fdab2757ffc8b0ef4cee8a2\", element=\"13ff7caa-0bde-4434-b105-eb157f49fe3f\")>,\n",
       " <selenium.webdriver.remote.webelement.WebElement (session=\"913b87598fdab2757ffc8b0ef4cee8a2\", element=\"60810d39-4d33-4ee6-ad0a-a602c261d344\")>,\n",
       " <selenium.webdriver.remote.webelement.WebElement (session=\"913b87598fdab2757ffc8b0ef4cee8a2\", element=\"b61927ea-aa81-4c7b-aebd-4a19e5b98450\")>,\n",
       " <selenium.webdriver.remote.webelement.WebElement (session=\"913b87598fdab2757ffc8b0ef4cee8a2\", element=\"5cd0db3f-aa50-4d97-8924-362db5d43a53\")>,\n",
       " <selenium.webdriver.remote.webelement.WebElement (session=\"913b87598fdab2757ffc8b0ef4cee8a2\", element=\"aa78d43b-e8b7-45da-944c-a7ae25954d41\")>,\n",
       " <selenium.webdriver.remote.webelement.WebElement (session=\"913b87598fdab2757ffc8b0ef4cee8a2\", element=\"71781361-b166-4059-bb43-8bd1d4f70b71\")>,\n",
       " <selenium.webdriver.remote.webelement.WebElement (session=\"913b87598fdab2757ffc8b0ef4cee8a2\", element=\"7a0d30c9-f562-4775-9b30-59a88fe1c556\")>,\n",
       " <selenium.webdriver.remote.webelement.WebElement (session=\"913b87598fdab2757ffc8b0ef4cee8a2\", element=\"2d1c5c1a-868c-40ca-a340-5a3ec3cfdf7f\")>,\n",
       " <selenium.webdriver.remote.webelement.WebElement (session=\"913b87598fdab2757ffc8b0ef4cee8a2\", element=\"89624f35-d621-4106-9b5f-6d3562a2f049\")>]"
      ]
     },
     "execution_count": 110,
     "metadata": {},
     "output_type": "execute_result"
    }
   ],
   "source": [
    "#Extracting all the tags having Product Information on 1st Page\n",
    "prod1=driver.find_elements_by_xpath(\"//a[@class='IRpwTa']\")\n",
    "prod1"
   ]
  },
  {
   "cell_type": "code",
   "execution_count": 111,
   "metadata": {},
   "outputs": [
    {
     "data": {
      "text/plain": [
       "['UV Protection Rectangular Sunglasses (Free Size)',\n",
       " 'UV Protection Wayfarer Sunglasses (Free Size)',\n",
       " 'UV Protection Aviator Sunglasses (Free Size)',\n",
       " 'UV Protection, Gradient Rectangular Sunglasses (Free Si...',\n",
       " 'UV Protection Retro Square Sunglasses (Free Size)',\n",
       " 'UV Protection Aviator Sunglasses (54)',\n",
       " 'UV Protection Aviator, Wayfarer Sunglasses (Free Size)',\n",
       " 'UV Protection Retro Square Sunglasses (Free Size)',\n",
       " 'UV Protection Wayfarer Sunglasses (Free Size)',\n",
       " 'Gradient, UV Protection Wayfarer Sunglasses (Free Size)',\n",
       " 'UV Protection Wayfarer Sunglasses (55)',\n",
       " 'UV Protection, Mirrored Retro Square Sunglasses (53)',\n",
       " 'UV Protection Aviator Sunglasses (58)',\n",
       " 'UV Protection Wayfarer Sunglasses (56)',\n",
       " 'UV Protection Aviator Sunglasses (57)',\n",
       " 'Mirrored, Riding Glasses, Others Sports Sunglasses (50)',\n",
       " 'Gradient, UV Protection Wayfarer Sunglasses (Free Size)',\n",
       " 'UV Protection Shield Sunglasses (54)',\n",
       " 'UV Protection Aviator Sunglasses (Free Size)',\n",
       " 'UV Protection, Riding Glasses, Others Aviator, Wayfarer...',\n",
       " 'UV Protection Wayfarer Sunglasses (Free Size)',\n",
       " 'UV Protection Wayfarer Sunglasses (Free Size)',\n",
       " 'UV Protection Round Sunglasses (Free Size)',\n",
       " 'UV Protection, Mirrored Wayfarer Sunglasses (53)',\n",
       " 'UV Protection Rectangular Sunglasses (58)',\n",
       " 'Gradient, UV Protection Round Sunglasses (Free Size)',\n",
       " 'UV Protection, Riding Glasses Rectangular Sunglasses (F...',\n",
       " 'UV Protection Rectangular Sunglasses (59)',\n",
       " 'Mirrored Wayfarer Sunglasses (55)',\n",
       " 'UV Protection, Mirrored Retro Square Sunglasses (Free S...',\n",
       " 'UV Protection, Gradient Rectangular Sunglasses (Free Si...',\n",
       " 'UV Protection Oval Sunglasses (56)',\n",
       " 'UV Protection, Gradient Round Sunglasses (Free Size)',\n",
       " 'UV Protection Aviator Sunglasses (58)',\n",
       " 'UV Protection Wayfarer Sunglasses (55)',\n",
       " 'UV Protection, Mirrored Aviator Sunglasses (Free Size)',\n",
       " 'UV Protection Retro Square Sunglasses (Free Size)']"
      ]
     },
     "execution_count": 111,
     "metadata": {},
     "output_type": "execute_result"
    }
   ],
   "source": [
    "#extracting text inside product tags of first page\n",
    "for i in prod1:\n",
    "    Product_Description.append(i.text)\n",
    "Product_Description"
   ]
  },
  {
   "cell_type": "code",
   "execution_count": 112,
   "metadata": {},
   "outputs": [
    {
     "data": {
      "text/plain": [
       "[<selenium.webdriver.remote.webelement.WebElement (session=\"913b87598fdab2757ffc8b0ef4cee8a2\", element=\"8093a4f5-81e3-4698-9df8-11d66f642870\")>,\n",
       " <selenium.webdriver.remote.webelement.WebElement (session=\"913b87598fdab2757ffc8b0ef4cee8a2\", element=\"4d4fa03a-c79a-4a08-b9e4-a1a68d91bb53\")>,\n",
       " <selenium.webdriver.remote.webelement.WebElement (session=\"913b87598fdab2757ffc8b0ef4cee8a2\", element=\"d211f2c0-4a04-4521-8129-cf73e4536185\")>,\n",
       " <selenium.webdriver.remote.webelement.WebElement (session=\"913b87598fdab2757ffc8b0ef4cee8a2\", element=\"4112bc85-d9bb-4021-8c93-eed6b994210c\")>,\n",
       " <selenium.webdriver.remote.webelement.WebElement (session=\"913b87598fdab2757ffc8b0ef4cee8a2\", element=\"b542b455-3a0b-4934-a257-0caa0c26d16c\")>,\n",
       " <selenium.webdriver.remote.webelement.WebElement (session=\"913b87598fdab2757ffc8b0ef4cee8a2\", element=\"f163976e-03a0-4137-bc52-a8cbe08f8258\")>,\n",
       " <selenium.webdriver.remote.webelement.WebElement (session=\"913b87598fdab2757ffc8b0ef4cee8a2\", element=\"791abd2a-7dc5-41ee-b334-9c3c2a1bab1a\")>,\n",
       " <selenium.webdriver.remote.webelement.WebElement (session=\"913b87598fdab2757ffc8b0ef4cee8a2\", element=\"92fdc627-f14b-4c1c-b068-1c6479161049\")>,\n",
       " <selenium.webdriver.remote.webelement.WebElement (session=\"913b87598fdab2757ffc8b0ef4cee8a2\", element=\"0385c067-55b7-47f7-b7e4-f55c2bb83c3c\")>,\n",
       " <selenium.webdriver.remote.webelement.WebElement (session=\"913b87598fdab2757ffc8b0ef4cee8a2\", element=\"9c7d0c22-6390-444a-9d4b-e675fd249495\")>,\n",
       " <selenium.webdriver.remote.webelement.WebElement (session=\"913b87598fdab2757ffc8b0ef4cee8a2\", element=\"02955080-964b-4bb0-9eb1-eb4cb2ff9ec4\")>,\n",
       " <selenium.webdriver.remote.webelement.WebElement (session=\"913b87598fdab2757ffc8b0ef4cee8a2\", element=\"e8116f88-5176-4446-8780-d6825f16c975\")>,\n",
       " <selenium.webdriver.remote.webelement.WebElement (session=\"913b87598fdab2757ffc8b0ef4cee8a2\", element=\"db235200-e81d-43f2-9e0b-238d92fcaab1\")>,\n",
       " <selenium.webdriver.remote.webelement.WebElement (session=\"913b87598fdab2757ffc8b0ef4cee8a2\", element=\"bc3d6311-3bc4-4728-99f6-7eb3a357b609\")>,\n",
       " <selenium.webdriver.remote.webelement.WebElement (session=\"913b87598fdab2757ffc8b0ef4cee8a2\", element=\"0ac80b30-9aaa-4e6c-bbfe-f5b2fde44dda\")>,\n",
       " <selenium.webdriver.remote.webelement.WebElement (session=\"913b87598fdab2757ffc8b0ef4cee8a2\", element=\"a89922e2-b6de-4430-8dd0-3c7f073c7656\")>,\n",
       " <selenium.webdriver.remote.webelement.WebElement (session=\"913b87598fdab2757ffc8b0ef4cee8a2\", element=\"a6e098cc-9274-42b4-8124-49c8b5390ca2\")>,\n",
       " <selenium.webdriver.remote.webelement.WebElement (session=\"913b87598fdab2757ffc8b0ef4cee8a2\", element=\"d39948cc-5249-496f-8b99-69dbeb7f011d\")>,\n",
       " <selenium.webdriver.remote.webelement.WebElement (session=\"913b87598fdab2757ffc8b0ef4cee8a2\", element=\"bc3cb390-51a6-4283-afb1-eb023c898063\")>,\n",
       " <selenium.webdriver.remote.webelement.WebElement (session=\"913b87598fdab2757ffc8b0ef4cee8a2\", element=\"3e0ea1bb-68fe-4d85-9a4a-afb06a7a93c5\")>,\n",
       " <selenium.webdriver.remote.webelement.WebElement (session=\"913b87598fdab2757ffc8b0ef4cee8a2\", element=\"35291745-32b0-4870-be0e-9f84089dc90f\")>,\n",
       " <selenium.webdriver.remote.webelement.WebElement (session=\"913b87598fdab2757ffc8b0ef4cee8a2\", element=\"42d59e85-cde7-4e50-9a49-7d0d8ff2ce94\")>,\n",
       " <selenium.webdriver.remote.webelement.WebElement (session=\"913b87598fdab2757ffc8b0ef4cee8a2\", element=\"60b723e7-bb9f-4f79-985d-d2a9a2f79d15\")>,\n",
       " <selenium.webdriver.remote.webelement.WebElement (session=\"913b87598fdab2757ffc8b0ef4cee8a2\", element=\"5e38803c-efbe-44f7-930e-5a575be75329\")>,\n",
       " <selenium.webdriver.remote.webelement.WebElement (session=\"913b87598fdab2757ffc8b0ef4cee8a2\", element=\"317b6b77-d153-4a2b-bb42-a2f74ed0497b\")>,\n",
       " <selenium.webdriver.remote.webelement.WebElement (session=\"913b87598fdab2757ffc8b0ef4cee8a2\", element=\"32901578-8cfd-4f42-b7a0-d13ac749cd36\")>,\n",
       " <selenium.webdriver.remote.webelement.WebElement (session=\"913b87598fdab2757ffc8b0ef4cee8a2\", element=\"ba3a33b6-e47a-4193-bdaf-f0478a556770\")>,\n",
       " <selenium.webdriver.remote.webelement.WebElement (session=\"913b87598fdab2757ffc8b0ef4cee8a2\", element=\"714ee2d5-1404-40dd-a6b6-7f3d6daa90fb\")>,\n",
       " <selenium.webdriver.remote.webelement.WebElement (session=\"913b87598fdab2757ffc8b0ef4cee8a2\", element=\"9c4642df-5d97-4ccb-a3ce-be12875d155f\")>,\n",
       " <selenium.webdriver.remote.webelement.WebElement (session=\"913b87598fdab2757ffc8b0ef4cee8a2\", element=\"067bf185-7881-46c6-b162-66063987d40f\")>,\n",
       " <selenium.webdriver.remote.webelement.WebElement (session=\"913b87598fdab2757ffc8b0ef4cee8a2\", element=\"dceff696-61a7-4a81-ae11-6f6f9405c41b\")>,\n",
       " <selenium.webdriver.remote.webelement.WebElement (session=\"913b87598fdab2757ffc8b0ef4cee8a2\", element=\"bbb44c30-e3ed-4fbe-9e60-cb8fa4a43007\")>,\n",
       " <selenium.webdriver.remote.webelement.WebElement (session=\"913b87598fdab2757ffc8b0ef4cee8a2\", element=\"f73dd85c-8986-4fec-95ca-734d22fbb7f7\")>,\n",
       " <selenium.webdriver.remote.webelement.WebElement (session=\"913b87598fdab2757ffc8b0ef4cee8a2\", element=\"6cd98722-aa69-477f-9d3c-c20254b9af7b\")>,\n",
       " <selenium.webdriver.remote.webelement.WebElement (session=\"913b87598fdab2757ffc8b0ef4cee8a2\", element=\"23b05e8f-85b8-43bb-8f78-b46106e789ab\")>,\n",
       " <selenium.webdriver.remote.webelement.WebElement (session=\"913b87598fdab2757ffc8b0ef4cee8a2\", element=\"9ab43f69-36b0-44a6-9715-e5d1e021bf5c\")>,\n",
       " <selenium.webdriver.remote.webelement.WebElement (session=\"913b87598fdab2757ffc8b0ef4cee8a2\", element=\"0839ac74-5678-43df-a77e-68648a53d5b6\")>]"
      ]
     },
     "execution_count": 112,
     "metadata": {},
     "output_type": "execute_result"
    }
   ],
   "source": [
    "#Extracting all the tags having Price Information on 1st Page\n",
    "price1=driver.find_elements_by_xpath(\"//div[@class='_30jeq3']\")\n",
    "price1"
   ]
  },
  {
   "cell_type": "code",
   "execution_count": 113,
   "metadata": {},
   "outputs": [
    {
     "data": {
      "text/plain": [
       "['₹570',\n",
       " '₹733',\n",
       " '₹349',\n",
       " '₹404',\n",
       " '₹399',\n",
       " '₹250',\n",
       " '₹213',\n",
       " '₹499',\n",
       " '₹758',\n",
       " '₹621',\n",
       " '₹251',\n",
       " '₹399',\n",
       " '₹1,123',\n",
       " '₹759',\n",
       " '₹281',\n",
       " '₹249',\n",
       " '₹638',\n",
       " '₹499',\n",
       " '₹339',\n",
       " '₹209',\n",
       " '₹259',\n",
       " '₹836',\n",
       " '₹209',\n",
       " '₹199',\n",
       " '₹474',\n",
       " '₹449',\n",
       " '₹449',\n",
       " '₹1,097',\n",
       " '₹219',\n",
       " '₹399',\n",
       " '₹499',\n",
       " '₹299',\n",
       " '₹449',\n",
       " '₹1,115',\n",
       " '₹265',\n",
       " '₹199',\n",
       " '₹289']"
      ]
     },
     "execution_count": 113,
     "metadata": {},
     "output_type": "execute_result"
    }
   ],
   "source": [
    "#extracting text inside price tags of first page\n",
    "for i in price1:\n",
    "    Price_list.append(i.text)\n",
    "Price_list"
   ]
  },
  {
   "cell_type": "code",
   "execution_count": 114,
   "metadata": {},
   "outputs": [
    {
     "data": {
      "text/plain": [
       "[<selenium.webdriver.remote.webelement.WebElement (session=\"913b87598fdab2757ffc8b0ef4cee8a2\", element=\"0e6d59e8-cce8-4898-8e1f-a7bc3b3d96a2\")>,\n",
       " <selenium.webdriver.remote.webelement.WebElement (session=\"913b87598fdab2757ffc8b0ef4cee8a2\", element=\"48b1b5c5-53a8-4236-a1ee-0ecd0df6973f\")>,\n",
       " <selenium.webdriver.remote.webelement.WebElement (session=\"913b87598fdab2757ffc8b0ef4cee8a2\", element=\"349180d1-5ab3-4fb2-9345-222034d1f49d\")>,\n",
       " <selenium.webdriver.remote.webelement.WebElement (session=\"913b87598fdab2757ffc8b0ef4cee8a2\", element=\"f615fd46-d7b3-4f47-8c67-d6f403d31dc7\")>,\n",
       " <selenium.webdriver.remote.webelement.WebElement (session=\"913b87598fdab2757ffc8b0ef4cee8a2\", element=\"ab50830e-b2b6-4b99-865c-c9d7ffe7de1a\")>,\n",
       " <selenium.webdriver.remote.webelement.WebElement (session=\"913b87598fdab2757ffc8b0ef4cee8a2\", element=\"b6f0cbc6-bc26-4137-becb-9f4de34481f1\")>,\n",
       " <selenium.webdriver.remote.webelement.WebElement (session=\"913b87598fdab2757ffc8b0ef4cee8a2\", element=\"ecd86ad9-a702-4b45-86b3-d74922f9ce17\")>,\n",
       " <selenium.webdriver.remote.webelement.WebElement (session=\"913b87598fdab2757ffc8b0ef4cee8a2\", element=\"a491257e-82b1-42c5-b40d-4344f3c5634a\")>,\n",
       " <selenium.webdriver.remote.webelement.WebElement (session=\"913b87598fdab2757ffc8b0ef4cee8a2\", element=\"7d680c9c-3fc8-4587-b8e5-c2b4d15d7089\")>,\n",
       " <selenium.webdriver.remote.webelement.WebElement (session=\"913b87598fdab2757ffc8b0ef4cee8a2\", element=\"65cc4dcf-5927-491d-8240-2b811abc9e36\")>,\n",
       " <selenium.webdriver.remote.webelement.WebElement (session=\"913b87598fdab2757ffc8b0ef4cee8a2\", element=\"9ced2f14-1cd1-4b69-8d9d-61bcdd61ab21\")>,\n",
       " <selenium.webdriver.remote.webelement.WebElement (session=\"913b87598fdab2757ffc8b0ef4cee8a2\", element=\"8c7b7fb3-e0d0-4b98-854f-7a1b19890d8b\")>,\n",
       " <selenium.webdriver.remote.webelement.WebElement (session=\"913b87598fdab2757ffc8b0ef4cee8a2\", element=\"5feac397-6c3f-47b8-b2b9-dccebfed404c\")>,\n",
       " <selenium.webdriver.remote.webelement.WebElement (session=\"913b87598fdab2757ffc8b0ef4cee8a2\", element=\"a3c04d1d-4bfe-4a95-b581-54efee4325e1\")>,\n",
       " <selenium.webdriver.remote.webelement.WebElement (session=\"913b87598fdab2757ffc8b0ef4cee8a2\", element=\"36aea80c-9835-4a1f-b7df-62f8c45514f1\")>,\n",
       " <selenium.webdriver.remote.webelement.WebElement (session=\"913b87598fdab2757ffc8b0ef4cee8a2\", element=\"35963867-cd8f-47f4-bb40-ba38307b4c4d\")>,\n",
       " <selenium.webdriver.remote.webelement.WebElement (session=\"913b87598fdab2757ffc8b0ef4cee8a2\", element=\"d36a9ece-5482-49bc-bd69-40c2dd0eb4e6\")>,\n",
       " <selenium.webdriver.remote.webelement.WebElement (session=\"913b87598fdab2757ffc8b0ef4cee8a2\", element=\"39a5f17b-266f-43e5-9455-fb6e4b3689f3\")>,\n",
       " <selenium.webdriver.remote.webelement.WebElement (session=\"913b87598fdab2757ffc8b0ef4cee8a2\", element=\"d47cdfd6-0eba-42fb-a218-05ee023abb9c\")>,\n",
       " <selenium.webdriver.remote.webelement.WebElement (session=\"913b87598fdab2757ffc8b0ef4cee8a2\", element=\"f0064ce5-5dc5-4d8d-9494-aa4d5b3ce671\")>,\n",
       " <selenium.webdriver.remote.webelement.WebElement (session=\"913b87598fdab2757ffc8b0ef4cee8a2\", element=\"628cef69-8c27-4450-8b06-51afffd2abf1\")>,\n",
       " <selenium.webdriver.remote.webelement.WebElement (session=\"913b87598fdab2757ffc8b0ef4cee8a2\", element=\"69f8c6bf-9ac1-4e1d-a375-b96b9868f975\")>,\n",
       " <selenium.webdriver.remote.webelement.WebElement (session=\"913b87598fdab2757ffc8b0ef4cee8a2\", element=\"1b70e378-160c-4005-8a8f-52ec40ca235e\")>,\n",
       " <selenium.webdriver.remote.webelement.WebElement (session=\"913b87598fdab2757ffc8b0ef4cee8a2\", element=\"4df86e7c-f279-488e-854e-56545f7378b0\")>,\n",
       " <selenium.webdriver.remote.webelement.WebElement (session=\"913b87598fdab2757ffc8b0ef4cee8a2\", element=\"5c88293a-2d8b-4c85-92fb-8dd5ff6b2536\")>,\n",
       " <selenium.webdriver.remote.webelement.WebElement (session=\"913b87598fdab2757ffc8b0ef4cee8a2\", element=\"5e909173-dd76-4b77-932f-ddc81d2fc9ce\")>,\n",
       " <selenium.webdriver.remote.webelement.WebElement (session=\"913b87598fdab2757ffc8b0ef4cee8a2\", element=\"232ca637-d44a-4809-ad21-6add5585b833\")>,\n",
       " <selenium.webdriver.remote.webelement.WebElement (session=\"913b87598fdab2757ffc8b0ef4cee8a2\", element=\"e99607de-22f9-4eae-8fe3-a9deaaf27e96\")>,\n",
       " <selenium.webdriver.remote.webelement.WebElement (session=\"913b87598fdab2757ffc8b0ef4cee8a2\", element=\"089679f8-ab0b-4437-9138-ec04855a27fb\")>,\n",
       " <selenium.webdriver.remote.webelement.WebElement (session=\"913b87598fdab2757ffc8b0ef4cee8a2\", element=\"8a97c2b1-d0cc-40d2-b268-8495b282cafb\")>,\n",
       " <selenium.webdriver.remote.webelement.WebElement (session=\"913b87598fdab2757ffc8b0ef4cee8a2\", element=\"f8a3ec97-796b-4ba1-b141-5469e77f61b3\")>,\n",
       " <selenium.webdriver.remote.webelement.WebElement (session=\"913b87598fdab2757ffc8b0ef4cee8a2\", element=\"2bc1bb8a-1678-476a-9d55-215e1c67dcb6\")>,\n",
       " <selenium.webdriver.remote.webelement.WebElement (session=\"913b87598fdab2757ffc8b0ef4cee8a2\", element=\"e18f08d2-ed85-4a34-8499-7403b8582c16\")>,\n",
       " <selenium.webdriver.remote.webelement.WebElement (session=\"913b87598fdab2757ffc8b0ef4cee8a2\", element=\"17780816-99ff-44a8-979e-6010ce6a7d94\")>,\n",
       " <selenium.webdriver.remote.webelement.WebElement (session=\"913b87598fdab2757ffc8b0ef4cee8a2\", element=\"86c49ca6-03e3-4d1e-a99c-2245884a6f14\")>,\n",
       " <selenium.webdriver.remote.webelement.WebElement (session=\"913b87598fdab2757ffc8b0ef4cee8a2\", element=\"af4d4cda-bdd3-4038-9efe-89be2c6811a5\")>,\n",
       " <selenium.webdriver.remote.webelement.WebElement (session=\"913b87598fdab2757ffc8b0ef4cee8a2\", element=\"fee45c5b-c8ec-46ab-b630-a23549eb2a0f\")>]"
      ]
     },
     "execution_count": 114,
     "metadata": {},
     "output_type": "execute_result"
    }
   ],
   "source": [
    "#Extracting all the tags having Discount Information on 1st Page\n",
    "disc1=driver.find_elements_by_xpath(\"//div[@class='_3Ay6Sb']\")\n",
    "disc1"
   ]
  },
  {
   "cell_type": "code",
   "execution_count": 115,
   "metadata": {},
   "outputs": [
    {
     "data": {
      "text/plain": [
       "['28% off',\n",
       " '18% off',\n",
       " '78% off',\n",
       " '79% off',\n",
       " '80% off',\n",
       " '84% off',\n",
       " '82% off',\n",
       " '77% off',\n",
       " '15% off',\n",
       " '22% off',\n",
       " '79% off',\n",
       " '80% off',\n",
       " '13% off',\n",
       " '15% off',\n",
       " '85% off',\n",
       " '83% off',\n",
       " '20% off',\n",
       " '80% off',\n",
       " '71% off',\n",
       " '70% off',\n",
       " '82% off',\n",
       " '7% off',\n",
       " '73% off',\n",
       " '80% off',\n",
       " '68% off',\n",
       " '77% off',\n",
       " '79% off',\n",
       " '15% off',\n",
       " '78% off',\n",
       " '80% off',\n",
       " '77% off',\n",
       " '75% off',\n",
       " '77% off',\n",
       " '14% off',\n",
       " '79% off',\n",
       " '80% off',\n",
       " '80% off']"
      ]
     },
     "execution_count": 115,
     "metadata": {},
     "output_type": "execute_result"
    }
   ],
   "source": [
    "#extracting text inside discount tags of first page\n",
    "for i in disc1:\n",
    "    Discount.append(i.text)\n",
    "Discount"
   ]
  },
  {
   "cell_type": "code",
   "execution_count": 116,
   "metadata": {},
   "outputs": [],
   "source": [
    "#After scraping data from the first page, Let's move to the Second Page by clicking “Next” Button\n",
    "second_page=driver.find_element_by_xpath(\"//a[@class='_1LKTO3']\")\n",
    "second_page.click()"
   ]
  },
  {
   "cell_type": "code",
   "execution_count": 117,
   "metadata": {},
   "outputs": [
    {
     "data": {
      "text/plain": [
       "[<selenium.webdriver.remote.webelement.WebElement (session=\"913b87598fdab2757ffc8b0ef4cee8a2\", element=\"4a54844f-6f90-4d06-8506-d40399d5d977\")>,\n",
       " <selenium.webdriver.remote.webelement.WebElement (session=\"913b87598fdab2757ffc8b0ef4cee8a2\", element=\"946c1e65-7f3d-4c46-b8d3-bce3057bfd8f\")>,\n",
       " <selenium.webdriver.remote.webelement.WebElement (session=\"913b87598fdab2757ffc8b0ef4cee8a2\", element=\"76554c94-fedd-4b37-98b8-213d728202f5\")>,\n",
       " <selenium.webdriver.remote.webelement.WebElement (session=\"913b87598fdab2757ffc8b0ef4cee8a2\", element=\"f014d645-efa9-46d3-b0de-82a1def9a791\")>,\n",
       " <selenium.webdriver.remote.webelement.WebElement (session=\"913b87598fdab2757ffc8b0ef4cee8a2\", element=\"0b7dbca9-4ff0-4b8b-abf0-74ddfff5389c\")>,\n",
       " <selenium.webdriver.remote.webelement.WebElement (session=\"913b87598fdab2757ffc8b0ef4cee8a2\", element=\"269d5e93-e559-4f64-8454-5b883871ce3d\")>,\n",
       " <selenium.webdriver.remote.webelement.WebElement (session=\"913b87598fdab2757ffc8b0ef4cee8a2\", element=\"38fb8476-a072-4ced-92c0-3f1c60052ea0\")>,\n",
       " <selenium.webdriver.remote.webelement.WebElement (session=\"913b87598fdab2757ffc8b0ef4cee8a2\", element=\"efb3e6de-c4b7-458d-8734-a8edea88c598\")>,\n",
       " <selenium.webdriver.remote.webelement.WebElement (session=\"913b87598fdab2757ffc8b0ef4cee8a2\", element=\"1886d6d3-67fb-4baf-a992-4dda7d8057a6\")>,\n",
       " <selenium.webdriver.remote.webelement.WebElement (session=\"913b87598fdab2757ffc8b0ef4cee8a2\", element=\"63b19050-0587-4846-a017-16a80b204500\")>,\n",
       " <selenium.webdriver.remote.webelement.WebElement (session=\"913b87598fdab2757ffc8b0ef4cee8a2\", element=\"62e4ff28-aade-4156-92c1-2c489c688474\")>,\n",
       " <selenium.webdriver.remote.webelement.WebElement (session=\"913b87598fdab2757ffc8b0ef4cee8a2\", element=\"83a22d96-0807-4fb7-9346-a08c72aa34d4\")>,\n",
       " <selenium.webdriver.remote.webelement.WebElement (session=\"913b87598fdab2757ffc8b0ef4cee8a2\", element=\"b019f73c-fe75-4014-8636-ef07b4b3986d\")>,\n",
       " <selenium.webdriver.remote.webelement.WebElement (session=\"913b87598fdab2757ffc8b0ef4cee8a2\", element=\"7e7008e1-770b-4db4-853e-cfb0f37915c1\")>,\n",
       " <selenium.webdriver.remote.webelement.WebElement (session=\"913b87598fdab2757ffc8b0ef4cee8a2\", element=\"67aa9988-8569-4ea0-b909-064cebed7766\")>,\n",
       " <selenium.webdriver.remote.webelement.WebElement (session=\"913b87598fdab2757ffc8b0ef4cee8a2\", element=\"17b42ae1-8d1a-4201-b4e0-2a4a00b0df8e\")>,\n",
       " <selenium.webdriver.remote.webelement.WebElement (session=\"913b87598fdab2757ffc8b0ef4cee8a2\", element=\"9d18fd89-1fd6-4947-ac0d-6f23f4ca23a1\")>,\n",
       " <selenium.webdriver.remote.webelement.WebElement (session=\"913b87598fdab2757ffc8b0ef4cee8a2\", element=\"c684aed1-41ca-4c80-a412-8e8b5f8ac783\")>,\n",
       " <selenium.webdriver.remote.webelement.WebElement (session=\"913b87598fdab2757ffc8b0ef4cee8a2\", element=\"2d3e5246-048a-4ba8-b27c-d33b5b17e965\")>,\n",
       " <selenium.webdriver.remote.webelement.WebElement (session=\"913b87598fdab2757ffc8b0ef4cee8a2\", element=\"ec6b1702-d427-4547-bf27-ba6a2cc8c853\")>,\n",
       " <selenium.webdriver.remote.webelement.WebElement (session=\"913b87598fdab2757ffc8b0ef4cee8a2\", element=\"b738b34b-3797-4db2-b217-0c544c6aebdb\")>,\n",
       " <selenium.webdriver.remote.webelement.WebElement (session=\"913b87598fdab2757ffc8b0ef4cee8a2\", element=\"b0370e15-9c3c-4245-a6d4-54fc7a5b155b\")>,\n",
       " <selenium.webdriver.remote.webelement.WebElement (session=\"913b87598fdab2757ffc8b0ef4cee8a2\", element=\"0a1c2755-8f63-4f8e-8788-c15537d85d60\")>,\n",
       " <selenium.webdriver.remote.webelement.WebElement (session=\"913b87598fdab2757ffc8b0ef4cee8a2\", element=\"67e34f3f-b27c-4f2c-80b8-311a33c0fee3\")>,\n",
       " <selenium.webdriver.remote.webelement.WebElement (session=\"913b87598fdab2757ffc8b0ef4cee8a2\", element=\"58aceb90-a1b0-4a25-94fd-53277276cba5\")>,\n",
       " <selenium.webdriver.remote.webelement.WebElement (session=\"913b87598fdab2757ffc8b0ef4cee8a2\", element=\"985c7d9a-e3cb-4f43-8394-a0c2682f7ca9\")>,\n",
       " <selenium.webdriver.remote.webelement.WebElement (session=\"913b87598fdab2757ffc8b0ef4cee8a2\", element=\"2a7ca3e1-a795-4963-8373-cbc89dcbfe08\")>,\n",
       " <selenium.webdriver.remote.webelement.WebElement (session=\"913b87598fdab2757ffc8b0ef4cee8a2\", element=\"d91276b8-e798-4d9b-a0be-3c9dddfc03f9\")>,\n",
       " <selenium.webdriver.remote.webelement.WebElement (session=\"913b87598fdab2757ffc8b0ef4cee8a2\", element=\"a536fe8a-3370-4db4-865d-eb3322c15330\")>,\n",
       " <selenium.webdriver.remote.webelement.WebElement (session=\"913b87598fdab2757ffc8b0ef4cee8a2\", element=\"7fe10883-9cb5-4f0e-a659-8c3598ba274c\")>,\n",
       " <selenium.webdriver.remote.webelement.WebElement (session=\"913b87598fdab2757ffc8b0ef4cee8a2\", element=\"e6f2cfb2-6b28-4f6e-906d-33f7c58e7c26\")>,\n",
       " <selenium.webdriver.remote.webelement.WebElement (session=\"913b87598fdab2757ffc8b0ef4cee8a2\", element=\"ef53bc8c-4cb8-4048-a64c-5ea7b4ee321c\")>,\n",
       " <selenium.webdriver.remote.webelement.WebElement (session=\"913b87598fdab2757ffc8b0ef4cee8a2\", element=\"c25f5167-3113-4fad-8806-f4989a244368\")>,\n",
       " <selenium.webdriver.remote.webelement.WebElement (session=\"913b87598fdab2757ffc8b0ef4cee8a2\", element=\"0029bd3f-9075-4174-a7df-4169d0556b1a\")>,\n",
       " <selenium.webdriver.remote.webelement.WebElement (session=\"913b87598fdab2757ffc8b0ef4cee8a2\", element=\"e26e57d8-9319-4b86-8ac0-e1bf99d20ed0\")>,\n",
       " <selenium.webdriver.remote.webelement.WebElement (session=\"913b87598fdab2757ffc8b0ef4cee8a2\", element=\"4a5b0b31-29b3-4663-b0a5-3bfe40a5eace\")>,\n",
       " <selenium.webdriver.remote.webelement.WebElement (session=\"913b87598fdab2757ffc8b0ef4cee8a2\", element=\"c8a8a41f-19b4-4f0f-a74d-d5c2140bafaa\")>,\n",
       " <selenium.webdriver.remote.webelement.WebElement (session=\"913b87598fdab2757ffc8b0ef4cee8a2\", element=\"7b3c285c-8760-4d0c-8d5b-f50ef4ee5143\")>,\n",
       " <selenium.webdriver.remote.webelement.WebElement (session=\"913b87598fdab2757ffc8b0ef4cee8a2\", element=\"08b104b0-b044-45ce-94d4-29148c031f8f\")>,\n",
       " <selenium.webdriver.remote.webelement.WebElement (session=\"913b87598fdab2757ffc8b0ef4cee8a2\", element=\"88639efa-89b8-4008-b19e-4f73b9ef0ac1\")>]"
      ]
     },
     "execution_count": 117,
     "metadata": {},
     "output_type": "execute_result"
    }
   ],
   "source": [
    "#Extracting all the tags having Brand Information on 2nd Page\n",
    "brand2=driver.find_elements_by_xpath(\"//div[@class='_2WkVRV']\")\n",
    "brand2"
   ]
  },
  {
   "cell_type": "code",
   "execution_count": 118,
   "metadata": {},
   "outputs": [
    {
     "data": {
      "text/plain": [
       "['Fastrack',\n",
       " 'Fastrack',\n",
       " 'PIRASO',\n",
       " 'ROZZETTA CRAFT',\n",
       " 'PHENOMENAL',\n",
       " 'PIRASO',\n",
       " 'DEIXELS',\n",
       " 'ROZZETTA CRAFT',\n",
       " 'Fastrack',\n",
       " 'Fastrack',\n",
       " 'HIPPON',\n",
       " 'PHENOMENAL',\n",
       " 'Fastrack',\n",
       " 'Fastrack',\n",
       " 'GANSTA',\n",
       " 'Singco India',\n",
       " 'Fastrack',\n",
       " 'ROZZETTA CRAFT',\n",
       " 'Singco India',\n",
       " 'Singco India',\n",
       " 'Silver Kartz',\n",
       " 'Fastrack',\n",
       " 'DEIXELS',\n",
       " 'GANSTA',\n",
       " 'ROYAL SON',\n",
       " 'ROZZETTA CRAFT',\n",
       " 'ROZZETTA CRAFT',\n",
       " 'Fastrack',\n",
       " 'hipe',\n",
       " 'PHENOMENAL',\n",
       " 'ROZZETTA CRAFT',\n",
       " 'Silver Kartz',\n",
       " 'ROZZETTA CRAFT',\n",
       " 'Fastrack',\n",
       " 'ROYAL SON',\n",
       " 'hipe',\n",
       " 'Fravy',\n",
       " 'PHENOMENAL',\n",
       " 'ROYAL SON',\n",
       " 'Flizz',\n",
       " 'GANSTA',\n",
       " 'ROYAL SON',\n",
       " 'AISLIN',\n",
       " 'Fastrack',\n",
       " 'Fastrack',\n",
       " 'Villain',\n",
       " 'PHENOMENAL',\n",
       " 'hipe',\n",
       " 'Singco India',\n",
       " 'Fastrack',\n",
       " 'ROZZETTA CRAFT',\n",
       " 'GANSTA',\n",
       " 'elegante',\n",
       " 'hipe',\n",
       " 'Fastrack',\n",
       " 'Fastrack',\n",
       " 'PHENOMENAL',\n",
       " 'Fastrack',\n",
       " 'NuVew',\n",
       " 'hipe',\n",
       " 'PHENOMENAL',\n",
       " 'DEIXELS',\n",
       " 'Fastrack',\n",
       " 'Fastrack',\n",
       " 'GANSTA',\n",
       " 'hipe',\n",
       " 'SRPM',\n",
       " 'Fastrack',\n",
       " 'ROYAL SON',\n",
       " 'ROZZETTA CRAFT',\n",
       " 'ROYAL SON',\n",
       " 'ROZZETTA CRAFT',\n",
       " 'GANSTA',\n",
       " 'ROZZETTA CRAFT',\n",
       " 'Singco',\n",
       " 'Fravy',\n",
       " 'GANSTA']"
      ]
     },
     "execution_count": 118,
     "metadata": {},
     "output_type": "execute_result"
    }
   ],
   "source": [
    "#extracting text inside brand tags of 2nd page\n",
    "for i in brand2:\n",
    "    Brand_list.append(i.text)\n",
    "Brand_list"
   ]
  },
  {
   "cell_type": "code",
   "execution_count": 119,
   "metadata": {},
   "outputs": [
    {
     "data": {
      "text/plain": [
       "[<selenium.webdriver.remote.webelement.WebElement (session=\"913b87598fdab2757ffc8b0ef4cee8a2\", element=\"f5453a84-a633-48e5-9b81-d17bc3155a3d\")>,\n",
       " <selenium.webdriver.remote.webelement.WebElement (session=\"913b87598fdab2757ffc8b0ef4cee8a2\", element=\"b78fc0dc-954a-4a1d-a807-d6e665327fb4\")>,\n",
       " <selenium.webdriver.remote.webelement.WebElement (session=\"913b87598fdab2757ffc8b0ef4cee8a2\", element=\"ca79ca6c-b00b-4755-8c17-5e6651ce610f\")>,\n",
       " <selenium.webdriver.remote.webelement.WebElement (session=\"913b87598fdab2757ffc8b0ef4cee8a2\", element=\"36a0ed79-38d4-4cfc-bb41-84aab9b3dfae\")>,\n",
       " <selenium.webdriver.remote.webelement.WebElement (session=\"913b87598fdab2757ffc8b0ef4cee8a2\", element=\"b9ebb9d0-b8c7-4d8d-9c92-66a47914924e\")>,\n",
       " <selenium.webdriver.remote.webelement.WebElement (session=\"913b87598fdab2757ffc8b0ef4cee8a2\", element=\"fdbaf157-499c-4d7e-b182-8c10fd326b7e\")>,\n",
       " <selenium.webdriver.remote.webelement.WebElement (session=\"913b87598fdab2757ffc8b0ef4cee8a2\", element=\"8a14aeee-8816-4fbc-9445-64ec6b1e602c\")>,\n",
       " <selenium.webdriver.remote.webelement.WebElement (session=\"913b87598fdab2757ffc8b0ef4cee8a2\", element=\"7435e7ed-78e4-4d2d-b8eb-3553416729fa\")>,\n",
       " <selenium.webdriver.remote.webelement.WebElement (session=\"913b87598fdab2757ffc8b0ef4cee8a2\", element=\"9a76a107-aed2-4d15-937b-b59574123449\")>,\n",
       " <selenium.webdriver.remote.webelement.WebElement (session=\"913b87598fdab2757ffc8b0ef4cee8a2\", element=\"c8342f6f-4b2b-491a-9117-74c50a1cd749\")>,\n",
       " <selenium.webdriver.remote.webelement.WebElement (session=\"913b87598fdab2757ffc8b0ef4cee8a2\", element=\"c7ccaf1c-a366-493e-8037-8901c9991874\")>,\n",
       " <selenium.webdriver.remote.webelement.WebElement (session=\"913b87598fdab2757ffc8b0ef4cee8a2\", element=\"9711066c-6ab8-4c17-ab56-cd831fdb9925\")>,\n",
       " <selenium.webdriver.remote.webelement.WebElement (session=\"913b87598fdab2757ffc8b0ef4cee8a2\", element=\"af194611-861f-4393-be2d-e7f9f1bb3c1f\")>,\n",
       " <selenium.webdriver.remote.webelement.WebElement (session=\"913b87598fdab2757ffc8b0ef4cee8a2\", element=\"7c3fe380-0180-4790-98bc-76c757585397\")>,\n",
       " <selenium.webdriver.remote.webelement.WebElement (session=\"913b87598fdab2757ffc8b0ef4cee8a2\", element=\"5930a507-f44f-4d8e-a3cc-8e72a4162065\")>,\n",
       " <selenium.webdriver.remote.webelement.WebElement (session=\"913b87598fdab2757ffc8b0ef4cee8a2\", element=\"7ed4ae18-bbf6-4e0a-86ab-93d54e60f71d\")>,\n",
       " <selenium.webdriver.remote.webelement.WebElement (session=\"913b87598fdab2757ffc8b0ef4cee8a2\", element=\"b26cf20a-8928-4a73-9b62-e16b9cca6740\")>,\n",
       " <selenium.webdriver.remote.webelement.WebElement (session=\"913b87598fdab2757ffc8b0ef4cee8a2\", element=\"e7bf4cdd-6e70-4636-a521-712c3ff87541\")>,\n",
       " <selenium.webdriver.remote.webelement.WebElement (session=\"913b87598fdab2757ffc8b0ef4cee8a2\", element=\"5ef1e3cb-5cc7-4ff3-816a-e56dfda0b589\")>,\n",
       " <selenium.webdriver.remote.webelement.WebElement (session=\"913b87598fdab2757ffc8b0ef4cee8a2\", element=\"2db7da60-eb7c-4a5d-b8b2-35e9f2c5e2b1\")>,\n",
       " <selenium.webdriver.remote.webelement.WebElement (session=\"913b87598fdab2757ffc8b0ef4cee8a2\", element=\"ca929fde-637a-4096-a814-d59c63552362\")>,\n",
       " <selenium.webdriver.remote.webelement.WebElement (session=\"913b87598fdab2757ffc8b0ef4cee8a2\", element=\"4f73008c-2768-4390-85d2-fa019cb0fccd\")>,\n",
       " <selenium.webdriver.remote.webelement.WebElement (session=\"913b87598fdab2757ffc8b0ef4cee8a2\", element=\"e13aee5a-2ca1-4581-8e38-00199f639f77\")>,\n",
       " <selenium.webdriver.remote.webelement.WebElement (session=\"913b87598fdab2757ffc8b0ef4cee8a2\", element=\"db3205e3-de40-476a-8737-33095dc72c00\")>,\n",
       " <selenium.webdriver.remote.webelement.WebElement (session=\"913b87598fdab2757ffc8b0ef4cee8a2\", element=\"cc5be1e6-0623-49a0-9337-bb2fa439f7e6\")>,\n",
       " <selenium.webdriver.remote.webelement.WebElement (session=\"913b87598fdab2757ffc8b0ef4cee8a2\", element=\"b0de1c69-d02e-4eda-b39e-03cc1632d462\")>,\n",
       " <selenium.webdriver.remote.webelement.WebElement (session=\"913b87598fdab2757ffc8b0ef4cee8a2\", element=\"36ec52ec-93d1-4e32-b57c-3baf2b5cc083\")>,\n",
       " <selenium.webdriver.remote.webelement.WebElement (session=\"913b87598fdab2757ffc8b0ef4cee8a2\", element=\"dce491f9-7ea2-4381-8d9c-b5fac8564d88\")>,\n",
       " <selenium.webdriver.remote.webelement.WebElement (session=\"913b87598fdab2757ffc8b0ef4cee8a2\", element=\"f8aacc87-8401-4be9-a3b7-9dc3ca976890\")>,\n",
       " <selenium.webdriver.remote.webelement.WebElement (session=\"913b87598fdab2757ffc8b0ef4cee8a2\", element=\"48233f27-d74c-49b9-82b4-e6cc20bbe67e\")>,\n",
       " <selenium.webdriver.remote.webelement.WebElement (session=\"913b87598fdab2757ffc8b0ef4cee8a2\", element=\"5c25a05a-a4b5-4bc1-b0cf-f89a35eb34f3\")>,\n",
       " <selenium.webdriver.remote.webelement.WebElement (session=\"913b87598fdab2757ffc8b0ef4cee8a2\", element=\"fee9a922-eca5-4dc6-adb1-7ce739420f82\")>,\n",
       " <selenium.webdriver.remote.webelement.WebElement (session=\"913b87598fdab2757ffc8b0ef4cee8a2\", element=\"274fb1c9-d5bf-4514-8843-cf8d9982127d\")>,\n",
       " <selenium.webdriver.remote.webelement.WebElement (session=\"913b87598fdab2757ffc8b0ef4cee8a2\", element=\"87e83229-db60-4182-a817-04a678ea27a3\")>,\n",
       " <selenium.webdriver.remote.webelement.WebElement (session=\"913b87598fdab2757ffc8b0ef4cee8a2\", element=\"87345f66-33e5-458a-ba15-5c2ea34f2a72\")>,\n",
       " <selenium.webdriver.remote.webelement.WebElement (session=\"913b87598fdab2757ffc8b0ef4cee8a2\", element=\"a42bbbcd-1333-492a-8455-ba24b87bbb09\")>,\n",
       " <selenium.webdriver.remote.webelement.WebElement (session=\"913b87598fdab2757ffc8b0ef4cee8a2\", element=\"361298e3-90dc-4c0d-8bdb-eb5795c3d17e\")>,\n",
       " <selenium.webdriver.remote.webelement.WebElement (session=\"913b87598fdab2757ffc8b0ef4cee8a2\", element=\"a5e065f4-3365-483f-bc75-c6d0c2e1b95f\")>,\n",
       " <selenium.webdriver.remote.webelement.WebElement (session=\"913b87598fdab2757ffc8b0ef4cee8a2\", element=\"86f0645a-930a-4359-9bee-779d9703f399\")>,\n",
       " <selenium.webdriver.remote.webelement.WebElement (session=\"913b87598fdab2757ffc8b0ef4cee8a2\", element=\"1ac8ddaf-0936-4956-a546-f8db6d1b5255\")>]"
      ]
     },
     "execution_count": 119,
     "metadata": {},
     "output_type": "execute_result"
    }
   ],
   "source": [
    "#Extracting all the tags having Product Information on 2nd Page\n",
    "prod2=driver.find_elements_by_xpath(\"//a[@class='IRpwTa']\")\n",
    "prod2"
   ]
  },
  {
   "cell_type": "code",
   "execution_count": 120,
   "metadata": {},
   "outputs": [
    {
     "data": {
      "text/plain": [
       "['UV Protection Rectangular Sunglasses (Free Size)',\n",
       " 'UV Protection Wayfarer Sunglasses (Free Size)',\n",
       " 'UV Protection Aviator Sunglasses (Free Size)',\n",
       " 'UV Protection, Gradient Rectangular Sunglasses (Free Si...',\n",
       " 'UV Protection Retro Square Sunglasses (Free Size)',\n",
       " 'UV Protection Aviator Sunglasses (54)',\n",
       " 'UV Protection Aviator, Wayfarer Sunglasses (Free Size)',\n",
       " 'UV Protection Retro Square Sunglasses (Free Size)',\n",
       " 'UV Protection Wayfarer Sunglasses (Free Size)',\n",
       " 'Gradient, UV Protection Wayfarer Sunglasses (Free Size)',\n",
       " 'UV Protection Wayfarer Sunglasses (55)',\n",
       " 'UV Protection, Mirrored Retro Square Sunglasses (53)',\n",
       " 'UV Protection Aviator Sunglasses (58)',\n",
       " 'UV Protection Wayfarer Sunglasses (56)',\n",
       " 'UV Protection Aviator Sunglasses (57)',\n",
       " 'Mirrored, Riding Glasses, Others Sports Sunglasses (50)',\n",
       " 'Gradient, UV Protection Wayfarer Sunglasses (Free Size)',\n",
       " 'UV Protection Shield Sunglasses (54)',\n",
       " 'UV Protection Aviator Sunglasses (Free Size)',\n",
       " 'UV Protection, Riding Glasses, Others Aviator, Wayfarer...',\n",
       " 'UV Protection Wayfarer Sunglasses (Free Size)',\n",
       " 'UV Protection Wayfarer Sunglasses (Free Size)',\n",
       " 'UV Protection Round Sunglasses (Free Size)',\n",
       " 'UV Protection, Mirrored Wayfarer Sunglasses (53)',\n",
       " 'UV Protection Rectangular Sunglasses (58)',\n",
       " 'Gradient, UV Protection Round Sunglasses (Free Size)',\n",
       " 'UV Protection, Riding Glasses Rectangular Sunglasses (F...',\n",
       " 'UV Protection Rectangular Sunglasses (59)',\n",
       " 'Mirrored Wayfarer Sunglasses (55)',\n",
       " 'UV Protection, Mirrored Retro Square Sunglasses (Free S...',\n",
       " 'UV Protection, Gradient Rectangular Sunglasses (Free Si...',\n",
       " 'UV Protection Oval Sunglasses (56)',\n",
       " 'UV Protection, Gradient Round Sunglasses (Free Size)',\n",
       " 'UV Protection Aviator Sunglasses (58)',\n",
       " 'UV Protection Wayfarer Sunglasses (55)',\n",
       " 'UV Protection, Mirrored Aviator Sunglasses (Free Size)',\n",
       " 'UV Protection Retro Square Sunglasses (Free Size)',\n",
       " 'UV Protection, Mirrored, Gradient Retro Square Sunglass...',\n",
       " 'Mirrored Aviator Sunglasses (55)',\n",
       " 'UV Protection Retro Square Sunglasses (Free Size)',\n",
       " 'UV Protection, Riding Glasses Wayfarer Sunglasses (53)',\n",
       " 'UV Protection, Gradient Wayfarer Sunglasses (55)',\n",
       " 'UV Protection Oval Sunglasses (60)',\n",
       " 'UV Protection Wayfarer Sunglasses (Free Size)',\n",
       " 'UV Protection Wayfarer Sunglasses (Free Size)',\n",
       " 'Others Retro Square Sunglasses (Free Size)',\n",
       " 'UV Protection Clubmaster Sunglasses (Free Size)',\n",
       " 'UV Protection, Mirrored Round Sunglasses (Free Size)',\n",
       " 'Riding Glasses, UV Protection, Others Aviator Sunglasse...',\n",
       " 'UV Protection Aviator Sunglasses (Free Size)',\n",
       " 'UV Protection, Gradient Retro Square Sunglasses (Free S...',\n",
       " 'UV Protection Aviator Sunglasses (57)',\n",
       " 'UV Protection Wrap-around Sunglasses (Free Size)',\n",
       " 'Mirrored, UV Protection, Gradient Round Sunglasses (55)',\n",
       " 'UV Protection Aviator Sunglasses (58)',\n",
       " 'UV Protection Aviator Sunglasses (58)',\n",
       " 'UV Protection, Mirrored Retro Square Sunglasses (53)',\n",
       " 'UV Protection Wayfarer Sunglasses (57)',\n",
       " 'UV Protection Aviator Sunglasses (Free Size)',\n",
       " 'UV Protection Sports Sunglasses (Free Size)',\n",
       " 'UV Protection, Mirrored Clubmaster Sunglasses (Free Siz...',\n",
       " 'Polarized, UV Protection, Riding Glasses Wayfarer Sungl...',\n",
       " 'Mirrored, UV Protection Wayfarer Sunglasses (Free Size)',\n",
       " 'UV Protection, Polarized Wayfarer Sunglasses (56)',\n",
       " 'UV Protection, Night Vision, Riding Glasses Aviator Sun...',\n",
       " 'UV Protection, Night Vision, Gradient, Mirrored Round, ...',\n",
       " 'UV Protection Round Sunglasses (53)',\n",
       " 'UV Protection Shield Sunglasses (Free Size)',\n",
       " 'Mirrored Aviator Sunglasses (58)',\n",
       " 'UV Protection, Gradient Round Sunglasses (Free Size)',\n",
       " 'Polarized Sports Sunglasses (68)',\n",
       " 'Polarized, UV Protection Aviator Sunglasses (Free Size)',\n",
       " 'UV Protection, Gradient Wayfarer Sunglasses (53)',\n",
       " 'UV Protection, Gradient Round Sunglasses (Free Size)',\n",
       " 'UV Protection, Others Aviator Sunglasses (32)',\n",
       " 'UV Protection, Gradient, Night Vision Retro Square Sung...',\n",
       " 'Night Vision, Riding Glasses Wayfarer Sunglasses (53)']"
      ]
     },
     "execution_count": 120,
     "metadata": {},
     "output_type": "execute_result"
    }
   ],
   "source": [
    "#extracting text inside product tags of 2nd page\n",
    "for i in prod2:\n",
    "    Product_Description.append(i.text)\n",
    "Product_Description"
   ]
  },
  {
   "cell_type": "code",
   "execution_count": 121,
   "metadata": {},
   "outputs": [
    {
     "data": {
      "text/plain": [
       "[<selenium.webdriver.remote.webelement.WebElement (session=\"913b87598fdab2757ffc8b0ef4cee8a2\", element=\"ee280292-83ba-4902-87fd-5b3fd2cdbf10\")>,\n",
       " <selenium.webdriver.remote.webelement.WebElement (session=\"913b87598fdab2757ffc8b0ef4cee8a2\", element=\"f96cbaf1-f6b9-4d3e-9489-d7f29f1f4029\")>,\n",
       " <selenium.webdriver.remote.webelement.WebElement (session=\"913b87598fdab2757ffc8b0ef4cee8a2\", element=\"de54f546-2cfb-4883-8f55-92a84403e207\")>,\n",
       " <selenium.webdriver.remote.webelement.WebElement (session=\"913b87598fdab2757ffc8b0ef4cee8a2\", element=\"09d08cb8-a95c-49d7-a094-9c467bf74b56\")>,\n",
       " <selenium.webdriver.remote.webelement.WebElement (session=\"913b87598fdab2757ffc8b0ef4cee8a2\", element=\"b6c5a251-b14c-4acb-914c-614649d4abc8\")>,\n",
       " <selenium.webdriver.remote.webelement.WebElement (session=\"913b87598fdab2757ffc8b0ef4cee8a2\", element=\"139077e0-8c25-4b28-9832-410dfd5d4009\")>,\n",
       " <selenium.webdriver.remote.webelement.WebElement (session=\"913b87598fdab2757ffc8b0ef4cee8a2\", element=\"75e9d566-3d40-4409-9695-26846cf80a3c\")>,\n",
       " <selenium.webdriver.remote.webelement.WebElement (session=\"913b87598fdab2757ffc8b0ef4cee8a2\", element=\"088869e4-c044-4331-bf3a-35ffa5396666\")>,\n",
       " <selenium.webdriver.remote.webelement.WebElement (session=\"913b87598fdab2757ffc8b0ef4cee8a2\", element=\"9c3aa5c2-c7fc-429f-9918-3b60b9c0e1e6\")>,\n",
       " <selenium.webdriver.remote.webelement.WebElement (session=\"913b87598fdab2757ffc8b0ef4cee8a2\", element=\"9d0783bf-2abf-4893-822a-b75bc57a8318\")>,\n",
       " <selenium.webdriver.remote.webelement.WebElement (session=\"913b87598fdab2757ffc8b0ef4cee8a2\", element=\"bc8745f3-be44-4828-92a6-65839b5a39a4\")>,\n",
       " <selenium.webdriver.remote.webelement.WebElement (session=\"913b87598fdab2757ffc8b0ef4cee8a2\", element=\"ab0c669d-be86-42e1-aaaf-93fbf68774c0\")>,\n",
       " <selenium.webdriver.remote.webelement.WebElement (session=\"913b87598fdab2757ffc8b0ef4cee8a2\", element=\"cdf920e7-226c-436f-918f-f65c6fb36927\")>,\n",
       " <selenium.webdriver.remote.webelement.WebElement (session=\"913b87598fdab2757ffc8b0ef4cee8a2\", element=\"e665d285-4ef1-4025-8359-021535fb4aed\")>,\n",
       " <selenium.webdriver.remote.webelement.WebElement (session=\"913b87598fdab2757ffc8b0ef4cee8a2\", element=\"ea581907-b518-4612-b791-bd9fee9e2c43\")>,\n",
       " <selenium.webdriver.remote.webelement.WebElement (session=\"913b87598fdab2757ffc8b0ef4cee8a2\", element=\"4efe517d-a33e-4c88-83b3-823561ffc3f8\")>,\n",
       " <selenium.webdriver.remote.webelement.WebElement (session=\"913b87598fdab2757ffc8b0ef4cee8a2\", element=\"3c83ad9f-59b9-4f6e-891a-9f7e3153f57a\")>,\n",
       " <selenium.webdriver.remote.webelement.WebElement (session=\"913b87598fdab2757ffc8b0ef4cee8a2\", element=\"8f5d1d89-f6ac-404c-a51e-a8c5043f4492\")>,\n",
       " <selenium.webdriver.remote.webelement.WebElement (session=\"913b87598fdab2757ffc8b0ef4cee8a2\", element=\"108e3a24-dbff-4177-bc56-f42cc2c33150\")>,\n",
       " <selenium.webdriver.remote.webelement.WebElement (session=\"913b87598fdab2757ffc8b0ef4cee8a2\", element=\"fa0a5b23-fc80-452c-b6a5-a61409c9329c\")>,\n",
       " <selenium.webdriver.remote.webelement.WebElement (session=\"913b87598fdab2757ffc8b0ef4cee8a2\", element=\"ca0ba832-5c2b-4352-a2b5-994648c626bc\")>,\n",
       " <selenium.webdriver.remote.webelement.WebElement (session=\"913b87598fdab2757ffc8b0ef4cee8a2\", element=\"d1d80716-de2b-4c50-93f7-ffe0c7ce83cd\")>,\n",
       " <selenium.webdriver.remote.webelement.WebElement (session=\"913b87598fdab2757ffc8b0ef4cee8a2\", element=\"246705b1-2634-44f1-9393-8525f8c6f97f\")>,\n",
       " <selenium.webdriver.remote.webelement.WebElement (session=\"913b87598fdab2757ffc8b0ef4cee8a2\", element=\"b1f21a0d-3d36-45a2-8875-761c758e44a3\")>,\n",
       " <selenium.webdriver.remote.webelement.WebElement (session=\"913b87598fdab2757ffc8b0ef4cee8a2\", element=\"8a64e097-86be-4425-8b3e-df68481f69a2\")>,\n",
       " <selenium.webdriver.remote.webelement.WebElement (session=\"913b87598fdab2757ffc8b0ef4cee8a2\", element=\"77759b6e-ec7c-48ea-981e-c9b093bddc3f\")>,\n",
       " <selenium.webdriver.remote.webelement.WebElement (session=\"913b87598fdab2757ffc8b0ef4cee8a2\", element=\"77466aa1-c83b-4c84-aa45-01736e66a03a\")>,\n",
       " <selenium.webdriver.remote.webelement.WebElement (session=\"913b87598fdab2757ffc8b0ef4cee8a2\", element=\"64371316-7fb8-4fae-96b5-bd4427471c04\")>,\n",
       " <selenium.webdriver.remote.webelement.WebElement (session=\"913b87598fdab2757ffc8b0ef4cee8a2\", element=\"1bf0f5b5-44b3-4b58-92cc-9a25e9c0c66e\")>,\n",
       " <selenium.webdriver.remote.webelement.WebElement (session=\"913b87598fdab2757ffc8b0ef4cee8a2\", element=\"48455cf8-b19f-406e-919a-b15d4d7d5b1f\")>,\n",
       " <selenium.webdriver.remote.webelement.WebElement (session=\"913b87598fdab2757ffc8b0ef4cee8a2\", element=\"2ffac274-bba8-487c-9954-ea8d727f1c36\")>,\n",
       " <selenium.webdriver.remote.webelement.WebElement (session=\"913b87598fdab2757ffc8b0ef4cee8a2\", element=\"a99b07ab-87f2-4bac-b0c8-7d008817bec5\")>,\n",
       " <selenium.webdriver.remote.webelement.WebElement (session=\"913b87598fdab2757ffc8b0ef4cee8a2\", element=\"eebf1769-6fcd-478a-a295-da9289249e99\")>,\n",
       " <selenium.webdriver.remote.webelement.WebElement (session=\"913b87598fdab2757ffc8b0ef4cee8a2\", element=\"359424ad-5615-4548-b826-7ad5bf88077e\")>,\n",
       " <selenium.webdriver.remote.webelement.WebElement (session=\"913b87598fdab2757ffc8b0ef4cee8a2\", element=\"7d8b0285-f027-46fc-b11f-1d3989844b74\")>,\n",
       " <selenium.webdriver.remote.webelement.WebElement (session=\"913b87598fdab2757ffc8b0ef4cee8a2\", element=\"b4c218c1-ba8e-4908-8132-29ecaa3eb9e0\")>,\n",
       " <selenium.webdriver.remote.webelement.WebElement (session=\"913b87598fdab2757ffc8b0ef4cee8a2\", element=\"74edf89f-11cf-48f3-b341-1a7a22a73a37\")>,\n",
       " <selenium.webdriver.remote.webelement.WebElement (session=\"913b87598fdab2757ffc8b0ef4cee8a2\", element=\"a1cbc63b-d615-4ba7-8b57-d70ab695d77a\")>,\n",
       " <selenium.webdriver.remote.webelement.WebElement (session=\"913b87598fdab2757ffc8b0ef4cee8a2\", element=\"49065b60-f91e-4b32-a9c7-634d35183314\")>,\n",
       " <selenium.webdriver.remote.webelement.WebElement (session=\"913b87598fdab2757ffc8b0ef4cee8a2\", element=\"ffdce37c-fabb-40bc-9ccc-824485513292\")>]"
      ]
     },
     "execution_count": 121,
     "metadata": {},
     "output_type": "execute_result"
    }
   ],
   "source": [
    "#Extracting all the tags having Price Information on 2nd Page\n",
    "price2=driver.find_elements_by_xpath(\"//div[@class='_30jeq3']\")\n",
    "price2"
   ]
  },
  {
   "cell_type": "code",
   "execution_count": 122,
   "metadata": {},
   "outputs": [
    {
     "data": {
      "text/plain": [
       "['₹570',\n",
       " '₹733',\n",
       " '₹349',\n",
       " '₹404',\n",
       " '₹399',\n",
       " '₹250',\n",
       " '₹213',\n",
       " '₹499',\n",
       " '₹758',\n",
       " '₹621',\n",
       " '₹251',\n",
       " '₹399',\n",
       " '₹1,123',\n",
       " '₹759',\n",
       " '₹281',\n",
       " '₹249',\n",
       " '₹638',\n",
       " '₹499',\n",
       " '₹339',\n",
       " '₹209',\n",
       " '₹259',\n",
       " '₹836',\n",
       " '₹209',\n",
       " '₹199',\n",
       " '₹474',\n",
       " '₹449',\n",
       " '₹449',\n",
       " '₹1,097',\n",
       " '₹219',\n",
       " '₹399',\n",
       " '₹499',\n",
       " '₹299',\n",
       " '₹449',\n",
       " '₹1,115',\n",
       " '₹265',\n",
       " '₹199',\n",
       " '₹289',\n",
       " '₹259',\n",
       " '₹379',\n",
       " '₹399',\n",
       " '₹260',\n",
       " '₹217',\n",
       " '₹764',\n",
       " '₹758',\n",
       " '₹576',\n",
       " '₹599',\n",
       " '₹319',\n",
       " '₹219',\n",
       " '₹239',\n",
       " '₹759',\n",
       " '₹449',\n",
       " '₹337',\n",
       " '₹499',\n",
       " '₹210',\n",
       " '₹1,148',\n",
       " '₹1,085',\n",
       " '₹399',\n",
       " '₹559',\n",
       " '₹417',\n",
       " '₹319',\n",
       " '₹319',\n",
       " '₹249',\n",
       " '₹777',\n",
       " '₹759',\n",
       " '₹292',\n",
       " '₹210',\n",
       " '₹189',\n",
       " '₹759',\n",
       " '₹399',\n",
       " '₹449',\n",
       " '₹1,234',\n",
       " '₹449',\n",
       " '₹328',\n",
       " '₹399',\n",
       " '₹349',\n",
       " '₹329',\n",
       " '₹207']"
      ]
     },
     "execution_count": 122,
     "metadata": {},
     "output_type": "execute_result"
    }
   ],
   "source": [
    "#extracting text inside price tags of 2nd page\n",
    "for i in price2:\n",
    "    Price_list.append(i.text)\n",
    "Price_list"
   ]
  },
  {
   "cell_type": "code",
   "execution_count": 123,
   "metadata": {},
   "outputs": [
    {
     "data": {
      "text/plain": [
       "[<selenium.webdriver.remote.webelement.WebElement (session=\"913b87598fdab2757ffc8b0ef4cee8a2\", element=\"ad4bbfcb-a982-4d5e-a854-e35591e3600d\")>,\n",
       " <selenium.webdriver.remote.webelement.WebElement (session=\"913b87598fdab2757ffc8b0ef4cee8a2\", element=\"4b8efc87-d93a-41b5-8bbd-ca7bb0b8faad\")>,\n",
       " <selenium.webdriver.remote.webelement.WebElement (session=\"913b87598fdab2757ffc8b0ef4cee8a2\", element=\"5fcf24b6-773c-4b8c-8aad-b635b6308b21\")>,\n",
       " <selenium.webdriver.remote.webelement.WebElement (session=\"913b87598fdab2757ffc8b0ef4cee8a2\", element=\"66ef273a-e635-4496-a8ab-d464b1e6b826\")>,\n",
       " <selenium.webdriver.remote.webelement.WebElement (session=\"913b87598fdab2757ffc8b0ef4cee8a2\", element=\"afd9e61f-981f-4a34-8a4a-be9272b1a25c\")>,\n",
       " <selenium.webdriver.remote.webelement.WebElement (session=\"913b87598fdab2757ffc8b0ef4cee8a2\", element=\"9f2d8b62-da7e-4ed4-9e7b-ce1275717461\")>,\n",
       " <selenium.webdriver.remote.webelement.WebElement (session=\"913b87598fdab2757ffc8b0ef4cee8a2\", element=\"7fedd712-62c5-4c46-9e8a-7b66f7e04d1b\")>,\n",
       " <selenium.webdriver.remote.webelement.WebElement (session=\"913b87598fdab2757ffc8b0ef4cee8a2\", element=\"27532a00-49cd-4f78-9272-b1ddc3e90306\")>,\n",
       " <selenium.webdriver.remote.webelement.WebElement (session=\"913b87598fdab2757ffc8b0ef4cee8a2\", element=\"297f3e70-3c77-472d-9fb5-cc551b176023\")>,\n",
       " <selenium.webdriver.remote.webelement.WebElement (session=\"913b87598fdab2757ffc8b0ef4cee8a2\", element=\"9ba9675c-d1ca-487f-aedb-82de50067e9a\")>,\n",
       " <selenium.webdriver.remote.webelement.WebElement (session=\"913b87598fdab2757ffc8b0ef4cee8a2\", element=\"4ba77fbf-f597-42e3-8e45-b3618a41a140\")>,\n",
       " <selenium.webdriver.remote.webelement.WebElement (session=\"913b87598fdab2757ffc8b0ef4cee8a2\", element=\"1fcd4a5e-66ad-4096-955a-b0123b003b76\")>,\n",
       " <selenium.webdriver.remote.webelement.WebElement (session=\"913b87598fdab2757ffc8b0ef4cee8a2\", element=\"46398c12-c14b-44a1-9734-12a21df50ea1\")>,\n",
       " <selenium.webdriver.remote.webelement.WebElement (session=\"913b87598fdab2757ffc8b0ef4cee8a2\", element=\"8fcdddc4-3b8d-45df-838e-32b3d41c119e\")>,\n",
       " <selenium.webdriver.remote.webelement.WebElement (session=\"913b87598fdab2757ffc8b0ef4cee8a2\", element=\"9bf47e4c-d5d8-4ff1-a42d-8266697cf7c7\")>,\n",
       " <selenium.webdriver.remote.webelement.WebElement (session=\"913b87598fdab2757ffc8b0ef4cee8a2\", element=\"69bba43c-6ce6-4bb3-a310-d914f27331ba\")>,\n",
       " <selenium.webdriver.remote.webelement.WebElement (session=\"913b87598fdab2757ffc8b0ef4cee8a2\", element=\"c3152a63-2ab8-460a-adc7-70c32a76a94a\")>,\n",
       " <selenium.webdriver.remote.webelement.WebElement (session=\"913b87598fdab2757ffc8b0ef4cee8a2\", element=\"98c42dc5-7c9d-42c6-971c-3b9c733c868e\")>,\n",
       " <selenium.webdriver.remote.webelement.WebElement (session=\"913b87598fdab2757ffc8b0ef4cee8a2\", element=\"067f7aa6-874b-48fc-b807-598bd632508d\")>,\n",
       " <selenium.webdriver.remote.webelement.WebElement (session=\"913b87598fdab2757ffc8b0ef4cee8a2\", element=\"68e5ad67-392e-48b8-83b1-06d602ea654f\")>,\n",
       " <selenium.webdriver.remote.webelement.WebElement (session=\"913b87598fdab2757ffc8b0ef4cee8a2\", element=\"fb64e7d2-4509-4c0e-a38a-7396c15a8a29\")>,\n",
       " <selenium.webdriver.remote.webelement.WebElement (session=\"913b87598fdab2757ffc8b0ef4cee8a2\", element=\"8a025e56-3554-4f32-a5a6-0d39d63db5f7\")>,\n",
       " <selenium.webdriver.remote.webelement.WebElement (session=\"913b87598fdab2757ffc8b0ef4cee8a2\", element=\"b663d5f2-5a4d-4b76-bcb2-65db64328969\")>,\n",
       " <selenium.webdriver.remote.webelement.WebElement (session=\"913b87598fdab2757ffc8b0ef4cee8a2\", element=\"0fe0ab07-ff92-415e-ab6e-d70f5b31416f\")>,\n",
       " <selenium.webdriver.remote.webelement.WebElement (session=\"913b87598fdab2757ffc8b0ef4cee8a2\", element=\"0f5749bc-403c-4bd4-a44c-0d7c668f3e97\")>,\n",
       " <selenium.webdriver.remote.webelement.WebElement (session=\"913b87598fdab2757ffc8b0ef4cee8a2\", element=\"c0293667-c857-4ecc-8cc5-4eebce22f697\")>,\n",
       " <selenium.webdriver.remote.webelement.WebElement (session=\"913b87598fdab2757ffc8b0ef4cee8a2\", element=\"27327006-28fd-4f31-b53e-223eda614b68\")>,\n",
       " <selenium.webdriver.remote.webelement.WebElement (session=\"913b87598fdab2757ffc8b0ef4cee8a2\", element=\"57b84de7-1642-461c-9dc3-1ab6818370e6\")>,\n",
       " <selenium.webdriver.remote.webelement.WebElement (session=\"913b87598fdab2757ffc8b0ef4cee8a2\", element=\"158f57eb-c965-4d92-bf8d-6ef9d1fb3ee7\")>,\n",
       " <selenium.webdriver.remote.webelement.WebElement (session=\"913b87598fdab2757ffc8b0ef4cee8a2\", element=\"2d97c117-7475-419e-839f-f220682d9c87\")>,\n",
       " <selenium.webdriver.remote.webelement.WebElement (session=\"913b87598fdab2757ffc8b0ef4cee8a2\", element=\"0ab2f07b-1a23-4ca7-8ff9-a88cced14ced\")>,\n",
       " <selenium.webdriver.remote.webelement.WebElement (session=\"913b87598fdab2757ffc8b0ef4cee8a2\", element=\"a8ba1e63-f765-479d-87ae-c81c3123d68d\")>,\n",
       " <selenium.webdriver.remote.webelement.WebElement (session=\"913b87598fdab2757ffc8b0ef4cee8a2\", element=\"3881eca8-2104-4025-bfec-e0dc4bf1e548\")>,\n",
       " <selenium.webdriver.remote.webelement.WebElement (session=\"913b87598fdab2757ffc8b0ef4cee8a2\", element=\"543bd486-1027-4b25-aede-cdb38fcc6a2c\")>,\n",
       " <selenium.webdriver.remote.webelement.WebElement (session=\"913b87598fdab2757ffc8b0ef4cee8a2\", element=\"1da2c9aa-88d8-475f-9c39-840e6036ec34\")>,\n",
       " <selenium.webdriver.remote.webelement.WebElement (session=\"913b87598fdab2757ffc8b0ef4cee8a2\", element=\"0a51536a-c992-4f13-b177-f2bc114d8264\")>,\n",
       " <selenium.webdriver.remote.webelement.WebElement (session=\"913b87598fdab2757ffc8b0ef4cee8a2\", element=\"d571f665-b284-4047-be04-80f9ca0f03f9\")>,\n",
       " <selenium.webdriver.remote.webelement.WebElement (session=\"913b87598fdab2757ffc8b0ef4cee8a2\", element=\"0ea8cee2-23d5-42bf-9518-8a99eca31832\")>,\n",
       " <selenium.webdriver.remote.webelement.WebElement (session=\"913b87598fdab2757ffc8b0ef4cee8a2\", element=\"075aeb6b-5547-44e5-8588-421d7c10db5a\")>,\n",
       " <selenium.webdriver.remote.webelement.WebElement (session=\"913b87598fdab2757ffc8b0ef4cee8a2\", element=\"2611c561-0068-4241-9d36-283e03494ea7\")>]"
      ]
     },
     "execution_count": 123,
     "metadata": {},
     "output_type": "execute_result"
    }
   ],
   "source": [
    "#Extracting all the tags having Discount Information on 2nd Page\n",
    "disc2=driver.find_elements_by_xpath(\"//div[@class='_3Ay6Sb']\")\n",
    "disc2"
   ]
  },
  {
   "cell_type": "code",
   "execution_count": 124,
   "metadata": {},
   "outputs": [
    {
     "data": {
      "text/plain": [
       "['28% off',\n",
       " '18% off',\n",
       " '78% off',\n",
       " '79% off',\n",
       " '80% off',\n",
       " '84% off',\n",
       " '82% off',\n",
       " '77% off',\n",
       " '15% off',\n",
       " '22% off',\n",
       " '79% off',\n",
       " '80% off',\n",
       " '13% off',\n",
       " '15% off',\n",
       " '85% off',\n",
       " '83% off',\n",
       " '20% off',\n",
       " '80% off',\n",
       " '71% off',\n",
       " '70% off',\n",
       " '82% off',\n",
       " '7% off',\n",
       " '73% off',\n",
       " '80% off',\n",
       " '68% off',\n",
       " '77% off',\n",
       " '79% off',\n",
       " '15% off',\n",
       " '78% off',\n",
       " '80% off',\n",
       " '77% off',\n",
       " '75% off',\n",
       " '77% off',\n",
       " '14% off',\n",
       " '79% off',\n",
       " '80% off',\n",
       " '80% off',\n",
       " '87% off',\n",
       " '74% off',\n",
       " '81% off',\n",
       " '86% off',\n",
       " '78% off',\n",
       " '69% off',\n",
       " '15% off',\n",
       " '27% off',\n",
       " '20% off',\n",
       " '84% off',\n",
       " '86% off',\n",
       " '84% off',\n",
       " '15% off',\n",
       " '77% off',\n",
       " '83% off',\n",
       " '66% off',\n",
       " '85% off',\n",
       " '11% off',\n",
       " '16% off',\n",
       " '80% off',\n",
       " '30% off',\n",
       " '66% off',\n",
       " '83% off',\n",
       " '84% off',\n",
       " '58% off',\n",
       " '22% off',\n",
       " '15% off',\n",
       " '85% off',\n",
       " '78% off',\n",
       " '62% off',\n",
       " '15% off',\n",
       " '73% off',\n",
       " '83% off',\n",
       " '50% off',\n",
       " '77% off',\n",
       " '83% off',\n",
       " '80% off',\n",
       " '82% off',\n",
       " '83% off',\n",
       " '88% off']"
      ]
     },
     "execution_count": 124,
     "metadata": {},
     "output_type": "execute_result"
    }
   ],
   "source": [
    "#extracting text inside discount tags of 2nd page\n",
    "for i in disc2:\n",
    "    Discount.append(i.text)\n",
    "Discount"
   ]
  },
  {
   "cell_type": "code",
   "execution_count": 129,
   "metadata": {},
   "outputs": [],
   "source": [
    "#After scraping data from the Second page, Let's move to the Third Page by clicking “Next” Button\n",
    "third_page=driver.find_element_by_xpath(\"//a [@href='/search?q=sunglasses&otracker=search&otracker1=search&marketplace=FLIPKART&as-show=on&as=off&page=3']\")\n",
    "third_page.click()"
   ]
  },
  {
   "cell_type": "code",
   "execution_count": 130,
   "metadata": {},
   "outputs": [
    {
     "data": {
      "text/plain": [
       "[<selenium.webdriver.remote.webelement.WebElement (session=\"913b87598fdab2757ffc8b0ef4cee8a2\", element=\"47c66d3d-4374-4d52-bbc1-586404bfb281\")>,\n",
       " <selenium.webdriver.remote.webelement.WebElement (session=\"913b87598fdab2757ffc8b0ef4cee8a2\", element=\"ee71259c-a831-4513-a619-3e645b628775\")>,\n",
       " <selenium.webdriver.remote.webelement.WebElement (session=\"913b87598fdab2757ffc8b0ef4cee8a2\", element=\"cda0a9d5-2b40-43cc-8f36-d254e3b364e6\")>,\n",
       " <selenium.webdriver.remote.webelement.WebElement (session=\"913b87598fdab2757ffc8b0ef4cee8a2\", element=\"781b903c-4e70-430c-9647-4cfc7b6028c2\")>,\n",
       " <selenium.webdriver.remote.webelement.WebElement (session=\"913b87598fdab2757ffc8b0ef4cee8a2\", element=\"3e94901d-48a6-4eb6-933e-9c1eed6cd12c\")>,\n",
       " <selenium.webdriver.remote.webelement.WebElement (session=\"913b87598fdab2757ffc8b0ef4cee8a2\", element=\"e5b32148-4ddd-4c4a-8d6d-25d6d53d1188\")>,\n",
       " <selenium.webdriver.remote.webelement.WebElement (session=\"913b87598fdab2757ffc8b0ef4cee8a2\", element=\"851ac429-d1c3-4337-9b2d-e297117815ca\")>,\n",
       " <selenium.webdriver.remote.webelement.WebElement (session=\"913b87598fdab2757ffc8b0ef4cee8a2\", element=\"51995f96-b201-48b9-9789-9693484c8af6\")>,\n",
       " <selenium.webdriver.remote.webelement.WebElement (session=\"913b87598fdab2757ffc8b0ef4cee8a2\", element=\"c9b1cc65-ad42-416d-90d2-cb2832082120\")>,\n",
       " <selenium.webdriver.remote.webelement.WebElement (session=\"913b87598fdab2757ffc8b0ef4cee8a2\", element=\"d9551ad4-a124-4b17-b2ed-a7092d176e62\")>,\n",
       " <selenium.webdriver.remote.webelement.WebElement (session=\"913b87598fdab2757ffc8b0ef4cee8a2\", element=\"84d7c956-0441-4a0f-95ae-75c6a9284249\")>,\n",
       " <selenium.webdriver.remote.webelement.WebElement (session=\"913b87598fdab2757ffc8b0ef4cee8a2\", element=\"700596b9-e942-43a8-a60d-76d5b4b56f5b\")>,\n",
       " <selenium.webdriver.remote.webelement.WebElement (session=\"913b87598fdab2757ffc8b0ef4cee8a2\", element=\"dd6d44b4-a6fe-40ce-81b0-c92ae6f40027\")>,\n",
       " <selenium.webdriver.remote.webelement.WebElement (session=\"913b87598fdab2757ffc8b0ef4cee8a2\", element=\"c1e11034-a3fe-42ee-b4e4-3ba02232a65c\")>,\n",
       " <selenium.webdriver.remote.webelement.WebElement (session=\"913b87598fdab2757ffc8b0ef4cee8a2\", element=\"bfc7bc79-226b-42c3-9e0f-5018ce6e60d1\")>,\n",
       " <selenium.webdriver.remote.webelement.WebElement (session=\"913b87598fdab2757ffc8b0ef4cee8a2\", element=\"08c0774d-0a20-4d2c-bb9d-0628f91b3b42\")>,\n",
       " <selenium.webdriver.remote.webelement.WebElement (session=\"913b87598fdab2757ffc8b0ef4cee8a2\", element=\"8ed0616a-0d88-47b3-a337-94d2306246d6\")>,\n",
       " <selenium.webdriver.remote.webelement.WebElement (session=\"913b87598fdab2757ffc8b0ef4cee8a2\", element=\"97432fb2-e263-4248-8e75-11d29d1c54f7\")>,\n",
       " <selenium.webdriver.remote.webelement.WebElement (session=\"913b87598fdab2757ffc8b0ef4cee8a2\", element=\"4a069483-0e42-4d8b-8c6b-932c04a48993\")>,\n",
       " <selenium.webdriver.remote.webelement.WebElement (session=\"913b87598fdab2757ffc8b0ef4cee8a2\", element=\"6d3ce269-9e1e-4df7-823c-fecfa4660e01\")>,\n",
       " <selenium.webdriver.remote.webelement.WebElement (session=\"913b87598fdab2757ffc8b0ef4cee8a2\", element=\"f93559a7-b492-440f-acf3-0cb5a340c2b4\")>,\n",
       " <selenium.webdriver.remote.webelement.WebElement (session=\"913b87598fdab2757ffc8b0ef4cee8a2\", element=\"048fdf93-fbd1-48b9-83bc-a3401bfc50ad\")>,\n",
       " <selenium.webdriver.remote.webelement.WebElement (session=\"913b87598fdab2757ffc8b0ef4cee8a2\", element=\"4a99e91a-e41f-4346-8b79-71f9af9961b8\")>,\n",
       " <selenium.webdriver.remote.webelement.WebElement (session=\"913b87598fdab2757ffc8b0ef4cee8a2\", element=\"dd7eda43-c515-44b0-b8bb-dac4a98515b1\")>,\n",
       " <selenium.webdriver.remote.webelement.WebElement (session=\"913b87598fdab2757ffc8b0ef4cee8a2\", element=\"f022dda6-fa6e-4bb9-b586-6fc223ca5ccd\")>,\n",
       " <selenium.webdriver.remote.webelement.WebElement (session=\"913b87598fdab2757ffc8b0ef4cee8a2\", element=\"7fea8604-a94e-4ac9-aca7-3d4753ad3338\")>,\n",
       " <selenium.webdriver.remote.webelement.WebElement (session=\"913b87598fdab2757ffc8b0ef4cee8a2\", element=\"dc4f6b3d-5a1d-44e1-b87c-205d2b62a188\")>,\n",
       " <selenium.webdriver.remote.webelement.WebElement (session=\"913b87598fdab2757ffc8b0ef4cee8a2\", element=\"4ac2fb42-8389-4aa0-b126-b10c848a90c7\")>,\n",
       " <selenium.webdriver.remote.webelement.WebElement (session=\"913b87598fdab2757ffc8b0ef4cee8a2\", element=\"bd5c4fbc-2167-4f8e-afc9-e65b7857cd3f\")>,\n",
       " <selenium.webdriver.remote.webelement.WebElement (session=\"913b87598fdab2757ffc8b0ef4cee8a2\", element=\"97eb644a-216e-402d-812a-f106dda066e7\")>,\n",
       " <selenium.webdriver.remote.webelement.WebElement (session=\"913b87598fdab2757ffc8b0ef4cee8a2\", element=\"9adecaa0-42be-4f8b-a71d-b74ce53c52ca\")>,\n",
       " <selenium.webdriver.remote.webelement.WebElement (session=\"913b87598fdab2757ffc8b0ef4cee8a2\", element=\"2ff9efa3-92c2-4ba6-ac3b-0fe40ed5cefa\")>,\n",
       " <selenium.webdriver.remote.webelement.WebElement (session=\"913b87598fdab2757ffc8b0ef4cee8a2\", element=\"d827734d-a501-470f-a510-15d9e599a85f\")>,\n",
       " <selenium.webdriver.remote.webelement.WebElement (session=\"913b87598fdab2757ffc8b0ef4cee8a2\", element=\"64a9f0b9-75c6-45b6-a117-aed9bc9f8a15\")>,\n",
       " <selenium.webdriver.remote.webelement.WebElement (session=\"913b87598fdab2757ffc8b0ef4cee8a2\", element=\"0769d292-7846-49b4-a29d-aa02c4861b8a\")>,\n",
       " <selenium.webdriver.remote.webelement.WebElement (session=\"913b87598fdab2757ffc8b0ef4cee8a2\", element=\"7a4d4534-6f0f-4a92-b43a-32886ce304a7\")>,\n",
       " <selenium.webdriver.remote.webelement.WebElement (session=\"913b87598fdab2757ffc8b0ef4cee8a2\", element=\"482e6457-c048-4bee-abd0-a7aae81a557d\")>,\n",
       " <selenium.webdriver.remote.webelement.WebElement (session=\"913b87598fdab2757ffc8b0ef4cee8a2\", element=\"845957e2-5986-4bb1-92eb-47d9c7c4833a\")>,\n",
       " <selenium.webdriver.remote.webelement.WebElement (session=\"913b87598fdab2757ffc8b0ef4cee8a2\", element=\"c88f4f54-cd4f-4b54-abfa-ad89e0cea86d\")>,\n",
       " <selenium.webdriver.remote.webelement.WebElement (session=\"913b87598fdab2757ffc8b0ef4cee8a2\", element=\"388ba668-12d8-4a75-8046-9ed1053ddd73\")>]"
      ]
     },
     "execution_count": 130,
     "metadata": {},
     "output_type": "execute_result"
    }
   ],
   "source": [
    "#Extracting all the tags having Brand Information on 3rd Page\n",
    "brand3=driver.find_elements_by_xpath(\"//div[@class='_2WkVRV']\")\n",
    "brand3"
   ]
  },
  {
   "cell_type": "code",
   "execution_count": 131,
   "metadata": {},
   "outputs": [
    {
     "data": {
      "text/plain": [
       "['Fastrack',\n",
       " 'Fastrack',\n",
       " 'PIRASO',\n",
       " 'ROZZETTA CRAFT',\n",
       " 'PHENOMENAL',\n",
       " 'PIRASO',\n",
       " 'DEIXELS',\n",
       " 'ROZZETTA CRAFT',\n",
       " 'Fastrack',\n",
       " 'Fastrack',\n",
       " 'HIPPON',\n",
       " 'PHENOMENAL',\n",
       " 'Fastrack',\n",
       " 'Fastrack',\n",
       " 'GANSTA',\n",
       " 'Singco India',\n",
       " 'Fastrack',\n",
       " 'ROZZETTA CRAFT',\n",
       " 'Singco India',\n",
       " 'Singco India',\n",
       " 'Silver Kartz',\n",
       " 'Fastrack',\n",
       " 'DEIXELS',\n",
       " 'GANSTA',\n",
       " 'ROYAL SON',\n",
       " 'ROZZETTA CRAFT',\n",
       " 'ROZZETTA CRAFT',\n",
       " 'Fastrack',\n",
       " 'hipe',\n",
       " 'PHENOMENAL',\n",
       " 'ROZZETTA CRAFT',\n",
       " 'Silver Kartz',\n",
       " 'ROZZETTA CRAFT',\n",
       " 'Fastrack',\n",
       " 'ROYAL SON',\n",
       " 'hipe',\n",
       " 'Fravy',\n",
       " 'PHENOMENAL',\n",
       " 'ROYAL SON',\n",
       " 'Flizz',\n",
       " 'GANSTA',\n",
       " 'ROYAL SON',\n",
       " 'AISLIN',\n",
       " 'Fastrack',\n",
       " 'Fastrack',\n",
       " 'Villain',\n",
       " 'PHENOMENAL',\n",
       " 'hipe',\n",
       " 'Singco India',\n",
       " 'Fastrack',\n",
       " 'ROZZETTA CRAFT',\n",
       " 'GANSTA',\n",
       " 'elegante',\n",
       " 'hipe',\n",
       " 'Fastrack',\n",
       " 'Fastrack',\n",
       " 'PHENOMENAL',\n",
       " 'Fastrack',\n",
       " 'NuVew',\n",
       " 'hipe',\n",
       " 'PHENOMENAL',\n",
       " 'DEIXELS',\n",
       " 'Fastrack',\n",
       " 'Fastrack',\n",
       " 'GANSTA',\n",
       " 'hipe',\n",
       " 'SRPM',\n",
       " 'Fastrack',\n",
       " 'ROYAL SON',\n",
       " 'ROZZETTA CRAFT',\n",
       " 'ROYAL SON',\n",
       " 'ROZZETTA CRAFT',\n",
       " 'GANSTA',\n",
       " 'ROZZETTA CRAFT',\n",
       " 'Singco',\n",
       " 'Fravy',\n",
       " 'GANSTA',\n",
       " 'ROYAL SON',\n",
       " 'Fastrack',\n",
       " 'NuVew',\n",
       " 'AISLIN',\n",
       " 'PETER JONES',\n",
       " 'NuVew',\n",
       " 'AISLIN',\n",
       " 'Flizz',\n",
       " 'Silver Kartz',\n",
       " 'PHENOMENAL',\n",
       " 'ROYAL SON',\n",
       " 'AISLIN',\n",
       " 'NuVew',\n",
       " 'GANSTA',\n",
       " 'GANSTA',\n",
       " 'Fastrack',\n",
       " 'ROZZETTA CRAFT',\n",
       " 'Fastrack',\n",
       " 'Fastrack',\n",
       " 'BKGE',\n",
       " 'IDEE',\n",
       " 'Singco India',\n",
       " 'Ray-Ban',\n",
       " 'Fastrack',\n",
       " 'hipe',\n",
       " 'GANSTA',\n",
       " 'ROYAL SON',\n",
       " 'Ray-Ban',\n",
       " 'Fastrack',\n",
       " 'Silver Kartz',\n",
       " 'NuVew',\n",
       " 'ROYAL SON',\n",
       " 'ROZZETTA CRAFT',\n",
       " 'ROYAL SON',\n",
       " 'GANSTA',\n",
       " 'ROZZETTA CRAFT',\n",
       " 'ROYAL SON',\n",
       " 'ROZZETTA CRAFT',\n",
       " 'hipe',\n",
       " 'ROYAL SON']"
      ]
     },
     "execution_count": 131,
     "metadata": {},
     "output_type": "execute_result"
    }
   ],
   "source": [
    "#extracting text inside brand tags of 3rd page\n",
    "for i in brand3:\n",
    "    Brand_list.append(i.text)\n",
    "Brand_list"
   ]
  },
  {
   "cell_type": "code",
   "execution_count": 132,
   "metadata": {},
   "outputs": [
    {
     "data": {
      "text/plain": [
       "[<selenium.webdriver.remote.webelement.WebElement (session=\"913b87598fdab2757ffc8b0ef4cee8a2\", element=\"30970878-833a-404b-907c-8402d7a30518\")>,\n",
       " <selenium.webdriver.remote.webelement.WebElement (session=\"913b87598fdab2757ffc8b0ef4cee8a2\", element=\"f5118d85-ca73-409b-9364-b575c62b31af\")>,\n",
       " <selenium.webdriver.remote.webelement.WebElement (session=\"913b87598fdab2757ffc8b0ef4cee8a2\", element=\"612386b5-45c7-459e-a3f1-b8ac0b670a29\")>,\n",
       " <selenium.webdriver.remote.webelement.WebElement (session=\"913b87598fdab2757ffc8b0ef4cee8a2\", element=\"3547491b-e99f-4084-9bcb-255f35d7b25b\")>,\n",
       " <selenium.webdriver.remote.webelement.WebElement (session=\"913b87598fdab2757ffc8b0ef4cee8a2\", element=\"dff4b7c3-c4b6-49bd-8618-89c82c2a054d\")>,\n",
       " <selenium.webdriver.remote.webelement.WebElement (session=\"913b87598fdab2757ffc8b0ef4cee8a2\", element=\"25e9ff58-5011-4f01-bbb5-e8b59c2ddd39\")>,\n",
       " <selenium.webdriver.remote.webelement.WebElement (session=\"913b87598fdab2757ffc8b0ef4cee8a2\", element=\"8bc0c82b-71e0-4fdd-a613-414af6bb1c39\")>,\n",
       " <selenium.webdriver.remote.webelement.WebElement (session=\"913b87598fdab2757ffc8b0ef4cee8a2\", element=\"fca81ac2-f9ca-43d1-a003-50e09422c689\")>,\n",
       " <selenium.webdriver.remote.webelement.WebElement (session=\"913b87598fdab2757ffc8b0ef4cee8a2\", element=\"633636d4-5c65-486a-b395-749b650d8881\")>,\n",
       " <selenium.webdriver.remote.webelement.WebElement (session=\"913b87598fdab2757ffc8b0ef4cee8a2\", element=\"673f99b4-888f-4033-9403-150d028b70fc\")>,\n",
       " <selenium.webdriver.remote.webelement.WebElement (session=\"913b87598fdab2757ffc8b0ef4cee8a2\", element=\"6eaabadb-08d0-4490-b305-ebc4a5d5d874\")>,\n",
       " <selenium.webdriver.remote.webelement.WebElement (session=\"913b87598fdab2757ffc8b0ef4cee8a2\", element=\"b30ab7d9-3809-455f-a266-9b6242749d8e\")>,\n",
       " <selenium.webdriver.remote.webelement.WebElement (session=\"913b87598fdab2757ffc8b0ef4cee8a2\", element=\"0bdd4a5c-9e63-41c7-a89d-80698c0d04f1\")>,\n",
       " <selenium.webdriver.remote.webelement.WebElement (session=\"913b87598fdab2757ffc8b0ef4cee8a2\", element=\"23c23ce8-164c-4175-89d9-e82cea22a5d8\")>,\n",
       " <selenium.webdriver.remote.webelement.WebElement (session=\"913b87598fdab2757ffc8b0ef4cee8a2\", element=\"9229c65d-bfcd-4372-8c6f-340933b75f04\")>,\n",
       " <selenium.webdriver.remote.webelement.WebElement (session=\"913b87598fdab2757ffc8b0ef4cee8a2\", element=\"fb98c63e-4df7-4f3a-af54-bbae8ea3b1cc\")>,\n",
       " <selenium.webdriver.remote.webelement.WebElement (session=\"913b87598fdab2757ffc8b0ef4cee8a2\", element=\"e400d9f6-d3f7-46a0-9b51-4b895dde8572\")>,\n",
       " <selenium.webdriver.remote.webelement.WebElement (session=\"913b87598fdab2757ffc8b0ef4cee8a2\", element=\"4f2800fb-5ff8-472c-a40a-717cc7a337ae\")>,\n",
       " <selenium.webdriver.remote.webelement.WebElement (session=\"913b87598fdab2757ffc8b0ef4cee8a2\", element=\"247b8b06-2be5-4943-bf4a-4cd2e5d7b72a\")>,\n",
       " <selenium.webdriver.remote.webelement.WebElement (session=\"913b87598fdab2757ffc8b0ef4cee8a2\", element=\"edcf3959-c061-4922-9be2-04acd50b0c63\")>,\n",
       " <selenium.webdriver.remote.webelement.WebElement (session=\"913b87598fdab2757ffc8b0ef4cee8a2\", element=\"83513918-fd5c-43c2-b367-e7b79e5a28c9\")>,\n",
       " <selenium.webdriver.remote.webelement.WebElement (session=\"913b87598fdab2757ffc8b0ef4cee8a2\", element=\"aa38636c-6086-4e4e-b005-bd0e79d434d3\")>,\n",
       " <selenium.webdriver.remote.webelement.WebElement (session=\"913b87598fdab2757ffc8b0ef4cee8a2\", element=\"763acfd3-ba96-419e-a0db-649fe7531eaf\")>,\n",
       " <selenium.webdriver.remote.webelement.WebElement (session=\"913b87598fdab2757ffc8b0ef4cee8a2\", element=\"dee33c51-c565-41ca-9211-2705be67d899\")>,\n",
       " <selenium.webdriver.remote.webelement.WebElement (session=\"913b87598fdab2757ffc8b0ef4cee8a2\", element=\"ecda153e-3655-4547-b569-425f3b7334b2\")>,\n",
       " <selenium.webdriver.remote.webelement.WebElement (session=\"913b87598fdab2757ffc8b0ef4cee8a2\", element=\"8d40a373-7120-44b1-9538-ddf01395ade7\")>,\n",
       " <selenium.webdriver.remote.webelement.WebElement (session=\"913b87598fdab2757ffc8b0ef4cee8a2\", element=\"b67685e3-6fa8-4367-8144-ffbe4a4f97f7\")>,\n",
       " <selenium.webdriver.remote.webelement.WebElement (session=\"913b87598fdab2757ffc8b0ef4cee8a2\", element=\"d5ed969e-663f-4d86-8cb0-3274f64ee9db\")>,\n",
       " <selenium.webdriver.remote.webelement.WebElement (session=\"913b87598fdab2757ffc8b0ef4cee8a2\", element=\"524987f4-4ea7-46dd-baf8-8b24cf222ffb\")>,\n",
       " <selenium.webdriver.remote.webelement.WebElement (session=\"913b87598fdab2757ffc8b0ef4cee8a2\", element=\"63fc3b4d-63bb-4e24-8545-74710c4ce99b\")>,\n",
       " <selenium.webdriver.remote.webelement.WebElement (session=\"913b87598fdab2757ffc8b0ef4cee8a2\", element=\"adbe10e6-e849-4a30-9683-5425131a27ea\")>,\n",
       " <selenium.webdriver.remote.webelement.WebElement (session=\"913b87598fdab2757ffc8b0ef4cee8a2\", element=\"de1752bc-f97f-42e4-a80a-0d5844fe3a95\")>,\n",
       " <selenium.webdriver.remote.webelement.WebElement (session=\"913b87598fdab2757ffc8b0ef4cee8a2\", element=\"543a6204-96c7-419e-93e9-e3277748ce6e\")>,\n",
       " <selenium.webdriver.remote.webelement.WebElement (session=\"913b87598fdab2757ffc8b0ef4cee8a2\", element=\"d1dde26a-c3f6-4627-a5b8-0754b8c1741e\")>,\n",
       " <selenium.webdriver.remote.webelement.WebElement (session=\"913b87598fdab2757ffc8b0ef4cee8a2\", element=\"ac70307d-c94d-4a99-84c2-0200a6e4e738\")>,\n",
       " <selenium.webdriver.remote.webelement.WebElement (session=\"913b87598fdab2757ffc8b0ef4cee8a2\", element=\"e7b9f7cb-ee40-4eb7-a6a5-ad405fb00f78\")>,\n",
       " <selenium.webdriver.remote.webelement.WebElement (session=\"913b87598fdab2757ffc8b0ef4cee8a2\", element=\"4ed357b7-1371-414b-9b43-32f79e12fe9a\")>,\n",
       " <selenium.webdriver.remote.webelement.WebElement (session=\"913b87598fdab2757ffc8b0ef4cee8a2\", element=\"25ab215e-b173-4dd1-87d4-7091f94bb683\")>,\n",
       " <selenium.webdriver.remote.webelement.WebElement (session=\"913b87598fdab2757ffc8b0ef4cee8a2\", element=\"776c957d-216a-4634-938c-0b2f4e439102\")>,\n",
       " <selenium.webdriver.remote.webelement.WebElement (session=\"913b87598fdab2757ffc8b0ef4cee8a2\", element=\"c8e1852b-faec-4c82-9767-0b6d1ac84bc6\")>]"
      ]
     },
     "execution_count": 132,
     "metadata": {},
     "output_type": "execute_result"
    }
   ],
   "source": [
    "#Extracting all the tags having Product Information on 3rd Page\n",
    "prod3=driver.find_elements_by_xpath(\"//a[@class='IRpwTa']\")\n",
    "prod3"
   ]
  },
  {
   "cell_type": "code",
   "execution_count": 133,
   "metadata": {},
   "outputs": [
    {
     "data": {
      "text/plain": [
       "['UV Protection Rectangular Sunglasses (Free Size)',\n",
       " 'UV Protection Wayfarer Sunglasses (Free Size)',\n",
       " 'UV Protection Aviator Sunglasses (Free Size)',\n",
       " 'UV Protection, Gradient Rectangular Sunglasses (Free Si...',\n",
       " 'UV Protection Retro Square Sunglasses (Free Size)',\n",
       " 'UV Protection Aviator Sunglasses (54)',\n",
       " 'UV Protection Aviator, Wayfarer Sunglasses (Free Size)',\n",
       " 'UV Protection Retro Square Sunglasses (Free Size)',\n",
       " 'UV Protection Wayfarer Sunglasses (Free Size)',\n",
       " 'Gradient, UV Protection Wayfarer Sunglasses (Free Size)',\n",
       " 'UV Protection Wayfarer Sunglasses (55)',\n",
       " 'UV Protection, Mirrored Retro Square Sunglasses (53)',\n",
       " 'UV Protection Aviator Sunglasses (58)',\n",
       " 'UV Protection Wayfarer Sunglasses (56)',\n",
       " 'UV Protection Aviator Sunglasses (57)',\n",
       " 'Mirrored, Riding Glasses, Others Sports Sunglasses (50)',\n",
       " 'Gradient, UV Protection Wayfarer Sunglasses (Free Size)',\n",
       " 'UV Protection Shield Sunglasses (54)',\n",
       " 'UV Protection Aviator Sunglasses (Free Size)',\n",
       " 'UV Protection, Riding Glasses, Others Aviator, Wayfarer...',\n",
       " 'UV Protection Wayfarer Sunglasses (Free Size)',\n",
       " 'UV Protection Wayfarer Sunglasses (Free Size)',\n",
       " 'UV Protection Round Sunglasses (Free Size)',\n",
       " 'UV Protection, Mirrored Wayfarer Sunglasses (53)',\n",
       " 'UV Protection Rectangular Sunglasses (58)',\n",
       " 'Gradient, UV Protection Round Sunglasses (Free Size)',\n",
       " 'UV Protection, Riding Glasses Rectangular Sunglasses (F...',\n",
       " 'UV Protection Rectangular Sunglasses (59)',\n",
       " 'Mirrored Wayfarer Sunglasses (55)',\n",
       " 'UV Protection, Mirrored Retro Square Sunglasses (Free S...',\n",
       " 'UV Protection, Gradient Rectangular Sunglasses (Free Si...',\n",
       " 'UV Protection Oval Sunglasses (56)',\n",
       " 'UV Protection, Gradient Round Sunglasses (Free Size)',\n",
       " 'UV Protection Aviator Sunglasses (58)',\n",
       " 'UV Protection Wayfarer Sunglasses (55)',\n",
       " 'UV Protection, Mirrored Aviator Sunglasses (Free Size)',\n",
       " 'UV Protection Retro Square Sunglasses (Free Size)',\n",
       " 'UV Protection, Mirrored, Gradient Retro Square Sunglass...',\n",
       " 'Mirrored Aviator Sunglasses (55)',\n",
       " 'UV Protection Retro Square Sunglasses (Free Size)',\n",
       " 'UV Protection, Riding Glasses Wayfarer Sunglasses (53)',\n",
       " 'UV Protection, Gradient Wayfarer Sunglasses (55)',\n",
       " 'UV Protection Oval Sunglasses (60)',\n",
       " 'UV Protection Wayfarer Sunglasses (Free Size)',\n",
       " 'UV Protection Wayfarer Sunglasses (Free Size)',\n",
       " 'Others Retro Square Sunglasses (Free Size)',\n",
       " 'UV Protection Clubmaster Sunglasses (Free Size)',\n",
       " 'UV Protection, Mirrored Round Sunglasses (Free Size)',\n",
       " 'Riding Glasses, UV Protection, Others Aviator Sunglasse...',\n",
       " 'UV Protection Aviator Sunglasses (Free Size)',\n",
       " 'UV Protection, Gradient Retro Square Sunglasses (Free S...',\n",
       " 'UV Protection Aviator Sunglasses (57)',\n",
       " 'UV Protection Wrap-around Sunglasses (Free Size)',\n",
       " 'Mirrored, UV Protection, Gradient Round Sunglasses (55)',\n",
       " 'UV Protection Aviator Sunglasses (58)',\n",
       " 'UV Protection Aviator Sunglasses (58)',\n",
       " 'UV Protection, Mirrored Retro Square Sunglasses (53)',\n",
       " 'UV Protection Wayfarer Sunglasses (57)',\n",
       " 'UV Protection Aviator Sunglasses (Free Size)',\n",
       " 'UV Protection Sports Sunglasses (Free Size)',\n",
       " 'UV Protection, Mirrored Clubmaster Sunglasses (Free Siz...',\n",
       " 'Polarized, UV Protection, Riding Glasses Wayfarer Sungl...',\n",
       " 'Mirrored, UV Protection Wayfarer Sunglasses (Free Size)',\n",
       " 'UV Protection, Polarized Wayfarer Sunglasses (56)',\n",
       " 'UV Protection, Night Vision, Riding Glasses Aviator Sun...',\n",
       " 'UV Protection, Night Vision, Gradient, Mirrored Round, ...',\n",
       " 'UV Protection Round Sunglasses (53)',\n",
       " 'UV Protection Shield Sunglasses (Free Size)',\n",
       " 'Mirrored Aviator Sunglasses (58)',\n",
       " 'UV Protection, Gradient Round Sunglasses (Free Size)',\n",
       " 'Polarized Sports Sunglasses (68)',\n",
       " 'Polarized, UV Protection Aviator Sunglasses (Free Size)',\n",
       " 'UV Protection, Gradient Wayfarer Sunglasses (53)',\n",
       " 'UV Protection, Gradient Round Sunglasses (Free Size)',\n",
       " 'UV Protection, Others Aviator Sunglasses (32)',\n",
       " 'UV Protection, Gradient, Night Vision Retro Square Sung...',\n",
       " 'Night Vision, Riding Glasses Wayfarer Sunglasses (53)',\n",
       " 'UV Protection Retro Square Sunglasses (58)',\n",
       " 'UV Protection Wayfarer Sunglasses (Free Size)',\n",
       " 'UV Protection, Mirrored Clubmaster Sunglasses (53)',\n",
       " 'UV Protection, Gradient Oval Sunglasses (58)',\n",
       " 'UV Protection, Gradient Retro Square Sunglasses (58)',\n",
       " 'UV Protection Cat-eye Sunglasses (60)',\n",
       " 'UV Protection, Gradient Oval Sunglasses (58)',\n",
       " 'UV Protection, Polarized Rectangular Sunglasses (Free S...',\n",
       " 'UV Protection Aviator Sunglasses (62)',\n",
       " 'UV Protection Retro Square Sunglasses (Free Size)',\n",
       " 'Polarized, UV Protection Round Sunglasses (49)',\n",
       " 'UV Protection Aviator Sunglasses (58)',\n",
       " 'UV Protection, Riding Glasses Wayfarer Sunglasses (56)',\n",
       " 'UV Protection Retro Square Sunglasses (53)',\n",
       " 'UV Protection Aviator Sunglasses (57)',\n",
       " 'Gradient, UV Protection Wayfarer Sunglasses (Free Size)',\n",
       " 'UV Protection, Gradient Retro Square Sunglasses (62)',\n",
       " 'Mirrored Aviator Sunglasses (Free Size)',\n",
       " 'UV Protection Shield Sunglasses (Free Size)',\n",
       " 'UV Protection, Polarized Rectangular, Retro Square Sung...',\n",
       " 'Gradient Aviator Sunglasses (58)',\n",
       " 'UV Protection Round Sunglasses (Free Size)',\n",
       " 'UV Protection Rectangular Sunglasses (Free Size)',\n",
       " 'UV Protection Wayfarer Sunglasses (55)',\n",
       " 'UV Protection Wayfarer Sunglasses (Free Size)',\n",
       " 'UV Protection Rectangular Sunglasses (58)',\n",
       " 'Polarized Retro Square Sunglasses (58)',\n",
       " 'UV Protection Retro Square Sunglasses (55)',\n",
       " 'UV Protection Aviator Sunglasses (Free Size)',\n",
       " 'UV Protection Oval Sunglasses (56)',\n",
       " 'UV Protection Wayfarer, Rectangular Sunglasses (57)',\n",
       " 'UV Protection Retro Square Sunglasses (60)',\n",
       " 'UV Protection, Gradient Rectangular Sunglasses (Free Si...',\n",
       " 'Gradient, UV Protection Round, Oval, Cat-eye Sunglasses...',\n",
       " 'UV Protection, Gradient Aviator Sunglasses (57)',\n",
       " 'UV Protection, Gradient Rectangular Sunglasses (Free Si...',\n",
       " 'Mirrored Aviator Sunglasses (55)',\n",
       " 'UV Protection Retro Square Sunglasses (Free Size)',\n",
       " 'Gradient, UV Protection Round Sunglasses (Free Size)',\n",
       " 'Mirrored Aviator Sunglasses (Free Size)']"
      ]
     },
     "execution_count": 133,
     "metadata": {},
     "output_type": "execute_result"
    }
   ],
   "source": [
    "#extracting text inside product tags of 3rd page\n",
    "for i in prod3:\n",
    "    Product_Description.append(i.text)\n",
    "Product_Description"
   ]
  },
  {
   "cell_type": "code",
   "execution_count": 134,
   "metadata": {},
   "outputs": [
    {
     "data": {
      "text/plain": [
       "[<selenium.webdriver.remote.webelement.WebElement (session=\"913b87598fdab2757ffc8b0ef4cee8a2\", element=\"07eef919-1123-4b57-9d20-6ebd32e0e433\")>,\n",
       " <selenium.webdriver.remote.webelement.WebElement (session=\"913b87598fdab2757ffc8b0ef4cee8a2\", element=\"474e20b5-9e5f-42d6-aeda-a1511a5ccec3\")>,\n",
       " <selenium.webdriver.remote.webelement.WebElement (session=\"913b87598fdab2757ffc8b0ef4cee8a2\", element=\"ac61b3eb-a3ac-4144-9693-7be77d4c8ce1\")>,\n",
       " <selenium.webdriver.remote.webelement.WebElement (session=\"913b87598fdab2757ffc8b0ef4cee8a2\", element=\"26148b64-f6be-48fc-9d03-d59f42a06e56\")>,\n",
       " <selenium.webdriver.remote.webelement.WebElement (session=\"913b87598fdab2757ffc8b0ef4cee8a2\", element=\"87559e58-ed6f-46c2-8a71-91656853148d\")>,\n",
       " <selenium.webdriver.remote.webelement.WebElement (session=\"913b87598fdab2757ffc8b0ef4cee8a2\", element=\"bce95f98-28bc-43d2-a6e9-b78ad8d8e5d4\")>,\n",
       " <selenium.webdriver.remote.webelement.WebElement (session=\"913b87598fdab2757ffc8b0ef4cee8a2\", element=\"4f594e77-a0bd-495f-b266-fe6e11decdc1\")>,\n",
       " <selenium.webdriver.remote.webelement.WebElement (session=\"913b87598fdab2757ffc8b0ef4cee8a2\", element=\"556c3baa-c49a-4cac-a0e7-3c132b15df4c\")>,\n",
       " <selenium.webdriver.remote.webelement.WebElement (session=\"913b87598fdab2757ffc8b0ef4cee8a2\", element=\"c318d578-9452-4353-84f7-f7ca488dee2c\")>,\n",
       " <selenium.webdriver.remote.webelement.WebElement (session=\"913b87598fdab2757ffc8b0ef4cee8a2\", element=\"b126a915-b03f-4daf-8231-115fc3ffe8a4\")>,\n",
       " <selenium.webdriver.remote.webelement.WebElement (session=\"913b87598fdab2757ffc8b0ef4cee8a2\", element=\"5d741556-e96d-4429-b675-83789999a060\")>,\n",
       " <selenium.webdriver.remote.webelement.WebElement (session=\"913b87598fdab2757ffc8b0ef4cee8a2\", element=\"1afda203-4d45-4911-bb8d-365b90569daf\")>,\n",
       " <selenium.webdriver.remote.webelement.WebElement (session=\"913b87598fdab2757ffc8b0ef4cee8a2\", element=\"6e338046-d126-4d5a-a376-ed73d4317e29\")>,\n",
       " <selenium.webdriver.remote.webelement.WebElement (session=\"913b87598fdab2757ffc8b0ef4cee8a2\", element=\"31b5dcfd-3816-4bc8-9019-e3616859401c\")>,\n",
       " <selenium.webdriver.remote.webelement.WebElement (session=\"913b87598fdab2757ffc8b0ef4cee8a2\", element=\"8304f164-2624-4f9b-b55e-218be25a5676\")>,\n",
       " <selenium.webdriver.remote.webelement.WebElement (session=\"913b87598fdab2757ffc8b0ef4cee8a2\", element=\"44db9e3b-f902-47ee-886f-a494c73e403b\")>,\n",
       " <selenium.webdriver.remote.webelement.WebElement (session=\"913b87598fdab2757ffc8b0ef4cee8a2\", element=\"ead2d6a6-644b-40c7-92af-3f173f01f801\")>,\n",
       " <selenium.webdriver.remote.webelement.WebElement (session=\"913b87598fdab2757ffc8b0ef4cee8a2\", element=\"427904d0-560e-4196-a3b6-da74aba6b771\")>,\n",
       " <selenium.webdriver.remote.webelement.WebElement (session=\"913b87598fdab2757ffc8b0ef4cee8a2\", element=\"ec07909e-9fc6-4f77-adcc-60ddd948831f\")>,\n",
       " <selenium.webdriver.remote.webelement.WebElement (session=\"913b87598fdab2757ffc8b0ef4cee8a2\", element=\"f176f98c-7e7d-45f2-9c29-09a9bf6e6f8a\")>,\n",
       " <selenium.webdriver.remote.webelement.WebElement (session=\"913b87598fdab2757ffc8b0ef4cee8a2\", element=\"ef23270f-0d20-4613-b18c-7dd15ae4b612\")>,\n",
       " <selenium.webdriver.remote.webelement.WebElement (session=\"913b87598fdab2757ffc8b0ef4cee8a2\", element=\"e8dd4227-192e-455c-9375-692b0ac8242a\")>,\n",
       " <selenium.webdriver.remote.webelement.WebElement (session=\"913b87598fdab2757ffc8b0ef4cee8a2\", element=\"599fd520-cb45-4e2f-917c-09f55f87628e\")>,\n",
       " <selenium.webdriver.remote.webelement.WebElement (session=\"913b87598fdab2757ffc8b0ef4cee8a2\", element=\"e738434f-1e14-4978-a4ae-e7b6c54c968a\")>,\n",
       " <selenium.webdriver.remote.webelement.WebElement (session=\"913b87598fdab2757ffc8b0ef4cee8a2\", element=\"1766a614-ffbc-42f5-a316-20099a989fd8\")>,\n",
       " <selenium.webdriver.remote.webelement.WebElement (session=\"913b87598fdab2757ffc8b0ef4cee8a2\", element=\"c82e98ef-3df3-4d2e-b1a3-3929afbbb782\")>,\n",
       " <selenium.webdriver.remote.webelement.WebElement (session=\"913b87598fdab2757ffc8b0ef4cee8a2\", element=\"b5442fa2-93cc-411c-b580-cff534271558\")>,\n",
       " <selenium.webdriver.remote.webelement.WebElement (session=\"913b87598fdab2757ffc8b0ef4cee8a2\", element=\"ecc90343-e391-4e43-aa5d-e1676668de7b\")>,\n",
       " <selenium.webdriver.remote.webelement.WebElement (session=\"913b87598fdab2757ffc8b0ef4cee8a2\", element=\"bdca18e3-69c1-4faa-a565-e6b596967b10\")>,\n",
       " <selenium.webdriver.remote.webelement.WebElement (session=\"913b87598fdab2757ffc8b0ef4cee8a2\", element=\"1074f4fc-8afb-4fbb-90bd-b12e0cf2e257\")>,\n",
       " <selenium.webdriver.remote.webelement.WebElement (session=\"913b87598fdab2757ffc8b0ef4cee8a2\", element=\"c61fa884-8692-43a0-b315-fc0655d276da\")>,\n",
       " <selenium.webdriver.remote.webelement.WebElement (session=\"913b87598fdab2757ffc8b0ef4cee8a2\", element=\"54de65f5-67c9-45f0-940a-014a4fd026b5\")>,\n",
       " <selenium.webdriver.remote.webelement.WebElement (session=\"913b87598fdab2757ffc8b0ef4cee8a2\", element=\"2d293578-4f58-43ad-a299-14c8550c9efe\")>,\n",
       " <selenium.webdriver.remote.webelement.WebElement (session=\"913b87598fdab2757ffc8b0ef4cee8a2\", element=\"050fedd1-b1db-4748-8be4-98a642eb58cb\")>,\n",
       " <selenium.webdriver.remote.webelement.WebElement (session=\"913b87598fdab2757ffc8b0ef4cee8a2\", element=\"77e91b62-2ace-45dc-babf-1042e86ec731\")>,\n",
       " <selenium.webdriver.remote.webelement.WebElement (session=\"913b87598fdab2757ffc8b0ef4cee8a2\", element=\"9b9f8c23-ddbd-497c-b117-f61ea50e5442\")>,\n",
       " <selenium.webdriver.remote.webelement.WebElement (session=\"913b87598fdab2757ffc8b0ef4cee8a2\", element=\"58c05dbe-a8af-4762-abe0-58489bc74141\")>,\n",
       " <selenium.webdriver.remote.webelement.WebElement (session=\"913b87598fdab2757ffc8b0ef4cee8a2\", element=\"9a7dae8a-0a96-4f9e-b7fb-eecd4ba0ed45\")>,\n",
       " <selenium.webdriver.remote.webelement.WebElement (session=\"913b87598fdab2757ffc8b0ef4cee8a2\", element=\"fbe3fafb-4d37-43ae-a4b1-4a5aad35da6d\")>,\n",
       " <selenium.webdriver.remote.webelement.WebElement (session=\"913b87598fdab2757ffc8b0ef4cee8a2\", element=\"2e16198c-92cd-4910-9962-4bd00de5af58\")>]"
      ]
     },
     "execution_count": 134,
     "metadata": {},
     "output_type": "execute_result"
    }
   ],
   "source": [
    "#Extracting all the tags having Price Information on 3rd Page\n",
    "price3=driver.find_elements_by_xpath(\"//div[@class='_30jeq3']\")\n",
    "price3"
   ]
  },
  {
   "cell_type": "code",
   "execution_count": 135,
   "metadata": {},
   "outputs": [
    {
     "data": {
      "text/plain": [
       "['₹570',\n",
       " '₹733',\n",
       " '₹349',\n",
       " '₹404',\n",
       " '₹399',\n",
       " '₹250',\n",
       " '₹213',\n",
       " '₹499',\n",
       " '₹758',\n",
       " '₹621',\n",
       " '₹251',\n",
       " '₹399',\n",
       " '₹1,123',\n",
       " '₹759',\n",
       " '₹281',\n",
       " '₹249',\n",
       " '₹638',\n",
       " '₹499',\n",
       " '₹339',\n",
       " '₹209',\n",
       " '₹259',\n",
       " '₹836',\n",
       " '₹209',\n",
       " '₹199',\n",
       " '₹474',\n",
       " '₹449',\n",
       " '₹449',\n",
       " '₹1,097',\n",
       " '₹219',\n",
       " '₹399',\n",
       " '₹499',\n",
       " '₹299',\n",
       " '₹449',\n",
       " '₹1,115',\n",
       " '₹265',\n",
       " '₹199',\n",
       " '₹289',\n",
       " '₹259',\n",
       " '₹379',\n",
       " '₹399',\n",
       " '₹260',\n",
       " '₹217',\n",
       " '₹764',\n",
       " '₹758',\n",
       " '₹576',\n",
       " '₹599',\n",
       " '₹319',\n",
       " '₹219',\n",
       " '₹239',\n",
       " '₹759',\n",
       " '₹449',\n",
       " '₹337',\n",
       " '₹499',\n",
       " '₹210',\n",
       " '₹1,148',\n",
       " '₹1,085',\n",
       " '₹399',\n",
       " '₹559',\n",
       " '₹417',\n",
       " '₹319',\n",
       " '₹319',\n",
       " '₹249',\n",
       " '₹777',\n",
       " '₹759',\n",
       " '₹292',\n",
       " '₹210',\n",
       " '₹189',\n",
       " '₹759',\n",
       " '₹399',\n",
       " '₹449',\n",
       " '₹1,234',\n",
       " '₹449',\n",
       " '₹328',\n",
       " '₹399',\n",
       " '₹349',\n",
       " '₹329',\n",
       " '₹207',\n",
       " '₹499',\n",
       " '₹578',\n",
       " '₹185',\n",
       " '₹522',\n",
       " '₹629',\n",
       " '₹419',\n",
       " '₹525',\n",
       " '₹279',\n",
       " '₹269',\n",
       " '₹399',\n",
       " '₹664',\n",
       " '₹890',\n",
       " '₹262',\n",
       " '₹199',\n",
       " '₹337',\n",
       " '₹777',\n",
       " '₹499',\n",
       " '₹1,780',\n",
       " '₹726',\n",
       " '₹394',\n",
       " '₹1,181',\n",
       " '₹205',\n",
       " '₹3,843',\n",
       " '₹744',\n",
       " '₹199',\n",
       " '₹199',\n",
       " '₹899',\n",
       " '₹3,843',\n",
       " '₹679',\n",
       " '₹299',\n",
       " '₹395',\n",
       " '₹664',\n",
       " '₹499',\n",
       " '₹699',\n",
       " '₹207',\n",
       " '₹449',\n",
       " '₹399',\n",
       " '₹401',\n",
       " '₹219',\n",
       " '₹399']"
      ]
     },
     "execution_count": 135,
     "metadata": {},
     "output_type": "execute_result"
    }
   ],
   "source": [
    "#extracting text inside price tags of 3rd page\n",
    "for i in price3:\n",
    "    Price_list.append(i.text)\n",
    "Price_list"
   ]
  },
  {
   "cell_type": "code",
   "execution_count": 136,
   "metadata": {},
   "outputs": [
    {
     "data": {
      "text/plain": [
       "[<selenium.webdriver.remote.webelement.WebElement (session=\"913b87598fdab2757ffc8b0ef4cee8a2\", element=\"efad0aac-ed9a-4c8d-bcd6-c33661463326\")>,\n",
       " <selenium.webdriver.remote.webelement.WebElement (session=\"913b87598fdab2757ffc8b0ef4cee8a2\", element=\"3a1e9bfa-99cc-4e58-9365-6ec70620688e\")>,\n",
       " <selenium.webdriver.remote.webelement.WebElement (session=\"913b87598fdab2757ffc8b0ef4cee8a2\", element=\"78e16b88-09ab-400f-a3cc-ba018d29367f\")>,\n",
       " <selenium.webdriver.remote.webelement.WebElement (session=\"913b87598fdab2757ffc8b0ef4cee8a2\", element=\"e58cceeb-5fe6-491c-854c-5ba35aca7192\")>,\n",
       " <selenium.webdriver.remote.webelement.WebElement (session=\"913b87598fdab2757ffc8b0ef4cee8a2\", element=\"46d5af78-90d7-40ca-9d03-a281c0e9155b\")>,\n",
       " <selenium.webdriver.remote.webelement.WebElement (session=\"913b87598fdab2757ffc8b0ef4cee8a2\", element=\"c1de990c-9cf8-4bd9-937d-8a7723583d1c\")>,\n",
       " <selenium.webdriver.remote.webelement.WebElement (session=\"913b87598fdab2757ffc8b0ef4cee8a2\", element=\"89826873-4367-4f81-a333-afaedc480fe5\")>,\n",
       " <selenium.webdriver.remote.webelement.WebElement (session=\"913b87598fdab2757ffc8b0ef4cee8a2\", element=\"a2d5b99f-0514-4673-a242-240ad7ad1934\")>,\n",
       " <selenium.webdriver.remote.webelement.WebElement (session=\"913b87598fdab2757ffc8b0ef4cee8a2\", element=\"5a553752-22e2-487d-9651-f1e1a35fadf6\")>,\n",
       " <selenium.webdriver.remote.webelement.WebElement (session=\"913b87598fdab2757ffc8b0ef4cee8a2\", element=\"5fc51088-1efc-4f2d-b944-26b0903cf647\")>,\n",
       " <selenium.webdriver.remote.webelement.WebElement (session=\"913b87598fdab2757ffc8b0ef4cee8a2\", element=\"0c7f264f-d4de-4a8b-9bf4-4fb431acd9e0\")>,\n",
       " <selenium.webdriver.remote.webelement.WebElement (session=\"913b87598fdab2757ffc8b0ef4cee8a2\", element=\"f3b20860-82cc-4e7d-9cf1-55fa286ebc23\")>,\n",
       " <selenium.webdriver.remote.webelement.WebElement (session=\"913b87598fdab2757ffc8b0ef4cee8a2\", element=\"69ea4801-e2a7-4bf7-a84c-99034ea34690\")>,\n",
       " <selenium.webdriver.remote.webelement.WebElement (session=\"913b87598fdab2757ffc8b0ef4cee8a2\", element=\"91520455-f5bd-49f5-9e4a-aae3e7ef4e5a\")>,\n",
       " <selenium.webdriver.remote.webelement.WebElement (session=\"913b87598fdab2757ffc8b0ef4cee8a2\", element=\"7467709b-40a1-4b04-ae7c-52dd2b5430c6\")>,\n",
       " <selenium.webdriver.remote.webelement.WebElement (session=\"913b87598fdab2757ffc8b0ef4cee8a2\", element=\"1d8a1341-77d3-4eaf-b6c3-40f2ce822f59\")>,\n",
       " <selenium.webdriver.remote.webelement.WebElement (session=\"913b87598fdab2757ffc8b0ef4cee8a2\", element=\"8d8d991f-79ef-44b1-bb9a-90bc3094300d\")>,\n",
       " <selenium.webdriver.remote.webelement.WebElement (session=\"913b87598fdab2757ffc8b0ef4cee8a2\", element=\"d20e65c6-7cad-4305-8e16-c38c8b4bc92f\")>,\n",
       " <selenium.webdriver.remote.webelement.WebElement (session=\"913b87598fdab2757ffc8b0ef4cee8a2\", element=\"b713e8dd-9c0a-456c-abc3-1f895fc519a9\")>,\n",
       " <selenium.webdriver.remote.webelement.WebElement (session=\"913b87598fdab2757ffc8b0ef4cee8a2\", element=\"9987b6a4-d50e-40ac-b928-2bcc8e5cdeb1\")>,\n",
       " <selenium.webdriver.remote.webelement.WebElement (session=\"913b87598fdab2757ffc8b0ef4cee8a2\", element=\"2a340974-fef7-4482-9174-6c97bcc11b49\")>,\n",
       " <selenium.webdriver.remote.webelement.WebElement (session=\"913b87598fdab2757ffc8b0ef4cee8a2\", element=\"d8afe0c2-fa41-4cfd-bcec-08843226a58f\")>,\n",
       " <selenium.webdriver.remote.webelement.WebElement (session=\"913b87598fdab2757ffc8b0ef4cee8a2\", element=\"8d49cdd6-8d3b-4d98-b23e-ef9769a5d677\")>,\n",
       " <selenium.webdriver.remote.webelement.WebElement (session=\"913b87598fdab2757ffc8b0ef4cee8a2\", element=\"d5e7bf55-ee4b-4f16-9b33-0bc07773607c\")>,\n",
       " <selenium.webdriver.remote.webelement.WebElement (session=\"913b87598fdab2757ffc8b0ef4cee8a2\", element=\"0dda6d38-7417-4af7-95a9-3f55777e9165\")>,\n",
       " <selenium.webdriver.remote.webelement.WebElement (session=\"913b87598fdab2757ffc8b0ef4cee8a2\", element=\"2486e992-beb3-4966-96e9-a3feafe9fe01\")>,\n",
       " <selenium.webdriver.remote.webelement.WebElement (session=\"913b87598fdab2757ffc8b0ef4cee8a2\", element=\"f26de8b8-bf11-468a-9f3c-4c006017eb3d\")>,\n",
       " <selenium.webdriver.remote.webelement.WebElement (session=\"913b87598fdab2757ffc8b0ef4cee8a2\", element=\"cbcf1dab-2db3-434f-9eda-33af5165a803\")>,\n",
       " <selenium.webdriver.remote.webelement.WebElement (session=\"913b87598fdab2757ffc8b0ef4cee8a2\", element=\"da92164a-2ccf-48ce-ae8e-4e7987b3618f\")>,\n",
       " <selenium.webdriver.remote.webelement.WebElement (session=\"913b87598fdab2757ffc8b0ef4cee8a2\", element=\"31fea1c7-c448-4b57-807a-23ea1ad249a1\")>,\n",
       " <selenium.webdriver.remote.webelement.WebElement (session=\"913b87598fdab2757ffc8b0ef4cee8a2\", element=\"8f035f4d-219c-4021-a61a-a62c6d640d2b\")>,\n",
       " <selenium.webdriver.remote.webelement.WebElement (session=\"913b87598fdab2757ffc8b0ef4cee8a2\", element=\"8f61f49c-b064-423c-b619-d5773cd20d5d\")>,\n",
       " <selenium.webdriver.remote.webelement.WebElement (session=\"913b87598fdab2757ffc8b0ef4cee8a2\", element=\"3c753a6e-b619-4257-ac7b-e6bd65b5c91c\")>,\n",
       " <selenium.webdriver.remote.webelement.WebElement (session=\"913b87598fdab2757ffc8b0ef4cee8a2\", element=\"d9583033-b54f-407a-b993-585095fa967c\")>,\n",
       " <selenium.webdriver.remote.webelement.WebElement (session=\"913b87598fdab2757ffc8b0ef4cee8a2\", element=\"6286becc-66e3-4ef5-8fea-775fad5daf11\")>,\n",
       " <selenium.webdriver.remote.webelement.WebElement (session=\"913b87598fdab2757ffc8b0ef4cee8a2\", element=\"4f65bd40-862d-4316-bcb2-3fe5370f94d4\")>,\n",
       " <selenium.webdriver.remote.webelement.WebElement (session=\"913b87598fdab2757ffc8b0ef4cee8a2\", element=\"2fb5c12a-7e48-42a6-aa0e-c1582cc5dde5\")>,\n",
       " <selenium.webdriver.remote.webelement.WebElement (session=\"913b87598fdab2757ffc8b0ef4cee8a2\", element=\"677f8839-cba9-49dd-908d-741e93100a09\")>,\n",
       " <selenium.webdriver.remote.webelement.WebElement (session=\"913b87598fdab2757ffc8b0ef4cee8a2\", element=\"f01c6ea3-c1c5-4088-88ea-8292c5b56d3a\")>,\n",
       " <selenium.webdriver.remote.webelement.WebElement (session=\"913b87598fdab2757ffc8b0ef4cee8a2\", element=\"ef764869-8da7-4564-8566-23bce8562886\")>]"
      ]
     },
     "execution_count": 136,
     "metadata": {},
     "output_type": "execute_result"
    }
   ],
   "source": [
    "#Extracting all the tags having Discount Information on 3rd Page\n",
    "disc3=driver.find_elements_by_xpath(\"//div[@class='_3Ay6Sb']\")\n",
    "disc3"
   ]
  },
  {
   "cell_type": "code",
   "execution_count": 137,
   "metadata": {},
   "outputs": [
    {
     "data": {
      "text/plain": [
       "['28% off',\n",
       " '18% off',\n",
       " '78% off',\n",
       " '79% off',\n",
       " '80% off',\n",
       " '84% off',\n",
       " '82% off',\n",
       " '77% off',\n",
       " '15% off',\n",
       " '22% off',\n",
       " '79% off',\n",
       " '80% off',\n",
       " '13% off',\n",
       " '15% off',\n",
       " '85% off',\n",
       " '83% off',\n",
       " '20% off',\n",
       " '80% off',\n",
       " '71% off',\n",
       " '70% off',\n",
       " '82% off',\n",
       " '7% off',\n",
       " '73% off',\n",
       " '80% off',\n",
       " '68% off',\n",
       " '77% off',\n",
       " '79% off',\n",
       " '15% off',\n",
       " '78% off',\n",
       " '80% off',\n",
       " '77% off',\n",
       " '75% off',\n",
       " '77% off',\n",
       " '14% off',\n",
       " '79% off',\n",
       " '80% off',\n",
       " '80% off',\n",
       " '87% off',\n",
       " '74% off',\n",
       " '81% off',\n",
       " '86% off',\n",
       " '78% off',\n",
       " '69% off',\n",
       " '15% off',\n",
       " '27% off',\n",
       " '20% off',\n",
       " '84% off',\n",
       " '86% off',\n",
       " '84% off',\n",
       " '15% off',\n",
       " '77% off',\n",
       " '83% off',\n",
       " '66% off',\n",
       " '85% off',\n",
       " '11% off',\n",
       " '16% off',\n",
       " '80% off',\n",
       " '30% off',\n",
       " '66% off',\n",
       " '83% off',\n",
       " '84% off',\n",
       " '58% off',\n",
       " '22% off',\n",
       " '15% off',\n",
       " '85% off',\n",
       " '78% off',\n",
       " '62% off',\n",
       " '15% off',\n",
       " '73% off',\n",
       " '83% off',\n",
       " '50% off',\n",
       " '77% off',\n",
       " '83% off',\n",
       " '80% off',\n",
       " '82% off',\n",
       " '83% off',\n",
       " '88% off',\n",
       " '66% off',\n",
       " '27% off',\n",
       " '78% off',\n",
       " '65% off',\n",
       " '68% off',\n",
       " '71% off',\n",
       " '65% off',\n",
       " '81% off',\n",
       " '77% off',\n",
       " '80% off',\n",
       " '66% off',\n",
       " '75% off',\n",
       " '73% off',\n",
       " '84% off',\n",
       " '83% off',\n",
       " '22% off',\n",
       " '75% off',\n",
       " '10% off',\n",
       " '19% off',\n",
       " '78% off',\n",
       " '58% off',\n",
       " '79% off',\n",
       " '30% off',\n",
       " '17% off',\n",
       " '80% off',\n",
       " '80% off',\n",
       " '55% off',\n",
       " '30% off',\n",
       " '24% off',\n",
       " '75% off',\n",
       " '62% off',\n",
       " '66% off',\n",
       " '75% off',\n",
       " '53% off',\n",
       " '84% off',\n",
       " '77% off',\n",
       " '73% off',\n",
       " '75% off',\n",
       " '83% off',\n",
       " '73% off']"
      ]
     },
     "execution_count": 137,
     "metadata": {},
     "output_type": "execute_result"
    }
   ],
   "source": [
    "#extracting text inside discount tags of 3rd page\n",
    "for i in disc3:\n",
    "    Discount.append(i.text)\n",
    "Discount"
   ]
  },
  {
   "cell_type": "code",
   "execution_count": 138,
   "metadata": {},
   "outputs": [
    {
     "data": {
      "text/html": [
       "<div>\n",
       "<style scoped>\n",
       "    .dataframe tbody tr th:only-of-type {\n",
       "        vertical-align: middle;\n",
       "    }\n",
       "\n",
       "    .dataframe tbody tr th {\n",
       "        vertical-align: top;\n",
       "    }\n",
       "\n",
       "    .dataframe thead th {\n",
       "        text-align: right;\n",
       "    }\n",
       "</style>\n",
       "<table border=\"1\" class=\"dataframe\">\n",
       "  <thead>\n",
       "    <tr style=\"text-align: right;\">\n",
       "      <th></th>\n",
       "      <th>Brand</th>\n",
       "      <th>Product Description</th>\n",
       "      <th>Price</th>\n",
       "      <th>Discount %</th>\n",
       "    </tr>\n",
       "  </thead>\n",
       "  <tbody>\n",
       "    <tr>\n",
       "      <th>0</th>\n",
       "      <td>Fastrack</td>\n",
       "      <td>UV Protection Rectangular Sunglasses (Free Size)</td>\n",
       "      <td>₹570</td>\n",
       "      <td>28% off</td>\n",
       "    </tr>\n",
       "    <tr>\n",
       "      <th>1</th>\n",
       "      <td>Fastrack</td>\n",
       "      <td>UV Protection Wayfarer Sunglasses (Free Size)</td>\n",
       "      <td>₹733</td>\n",
       "      <td>18% off</td>\n",
       "    </tr>\n",
       "    <tr>\n",
       "      <th>2</th>\n",
       "      <td>PIRASO</td>\n",
       "      <td>UV Protection Aviator Sunglasses (Free Size)</td>\n",
       "      <td>₹349</td>\n",
       "      <td>78% off</td>\n",
       "    </tr>\n",
       "    <tr>\n",
       "      <th>3</th>\n",
       "      <td>ROZZETTA CRAFT</td>\n",
       "      <td>UV Protection, Gradient Rectangular Sunglasses...</td>\n",
       "      <td>₹404</td>\n",
       "      <td>79% off</td>\n",
       "    </tr>\n",
       "    <tr>\n",
       "      <th>4</th>\n",
       "      <td>PHENOMENAL</td>\n",
       "      <td>UV Protection Retro Square Sunglasses (Free Size)</td>\n",
       "      <td>₹399</td>\n",
       "      <td>80% off</td>\n",
       "    </tr>\n",
       "    <tr>\n",
       "      <th>...</th>\n",
       "      <td>...</td>\n",
       "      <td>...</td>\n",
       "      <td>...</td>\n",
       "      <td>...</td>\n",
       "    </tr>\n",
       "    <tr>\n",
       "      <th>95</th>\n",
       "      <td>Fastrack</td>\n",
       "      <td>UV Protection Shield Sunglasses (Free Size)</td>\n",
       "      <td>₹726</td>\n",
       "      <td>19% off</td>\n",
       "    </tr>\n",
       "    <tr>\n",
       "      <th>96</th>\n",
       "      <td>BKGE</td>\n",
       "      <td>UV Protection, Polarized Rectangular, Retro Sq...</td>\n",
       "      <td>₹394</td>\n",
       "      <td>78% off</td>\n",
       "    </tr>\n",
       "    <tr>\n",
       "      <th>97</th>\n",
       "      <td>IDEE</td>\n",
       "      <td>Gradient Aviator Sunglasses (58)</td>\n",
       "      <td>₹1,181</td>\n",
       "      <td>58% off</td>\n",
       "    </tr>\n",
       "    <tr>\n",
       "      <th>98</th>\n",
       "      <td>Singco India</td>\n",
       "      <td>UV Protection Round Sunglasses (Free Size)</td>\n",
       "      <td>₹205</td>\n",
       "      <td>79% off</td>\n",
       "    </tr>\n",
       "    <tr>\n",
       "      <th>99</th>\n",
       "      <td>Ray-Ban</td>\n",
       "      <td>UV Protection Rectangular Sunglasses (Free Size)</td>\n",
       "      <td>₹3,843</td>\n",
       "      <td>30% off</td>\n",
       "    </tr>\n",
       "  </tbody>\n",
       "</table>\n",
       "<p>100 rows × 4 columns</p>\n",
       "</div>"
      ],
      "text/plain": [
       "             Brand                                Product Description   Price  \\\n",
       "0         Fastrack   UV Protection Rectangular Sunglasses (Free Size)    ₹570   \n",
       "1         Fastrack      UV Protection Wayfarer Sunglasses (Free Size)    ₹733   \n",
       "2           PIRASO       UV Protection Aviator Sunglasses (Free Size)    ₹349   \n",
       "3   ROZZETTA CRAFT  UV Protection, Gradient Rectangular Sunglasses...    ₹404   \n",
       "4       PHENOMENAL  UV Protection Retro Square Sunglasses (Free Size)    ₹399   \n",
       "..             ...                                                ...     ...   \n",
       "95        Fastrack        UV Protection Shield Sunglasses (Free Size)    ₹726   \n",
       "96            BKGE  UV Protection, Polarized Rectangular, Retro Sq...    ₹394   \n",
       "97            IDEE                   Gradient Aviator Sunglasses (58)  ₹1,181   \n",
       "98    Singco India         UV Protection Round Sunglasses (Free Size)    ₹205   \n",
       "99         Ray-Ban   UV Protection Rectangular Sunglasses (Free Size)  ₹3,843   \n",
       "\n",
       "   Discount %  \n",
       "0     28% off  \n",
       "1     18% off  \n",
       "2     78% off  \n",
       "3     79% off  \n",
       "4     80% off  \n",
       "..        ...  \n",
       "95    19% off  \n",
       "96    78% off  \n",
       "97    58% off  \n",
       "98    79% off  \n",
       "99    30% off  \n",
       "\n",
       "[100 rows x 4 columns]"
      ]
     },
     "execution_count": 138,
     "metadata": {},
     "output_type": "execute_result"
    }
   ],
   "source": [
    "#Saving our answer in a DataFrame using Pandas\n",
    "sunglasses_100=pd.DataFrame({})\n",
    "sunglasses_100['Brand']=Brand_list[0:100]\n",
    "sunglasses_100['Product Description']=Product_Description[0:100]\n",
    "sunglasses_100['Price']=Price_list[0:100]\n",
    "sunglasses_100['Discount %']=Discount[0:100]\n",
    "sunglasses_100"
   ]
  },
  {
   "cell_type": "code",
   "execution_count": 139,
   "metadata": {},
   "outputs": [],
   "source": [
    "#Closing driver\n",
    "driver.close()"
   ]
  },
  {
   "cell_type": "markdown",
   "metadata": {},
   "source": [
    "**************************************************************************************************************************************Completed************************************************************************************************************************************"
   ]
  },
  {
   "cell_type": "markdown",
   "metadata": {},
   "source": [
    "# Q7: Scrape 100 reviews data from flipkart.com for iphone11 phone.\n",
    "    \n",
    "Ans: Solution is as:-    "
   ]
  },
  {
   "cell_type": "code",
   "execution_count": 140,
   "metadata": {},
   "outputs": [],
   "source": [
    "#Let's first connect to the web driver\n",
    "driver=webdriver.Chrome(\"chromedriver.exe\")"
   ]
  },
  {
   "cell_type": "code",
   "execution_count": 141,
   "metadata": {},
   "outputs": [],
   "source": [
    "#opening \"https://www.flipkart.com/apple-iphone-11-black-64-gb-includes-earpods-power-adapter/p/itm0f37c2240b217?pid=MOBFKCTSVZAXUHGR&lid=LSTMOBFKCTSVZAXUHGREPBFGI&marketplace\"\n",
    "url=\"https://www.flipkart.com/apple-iphone-11-black-64-gb-includes-earpods-power-adapter/p/itm0f37c2240b217?pid=MOBFKCTSVZAXUHGR&lid=LSTMOBFKCTSVZAXUHGREPBFGI&marketplace\"\n",
    "driver.get(url)"
   ]
  },
  {
   "cell_type": "code",
   "execution_count": 145,
   "metadata": {},
   "outputs": [],
   "source": [
    "#Clicking all reviews using Xpath function\n",
    "review_btn=driver.find_element_by_xpath(\"//div[@class='_3UAT2v _16PBlm']\")\n",
    "review_btn.click()"
   ]
  },
  {
   "cell_type": "code",
   "execution_count": 146,
   "metadata": {},
   "outputs": [],
   "source": [
    "#Creating empty Lists so that we can store data in these lists while scraping\n",
    "Rating=[]\n",
    "Review_summary=[]\n",
    "Full_review=[]"
   ]
  },
  {
   "cell_type": "code",
   "execution_count": 147,
   "metadata": {},
   "outputs": [
    {
     "data": {
      "text/plain": [
       "[<selenium.webdriver.remote.webelement.WebElement (session=\"92035ddfaf431ddcb5cb0202603f9fa6\", element=\"6b77b00b-7204-4836-b896-eaf74f6aba15\")>,\n",
       " <selenium.webdriver.remote.webelement.WebElement (session=\"92035ddfaf431ddcb5cb0202603f9fa6\", element=\"c8cd4c32-a9c5-4537-91dc-580b7ec2a12e\")>,\n",
       " <selenium.webdriver.remote.webelement.WebElement (session=\"92035ddfaf431ddcb5cb0202603f9fa6\", element=\"c9bd324f-8011-4476-b749-85875c49a79e\")>,\n",
       " <selenium.webdriver.remote.webelement.WebElement (session=\"92035ddfaf431ddcb5cb0202603f9fa6\", element=\"b127772f-42a5-47b9-8f0a-5e7f5ee5657f\")>,\n",
       " <selenium.webdriver.remote.webelement.WebElement (session=\"92035ddfaf431ddcb5cb0202603f9fa6\", element=\"3baaeab7-d844-44f3-b7a1-40c3b6b4249f\")>,\n",
       " <selenium.webdriver.remote.webelement.WebElement (session=\"92035ddfaf431ddcb5cb0202603f9fa6\", element=\"9c1d1ddc-9845-46df-ab11-d836ceab920f\")>,\n",
       " <selenium.webdriver.remote.webelement.WebElement (session=\"92035ddfaf431ddcb5cb0202603f9fa6\", element=\"337b9811-5da7-4ada-baed-b76cb96ddcfa\")>,\n",
       " <selenium.webdriver.remote.webelement.WebElement (session=\"92035ddfaf431ddcb5cb0202603f9fa6\", element=\"89543bbb-a33e-4a53-abcd-070fa5655a3c\")>,\n",
       " <selenium.webdriver.remote.webelement.WebElement (session=\"92035ddfaf431ddcb5cb0202603f9fa6\", element=\"bf817f60-bcdb-42d8-a064-55cc991d5da0\")>,\n",
       " <selenium.webdriver.remote.webelement.WebElement (session=\"92035ddfaf431ddcb5cb0202603f9fa6\", element=\"9d172a3b-4277-485f-8431-2ab2dbac3c05\")>]"
      ]
     },
     "execution_count": 147,
     "metadata": {},
     "output_type": "execute_result"
    }
   ],
   "source": [
    "#Extracting all the tags having rating Information on 1st Page\n",
    "rate1=driver.find_elements_by_xpath(\"//div[@class='_3LWZlK _1BLPMq']\")\n",
    "rate1"
   ]
  },
  {
   "cell_type": "code",
   "execution_count": 148,
   "metadata": {},
   "outputs": [
    {
     "data": {
      "text/plain": [
       "['5', '5', '5', '5', '4', '5', '5', '5', '5', '5']"
      ]
     },
     "execution_count": 148,
     "metadata": {},
     "output_type": "execute_result"
    }
   ],
   "source": [
    "#extracting text inside rating tags of first page\n",
    "for i in rate1:\n",
    "    Rating.append(i.text)\n",
    "Rating"
   ]
  },
  {
   "cell_type": "code",
   "execution_count": 149,
   "metadata": {},
   "outputs": [
    {
     "data": {
      "text/plain": [
       "[<selenium.webdriver.remote.webelement.WebElement (session=\"92035ddfaf431ddcb5cb0202603f9fa6\", element=\"9684d8ac-fc97-4437-b627-97a23d7d977d\")>,\n",
       " <selenium.webdriver.remote.webelement.WebElement (session=\"92035ddfaf431ddcb5cb0202603f9fa6\", element=\"ed2204f9-90b4-4b34-8d6c-45a7c319e2a2\")>,\n",
       " <selenium.webdriver.remote.webelement.WebElement (session=\"92035ddfaf431ddcb5cb0202603f9fa6\", element=\"21516b35-aab5-49d5-8309-3b2d3ede8f2d\")>,\n",
       " <selenium.webdriver.remote.webelement.WebElement (session=\"92035ddfaf431ddcb5cb0202603f9fa6\", element=\"f463844b-4de1-4cf9-9336-4d2afe339095\")>,\n",
       " <selenium.webdriver.remote.webelement.WebElement (session=\"92035ddfaf431ddcb5cb0202603f9fa6\", element=\"ce038f80-829f-4e4e-aeb0-d62068c0f869\")>,\n",
       " <selenium.webdriver.remote.webelement.WebElement (session=\"92035ddfaf431ddcb5cb0202603f9fa6\", element=\"54c98068-e7f1-47c4-afbf-9cda13843870\")>,\n",
       " <selenium.webdriver.remote.webelement.WebElement (session=\"92035ddfaf431ddcb5cb0202603f9fa6\", element=\"527f6861-743b-41f5-a287-5c280dc77fe9\")>,\n",
       " <selenium.webdriver.remote.webelement.WebElement (session=\"92035ddfaf431ddcb5cb0202603f9fa6\", element=\"1b515b19-acea-4d93-a5e6-4a6b02d12774\")>,\n",
       " <selenium.webdriver.remote.webelement.WebElement (session=\"92035ddfaf431ddcb5cb0202603f9fa6\", element=\"29e99474-ee63-4f60-8303-4efe4e71cf37\")>,\n",
       " <selenium.webdriver.remote.webelement.WebElement (session=\"92035ddfaf431ddcb5cb0202603f9fa6\", element=\"c0e90c77-d96d-42af-913b-982ed20833fe\")>]"
      ]
     },
     "execution_count": 149,
     "metadata": {},
     "output_type": "execute_result"
    }
   ],
   "source": [
    "#Extracting all the tags having review Information on 1st Page\n",
    "review1=driver.find_elements_by_xpath(\"//p[@class='_2-N8zT']\")\n",
    "review1"
   ]
  },
  {
   "cell_type": "code",
   "execution_count": 150,
   "metadata": {},
   "outputs": [
    {
     "data": {
      "text/plain": [
       "['Brilliant',\n",
       " 'Perfect product!',\n",
       " 'Great product',\n",
       " 'Worth every penny',\n",
       " 'Good choice',\n",
       " 'Highly recommended',\n",
       " 'Perfect product!',\n",
       " 'Fabulous!',\n",
       " 'Perfect product!',\n",
       " 'Worth every penny']"
      ]
     },
     "execution_count": 150,
     "metadata": {},
     "output_type": "execute_result"
    }
   ],
   "source": [
    "#extracting text inside review tags of first page\n",
    "for i in review1:\n",
    "    Review_summary.append(i.text)\n",
    "Review_summary"
   ]
  },
  {
   "cell_type": "code",
   "execution_count": 151,
   "metadata": {},
   "outputs": [
    {
     "data": {
      "text/plain": [
       "[<selenium.webdriver.remote.webelement.WebElement (session=\"92035ddfaf431ddcb5cb0202603f9fa6\", element=\"ecbd41ea-19d2-4e7f-9cf0-3bef39a292a4\")>,\n",
       " <selenium.webdriver.remote.webelement.WebElement (session=\"92035ddfaf431ddcb5cb0202603f9fa6\", element=\"0e23d985-9319-44b8-a99d-8b18cb7b51f9\")>,\n",
       " <selenium.webdriver.remote.webelement.WebElement (session=\"92035ddfaf431ddcb5cb0202603f9fa6\", element=\"e333c30d-08ad-4df1-afca-17b045e28f0f\")>,\n",
       " <selenium.webdriver.remote.webelement.WebElement (session=\"92035ddfaf431ddcb5cb0202603f9fa6\", element=\"d68ecd95-f4ef-4f2b-8bd0-7ad7c639d984\")>,\n",
       " <selenium.webdriver.remote.webelement.WebElement (session=\"92035ddfaf431ddcb5cb0202603f9fa6\", element=\"3b8230a6-344c-4e6c-a6f9-721a1a4cc6f1\")>,\n",
       " <selenium.webdriver.remote.webelement.WebElement (session=\"92035ddfaf431ddcb5cb0202603f9fa6\", element=\"a23ea6cb-3098-4873-8897-435c508d465a\")>,\n",
       " <selenium.webdriver.remote.webelement.WebElement (session=\"92035ddfaf431ddcb5cb0202603f9fa6\", element=\"4ad89f0a-1f1d-461e-88e2-9c8f6d237373\")>,\n",
       " <selenium.webdriver.remote.webelement.WebElement (session=\"92035ddfaf431ddcb5cb0202603f9fa6\", element=\"14edf851-2b8d-4815-bca3-2e95f4fadae3\")>,\n",
       " <selenium.webdriver.remote.webelement.WebElement (session=\"92035ddfaf431ddcb5cb0202603f9fa6\", element=\"b29304a7-692d-4f8e-a1b7-dcf04e3a6487\")>,\n",
       " <selenium.webdriver.remote.webelement.WebElement (session=\"92035ddfaf431ddcb5cb0202603f9fa6\", element=\"9e2c27cb-8822-495c-b249-859eb69d1e2b\")>]"
      ]
     },
     "execution_count": 151,
     "metadata": {},
     "output_type": "execute_result"
    }
   ],
   "source": [
    "#Extracting all the tags having full review Information on 1st Page\n",
    "fullreview1=driver.find_elements_by_xpath(\"//div[@class='t-ZTKy']/div/div\")\n",
    "fullreview1"
   ]
  },
  {
   "cell_type": "code",
   "execution_count": 152,
   "metadata": {},
   "outputs": [
    {
     "data": {
      "text/plain": [
       "['The Best Phone for the Money\\n\\nThe iPhone 11 offers superb cameras, a more durable design and excellent battery life for an affordable price.\\n\\nCompelling ultra-wide camera\\nNew Night mode is excellent\\nLong battery life',\n",
       " 'Amazing phone with great cameras and better battery which gives you the best performance. I just love the camera .',\n",
       " 'Amazing Powerful and Durable Gadget.\\n\\nI’m am very happy with the camera picture quality, Amazing face id unlocked in dark room, Strong battery with perfect screen size as you can carry easily in pocket. This is my third iPhone.\\n\\nI shifted from android Samsung Note series to iPhone because of the strong build quality and peace of mind for next 3-4 years.\\n\\nDon’t think to much just go for it and I suggest you to go for minimum 128gb variant or more 256gb.\\n\\nI’ve attached my puppy pics and no fi...',\n",
       " 'Previously I was using one plus 3t it was a great phone\\nAnd then I decided to upgrade I am stuck between Samsung s10 plus or iPhone 11\\nI have seen the specs and everything were good except the display it’s somewhere between 720-1080 and it’s not even an amoled it’s an LCD display\\nBut I decided to go with iPhone because I have never used an IOS device I have Been an android user from the past 9 years I ordered IPhone 11 (128gb) product red\\nMy experience after using 3 weeks\\n1. The delivery ...',\n",
       " 'So far it’s been an AMAZING experience coming back to iOS after nearly a decade but it’s not as versatile as android though phone is sturdy dropped it accidentally a couple of times and nothing happened fortunately camera is awesome',\n",
       " 'iphone 11 is a very good phone to buy only if you can compromise for the display. The display on this is device is pretty good but you can get other options with better displays in this price segment.\\nIf you can survive with an HD+ LCD panel with thicker bezels and a notch up top then this is a very good phone for you.\\nCameras are awesome, battery backup excellent, great performance and a decent premium look. Good job Apple !',\n",
       " 'It’s a must buy who is looking for an upgrade from previous generation of iPhones. If you are using XR then still you can hold on for sometime and upgrade to 2020 model else this phone is a must buy . Camera quality is amazing and wide angle is something to count upon. Performance wise it’s amazing and feels premium while holding in hand. So a big YES for this device. Go for 128 GB variant as the 4K videos will occupy lots of space and the storage can get over very quickly. Try to buy it with...',\n",
       " 'This is my first iOS phone. I am very happy with this product. Very much satisfied with this. I love this phone.',\n",
       " 'Value for money❤️❤️\\nIts awesome mobile phone in the world ...\\nDisplay was very good and bright ..\\nTrust me freinds you r never regret after Buying..\\nJust go for it....\\nI love this phone and i switch to iphone x to 11',\n",
       " 'Best budget Iphone till date ❤️ go for it guys without second thought. Let me explain you guys about Camera, Display, battery, and performance.\\n\\nCamera: at this price range there is no comparison of camera, you’ll love the picture quality as well as video quality. I am a Vlogger I wanted an iPhone with 4k video by front camera and I got this phone and I am more than happy 😃\\n\\nBattery: I use this phone roughly as I am active social media person and I have a youtube channel. so the battery ba...']"
      ]
     },
     "execution_count": 152,
     "metadata": {},
     "output_type": "execute_result"
    }
   ],
   "source": [
    "#extracting text inside full review tags of first page\n",
    "for i in fullreview1:\n",
    "    Full_review.append(i.text)\n",
    "Full_review"
   ]
  },
  {
   "cell_type": "code",
   "execution_count": 153,
   "metadata": {},
   "outputs": [],
   "source": [
    "#After scraping data from the first page, Let's move to the Second Page\n",
    "second_page=driver.find_element_by_xpath(\"//nav[@class='yFHi8N']/a[11]\")\n",
    "second_page.click()"
   ]
  },
  {
   "cell_type": "code",
   "execution_count": 154,
   "metadata": {},
   "outputs": [
    {
     "data": {
      "text/plain": [
       "[<selenium.webdriver.remote.webelement.WebElement (session=\"92035ddfaf431ddcb5cb0202603f9fa6\", element=\"7916462e-cd46-426d-91e0-e4ee50be024e\")>,\n",
       " <selenium.webdriver.remote.webelement.WebElement (session=\"92035ddfaf431ddcb5cb0202603f9fa6\", element=\"52cd07a5-635c-4b59-9f2f-ba80cf6afecc\")>,\n",
       " <selenium.webdriver.remote.webelement.WebElement (session=\"92035ddfaf431ddcb5cb0202603f9fa6\", element=\"80d199b1-8a1a-4c46-a97b-837298912ecd\")>,\n",
       " <selenium.webdriver.remote.webelement.WebElement (session=\"92035ddfaf431ddcb5cb0202603f9fa6\", element=\"b4155a89-6ebf-423a-9322-eb6204778535\")>,\n",
       " <selenium.webdriver.remote.webelement.WebElement (session=\"92035ddfaf431ddcb5cb0202603f9fa6\", element=\"f82952e1-a561-469b-8cfc-c334a1229150\")>,\n",
       " <selenium.webdriver.remote.webelement.WebElement (session=\"92035ddfaf431ddcb5cb0202603f9fa6\", element=\"ef783435-643a-40ca-af83-28ccdb0e2223\")>,\n",
       " <selenium.webdriver.remote.webelement.WebElement (session=\"92035ddfaf431ddcb5cb0202603f9fa6\", element=\"ba1d6935-1133-46e2-80ec-123130e25821\")>,\n",
       " <selenium.webdriver.remote.webelement.WebElement (session=\"92035ddfaf431ddcb5cb0202603f9fa6\", element=\"b09bd07c-5517-431b-8bcf-c98c0335c43a\")>,\n",
       " <selenium.webdriver.remote.webelement.WebElement (session=\"92035ddfaf431ddcb5cb0202603f9fa6\", element=\"382fae32-0aeb-44f6-b389-6b716f822d58\")>,\n",
       " <selenium.webdriver.remote.webelement.WebElement (session=\"92035ddfaf431ddcb5cb0202603f9fa6\", element=\"2544e367-d06a-4fe7-86b3-9de5ebbe9adb\")>]"
      ]
     },
     "execution_count": 154,
     "metadata": {},
     "output_type": "execute_result"
    }
   ],
   "source": [
    "#Extracting all the tags having rating Information on 2nd Page\n",
    "rate2=driver.find_elements_by_xpath(\"//div[@class='_3LWZlK _1BLPMq']\")\n",
    "rate2"
   ]
  },
  {
   "cell_type": "code",
   "execution_count": 155,
   "metadata": {},
   "outputs": [
    {
     "data": {
      "text/plain": [
       "['5',\n",
       " '5',\n",
       " '5',\n",
       " '5',\n",
       " '4',\n",
       " '5',\n",
       " '5',\n",
       " '5',\n",
       " '5',\n",
       " '5',\n",
       " '5',\n",
       " '5',\n",
       " '5',\n",
       " '5',\n",
       " '5',\n",
       " '4',\n",
       " '5',\n",
       " '5',\n",
       " '5',\n",
       " '5']"
      ]
     },
     "execution_count": 155,
     "metadata": {},
     "output_type": "execute_result"
    }
   ],
   "source": [
    "#extracting text inside rating tags of 2nd page\n",
    "for i in rate2:\n",
    "    Rating.append(i.text)\n",
    "Rating"
   ]
  },
  {
   "cell_type": "code",
   "execution_count": 159,
   "metadata": {},
   "outputs": [
    {
     "data": {
      "text/plain": [
       "[<selenium.webdriver.remote.webelement.WebElement (session=\"92035ddfaf431ddcb5cb0202603f9fa6\", element=\"704e838d-8376-436f-aa51-6605754d5fd6\")>,\n",
       " <selenium.webdriver.remote.webelement.WebElement (session=\"92035ddfaf431ddcb5cb0202603f9fa6\", element=\"eb38a359-2b0e-4cfe-bad4-fbde58e6d24e\")>,\n",
       " <selenium.webdriver.remote.webelement.WebElement (session=\"92035ddfaf431ddcb5cb0202603f9fa6\", element=\"17f57bfa-a55f-49f6-83f5-4eabc6a6e759\")>,\n",
       " <selenium.webdriver.remote.webelement.WebElement (session=\"92035ddfaf431ddcb5cb0202603f9fa6\", element=\"1fe4a821-e29f-4381-9efe-89786b41b824\")>,\n",
       " <selenium.webdriver.remote.webelement.WebElement (session=\"92035ddfaf431ddcb5cb0202603f9fa6\", element=\"bf79cf2e-1661-484b-8c5f-1cd41b62ae50\")>,\n",
       " <selenium.webdriver.remote.webelement.WebElement (session=\"92035ddfaf431ddcb5cb0202603f9fa6\", element=\"3ec1fef6-d037-497f-9ff8-2f3f03234759\")>,\n",
       " <selenium.webdriver.remote.webelement.WebElement (session=\"92035ddfaf431ddcb5cb0202603f9fa6\", element=\"a88892a1-2f88-404f-a262-8343194ff0f4\")>,\n",
       " <selenium.webdriver.remote.webelement.WebElement (session=\"92035ddfaf431ddcb5cb0202603f9fa6\", element=\"49f57e33-1433-4a29-9733-198899f25b21\")>,\n",
       " <selenium.webdriver.remote.webelement.WebElement (session=\"92035ddfaf431ddcb5cb0202603f9fa6\", element=\"559bae2c-575a-45f4-9d21-b7c7a648e731\")>,\n",
       " <selenium.webdriver.remote.webelement.WebElement (session=\"92035ddfaf431ddcb5cb0202603f9fa6\", element=\"ec598c1d-7b97-408d-bb3d-8c3fe6ce1eab\")>]"
      ]
     },
     "execution_count": 159,
     "metadata": {},
     "output_type": "execute_result"
    }
   ],
   "source": [
    "#Extracting all the tags having review Information on 2nd Page\n",
    "review2=driver.find_elements_by_xpath(\"//p[@class='_2-N8zT']\")\n",
    "review2"
   ]
  },
  {
   "cell_type": "code",
   "execution_count": 161,
   "metadata": {},
   "outputs": [
    {
     "data": {
      "text/plain": [
       "['Brilliant',\n",
       " 'Perfect product!',\n",
       " 'Great product',\n",
       " 'Worth every penny',\n",
       " 'Good choice',\n",
       " 'Highly recommended',\n",
       " 'Perfect product!',\n",
       " 'Fabulous!',\n",
       " 'Perfect product!',\n",
       " 'Worth every penny',\n",
       " 'Perfect product!',\n",
       " 'Worth every penny',\n",
       " 'Simply awesome',\n",
       " 'Terrific',\n",
       " 'Highly recommended',\n",
       " 'Nice product',\n",
       " 'Highly recommended',\n",
       " 'Wonderful',\n",
       " 'Classy product',\n",
       " 'Brilliant']"
      ]
     },
     "execution_count": 161,
     "metadata": {},
     "output_type": "execute_result"
    }
   ],
   "source": [
    "#extracting text inside review tags of 2nd page\n",
    "for i in review2:\n",
    "    Review_summary.append(i.text)\n",
    "Review_summary"
   ]
  },
  {
   "cell_type": "code",
   "execution_count": 163,
   "metadata": {},
   "outputs": [
    {
     "data": {
      "text/plain": [
       "[<selenium.webdriver.remote.webelement.WebElement (session=\"92035ddfaf431ddcb5cb0202603f9fa6\", element=\"3c5946d7-ef54-4cd9-b5a9-60c0edae3004\")>,\n",
       " <selenium.webdriver.remote.webelement.WebElement (session=\"92035ddfaf431ddcb5cb0202603f9fa6\", element=\"bf91fb2a-0dd6-408c-a9b0-2c1c7870698e\")>,\n",
       " <selenium.webdriver.remote.webelement.WebElement (session=\"92035ddfaf431ddcb5cb0202603f9fa6\", element=\"d52b2034-c9d9-474f-b274-d5408cb6a3f5\")>,\n",
       " <selenium.webdriver.remote.webelement.WebElement (session=\"92035ddfaf431ddcb5cb0202603f9fa6\", element=\"508f15bd-be2b-4181-9ce7-76a955287bb4\")>,\n",
       " <selenium.webdriver.remote.webelement.WebElement (session=\"92035ddfaf431ddcb5cb0202603f9fa6\", element=\"42dbe008-73ad-40d9-af04-94903f102231\")>,\n",
       " <selenium.webdriver.remote.webelement.WebElement (session=\"92035ddfaf431ddcb5cb0202603f9fa6\", element=\"5d6fe491-bd7f-45d8-a75c-48b50f27f9cd\")>,\n",
       " <selenium.webdriver.remote.webelement.WebElement (session=\"92035ddfaf431ddcb5cb0202603f9fa6\", element=\"61fbc6e3-0fd3-413b-8bc2-0de6f1884388\")>,\n",
       " <selenium.webdriver.remote.webelement.WebElement (session=\"92035ddfaf431ddcb5cb0202603f9fa6\", element=\"96c986f9-4b6b-433e-a312-c6c3de4cd2f5\")>,\n",
       " <selenium.webdriver.remote.webelement.WebElement (session=\"92035ddfaf431ddcb5cb0202603f9fa6\", element=\"435a95bb-06e7-4d3a-9294-a7f2eee5d7b1\")>,\n",
       " <selenium.webdriver.remote.webelement.WebElement (session=\"92035ddfaf431ddcb5cb0202603f9fa6\", element=\"b59f2053-1314-411d-a163-58c7dd3c02e2\")>]"
      ]
     },
     "execution_count": 163,
     "metadata": {},
     "output_type": "execute_result"
    }
   ],
   "source": [
    "#Extracting all the tags having full review Information on 2nd Page\n",
    "fullreview2=driver.find_elements_by_xpath(\"//div[@class='t-ZTKy']\")\n",
    "fullreview2"
   ]
  },
  {
   "cell_type": "code",
   "execution_count": 164,
   "metadata": {},
   "outputs": [
    {
     "data": {
      "text/plain": [
       "['The Best Phone for the Money\\n\\nThe iPhone 11 offers superb cameras, a more durable design and excellent battery life for an affordable price.\\n\\nCompelling ultra-wide camera\\nNew Night mode is excellent\\nLong battery life',\n",
       " 'Amazing phone with great cameras and better battery which gives you the best performance. I just love the camera .',\n",
       " 'Amazing Powerful and Durable Gadget.\\n\\nI’m am very happy with the camera picture quality, Amazing face id unlocked in dark room, Strong battery with perfect screen size as you can carry easily in pocket. This is my third iPhone.\\n\\nI shifted from android Samsung Note series to iPhone because of the strong build quality and peace of mind for next 3-4 years.\\n\\nDon’t think to much just go for it and I suggest you to go for minimum 128gb variant or more 256gb.\\n\\nI’ve attached my puppy pics and no fi...',\n",
       " 'Previously I was using one plus 3t it was a great phone\\nAnd then I decided to upgrade I am stuck between Samsung s10 plus or iPhone 11\\nI have seen the specs and everything were good except the display it’s somewhere between 720-1080 and it’s not even an amoled it’s an LCD display\\nBut I decided to go with iPhone because I have never used an IOS device I have Been an android user from the past 9 years I ordered IPhone 11 (128gb) product red\\nMy experience after using 3 weeks\\n1. The delivery ...',\n",
       " 'So far it’s been an AMAZING experience coming back to iOS after nearly a decade but it’s not as versatile as android though phone is sturdy dropped it accidentally a couple of times and nothing happened fortunately camera is awesome',\n",
       " 'iphone 11 is a very good phone to buy only if you can compromise for the display. The display on this is device is pretty good but you can get other options with better displays in this price segment.\\nIf you can survive with an HD+ LCD panel with thicker bezels and a notch up top then this is a very good phone for you.\\nCameras are awesome, battery backup excellent, great performance and a decent premium look. Good job Apple !',\n",
       " 'It’s a must buy who is looking for an upgrade from previous generation of iPhones. If you are using XR then still you can hold on for sometime and upgrade to 2020 model else this phone is a must buy . Camera quality is amazing and wide angle is something to count upon. Performance wise it’s amazing and feels premium while holding in hand. So a big YES for this device. Go for 128 GB variant as the 4K videos will occupy lots of space and the storage can get over very quickly. Try to buy it with...',\n",
       " 'This is my first iOS phone. I am very happy with this product. Very much satisfied with this. I love this phone.',\n",
       " 'Value for money❤️❤️\\nIts awesome mobile phone in the world ...\\nDisplay was very good and bright ..\\nTrust me freinds you r never regret after Buying..\\nJust go for it....\\nI love this phone and i switch to iphone x to 11',\n",
       " 'Best budget Iphone till date ❤️ go for it guys without second thought. Let me explain you guys about Camera, Display, battery, and performance.\\n\\nCamera: at this price range there is no comparison of camera, you’ll love the picture quality as well as video quality. I am a Vlogger I wanted an iPhone with 4k video by front camera and I got this phone and I am more than happy 😃\\n\\nBattery: I use this phone roughly as I am active social media person and I have a youtube channel. so the battery ba...',\n",
       " \"Iphone is just awesome.. battery backup is very very nice.. continuously for 10 hours we can use it.camera is just awesome.. display is just fab.i love it alot..i had to wait 15 days for it as i pre ordered it..overalll it's worth the price..these all images are clicked by my iPhone..and i love it.\",\n",
       " 'It’s been almost a month since I have been using this phone. I upgraded from an iPhone 8. The main issue with my 8 was battery and this phone is just awesome when it comes to battery. It lasts a day and a half for me with my regular use , internet connected always with 4g\\nCan’t move forward without saying this. Battery of this phone is a life saver when I am traveling or at work when I don’t get the option to charge\\nCamera is superb. Front cam selfies and back cam photos are just awesome.\\n...\\nREAD MORE',\n",
       " 'Excellent camera, good performance, no lag. The lcd display is also good.. but difference come when we watch movie in prime and Netflix, the colours are not vibrant.. as we see in amoled display.. and the charger in box is of 5 watts.. takes more than 3 hours to charge from 0 to 100.. so guys be prepare to buy 18 watts charger . Finally I am an android user, it was my first Iapple phone, I promise u guys the iOS is so smooth.. overall the phone is damn good.... close eyes to buy it.. thanks t...\\nREAD MORE',\n",
       " 'Really worth of money. i just love it. It is the best phone ever.',\n",
       " 'What a camera .....just awesome ..you can feel this iPhone just awesome . Good for gaming also ...try pubg in hd it’s just wow',\n",
       " 'Awesome Phone. Slightly high price but worth. Better than iPhone XR.\\nCamera is superb and wide angle camera is very clear.\\n12MP selfie camera is also very good.\\nA13 Chip gives a very good and smooth performance.',\n",
       " \"It's my first time to use iOS phone and I am loving my upgradation 😍😍 I love the color, I love the assebility of the phone....I need to learn more about its functionality, but as far as I have seen, it's quite easy and it has a lot of functions to work on, specially if you are a content writer or a blogger you get a lot of content creation platforms and they are really amazing.\\n\\nThis phone not only for good quality photography but a lot of other task too.😍💯\",\n",
       " 'This is my first ever I phone. Before this I was using my google nexus 5. But moving from android to iOS is a great experience. It’s worth at this price. I will highly recommend it if you want to move to iOS. The best part of this phone is it’s camera and it’s battery life. This two things have won my heart. I loved it. Happy to have it in my hand. Still exploring its features. And can’t forget to mention Flipkart service. Very prompt service and fast delivery.',\n",
       " 'Superb Product !!!\\nA big and worthy upgrade from mi 3S to iphone 11 .\\nTotally loved it !',\n",
       " 'I have migrated from OP 7pro... and trust me, iPhone 11 is totally worth it.. following are the reasons:-\\n1)there is ABSOLUTELY NO ISSUE WITH THE DISPLAY... its crisp, sharp and I found it to be much much better than OP7 pro. Netflix, Prime video all run crisply... you won’t miss a thing. True Tone works flawlessly...the display brightness is perfect. OP have not calibrated their screens properly.\\n2) iPhone 11 series have really good cameras... others have spoken in depth about them.\\n3) bat...\\nREAD MORE']"
      ]
     },
     "execution_count": 164,
     "metadata": {},
     "output_type": "execute_result"
    }
   ],
   "source": [
    "#extracting text inside full review tags of 2nd page\n",
    "for i in fullreview2:\n",
    "    Full_review.append(i.text)\n",
    "Full_review"
   ]
  },
  {
   "cell_type": "code",
   "execution_count": 166,
   "metadata": {},
   "outputs": [],
   "source": [
    "#After scraping data from the 2nd page, Let's move to the 3rd Page\n",
    "third_page=driver.find_element_by_xpath(\"//nav[@class='yFHi8N']/a[12]\")\n",
    "third_page.click()"
   ]
  },
  {
   "cell_type": "code",
   "execution_count": 168,
   "metadata": {},
   "outputs": [
    {
     "data": {
      "text/plain": [
       "[<selenium.webdriver.remote.webelement.WebElement (session=\"92035ddfaf431ddcb5cb0202603f9fa6\", element=\"ecbe8845-cb16-4d9c-9524-03d860680a91\")>,\n",
       " <selenium.webdriver.remote.webelement.WebElement (session=\"92035ddfaf431ddcb5cb0202603f9fa6\", element=\"4cee9241-0f86-447c-9525-f75c215e6a45\")>,\n",
       " <selenium.webdriver.remote.webelement.WebElement (session=\"92035ddfaf431ddcb5cb0202603f9fa6\", element=\"7cba1d04-700e-407e-baba-171069ee9155\")>,\n",
       " <selenium.webdriver.remote.webelement.WebElement (session=\"92035ddfaf431ddcb5cb0202603f9fa6\", element=\"e1104d70-949b-4615-8e73-da531674638b\")>,\n",
       " <selenium.webdriver.remote.webelement.WebElement (session=\"92035ddfaf431ddcb5cb0202603f9fa6\", element=\"a69e4d75-64e6-4ee3-bc8a-77507b7a2537\")>,\n",
       " <selenium.webdriver.remote.webelement.WebElement (session=\"92035ddfaf431ddcb5cb0202603f9fa6\", element=\"fb924dff-2d5f-4b64-80e7-e45171fd0c82\")>,\n",
       " <selenium.webdriver.remote.webelement.WebElement (session=\"92035ddfaf431ddcb5cb0202603f9fa6\", element=\"dee6f1f6-3917-493f-8924-a74e5676775b\")>,\n",
       " <selenium.webdriver.remote.webelement.WebElement (session=\"92035ddfaf431ddcb5cb0202603f9fa6\", element=\"3d17c1ee-bff4-4d22-a4a4-b967dcf7bf22\")>,\n",
       " <selenium.webdriver.remote.webelement.WebElement (session=\"92035ddfaf431ddcb5cb0202603f9fa6\", element=\"30f81097-a22a-4931-b6fa-2e000e351f69\")>,\n",
       " <selenium.webdriver.remote.webelement.WebElement (session=\"92035ddfaf431ddcb5cb0202603f9fa6\", element=\"666f7872-bf1b-438f-922b-a654d55a40f1\")>]"
      ]
     },
     "execution_count": 168,
     "metadata": {},
     "output_type": "execute_result"
    }
   ],
   "source": [
    "#Extracting all the tags having rating Information on 3rd Page\n",
    "rate3=driver.find_elements_by_xpath(\"//div[@class='_3LWZlK _1BLPMq' or @class='_3LWZlK _1rdVr6 _1BLPMq']\")\n",
    "rate3"
   ]
  },
  {
   "cell_type": "code",
   "execution_count": 169,
   "metadata": {},
   "outputs": [
    {
     "data": {
      "text/plain": [
       "['5',\n",
       " '5',\n",
       " '5',\n",
       " '5',\n",
       " '4',\n",
       " '5',\n",
       " '5',\n",
       " '5',\n",
       " '5',\n",
       " '5',\n",
       " '5',\n",
       " '5',\n",
       " '5',\n",
       " '5',\n",
       " '5',\n",
       " '4',\n",
       " '5',\n",
       " '5',\n",
       " '5',\n",
       " '5',\n",
       " '5',\n",
       " '5',\n",
       " '5',\n",
       " '5',\n",
       " '5',\n",
       " '5',\n",
       " '5',\n",
       " '4',\n",
       " '1',\n",
       " '5']"
      ]
     },
     "execution_count": 169,
     "metadata": {},
     "output_type": "execute_result"
    }
   ],
   "source": [
    "#extracting text inside rating tags of 3rd page\n",
    "for i in rate3:\n",
    "    Rating.append(i.text)\n",
    "Rating"
   ]
  },
  {
   "cell_type": "code",
   "execution_count": 171,
   "metadata": {},
   "outputs": [
    {
     "data": {
      "text/plain": [
       "[<selenium.webdriver.remote.webelement.WebElement (session=\"92035ddfaf431ddcb5cb0202603f9fa6\", element=\"c37777d7-1541-4432-ac89-0edb7afb711d\")>,\n",
       " <selenium.webdriver.remote.webelement.WebElement (session=\"92035ddfaf431ddcb5cb0202603f9fa6\", element=\"8fcb118e-2e2a-4f34-9157-80949b1f771d\")>,\n",
       " <selenium.webdriver.remote.webelement.WebElement (session=\"92035ddfaf431ddcb5cb0202603f9fa6\", element=\"48f1f3ba-e615-410d-b24b-520cb947f191\")>,\n",
       " <selenium.webdriver.remote.webelement.WebElement (session=\"92035ddfaf431ddcb5cb0202603f9fa6\", element=\"d7d0c18c-92b0-41eb-b068-433389582a91\")>,\n",
       " <selenium.webdriver.remote.webelement.WebElement (session=\"92035ddfaf431ddcb5cb0202603f9fa6\", element=\"60bc55ad-29a8-43d9-93d8-85fe7380c822\")>,\n",
       " <selenium.webdriver.remote.webelement.WebElement (session=\"92035ddfaf431ddcb5cb0202603f9fa6\", element=\"47cab281-2731-447e-9dfd-89565df3bfc5\")>,\n",
       " <selenium.webdriver.remote.webelement.WebElement (session=\"92035ddfaf431ddcb5cb0202603f9fa6\", element=\"e6e22854-7be2-4847-a164-c11923f7a221\")>,\n",
       " <selenium.webdriver.remote.webelement.WebElement (session=\"92035ddfaf431ddcb5cb0202603f9fa6\", element=\"a667ca36-7678-4673-88df-8a7c98736498\")>,\n",
       " <selenium.webdriver.remote.webelement.WebElement (session=\"92035ddfaf431ddcb5cb0202603f9fa6\", element=\"1320dddf-a724-4ffa-ab5b-d5243abf6de5\")>,\n",
       " <selenium.webdriver.remote.webelement.WebElement (session=\"92035ddfaf431ddcb5cb0202603f9fa6\", element=\"beb3c834-300a-42d5-8472-ce8d9f1b13b4\")>]"
      ]
     },
     "execution_count": 171,
     "metadata": {},
     "output_type": "execute_result"
    }
   ],
   "source": [
    "#Extracting all the tags having review Information on 3rd Page\n",
    "review3=driver.find_elements_by_xpath(\"//p[@class='_2-N8zT']\")\n",
    "review3"
   ]
  },
  {
   "cell_type": "code",
   "execution_count": 172,
   "metadata": {},
   "outputs": [
    {
     "data": {
      "text/plain": [
       "['Brilliant',\n",
       " 'Perfect product!',\n",
       " 'Great product',\n",
       " 'Worth every penny',\n",
       " 'Good choice',\n",
       " 'Highly recommended',\n",
       " 'Perfect product!',\n",
       " 'Fabulous!',\n",
       " 'Perfect product!',\n",
       " 'Worth every penny',\n",
       " 'Perfect product!',\n",
       " 'Worth every penny',\n",
       " 'Simply awesome',\n",
       " 'Terrific',\n",
       " 'Highly recommended',\n",
       " 'Nice product',\n",
       " 'Highly recommended',\n",
       " 'Wonderful',\n",
       " 'Classy product',\n",
       " 'Brilliant',\n",
       " 'Must buy!',\n",
       " 'Terrific purchase',\n",
       " 'Wonderful',\n",
       " 'Mind-blowing purchase',\n",
       " 'Great product',\n",
       " 'Terrific purchase',\n",
       " 'Simply awesome',\n",
       " 'Good quality product',\n",
       " 'Very poor',\n",
       " 'Best in the market!']"
      ]
     },
     "execution_count": 172,
     "metadata": {},
     "output_type": "execute_result"
    }
   ],
   "source": [
    "#extracting text inside review tags of 3rd page\n",
    "for i in review3:\n",
    "    Review_summary.append(i.text)\n",
    "Review_summary"
   ]
  },
  {
   "cell_type": "code",
   "execution_count": 174,
   "metadata": {},
   "outputs": [
    {
     "data": {
      "text/plain": [
       "[<selenium.webdriver.remote.webelement.WebElement (session=\"92035ddfaf431ddcb5cb0202603f9fa6\", element=\"9af93ee3-45f7-47d4-adc9-ce543d3fcf9e\")>,\n",
       " <selenium.webdriver.remote.webelement.WebElement (session=\"92035ddfaf431ddcb5cb0202603f9fa6\", element=\"1a191240-431d-4913-9a6d-f29472d22c80\")>,\n",
       " <selenium.webdriver.remote.webelement.WebElement (session=\"92035ddfaf431ddcb5cb0202603f9fa6\", element=\"ee1594a1-8e71-498f-9c76-ab5ff7ba9a50\")>,\n",
       " <selenium.webdriver.remote.webelement.WebElement (session=\"92035ddfaf431ddcb5cb0202603f9fa6\", element=\"7be488e2-5cfd-4a53-955f-02d6c22ff01f\")>,\n",
       " <selenium.webdriver.remote.webelement.WebElement (session=\"92035ddfaf431ddcb5cb0202603f9fa6\", element=\"005b3192-b476-44f8-af23-b5aed364993d\")>,\n",
       " <selenium.webdriver.remote.webelement.WebElement (session=\"92035ddfaf431ddcb5cb0202603f9fa6\", element=\"36498021-7ead-45dc-a7ee-c9df753cdb06\")>,\n",
       " <selenium.webdriver.remote.webelement.WebElement (session=\"92035ddfaf431ddcb5cb0202603f9fa6\", element=\"eae8d522-7ae7-4e83-a826-2e454f4896c5\")>,\n",
       " <selenium.webdriver.remote.webelement.WebElement (session=\"92035ddfaf431ddcb5cb0202603f9fa6\", element=\"38c3d4fb-5829-42cc-82cc-ade96f1e28b0\")>,\n",
       " <selenium.webdriver.remote.webelement.WebElement (session=\"92035ddfaf431ddcb5cb0202603f9fa6\", element=\"1387901e-bd0c-47ef-9dd2-257fe48a4030\")>,\n",
       " <selenium.webdriver.remote.webelement.WebElement (session=\"92035ddfaf431ddcb5cb0202603f9fa6\", element=\"79077d05-f354-4fa0-9869-5318dbd1d5b0\")>]"
      ]
     },
     "execution_count": 174,
     "metadata": {},
     "output_type": "execute_result"
    }
   ],
   "source": [
    "#Extracting all the tags having full review Information on 3rd  Page\n",
    "fullreview3=driver.find_elements_by_xpath(\"//div[@class='t-ZTKy']\")\n",
    "fullreview3"
   ]
  },
  {
   "cell_type": "code",
   "execution_count": 175,
   "metadata": {},
   "outputs": [
    {
     "data": {
      "text/plain": [
       "['The Best Phone for the Money\\n\\nThe iPhone 11 offers superb cameras, a more durable design and excellent battery life for an affordable price.\\n\\nCompelling ultra-wide camera\\nNew Night mode is excellent\\nLong battery life',\n",
       " 'Amazing phone with great cameras and better battery which gives you the best performance. I just love the camera .',\n",
       " 'Amazing Powerful and Durable Gadget.\\n\\nI’m am very happy with the camera picture quality, Amazing face id unlocked in dark room, Strong battery with perfect screen size as you can carry easily in pocket. This is my third iPhone.\\n\\nI shifted from android Samsung Note series to iPhone because of the strong build quality and peace of mind for next 3-4 years.\\n\\nDon’t think to much just go for it and I suggest you to go for minimum 128gb variant or more 256gb.\\n\\nI’ve attached my puppy pics and no fi...',\n",
       " 'Previously I was using one plus 3t it was a great phone\\nAnd then I decided to upgrade I am stuck between Samsung s10 plus or iPhone 11\\nI have seen the specs and everything were good except the display it’s somewhere between 720-1080 and it’s not even an amoled it’s an LCD display\\nBut I decided to go with iPhone because I have never used an IOS device I have Been an android user from the past 9 years I ordered IPhone 11 (128gb) product red\\nMy experience after using 3 weeks\\n1. The delivery ...',\n",
       " 'So far it’s been an AMAZING experience coming back to iOS after nearly a decade but it’s not as versatile as android though phone is sturdy dropped it accidentally a couple of times and nothing happened fortunately camera is awesome',\n",
       " 'iphone 11 is a very good phone to buy only if you can compromise for the display. The display on this is device is pretty good but you can get other options with better displays in this price segment.\\nIf you can survive with an HD+ LCD panel with thicker bezels and a notch up top then this is a very good phone for you.\\nCameras are awesome, battery backup excellent, great performance and a decent premium look. Good job Apple !',\n",
       " 'It’s a must buy who is looking for an upgrade from previous generation of iPhones. If you are using XR then still you can hold on for sometime and upgrade to 2020 model else this phone is a must buy . Camera quality is amazing and wide angle is something to count upon. Performance wise it’s amazing and feels premium while holding in hand. So a big YES for this device. Go for 128 GB variant as the 4K videos will occupy lots of space and the storage can get over very quickly. Try to buy it with...',\n",
       " 'This is my first iOS phone. I am very happy with this product. Very much satisfied with this. I love this phone.',\n",
       " 'Value for money❤️❤️\\nIts awesome mobile phone in the world ...\\nDisplay was very good and bright ..\\nTrust me freinds you r never regret after Buying..\\nJust go for it....\\nI love this phone and i switch to iphone x to 11',\n",
       " 'Best budget Iphone till date ❤️ go for it guys without second thought. Let me explain you guys about Camera, Display, battery, and performance.\\n\\nCamera: at this price range there is no comparison of camera, you’ll love the picture quality as well as video quality. I am a Vlogger I wanted an iPhone with 4k video by front camera and I got this phone and I am more than happy 😃\\n\\nBattery: I use this phone roughly as I am active social media person and I have a youtube channel. so the battery ba...',\n",
       " \"Iphone is just awesome.. battery backup is very very nice.. continuously for 10 hours we can use it.camera is just awesome.. display is just fab.i love it alot..i had to wait 15 days for it as i pre ordered it..overalll it's worth the price..these all images are clicked by my iPhone..and i love it.\",\n",
       " 'It’s been almost a month since I have been using this phone. I upgraded from an iPhone 8. The main issue with my 8 was battery and this phone is just awesome when it comes to battery. It lasts a day and a half for me with my regular use , internet connected always with 4g\\nCan’t move forward without saying this. Battery of this phone is a life saver when I am traveling or at work when I don’t get the option to charge\\nCamera is superb. Front cam selfies and back cam photos are just awesome.\\n...\\nREAD MORE',\n",
       " 'Excellent camera, good performance, no lag. The lcd display is also good.. but difference come when we watch movie in prime and Netflix, the colours are not vibrant.. as we see in amoled display.. and the charger in box is of 5 watts.. takes more than 3 hours to charge from 0 to 100.. so guys be prepare to buy 18 watts charger . Finally I am an android user, it was my first Iapple phone, I promise u guys the iOS is so smooth.. overall the phone is damn good.... close eyes to buy it.. thanks t...\\nREAD MORE',\n",
       " 'Really worth of money. i just love it. It is the best phone ever.',\n",
       " 'What a camera .....just awesome ..you can feel this iPhone just awesome . Good for gaming also ...try pubg in hd it’s just wow',\n",
       " 'Awesome Phone. Slightly high price but worth. Better than iPhone XR.\\nCamera is superb and wide angle camera is very clear.\\n12MP selfie camera is also very good.\\nA13 Chip gives a very good and smooth performance.',\n",
       " \"It's my first time to use iOS phone and I am loving my upgradation 😍😍 I love the color, I love the assebility of the phone....I need to learn more about its functionality, but as far as I have seen, it's quite easy and it has a lot of functions to work on, specially if you are a content writer or a blogger you get a lot of content creation platforms and they are really amazing.\\n\\nThis phone not only for good quality photography but a lot of other task too.😍💯\",\n",
       " 'This is my first ever I phone. Before this I was using my google nexus 5. But moving from android to iOS is a great experience. It’s worth at this price. I will highly recommend it if you want to move to iOS. The best part of this phone is it’s camera and it’s battery life. This two things have won my heart. I loved it. Happy to have it in my hand. Still exploring its features. And can’t forget to mention Flipkart service. Very prompt service and fast delivery.',\n",
       " 'Superb Product !!!\\nA big and worthy upgrade from mi 3S to iphone 11 .\\nTotally loved it !',\n",
       " 'I have migrated from OP 7pro... and trust me, iPhone 11 is totally worth it.. following are the reasons:-\\n1)there is ABSOLUTELY NO ISSUE WITH THE DISPLAY... its crisp, sharp and I found it to be much much better than OP7 pro. Netflix, Prime video all run crisply... you won’t miss a thing. True Tone works flawlessly...the display brightness is perfect. OP have not calibrated their screens properly.\\n2) iPhone 11 series have really good cameras... others have spoken in depth about them.\\n3) bat...\\nREAD MORE',\n",
       " 'It’s an amazing product from apple and the camera is simply superb. Phone is faster.Night shot is simply superb and detailing and colour differentiation from camera is an added advantage\\n\\nThis review I have written from iPhone 11 only and I am glad to say outside.\\n\\nCons wise if we see HD+ display only, no battery percentage indicator as in older iPhone 8.\\nNo assistive touch control button in it\\nNo oleophobic coating on back panel glass and finger prints are visible but since I bought mint gr...\\nREAD MORE',\n",
       " 'Upgraded from iphone 6 to 11 best phone for iphone users battery is much better than other iphones camera is awesome love to use it.camera is so clear in night.',\n",
       " 'I just directly switch from iphone 6s to iphone 11 .The best premium smartphone I recommend to everyone. Excellent quality and colors the iphone have in 11 series.\\nCamera quality is just awesome and the major feel when we hold in our hands. The sound quality and volume is also higher then the previous models.\\nI will recommend to buy iphone 11 instead of pro models , there is nothing much difference as this model contains everything which fulfill our needs.\\n\\nOnly one thing that I dislike abo...\\nREAD MORE',\n",
       " 'This will help you more. See if you are planning to buy iPhone 11. I will say. Yes. But there are some plans I just want to disclose before you buy. 1) If you are an existing iPhone X/XS/XS Max/ XR user, better you guys do not think it to buy. You guys have more or less better gadget. 2) If you are an android user and planning to buy premium phone. I will suggest them to please buy iPhone instead of buying an Android. I bet you will never go back to android after using IOS. Now I want to shar...\\nREAD MORE',\n",
       " 'Well you all know the specifications . One of a kind. Best iPhone till date. Many enhancements to the camera app with many options. Love the glass body with matte finish in the lens area on the back. Lovely colours to choose from. Best battery in an iPhone till date, enough to last more than a day in normal usage. I tested my iPhone 11 battery and lasted for than 24 hours after full charge still with 30% battery charge left. Watched movies for some time. Normal usage on calls, browsing, musi...\\nREAD MORE',\n",
       " 'The built quality is not very premium.\\nThe battery back is great .\\nThe LCD panel is not so sharp but the brightness level is very High .\\nCamera is super duper awesome.\\nThe red colour which people think is bright is actually very soothing and excellent colour to choose from .\\nThe A13 Bionic chip is really a flagship processor and can beat any phone which even has 12 gb ram .\\nCamera module is very great and looks very stylish.',\n",
       " 'Really good actually this is my first apple product am using its really awesome performance wise excellent. Am really happy with this iphone11',\n",
       " 'it is very good at performance. Camera is best like before and very smooth response even in water. Don’t buy 12 mini buy iPhone 11 , it is far better than 12 mini believe me ! Have a nice day \\uf8ff ☺️',\n",
       " 'Reviewing again after 5 months. At the beginning the battery and performance was good but it degraded soon. Also I was facing heating issues. The mobile will heat up like a stove sometimes. You cannot even play Pubg even in low settings properly, performance is not a problem but heating is. Also if you play that game for 10 mins the brightness will be automatically down due to over heating even when the auto brightness is set to off. This will not be solved even if u manually increase the bri...\\nREAD MORE',\n",
       " 'Great iPhone very snappy experience as apple kind. Upgraded from iPhone 7.\\nPros\\n-Camera top class\\n- Battery top performed\\n-Chipset no need to say as apple kind\\n-Security as you expect from apple\\n- Display super bright industry leading colour\\naccuracy and super responsive\\n-Build quality as expect from apple sturdy\\npremium durable beautiful stylish.\\n-Os most stable os in smartphone industry\\n\\nCons\\n-No 5G\\n-Display is not based on OLED technology\\n-Charger headphones and 1 apple stic...\\nREAD MORE']"
      ]
     },
     "execution_count": 175,
     "metadata": {},
     "output_type": "execute_result"
    }
   ],
   "source": [
    "#extracting text inside full review tags of 3rd page\n",
    "for i in fullreview3:\n",
    "    Full_review.append(i.text)\n",
    "Full_review"
   ]
  },
  {
   "cell_type": "code",
   "execution_count": 177,
   "metadata": {},
   "outputs": [],
   "source": [
    "#After scraping data from the 3rd page, Let's move to the 4th Page\n",
    "fourth_page=driver.find_element_by_xpath(\"//nav[@class='yFHi8N']/a[12]\")\n",
    "fourth_page.click()"
   ]
  },
  {
   "cell_type": "code",
   "execution_count": 178,
   "metadata": {},
   "outputs": [],
   "source": [
    "#Extracting all the tags having rating Information on next Page\n",
    "rate4=driver.find_elements_by_xpath(\"//div[@class='_3LWZlK _1BLPMq']\")\n",
    "\n",
    "#extracting text inside rating tags\n",
    "for i in rate4:\n",
    "    Rating.append(i.text)\n",
    "\n",
    "#Extracting all the tags having review Information on next Page\n",
    "review4=driver.find_elements_by_xpath(\"//p[@class='_2-N8zT']\")\n",
    "\n",
    "#extracting text inside review tags\n",
    "for i in review4:\n",
    "    Review_summary.append(i.text)\n",
    "\n",
    "#Extracting all the tags having full review Information on next Page\n",
    "fullreview4=driver.find_elements_by_xpath(\"//div[@class='t-ZTKy']\")\n",
    "\n",
    "#extracting text inside full review tags\n",
    "for i in fullreview4:\n",
    "    Full_review.append(i.text)"
   ]
  },
  {
   "cell_type": "code",
   "execution_count": 179,
   "metadata": {},
   "outputs": [],
   "source": [
    "#After scraping data from the 4th page, Let's move to the 5th Page\n",
    "fifth_page=driver.find_element_by_xpath(\"//nav[@class='yFHi8N']/a[12]\")\n",
    "fifth_page.click()"
   ]
  },
  {
   "cell_type": "code",
   "execution_count": 180,
   "metadata": {},
   "outputs": [],
   "source": [
    "#Extracting all the tags having rating Information on next Page\n",
    "rate5=driver.find_elements_by_xpath(\"//div[@class='_3LWZlK _1BLPMq']\")\n",
    "\n",
    "#extracting text inside rating tags\n",
    "for i in rate5:\n",
    "    Rating.append(i.text)\n",
    "\n",
    "#Extracting all the tags having review Information on next Page\n",
    "review5=driver.find_elements_by_xpath(\"//p[@class='_2-N8zT']\")\n",
    "\n",
    "#extracting text inside review tags\n",
    "for i in review5:\n",
    "    Review_summary.append(i.text)\n",
    "\n",
    "#Extracting all the tags having full review Information on next Page\n",
    "fullreview5=driver.find_elements_by_xpath(\"//div[@class='t-ZTKy']\")\n",
    "\n",
    "#extracting text inside full review tags\n",
    "for i in fullreview5:\n",
    "    Full_review.append(i.text)"
   ]
  },
  {
   "cell_type": "code",
   "execution_count": 181,
   "metadata": {},
   "outputs": [],
   "source": [
    "#After scraping data from the 5th page, Let's move to the 6th Page\n",
    "sixth_page=driver.find_element_by_xpath(\"//nav[@class='yFHi8N']/a[12]\")\n",
    "sixth_page.click()"
   ]
  },
  {
   "cell_type": "code",
   "execution_count": 182,
   "metadata": {},
   "outputs": [],
   "source": [
    "#Extracting all the tags having rating Information on next Page\n",
    "rate6=driver.find_elements_by_xpath(\"//div[@class='_3LWZlK _1BLPMq']\")\n",
    "\n",
    "#extracting text inside rating tags\n",
    "for i in rate6:\n",
    "    Rating.append(i.text)\n",
    "\n",
    "#Extracting all the tags having review Information on next Page\n",
    "review6=driver.find_elements_by_xpath(\"//p[@class='_2-N8zT']\")\n",
    "\n",
    "#extracting text inside review tags\n",
    "for i in review6:\n",
    "    Review_summary.append(i.text)\n",
    "\n",
    "#Extracting all the tags having full review Information on next Page\n",
    "fullreview6=driver.find_elements_by_xpath(\"//div[@class='t-ZTKy']\")\n",
    "\n",
    "#extracting text inside full review tags\n",
    "for i in fullreview6:\n",
    "    Full_review.append(i.text)"
   ]
  },
  {
   "cell_type": "code",
   "execution_count": 183,
   "metadata": {},
   "outputs": [],
   "source": [
    "#After scraping data from the 6th page, Let's move to the 7th Page\n",
    "seventh_page=driver.find_element_by_xpath(\"//nav[@class='yFHi8N']/a[12]\")\n",
    "seventh_page.click()"
   ]
  },
  {
   "cell_type": "code",
   "execution_count": 184,
   "metadata": {},
   "outputs": [],
   "source": [
    "#Extracting all the tags having rating Information on next Page\n",
    "rate7=driver.find_elements_by_xpath(\"//div[@class='_3LWZlK _1BLPMq']\")\n",
    "\n",
    "#extracting text inside rating tags\n",
    "for i in rate7:\n",
    "    Rating.append(i.text)\n",
    "\n",
    "#Extracting all the tags having review Information on next Page\n",
    "review7=driver.find_elements_by_xpath(\"//p[@class='_2-N8zT']\")\n",
    "\n",
    "#extracting text inside review tags\n",
    "for i in review7:\n",
    "    Review_summary.append(i.text)\n",
    "\n",
    "#Extracting all the tags having full review Information on next Page\n",
    "fullreview7=driver.find_elements_by_xpath(\"//div[@class='t-ZTKy']\")\n",
    "\n",
    "#extracting text inside full review tags\n",
    "for i in fullreview7:\n",
    "    Full_review.append(i.text)"
   ]
  },
  {
   "cell_type": "code",
   "execution_count": 185,
   "metadata": {},
   "outputs": [],
   "source": [
    "#After scraping data from the 7th page, Let's move to the 8th Page\n",
    "eigth_page=driver.find_element_by_xpath(\"//nav[@class='yFHi8N']/a[12]\")\n",
    "eigth_page.click()"
   ]
  },
  {
   "cell_type": "code",
   "execution_count": 186,
   "metadata": {},
   "outputs": [],
   "source": [
    "#Extracting all the tags having rating Information on next Page\n",
    "rate8=driver.find_elements_by_xpath(\"//div[@class='_3LWZlK _1BLPMq']\")\n",
    "\n",
    "#extracting text inside rating tags\n",
    "for i in rate8:\n",
    "    Rating.append(i.text)\n",
    "\n",
    "#Extracting all the tags having review Information on next Page\n",
    "review8=driver.find_elements_by_xpath(\"//p[@class='_2-N8zT']\")\n",
    "\n",
    "#extracting text inside review tags\n",
    "for i in review8:\n",
    "    Review_summary.append(i.text)\n",
    "\n",
    "#Extracting all the tags having full review Information on next Page\n",
    "fullreview8=driver.find_elements_by_xpath(\"//div[@class='t-ZTKy']\")\n",
    "\n",
    "#extracting text inside full review tags\n",
    "for i in fullreview8:\n",
    "    Full_review.append(i.text)"
   ]
  },
  {
   "cell_type": "code",
   "execution_count": 187,
   "metadata": {},
   "outputs": [],
   "source": [
    "#After scraping data from the 8th page, Let's move to the 9th Page\n",
    "ninth_page=driver.find_element_by_xpath(\"//nav[@class='yFHi8N']/a[12]\")\n",
    "ninth_page.click()"
   ]
  },
  {
   "cell_type": "code",
   "execution_count": 188,
   "metadata": {},
   "outputs": [],
   "source": [
    "#Extracting all the tags having rating Information on next Page\n",
    "rate9=driver.find_elements_by_xpath(\"//div[@class='_3LWZlK _1BLPMq']\")\n",
    "\n",
    "#extracting text inside rating tags\n",
    "for i in rate9:\n",
    "    Rating.append(i.text)\n",
    "\n",
    "#Extracting all the tags having review Information on next Page\n",
    "review9=driver.find_elements_by_xpath(\"//p[@class='_2-N8zT']\")\n",
    "\n",
    "#extracting text inside review tags\n",
    "for i in review9:\n",
    "    Review_summary.append(i.text)\n",
    "\n",
    "#Extracting all the tags having full review Information on next Page\n",
    "fullreview9=driver.find_elements_by_xpath(\"//div[@class='t-ZTKy']\")\n",
    "\n",
    "#extracting text inside full review tags\n",
    "for i in fullreview9:\n",
    "    Full_review.append(i.text)"
   ]
  },
  {
   "cell_type": "code",
   "execution_count": 189,
   "metadata": {},
   "outputs": [],
   "source": [
    "#After scraping data from the 9th page, Let's move to the 10th Page\n",
    "tenth_page=driver.find_element_by_xpath(\"//nav[@class='yFHi8N']/a[12]\")\n",
    "tenth_page.click()"
   ]
  },
  {
   "cell_type": "code",
   "execution_count": 191,
   "metadata": {},
   "outputs": [],
   "source": [
    "#Extracting all the tags having rating Information on next Page\n",
    "rate10=driver.find_elements_by_xpath(\"//div[@class='_3LWZlK _1BLPMq']\")\n",
    "\n",
    "#extracting text inside rating tags\n",
    "for i in rate10:\n",
    "    Rating.append(i.text)\n",
    "\n",
    "#Extracting all the tags having review Information on next Page\n",
    "review10=driver.find_elements_by_xpath(\"//p[@class='_2-N8zT']\")\n",
    "\n",
    "#extracting text inside review tags\n",
    "for i in review10:\n",
    "    Review_summary.append(i.text)\n",
    "\n",
    "#Extracting all the tags having full review Information on next Page\n",
    "fullreview10=driver.find_elements_by_xpath(\"//div[@class='t-ZTKy']\")\n",
    "\n",
    "#extracting text inside full review tags\n",
    "for i in fullreview10:\n",
    "    Full_review.append(i.text)"
   ]
  },
  {
   "cell_type": "code",
   "execution_count": 197,
   "metadata": {},
   "outputs": [
    {
     "data": {
      "text/html": [
       "<div>\n",
       "<style scoped>\n",
       "    .dataframe tbody tr th:only-of-type {\n",
       "        vertical-align: middle;\n",
       "    }\n",
       "\n",
       "    .dataframe tbody tr th {\n",
       "        vertical-align: top;\n",
       "    }\n",
       "\n",
       "    .dataframe thead th {\n",
       "        text-align: right;\n",
       "    }\n",
       "</style>\n",
       "<table border=\"1\" class=\"dataframe\">\n",
       "  <thead>\n",
       "    <tr style=\"text-align: right;\">\n",
       "      <th></th>\n",
       "      <th>Rating</th>\n",
       "      <th>Review_summary</th>\n",
       "      <th>Full review</th>\n",
       "    </tr>\n",
       "  </thead>\n",
       "  <tbody>\n",
       "    <tr>\n",
       "      <th>0</th>\n",
       "      <td>5</td>\n",
       "      <td>Brilliant</td>\n",
       "      <td>The Best Phone for the Money\\n\\nThe iPhone 11 ...</td>\n",
       "    </tr>\n",
       "    <tr>\n",
       "      <th>1</th>\n",
       "      <td>5</td>\n",
       "      <td>Perfect product!</td>\n",
       "      <td>Amazing phone with great cameras and better ba...</td>\n",
       "    </tr>\n",
       "    <tr>\n",
       "      <th>2</th>\n",
       "      <td>5</td>\n",
       "      <td>Great product</td>\n",
       "      <td>Amazing Powerful and Durable Gadget.\\n\\nI’m am...</td>\n",
       "    </tr>\n",
       "    <tr>\n",
       "      <th>3</th>\n",
       "      <td>5</td>\n",
       "      <td>Worth every penny</td>\n",
       "      <td>Previously I was using one plus 3t it was a gr...</td>\n",
       "    </tr>\n",
       "    <tr>\n",
       "      <th>4</th>\n",
       "      <td>4</td>\n",
       "      <td>Good choice</td>\n",
       "      <td>So far it’s been an AMAZING experience coming ...</td>\n",
       "    </tr>\n",
       "    <tr>\n",
       "      <th>...</th>\n",
       "      <td>...</td>\n",
       "      <td>...</td>\n",
       "      <td>...</td>\n",
       "    </tr>\n",
       "    <tr>\n",
       "      <th>95</th>\n",
       "      <td>5</td>\n",
       "      <td>Excellent</td>\n",
       "      <td>Seller - SuperComNet ( my trust in you has gro...</td>\n",
       "    </tr>\n",
       "    <tr>\n",
       "      <th>96</th>\n",
       "      <td>5</td>\n",
       "      <td>Terrific purchase</td>\n",
       "      <td>Well , as we all know if its not an Iphone , i...</td>\n",
       "    </tr>\n",
       "    <tr>\n",
       "      <th>97</th>\n",
       "      <td>5</td>\n",
       "      <td>Wonderful</td>\n",
       "      <td>Nice value for money good and best price I pho...</td>\n",
       "    </tr>\n",
       "    <tr>\n",
       "      <th>98</th>\n",
       "      <td>4</td>\n",
       "      <td>Fabulous!</td>\n",
       "      <td>Just an awesome phone...upgraded from 6s to 11...</td>\n",
       "    </tr>\n",
       "    <tr>\n",
       "      <th>99</th>\n",
       "      <td>5</td>\n",
       "      <td>Value-for-money</td>\n",
       "      <td>As usual a great product from Apple. but the l...</td>\n",
       "    </tr>\n",
       "  </tbody>\n",
       "</table>\n",
       "<p>100 rows × 3 columns</p>\n",
       "</div>"
      ],
      "text/plain": [
       "   Rating     Review_summary  \\\n",
       "0       5          Brilliant   \n",
       "1       5   Perfect product!   \n",
       "2       5      Great product   \n",
       "3       5  Worth every penny   \n",
       "4       4        Good choice   \n",
       "..    ...                ...   \n",
       "95      5          Excellent   \n",
       "96      5  Terrific purchase   \n",
       "97      5          Wonderful   \n",
       "98      4          Fabulous!   \n",
       "99      5    Value-for-money   \n",
       "\n",
       "                                          Full review  \n",
       "0   The Best Phone for the Money\\n\\nThe iPhone 11 ...  \n",
       "1   Amazing phone with great cameras and better ba...  \n",
       "2   Amazing Powerful and Durable Gadget.\\n\\nI’m am...  \n",
       "3   Previously I was using one plus 3t it was a gr...  \n",
       "4   So far it’s been an AMAZING experience coming ...  \n",
       "..                                                ...  \n",
       "95  Seller - SuperComNet ( my trust in you has gro...  \n",
       "96  Well , as we all know if its not an Iphone , i...  \n",
       "97  Nice value for money good and best price I pho...  \n",
       "98  Just an awesome phone...upgraded from 6s to 11...  \n",
       "99  As usual a great product from Apple. but the l...  \n",
       "\n",
       "[100 rows x 3 columns]"
      ]
     },
     "execution_count": 197,
     "metadata": {},
     "output_type": "execute_result"
    }
   ],
   "source": [
    "#Saving our answer in a DataFrame using Pandas\n",
    "iphone_100=pd.DataFrame({})\n",
    "iphone_100['Rating']=Rating[0:100]\n",
    "iphone_100['Review_summary']=Review_summary[0:100]\n",
    "iphone_100['Full review']=Full_review[0:100]\n",
    "iphone_100"
   ]
  },
  {
   "cell_type": "code",
   "execution_count": 198,
   "metadata": {},
   "outputs": [],
   "source": [
    "#Closing driver\n",
    "driver.close()"
   ]
  },
  {
   "cell_type": "markdown",
   "metadata": {},
   "source": [
    "***************************************************************************************************Completed***********************************************************************************************************************************************************************************************************"
   ]
  },
  {
   "cell_type": "markdown",
   "metadata": {},
   "source": [
    "# Q8: Scrape data for first 100 sneakers you find when you visit flipkart.com and search for “sneakers” in the search field.\n",
    "You have to scrape 4 attributes of each sneaker :\n",
    "1. Brand\n",
    "2. Product Description\n",
    "3. Price\n",
    "4. discount %\n",
    "\n",
    "Ans: Solution is as:-"
   ]
  },
  {
   "cell_type": "code",
   "execution_count": 201,
   "metadata": {},
   "outputs": [],
   "source": [
    "#Let's first connect to the web driver\n",
    "driver=webdriver.Chrome(\"chromedriver.exe\")"
   ]
  },
  {
   "cell_type": "code",
   "execution_count": 202,
   "metadata": {},
   "outputs": [],
   "source": [
    "#opening \"https://www.flipkart.com/\"\n",
    "url=\"https://www.flipkart.com/\"\n",
    "driver.get(url)"
   ]
  },
  {
   "cell_type": "code",
   "execution_count": 203,
   "metadata": {},
   "outputs": [
    {
     "data": {
      "text/plain": [
       "<selenium.webdriver.remote.webelement.WebElement (session=\"34191a96a04666b26419f1906b2e31e1\", element=\"f56b53ed-63a7-4a1b-bf10-fa25851f47be\")>"
      ]
     },
     "execution_count": 203,
     "metadata": {},
     "output_type": "execute_result"
    }
   ],
   "source": [
    "#finding element for product search bar\n",
    "search_prod=driver.find_element_by_xpath(\"//input[@class='_3704LK']\")\n",
    "search_prod"
   ]
  },
  {
   "cell_type": "code",
   "execution_count": 204,
   "metadata": {},
   "outputs": [],
   "source": [
    "#Searching for “sneakers” in Search bar\n",
    "search_prod.send_keys(\"sneakers\")"
   ]
  },
  {
   "cell_type": "code",
   "execution_count": 205,
   "metadata": {},
   "outputs": [],
   "source": [
    "#Clicking the Search Button using Xpath function\n",
    "search_btn=driver.find_element_by_xpath(\"//button[@class='L0Z3Pu']\")\n",
    "search_btn.click()"
   ]
  },
  {
   "cell_type": "code",
   "execution_count": 206,
   "metadata": {},
   "outputs": [],
   "source": [
    "#Creating empty Lists so that we can store data in these lists while scraping first page\n",
    "Brand_list=[]\n",
    "Product_Description=[]\n",
    "Price_list=[]\n",
    "Discount=[]"
   ]
  },
  {
   "cell_type": "code",
   "execution_count": 207,
   "metadata": {},
   "outputs": [],
   "source": [
    "#Extracting all the tags having Brand Information on 1st Page\n",
    "brand1=driver.find_elements_by_xpath(\"//div[@class='_2WkVRV']\")\n",
    "\n",
    "#extracting text inside brand tags of first page\n",
    "for i in brand1:\n",
    "    Brand_list.append(i.text)\n",
    "\n",
    "#Extracting all the tags having Product Information on 1st Page\n",
    "prod1=driver.find_elements_by_xpath(\"//a[@class='IRpwTa']\")\n",
    "\n",
    "#extracting text inside product tags of first page\n",
    "for i in prod1:\n",
    "    Product_Description.append(i.text)\n",
    "\n",
    "#Extracting all the tags having Price Information on 1st Page\n",
    "price1=driver.find_elements_by_xpath(\"//div[@class='_30jeq3']\")\n",
    "\n",
    "#extracting text inside price tags of first page\n",
    "for i in price1:\n",
    "    Price_list.append(i.text)\n",
    "\n",
    "#Extracting all the tags having Discount Information on 1st Page\n",
    "disc1=driver.find_elements_by_xpath(\"//div[@class='_3Ay6Sb']\")\n",
    "\n",
    "#extracting text inside discount tags of first page\n",
    "for i in disc1:\n",
    "    Discount.append(i.text)"
   ]
  },
  {
   "cell_type": "code",
   "execution_count": 208,
   "metadata": {},
   "outputs": [],
   "source": [
    "#After scraping data from the first page, Let's move to the Second Page by clicking “Next” Button\n",
    "second_page=driver.find_element_by_xpath(\"//a[@class='_1LKTO3']\")\n",
    "second_page.click()"
   ]
  },
  {
   "cell_type": "code",
   "execution_count": 209,
   "metadata": {},
   "outputs": [],
   "source": [
    "#Extracting all the tags having Brand Information on 2nd Page\n",
    "brand2=driver.find_elements_by_xpath(\"//div[@class='_2WkVRV']\")\n",
    "\n",
    "#extracting text inside brand tags of 2nd page\n",
    "for i in brand2:\n",
    "    Brand_list.append(i.text)\n",
    "\n",
    "#Extracting all the tags having Product Information on 2nd Page\n",
    "prod2=driver.find_elements_by_xpath(\"//a[@class='IRpwTa']\")\n",
    "\n",
    "#extracting text inside product tags of 2nd page\n",
    "for i in prod2:\n",
    "    Product_Description.append(i.text)\n",
    "\n",
    "#Extracting all the tags having Price Information on 2nd Page\n",
    "price2=driver.find_elements_by_xpath(\"//div[@class='_30jeq3']\")\n",
    "\n",
    "#extracting text inside price tags of 2nd page\n",
    "for i in price2:\n",
    "    Price_list.append(i.text)\n",
    "\n",
    "#Extracting all the tags having Discount Information on 2nd Page\n",
    "disc2=driver.find_elements_by_xpath(\"//div[@class='_3Ay6Sb']\")\n",
    "\n",
    "#extracting text inside discount tags of 2nd page\n",
    "for i in disc2:\n",
    "    Discount.append(i.text)"
   ]
  },
  {
   "cell_type": "code",
   "execution_count": 210,
   "metadata": {},
   "outputs": [],
   "source": [
    "#After scraping data from the Second page, Let's move to the Third Page by clicking “Next” Button\n",
    "third_page=driver.find_element_by_xpath(\"//a [@href='/search?q=sneakers&otracker=search&otracker1=search&marketplace=FLIPKART&as-show=on&as=off&page=3']\")\n",
    "third_page.click()"
   ]
  },
  {
   "cell_type": "code",
   "execution_count": 211,
   "metadata": {},
   "outputs": [],
   "source": [
    "#Extracting all the tags having Brand Information on 3rd Page\n",
    "brand3=driver.find_elements_by_xpath(\"//div[@class='_2WkVRV']\")\n",
    "\n",
    "#extracting text inside brand tags of 3rd page\n",
    "for i in brand3:\n",
    "    Brand_list.append(i.text)\n",
    "\n",
    "#Extracting all the tags having Product Information on 3rd Page\n",
    "prod3=driver.find_elements_by_xpath(\"//a[@class='IRpwTa']\")\n",
    "\n",
    "#extracting text inside product tags of 3rd page\n",
    "for i in prod3:\n",
    "    Product_Description.append(i.text)\n",
    "\n",
    "#Extracting all the tags having Price Information on 3rd Page\n",
    "price3=driver.find_elements_by_xpath(\"//div[@class='_30jeq3']\")\n",
    "\n",
    "#extracting text inside price tags of 3rd page\n",
    "for i in price3:\n",
    "    Price_list.append(i.text)\n",
    "\n",
    "#Extracting all the tags having Discount Information on 3rd Page\n",
    "disc3=driver.find_elements_by_xpath(\"//div[@class='_3Ay6Sb']\")\n",
    "\n",
    "#extracting text inside discount tags of 3rd page\n",
    "for i in disc3:\n",
    "    Discount.append(i.text)"
   ]
  },
  {
   "cell_type": "code",
   "execution_count": 218,
   "metadata": {},
   "outputs": [],
   "source": [
    "#After scraping data from the 3rd page, Let's move to the 4th Page by clicking “Next” Button\n",
    "fourth_page=driver.find_element_by_xpath(\"//a [@href='/search?q=sneakers&otracker=search&otracker1=search&marketplace=FLIPKART&as-show=on&as=off&page=4']\")\n",
    "fourth_page.click()"
   ]
  },
  {
   "cell_type": "code",
   "execution_count": 219,
   "metadata": {},
   "outputs": [],
   "source": [
    "#Extracting all the tags having Brand Information on 4th Page\n",
    "brand4=driver.find_elements_by_xpath(\"//div[@class='_2WkVRV']\")\n",
    "\n",
    "#extracting text inside brand tags of 4th Page\n",
    "for i in brand4:\n",
    "    Brand_list.append(i.text)\n",
    "\n",
    "#Extracting all the tags having Product Information on 4th Page\n",
    "prod4=driver.find_elements_by_xpath(\"//a[@class='IRpwTa']\")\n",
    "\n",
    "#extracting text inside product tags of 4th Page\n",
    "for i in prod4:\n",
    "    Product_Description.append(i.text)\n",
    "\n",
    "#Extracting all the tags having Price Information on 4th Page\n",
    "price4=driver.find_elements_by_xpath(\"//div[@class='_30jeq3']\")\n",
    "\n",
    "#extracting text inside price tags of 4th Page\n",
    "for i in price4:\n",
    "    Price_list.append(i.text)\n",
    "\n",
    "#Extracting all the tags having Discount Information on 4th Page\n",
    "disc4=driver.find_elements_by_xpath(\"//div[@class='_3Ay6Sb']\")\n",
    "\n",
    "#extracting text inside discount tags of 4th Page\n",
    "for i in disc4:\n",
    "    Discount.append(i.text)"
   ]
  },
  {
   "cell_type": "code",
   "execution_count": 220,
   "metadata": {},
   "outputs": [
    {
     "data": {
      "text/html": [
       "<div>\n",
       "<style scoped>\n",
       "    .dataframe tbody tr th:only-of-type {\n",
       "        vertical-align: middle;\n",
       "    }\n",
       "\n",
       "    .dataframe tbody tr th {\n",
       "        vertical-align: top;\n",
       "    }\n",
       "\n",
       "    .dataframe thead th {\n",
       "        text-align: right;\n",
       "    }\n",
       "</style>\n",
       "<table border=\"1\" class=\"dataframe\">\n",
       "  <thead>\n",
       "    <tr style=\"text-align: right;\">\n",
       "      <th></th>\n",
       "      <th>Brand</th>\n",
       "      <th>Product Description</th>\n",
       "      <th>Price</th>\n",
       "      <th>Discount %</th>\n",
       "    </tr>\n",
       "  </thead>\n",
       "  <tbody>\n",
       "    <tr>\n",
       "      <th>0</th>\n",
       "      <td>Birde</td>\n",
       "      <td>Sneakers For Men</td>\n",
       "      <td>₹661</td>\n",
       "      <td>55% off</td>\n",
       "    </tr>\n",
       "    <tr>\n",
       "      <th>1</th>\n",
       "      <td>aadi</td>\n",
       "      <td>Sneakers For Men</td>\n",
       "      <td>₹367</td>\n",
       "      <td>63% off</td>\n",
       "    </tr>\n",
       "    <tr>\n",
       "      <th>2</th>\n",
       "      <td>Wika</td>\n",
       "      <td>Sneakers For Men</td>\n",
       "      <td>₹449</td>\n",
       "      <td>55% off</td>\n",
       "    </tr>\n",
       "    <tr>\n",
       "      <th>3</th>\n",
       "      <td>Robbie jones</td>\n",
       "      <td>Casual Sneakers Shoes For Men Sneakers For Men</td>\n",
       "      <td>₹379</td>\n",
       "      <td>62% off</td>\n",
       "    </tr>\n",
       "    <tr>\n",
       "      <th>4</th>\n",
       "      <td>ORICUM</td>\n",
       "      <td>Combo pack of 2 casual sneaker shoes for men S...</td>\n",
       "      <td>₹377</td>\n",
       "      <td>62% off</td>\n",
       "    </tr>\n",
       "    <tr>\n",
       "      <th>...</th>\n",
       "      <td>...</td>\n",
       "      <td>...</td>\n",
       "      <td>...</td>\n",
       "      <td>...</td>\n",
       "    </tr>\n",
       "    <tr>\n",
       "      <th>95</th>\n",
       "      <td>SHOELIFE</td>\n",
       "      <td>Sneakers For Men</td>\n",
       "      <td>₹449</td>\n",
       "      <td>50% off</td>\n",
       "    </tr>\n",
       "    <tr>\n",
       "      <th>96</th>\n",
       "      <td>Red Rose</td>\n",
       "      <td>Stylish Design Sneakers Shoes Combo For Men &amp; ...</td>\n",
       "      <td>₹499</td>\n",
       "      <td>60% off</td>\n",
       "    </tr>\n",
       "    <tr>\n",
       "      <th>97</th>\n",
       "      <td>oxpeo</td>\n",
       "      <td>high quality casual sneaker shoes Sneakers For...</td>\n",
       "      <td>₹398</td>\n",
       "      <td>40% off</td>\n",
       "    </tr>\n",
       "    <tr>\n",
       "      <th>98</th>\n",
       "      <td>HOTSTYLE</td>\n",
       "      <td>casual shoes For Mens Combo(AR)-1658-1619 ( Mu...</td>\n",
       "      <td>₹299</td>\n",
       "      <td>52% off</td>\n",
       "    </tr>\n",
       "    <tr>\n",
       "      <th>99</th>\n",
       "      <td>STRANGER BROTHERS</td>\n",
       "      <td>CUBIC_1 Sneakers For Men</td>\n",
       "      <td>₹474</td>\n",
       "      <td>52% off</td>\n",
       "    </tr>\n",
       "  </tbody>\n",
       "</table>\n",
       "<p>100 rows × 4 columns</p>\n",
       "</div>"
      ],
      "text/plain": [
       "                Brand                                Product Description  \\\n",
       "0               Birde                                   Sneakers For Men   \n",
       "1                aadi                                   Sneakers For Men   \n",
       "2                Wika                                   Sneakers For Men   \n",
       "3        Robbie jones     Casual Sneakers Shoes For Men Sneakers For Men   \n",
       "4              ORICUM  Combo pack of 2 casual sneaker shoes for men S...   \n",
       "..                ...                                                ...   \n",
       "95           SHOELIFE                                   Sneakers For Men   \n",
       "96           Red Rose  Stylish Design Sneakers Shoes Combo For Men & ...   \n",
       "97              oxpeo  high quality casual sneaker shoes Sneakers For...   \n",
       "98           HOTSTYLE  casual shoes For Mens Combo(AR)-1658-1619 ( Mu...   \n",
       "99  STRANGER BROTHERS                           CUBIC_1 Sneakers For Men   \n",
       "\n",
       "   Price Discount %  \n",
       "0   ₹661    55% off  \n",
       "1   ₹367    63% off  \n",
       "2   ₹449    55% off  \n",
       "3   ₹379    62% off  \n",
       "4   ₹377    62% off  \n",
       "..   ...        ...  \n",
       "95  ₹449    50% off  \n",
       "96  ₹499    60% off  \n",
       "97  ₹398    40% off  \n",
       "98  ₹299    52% off  \n",
       "99  ₹474    52% off  \n",
       "\n",
       "[100 rows x 4 columns]"
      ]
     },
     "execution_count": 220,
     "metadata": {},
     "output_type": "execute_result"
    }
   ],
   "source": [
    "#Saving our answer in a DataFrame using Pandas\n",
    "sneakers_100=pd.DataFrame({})\n",
    "sneakers_100['Brand']=Brand_list[0:100]\n",
    "sneakers_100['Product Description']=Product_Description[0:100]\n",
    "sneakers_100['Price']=Price_list[0:100]\n",
    "sneakers_100['Discount %']=Discount[0:100]\n",
    "sneakers_100"
   ]
  },
  {
   "cell_type": "code",
   "execution_count": 221,
   "metadata": {},
   "outputs": [],
   "source": [
    "#Closing driver\n",
    "driver.close()"
   ]
  },
  {
   "cell_type": "markdown",
   "metadata": {},
   "source": [
    "************************************************************************************************************************************Completed************************************************************************************************************"
   ]
  },
  {
   "cell_type": "code",
   "execution_count": 19,
   "metadata": {},
   "outputs": [],
   "source": [
    "#Importing the required Libraries for selenium\n",
    "import selenium\n",
    "import pandas as pd\n",
    "from selenium import webdriver"
   ]
  },
  {
   "cell_type": "markdown",
   "metadata": {},
   "source": [
    "# Q9: Go to the link - https://www.myntra.com/shoes\n",
    "Set Price filter to “Rs. 6649 to Rs. 13099” , Color filter to “Black”,\n",
    "And then scrape First 100 shoes data you get. The data should include “Brand” of the shoes , Short Shoe description, price of the shoes.\n",
    "\n",
    "Ans: Solution is as:-"
   ]
  },
  {
   "cell_type": "code",
   "execution_count": 20,
   "metadata": {},
   "outputs": [],
   "source": [
    "#Let's first connect to the web driver\n",
    "driver=webdriver.Chrome(\"chromedriver.exe\")"
   ]
  },
  {
   "cell_type": "code",
   "execution_count": 21,
   "metadata": {},
   "outputs": [],
   "source": [
    "#opening \"https://www.myntra.com/shoes\"\n",
    "url=\"https://www.myntra.com/shoes\"\n",
    "driver.get(url)"
   ]
  },
  {
   "cell_type": "code",
   "execution_count": 25,
   "metadata": {},
   "outputs": [],
   "source": [
    "#Clicking the color Filter using Xpath function\n",
    "color_btn=driver.find_element_by_xpath('//*[@id=\"mountRoot\"]/div/div[1]/main/div[3]/div[1]/section/div/div[6]/ul/li[1]/label')\n",
    "color_btn.click()"
   ]
  },
  {
   "cell_type": "code",
   "execution_count": 26,
   "metadata": {},
   "outputs": [],
   "source": [
    "#Clicking the Price Filter using Xpath function\n",
    "price_btn=driver.find_element_by_xpath('//*[@id=\"mountRoot\"]/div/div[1]/main/div[3]/div[1]/section/div/div[5]/ul/li[2]/label')\n",
    "price_btn.click()"
   ]
  },
  {
   "cell_type": "code",
   "execution_count": 27,
   "metadata": {},
   "outputs": [],
   "source": [
    "#Creating empty Lists so that we can store data in these lists while scraping first page\n",
    "Brand_list1=[]\n",
    "shoe_Description1=[]\n",
    "Price_list1=[]"
   ]
  },
  {
   "cell_type": "code",
   "execution_count": 28,
   "metadata": {},
   "outputs": [
    {
     "data": {
      "text/plain": [
       "['Nike',\n",
       " 'Nike',\n",
       " 'Nike',\n",
       " 'ALDO',\n",
       " 'Nike',\n",
       " 'Nike',\n",
       " 'Nike',\n",
       " 'ALDO',\n",
       " 'Nike',\n",
       " 'Puma',\n",
       " 'Nike',\n",
       " 'ASICS',\n",
       " 'UNDER ARMOUR',\n",
       " 'UNDER ARMOUR',\n",
       " 'UNDER ARMOUR',\n",
       " 'Puma',\n",
       " 'Puma',\n",
       " 'UNDER ARMOUR',\n",
       " 'Puma',\n",
       " 'UNDER ARMOUR',\n",
       " 'Puma',\n",
       " 'Puma',\n",
       " 'Hush Puppies',\n",
       " 'UNDER ARMOUR',\n",
       " 'UNDER ARMOUR',\n",
       " 'Puma',\n",
       " 'UNDER ARMOUR',\n",
       " 'FILA',\n",
       " 'UNDER ARMOUR',\n",
       " 'Nike',\n",
       " 'Nike',\n",
       " 'UNDER ARMOUR',\n",
       " 'Puma',\n",
       " 'Hush Puppies',\n",
       " 'UNDER ARMOUR',\n",
       " 'Skechers',\n",
       " 'Cole Haan',\n",
       " 'Ruosh',\n",
       " 'UNDER ARMOUR',\n",
       " 'Heel & Buckle London',\n",
       " 'UNDER ARMOUR',\n",
       " 'UNDER ARMOUR',\n",
       " 'Bugatti',\n",
       " 'UNDER ARMOUR',\n",
       " 'Saint G',\n",
       " 'Ruosh',\n",
       " 'ALDO',\n",
       " 'ASICS',\n",
       " 'Puma',\n",
       " 'ALDO']"
      ]
     },
     "execution_count": 28,
     "metadata": {},
     "output_type": "execute_result"
    }
   ],
   "source": [
    "#Extracting all the tags having Brand Information on 1st Page\n",
    "brand1=driver.find_elements_by_xpath(\"//h3[@class='product-brand']\")\n",
    "\n",
    "#extracting text inside brand tags of first page\n",
    "for i in brand1:\n",
    "    Brand_list1.append(i.text)\n",
    "Brand_list1"
   ]
  },
  {
   "cell_type": "code",
   "execution_count": 29,
   "metadata": {},
   "outputs": [
    {
     "data": {
      "text/plain": [
       "['Men JORDAN DELTA Basketball',\n",
       " 'Men REACT MILER Running Shoes',\n",
       " 'Men AIR ZOOM Running Shoes',\n",
       " 'Men Textured Sneakers',\n",
       " 'Men JOYRIDE Running Shoes',\n",
       " 'AIR ZOOM PEGASUS Running Shoes',\n",
       " 'Women REACT Running Shoes',\n",
       " 'Men Sneakers',\n",
       " 'Men KD13 EP Basketball Shoes',\n",
       " 'Women Provoke XT Training',\n",
       " 'Women PEGASUS 37 Running Shoes',\n",
       " 'Men Black Sports Shoes',\n",
       " 'Men HOVR Strt Walking Shoes',\n",
       " 'Men Liquify Running Shoes',\n",
       " 'HOVR Sonic 3 Running Shoes',\n",
       " 'Men SPEED 500 2 Running Shoes',\n",
       " 'Women Liberate Nitro Running',\n",
       " 'Charged Rogue 2 Wide 2E Shoes',\n",
       " 'Future Rider Twofold Sneakers',\n",
       " 'Charged Impulse Running Shoes',\n",
       " 'Men UltraRide Running Shoes',\n",
       " 'Women Eternity Nitro Running',\n",
       " 'Men Solid Leather Formal Slip-Ons',\n",
       " 'HOVR Infinite 2 Running Shoes',\n",
       " 'Men HOVR Guardian Shoes',\n",
       " 'Men Velocity Nitro Running',\n",
       " 'Women Liquify Rebel Running',\n",
       " 'Men Running Shoes',\n",
       " 'Women Charged Breathe TR 2',\n",
       " 'Men JORDAN DELTA Sneakers',\n",
       " 'Women AIR MAX VIVA Sneakers',\n",
       " 'Men Charged Will Sneakers',\n",
       " 'Men FUTURE Z 3.1Football Shoes',\n",
       " 'Men Formal Derbys',\n",
       " 'Women Charged Breathe OIL SLK',\n",
       " \"Women D'LITES 3.0 Sneakers\",\n",
       " 'Women Woven Design Sneakers',\n",
       " 'Men Solid Leather Formal Derbys',\n",
       " 'Women HOVR Rise 2 Training',\n",
       " 'Men Leather Formal Oxfords',\n",
       " 'Women TriBase Reign 2 Training',\n",
       " 'HOVR Sonic 3 Running Shoes',\n",
       " 'Women Mules',\n",
       " 'Men Liquify Running Shoes',\n",
       " 'Men Leather Chelsea Boots',\n",
       " 'Men Formal Brogues',\n",
       " 'Women Sneakers',\n",
       " 'Men Running Shoes',\n",
       " 'Unisex RS-X Pop Sneakers',\n",
       " 'Women Open Toe Flats']"
      ]
     },
     "execution_count": 29,
     "metadata": {},
     "output_type": "execute_result"
    }
   ],
   "source": [
    "#Extracting all the tags having shoe_Description on 1st page \n",
    "desc1=driver.find_elements_by_xpath(\"//h4[@class='product-product']\")\n",
    "\n",
    "#extracting text inside shoe_Description tags on 1st page\n",
    "for i in desc1:\n",
    "    shoe_Description1.append(i.text)\n",
    "shoe_Description1"
   ]
  },
  {
   "cell_type": "code",
   "execution_count": 30,
   "metadata": {},
   "outputs": [
    {
     "data": {
      "text/plain": [
       "['Rs. 12495',\n",
       " 'Rs. 8796Rs. 10995(20% OFF)',\n",
       " 'Rs. 7721Rs. 10295(25% OFF)',\n",
       " 'Rs. 7199Rs. 8999(20% OFF)',\n",
       " 'Rs. 11246Rs. 14995(25% OFF)',\n",
       " 'Rs. 11495',\n",
       " 'Rs. 8996Rs. 11995(25% OFF)',\n",
       " 'Rs. 9999',\n",
       " 'Rs. 12995',\n",
       " 'Rs. 7999',\n",
       " 'Rs. 7496Rs. 9995(25% OFF)',\n",
       " 'Rs. 6999Rs. 9999(30% OFF)',\n",
       " 'Rs. 9999',\n",
       " 'Rs. 10999',\n",
       " 'Rs. 10999',\n",
       " 'Rs. 6999Rs. 9999(30% OFF)',\n",
       " 'Rs. 7999Rs. 9999(20% OFF)',\n",
       " 'Rs. 7999',\n",
       " 'Rs. 6999',\n",
       " 'Rs. 7999',\n",
       " 'Rs. 7649Rs. 8999(15% OFF)',\n",
       " 'Rs. 12999',\n",
       " 'Rs. 8999',\n",
       " 'Rs. 11999',\n",
       " 'Rs. 10199Rs. 11999(15% OFF)',\n",
       " 'Rs. 10999',\n",
       " 'Rs. 8999',\n",
       " 'Rs. 8499',\n",
       " 'Rs. 7999',\n",
       " 'Rs. 10995',\n",
       " 'Rs. 12495',\n",
       " 'Rs. 7224Rs. 8499(15% OFF)',\n",
       " 'Rs. 7199Rs. 7999(10% OFF)',\n",
       " 'Rs. 9999',\n",
       " 'Rs. 8999',\n",
       " 'Rs. 6999',\n",
       " 'Rs. 6749Rs. 14999(55% OFF)',\n",
       " 'Rs. 8990',\n",
       " 'Rs. 9999',\n",
       " 'Rs. 7693Rs. 10990(30% OFF)',\n",
       " 'Rs. 11999',\n",
       " 'Rs. 10999',\n",
       " 'Rs. 7499',\n",
       " 'Rs. 10999',\n",
       " 'Rs. 11305Rs. 11900(5% OFF)',\n",
       " 'Rs. 6990',\n",
       " 'Rs. 11999',\n",
       " 'Rs. 6999Rs. 9999(30% OFF)',\n",
       " 'Rs. 8499Rs. 9999(15% OFF)',\n",
       " 'Rs. 8999']"
      ]
     },
     "execution_count": 30,
     "metadata": {},
     "output_type": "execute_result"
    }
   ],
   "source": [
    "#Extracting all the tags having Price info on 1st page\n",
    "price1=driver.find_elements_by_xpath(\"//div[@class='product-price']\")\n",
    "\n",
    "#extracting text inside Price tags on 1st page\n",
    "for i in price1:\n",
    "    Price_list1.append(i.text)\n",
    "Price_list1"
   ]
  },
  {
   "cell_type": "code",
   "execution_count": 31,
   "metadata": {},
   "outputs": [],
   "source": [
    "#After scraping data from the first page, Let's move to the Second Page by clicking “Next”\n",
    "second_page=driver.find_element_by_xpath(\"//li[@class='pagination-next']\")\n",
    "second_page.click()"
   ]
  },
  {
   "cell_type": "code",
   "execution_count": 32,
   "metadata": {},
   "outputs": [
    {
     "data": {
      "text/plain": [
       "['Nike',\n",
       " 'Nike',\n",
       " 'Nike',\n",
       " 'ALDO',\n",
       " 'Nike',\n",
       " 'Nike',\n",
       " 'Nike',\n",
       " 'ALDO',\n",
       " 'Nike',\n",
       " 'Puma',\n",
       " 'Nike',\n",
       " 'ASICS',\n",
       " 'UNDER ARMOUR',\n",
       " 'UNDER ARMOUR',\n",
       " 'UNDER ARMOUR',\n",
       " 'Puma',\n",
       " 'Puma',\n",
       " 'UNDER ARMOUR',\n",
       " 'Puma',\n",
       " 'UNDER ARMOUR',\n",
       " 'Puma',\n",
       " 'Puma',\n",
       " 'Hush Puppies',\n",
       " 'UNDER ARMOUR',\n",
       " 'UNDER ARMOUR',\n",
       " 'Puma',\n",
       " 'UNDER ARMOUR',\n",
       " 'FILA',\n",
       " 'UNDER ARMOUR',\n",
       " 'Nike',\n",
       " 'Nike',\n",
       " 'UNDER ARMOUR',\n",
       " 'Puma',\n",
       " 'Hush Puppies',\n",
       " 'UNDER ARMOUR',\n",
       " 'Skechers',\n",
       " 'Cole Haan',\n",
       " 'Ruosh',\n",
       " 'UNDER ARMOUR',\n",
       " 'Heel & Buckle London',\n",
       " 'UNDER ARMOUR',\n",
       " 'UNDER ARMOUR',\n",
       " 'Bugatti',\n",
       " 'UNDER ARMOUR',\n",
       " 'Saint G',\n",
       " 'Ruosh',\n",
       " 'ALDO',\n",
       " 'ASICS',\n",
       " 'Puma',\n",
       " 'ALDO',\n",
       " 'Hush Puppies',\n",
       " 'Saint G',\n",
       " 'Puma',\n",
       " 'UNDER ARMOUR',\n",
       " 'Reebok',\n",
       " 'Ruosh',\n",
       " 'Puma',\n",
       " 'Cole Haan',\n",
       " 'Cole Haan',\n",
       " 'Geox',\n",
       " 'Puma',\n",
       " 'Geox',\n",
       " 'Cole Haan',\n",
       " 'Reebok',\n",
       " 'VIONIC',\n",
       " 'Saint G',\n",
       " 'FILA',\n",
       " 'Heel & Buckle London',\n",
       " 'Saint G',\n",
       " 'Heel & Buckle London',\n",
       " 'Saint G',\n",
       " 'Hush Puppies',\n",
       " 'Kenneth Cole',\n",
       " 'Geox',\n",
       " 'Heel & Buckle London',\n",
       " 'ALDO',\n",
       " 'Nike',\n",
       " 'Ruosh',\n",
       " 'Nike',\n",
       " 'Geox',\n",
       " 'Geox',\n",
       " 'Geox',\n",
       " 'Cole Haan',\n",
       " 'Saint G',\n",
       " 'Bugatti',\n",
       " 'Nike',\n",
       " 'UNDER ARMOUR',\n",
       " 'Geox',\n",
       " 'FILA',\n",
       " 'Ruosh',\n",
       " 'Cole Haan',\n",
       " 'Heel & Buckle London',\n",
       " 'Reebok',\n",
       " 'Nike',\n",
       " 'Reebok',\n",
       " 'Ruosh',\n",
       " 'Cole Haan',\n",
       " 'Geox',\n",
       " 'Ruosh',\n",
       " 'Nike']"
      ]
     },
     "execution_count": 32,
     "metadata": {},
     "output_type": "execute_result"
    }
   ],
   "source": [
    "#Extracting all the tags having Brand Information on 2nd Page\n",
    "brand2=driver.find_elements_by_xpath(\"//h3[@class='product-brand']\")\n",
    "\n",
    "#extracting text inside brand tags of 2nd page\n",
    "for i in brand2:\n",
    "    Brand_list1.append(i.text)\n",
    "Brand_list1"
   ]
  },
  {
   "cell_type": "code",
   "execution_count": 33,
   "metadata": {},
   "outputs": [
    {
     "data": {
      "text/plain": [
       "['Men JORDAN DELTA Basketball',\n",
       " 'Men REACT MILER Running Shoes',\n",
       " 'Men AIR ZOOM Running Shoes',\n",
       " 'Men Textured Sneakers',\n",
       " 'Men JOYRIDE Running Shoes',\n",
       " 'AIR ZOOM PEGASUS Running Shoes',\n",
       " 'Women REACT Running Shoes',\n",
       " 'Men Sneakers',\n",
       " 'Men KD13 EP Basketball Shoes',\n",
       " 'Women Provoke XT Training',\n",
       " 'Women PEGASUS 37 Running Shoes',\n",
       " 'Men Black Sports Shoes',\n",
       " 'Men HOVR Strt Walking Shoes',\n",
       " 'Men Liquify Running Shoes',\n",
       " 'HOVR Sonic 3 Running Shoes',\n",
       " 'Men SPEED 500 2 Running Shoes',\n",
       " 'Women Liberate Nitro Running',\n",
       " 'Charged Rogue 2 Wide 2E Shoes',\n",
       " 'Future Rider Twofold Sneakers',\n",
       " 'Charged Impulse Running Shoes',\n",
       " 'Men UltraRide Running Shoes',\n",
       " 'Women Eternity Nitro Running',\n",
       " 'Men Solid Leather Formal Slip-Ons',\n",
       " 'HOVR Infinite 2 Running Shoes',\n",
       " 'Men HOVR Guardian Shoes',\n",
       " 'Men Velocity Nitro Running',\n",
       " 'Women Liquify Rebel Running',\n",
       " 'Men Running Shoes',\n",
       " 'Women Charged Breathe TR 2',\n",
       " 'Men JORDAN DELTA Sneakers',\n",
       " 'Women AIR MAX VIVA Sneakers',\n",
       " 'Men Charged Will Sneakers',\n",
       " 'Men FUTURE Z 3.1Football Shoes',\n",
       " 'Men Formal Derbys',\n",
       " 'Women Charged Breathe OIL SLK',\n",
       " \"Women D'LITES 3.0 Sneakers\",\n",
       " 'Women Woven Design Sneakers',\n",
       " 'Men Solid Leather Formal Derbys',\n",
       " 'Women HOVR Rise 2 Training',\n",
       " 'Men Leather Formal Oxfords',\n",
       " 'Women TriBase Reign 2 Training',\n",
       " 'HOVR Sonic 3 Running Shoes',\n",
       " 'Women Mules',\n",
       " 'Men Liquify Running Shoes',\n",
       " 'Men Leather Chelsea Boots',\n",
       " 'Men Formal Brogues',\n",
       " 'Women Sneakers',\n",
       " 'Men Running Shoes',\n",
       " 'Unisex RS-X Pop Sneakers',\n",
       " 'Women Open Toe Flats',\n",
       " 'Men Solid Leather Formal Derbys',\n",
       " 'Men Textured Leather Formal Loafers',\n",
       " 'Future Rider Twofold Sneakers',\n",
       " 'Unisex SC 3ZER0 IV Basketball',\n",
       " 'Forever Floatride Energy 2',\n",
       " 'Men Textured Leather Monks',\n",
       " 'Men Liberate Nitro Running',\n",
       " 'Men Traveller Leather Penny Loafers',\n",
       " 'Leather Sneakers',\n",
       " 'Men Leather Driving Shoes',\n",
       " 'Men Ignite Sock Plus Sneakers',\n",
       " 'Men Leather Driving Shoes',\n",
       " 'Men Wingtip Oxford Sneakers',\n",
       " 'Women Nanoflex Training Shoes',\n",
       " 'Men Textured Sneakers',\n",
       " 'Women Heeled Boots',\n",
       " 'Men Solid Sneakers',\n",
       " 'Women Solid Leather Heels',\n",
       " 'Leather Heeled Boots',\n",
       " 'Men Leather Sneakers',\n",
       " 'Women Leather Heeled Boots',\n",
       " 'Men Leather Formal Derbys',\n",
       " 'Women Solid Flat Boots',\n",
       " 'Women Leather Solid Pumps',\n",
       " 'Women Leather Pumps',\n",
       " 'Women Black Sneakers',\n",
       " 'Men AIR ZOOM PEGASUS 38 Run',\n",
       " 'Men Colourblocked Oxfords',\n",
       " 'Men REACT INFINITY RUN Shoes',\n",
       " 'Women Leather Boat Shoes',\n",
       " 'Men Leather Formal Derbys',\n",
       " 'Men Leather Formal Oxfords',\n",
       " 'Women Leather Sneakers',\n",
       " 'Women Leather Heeled Boots',\n",
       " 'Women Black Sneakers',\n",
       " 'Men AIR ZOOM PEGASUS 38 Run',\n",
       " 'Men Charged Bandit 6 Running',\n",
       " 'Women Solid Flatforms',\n",
       " 'Women Solid Sneakers',\n",
       " 'Men Formal Leather Brogues',\n",
       " 'Women Sandals',\n",
       " 'Women Solid Leather Gladiators',\n",
       " 'Unisex Zig Kinetica II Running',\n",
       " 'Women AIR MAX VIVA Sneakers',\n",
       " 'Men Nano X1 Training Shoes',\n",
       " 'Men Solid Leather Formal Monks',\n",
       " 'Men GENERATION ZEROGRAND STITCHLITE',\n",
       " 'Men Leather Formal Slip-Ons',\n",
       " 'Men Leather Formal Brogues',\n",
       " 'Men REACT MILER 2 Running']"
      ]
     },
     "execution_count": 33,
     "metadata": {},
     "output_type": "execute_result"
    }
   ],
   "source": [
    "#Extracting all the tags having shoe_Description on 2nd page \n",
    "desc2=driver.find_elements_by_xpath(\"//h4[@class='product-product']\")\n",
    "\n",
    "#extracting text inside shoe_Description tags on 2nd page\n",
    "for i in desc2:\n",
    "    shoe_Description1.append(i.text)\n",
    "shoe_Description1"
   ]
  },
  {
   "cell_type": "code",
   "execution_count": 34,
   "metadata": {},
   "outputs": [
    {
     "data": {
      "text/plain": [
       "['Rs. 12495',\n",
       " 'Rs. 8796Rs. 10995(20% OFF)',\n",
       " 'Rs. 7721Rs. 10295(25% OFF)',\n",
       " 'Rs. 7199Rs. 8999(20% OFF)',\n",
       " 'Rs. 11246Rs. 14995(25% OFF)',\n",
       " 'Rs. 11495',\n",
       " 'Rs. 8996Rs. 11995(25% OFF)',\n",
       " 'Rs. 9999',\n",
       " 'Rs. 12995',\n",
       " 'Rs. 7999',\n",
       " 'Rs. 7496Rs. 9995(25% OFF)',\n",
       " 'Rs. 6999Rs. 9999(30% OFF)',\n",
       " 'Rs. 9999',\n",
       " 'Rs. 10999',\n",
       " 'Rs. 10999',\n",
       " 'Rs. 6999Rs. 9999(30% OFF)',\n",
       " 'Rs. 7999Rs. 9999(20% OFF)',\n",
       " 'Rs. 7999',\n",
       " 'Rs. 6999',\n",
       " 'Rs. 7999',\n",
       " 'Rs. 7649Rs. 8999(15% OFF)',\n",
       " 'Rs. 12999',\n",
       " 'Rs. 8999',\n",
       " 'Rs. 11999',\n",
       " 'Rs. 10199Rs. 11999(15% OFF)',\n",
       " 'Rs. 10999',\n",
       " 'Rs. 8999',\n",
       " 'Rs. 8499',\n",
       " 'Rs. 7999',\n",
       " 'Rs. 10995',\n",
       " 'Rs. 12495',\n",
       " 'Rs. 7224Rs. 8499(15% OFF)',\n",
       " 'Rs. 7199Rs. 7999(10% OFF)',\n",
       " 'Rs. 9999',\n",
       " 'Rs. 8999',\n",
       " 'Rs. 6999',\n",
       " 'Rs. 6749Rs. 14999(55% OFF)',\n",
       " 'Rs. 8990',\n",
       " 'Rs. 9999',\n",
       " 'Rs. 7693Rs. 10990(30% OFF)',\n",
       " 'Rs. 11999',\n",
       " 'Rs. 10999',\n",
       " 'Rs. 7499',\n",
       " 'Rs. 10999',\n",
       " 'Rs. 11305Rs. 11900(5% OFF)',\n",
       " 'Rs. 6990',\n",
       " 'Rs. 11999',\n",
       " 'Rs. 6999Rs. 9999(30% OFF)',\n",
       " 'Rs. 8499Rs. 9999(15% OFF)',\n",
       " 'Rs. 8999',\n",
       " 'Rs. 9999',\n",
       " 'Rs. 9975Rs. 10500(5% OFF)',\n",
       " 'Rs. 6999',\n",
       " 'Rs. 8999',\n",
       " 'Rs. 9999',\n",
       " 'Rs. 6990',\n",
       " 'Rs. 9999',\n",
       " 'Rs. 9999Rs. 19999(50% OFF)',\n",
       " 'Rs. 10999',\n",
       " 'Rs. 9499',\n",
       " 'Rs. 6749Rs. 8999(25% OFF)',\n",
       " 'Rs. 7499Rs. 9999(25% OFF)',\n",
       " 'Rs. 12999',\n",
       " 'Rs. 7599',\n",
       " 'Rs. 7039Rs. 10999(36% OFF)',\n",
       " 'Rs. 7440Rs. 8000(7% OFF)',\n",
       " 'Rs. 7499',\n",
       " 'Rs. 6993Rs. 9990(30% OFF)',\n",
       " 'Rs. 11800',\n",
       " 'Rs. 6993Rs. 9990(30% OFF)',\n",
       " 'Rs. 9900',\n",
       " 'Rs. 6999',\n",
       " 'Rs. 9513Rs. 13590(30% OFF)',\n",
       " 'Rs. 8992Rs. 11990(25% OFF)',\n",
       " 'Rs. 7192Rs. 8990(20% OFF)',\n",
       " 'Rs. 8999',\n",
       " 'Rs. 8995Rs. 9995(10% OFF)',\n",
       " 'Rs. 6990',\n",
       " 'Rs. 12320Rs. 14495(15% OFF)',\n",
       " 'Rs. 8990',\n",
       " 'Rs. 11490',\n",
       " 'Rs. 7867Rs. 10490(25% OFF)',\n",
       " 'Rs. 10999',\n",
       " 'Rs. 6675Rs. 8900(25% OFF)',\n",
       " 'Rs. 7999',\n",
       " 'Rs. 8995Rs. 9995(10% OFF)',\n",
       " 'Rs. 7649Rs. 8999(15% OFF)',\n",
       " 'Rs. 6749Rs. 8999(25% OFF)',\n",
       " 'Rs. 6999',\n",
       " 'Rs. 7490',\n",
       " 'Rs. 6749Rs. 14999(55% OFF)',\n",
       " 'Rs. 6993Rs. 9990(30% OFF)',\n",
       " 'Rs. 9999',\n",
       " 'Rs. 12495',\n",
       " 'Rs. 7499Rs. 9999(25% OFF)',\n",
       " 'Rs. 6990',\n",
       " 'Rs. 11999',\n",
       " 'Rs. 11242Rs. 14990(25% OFF)',\n",
       " 'Rs. 6990',\n",
       " 'Rs. 9770Rs. 11495(15% OFF)']"
      ]
     },
     "execution_count": 34,
     "metadata": {},
     "output_type": "execute_result"
    }
   ],
   "source": [
    "#Extracting all the tags having Price info on 2nd page\n",
    "price2=driver.find_elements_by_xpath(\"//div[@class='product-price']\")\n",
    "\n",
    "#extracting text inside Price tags on 2nd page\n",
    "for i in price2:\n",
    "    Price_list1.append(i.text)\n",
    "Price_list1"
   ]
  },
  {
   "cell_type": "code",
   "execution_count": 35,
   "metadata": {},
   "outputs": [],
   "source": [
    "#After scraping data from the 2nd page, Let's move to the 3rd Page by clicking “Next”\n",
    "third_page=driver.find_element_by_xpath(\"//li[@class='pagination-next']\")\n",
    "third_page.click()"
   ]
  },
  {
   "cell_type": "code",
   "execution_count": 36,
   "metadata": {},
   "outputs": [
    {
     "data": {
      "text/plain": [
       "['Nike',\n",
       " 'Nike',\n",
       " 'Nike',\n",
       " 'ALDO',\n",
       " 'Nike',\n",
       " 'Nike',\n",
       " 'Nike',\n",
       " 'ALDO',\n",
       " 'Nike',\n",
       " 'Puma',\n",
       " 'Nike',\n",
       " 'ASICS',\n",
       " 'UNDER ARMOUR',\n",
       " 'UNDER ARMOUR',\n",
       " 'UNDER ARMOUR',\n",
       " 'Puma',\n",
       " 'Puma',\n",
       " 'UNDER ARMOUR',\n",
       " 'Puma',\n",
       " 'UNDER ARMOUR',\n",
       " 'Puma',\n",
       " 'Puma',\n",
       " 'Hush Puppies',\n",
       " 'UNDER ARMOUR',\n",
       " 'UNDER ARMOUR',\n",
       " 'Puma',\n",
       " 'UNDER ARMOUR',\n",
       " 'FILA',\n",
       " 'UNDER ARMOUR',\n",
       " 'Nike',\n",
       " 'Nike',\n",
       " 'UNDER ARMOUR',\n",
       " 'Puma',\n",
       " 'Hush Puppies',\n",
       " 'UNDER ARMOUR',\n",
       " 'Skechers',\n",
       " 'Cole Haan',\n",
       " 'Ruosh',\n",
       " 'UNDER ARMOUR',\n",
       " 'Heel & Buckle London',\n",
       " 'UNDER ARMOUR',\n",
       " 'UNDER ARMOUR',\n",
       " 'Bugatti',\n",
       " 'UNDER ARMOUR',\n",
       " 'Saint G',\n",
       " 'Ruosh',\n",
       " 'ALDO',\n",
       " 'ASICS',\n",
       " 'Puma',\n",
       " 'ALDO',\n",
       " 'Hush Puppies',\n",
       " 'Saint G',\n",
       " 'Puma',\n",
       " 'UNDER ARMOUR',\n",
       " 'Reebok',\n",
       " 'Ruosh',\n",
       " 'Puma',\n",
       " 'Cole Haan',\n",
       " 'Cole Haan',\n",
       " 'Geox',\n",
       " 'Puma',\n",
       " 'Geox',\n",
       " 'Cole Haan',\n",
       " 'Reebok',\n",
       " 'VIONIC',\n",
       " 'Saint G',\n",
       " 'FILA',\n",
       " 'Heel & Buckle London',\n",
       " 'Saint G',\n",
       " 'Heel & Buckle London',\n",
       " 'Saint G',\n",
       " 'Hush Puppies',\n",
       " 'Kenneth Cole',\n",
       " 'Geox',\n",
       " 'Heel & Buckle London',\n",
       " 'ALDO',\n",
       " 'Nike',\n",
       " 'Ruosh',\n",
       " 'Nike',\n",
       " 'Geox',\n",
       " 'Geox',\n",
       " 'Geox',\n",
       " 'Cole Haan',\n",
       " 'Saint G',\n",
       " 'Bugatti',\n",
       " 'Nike',\n",
       " 'UNDER ARMOUR',\n",
       " 'Geox',\n",
       " 'FILA',\n",
       " 'Ruosh',\n",
       " 'Cole Haan',\n",
       " 'Heel & Buckle London',\n",
       " 'Reebok',\n",
       " 'Nike',\n",
       " 'Reebok',\n",
       " 'Ruosh',\n",
       " 'Cole Haan',\n",
       " 'Geox',\n",
       " 'Ruosh',\n",
       " 'Nike',\n",
       " 'Heel & Buckle London',\n",
       " 'UNDER ARMOUR',\n",
       " 'Florsheim',\n",
       " 'Nike',\n",
       " 'ADIDAS',\n",
       " 'Ruosh',\n",
       " 'PUMA Motorsport',\n",
       " 'Cole Haan',\n",
       " 'UNDER ARMOUR',\n",
       " 'UNDER ARMOUR',\n",
       " 'Nike',\n",
       " 'UNDER ARMOUR',\n",
       " 'Bugatti',\n",
       " 'Cole Haan',\n",
       " 'Puma',\n",
       " 'UNDER ARMOUR',\n",
       " 'PUMA Motorsport',\n",
       " 'Hush Puppies',\n",
       " 'Nike',\n",
       " 'Ruosh',\n",
       " 'Puma',\n",
       " 'ALDO',\n",
       " 'PUMA Motorsport',\n",
       " 'ASICS',\n",
       " 'ADIDAS',\n",
       " 'ROSSO BRUNELLO',\n",
       " 'ROSSO BRUNELLO',\n",
       " 'DAVINCHI',\n",
       " 'Puma',\n",
       " 'Nike',\n",
       " 'Nike',\n",
       " 'Onitsuka Tiger',\n",
       " 'ADIDAS',\n",
       " 'Saint G',\n",
       " 'Puma',\n",
       " 'ALDO',\n",
       " 'ALDO',\n",
       " 'ROSSO BRUNELLO',\n",
       " 'ROSSO BRUNELLO',\n",
       " 'ALDO',\n",
       " 'ALDO',\n",
       " 'UNDER ARMOUR',\n",
       " 'ALDO',\n",
       " 'ALDO',\n",
       " 'Puma',\n",
       " 'ALDO',\n",
       " 'Geox',\n",
       " 'UNDER ARMOUR',\n",
       " 'Heel & Buckle London',\n",
       " 'Geox']"
      ]
     },
     "execution_count": 36,
     "metadata": {},
     "output_type": "execute_result"
    }
   ],
   "source": [
    "#Extracting all the tags having Brand Information on 3rd Page\n",
    "brand3=driver.find_elements_by_xpath(\"//h3[@class='product-brand']\")\n",
    "\n",
    "#extracting text inside brand tags of 3rd page\n",
    "for i in brand3:\n",
    "    Brand_list1.append(i.text)\n",
    "Brand_list1"
   ]
  },
  {
   "cell_type": "code",
   "execution_count": 37,
   "metadata": {},
   "outputs": [
    {
     "data": {
      "text/plain": [
       "['Men JORDAN DELTA Basketball',\n",
       " 'Men REACT MILER Running Shoes',\n",
       " 'Men AIR ZOOM Running Shoes',\n",
       " 'Men Textured Sneakers',\n",
       " 'Men JOYRIDE Running Shoes',\n",
       " 'AIR ZOOM PEGASUS Running Shoes',\n",
       " 'Women REACT Running Shoes',\n",
       " 'Men Sneakers',\n",
       " 'Men KD13 EP Basketball Shoes',\n",
       " 'Women Provoke XT Training',\n",
       " 'Women PEGASUS 37 Running Shoes',\n",
       " 'Men Black Sports Shoes',\n",
       " 'Men HOVR Strt Walking Shoes',\n",
       " 'Men Liquify Running Shoes',\n",
       " 'HOVR Sonic 3 Running Shoes',\n",
       " 'Men SPEED 500 2 Running Shoes',\n",
       " 'Women Liberate Nitro Running',\n",
       " 'Charged Rogue 2 Wide 2E Shoes',\n",
       " 'Future Rider Twofold Sneakers',\n",
       " 'Charged Impulse Running Shoes',\n",
       " 'Men UltraRide Running Shoes',\n",
       " 'Women Eternity Nitro Running',\n",
       " 'Men Solid Leather Formal Slip-Ons',\n",
       " 'HOVR Infinite 2 Running Shoes',\n",
       " 'Men HOVR Guardian Shoes',\n",
       " 'Men Velocity Nitro Running',\n",
       " 'Women Liquify Rebel Running',\n",
       " 'Men Running Shoes',\n",
       " 'Women Charged Breathe TR 2',\n",
       " 'Men JORDAN DELTA Sneakers',\n",
       " 'Women AIR MAX VIVA Sneakers',\n",
       " 'Men Charged Will Sneakers',\n",
       " 'Men FUTURE Z 3.1Football Shoes',\n",
       " 'Men Formal Derbys',\n",
       " 'Women Charged Breathe OIL SLK',\n",
       " \"Women D'LITES 3.0 Sneakers\",\n",
       " 'Women Woven Design Sneakers',\n",
       " 'Men Solid Leather Formal Derbys',\n",
       " 'Women HOVR Rise 2 Training',\n",
       " 'Men Leather Formal Oxfords',\n",
       " 'Women TriBase Reign 2 Training',\n",
       " 'HOVR Sonic 3 Running Shoes',\n",
       " 'Women Mules',\n",
       " 'Men Liquify Running Shoes',\n",
       " 'Men Leather Chelsea Boots',\n",
       " 'Men Formal Brogues',\n",
       " 'Women Sneakers',\n",
       " 'Men Running Shoes',\n",
       " 'Unisex RS-X Pop Sneakers',\n",
       " 'Women Open Toe Flats',\n",
       " 'Men Solid Leather Formal Derbys',\n",
       " 'Men Textured Leather Formal Loafers',\n",
       " 'Future Rider Twofold Sneakers',\n",
       " 'Unisex SC 3ZER0 IV Basketball',\n",
       " 'Forever Floatride Energy 2',\n",
       " 'Men Textured Leather Monks',\n",
       " 'Men Liberate Nitro Running',\n",
       " 'Men Traveller Leather Penny Loafers',\n",
       " 'Leather Sneakers',\n",
       " 'Men Leather Driving Shoes',\n",
       " 'Men Ignite Sock Plus Sneakers',\n",
       " 'Men Leather Driving Shoes',\n",
       " 'Men Wingtip Oxford Sneakers',\n",
       " 'Women Nanoflex Training Shoes',\n",
       " 'Men Textured Sneakers',\n",
       " 'Women Heeled Boots',\n",
       " 'Men Solid Sneakers',\n",
       " 'Women Solid Leather Heels',\n",
       " 'Leather Heeled Boots',\n",
       " 'Men Leather Sneakers',\n",
       " 'Women Leather Heeled Boots',\n",
       " 'Men Leather Formal Derbys',\n",
       " 'Women Solid Flat Boots',\n",
       " 'Women Leather Solid Pumps',\n",
       " 'Women Leather Pumps',\n",
       " 'Women Black Sneakers',\n",
       " 'Men AIR ZOOM PEGASUS 38 Run',\n",
       " 'Men Colourblocked Oxfords',\n",
       " 'Men REACT INFINITY RUN Shoes',\n",
       " 'Women Leather Boat Shoes',\n",
       " 'Men Leather Formal Derbys',\n",
       " 'Men Leather Formal Oxfords',\n",
       " 'Women Leather Sneakers',\n",
       " 'Women Leather Heeled Boots',\n",
       " 'Women Black Sneakers',\n",
       " 'Men AIR ZOOM PEGASUS 38 Run',\n",
       " 'Men Charged Bandit 6 Running',\n",
       " 'Women Solid Flatforms',\n",
       " 'Women Solid Sneakers',\n",
       " 'Men Formal Leather Brogues',\n",
       " 'Women Sandals',\n",
       " 'Women Solid Leather Gladiators',\n",
       " 'Unisex Zig Kinetica II Running',\n",
       " 'Women AIR MAX VIVA Sneakers',\n",
       " 'Men Nano X1 Training Shoes',\n",
       " 'Men Solid Leather Formal Monks',\n",
       " 'Men GENERATION ZEROGRAND STITCHLITE',\n",
       " 'Men Leather Formal Slip-Ons',\n",
       " 'Men Leather Formal Brogues',\n",
       " 'Men REACT MILER 2 Running',\n",
       " 'Women Peep Toe Heels',\n",
       " 'Charged RC Sportstyle Sneakers',\n",
       " 'Men Solid Leather Formal Derbys',\n",
       " 'Unisex Basketball Shoes',\n",
       " 'Men Supernova Running Shoes',\n",
       " 'Men Solid Leather Formal Slip-Ons',\n",
       " 'Ferrari Race 2.0 Sneakers',\n",
       " 'Women Open Toe Flats',\n",
       " 'Charged Intake 4 Running Shoes',\n",
       " 'Men HOVR Rise 2 Training Shoes',\n",
       " 'Men PG 5 EP Basketball Shoes',\n",
       " 'Men Charged Impulse Running',\n",
       " 'Women Mid-Top Sneakers',\n",
       " 'Women Solid Leather Ballerinas',\n",
       " 'Men UltraRide Running Shoes',\n",
       " 'Charged Pursuit 2 Running',\n",
       " 'Men Ferrari Race Kart Sneakers',\n",
       " 'Men Leather Formal Derbys',\n",
       " 'Men REACT MILER 2 Running',\n",
       " 'Men Solid Leather Formal Monks',\n",
       " 'Calibrate Restored Sneakers',\n",
       " 'Men Solid Loafers',\n",
       " 'Men Ferrari Race Sneakers',\n",
       " 'Men EvoRide TOKYO Shoes',\n",
       " 'Men Supernova Running Shoes',\n",
       " 'Men Solid Leather Formal Loafers',\n",
       " 'Men Solid Leather Formal Slip-Ons',\n",
       " 'Men Textured Formal Leather Loafers',\n",
       " 'Unisex RS-Fast Sneakers',\n",
       " 'Men REACT MILER PRM Running',\n",
       " 'Unisex TREY 5 Basketball Shoes',\n",
       " 'Unisex Solid Sneakers',\n",
       " 'Men Supernova Running Shoes',\n",
       " 'Women Textured Leather Heels',\n",
       " 'Men ONE 1 IL Football Shoes',\n",
       " 'Men Leather Driving Shoes',\n",
       " 'Men Solid Loafers',\n",
       " 'Men Solid Leather Formal Loafers',\n",
       " 'Men Solid Monk Shoes',\n",
       " 'Women Woven Design Pumps',\n",
       " 'Men Solid Driving Shoes',\n",
       " 'Men Charged Engage Training',\n",
       " 'Women Sandals',\n",
       " 'Men Sneakers',\n",
       " 'Men Speed 300 Ignite 2 Running',\n",
       " 'Men Solid Leather Formal Derbys',\n",
       " 'Men Leather Formal Monks',\n",
       " 'Women Charged Rogue 2 Running',\n",
       " 'Men Solid Leather Formal Monk Shoes',\n",
       " 'Men Leather Formal Oxfords']"
      ]
     },
     "execution_count": 37,
     "metadata": {},
     "output_type": "execute_result"
    }
   ],
   "source": [
    "#Extracting all the tags having shoe_Description on 3rd page \n",
    "desc3=driver.find_elements_by_xpath(\"//h4[@class='product-product']\")\n",
    "\n",
    "#extracting text inside shoe_Description tags on 3rd page\n",
    "for i in desc3:\n",
    "    shoe_Description1.append(i.text)\n",
    "shoe_Description1"
   ]
  },
  {
   "cell_type": "code",
   "execution_count": 38,
   "metadata": {},
   "outputs": [
    {
     "data": {
      "text/plain": [
       "['Rs. 12495',\n",
       " 'Rs. 8796Rs. 10995(20% OFF)',\n",
       " 'Rs. 7721Rs. 10295(25% OFF)',\n",
       " 'Rs. 7199Rs. 8999(20% OFF)',\n",
       " 'Rs. 11246Rs. 14995(25% OFF)',\n",
       " 'Rs. 11495',\n",
       " 'Rs. 8996Rs. 11995(25% OFF)',\n",
       " 'Rs. 9999',\n",
       " 'Rs. 12995',\n",
       " 'Rs. 7999',\n",
       " 'Rs. 7496Rs. 9995(25% OFF)',\n",
       " 'Rs. 6999Rs. 9999(30% OFF)',\n",
       " 'Rs. 9999',\n",
       " 'Rs. 10999',\n",
       " 'Rs. 10999',\n",
       " 'Rs. 6999Rs. 9999(30% OFF)',\n",
       " 'Rs. 7999Rs. 9999(20% OFF)',\n",
       " 'Rs. 7999',\n",
       " 'Rs. 6999',\n",
       " 'Rs. 7999',\n",
       " 'Rs. 7649Rs. 8999(15% OFF)',\n",
       " 'Rs. 12999',\n",
       " 'Rs. 8999',\n",
       " 'Rs. 11999',\n",
       " 'Rs. 10199Rs. 11999(15% OFF)',\n",
       " 'Rs. 10999',\n",
       " 'Rs. 8999',\n",
       " 'Rs. 8499',\n",
       " 'Rs. 7999',\n",
       " 'Rs. 10995',\n",
       " 'Rs. 12495',\n",
       " 'Rs. 7224Rs. 8499(15% OFF)',\n",
       " 'Rs. 7199Rs. 7999(10% OFF)',\n",
       " 'Rs. 9999',\n",
       " 'Rs. 8999',\n",
       " 'Rs. 6999',\n",
       " 'Rs. 6749Rs. 14999(55% OFF)',\n",
       " 'Rs. 8990',\n",
       " 'Rs. 9999',\n",
       " 'Rs. 7693Rs. 10990(30% OFF)',\n",
       " 'Rs. 11999',\n",
       " 'Rs. 10999',\n",
       " 'Rs. 7499',\n",
       " 'Rs. 10999',\n",
       " 'Rs. 11305Rs. 11900(5% OFF)',\n",
       " 'Rs. 6990',\n",
       " 'Rs. 11999',\n",
       " 'Rs. 6999Rs. 9999(30% OFF)',\n",
       " 'Rs. 8499Rs. 9999(15% OFF)',\n",
       " 'Rs. 8999',\n",
       " 'Rs. 9999',\n",
       " 'Rs. 9975Rs. 10500(5% OFF)',\n",
       " 'Rs. 6999',\n",
       " 'Rs. 8999',\n",
       " 'Rs. 9999',\n",
       " 'Rs. 6990',\n",
       " 'Rs. 9999',\n",
       " 'Rs. 9999Rs. 19999(50% OFF)',\n",
       " 'Rs. 10999',\n",
       " 'Rs. 9499',\n",
       " 'Rs. 6749Rs. 8999(25% OFF)',\n",
       " 'Rs. 7499Rs. 9999(25% OFF)',\n",
       " 'Rs. 12999',\n",
       " 'Rs. 7599',\n",
       " 'Rs. 7039Rs. 10999(36% OFF)',\n",
       " 'Rs. 7440Rs. 8000(7% OFF)',\n",
       " 'Rs. 7499',\n",
       " 'Rs. 6993Rs. 9990(30% OFF)',\n",
       " 'Rs. 11800',\n",
       " 'Rs. 6993Rs. 9990(30% OFF)',\n",
       " 'Rs. 9900',\n",
       " 'Rs. 6999',\n",
       " 'Rs. 9513Rs. 13590(30% OFF)',\n",
       " 'Rs. 8992Rs. 11990(25% OFF)',\n",
       " 'Rs. 7192Rs. 8990(20% OFF)',\n",
       " 'Rs. 8999',\n",
       " 'Rs. 8995Rs. 9995(10% OFF)',\n",
       " 'Rs. 6990',\n",
       " 'Rs. 12320Rs. 14495(15% OFF)',\n",
       " 'Rs. 8990',\n",
       " 'Rs. 11490',\n",
       " 'Rs. 7867Rs. 10490(25% OFF)',\n",
       " 'Rs. 10999',\n",
       " 'Rs. 6675Rs. 8900(25% OFF)',\n",
       " 'Rs. 7999',\n",
       " 'Rs. 8995Rs. 9995(10% OFF)',\n",
       " 'Rs. 7649Rs. 8999(15% OFF)',\n",
       " 'Rs. 6749Rs. 8999(25% OFF)',\n",
       " 'Rs. 6999',\n",
       " 'Rs. 7490',\n",
       " 'Rs. 6749Rs. 14999(55% OFF)',\n",
       " 'Rs. 6993Rs. 9990(30% OFF)',\n",
       " 'Rs. 9999',\n",
       " 'Rs. 12495',\n",
       " 'Rs. 7499Rs. 9999(25% OFF)',\n",
       " 'Rs. 6990',\n",
       " 'Rs. 11999',\n",
       " 'Rs. 11242Rs. 14990(25% OFF)',\n",
       " 'Rs. 6990',\n",
       " 'Rs. 9770Rs. 11495(15% OFF)',\n",
       " 'Rs. 7192Rs. 8990(20% OFF)',\n",
       " 'Rs. 8999',\n",
       " 'Rs. 6995',\n",
       " 'Rs. 6965Rs. 8195(15% OFF)',\n",
       " 'Rs. 7999Rs. 9999(20% OFF)',\n",
       " 'Rs. 6990',\n",
       " 'Rs. 9999',\n",
       " 'Rs. 8999Rs. 11999(25% OFF)',\n",
       " 'Rs. 9999',\n",
       " 'Rs. 9999',\n",
       " 'Rs. 7900Rs. 9295(15% OFF)',\n",
       " 'Rs. 7999',\n",
       " 'Rs. 7499',\n",
       " 'Rs. 10499Rs. 13999(25% OFF)',\n",
       " 'Rs. 6929Rs. 8999(23% OFF)',\n",
       " 'Rs. 6999',\n",
       " 'Rs. 9999',\n",
       " 'Rs. 6999',\n",
       " 'Rs. 9770Rs. 11495(15% OFF)',\n",
       " 'Rs. 6990',\n",
       " 'Rs. 11999',\n",
       " 'Rs. 11199Rs. 15999(30% OFF)',\n",
       " 'Rs. 7999',\n",
       " 'Rs. 7999Rs. 9999(20% OFF)',\n",
       " 'Rs. 7999Rs. 9999(20% OFF)',\n",
       " 'Rs. 10799Rs. 11999(10% OFF)',\n",
       " 'Rs. 10799Rs. 11999(10% OFF)',\n",
       " 'Rs. 8091Rs. 8990(10% OFF)',\n",
       " 'Rs. 9999',\n",
       " 'Rs. 9996Rs. 12495(20% OFF)',\n",
       " 'Rs. 6965Rs. 8195(15% OFF)',\n",
       " 'Rs. 10999',\n",
       " 'Rs. 7999Rs. 9999(20% OFF)',\n",
       " 'Rs. 7110Rs. 7900(10% OFF)',\n",
       " 'Rs. 11549Rs. 14999(23% OFF)',\n",
       " 'Rs. 11999',\n",
       " 'Rs. 10999',\n",
       " 'Rs. 10799Rs. 11999(10% OFF)',\n",
       " 'Rs. 10349Rs. 11499(10% OFF)',\n",
       " 'Rs. 7799Rs. 12999(40% OFF)',\n",
       " 'Rs. 7799Rs. 12999(40% OFF)',\n",
       " 'Rs. 6999',\n",
       " 'Rs. 7999',\n",
       " 'Rs. 9999',\n",
       " 'Rs. 7199Rs. 8999(20% OFF)',\n",
       " 'Rs. 9099Rs. 12999(30% OFF)',\n",
       " 'Rs. 11999Rs. 15999(25% OFF)',\n",
       " 'Rs. 7999',\n",
       " 'Rs. 7400Rs. 14800(50% OFF)',\n",
       " 'Rs. 9367Rs. 12490(25% OFF)']"
      ]
     },
     "execution_count": 38,
     "metadata": {},
     "output_type": "execute_result"
    }
   ],
   "source": [
    "#Extracting all the tags having Price info on 3rd page\n",
    "price3=driver.find_elements_by_xpath(\"//div[@class='product-price']\")\n",
    "\n",
    "#extracting text inside Price tags on 3rd page\n",
    "for i in price3:\n",
    "    Price_list1.append(i.text)\n",
    "Price_list1"
   ]
  },
  {
   "cell_type": "code",
   "execution_count": 39,
   "metadata": {},
   "outputs": [
    {
     "data": {
      "text/html": [
       "<div>\n",
       "<style scoped>\n",
       "    .dataframe tbody tr th:only-of-type {\n",
       "        vertical-align: middle;\n",
       "    }\n",
       "\n",
       "    .dataframe tbody tr th {\n",
       "        vertical-align: top;\n",
       "    }\n",
       "\n",
       "    .dataframe thead th {\n",
       "        text-align: right;\n",
       "    }\n",
       "</style>\n",
       "<table border=\"1\" class=\"dataframe\">\n",
       "  <thead>\n",
       "    <tr style=\"text-align: right;\">\n",
       "      <th></th>\n",
       "      <th>Brand</th>\n",
       "      <th>Short Shoe description</th>\n",
       "      <th>Price</th>\n",
       "    </tr>\n",
       "  </thead>\n",
       "  <tbody>\n",
       "    <tr>\n",
       "      <th>0</th>\n",
       "      <td>Nike</td>\n",
       "      <td>Men JORDAN DELTA Basketball</td>\n",
       "      <td>Rs. 12495</td>\n",
       "    </tr>\n",
       "    <tr>\n",
       "      <th>1</th>\n",
       "      <td>Nike</td>\n",
       "      <td>Men REACT MILER Running Shoes</td>\n",
       "      <td>Rs. 8796Rs. 10995(20% OFF)</td>\n",
       "    </tr>\n",
       "    <tr>\n",
       "      <th>2</th>\n",
       "      <td>Nike</td>\n",
       "      <td>Men AIR ZOOM Running Shoes</td>\n",
       "      <td>Rs. 7721Rs. 10295(25% OFF)</td>\n",
       "    </tr>\n",
       "    <tr>\n",
       "      <th>3</th>\n",
       "      <td>ALDO</td>\n",
       "      <td>Men Textured Sneakers</td>\n",
       "      <td>Rs. 7199Rs. 8999(20% OFF)</td>\n",
       "    </tr>\n",
       "    <tr>\n",
       "      <th>4</th>\n",
       "      <td>Nike</td>\n",
       "      <td>Men JOYRIDE Running Shoes</td>\n",
       "      <td>Rs. 11246Rs. 14995(25% OFF)</td>\n",
       "    </tr>\n",
       "    <tr>\n",
       "      <th>...</th>\n",
       "      <td>...</td>\n",
       "      <td>...</td>\n",
       "      <td>...</td>\n",
       "    </tr>\n",
       "    <tr>\n",
       "      <th>95</th>\n",
       "      <td>Ruosh</td>\n",
       "      <td>Men Solid Leather Formal Monks</td>\n",
       "      <td>Rs. 6990</td>\n",
       "    </tr>\n",
       "    <tr>\n",
       "      <th>96</th>\n",
       "      <td>Cole Haan</td>\n",
       "      <td>Men GENERATION ZEROGRAND STITCHLITE</td>\n",
       "      <td>Rs. 11999</td>\n",
       "    </tr>\n",
       "    <tr>\n",
       "      <th>97</th>\n",
       "      <td>Geox</td>\n",
       "      <td>Men Leather Formal Slip-Ons</td>\n",
       "      <td>Rs. 11242Rs. 14990(25% OFF)</td>\n",
       "    </tr>\n",
       "    <tr>\n",
       "      <th>98</th>\n",
       "      <td>Ruosh</td>\n",
       "      <td>Men Leather Formal Brogues</td>\n",
       "      <td>Rs. 6990</td>\n",
       "    </tr>\n",
       "    <tr>\n",
       "      <th>99</th>\n",
       "      <td>Nike</td>\n",
       "      <td>Men REACT MILER 2 Running</td>\n",
       "      <td>Rs. 9770Rs. 11495(15% OFF)</td>\n",
       "    </tr>\n",
       "  </tbody>\n",
       "</table>\n",
       "<p>100 rows × 3 columns</p>\n",
       "</div>"
      ],
      "text/plain": [
       "        Brand               Short Shoe description  \\\n",
       "0        Nike          Men JORDAN DELTA Basketball   \n",
       "1        Nike        Men REACT MILER Running Shoes   \n",
       "2        Nike           Men AIR ZOOM Running Shoes   \n",
       "3        ALDO                Men Textured Sneakers   \n",
       "4        Nike            Men JOYRIDE Running Shoes   \n",
       "..        ...                                  ...   \n",
       "95      Ruosh       Men Solid Leather Formal Monks   \n",
       "96  Cole Haan  Men GENERATION ZEROGRAND STITCHLITE   \n",
       "97       Geox          Men Leather Formal Slip-Ons   \n",
       "98      Ruosh           Men Leather Formal Brogues   \n",
       "99       Nike            Men REACT MILER 2 Running   \n",
       "\n",
       "                          Price  \n",
       "0                     Rs. 12495  \n",
       "1    Rs. 8796Rs. 10995(20% OFF)  \n",
       "2    Rs. 7721Rs. 10295(25% OFF)  \n",
       "3     Rs. 7199Rs. 8999(20% OFF)  \n",
       "4   Rs. 11246Rs. 14995(25% OFF)  \n",
       "..                          ...  \n",
       "95                     Rs. 6990  \n",
       "96                    Rs. 11999  \n",
       "97  Rs. 11242Rs. 14990(25% OFF)  \n",
       "98                     Rs. 6990  \n",
       "99   Rs. 9770Rs. 11495(15% OFF)  \n",
       "\n",
       "[100 rows x 3 columns]"
      ]
     },
     "execution_count": 39,
     "metadata": {},
     "output_type": "execute_result"
    }
   ],
   "source": [
    "#Saving our answer in a DataFrame using Pandas\n",
    "shoes_100=pd.DataFrame({})\n",
    "shoes_100['Brand']=Brand_list1[0:100]\n",
    "shoes_100['Short Shoe description']=shoe_Description1[0:100]\n",
    "shoes_100['Price']=Price_list1[0:100]\n",
    "shoes_100"
   ]
  },
  {
   "cell_type": "code",
   "execution_count": 40,
   "metadata": {},
   "outputs": [],
   "source": [
    "#Closing driver\n",
    "driver.close()"
   ]
  },
  {
   "cell_type": "markdown",
   "metadata": {},
   "source": [
    "************************************************************************************************************************Completed************************************************************************************************************"
   ]
  },
  {
   "cell_type": "markdown",
   "metadata": {},
   "source": [
    "# Q10: Go to webpage https://www.amazon.in/ \n",
    "Enter “Laptop” in the search field and then click the search icon.\n",
    "Then set CPU Type filter to “Intel Core i7” and “Intel Core i9.\n",
    "After setting the filters scrape first 10 laptops data. You have to scrape 3 attributes for each laptop:\n",
    "1. title\n",
    "2. Ratings\n",
    "3. Price\n",
    "\n",
    "Ans: Solution is as:-"
   ]
  },
  {
   "cell_type": "code",
   "execution_count": 90,
   "metadata": {},
   "outputs": [],
   "source": [
    "#Let's first connect to the web driver\n",
    "driver=webdriver.Chrome(\"chromedriver.exe\")"
   ]
  },
  {
   "cell_type": "code",
   "execution_count": 91,
   "metadata": {},
   "outputs": [],
   "source": [
    "#opening \"https://www.amazon.in/\"\n",
    "url=\"https://www.amazon.in/\"\n",
    "driver.get(url)"
   ]
  },
  {
   "cell_type": "code",
   "execution_count": 92,
   "metadata": {},
   "outputs": [
    {
     "data": {
      "text/plain": [
       "<selenium.webdriver.remote.webelement.WebElement (session=\"bc3c80659a9a8cb966834d9bb8f4b408\", element=\"c29333a9-d0c4-4e2b-ae6e-b506cb0d5978\")>"
      ]
     },
     "execution_count": 92,
     "metadata": {},
     "output_type": "execute_result"
    }
   ],
   "source": [
    "#finding element for product search bar\n",
    "search_pro=driver.find_element_by_id(\"twotabsearchtextbox\")\n",
    "search_pro"
   ]
  },
  {
   "cell_type": "code",
   "execution_count": 93,
   "metadata": {},
   "outputs": [],
   "source": [
    "#Searching for “Laptop” in Search bar\n",
    "search_pro.send_keys(\"Laptop\")"
   ]
  },
  {
   "cell_type": "code",
   "execution_count": 94,
   "metadata": {},
   "outputs": [],
   "source": [
    "#Clicking the Search Button using Xpath function\n",
    "search_bt=driver.find_element_by_xpath('//span[@id=\"nav-search-submit-text\"]')\n",
    "search_bt.click()"
   ]
  },
  {
   "cell_type": "code",
   "execution_count": 95,
   "metadata": {},
   "outputs": [],
   "source": [
    "#setting CPU Type filter to “Intel Core i7” using Xpath function\n",
    "seven_filter = driver.find_elements_by_xpath(\"//a[@class='a-link-normal s-navigation-item']/span\")\n",
    "for i in seven_filter:\n",
    "    if i.text=='Intel Core i7':\n",
    "        i.click()\n",
    "        break"
   ]
  },
  {
   "cell_type": "code",
   "execution_count": 96,
   "metadata": {},
   "outputs": [],
   "source": [
    "#setting CPU Type filter to “Intel Core i9” using Xpath function\n",
    "nine_filter = driver.find_elements_by_xpath(\"//a[@class='a-link-normal s-navigation-item']\")\n",
    "for i in nine_filter:\n",
    "    if i.text=='Intel Core i9':\n",
    "        i.click()\n",
    "        break"
   ]
  },
  {
   "cell_type": "code",
   "execution_count": 98,
   "metadata": {},
   "outputs": [],
   "source": [
    "#clicking ratings part using Xpath function \n",
    "rate_button=driver.find_element_by_xpath(\"//span[@class='a-size-small a-color-base']\")\n",
    "rate_button.click()"
   ]
  },
  {
   "cell_type": "code",
   "execution_count": 99,
   "metadata": {},
   "outputs": [],
   "source": [
    "#Creating empty Lists so that we can store data in these lists while scraping\n",
    "Title=[]\n",
    "Ratings=[]\n",
    "Price=[]"
   ]
  },
  {
   "cell_type": "code",
   "execution_count": 100,
   "metadata": {},
   "outputs": [
    {
     "data": {
      "text/plain": [
       "['Lenovo IdeaPad Flex 5 11th Gen Intel Core i7 14-inch FHD IPS 2-in-1 Touchscreen Laptop (16GB/512GB SSD/Win 10/Office 2019/Lenovo Digital Pen Stylus/Fingerprint Reader/Graphite Grey/1.5Kg), 82HS0092IN',\n",
       " 'Lenovo Yoga Slim 7 10th Gen Intel Core i7 14 inch Full HD IPS Thin and Light Laptop (8GB/512GB SSD/Windows 10/MS Office 2019/NVIDIA MX350 2GB GDDR5 Graphics/Slate Grey/1.55Kg), 82A1009KIN',\n",
       " 'ASUS VivoBook S S14 Intel Core i7-1165G7 11th Gen, 14-inch FHD Thin and Light Laptop (8GB RAM/512GB SSD + 32GB Optane Memory/Windows 10/Office 2019/Iris X Graphics- Indie Black/1.4 Kg), S433EA-AM701TS',\n",
       " 'HP Pavilion x360 (2021) 14\" (35.56cms) FHD Touchscreen Laptop, 11th Gen Core i7, 8 GB RAM, 512GB SSD, 2-in-1 Convertible, Windows 10, MS Office, Finger Print Reader (14-dw1040TU)',\n",
       " 'HP Pavilion Gaming 10th Gen Intel Core i7 Processor 15.6-inch FHD Gaming Laptop (16GB/512GB SSD + 32GB Intel Optane/Windows 10/NVIDIA 1650Ti 4GB/Shadow Black), 15-dk1509TX',\n",
       " 'Life Digital Laptop 15.6-inch (39.62 cms) (Intel Core i7, 8GB RAM, 512GB SSD, Windows 10), ZED AIR CX7',\n",
       " 'Acer Swift 5 14\" (35.56cms) Full HD IPS Display with Touchscreen Ultra Thin and Light Notebook (Intel i7 - 11th Gen/16GB RAM/1TB SSD/Win10/Intel Iris Xe Graphics/1.05 Kg/Mist Green), SF514-55TA',\n",
       " 'Mi Notebook Horizon Edition 14 Intel Core i5-10210U 10th Gen 14-inch (35.56 cms) Thin and Light Laptop(8GB/512GB SSD/Windows 10/Nvidia MX350 2GB Graphics/Grey/1.35Kg), XMA1904-AR+Webcam',\n",
       " 'Lenovo IdeaPad Flex 5 11th Gen Intel Core i7 14-inch FHD IPS 2-in-1 Touchscreen Laptop (16GB/512GB SSD/Win 10/Office 2019/Lenovo Digital Pen Stylus/Fingerprint Reader/Graphite Grey/1.5Kg), 82HS0092IN',\n",
       " 'CUK VivoBook K571 by ASUS 15 Inch Gaming Laptop (Intel Core i7, 16GB RAM, 256GB NVMe SSD + 1TB HDD, NVIDIA GeForce GTX 1650 Ti 4GB, 15.6\" FHD, Windows 10 Home) Thin Notebook Computer',\n",
       " 'Acer Nitro 5 Intel Core i7-9th Gen 17.3-inch Display 1920 x 1080 Gaming Laptop (8GB Ram/1 TB HDD/256 GB SSD/Window 10 Home/4GB NVIDIA GeForce GTX 1650 Graphics/Black), AN517-51',\n",
       " 'Life Digital Laptop 15.6-inch (39.62 cms) (Intel Core i7, 4GB RAM, 256GB SSD, Windows 10), ZED AIR CX7',\n",
       " 'Dell Inspiron 5406 14\" FHD Touch Display 2in1 Laptop (11th Gen i7-1165G7 / 8Gb / 512Gb SSD / Integrated Graphics / Win 10 + MSO / Titan Grey Color / FPR/ Active Pen) D560414WIN9S',\n",
       " 'Lenovo Yoga Slim 7 Carbon 11th Gen Intel Core i7 13.3\" QHD IPS Ultra-Light & Thin Laptop (16GB/1TB SSD/Win 10/Office/Intel Iris Xe GFX/HD IR Camera/Moon White/Carbon Fiber Material/0.96 Kg)82EV003WIN',\n",
       " 'Acer Swift 3X 14\" FHD IPS Display Ultra Thin and Light Notebook (Intel i7 - 11th Gen/16 GB RAM+ 32GB Optane/512GB SSD/Win10/Microsoft Office 2019/Intel Iris Xe Max/Steam Blue/1.37 Kg), SF314-510G',\n",
       " 'HP Envy x360 Convertible Touchscreen 13.3-inch FHD Laptop (11th Gen Intel Core i7-1165G7/16GB/512GB SSD/Win 10 Home/Alexa Built-in/Pale Gold/1.32kg), 13-bd0063TU',\n",
       " 'OMEN by HP 15.6-inch 10th Gen Intel Core i7-10870H Processor FHD Gaming Laptop (16GB/512GB SSD + 32GB Intel Optane/144Hz Refresh Rate/Win 10/NVIDIA RTX 3060 6GB/Shadow Black), 15-ek1017TX',\n",
       " 'Dell XPS 7390 13.3-inch (33.78 cms) UHD Display Thin & Light Laptop (10th Gen Core i7-10510U/16GB/512GB SSD/Win 10 + MS Office/Integrated Graphics), Silver',\n",
       " 'Razer Blade Pro 17 Gaming Laptop 2019',\n",
       " 'HP Pavilion Gaming 10th Gen Intel Core i7 Processor 15.6-inch FHD Gaming Laptop (16GB/512GB SSD + 32GB Intel Optane/Windows 10/NVIDIA 1650 4GB/Shadow Black), 15-dk1151TX',\n",
       " '(Renewed) Dell E7250 Latitude 12.5 Inches Laptop (5th Gen Intel Core i7 - 5600U /8 GB/512 GB SSD/Windows 10 Pro), Black',\n",
       " 'HP Pavilion (2021) Thin & Light 11th Gen Core i7 Laptop, 16 GB RAM, 1TB SSD, Iris Xe Graphics, 14\" (35.56cms) FHD Screen, Windows 10, MS Office, Backlit Keyboard (14-dv0058TU)',\n",
       " '(Renewed) Dell Latitude E6420 14 Inch Laptop (Core I7 2460M/8GB/1TB/Nvidia Dedicated Graphics/Windows Professional/MS Office), Dark Grey',\n",
       " 'Dell G3 3500 Gaming 15.6inch ( 39.62 cms) 120hz FHD Display Laptop (10th Gen i7-10750H / 8 GB / 512 SSD / GTX 1650 4GB / 1Yr Premium Warranty/ Win 10 + MS Office H&S 2019) D560250WIN9BE',\n",
       " 'Lenovo IdeaPad Gaming 3 10th Gen Intel Core i7 15.6-inch FHD IPS Gaming Laptop (8GB/1TB HDD + 256 GB SSD/Windows 10/NVIDIA GTX 1650 4GB GDDR6/with M100 RGB Gaming Mouse/Onyx Black/2.2Kg), 81Y400VAIN',\n",
       " 'DELL Inspiron G3 3590 15.6-inch Laptop (9th Gen Core i7-9570H/8GB/512GB SSD/ Nvidia GTX 1660Ti 6GB Graphics /Windows 10 Home+ MS Office), Black',\n",
       " 'HP 2019 Probook 440 G6 14 Inch HD Business Laptop (Intel Quad-Core i5-8265U, 16GB DDR4 Memory, 512GB m.2 SSD, Backlit, Type-C, HDMI, RJ45, Natural Silver, Windows 10 Pro Professional)']"
      ]
     },
     "execution_count": 100,
     "metadata": {},
     "output_type": "execute_result"
    }
   ],
   "source": [
    "#Extracting all the tags having Title Information\n",
    "t1=driver.find_elements_by_xpath(\"//span[@class='a-size-medium a-color-base a-text-normal']\")\n",
    "\n",
    "#extracting text inside Title tags\n",
    "for i in t1:\n",
    "    Title.append(i.text)\n",
    "Title"
   ]
  },
  {
   "cell_type": "code",
   "execution_count": 101,
   "metadata": {},
   "outputs": [
    {
     "data": {
      "text/plain": [
       "['11',\n",
       " '11',\n",
       " '63',\n",
       " '16',\n",
       " '6',\n",
       " '12',\n",
       " '17',\n",
       " '737',\n",
       " '11',\n",
       " '5',\n",
       " '10',\n",
       " '3',\n",
       " '4',\n",
       " '1',\n",
       " '8',\n",
       " '5',\n",
       " '4',\n",
       " '7',\n",
       " '19',\n",
       " '13',\n",
       " '3',\n",
       " '288',\n",
       " '5',\n",
       " '59',\n",
       " '25',\n",
       " '5',\n",
       " '5']"
      ]
     },
     "execution_count": 101,
     "metadata": {},
     "output_type": "execute_result"
    }
   ],
   "source": [
    "#Extracting all the tags having Ratings Information\n",
    "r1=driver.find_elements_by_xpath(\"//span[@class='a-size-base']\")\n",
    "#extracting text inside Ratings tags\n",
    "for i in r1:\n",
    "    Ratings.append(i.text)\n",
    "Ratings"
   ]
  },
  {
   "cell_type": "code",
   "execution_count": 102,
   "metadata": {},
   "outputs": [
    {
     "data": {
      "text/plain": [
       "['83,990',\n",
       " '83,990',\n",
       " '79,980',\n",
       " '78,403',\n",
       " '84,990',\n",
       " '29,990',\n",
       " '91,501',\n",
       " '49,999',\n",
       " '83,990',\n",
       " '1,44,643',\n",
       " '69,990',\n",
       " '26,990',\n",
       " '84,876',\n",
       " '1,17,903',\n",
       " '80,990',\n",
       " '99,993',\n",
       " '1,34,999',\n",
       " '1,64,990',\n",
       " '54,499',\n",
       " '84,999',\n",
       " '39,000',\n",
       " '79,990',\n",
       " '77,990',\n",
       " '1,35,386']"
      ]
     },
     "execution_count": 102,
     "metadata": {},
     "output_type": "execute_result"
    }
   ],
   "source": [
    "#Extracting all the tags having Price Information\n",
    "p1=driver.find_elements_by_xpath(\"//span[@class='a-price-whole']\")\n",
    "#extracting text inside Price tags\n",
    "for i in p1:\n",
    "    Price.append(i.text)\n",
    "Price"
   ]
  },
  {
   "cell_type": "code",
   "execution_count": 103,
   "metadata": {},
   "outputs": [
    {
     "data": {
      "text/html": [
       "<div>\n",
       "<style scoped>\n",
       "    .dataframe tbody tr th:only-of-type {\n",
       "        vertical-align: middle;\n",
       "    }\n",
       "\n",
       "    .dataframe tbody tr th {\n",
       "        vertical-align: top;\n",
       "    }\n",
       "\n",
       "    .dataframe thead th {\n",
       "        text-align: right;\n",
       "    }\n",
       "</style>\n",
       "<table border=\"1\" class=\"dataframe\">\n",
       "  <thead>\n",
       "    <tr style=\"text-align: right;\">\n",
       "      <th></th>\n",
       "      <th>Title</th>\n",
       "      <th>Ratings</th>\n",
       "      <th>Price</th>\n",
       "    </tr>\n",
       "  </thead>\n",
       "  <tbody>\n",
       "    <tr>\n",
       "      <th>0</th>\n",
       "      <td>Lenovo IdeaPad Flex 5 11th Gen Intel Core i7 1...</td>\n",
       "      <td>11</td>\n",
       "      <td>83,990</td>\n",
       "    </tr>\n",
       "    <tr>\n",
       "      <th>1</th>\n",
       "      <td>Lenovo Yoga Slim 7 10th Gen Intel Core i7 14 i...</td>\n",
       "      <td>11</td>\n",
       "      <td>83,990</td>\n",
       "    </tr>\n",
       "    <tr>\n",
       "      <th>2</th>\n",
       "      <td>ASUS VivoBook S S14 Intel Core i7-1165G7 11th ...</td>\n",
       "      <td>63</td>\n",
       "      <td>79,980</td>\n",
       "    </tr>\n",
       "    <tr>\n",
       "      <th>3</th>\n",
       "      <td>HP Pavilion x360 (2021) 14\" (35.56cms) FHD Tou...</td>\n",
       "      <td>16</td>\n",
       "      <td>78,403</td>\n",
       "    </tr>\n",
       "    <tr>\n",
       "      <th>4</th>\n",
       "      <td>HP Pavilion Gaming 10th Gen Intel Core i7 Proc...</td>\n",
       "      <td>6</td>\n",
       "      <td>84,990</td>\n",
       "    </tr>\n",
       "    <tr>\n",
       "      <th>5</th>\n",
       "      <td>Life Digital Laptop 15.6-inch (39.62 cms) (Int...</td>\n",
       "      <td>12</td>\n",
       "      <td>29,990</td>\n",
       "    </tr>\n",
       "    <tr>\n",
       "      <th>6</th>\n",
       "      <td>Acer Swift 5 14\" (35.56cms) Full HD IPS Displa...</td>\n",
       "      <td>17</td>\n",
       "      <td>91,501</td>\n",
       "    </tr>\n",
       "    <tr>\n",
       "      <th>7</th>\n",
       "      <td>Mi Notebook Horizon Edition 14 Intel Core i5-1...</td>\n",
       "      <td>737</td>\n",
       "      <td>49,999</td>\n",
       "    </tr>\n",
       "    <tr>\n",
       "      <th>8</th>\n",
       "      <td>Lenovo IdeaPad Flex 5 11th Gen Intel Core i7 1...</td>\n",
       "      <td>11</td>\n",
       "      <td>83,990</td>\n",
       "    </tr>\n",
       "    <tr>\n",
       "      <th>9</th>\n",
       "      <td>CUK VivoBook K571 by ASUS 15 Inch Gaming Lapto...</td>\n",
       "      <td>5</td>\n",
       "      <td>1,44,643</td>\n",
       "    </tr>\n",
       "  </tbody>\n",
       "</table>\n",
       "</div>"
      ],
      "text/plain": [
       "                                               Title Ratings     Price\n",
       "0  Lenovo IdeaPad Flex 5 11th Gen Intel Core i7 1...      11    83,990\n",
       "1  Lenovo Yoga Slim 7 10th Gen Intel Core i7 14 i...      11    83,990\n",
       "2  ASUS VivoBook S S14 Intel Core i7-1165G7 11th ...      63    79,980\n",
       "3  HP Pavilion x360 (2021) 14\" (35.56cms) FHD Tou...      16    78,403\n",
       "4  HP Pavilion Gaming 10th Gen Intel Core i7 Proc...       6    84,990\n",
       "5  Life Digital Laptop 15.6-inch (39.62 cms) (Int...      12    29,990\n",
       "6  Acer Swift 5 14\" (35.56cms) Full HD IPS Displa...      17    91,501\n",
       "7  Mi Notebook Horizon Edition 14 Intel Core i5-1...     737    49,999\n",
       "8  Lenovo IdeaPad Flex 5 11th Gen Intel Core i7 1...      11    83,990\n",
       "9  CUK VivoBook K571 by ASUS 15 Inch Gaming Lapto...       5  1,44,643"
      ]
     },
     "execution_count": 103,
     "metadata": {},
     "output_type": "execute_result"
    }
   ],
   "source": [
    "#Saving our answer in a DataFrame using Pandas\n",
    "Laptops_10=pd.DataFrame({})\n",
    "Laptops_10['Title']=Title[0:10]\n",
    "Laptops_10['Ratings']=Ratings[0:10]\n",
    "Laptops_10['Price']=Price[0:10]\n",
    "Laptops_10"
   ]
  },
  {
   "cell_type": "code",
   "execution_count": 104,
   "metadata": {},
   "outputs": [],
   "source": [
    "#Closing driver\n",
    "driver.close()"
   ]
  },
  {
   "cell_type": "markdown",
   "metadata": {},
   "source": [
    "*********************************************************************************************************************Completed*********************************************************************************************************************************************************************************************************************************************************************************************************************"
   ]
  },
  {
   "cell_type": "markdown",
   "metadata": {},
   "source": [
    "# ||Happy Ending||"
   ]
  }
 ],
 "metadata": {
  "kernelspec": {
   "display_name": "Python 3",
   "language": "python",
   "name": "python3"
  },
  "language_info": {
   "codemirror_mode": {
    "name": "ipython",
    "version": 3
   },
   "file_extension": ".py",
   "mimetype": "text/x-python",
   "name": "python",
   "nbconvert_exporter": "python",
   "pygments_lexer": "ipython3",
   "version": "3.8.5"
  }
 },
 "nbformat": 4,
 "nbformat_minor": 4
}
