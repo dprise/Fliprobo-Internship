{
 "cells": [
  {
   "cell_type": "code",
   "execution_count": 1,
   "metadata": {},
   "outputs": [],
   "source": [
    "#Importing the required Libraries for web scraping:-\n",
    "import selenium\n",
    "import pandas as pd\n",
    "from selenium import webdriver\n",
    "import time\n",
    "from selenium.common.exceptions import NoSuchElementException\n",
    "from selenium.common.exceptions import StaleElementReferenceException"
   ]
  },
  {
   "cell_type": "markdown",
   "metadata": {},
   "source": [
    "# Exercise:"
   ]
  },
  {
   "cell_type": "markdown",
   "metadata": {},
   "source": [
    "# 1. Write a python program which searches all the product under a particular product vertical from www.amazon.in. The product verticals to be searched will be taken as input from user. For e.g. If user input is ‘guitar’. Then search for guitars.\n",
    "\n",
    "Ans: Solution is as:-"
   ]
  },
  {
   "cell_type": "code",
   "execution_count": 12,
   "metadata": {},
   "outputs": [],
   "source": [
    "#Let's first connect to the web driver\n",
    "driver=webdriver.Chrome(\"chromedriver.exe\")"
   ]
  },
  {
   "cell_type": "code",
   "execution_count": 13,
   "metadata": {},
   "outputs": [],
   "source": [
    "#Opening webpage https://www.amazon.in/\n",
    "url=\"https://www.amazon.in/\"\n",
    "driver.get(url)"
   ]
  },
  {
   "cell_type": "code",
   "execution_count": 14,
   "metadata": {},
   "outputs": [
    {
     "data": {
      "text/plain": [
       "<selenium.webdriver.remote.webelement.WebElement (session=\"357e1f506316dfe8b374ce4ca687f780\", element=\"af167ceb-0cb2-40c6-b65c-60f7f1fa2106\")>"
      ]
     },
     "execution_count": 14,
     "metadata": {},
     "output_type": "execute_result"
    }
   ],
   "source": [
    "#finding element for product search bar\n",
    "search_pro=driver.find_element_by_id(\"twotabsearchtextbox\")\n",
    "search_pro"
   ]
  },
  {
   "cell_type": "code",
   "execution_count": 15,
   "metadata": {},
   "outputs": [
    {
     "name": "stdout",
     "output_type": "stream",
     "text": [
      "Hello, Please enter product name to search : watches\n"
     ]
    }
   ],
   "source": [
    "#Taking input from user in Search bar\n",
    "search_pro.send_keys(input(\"Hello, Please enter product name to search : \"))"
   ]
  },
  {
   "cell_type": "code",
   "execution_count": 16,
   "metadata": {},
   "outputs": [],
   "source": [
    "#Clicking the Search Button using Xpath function\n",
    "search_bt=driver.find_element_by_xpath('//span[@id=\"nav-search-submit-text\"]')\n",
    "search_bt.click()"
   ]
  },
  {
   "cell_type": "markdown",
   "metadata": {},
   "source": [
    "************************************************************************************************************Completed*************************************************************************************************************************"
   ]
  },
  {
   "cell_type": "markdown",
   "metadata": {},
   "source": [
    "# 2. In the above question, now scrape the following details of each product listed in first 3 pages of your search results and save it in a dataframe and csv. In case if any product vertical has less than 3 pages in search results then scrape all the products available under that product vertical. Details to be scraped are: \"Brand Name\", \"Name of the Product\", \"Rating\", \"No. of Ratings\", \"Price\", \"Return/Exchange\", \"Expected Delivery\", \"Availability\", \"Other Details\" and “Product URL”. In case, if any of the details are missing for any of the product then replace it by “-“.\n",
    "\n",
    "Ans: Solution is as:-"
   ]
  },
  {
   "cell_type": "code",
   "execution_count": 29,
   "metadata": {},
   "outputs": [],
   "source": [
    "#creating empty list\n",
    "Brand=[]\n",
    "Product=[]\n",
    "Rating=[]\n",
    "No_of_rating=[]\n",
    "Price=[]\n",
    "Return_Exchange=[]\n",
    "Availability=[]\n",
    "Other_details=[]\n",
    "Product_url=[]"
   ]
  },
  {
   "cell_type": "code",
   "execution_count": 31,
   "metadata": {},
   "outputs": [],
   "source": [
    "#page 1\n",
    "Url=driver.find_elements_by_xpath(\"//a[@class='a-link-normal a-text-normal']\")\n",
    "href_url_1=[]\n",
    "\n",
    "for i in Url:\n",
    "    href_url_1.append(i.get_attribute(\"href\"))\n",
    "    \n",
    "for url in href_url_1:\n",
    "    driver.get(url)\n",
    "    \n",
    "    #fetching brand details\n",
    "    try:\n",
    "        brand=driver.find_element_by_xpath('//*[@id=\"bylineInfo\"]')\n",
    "        Brand.append(brand.text.replace(\"Brand\",\" \"))\n",
    "    except NoSuchElementException:\n",
    "        Brand.append('-')\n",
    "     #fetching product details   \n",
    "    try:\n",
    "        product=driver.find_element_by_xpath('//*[@id=\"productTitle\"]')\n",
    "        Product.append(product.text)\n",
    "    except NoSuchElementException:\n",
    "        Product.append('-')\n",
    "    #fetching rating details\n",
    "    try:\n",
    "        rating_=driver.find_element_by_xpath(\"//span[@id='acrCustomerReviewText']\").click()\n",
    "        rating=driver.find_element_by_xpath(\"//span[@class='a-size-medium a-color-base']\")\n",
    "        Rating.append(rating.text)\n",
    "    except NoSuchElementException as e:\n",
    "        Rating.append('-')\n",
    "    #fetching no of rating details    \n",
    "    try:\n",
    "        ratings=driver.find_element_by_xpath('//*[@id=\"acrCustomerReviewText\"]')\n",
    "        No_of_rating.append(ratings.text)\n",
    "    except NoSuchElementException:\n",
    "        No_of_rating.append('-')\n",
    "    #fetching price details    \n",
    "    try:\n",
    "        price=driver.find_element_by_xpath('//*[@id=\"priceblock_ourprice\"]')\n",
    "        Price.append(price.text)\n",
    "    except NoSuchElementException:\n",
    "        Price.append('-')\n",
    "    #fetching exchange details    \n",
    "    try:\n",
    "        Exchange=driver.find_element_by_xpath('//*[@id=\"icon-farm-container\"]/div/div[1]/span/div[2]/a')\n",
    "        Return_Exchange.append(Exchange.text)\n",
    "    except NoSuchElementException:\n",
    "        Return_Exchange.append('-')\n",
    "    #fetching availability details    \n",
    "    try:\n",
    "        availability=driver.find_element_by_xpath('//*[@id=\"availability\"]/span')\n",
    "        Availability.append(availability.text)\n",
    "    except NoSuchElementException:\n",
    "        Availability.append('-')\n",
    "    #fetching other details    \n",
    "    try:\n",
    "        details=driver.find_element_by_xpath('//*[@id=\"feature-bullets\"]/ul')\n",
    "        Other_details.append(details.text.replace(\"\\n\",\" \"))\n",
    "    except NoSuchElementException:\n",
    "        Other_details.append('-')\n",
    "    #fetching product URL\n",
    "    try:\n",
    "        Name_of_pro=driver.find_element_by_id('//h2[@class=\"a-size-mini a-spacing-none a-color-base s-line-clamp-4\"]').text\n",
    "        Product_url.append(title.get_attribute('href'))\n",
    "    except NoSuchElementException as e:\n",
    "        Product_url.append(\"-\")\n",
    "    \n",
    "time.sleep(3)"
   ]
  },
  {
   "cell_type": "code",
   "execution_count": 32,
   "metadata": {},
   "outputs": [],
   "source": [
    "#searching and clicking the page 2\n",
    "search_button=driver.find_element_by_id(\"nav-search-submit-text\")\n",
    "search_button.click()\n",
    "next_button=driver.find_elements_by_xpath(\"//li[@class='a-normal']/a\")\n",
    "for s in next_button:\n",
    "    if s.text=='2':\n",
    "        s.click()\n",
    "        break\n",
    "        \n",
    "time.sleep(3)"
   ]
  },
  {
   "cell_type": "code",
   "execution_count": 33,
   "metadata": {},
   "outputs": [],
   "source": [
    "#page 2\n",
    "Url=driver.find_elements_by_xpath(\"//a[@class='a-link-normal a-text-normal']\")\n",
    "href_url_2=[]\n",
    "\n",
    "for i in Url:\n",
    "    href_url_2.append(i.get_attribute(\"href\"))\n",
    "    \n",
    "for url in href_url_2:\n",
    "    driver.get(url)\n",
    "    \n",
    "    #fetching brand details\n",
    "    try:\n",
    "        brand=driver.find_element_by_xpath('//*[@id=\"bylineInfo\"]')\n",
    "        Brand.append(brand.text.replace(\"Brand\",\" \"))\n",
    "    except NoSuchElementException:\n",
    "        Brand.append('-')\n",
    "     #fetching product details   \n",
    "    try:\n",
    "        product=driver.find_element_by_xpath('//*[@id=\"productTitle\"]')\n",
    "        Product.append(product.text)\n",
    "    except NoSuchElementException:\n",
    "        Product.append('-')\n",
    "    #fetching rating details\n",
    "    try:\n",
    "        rating_=driver.find_element_by_xpath(\"//span[@id='acrCustomerReviewText']\").click()\n",
    "        rating=driver.find_element_by_xpath(\"//span[@class='a-size-medium a-color-base']\")\n",
    "        Rating.append(rating.text)\n",
    "    except NoSuchElementException as e:\n",
    "        Rating.append('-')\n",
    "    #fetching no of rating details    \n",
    "    try:\n",
    "        ratings=driver.find_element_by_xpath('//*[@id=\"acrCustomerReviewText\"]')\n",
    "        No_of_rating.append(ratings.text)\n",
    "    except NoSuchElementException:\n",
    "        No_of_rating.append('-')\n",
    "    #fetching price details    \n",
    "    try:\n",
    "        price=driver.find_element_by_xpath('//*[@id=\"priceblock_ourprice\"]')\n",
    "        Price.append(price.text)\n",
    "    except NoSuchElementException:\n",
    "        Price.append('-')\n",
    "    #fetching exchange details    \n",
    "    try:\n",
    "        Exchange=driver.find_element_by_xpath('//*[@id=\"icon-farm-container\"]/div/div[1]/span/div[2]/a')\n",
    "        Return_Exchange.append(Exchange.text)\n",
    "    except NoSuchElementException:\n",
    "        Return_Exchange.append('-')\n",
    "    #fetching availability details    \n",
    "    try:\n",
    "        availability=driver.find_element_by_xpath('//*[@id=\"availability\"]/span')\n",
    "        Availability.append(availability.text)\n",
    "    except NoSuchElementException:\n",
    "        Availability.append('-')\n",
    "    #fetching other details    \n",
    "    try:\n",
    "        details=driver.find_element_by_xpath('//*[@id=\"feature-bullets\"]/ul')\n",
    "        Other_details.append(details.text.replace(\"\\n\",\" \"))\n",
    "    except NoSuchElementException:\n",
    "        Other_details.append('-')\n",
    "    #fetching product details\n",
    "    try:\n",
    "        Name_of_pro=driver.find_element_by_id('//h2[@class=\"a-size-mini a-spacing-none a-color-base s-line-clamp-4\"]').text\n",
    "        Product_url.append(title.get_attribute('href'))\n",
    "    except NoSuchElementException as e:\n",
    "        Product_url.append(\"-\")\n",
    "    \n",
    "time.sleep(3)"
   ]
  },
  {
   "cell_type": "code",
   "execution_count": 34,
   "metadata": {},
   "outputs": [],
   "source": [
    "#searching and clicking the page 3\n",
    "search_button=driver.find_element_by_id(\"nav-search-submit-text\")\n",
    "search_button.click()\n",
    "next_button=driver.find_elements_by_xpath(\"//li[@class='a-normal']/a\")\n",
    "for s in next_button:\n",
    "    if s.text=='3':\n",
    "        s.click()\n",
    "        break\n",
    "time.sleep(3)"
   ]
  },
  {
   "cell_type": "code",
   "execution_count": 35,
   "metadata": {},
   "outputs": [],
   "source": [
    "#page 3\n",
    "Url=driver.find_elements_by_xpath(\"//a[@class='a-link-normal a-text-normal']\")\n",
    "href_url_3=[]\n",
    "\n",
    "for i in Url:\n",
    "    href_url_3.append(i.get_attribute(\"href\"))\n",
    "    \n",
    "for url in href_url_3:\n",
    "    driver.get(url)\n",
    "    \n",
    "    #fetching brand details\n",
    "    try:\n",
    "        brand=driver.find_element_by_xpath('//*[@id=\"bylineInfo\"]')\n",
    "        Brand.append(brand.text.replace(\"Brand\",\" \"))\n",
    "    except NoSuchElementException:\n",
    "        Brand.append('-')\n",
    "     #fetching product details   \n",
    "    try:\n",
    "        product=driver.find_element_by_xpath('//*[@id=\"productTitle\"]')\n",
    "        Product.append(product.text)\n",
    "    except NoSuchElementException:\n",
    "        Product.append('-')\n",
    "    #fetching rating details\n",
    "    try:\n",
    "        rating_=driver.find_element_by_xpath(\"//span[@id='acrCustomerReviewText']\").click()\n",
    "        rating=driver.find_element_by_xpath(\"//span[@class='a-size-medium a-color-base']\")\n",
    "        Rating.append(rating.text)\n",
    "    except NoSuchElementException as e:\n",
    "        Rating.append('-')\n",
    "    #fetching no of rating details    \n",
    "    try:\n",
    "        ratings=driver.find_element_by_xpath('//*[@id=\"acrCustomerReviewText\"]')\n",
    "        No_of_rating.append(ratings.text)\n",
    "    except NoSuchElementException:\n",
    "        No_of_rating.append('-')\n",
    "    #fetching price details    \n",
    "    try:\n",
    "        price=driver.find_element_by_xpath('//*[@id=\"priceblock_ourprice\"]')\n",
    "        Price.append(price.text)\n",
    "    except NoSuchElementException:\n",
    "        Price.append('-')\n",
    "    #fetching exchange details    \n",
    "    try:\n",
    "        Exchange=driver.find_element_by_xpath('//*[@id=\"icon-farm-container\"]/div/div[1]/span/div[2]/a')\n",
    "        Return_Exchange.append(Exchange.text)\n",
    "    except NoSuchElementException:\n",
    "        Return_Exchange.append('-')\n",
    "    #fetching availability details    \n",
    "    try:\n",
    "        availability=driver.find_element_by_xpath('//*[@id=\"availability\"]/span')\n",
    "        Availability.append(availability.text)\n",
    "    except NoSuchElementException:\n",
    "        Availability.append('-')\n",
    "    #fetching other details    \n",
    "    try:\n",
    "        details=driver.find_element_by_xpath('//*[@id=\"feature-bullets\"]/ul')\n",
    "        Other_details.append(details.text.replace(\"\\n\",\" \"))\n",
    "    except NoSuchElementException:\n",
    "        Other_details.append('-')\n",
    "    #fetching product details\n",
    "    try:\n",
    "        Name_of_pro=driver.find_element_by_id('//h2[@class=\"a-size-mini a-spacing-none a-color-base s-line-clamp-4\"]').text\n",
    "        Product_url.append(title.get_attribute('href'))\n",
    "    except NoSuchElementException as e:\n",
    "        Product_url.append(\"-\")\n",
    "time.sleep(3)"
   ]
  },
  {
   "cell_type": "code",
   "execution_count": 40,
   "metadata": {},
   "outputs": [
    {
     "data": {
      "text/html": [
       "<div>\n",
       "<style scoped>\n",
       "    .dataframe tbody tr th:only-of-type {\n",
       "        vertical-align: middle;\n",
       "    }\n",
       "\n",
       "    .dataframe tbody tr th {\n",
       "        vertical-align: top;\n",
       "    }\n",
       "\n",
       "    .dataframe thead th {\n",
       "        text-align: right;\n",
       "    }\n",
       "</style>\n",
       "<table border=\"1\" class=\"dataframe\">\n",
       "  <thead>\n",
       "    <tr style=\"text-align: right;\">\n",
       "      <th></th>\n",
       "      <th>Brand Name</th>\n",
       "      <th>Name of the Product</th>\n",
       "      <th>Rating</th>\n",
       "      <th>No. of Ratings</th>\n",
       "      <th>Price</th>\n",
       "      <th>Return/Exchange</th>\n",
       "      <th>Availability</th>\n",
       "      <th>Other Details</th>\n",
       "      <th>Product URL</th>\n",
       "    </tr>\n",
       "  </thead>\n",
       "  <tbody>\n",
       "    <tr>\n",
       "      <th>0</th>\n",
       "      <td>Visit the French Connection Store</td>\n",
       "      <td>French Connection F1 Touch Screen Unisex Smart...</td>\n",
       "      <td>3.5 out of 5</td>\n",
       "      <td>81 ratings</td>\n",
       "      <td>₹ 4,130.00</td>\n",
       "      <td>-</td>\n",
       "      <td>In stock.</td>\n",
       "      <td>Full-touch, Full-colour : French Connection Sm...</td>\n",
       "      <td>-</td>\n",
       "    </tr>\n",
       "    <tr>\n",
       "      <th>1</th>\n",
       "      <td>Visit the French Connection Store</td>\n",
       "      <td>French Connection F1 Touch Screen Unisex Smart...</td>\n",
       "      <td>3.8 out of 5</td>\n",
       "      <td>963 ratings</td>\n",
       "      <td>₹ 599.00</td>\n",
       "      <td>-</td>\n",
       "      <td>In stock.</td>\n",
       "      <td>Dial color: black, case shape: round, dial gla...</td>\n",
       "      <td>-</td>\n",
       "    </tr>\n",
       "    <tr>\n",
       "      <th>2</th>\n",
       "      <td>Visit the SKMEI Store</td>\n",
       "      <td>SKMEI Digital Dial Men's Watch-1257 Black</td>\n",
       "      <td>5 out of 5</td>\n",
       "      <td>1 rating</td>\n",
       "      <td>₹ 194.00</td>\n",
       "      <td>7 Days Returnable</td>\n",
       "      <td>In stock.</td>\n",
       "      <td>Replaceable battery with comparable standby an...</td>\n",
       "      <td>-</td>\n",
       "    </tr>\n",
       "    <tr>\n",
       "      <th>3</th>\n",
       "      <td>Visit the BKN Store</td>\n",
       "      <td>BKN® 380mAh LQ-S1 Battery for DZ09 Smartwatch ...</td>\n",
       "      <td>3 out of 5</td>\n",
       "      <td>4 ratings</td>\n",
       "      <td>-</td>\n",
       "      <td>10 Days Returns</td>\n",
       "      <td>In stock.</td>\n",
       "      <td>Dial Color: Black, Band Color: Black,Watch Mov...</td>\n",
       "      <td>-</td>\n",
       "    </tr>\n",
       "    <tr>\n",
       "      <th>4</th>\n",
       "      <td>: HARMI CREATIVE</td>\n",
       "      <td>HARMI CREATIVE Digital Boy's Watch (Black Dial...</td>\n",
       "      <td>3.9 out of 5</td>\n",
       "      <td>559 ratings</td>\n",
       "      <td>₹ 6,999.00</td>\n",
       "      <td>-</td>\n",
       "      <td>In stock.</td>\n",
       "      <td>Dial Color: Black; Dial Material: Stainless St...</td>\n",
       "      <td>-</td>\n",
       "    </tr>\n",
       "    <tr>\n",
       "      <th>...</th>\n",
       "      <td>...</td>\n",
       "      <td>...</td>\n",
       "      <td>...</td>\n",
       "      <td>...</td>\n",
       "      <td>...</td>\n",
       "      <td>...</td>\n",
       "      <td>...</td>\n",
       "      <td>...</td>\n",
       "      <td>...</td>\n",
       "    </tr>\n",
       "    <tr>\n",
       "      <th>149</th>\n",
       "      <td>Visit the REDUX Store</td>\n",
       "      <td>Redux 1805 Khaki Dual Time Analog-Digital LED ...</td>\n",
       "      <td>3.7 out of 5</td>\n",
       "      <td>2,124 ratings</td>\n",
       "      <td>-</td>\n",
       "      <td>-</td>\n",
       "      <td>In stock.</td>\n",
       "      <td>Dial Color : White | Dial Diameter : 38 mm | C...</td>\n",
       "      <td>-</td>\n",
       "    </tr>\n",
       "    <tr>\n",
       "      <th>150</th>\n",
       "      <td>Visit the TIMEWEAR Store</td>\n",
       "      <td>TIMEWEAR Analog Day Date Functioning Stainless...</td>\n",
       "      <td>4.1 out of 5</td>\n",
       "      <td>38,897 ratings</td>\n",
       "      <td>₹ 2,599.00</td>\n",
       "      <td>-</td>\n",
       "      <td>In stock.</td>\n",
       "      <td>Get a 1-year assured warranty from NOISE. Mana...</td>\n",
       "      <td>-</td>\n",
       "    </tr>\n",
       "    <tr>\n",
       "      <th>151</th>\n",
       "      <td>: Noise</td>\n",
       "      <td>Noise ColorFit Pro 2- India's No. 1 Basic Smar...</td>\n",
       "      <td>4.1 out of 5</td>\n",
       "      <td>7,596 ratings</td>\n",
       "      <td>-</td>\n",
       "      <td>-</td>\n",
       "      <td>In stock.</td>\n",
       "      <td>【The First Ever Smart watch featuring SPO2 fun...</td>\n",
       "      <td>-</td>\n",
       "    </tr>\n",
       "    <tr>\n",
       "      <th>152</th>\n",
       "      <td>: Fire-Boltt</td>\n",
       "      <td>Fire-Boltt SpO2 Full Touch 1.4 inch Smart Watc...</td>\n",
       "      <td>4.1 out of 5</td>\n",
       "      <td>7,596 ratings</td>\n",
       "      <td>-</td>\n",
       "      <td>-</td>\n",
       "      <td>In stock.</td>\n",
       "      <td>【The First Ever Smart watch featuring SPO2 fun...</td>\n",
       "      <td>-</td>\n",
       "    </tr>\n",
       "    <tr>\n",
       "      <th>153</th>\n",
       "      <td>: Fire-Boltt</td>\n",
       "      <td>Fire-Boltt SpO2 Full Touch 1.4 inch Smart Watc...</td>\n",
       "      <td>4.1 out of 5</td>\n",
       "      <td>7,596 ratings</td>\n",
       "      <td>-</td>\n",
       "      <td>-</td>\n",
       "      <td>In stock.</td>\n",
       "      <td>【The First Ever Smart watch featuring SPO2 fun...</td>\n",
       "      <td>-</td>\n",
       "    </tr>\n",
       "  </tbody>\n",
       "</table>\n",
       "<p>154 rows × 9 columns</p>\n",
       "</div>"
      ],
      "text/plain": [
       "                            Brand Name  \\\n",
       "0    Visit the French Connection Store   \n",
       "1    Visit the French Connection Store   \n",
       "2                Visit the SKMEI Store   \n",
       "3                  Visit the BKN Store   \n",
       "4                     : HARMI CREATIVE   \n",
       "..                                 ...   \n",
       "149              Visit the REDUX Store   \n",
       "150           Visit the TIMEWEAR Store   \n",
       "151                            : Noise   \n",
       "152                       : Fire-Boltt   \n",
       "153                       : Fire-Boltt   \n",
       "\n",
       "                                   Name of the Product        Rating  \\\n",
       "0    French Connection F1 Touch Screen Unisex Smart...  3.5 out of 5   \n",
       "1    French Connection F1 Touch Screen Unisex Smart...  3.8 out of 5   \n",
       "2            SKMEI Digital Dial Men's Watch-1257 Black    5 out of 5   \n",
       "3    BKN® 380mAh LQ-S1 Battery for DZ09 Smartwatch ...    3 out of 5   \n",
       "4    HARMI CREATIVE Digital Boy's Watch (Black Dial...  3.9 out of 5   \n",
       "..                                                 ...           ...   \n",
       "149  Redux 1805 Khaki Dual Time Analog-Digital LED ...  3.7 out of 5   \n",
       "150  TIMEWEAR Analog Day Date Functioning Stainless...  4.1 out of 5   \n",
       "151  Noise ColorFit Pro 2- India's No. 1 Basic Smar...  4.1 out of 5   \n",
       "152  Fire-Boltt SpO2 Full Touch 1.4 inch Smart Watc...  4.1 out of 5   \n",
       "153  Fire-Boltt SpO2 Full Touch 1.4 inch Smart Watc...  4.1 out of 5   \n",
       "\n",
       "     No. of Ratings       Price    Return/Exchange Availability  \\\n",
       "0        81 ratings  ₹ 4,130.00                  -    In stock.   \n",
       "1       963 ratings    ₹ 599.00                  -    In stock.   \n",
       "2          1 rating    ₹ 194.00  7 Days Returnable    In stock.   \n",
       "3         4 ratings           -    10 Days Returns    In stock.   \n",
       "4       559 ratings  ₹ 6,999.00                  -    In stock.   \n",
       "..              ...         ...                ...          ...   \n",
       "149   2,124 ratings           -                  -    In stock.   \n",
       "150  38,897 ratings  ₹ 2,599.00                  -    In stock.   \n",
       "151   7,596 ratings           -                  -    In stock.   \n",
       "152   7,596 ratings           -                  -    In stock.   \n",
       "153   7,596 ratings           -                  -    In stock.   \n",
       "\n",
       "                                         Other Details Product URL  \n",
       "0    Full-touch, Full-colour : French Connection Sm...           -  \n",
       "1    Dial color: black, case shape: round, dial gla...           -  \n",
       "2    Replaceable battery with comparable standby an...           -  \n",
       "3    Dial Color: Black, Band Color: Black,Watch Mov...           -  \n",
       "4    Dial Color: Black; Dial Material: Stainless St...           -  \n",
       "..                                                 ...         ...  \n",
       "149  Dial Color : White | Dial Diameter : 38 mm | C...           -  \n",
       "150  Get a 1-year assured warranty from NOISE. Mana...           -  \n",
       "151  【The First Ever Smart watch featuring SPO2 fun...           -  \n",
       "152  【The First Ever Smart watch featuring SPO2 fun...           -  \n",
       "153  【The First Ever Smart watch featuring SPO2 fun...           -  \n",
       "\n",
       "[154 rows x 9 columns]"
      ]
     },
     "execution_count": 40,
     "metadata": {},
     "output_type": "execute_result"
    }
   ],
   "source": [
    "#Saving our answer in a DataFrame using Pandas\n",
    "watches_all=pd.DataFrame({})\n",
    "watches_all['Brand Name']=Brand[0:154]\n",
    "watches_all['Name of the Product']=Product[0:154]\n",
    "watches_all['Rating']=Rating[0:154]\n",
    "watches_all['No. of Ratings']=No_of_rating[0:154]\n",
    "watches_all['Price']=Price[0:154]\n",
    "watches_all['Return/Exchange']=Return_Exchange[0:154]\n",
    "watches_all['Availability']=Availability[0:154]\n",
    "watches_all['Other Details']=Other_details[0:154]\n",
    "watches_all['Product URL']=Product_url[0:154]\n",
    "watches_all"
   ]
  },
  {
   "cell_type": "code",
   "execution_count": 41,
   "metadata": {},
   "outputs": [],
   "source": [
    "#saving as csv file\n",
    "watches_all.to_csv(\"watches_all.csv\")"
   ]
  },
  {
   "cell_type": "markdown",
   "metadata": {},
   "source": [
    "Currently Amazon is delivering essential items so most of items are currently non-deliverable so not added this option in csv."
   ]
  },
  {
   "cell_type": "code",
   "execution_count": 56,
   "metadata": {},
   "outputs": [],
   "source": [
    "driver.close()"
   ]
  },
  {
   "cell_type": "markdown",
   "metadata": {},
   "source": [
    "**************************************************************************************************************************************************************************************Completed******************************************************************************************************************************************************************************************"
   ]
  },
  {
   "cell_type": "markdown",
   "metadata": {},
   "source": [
    "# 3. Write a python program to access the search bar and search button on images.google.com and scrape 100 images each for keywords ‘fruits’, ‘cars’ and ‘Machine Learning’.\n",
    "\n",
    "Ans: Solution is as:-"
   ]
  },
  {
   "cell_type": "code",
   "execution_count": 79,
   "metadata": {},
   "outputs": [],
   "source": [
    "#Let's first connect to the web driver\n",
    "driver=webdriver.Chrome(\"chromedriver.exe\")"
   ]
  },
  {
   "cell_type": "code",
   "execution_count": 80,
   "metadata": {},
   "outputs": [],
   "source": [
    "#Opening webpage https://images.google.com/\n",
    "url=\"https://images.google.com\"\n",
    "driver.get(url)"
   ]
  },
  {
   "cell_type": "code",
   "execution_count": 81,
   "metadata": {},
   "outputs": [
    {
     "data": {
      "text/plain": [
       "<selenium.webdriver.remote.webelement.WebElement (session=\"b3e90a9e1c1528c03083a01c64746e69\", element=\"db4473d6-57b9-42e2-94ad-b57bf453ea6f\")>"
      ]
     },
     "execution_count": 81,
     "metadata": {},
     "output_type": "execute_result"
    }
   ],
   "source": [
    "#finding element for Image search bar\n",
    "search_pro=driver.find_element_by_xpath('//input[@class=\"gLFyf gsfi\"]')    \n",
    "search_pro"
   ]
  },
  {
   "cell_type": "code",
   "execution_count": 82,
   "metadata": {},
   "outputs": [],
   "source": [
    "#Searching for “fruits” in Search bar\n",
    "search_pro.send_keys(\"fruits\")"
   ]
  },
  {
   "cell_type": "code",
   "execution_count": 83,
   "metadata": {},
   "outputs": [],
   "source": [
    "#Clicking the Search Button using Xpath function\n",
    "search_bt=driver.find_element_by_xpath('//span[@class=\"z1asCe MZy1Rb\"]')\n",
    "search_bt.click()"
   ]
  },
  {
   "cell_type": "code",
   "execution_count": 84,
   "metadata": {},
   "outputs": [],
   "source": [
    "#using BeautifulSoup for parsing the sourcecode \n",
    "from bs4 import BeautifulSoup\n",
    "import requests"
   ]
  },
  {
   "cell_type": "code",
   "execution_count": 85,
   "metadata": {},
   "outputs": [
    {
     "data": {
      "text/plain": [
       "<Response [200]>"
      ]
     },
     "execution_count": 85,
     "metadata": {},
     "output_type": "execute_result"
    }
   ],
   "source": [
    "#fetching fruits info from images.google.com\n",
    "fruits_img=requests.get(driver.current_url)\n",
    "fruits_img"
   ]
  },
  {
   "cell_type": "code",
   "execution_count": 86,
   "metadata": {},
   "outputs": [
    {
     "data": {
      "text/plain": [
       "b'<!DOCTYPE html PUBLIC \"-//WAPFORUM//DTD XHTML Mobile 1.0//EN\" \"http://www.wapforum.org/DTD/xhtml-mobile10.dtd\"><html xmlns=\"http://www.w3.org/1999/xhtml\" lang=\"en-IN\"><head><meta content=\"application/xhtml+xml; charset=UTF-8\" http-equiv=\"Content-Type\"/><meta content=\"no-cache\" name=\"Cache-Control\"/><title>fruits - Google Search</title><style>a{text-decoration:none;color:inherit}a:hover{text-decoration:underline}a img{border:0}body{font-family:Roboto,Helvetica,Arial,sans-serif;padding:8px;margin:0 auto;max-width:700px;min-width:240px;}.FbhRzb{border-left:thin solid #dadce0;border-right:thin solid #dadce0;border-top:thin solid #dadce0;height:40px;overflow:hidden}.n692Zd{margin-bottom:10px}.cvifge{height:40px;border-spacing:0}.QvGUP{height:40px;padding:0 8px 0 8px;vertical-align:top}.O4cRJf{height:40px;width:100%;padding:0;padding-right:16px}.O1ePr{height:40px;padding:0;vertical-align:top}.kgJEQe{height:36px;width:98px;vertical-align:top;margin-top:4px}.lXLRf{vertical-align:top}.MhzMZd{border:0;vertical-align:middle;font-size:14px;height:40px;padding:0;width:100%;padding-left:16px}.xB0fq{height:40px;border:none;font-size:14px;background-color:#4285f4;color:#fff;padding:0 16px;margin:0;vertical-align:top;cursor:pointer}.xB0fq:focus{border:1px solid #000}.M7pB2{border:thin solid #dadce0;margin:0 0 3px 0;font-size:13px;font-weight:500;height:40px}.euZec{width:100%;height:40px;text-align:center;border-spacing:0}table.euZec td{padding:0;width:25%}.QIqI7{display:inline-block;padding-top:4px;font-weight:bold;color:#4285f4}.EY24We{border-bottom:2px solid #4285f4}.CsQyDc{display:inline-block;color:#70757a}.TuS8Ad{font-size:14px}.HddGcc{padding:8px;color:#70757a}.dzp8ae{font-weight:bold;color:#3c4043}.rEM8G{color:#70757a}.bookcf{table-layout:fixed;width:100%;border-spacing:0}.InWNIe{text-align:center}.uZgmoc{border:thin solid #dadce0;color:#70757a;font-size:14px;text-align:center;table-layout:fixed;width:100%}.frGj1b{display:block;padding:12px 0 12px 0;width:100%}.BnJWBc{text-align:center;padding:6px 0 13px 0;height:35px}.e3goi{vertical-align:top;padding:0;height:180px}.GpQGbf{margin:auto;border-collapse:collapse;border-spacing:0;width:100%}</style></head><body><style>.X6ZCif{color:#202124;font-size:11px;line-height:16px;display:inline-block;padding-top:2px;overflow:hidden;padding-bottom:4px;width:100%}.TwVfHd{border-radius:16px;border:thin solid #dadce0;display:inline-block;padding:8px 8px;margin-right:8px;margin-bottom:4px}.yekiAe{background-color:#dadce0}.svla5d{width:100%}.ezO2md{border:thin solid #dadce0;padding:12px 16px 12px 16px;margin-bottom:10px;font-family:Roboto,Helvetica,Arial,sans-serif}.lIMUZd{font-family:Roboto,Helvetica,Arial,sans-serif}.TxbwNb{border-spacing:0}.K35ahc{width:100%}.owohpf{text-align:center}.RAyV4b{width:162px;height:140px;line-height:140px;overflow:\\'hidden\\';text-align:center}.t0fcAb{text-align:center;margin:auto;vertical-align:middle;max-width:162px;max-height:140px}.Tor4Ec{padding-top:2px;padding-bottom:8px;}.fYyStc{word-break:break-word}.ynsChf{display:block;white-space:nowrap;overflow:hidden;text-overflow:ellipsis}.Fj3V3b{color:#1967D2;font-size:14px;line-height:20px}.FrIlee{color:#202124;font-size:11px;line-height:16px}.F9iS2e{color:#70757a;font-size:11px;line-height:16px}.WMQ2Le{color:#70757a;font-size:12px;line-height:16px}.x3G5ab{color:#202124;font-size:12px;line-height:16px}.fuLhoc{color:#1967D2;font-size:16px;line-height:20px}.epoveb{font-size:24px;line-height:28px;font-weight:400;color:#202124}.dXDvrc{color:#0d652d;font-size:14px;line-height:20px;word-wrap:break-word}.dloBPe{font-weight:bold}.YVIcad{color:#70757a}.JkVVdd{color:#ea4335}.oXZRFd{color:#ea4335}.MQHtg{color:#fbbc04}.pyMRrb{color:#1e8e3e}.EtTZid{color:#1e8e3e}.M3vVJe{color:#1967D2}.qXLe6d{display:block}.NHQNef{font-style:italic}.Cb8Z7c{white-space:pre}a.ZWRArf{text-decoration:none}a .CVA68e:hover{text-decoration:underline}</style><div class=\"n692Zd\"><div class=\"BnJWBc\"><a class=\"lXLRf\" href=\"/?biw=1034&amp;bih=528&amp;output=images&amp;ie=UTF-8&amp;tbm=isch&amp;sa=X&amp;ved=0ahUKEwj58r2v44PxAhWxIbcAHRS4DU8QPAgC\"><img class=\"kgJEQe\" src=\"/images/branding/searchlogo/1x/googlelogo_desk_heirloom_color_150x55dp.gif\" alt=\"Google\"/></a></div><div class=\"FbhRzb\"><form action=\"/search\"><input name=\"biw\" value=\"1034\" type=\"hidden\"/><input name=\"bih\" value=\"528\" type=\"hidden\"/><input name=\"ie\" value=\"ISO-8859-1\" type=\"hidden\"/><input name=\"tbm\" value=\"isch\" type=\"hidden\"/><input name=\"oq\" type=\"hidden\"/><input name=\"aqs\" type=\"hidden\"/><table class=\"cvifge\"><tr><td class=\"O4cRJf\"><input class=\"MhzMZd\" value=\"fruits\" name=\"q\" type=\"text\"/></td><td class=\"O1ePr\"><input class=\"xB0fq\" value=\"Search\" type=\"submit\"/></td></tr></table></form></div><div class=\"M7pB2\"><table class=\"euZec\"><tbody><tr><td><a class=\"CsQyDc\" href=\"/search?q=fruits&amp;biw=1034&amp;bih=528&amp;ie=UTF-8&amp;source=lnms&amp;sa=X&amp;ved=0ahUKEwj58r2v44PxAhWxIbcAHRS4DU8Q_AUIBCgA\">ALL</a></td><td class=\"EY24We\"><span class=\"QIqI7\">IMAGES</span></td><td><a class=\"CsQyDc\" href=\"/search?q=fruits&amp;biw=1034&amp;bih=528&amp;ie=UTF-8&amp;tbm=nws&amp;source=lnms&amp;sa=X&amp;ved=0ahUKEwj58r2v44PxAhWxIbcAHRS4DU8Q_AUIBigC\">NEWS</a></td><td><a class=\"CsQyDc\" href=\"/search?q=fruits&amp;biw=1034&amp;bih=528&amp;ie=UTF-8&amp;tbm=bks&amp;source=lnms&amp;sa=X&amp;ved=0ahUKEwj58r2v44PxAhWxIbcAHRS4DU8Q_AUIBygD\">BOOKS</a></td></tr></tbody></table></div></div><div class=\"X6ZCif\"><a class=\"TwVfHd\" href=\"/search?biw=1034&amp;bih=528&amp;ie=UTF-8&amp;tbm=isch&amp;q=fruits&amp;chips=q:fruits,online_chips:names&amp;sa=X&amp;ved=0ahUKEwj58r2v44PxAhWxIbcAHRS4DU8Q4lYICygA\">names</a><a class=\"TwVfHd\" href=\"/search?biw=1034&amp;bih=528&amp;ie=UTF-8&amp;tbm=isch&amp;q=fruits&amp;chips=q:fruits,online_chips:english&amp;sa=X&amp;ved=0ahUKEwj58r2v44PxAhWxIbcAHRS4DU8Q4lYIDCgB\">english</a><a class=\"TwVfHd\" href=\"/search?biw=1034&amp;bih=528&amp;ie=UTF-8&amp;tbm=isch&amp;q=fruits&amp;chips=q:fruits,online_chips:kids&amp;sa=X&amp;ved=0ahUKEwj58r2v44PxAhWxIbcAHRS4DU8Q4lYIDSgC\">kids</a><a class=\"TwVfHd\" href=\"/search?biw=1034&amp;bih=528&amp;ie=UTF-8&amp;tbm=isch&amp;q=fruits&amp;chips=q:fruits,online_chips:chart&amp;sa=X&amp;ved=0ahUKEwj58r2v44PxAhWxIbcAHRS4DU8Q4lYIDigD\">chart</a><a class=\"TwVfHd\" href=\"/search?biw=1034&amp;bih=528&amp;ie=UTF-8&amp;tbm=isch&amp;q=fruits&amp;chips=q:fruits,online_chips:list&amp;sa=X&amp;ved=0ahUKEwj58r2v44PxAhWxIbcAHRS4DU8Q4lYIDygE\">list</a><a class=\"TwVfHd\" href=\"/search?biw=1034&amp;bih=528&amp;ie=UTF-8&amp;tbm=isch&amp;q=fruits&amp;chips=q:fruits,online_chips:pictures&amp;sa=X&amp;ved=0ahUKEwj58r2v44PxAhWxIbcAHRS4DU8Q4lYIECgF\">pictures</a><a class=\"TwVfHd\" href=\"/search?biw=1034&amp;bih=528&amp;ie=UTF-8&amp;tbm=isch&amp;q=fruits&amp;chips=q:fruits,online_chips:indian&amp;sa=X&amp;ved=0ahUKEwj58r2v44PxAhWxIbcAHRS4DU8Q4lYIESgG\">indian</a><a class=\"TwVfHd\" href=\"/search?biw=1034&amp;bih=528&amp;ie=UTF-8&amp;tbm=isch&amp;q=fruits&amp;chips=q:fruits,online_chips:images&amp;sa=X&amp;ved=0ahUKEwj58r2v44PxAhWxIbcAHRS4DU8Q4lYIEigH\">images</a><a class=\"TwVfHd\" href=\"/search?biw=1034&amp;bih=528&amp;ie=UTF-8&amp;tbm=isch&amp;q=fruits&amp;chips=q:fruits,online_chips:healthy&amp;sa=X&amp;ved=0ahUKEwj58r2v44PxAhWxIbcAHRS4DU8Q4lYIEygI\">healthy</a><a class=\"TwVfHd\" href=\"/search?biw=1034&amp;bih=528&amp;ie=UTF-8&amp;tbm=isch&amp;q=fruits&amp;chips=q:fruits,online_chips:exotic&amp;sa=X&amp;ved=0ahUKEwj58r2v44PxAhWxIbcAHRS4DU8Q4lYIFCgJ\">exotic</a></div><div><table class=\"GpQGbf\"><tr><td class=\"e3goi\" align=\"center\"><div class=\"svla5d\"> <div> <div class=\"lIMUZd\"><div><table class=\"TxbwNb\"><tr><td><a href=\"/url?q=https://www.amazon.in/Fruits-All-One-Dreamland-Publications/dp/8184510594&amp;sa=U&amp;ved=2ahUKEwj58r2v44PxAhWxIbcAHRS4DU8QqoUBMAB6BAgAEAE&amp;usg=AOvVaw1Fmt5wd63b2UkDmL31O_yH\"><div class=\"RAyV4b\"><img class=\"t0fcAb\" alt=\"\" src=\"https://encrypted-tbn0.gstatic.com/images?q=tbn:ANd9GcTZHIFXuE7BzskemzHmNPU3cXoigwce2xcv8KYcWwK2yL5AHabTPMdQAfz9Lw&amp;s\"/></div></a></td></tr><tr><td><a href=\"/url?q=https://www.amazon.in/Fruits-All-One-Dreamland-Publications/dp/8184510594&amp;sa=U&amp;ved=2ahUKEwj58r2v44PxAhWxIbcAHRS4DU8Qr4kDMAB6BAgAEAI&amp;usg=AOvVaw2l1ROeLX0ROcS09iBsgu6O\"><div class=\"Tor4Ec\">  <span class=\"qXLe6d x3G5ab\">  <span class=\"fYyStc\">Buy Fruits (All in One)...</span>  </span>   <span class=\"qXLe6d F9iS2e\">  <span class=\"fYyStc\">www.amazon.in</span>  </span> </div></a></td></tr></table></div></div> </div> </div></td><td class=\"e3goi\" align=\"center\"><div class=\"svla5d\"> <div> <div class=\"lIMUZd\"><div><table class=\"TxbwNb\"><tr><td><a href=\"/url?q=https://www.goodhousekeeping.com/health/diet-nutrition/g28511617/healthiest-fruits/&amp;sa=U&amp;ved=2ahUKEwj58r2v44PxAhWxIbcAHRS4DU8QqoUBMAF6BAgREAE&amp;usg=AOvVaw0F_giVaT3JJpxBp8uAre9_\"><div class=\"RAyV4b\"><img class=\"t0fcAb\" alt=\"\" src=\"https://encrypted-tbn0.gstatic.com/images?q=tbn:ANd9GcSUoYZrOBiuhDQEVYeEORw7zrra9mMTtuxix2i91p3BIjbws0LphL257yJVndo&amp;s\"/></div></a></td></tr><tr><td><a href=\"/url?q=https://www.goodhousekeeping.com/health/diet-nutrition/g28511617/healthiest-fruits/&amp;sa=U&amp;ved=2ahUKEwj58r2v44PxAhWxIbcAHRS4DU8Qr4kDMAF6BAgREAI&amp;usg=AOvVaw3EdZeK_rgcowuYfEKO0RQ8\"><div class=\"Tor4Ec\">  <span class=\"qXLe6d x3G5ab\">  <span class=\"fYyStc\">25 Healthiest Fruits You...</span>  </span>   <span class=\"qXLe6d F9iS2e\">  <span class=\"fYyStc\">www.goodhousekeeping.com</span>  </span> </div></a></td></tr></table></div></div> </div> </div></td><td class=\"e3goi\" align=\"center\"><div class=\"svla5d\"> <div> <div class=\"lIMUZd\"><div><table class=\"TxbwNb\"><tr><td><a href=\"/url?q=https://www.healthyeating.org/nutrition-topics/general/food-groups/fruits&amp;sa=U&amp;ved=2ahUKEwj58r2v44PxAhWxIbcAHRS4DU8QqoUBMAJ6BAgQEAE&amp;usg=AOvVaw3v9uPResoCi-ZjCTzi9QIC\"><div class=\"RAyV4b\"><img class=\"t0fcAb\" alt=\"\" src=\"https://encrypted-tbn0.gstatic.com/images?q=tbn:ANd9GcRvLCDra1-f4yYFZ_Da1mlxTXPsOJ8Idz0c1OhWv7whTcKMmEj6jGY9z8QLI6k&amp;s\"/></div></a></td></tr><tr><td><a href=\"/url?q=https://www.healthyeating.org/nutrition-topics/general/food-groups/fruits&amp;sa=U&amp;ved=2ahUKEwj58r2v44PxAhWxIbcAHRS4DU8Qr4kDMAJ6BAgQEAI&amp;usg=AOvVaw1lA6WMKeIcUP2lXLSnzVoj\"><div class=\"Tor4Ec\">  <span class=\"qXLe6d x3G5ab\">  <span class=\"fYyStc\">2-2-2- ...</span>  </span>   <span class=\"qXLe6d F9iS2e\">  <span class=\"fYyStc\">www.healthyeating.org</span>  </span> </div></a></td></tr></table></div></div> </div> </div></td><td class=\"e3goi\" align=\"center\"><div class=\"svla5d\"> <div> <div class=\"lIMUZd\"><div><table class=\"TxbwNb\"><tr><td><a href=\"/url?q=https://www.pinterest.com/pin/641340803167435998/&amp;sa=U&amp;ved=2ahUKEwj58r2v44PxAhWxIbcAHRS4DU8QqoUBMAN6BAgOEAE&amp;usg=AOvVaw0fxOX60lRNuWQRch2TEFWd\"><div class=\"RAyV4b\"><img class=\"t0fcAb\" alt=\"\" src=\"https://encrypted-tbn0.gstatic.com/images?q=tbn:ANd9GcTe0v2g_QGYXqYRupDq4lrjYs6KYWi3krBEAtOk9jkoQaP0UT0gRMdQKQ_F6AM&amp;s\"/></div></a></td></tr><tr><td><a href=\"/url?q=https://www.pinterest.com/pin/641340803167435998/&amp;sa=U&amp;ved=2ahUKEwj58r2v44PxAhWxIbcAHRS4DU8Qr4kDMAN6BAgOEAI&amp;usg=AOvVaw1z2vpXmylcYMxXoP6psDPk\"><div class=\"Tor4Ec\">  <span class=\"qXLe6d x3G5ab\">  <span class=\"fYyStc\">List of Fruits: List of 40+...</span>  </span>   <span class=\"qXLe6d F9iS2e\">  <span class=\"fYyStc\">www.pinterest.com</span>  </span> </div></a></td></tr></table></div></div> </div> </div></td></tr><tr><td class=\"e3goi\" align=\"center\"><div class=\"svla5d\"> <div> <div class=\"lIMUZd\"><div><table class=\"TxbwNb\"><tr><td><a href=\"/url?q=https://www.pinterest.com/pin/tropical-fruits-list-of-25-popular-tropical-fruits-in-english-esl-forums--649081365039047796/&amp;sa=U&amp;ved=2ahUKEwj58r2v44PxAhWxIbcAHRS4DU8QqoUBMAR6BAgPEAE&amp;usg=AOvVaw21fpcXlKIwCNKo3EVq3iEp\"><div class=\"RAyV4b\"><img class=\"t0fcAb\" alt=\"\" src=\"https://encrypted-tbn0.gstatic.com/images?q=tbn:ANd9GcQ5AchXLTJ5JYEvXEW-SqkdvXPwrs0mkBibmTU1wNeb6dkqOd9piCUgxuMXag&amp;s\"/></div></a></td></tr><tr><td><a href=\"/url?q=https://www.pinterest.com/pin/tropical-fruits-list-of-25-popular-tropical-fruits-in-english-esl-forums--649081365039047796/&amp;sa=U&amp;ved=2ahUKEwj58r2v44PxAhWxIbcAHRS4DU8Qr4kDMAR6BAgPEAI&amp;usg=AOvVaw1d3Kb438cpLCyrTfpwMvzV\"><div class=\"Tor4Ec\">  <span class=\"qXLe6d x3G5ab\">  <span class=\"fYyStc\">Tropical Fruits: List of...</span>  </span>   <span class=\"qXLe6d F9iS2e\">  <span class=\"fYyStc\">www.pinterest.com</span>  </span> </div></a></td></tr></table></div></div> </div> </div></td><td class=\"e3goi\" align=\"center\"><div class=\"svla5d\"> <div> <div class=\"lIMUZd\"><div><table class=\"TxbwNb\"><tr><td><a href=\"/url?q=https://www.diabetes.co.uk/food/fruit.html&amp;sa=U&amp;ved=2ahUKEwj58r2v44PxAhWxIbcAHRS4DU8QqoUBMAV6BAgNEAE&amp;usg=AOvVaw2vuQyJg4SK7N_cpFM8vnr5\"><div class=\"RAyV4b\"><img class=\"t0fcAb\" alt=\"\" src=\"https://encrypted-tbn0.gstatic.com/images?q=tbn:ANd9GcRgmWfcGZ8MaatSc-7OPMlLqvCnuJXTpcBanoxOyBY3tHU2GFn5zIe3Pr1RDws&amp;s\"/></div></a></td></tr><tr><td><a href=\"/url?q=https://www.diabetes.co.uk/food/fruit.html&amp;sa=U&amp;ved=2ahUKEwj58r2v44PxAhWxIbcAHRS4DU8Qr4kDMAV6BAgNEAI&amp;usg=AOvVaw1RWsieMUBz5hp9iXMZRDRp\"><div class=\"Tor4Ec\">  <span class=\"qXLe6d x3G5ab\">  <span class=\"fYyStc\">Fruit and Diabetes - Can...</span>  </span>   <span class=\"qXLe6d F9iS2e\">  <span class=\"fYyStc\">www.diabetes.co.uk</span>  </span> </div></a></td></tr></table></div></div> </div> </div></td><td class=\"e3goi\" align=\"center\"><div class=\"svla5d\"> <div> <div class=\"lIMUZd\"><div><table class=\"TxbwNb\"><tr><td><a href=\"/url?q=https://www.diagnosisdiet.com/full-article/fruit&amp;sa=U&amp;ved=2ahUKEwj58r2v44PxAhWxIbcAHRS4DU8QqoUBMAZ6BAgMEAE&amp;usg=AOvVaw2yKmeiYQ3JXPqMQGirwR3i\"><div class=\"RAyV4b\"><img class=\"t0fcAb\" alt=\"\" src=\"https://encrypted-tbn0.gstatic.com/images?q=tbn:ANd9GcQE7T9x93HcU858UrGHBoW9MmDvqGo-geMbRjqC5GfHKF-uR5pC0kteyA835A&amp;s\"/></div></a></td></tr><tr><td><a href=\"/url?q=https://www.diagnosisdiet.com/full-article/fruit&amp;sa=U&amp;ved=2ahUKEwj58r2v44PxAhWxIbcAHRS4DU8Qr4kDMAZ6BAgMEAI&amp;usg=AOvVaw1AlBlotlDnuMniEbB4RF02\"><div class=\"Tor4Ec\">  <span class=\"qXLe6d x3G5ab\">  <span class=\"fYyStc\">Do We Need Fruit...</span>  </span>   <span class=\"qXLe6d F9iS2e\">  <span class=\"fYyStc\">www.diagnosisdiet.com</span>  </span> </div></a></td></tr></table></div></div> </div> </div></td><td class=\"e3goi\" align=\"center\"><div class=\"svla5d\"> <div> <div class=\"lIMUZd\"><div><table class=\"TxbwNb\"><tr><td><a href=\"/url?q=https://www.unlockfood.ca/en/Articles/Cooking-Food-Preparation/How-to-store-fruit-to-keep-them-fresh.aspx&amp;sa=U&amp;ved=2ahUKEwj58r2v44PxAhWxIbcAHRS4DU8QqoUBMAd6BAgKEAE&amp;usg=AOvVaw20Strk99fKIbakRiQSEiJe\"><div class=\"RAyV4b\"><img class=\"t0fcAb\" alt=\"\" src=\"https://encrypted-tbn0.gstatic.com/images?q=tbn:ANd9GcQYd-VnyfvVyWHUIiytGUYyEZZ48GRHBsoIwgZzQKpM9Bo9eDffmpYF55pZPCE&amp;s\"/></div></a></td></tr><tr><td><a href=\"/url?q=https://www.unlockfood.ca/en/Articles/Cooking-Food-Preparation/How-to-store-fruit-to-keep-them-fresh.aspx&amp;sa=U&amp;ved=2ahUKEwj58r2v44PxAhWxIbcAHRS4DU8Qr4kDMAd6BAgKEAI&amp;usg=AOvVaw1a32H6Nws4EhD9GQLnwEQa\"><div class=\"Tor4Ec\">  <span class=\"qXLe6d x3G5ab\">  <span class=\"fYyStc\">How to Store Fruit to Keep...</span>  </span>   <span class=\"qXLe6d F9iS2e\">  <span class=\"fYyStc\">www.unlockfood.ca</span>  </span> </div></a></td></tr></table></div></div> </div> </div></td></tr><tr><td class=\"e3goi\" align=\"center\"><div class=\"svla5d\"> <div> <div class=\"lIMUZd\"><div><table class=\"TxbwNb\"><tr><td><a href=\"/url?q=https://www.amazon.com/Spectrum-Pre-Learning-Laminated-Educational/dp/B01NA80P3J&amp;sa=U&amp;ved=2ahUKEwj58r2v44PxAhWxIbcAHRS4DU8QqoUBMAh6BAgLEAE&amp;usg=AOvVaw1p985YgcLZaB3wcgsa8nOV\"><div class=\"RAyV4b\"><img class=\"t0fcAb\" alt=\"\" src=\"https://encrypted-tbn0.gstatic.com/images?q=tbn:ANd9GcTPdxbIVK02i1ttnF7lapEfug0YxQ1NGozUiUS6sdEeiWV4YyYxkIWEMci-2A&amp;s\"/></div></a></td></tr><tr><td><a href=\"/url?q=https://www.amazon.com/Spectrum-Pre-Learning-Laminated-Educational/dp/B01NA80P3J&amp;sa=U&amp;ved=2ahUKEwj58r2v44PxAhWxIbcAHRS4DU8Qr4kDMAh6BAgLEAI&amp;usg=AOvVaw1LLa_N1DENyJPz5UbMSM93\"><div class=\"Tor4Ec\">  <span class=\"qXLe6d x3G5ab\">  <span class=\"fYyStc\">Amazon.com: Spectrum Pre -...</span>  </span>   <span class=\"qXLe6d F9iS2e\">  <span class=\"fYyStc\">www.amazon.com</span>  </span> </div></a></td></tr></table></div></div> </div> </div></td><td class=\"e3goi\" align=\"center\"><div class=\"svla5d\"> <div> <div class=\"lIMUZd\"><div><table class=\"TxbwNb\"><tr><td><a href=\"/url?q=https://analyticsindiamag.com/fruit-recognition-using-the-convolutional-neural-network/&amp;sa=U&amp;ved=2ahUKEwj58r2v44PxAhWxIbcAHRS4DU8QqoUBMAl6BAgJEAE&amp;usg=AOvVaw1qb1hKn7v4RzugjoOBqnfM\"><div class=\"RAyV4b\"><img class=\"t0fcAb\" alt=\"\" src=\"https://encrypted-tbn0.gstatic.com/images?q=tbn:ANd9GcRWw1Qy2FJQW1g3QQMQfpeYyW-woR0pQWxmIyr85Glo_Y8hpliyI9yNO5ay_A&amp;s\"/></div></a></td></tr><tr><td><a href=\"/url?q=https://analyticsindiamag.com/fruit-recognition-using-the-convolutional-neural-network/&amp;sa=U&amp;ved=2ahUKEwj58r2v44PxAhWxIbcAHRS4DU8Qr4kDMAl6BAgJEAI&amp;usg=AOvVaw1N7Xe5L_f2yuQ2rat00i8_\"><div class=\"Tor4Ec\">  <span class=\"qXLe6d x3G5ab\">  <span class=\"fYyStc\">Fruit Recognition using the...</span>  </span>   <span class=\"qXLe6d F9iS2e\">  <span class=\"fYyStc\">analyticsindiamag.com</span>  </span> </div></a></td></tr></table></div></div> </div> </div></td><td class=\"e3goi\" align=\"center\"><div class=\"svla5d\"> <div> <div class=\"lIMUZd\"><div><table class=\"TxbwNb\"><tr><td><a href=\"/url?q=https://www.eatthis.com/news-study-fruits-cause-migraine/&amp;sa=U&amp;ved=2ahUKEwj58r2v44PxAhWxIbcAHRS4DU8QqoUBMAp6BAgIEAE&amp;usg=AOvVaw3HSzJwWU4HG2gvlrYcQZ3L\"><div class=\"RAyV4b\"><img class=\"t0fcAb\" alt=\"\" src=\"https://encrypted-tbn0.gstatic.com/images?q=tbn:ANd9GcSKCGLEsvOmCqZGcQrx4dG37cPz_ID-OaMVEM7L45iLzKz8q4ME1DxJuYV1nQ&amp;s\"/></div></a></td></tr><tr><td><a href=\"/url?q=https://www.eatthis.com/news-study-fruits-cause-migraine/&amp;sa=U&amp;ved=2ahUKEwj58r2v44PxAhWxIbcAHRS4DU8Qr4kDMAp6BAgIEAI&amp;usg=AOvVaw2v1H1GXat5CHlJd3xFl10w\"><div class=\"Tor4Ec\">  <span class=\"qXLe6d x3G5ab\">  <span class=\"fYyStc\">These 9 Fruits May Trigger...</span>  </span>   <span class=\"qXLe6d F9iS2e\">  <span class=\"fYyStc\">www.eatthis.com</span>  </span> </div></a></td></tr></table></div></div> </div> </div></td><td class=\"e3goi\" align=\"center\"><div class=\"svla5d\"> <div> <div class=\"lIMUZd\"><div><table class=\"TxbwNb\"><tr><td><a href=\"/url?q=https://www.youtube.com/watch%3Fv%3DPY2OxP_jMZ0&amp;sa=U&amp;ved=2ahUKEwj58r2v44PxAhWxIbcAHRS4DU8QqoUBMAt6BAgGEAE&amp;usg=AOvVaw0k9yXjSLHhV7W9ZGrlC2Mo\"><div class=\"RAyV4b\"><img class=\"t0fcAb\" alt=\"\" src=\"https://encrypted-tbn0.gstatic.com/images?q=tbn:ANd9GcRi9MhadfHFb12JdowMFPtJIl1jcSjpQt--fstzMTNoyn3kdfa4b5nLp3Mzug&amp;s\"/></div></a></td></tr><tr><td><a href=\"/url?q=https://www.youtube.com/watch%3Fv%3DPY2OxP_jMZ0&amp;sa=U&amp;ved=2ahUKEwj58r2v44PxAhWxIbcAHRS4DU8Qr4kDMAt6BAgGEAI&amp;usg=AOvVaw282AjX0afVDxznbSnYvUMP\"><div class=\"Tor4Ec\">  <span class=\"qXLe6d x3G5ab\">  <span class=\"fYyStc\">100 Most Popular Fruits in...</span>  </span>   <span class=\"qXLe6d F9iS2e\">  <span class=\"fYyStc\">www.youtube.com</span>  </span> </div></a></td></tr></table></div></div> </div> </div></td></tr><tr><td class=\"e3goi\" align=\"center\"><div class=\"svla5d\"> <div> <div class=\"lIMUZd\"><div><table class=\"TxbwNb\"><tr><td><a href=\"/url?q=https://www.ndtv.com/health/best-time-to-eat-fruits-and-how-much-fruit-you-should-be-eating-revealed-2068528&amp;sa=U&amp;ved=2ahUKEwj58r2v44PxAhWxIbcAHRS4DU8QqoUBMAx6BAgHEAE&amp;usg=AOvVaw1PL7QaiOBeL_C5RxyTaRy9\"><div class=\"RAyV4b\"><img class=\"t0fcAb\" alt=\"\" src=\"https://encrypted-tbn0.gstatic.com/images?q=tbn:ANd9GcRpSniQ2eERANtqhOz2XxT6ULj6yiMK6uCpfVqo5QsTURQEjABClIVOIHoUgQ&amp;s\"/></div></a></td></tr><tr><td><a href=\"/url?q=https://www.ndtv.com/health/best-time-to-eat-fruits-and-how-much-fruit-you-should-be-eating-revealed-2068528&amp;sa=U&amp;ved=2ahUKEwj58r2v44PxAhWxIbcAHRS4DU8Qr4kDMAx6BAgHEAI&amp;usg=AOvVaw0_9gtyy0wFFFLPG9FHeUEr\"><div class=\"Tor4Ec\">  <span class=\"qXLe6d x3G5ab\">  <span class=\"fYyStc\">This Is the Best Time To...</span>  </span>   <span class=\"qXLe6d F9iS2e\">  <span class=\"fYyStc\">www.ndtv.com</span>  </span> </div></a></td></tr></table></div></div> </div> </div></td><td class=\"e3goi\" align=\"center\"><div class=\"svla5d\"> <div> <div class=\"lIMUZd\"><div><table class=\"TxbwNb\"><tr><td><a href=\"/url?q=https://www.verywellhealth.com/fruits-to-avoid-if-you-have-diabetes-1087587&amp;sa=U&amp;ved=2ahUKEwj58r2v44PxAhWxIbcAHRS4DU8QqoUBMA16BAgFEAE&amp;usg=AOvVaw07jDrbfAtYaaQYy3AS9Vkc\"><div class=\"RAyV4b\"><img class=\"t0fcAb\" alt=\"\" src=\"https://encrypted-tbn0.gstatic.com/images?q=tbn:ANd9GcQLfs8kjZ5oAobvQ4Gm0UD3oBSi37asnypridaRX3J14saoPa8l2xvCn9GL62I&amp;s\"/></div></a></td></tr><tr><td><a href=\"/url?q=https://www.verywellhealth.com/fruits-to-avoid-if-you-have-diabetes-1087587&amp;sa=U&amp;ved=2ahUKEwj58r2v44PxAhWxIbcAHRS4DU8Qr4kDMA16BAgFEAI&amp;usg=AOvVaw3t0_CagjeUaSROWtL_Dz6b\"><div class=\"Tor4Ec\">  <span class=\"qXLe6d x3G5ab\">  <span class=\"fYyStc\">Eating Fruit When You Have...</span>  </span>   <span class=\"qXLe6d F9iS2e\">  <span class=\"fYyStc\">www.verywellhealth.com</span>  </span> </div></a></td></tr></table></div></div> </div> </div></td><td class=\"e3goi\" align=\"center\"><div class=\"svla5d\"> <div> <div class=\"lIMUZd\"><div><table class=\"TxbwNb\"><tr><td><a href=\"/url?q=https://www.indiatvnews.com/health/when-is-the-ideal-time-to-have-fruits-667323&amp;sa=U&amp;ved=2ahUKEwj58r2v44PxAhWxIbcAHRS4DU8QqoUBMA56BAgEEAE&amp;usg=AOvVaw2gny-klKe3BQCTwkMjMgmv\"><div class=\"RAyV4b\"><img class=\"t0fcAb\" alt=\"\" src=\"https://encrypted-tbn0.gstatic.com/images?q=tbn:ANd9GcR31xnKmKKVK7O9JXBsrDx4IvooPPZmVp27UtYujlowS3Cy_f6f9Uz8ge31tPQ&amp;s\"/></div></a></td></tr><tr><td><a href=\"/url?q=https://www.indiatvnews.com/health/when-is-the-ideal-time-to-have-fruits-667323&amp;sa=U&amp;ved=2ahUKEwj58r2v44PxAhWxIbcAHRS4DU8Qr4kDMA56BAgEEAI&amp;usg=AOvVaw3wU-MiksZQvKc2IjM8n6I_\"><div class=\"Tor4Ec\">  <span class=\"qXLe6d x3G5ab\">  <span class=\"fYyStc\">When is the ideal time to...</span>  </span>   <span class=\"qXLe6d F9iS2e\">  <span class=\"fYyStc\">www.indiatvnews.com</span>  </span> </div></a></td></tr></table></div></div> </div> </div></td><td class=\"e3goi\" align=\"center\"><div class=\"svla5d\"> <div> <div class=\"lIMUZd\"><div><table class=\"TxbwNb\"><tr><td><a href=\"/url?q=https://www.healthline.com/health/fruit-combos-for-breakfast&amp;sa=U&amp;ved=2ahUKEwj58r2v44PxAhWxIbcAHRS4DU8QqoUBMA96BAgDEAE&amp;usg=AOvVaw3UiH9HM8nSYtAhZDA9EOFl\"><div class=\"RAyV4b\"><img class=\"t0fcAb\" alt=\"\" src=\"https://encrypted-tbn0.gstatic.com/images?q=tbn:ANd9GcQpC3ebFXD7zZxXmcYsDNBYVx7vi5i9x3Tm3bDQb02vtXdfspvQJvZtVCSxJQ&amp;s\"/></div></a></td></tr><tr><td><a href=\"/url?q=https://www.healthline.com/health/fruit-combos-for-breakfast&amp;sa=U&amp;ved=2ahUKEwj58r2v44PxAhWxIbcAHRS4DU8Qr4kDMA96BAgDEAI&amp;usg=AOvVaw2OMz2zaE5aQi5ZCrueumI5\"><div class=\"Tor4Ec\">  <span class=\"qXLe6d x3G5ab\">  <span class=\"fYyStc\">The Best Fruit Combos for...</span>  </span>   <span class=\"qXLe6d F9iS2e\">  <span class=\"fYyStc\">www.healthline.com</span>  </span> </div></a></td></tr></table></div></div> </div> </div></td></tr><tr><td class=\"e3goi\" align=\"center\"><div class=\"svla5d\"> <div> <div class=\"lIMUZd\"><div><table class=\"TxbwNb\"><tr><td><a href=\"/url?q=https://timesofindia.indiatimes.com/life-style/food-news/interesting-fruits-from-around-the-world/photostory/76992335.cms&amp;sa=U&amp;ved=2ahUKEwj58r2v44PxAhWxIbcAHRS4DU8QqoUBMBB6BAgTEAE&amp;usg=AOvVaw0vekAoQCKrGnhtS0yUH1ED\"><div class=\"RAyV4b\"><img class=\"t0fcAb\" alt=\"\" src=\"https://encrypted-tbn0.gstatic.com/images?q=tbn:ANd9GcRV3rEK8J6clE6rC7gwFNwQh1BNWHDxFRP520zL8GF7SS8t5mRTfe1rGVyLvw&amp;s\"/></div></a></td></tr><tr><td><a href=\"/url?q=https://timesofindia.indiatimes.com/life-style/food-news/interesting-fruits-from-around-the-world/photostory/76992335.cms&amp;sa=U&amp;ved=2ahUKEwj58r2v44PxAhWxIbcAHRS4DU8Qr4kDMBB6BAgTEAI&amp;usg=AOvVaw2--A-xV9pFz5xg_g6KZhzu\"><div class=\"Tor4Ec\">  <span class=\"qXLe6d x3G5ab\">  <span class=\"fYyStc\">Unique Fruits: Interesting...</span>  </span>   <span class=\"qXLe6d F9iS2e\">  <span class=\"fYyStc\">timesofindia.indiatimes.com...</span>  </span> </div></a></td></tr></table></div></div> </div> </div></td><td class=\"e3goi\" align=\"center\"><div class=\"svla5d\"> <div> <div class=\"lIMUZd\"><div><table class=\"TxbwNb\"><tr><td><a href=\"/url?q=https://www.learn-italian-online.net/resources/basic-italian-words-2/156-frutta.html&amp;sa=U&amp;ved=2ahUKEwj58r2v44PxAhWxIbcAHRS4DU8QqoUBMBF6BAgBEAE&amp;usg=AOvVaw31esJpmOQCm0Zm67aP1BIj\"><div class=\"RAyV4b\"><img class=\"t0fcAb\" alt=\"\" src=\"https://encrypted-tbn0.gstatic.com/images?q=tbn:ANd9GcSiCoW0R-olkq5yI8MoWDMhJuJSO9mOM-su-7oHJpJwd6K5MzsZbZ_AaAVQcw&amp;s\"/></div></a></td></tr><tr><td><a href=\"/url?q=https://www.learn-italian-online.net/resources/basic-italian-words-2/156-frutta.html&amp;sa=U&amp;ved=2ahUKEwj58r2v44PxAhWxIbcAHRS4DU8Qr4kDMBF6BAgBEAI&amp;usg=AOvVaw0XvH0rQoiyE5depHR435Xz\"><div class=\"Tor4Ec\">  <span class=\"qXLe6d x3G5ab\">  <span class=\"fYyStc\">Italian fruits names</span>  </span>   <span class=\"qXLe6d F9iS2e\">  <span class=\"fYyStc\">www.learn-italian-online.ne...</span>  </span> </div></a></td></tr></table></div></div> </div> </div></td><td class=\"e3goi\" align=\"center\"><div class=\"svla5d\"> <div> <div class=\"lIMUZd\"><div><table class=\"TxbwNb\"><tr><td><a href=\"/url?q=https://fruitguys.com/almanac/infographics/field-guide-fruit-colors/&amp;sa=U&amp;ved=2ahUKEwj58r2v44PxAhWxIbcAHRS4DU8QqoUBMBJ6BAgCEAE&amp;usg=AOvVaw3JS-drTyuTxE43odCBG02Y\"><div class=\"RAyV4b\"><img class=\"t0fcAb\" alt=\"\" src=\"https://encrypted-tbn0.gstatic.com/images?q=tbn:ANd9GcTc-ENM2M04ubHxexTMM0Ud14IKXLOUS_kJBQhowbwxBf5SOTDJXB7gGTXzh8s&amp;s\"/></div></a></td></tr><tr><td><a href=\"/url?q=https://fruitguys.com/almanac/infographics/field-guide-fruit-colors/&amp;sa=U&amp;ved=2ahUKEwj58r2v44PxAhWxIbcAHRS4DU8Qr4kDMBJ6BAgCEAI&amp;usg=AOvVaw0jYQenknpRb3_Z6jvBaHTx\"><div class=\"Tor4Ec\">  <span class=\"qXLe6d x3G5ab\">  <span class=\"fYyStc\">Field Guide to Fruit Colors...</span>  </span>   <span class=\"qXLe6d F9iS2e\">  <span class=\"fYyStc\">fruitguys.com</span>  </span> </div></a></td></tr></table></div></div> </div> </div></td><td class=\"e3goi\" align=\"center\"><div class=\"svla5d\"> <div> <div class=\"lIMUZd\"><div><table class=\"TxbwNb\"><tr><td><a href=\"/url?q=https://www.collinsdictionary.com/dictionary/english/fruit&amp;sa=U&amp;ved=2ahUKEwj58r2v44PxAhWxIbcAHRS4DU8QqoUBMBN6BAgSEAE&amp;usg=AOvVaw1vb9RdVcVqJXJ7frP7BHPP\"><div class=\"RAyV4b\"><img class=\"t0fcAb\" alt=\"\" src=\"https://encrypted-tbn0.gstatic.com/images?q=tbn:ANd9GcTkEWoPNjyljW5qHaFqky4jeUZXwIi699nmzMEEflHZbod6VOL4am6-FzWZBw&amp;s\"/></div></a></td></tr><tr><td><a href=\"/url?q=https://www.collinsdictionary.com/dictionary/english/fruit&amp;sa=U&amp;ved=2ahUKEwj58r2v44PxAhWxIbcAHRS4DU8Qr4kDMBN6BAgSEAI&amp;usg=AOvVaw2N8gV9sJo2ubMiRPTIMexZ\"><div class=\"Tor4Ec\">  <span class=\"qXLe6d x3G5ab\">  <span class=\"fYyStc\">Fruit definition and...</span>  </span>   <span class=\"qXLe6d F9iS2e\">  <span class=\"fYyStc\">www.collinsdictionary.com</span>  </span> </div></a></td></tr></table></div></div> </div> </div></td></tr></table></div><table class=\"uZgmoc\"><tbody><td><a class=\"frGj1b\" href=\"/search?q=fruits&amp;biw=1034&amp;bih=528&amp;ie=UTF-8&amp;tbm=isch&amp;ei=lCa9YPnYHrHD3LUPlPC2-AQ&amp;start=20&amp;sa=N\">Next&nbsp;&gt;</a></td></tbody></table><br/><div class=\"TuS8Ad\" data-ved=\"0ahUKEwj58r2v44PxAhWxIbcAHRS4DU8QpyoIUg\"><style>.VYM29{font-weight:bold}</style><div class=\"HddGcc\" align=\"center\"><span class=\"VYM29\">Lucknow, Uttar Pradesh</span><span>&nbsp;-&nbsp;</span><span>From your Internet address</span><span>&nbsp;-&nbsp;</span><a href=\"/url?q=https://support.google.com/websearch%3Fp%3Dws_settings_location%26hl%3Den-IN&amp;sa=U&amp;ved=0ahUKEwj58r2v44PxAhWxIbcAHRS4DU8Qty4IUw&amp;usg=AOvVaw0jINVXUqdZOapmWE5y3wUm\">Learn more</a></div><div align=\"center\"><a class=\"rEM8G\" href=\"/url?q=https://accounts.google.com/ServiceLogin%3Fcontinue%3Dhttps://www.google.com/search%253Fq%253Dfruits%2526tbm%253Disch%2526source%253Dhp%2526biw%253D1034%2526bih%253D528%2526ei%253Dgia9YOb6FZOJ4-EP4Nq4qA0%2526oq%253Dfruits%2526gs_lcp%253DCgNpbWcQDDIICAAQsQMQgwEyBQgAELEDMgUIABCxAzIICAAQsQMQgwEyBQgAELEDMgUIABCxAzIFCAAQsQMyBQgAELEDMggIABCxAxCDATIFCAAQsQNQgiZYpyZg8EBoAHAAeAGAAc8CiAGhCZIBBTItMS4zmAEAoAEBqgELZ3dzLXdpei1pbWc%2526sclient%253Dimg%2526ved%253D0ahUKEwjmw-qm44PxAhWTxDgGHWAtDtUQ4dUDCAc%26hl%3Den&amp;sa=U&amp;ved=0ahUKEwj58r2v44PxAhWxIbcAHRS4DU8Qxs8CCFQ&amp;usg=AOvVaw1-JlF_SA0doHuCs9i_XQ-d\">Sign in</a></div><div><table class=\"bookcf\"><tbody class=\"InWNIe\"><tr><td><a class=\"rEM8G\" href=\"https://www.google.com/preferences?hl=en&amp;sa=X&amp;ved=0ahUKEwj58r2v44PxAhWxIbcAHRS4DU8Qv5YECFU\">Settings</a></td><td><a class=\"rEM8G\" href=\"https://www.google.com/intl/en_in/policies/privacy/\">Privacy</a></td><td><a class=\"rEM8G\" href=\"https://www.google.com/intl/en_in/policies/terms/\">Terms</a></td></tr></tbody></table></div></div><div>  </div></body></html>'"
      ]
     },
     "execution_count": 86,
     "metadata": {},
     "output_type": "execute_result"
    }
   ],
   "source": [
    "fruits_img.content"
   ]
  },
  {
   "cell_type": "code",
   "execution_count": 87,
   "metadata": {},
   "outputs": [
    {
     "data": {
      "text/plain": [
       "<!DOCTYPE html PUBLIC \"-//WAPFORUM//DTD XHTML Mobile 1.0//EN\" \"http://www.wapforum.org/DTD/xhtml-mobile10.dtd\">\n",
       "<html lang=\"en-IN\" xmlns=\"http://www.w3.org/1999/xhtml\"><head><meta content=\"application/xhtml+xml; charset=utf-8\" http-equiv=\"Content-Type\"/><meta content=\"no-cache\" name=\"Cache-Control\"/><title>fruits - Google Search</title><style>a{text-decoration:none;color:inherit}a:hover{text-decoration:underline}a img{border:0}body{font-family:Roboto,Helvetica,Arial,sans-serif;padding:8px;margin:0 auto;max-width:700px;min-width:240px;}.FbhRzb{border-left:thin solid #dadce0;border-right:thin solid #dadce0;border-top:thin solid #dadce0;height:40px;overflow:hidden}.n692Zd{margin-bottom:10px}.cvifge{height:40px;border-spacing:0}.QvGUP{height:40px;padding:0 8px 0 8px;vertical-align:top}.O4cRJf{height:40px;width:100%;padding:0;padding-right:16px}.O1ePr{height:40px;padding:0;vertical-align:top}.kgJEQe{height:36px;width:98px;vertical-align:top;margin-top:4px}.lXLRf{vertical-align:top}.MhzMZd{border:0;vertical-align:middle;font-size:14px;height:40px;padding:0;width:100%;padding-left:16px}.xB0fq{height:40px;border:none;font-size:14px;background-color:#4285f4;color:#fff;padding:0 16px;margin:0;vertical-align:top;cursor:pointer}.xB0fq:focus{border:1px solid #000}.M7pB2{border:thin solid #dadce0;margin:0 0 3px 0;font-size:13px;font-weight:500;height:40px}.euZec{width:100%;height:40px;text-align:center;border-spacing:0}table.euZec td{padding:0;width:25%}.QIqI7{display:inline-block;padding-top:4px;font-weight:bold;color:#4285f4}.EY24We{border-bottom:2px solid #4285f4}.CsQyDc{display:inline-block;color:#70757a}.TuS8Ad{font-size:14px}.HddGcc{padding:8px;color:#70757a}.dzp8ae{font-weight:bold;color:#3c4043}.rEM8G{color:#70757a}.bookcf{table-layout:fixed;width:100%;border-spacing:0}.InWNIe{text-align:center}.uZgmoc{border:thin solid #dadce0;color:#70757a;font-size:14px;text-align:center;table-layout:fixed;width:100%}.frGj1b{display:block;padding:12px 0 12px 0;width:100%}.BnJWBc{text-align:center;padding:6px 0 13px 0;height:35px}.e3goi{vertical-align:top;padding:0;height:180px}.GpQGbf{margin:auto;border-collapse:collapse;border-spacing:0;width:100%}</style></head><body><style>.X6ZCif{color:#202124;font-size:11px;line-height:16px;display:inline-block;padding-top:2px;overflow:hidden;padding-bottom:4px;width:100%}.TwVfHd{border-radius:16px;border:thin solid #dadce0;display:inline-block;padding:8px 8px;margin-right:8px;margin-bottom:4px}.yekiAe{background-color:#dadce0}.svla5d{width:100%}.ezO2md{border:thin solid #dadce0;padding:12px 16px 12px 16px;margin-bottom:10px;font-family:Roboto,Helvetica,Arial,sans-serif}.lIMUZd{font-family:Roboto,Helvetica,Arial,sans-serif}.TxbwNb{border-spacing:0}.K35ahc{width:100%}.owohpf{text-align:center}.RAyV4b{width:162px;height:140px;line-height:140px;overflow:'hidden';text-align:center}.t0fcAb{text-align:center;margin:auto;vertical-align:middle;max-width:162px;max-height:140px}.Tor4Ec{padding-top:2px;padding-bottom:8px;}.fYyStc{word-break:break-word}.ynsChf{display:block;white-space:nowrap;overflow:hidden;text-overflow:ellipsis}.Fj3V3b{color:#1967D2;font-size:14px;line-height:20px}.FrIlee{color:#202124;font-size:11px;line-height:16px}.F9iS2e{color:#70757a;font-size:11px;line-height:16px}.WMQ2Le{color:#70757a;font-size:12px;line-height:16px}.x3G5ab{color:#202124;font-size:12px;line-height:16px}.fuLhoc{color:#1967D2;font-size:16px;line-height:20px}.epoveb{font-size:24px;line-height:28px;font-weight:400;color:#202124}.dXDvrc{color:#0d652d;font-size:14px;line-height:20px;word-wrap:break-word}.dloBPe{font-weight:bold}.YVIcad{color:#70757a}.JkVVdd{color:#ea4335}.oXZRFd{color:#ea4335}.MQHtg{color:#fbbc04}.pyMRrb{color:#1e8e3e}.EtTZid{color:#1e8e3e}.M3vVJe{color:#1967D2}.qXLe6d{display:block}.NHQNef{font-style:italic}.Cb8Z7c{white-space:pre}a.ZWRArf{text-decoration:none}a .CVA68e:hover{text-decoration:underline}</style><div class=\"n692Zd\"><div class=\"BnJWBc\"><a class=\"lXLRf\" href=\"/?biw=1034&amp;bih=528&amp;output=images&amp;ie=UTF-8&amp;tbm=isch&amp;sa=X&amp;ved=0ahUKEwj58r2v44PxAhWxIbcAHRS4DU8QPAgC\"><img alt=\"Google\" class=\"kgJEQe\" src=\"/images/branding/searchlogo/1x/googlelogo_desk_heirloom_color_150x55dp.gif\"/></a></div><div class=\"FbhRzb\"><form action=\"/search\"><input name=\"biw\" type=\"hidden\" value=\"1034\"/><input name=\"bih\" type=\"hidden\" value=\"528\"/><input name=\"ie\" type=\"hidden\" value=\"ISO-8859-1\"/><input name=\"tbm\" type=\"hidden\" value=\"isch\"/><input name=\"oq\" type=\"hidden\"/><input name=\"aqs\" type=\"hidden\"/><table class=\"cvifge\"><tr><td class=\"O4cRJf\"><input class=\"MhzMZd\" name=\"q\" type=\"text\" value=\"fruits\"/></td><td class=\"O1ePr\"><input class=\"xB0fq\" type=\"submit\" value=\"Search\"/></td></tr></table></form></div><div class=\"M7pB2\"><table class=\"euZec\"><tbody><tr><td><a class=\"CsQyDc\" href=\"/search?q=fruits&amp;biw=1034&amp;bih=528&amp;ie=UTF-8&amp;source=lnms&amp;sa=X&amp;ved=0ahUKEwj58r2v44PxAhWxIbcAHRS4DU8Q_AUIBCgA\">ALL</a></td><td class=\"EY24We\"><span class=\"QIqI7\">IMAGES</span></td><td><a class=\"CsQyDc\" href=\"/search?q=fruits&amp;biw=1034&amp;bih=528&amp;ie=UTF-8&amp;tbm=nws&amp;source=lnms&amp;sa=X&amp;ved=0ahUKEwj58r2v44PxAhWxIbcAHRS4DU8Q_AUIBigC\">NEWS</a></td><td><a class=\"CsQyDc\" href=\"/search?q=fruits&amp;biw=1034&amp;bih=528&amp;ie=UTF-8&amp;tbm=bks&amp;source=lnms&amp;sa=X&amp;ved=0ahUKEwj58r2v44PxAhWxIbcAHRS4DU8Q_AUIBygD\">BOOKS</a></td></tr></tbody></table></div></div><div class=\"X6ZCif\"><a class=\"TwVfHd\" href=\"/search?biw=1034&amp;bih=528&amp;ie=UTF-8&amp;tbm=isch&amp;q=fruits&amp;chips=q:fruits,online_chips:names&amp;sa=X&amp;ved=0ahUKEwj58r2v44PxAhWxIbcAHRS4DU8Q4lYICygA\">names</a><a class=\"TwVfHd\" href=\"/search?biw=1034&amp;bih=528&amp;ie=UTF-8&amp;tbm=isch&amp;q=fruits&amp;chips=q:fruits,online_chips:english&amp;sa=X&amp;ved=0ahUKEwj58r2v44PxAhWxIbcAHRS4DU8Q4lYIDCgB\">english</a><a class=\"TwVfHd\" href=\"/search?biw=1034&amp;bih=528&amp;ie=UTF-8&amp;tbm=isch&amp;q=fruits&amp;chips=q:fruits,online_chips:kids&amp;sa=X&amp;ved=0ahUKEwj58r2v44PxAhWxIbcAHRS4DU8Q4lYIDSgC\">kids</a><a class=\"TwVfHd\" href=\"/search?biw=1034&amp;bih=528&amp;ie=UTF-8&amp;tbm=isch&amp;q=fruits&amp;chips=q:fruits,online_chips:chart&amp;sa=X&amp;ved=0ahUKEwj58r2v44PxAhWxIbcAHRS4DU8Q4lYIDigD\">chart</a><a class=\"TwVfHd\" href=\"/search?biw=1034&amp;bih=528&amp;ie=UTF-8&amp;tbm=isch&amp;q=fruits&amp;chips=q:fruits,online_chips:list&amp;sa=X&amp;ved=0ahUKEwj58r2v44PxAhWxIbcAHRS4DU8Q4lYIDygE\">list</a><a class=\"TwVfHd\" href=\"/search?biw=1034&amp;bih=528&amp;ie=UTF-8&amp;tbm=isch&amp;q=fruits&amp;chips=q:fruits,online_chips:pictures&amp;sa=X&amp;ved=0ahUKEwj58r2v44PxAhWxIbcAHRS4DU8Q4lYIECgF\">pictures</a><a class=\"TwVfHd\" href=\"/search?biw=1034&amp;bih=528&amp;ie=UTF-8&amp;tbm=isch&amp;q=fruits&amp;chips=q:fruits,online_chips:indian&amp;sa=X&amp;ved=0ahUKEwj58r2v44PxAhWxIbcAHRS4DU8Q4lYIESgG\">indian</a><a class=\"TwVfHd\" href=\"/search?biw=1034&amp;bih=528&amp;ie=UTF-8&amp;tbm=isch&amp;q=fruits&amp;chips=q:fruits,online_chips:images&amp;sa=X&amp;ved=0ahUKEwj58r2v44PxAhWxIbcAHRS4DU8Q4lYIEigH\">images</a><a class=\"TwVfHd\" href=\"/search?biw=1034&amp;bih=528&amp;ie=UTF-8&amp;tbm=isch&amp;q=fruits&amp;chips=q:fruits,online_chips:healthy&amp;sa=X&amp;ved=0ahUKEwj58r2v44PxAhWxIbcAHRS4DU8Q4lYIEygI\">healthy</a><a class=\"TwVfHd\" href=\"/search?biw=1034&amp;bih=528&amp;ie=UTF-8&amp;tbm=isch&amp;q=fruits&amp;chips=q:fruits,online_chips:exotic&amp;sa=X&amp;ved=0ahUKEwj58r2v44PxAhWxIbcAHRS4DU8Q4lYIFCgJ\">exotic</a></div><div><table class=\"GpQGbf\"><tr><td align=\"center\" class=\"e3goi\"><div class=\"svla5d\"> <div> <div class=\"lIMUZd\"><div><table class=\"TxbwNb\"><tr><td><a href=\"/url?q=https://www.amazon.in/Fruits-All-One-Dreamland-Publications/dp/8184510594&amp;sa=U&amp;ved=2ahUKEwj58r2v44PxAhWxIbcAHRS4DU8QqoUBMAB6BAgAEAE&amp;usg=AOvVaw1Fmt5wd63b2UkDmL31O_yH\"><div class=\"RAyV4b\"><img alt=\"\" class=\"t0fcAb\" src=\"https://encrypted-tbn0.gstatic.com/images?q=tbn:ANd9GcTZHIFXuE7BzskemzHmNPU3cXoigwce2xcv8KYcWwK2yL5AHabTPMdQAfz9Lw&amp;s\"/></div></a></td></tr><tr><td><a href=\"/url?q=https://www.amazon.in/Fruits-All-One-Dreamland-Publications/dp/8184510594&amp;sa=U&amp;ved=2ahUKEwj58r2v44PxAhWxIbcAHRS4DU8Qr4kDMAB6BAgAEAI&amp;usg=AOvVaw2l1ROeLX0ROcS09iBsgu6O\"><div class=\"Tor4Ec\"> <span class=\"qXLe6d x3G5ab\"> <span class=\"fYyStc\">Buy Fruits (All in One)...</span> </span> <span class=\"qXLe6d F9iS2e\"> <span class=\"fYyStc\">www.amazon.in</span> </span> </div></a></td></tr></table></div></div> </div> </div></td><td align=\"center\" class=\"e3goi\"><div class=\"svla5d\"> <div> <div class=\"lIMUZd\"><div><table class=\"TxbwNb\"><tr><td><a href=\"/url?q=https://www.goodhousekeeping.com/health/diet-nutrition/g28511617/healthiest-fruits/&amp;sa=U&amp;ved=2ahUKEwj58r2v44PxAhWxIbcAHRS4DU8QqoUBMAF6BAgREAE&amp;usg=AOvVaw0F_giVaT3JJpxBp8uAre9_\"><div class=\"RAyV4b\"><img alt=\"\" class=\"t0fcAb\" src=\"https://encrypted-tbn0.gstatic.com/images?q=tbn:ANd9GcSUoYZrOBiuhDQEVYeEORw7zrra9mMTtuxix2i91p3BIjbws0LphL257yJVndo&amp;s\"/></div></a></td></tr><tr><td><a href=\"/url?q=https://www.goodhousekeeping.com/health/diet-nutrition/g28511617/healthiest-fruits/&amp;sa=U&amp;ved=2ahUKEwj58r2v44PxAhWxIbcAHRS4DU8Qr4kDMAF6BAgREAI&amp;usg=AOvVaw3EdZeK_rgcowuYfEKO0RQ8\"><div class=\"Tor4Ec\"> <span class=\"qXLe6d x3G5ab\"> <span class=\"fYyStc\">25 Healthiest Fruits You...</span> </span> <span class=\"qXLe6d F9iS2e\"> <span class=\"fYyStc\">www.goodhousekeeping.com</span> </span> </div></a></td></tr></table></div></div> </div> </div></td><td align=\"center\" class=\"e3goi\"><div class=\"svla5d\"> <div> <div class=\"lIMUZd\"><div><table class=\"TxbwNb\"><tr><td><a href=\"/url?q=https://www.healthyeating.org/nutrition-topics/general/food-groups/fruits&amp;sa=U&amp;ved=2ahUKEwj58r2v44PxAhWxIbcAHRS4DU8QqoUBMAJ6BAgQEAE&amp;usg=AOvVaw3v9uPResoCi-ZjCTzi9QIC\"><div class=\"RAyV4b\"><img alt=\"\" class=\"t0fcAb\" src=\"https://encrypted-tbn0.gstatic.com/images?q=tbn:ANd9GcRvLCDra1-f4yYFZ_Da1mlxTXPsOJ8Idz0c1OhWv7whTcKMmEj6jGY9z8QLI6k&amp;s\"/></div></a></td></tr><tr><td><a href=\"/url?q=https://www.healthyeating.org/nutrition-topics/general/food-groups/fruits&amp;sa=U&amp;ved=2ahUKEwj58r2v44PxAhWxIbcAHRS4DU8Qr4kDMAJ6BAgQEAI&amp;usg=AOvVaw1lA6WMKeIcUP2lXLSnzVoj\"><div class=\"Tor4Ec\"> <span class=\"qXLe6d x3G5ab\"> <span class=\"fYyStc\">2-2-2- ...</span> </span> <span class=\"qXLe6d F9iS2e\"> <span class=\"fYyStc\">www.healthyeating.org</span> </span> </div></a></td></tr></table></div></div> </div> </div></td><td align=\"center\" class=\"e3goi\"><div class=\"svla5d\"> <div> <div class=\"lIMUZd\"><div><table class=\"TxbwNb\"><tr><td><a href=\"/url?q=https://www.pinterest.com/pin/641340803167435998/&amp;sa=U&amp;ved=2ahUKEwj58r2v44PxAhWxIbcAHRS4DU8QqoUBMAN6BAgOEAE&amp;usg=AOvVaw0fxOX60lRNuWQRch2TEFWd\"><div class=\"RAyV4b\"><img alt=\"\" class=\"t0fcAb\" src=\"https://encrypted-tbn0.gstatic.com/images?q=tbn:ANd9GcTe0v2g_QGYXqYRupDq4lrjYs6KYWi3krBEAtOk9jkoQaP0UT0gRMdQKQ_F6AM&amp;s\"/></div></a></td></tr><tr><td><a href=\"/url?q=https://www.pinterest.com/pin/641340803167435998/&amp;sa=U&amp;ved=2ahUKEwj58r2v44PxAhWxIbcAHRS4DU8Qr4kDMAN6BAgOEAI&amp;usg=AOvVaw1z2vpXmylcYMxXoP6psDPk\"><div class=\"Tor4Ec\"> <span class=\"qXLe6d x3G5ab\"> <span class=\"fYyStc\">List of Fruits: List of 40+...</span> </span> <span class=\"qXLe6d F9iS2e\"> <span class=\"fYyStc\">www.pinterest.com</span> </span> </div></a></td></tr></table></div></div> </div> </div></td></tr><tr><td align=\"center\" class=\"e3goi\"><div class=\"svla5d\"> <div> <div class=\"lIMUZd\"><div><table class=\"TxbwNb\"><tr><td><a href=\"/url?q=https://www.pinterest.com/pin/tropical-fruits-list-of-25-popular-tropical-fruits-in-english-esl-forums--649081365039047796/&amp;sa=U&amp;ved=2ahUKEwj58r2v44PxAhWxIbcAHRS4DU8QqoUBMAR6BAgPEAE&amp;usg=AOvVaw21fpcXlKIwCNKo3EVq3iEp\"><div class=\"RAyV4b\"><img alt=\"\" class=\"t0fcAb\" src=\"https://encrypted-tbn0.gstatic.com/images?q=tbn:ANd9GcQ5AchXLTJ5JYEvXEW-SqkdvXPwrs0mkBibmTU1wNeb6dkqOd9piCUgxuMXag&amp;s\"/></div></a></td></tr><tr><td><a href=\"/url?q=https://www.pinterest.com/pin/tropical-fruits-list-of-25-popular-tropical-fruits-in-english-esl-forums--649081365039047796/&amp;sa=U&amp;ved=2ahUKEwj58r2v44PxAhWxIbcAHRS4DU8Qr4kDMAR6BAgPEAI&amp;usg=AOvVaw1d3Kb438cpLCyrTfpwMvzV\"><div class=\"Tor4Ec\"> <span class=\"qXLe6d x3G5ab\"> <span class=\"fYyStc\">Tropical Fruits: List of...</span> </span> <span class=\"qXLe6d F9iS2e\"> <span class=\"fYyStc\">www.pinterest.com</span> </span> </div></a></td></tr></table></div></div> </div> </div></td><td align=\"center\" class=\"e3goi\"><div class=\"svla5d\"> <div> <div class=\"lIMUZd\"><div><table class=\"TxbwNb\"><tr><td><a href=\"/url?q=https://www.diabetes.co.uk/food/fruit.html&amp;sa=U&amp;ved=2ahUKEwj58r2v44PxAhWxIbcAHRS4DU8QqoUBMAV6BAgNEAE&amp;usg=AOvVaw2vuQyJg4SK7N_cpFM8vnr5\"><div class=\"RAyV4b\"><img alt=\"\" class=\"t0fcAb\" src=\"https://encrypted-tbn0.gstatic.com/images?q=tbn:ANd9GcRgmWfcGZ8MaatSc-7OPMlLqvCnuJXTpcBanoxOyBY3tHU2GFn5zIe3Pr1RDws&amp;s\"/></div></a></td></tr><tr><td><a href=\"/url?q=https://www.diabetes.co.uk/food/fruit.html&amp;sa=U&amp;ved=2ahUKEwj58r2v44PxAhWxIbcAHRS4DU8Qr4kDMAV6BAgNEAI&amp;usg=AOvVaw1RWsieMUBz5hp9iXMZRDRp\"><div class=\"Tor4Ec\"> <span class=\"qXLe6d x3G5ab\"> <span class=\"fYyStc\">Fruit and Diabetes - Can...</span> </span> <span class=\"qXLe6d F9iS2e\"> <span class=\"fYyStc\">www.diabetes.co.uk</span> </span> </div></a></td></tr></table></div></div> </div> </div></td><td align=\"center\" class=\"e3goi\"><div class=\"svla5d\"> <div> <div class=\"lIMUZd\"><div><table class=\"TxbwNb\"><tr><td><a href=\"/url?q=https://www.diagnosisdiet.com/full-article/fruit&amp;sa=U&amp;ved=2ahUKEwj58r2v44PxAhWxIbcAHRS4DU8QqoUBMAZ6BAgMEAE&amp;usg=AOvVaw2yKmeiYQ3JXPqMQGirwR3i\"><div class=\"RAyV4b\"><img alt=\"\" class=\"t0fcAb\" src=\"https://encrypted-tbn0.gstatic.com/images?q=tbn:ANd9GcQE7T9x93HcU858UrGHBoW9MmDvqGo-geMbRjqC5GfHKF-uR5pC0kteyA835A&amp;s\"/></div></a></td></tr><tr><td><a href=\"/url?q=https://www.diagnosisdiet.com/full-article/fruit&amp;sa=U&amp;ved=2ahUKEwj58r2v44PxAhWxIbcAHRS4DU8Qr4kDMAZ6BAgMEAI&amp;usg=AOvVaw1AlBlotlDnuMniEbB4RF02\"><div class=\"Tor4Ec\"> <span class=\"qXLe6d x3G5ab\"> <span class=\"fYyStc\">Do We Need Fruit...</span> </span> <span class=\"qXLe6d F9iS2e\"> <span class=\"fYyStc\">www.diagnosisdiet.com</span> </span> </div></a></td></tr></table></div></div> </div> </div></td><td align=\"center\" class=\"e3goi\"><div class=\"svla5d\"> <div> <div class=\"lIMUZd\"><div><table class=\"TxbwNb\"><tr><td><a href=\"/url?q=https://www.unlockfood.ca/en/Articles/Cooking-Food-Preparation/How-to-store-fruit-to-keep-them-fresh.aspx&amp;sa=U&amp;ved=2ahUKEwj58r2v44PxAhWxIbcAHRS4DU8QqoUBMAd6BAgKEAE&amp;usg=AOvVaw20Strk99fKIbakRiQSEiJe\"><div class=\"RAyV4b\"><img alt=\"\" class=\"t0fcAb\" src=\"https://encrypted-tbn0.gstatic.com/images?q=tbn:ANd9GcQYd-VnyfvVyWHUIiytGUYyEZZ48GRHBsoIwgZzQKpM9Bo9eDffmpYF55pZPCE&amp;s\"/></div></a></td></tr><tr><td><a href=\"/url?q=https://www.unlockfood.ca/en/Articles/Cooking-Food-Preparation/How-to-store-fruit-to-keep-them-fresh.aspx&amp;sa=U&amp;ved=2ahUKEwj58r2v44PxAhWxIbcAHRS4DU8Qr4kDMAd6BAgKEAI&amp;usg=AOvVaw1a32H6Nws4EhD9GQLnwEQa\"><div class=\"Tor4Ec\"> <span class=\"qXLe6d x3G5ab\"> <span class=\"fYyStc\">How to Store Fruit to Keep...</span> </span> <span class=\"qXLe6d F9iS2e\"> <span class=\"fYyStc\">www.unlockfood.ca</span> </span> </div></a></td></tr></table></div></div> </div> </div></td></tr><tr><td align=\"center\" class=\"e3goi\"><div class=\"svla5d\"> <div> <div class=\"lIMUZd\"><div><table class=\"TxbwNb\"><tr><td><a href=\"/url?q=https://www.amazon.com/Spectrum-Pre-Learning-Laminated-Educational/dp/B01NA80P3J&amp;sa=U&amp;ved=2ahUKEwj58r2v44PxAhWxIbcAHRS4DU8QqoUBMAh6BAgLEAE&amp;usg=AOvVaw1p985YgcLZaB3wcgsa8nOV\"><div class=\"RAyV4b\"><img alt=\"\" class=\"t0fcAb\" src=\"https://encrypted-tbn0.gstatic.com/images?q=tbn:ANd9GcTPdxbIVK02i1ttnF7lapEfug0YxQ1NGozUiUS6sdEeiWV4YyYxkIWEMci-2A&amp;s\"/></div></a></td></tr><tr><td><a href=\"/url?q=https://www.amazon.com/Spectrum-Pre-Learning-Laminated-Educational/dp/B01NA80P3J&amp;sa=U&amp;ved=2ahUKEwj58r2v44PxAhWxIbcAHRS4DU8Qr4kDMAh6BAgLEAI&amp;usg=AOvVaw1LLa_N1DENyJPz5UbMSM93\"><div class=\"Tor4Ec\"> <span class=\"qXLe6d x3G5ab\"> <span class=\"fYyStc\">Amazon.com: Spectrum Pre -...</span> </span> <span class=\"qXLe6d F9iS2e\"> <span class=\"fYyStc\">www.amazon.com</span> </span> </div></a></td></tr></table></div></div> </div> </div></td><td align=\"center\" class=\"e3goi\"><div class=\"svla5d\"> <div> <div class=\"lIMUZd\"><div><table class=\"TxbwNb\"><tr><td><a href=\"/url?q=https://analyticsindiamag.com/fruit-recognition-using-the-convolutional-neural-network/&amp;sa=U&amp;ved=2ahUKEwj58r2v44PxAhWxIbcAHRS4DU8QqoUBMAl6BAgJEAE&amp;usg=AOvVaw1qb1hKn7v4RzugjoOBqnfM\"><div class=\"RAyV4b\"><img alt=\"\" class=\"t0fcAb\" src=\"https://encrypted-tbn0.gstatic.com/images?q=tbn:ANd9GcRWw1Qy2FJQW1g3QQMQfpeYyW-woR0pQWxmIyr85Glo_Y8hpliyI9yNO5ay_A&amp;s\"/></div></a></td></tr><tr><td><a href=\"/url?q=https://analyticsindiamag.com/fruit-recognition-using-the-convolutional-neural-network/&amp;sa=U&amp;ved=2ahUKEwj58r2v44PxAhWxIbcAHRS4DU8Qr4kDMAl6BAgJEAI&amp;usg=AOvVaw1N7Xe5L_f2yuQ2rat00i8_\"><div class=\"Tor4Ec\"> <span class=\"qXLe6d x3G5ab\"> <span class=\"fYyStc\">Fruit Recognition using the...</span> </span> <span class=\"qXLe6d F9iS2e\"> <span class=\"fYyStc\">analyticsindiamag.com</span> </span> </div></a></td></tr></table></div></div> </div> </div></td><td align=\"center\" class=\"e3goi\"><div class=\"svla5d\"> <div> <div class=\"lIMUZd\"><div><table class=\"TxbwNb\"><tr><td><a href=\"/url?q=https://www.eatthis.com/news-study-fruits-cause-migraine/&amp;sa=U&amp;ved=2ahUKEwj58r2v44PxAhWxIbcAHRS4DU8QqoUBMAp6BAgIEAE&amp;usg=AOvVaw3HSzJwWU4HG2gvlrYcQZ3L\"><div class=\"RAyV4b\"><img alt=\"\" class=\"t0fcAb\" src=\"https://encrypted-tbn0.gstatic.com/images?q=tbn:ANd9GcSKCGLEsvOmCqZGcQrx4dG37cPz_ID-OaMVEM7L45iLzKz8q4ME1DxJuYV1nQ&amp;s\"/></div></a></td></tr><tr><td><a href=\"/url?q=https://www.eatthis.com/news-study-fruits-cause-migraine/&amp;sa=U&amp;ved=2ahUKEwj58r2v44PxAhWxIbcAHRS4DU8Qr4kDMAp6BAgIEAI&amp;usg=AOvVaw2v1H1GXat5CHlJd3xFl10w\"><div class=\"Tor4Ec\"> <span class=\"qXLe6d x3G5ab\"> <span class=\"fYyStc\">These 9 Fruits May Trigger...</span> </span> <span class=\"qXLe6d F9iS2e\"> <span class=\"fYyStc\">www.eatthis.com</span> </span> </div></a></td></tr></table></div></div> </div> </div></td><td align=\"center\" class=\"e3goi\"><div class=\"svla5d\"> <div> <div class=\"lIMUZd\"><div><table class=\"TxbwNb\"><tr><td><a href=\"/url?q=https://www.youtube.com/watch%3Fv%3DPY2OxP_jMZ0&amp;sa=U&amp;ved=2ahUKEwj58r2v44PxAhWxIbcAHRS4DU8QqoUBMAt6BAgGEAE&amp;usg=AOvVaw0k9yXjSLHhV7W9ZGrlC2Mo\"><div class=\"RAyV4b\"><img alt=\"\" class=\"t0fcAb\" src=\"https://encrypted-tbn0.gstatic.com/images?q=tbn:ANd9GcRi9MhadfHFb12JdowMFPtJIl1jcSjpQt--fstzMTNoyn3kdfa4b5nLp3Mzug&amp;s\"/></div></a></td></tr><tr><td><a href=\"/url?q=https://www.youtube.com/watch%3Fv%3DPY2OxP_jMZ0&amp;sa=U&amp;ved=2ahUKEwj58r2v44PxAhWxIbcAHRS4DU8Qr4kDMAt6BAgGEAI&amp;usg=AOvVaw282AjX0afVDxznbSnYvUMP\"><div class=\"Tor4Ec\"> <span class=\"qXLe6d x3G5ab\"> <span class=\"fYyStc\">100 Most Popular Fruits in...</span> </span> <span class=\"qXLe6d F9iS2e\"> <span class=\"fYyStc\">www.youtube.com</span> </span> </div></a></td></tr></table></div></div> </div> </div></td></tr><tr><td align=\"center\" class=\"e3goi\"><div class=\"svla5d\"> <div> <div class=\"lIMUZd\"><div><table class=\"TxbwNb\"><tr><td><a href=\"/url?q=https://www.ndtv.com/health/best-time-to-eat-fruits-and-how-much-fruit-you-should-be-eating-revealed-2068528&amp;sa=U&amp;ved=2ahUKEwj58r2v44PxAhWxIbcAHRS4DU8QqoUBMAx6BAgHEAE&amp;usg=AOvVaw1PL7QaiOBeL_C5RxyTaRy9\"><div class=\"RAyV4b\"><img alt=\"\" class=\"t0fcAb\" src=\"https://encrypted-tbn0.gstatic.com/images?q=tbn:ANd9GcRpSniQ2eERANtqhOz2XxT6ULj6yiMK6uCpfVqo5QsTURQEjABClIVOIHoUgQ&amp;s\"/></div></a></td></tr><tr><td><a href=\"/url?q=https://www.ndtv.com/health/best-time-to-eat-fruits-and-how-much-fruit-you-should-be-eating-revealed-2068528&amp;sa=U&amp;ved=2ahUKEwj58r2v44PxAhWxIbcAHRS4DU8Qr4kDMAx6BAgHEAI&amp;usg=AOvVaw0_9gtyy0wFFFLPG9FHeUEr\"><div class=\"Tor4Ec\"> <span class=\"qXLe6d x3G5ab\"> <span class=\"fYyStc\">This Is the Best Time To...</span> </span> <span class=\"qXLe6d F9iS2e\"> <span class=\"fYyStc\">www.ndtv.com</span> </span> </div></a></td></tr></table></div></div> </div> </div></td><td align=\"center\" class=\"e3goi\"><div class=\"svla5d\"> <div> <div class=\"lIMUZd\"><div><table class=\"TxbwNb\"><tr><td><a href=\"/url?q=https://www.verywellhealth.com/fruits-to-avoid-if-you-have-diabetes-1087587&amp;sa=U&amp;ved=2ahUKEwj58r2v44PxAhWxIbcAHRS4DU8QqoUBMA16BAgFEAE&amp;usg=AOvVaw07jDrbfAtYaaQYy3AS9Vkc\"><div class=\"RAyV4b\"><img alt=\"\" class=\"t0fcAb\" src=\"https://encrypted-tbn0.gstatic.com/images?q=tbn:ANd9GcQLfs8kjZ5oAobvQ4Gm0UD3oBSi37asnypridaRX3J14saoPa8l2xvCn9GL62I&amp;s\"/></div></a></td></tr><tr><td><a href=\"/url?q=https://www.verywellhealth.com/fruits-to-avoid-if-you-have-diabetes-1087587&amp;sa=U&amp;ved=2ahUKEwj58r2v44PxAhWxIbcAHRS4DU8Qr4kDMA16BAgFEAI&amp;usg=AOvVaw3t0_CagjeUaSROWtL_Dz6b\"><div class=\"Tor4Ec\"> <span class=\"qXLe6d x3G5ab\"> <span class=\"fYyStc\">Eating Fruit When You Have...</span> </span> <span class=\"qXLe6d F9iS2e\"> <span class=\"fYyStc\">www.verywellhealth.com</span> </span> </div></a></td></tr></table></div></div> </div> </div></td><td align=\"center\" class=\"e3goi\"><div class=\"svla5d\"> <div> <div class=\"lIMUZd\"><div><table class=\"TxbwNb\"><tr><td><a href=\"/url?q=https://www.indiatvnews.com/health/when-is-the-ideal-time-to-have-fruits-667323&amp;sa=U&amp;ved=2ahUKEwj58r2v44PxAhWxIbcAHRS4DU8QqoUBMA56BAgEEAE&amp;usg=AOvVaw2gny-klKe3BQCTwkMjMgmv\"><div class=\"RAyV4b\"><img alt=\"\" class=\"t0fcAb\" src=\"https://encrypted-tbn0.gstatic.com/images?q=tbn:ANd9GcR31xnKmKKVK7O9JXBsrDx4IvooPPZmVp27UtYujlowS3Cy_f6f9Uz8ge31tPQ&amp;s\"/></div></a></td></tr><tr><td><a href=\"/url?q=https://www.indiatvnews.com/health/when-is-the-ideal-time-to-have-fruits-667323&amp;sa=U&amp;ved=2ahUKEwj58r2v44PxAhWxIbcAHRS4DU8Qr4kDMA56BAgEEAI&amp;usg=AOvVaw3wU-MiksZQvKc2IjM8n6I_\"><div class=\"Tor4Ec\"> <span class=\"qXLe6d x3G5ab\"> <span class=\"fYyStc\">When is the ideal time to...</span> </span> <span class=\"qXLe6d F9iS2e\"> <span class=\"fYyStc\">www.indiatvnews.com</span> </span> </div></a></td></tr></table></div></div> </div> </div></td><td align=\"center\" class=\"e3goi\"><div class=\"svla5d\"> <div> <div class=\"lIMUZd\"><div><table class=\"TxbwNb\"><tr><td><a href=\"/url?q=https://www.healthline.com/health/fruit-combos-for-breakfast&amp;sa=U&amp;ved=2ahUKEwj58r2v44PxAhWxIbcAHRS4DU8QqoUBMA96BAgDEAE&amp;usg=AOvVaw3UiH9HM8nSYtAhZDA9EOFl\"><div class=\"RAyV4b\"><img alt=\"\" class=\"t0fcAb\" src=\"https://encrypted-tbn0.gstatic.com/images?q=tbn:ANd9GcQpC3ebFXD7zZxXmcYsDNBYVx7vi5i9x3Tm3bDQb02vtXdfspvQJvZtVCSxJQ&amp;s\"/></div></a></td></tr><tr><td><a href=\"/url?q=https://www.healthline.com/health/fruit-combos-for-breakfast&amp;sa=U&amp;ved=2ahUKEwj58r2v44PxAhWxIbcAHRS4DU8Qr4kDMA96BAgDEAI&amp;usg=AOvVaw2OMz2zaE5aQi5ZCrueumI5\"><div class=\"Tor4Ec\"> <span class=\"qXLe6d x3G5ab\"> <span class=\"fYyStc\">The Best Fruit Combos for...</span> </span> <span class=\"qXLe6d F9iS2e\"> <span class=\"fYyStc\">www.healthline.com</span> </span> </div></a></td></tr></table></div></div> </div> </div></td></tr><tr><td align=\"center\" class=\"e3goi\"><div class=\"svla5d\"> <div> <div class=\"lIMUZd\"><div><table class=\"TxbwNb\"><tr><td><a href=\"/url?q=https://timesofindia.indiatimes.com/life-style/food-news/interesting-fruits-from-around-the-world/photostory/76992335.cms&amp;sa=U&amp;ved=2ahUKEwj58r2v44PxAhWxIbcAHRS4DU8QqoUBMBB6BAgTEAE&amp;usg=AOvVaw0vekAoQCKrGnhtS0yUH1ED\"><div class=\"RAyV4b\"><img alt=\"\" class=\"t0fcAb\" src=\"https://encrypted-tbn0.gstatic.com/images?q=tbn:ANd9GcRV3rEK8J6clE6rC7gwFNwQh1BNWHDxFRP520zL8GF7SS8t5mRTfe1rGVyLvw&amp;s\"/></div></a></td></tr><tr><td><a href=\"/url?q=https://timesofindia.indiatimes.com/life-style/food-news/interesting-fruits-from-around-the-world/photostory/76992335.cms&amp;sa=U&amp;ved=2ahUKEwj58r2v44PxAhWxIbcAHRS4DU8Qr4kDMBB6BAgTEAI&amp;usg=AOvVaw2--A-xV9pFz5xg_g6KZhzu\"><div class=\"Tor4Ec\"> <span class=\"qXLe6d x3G5ab\"> <span class=\"fYyStc\">Unique Fruits: Interesting...</span> </span> <span class=\"qXLe6d F9iS2e\"> <span class=\"fYyStc\">timesofindia.indiatimes.com...</span> </span> </div></a></td></tr></table></div></div> </div> </div></td><td align=\"center\" class=\"e3goi\"><div class=\"svla5d\"> <div> <div class=\"lIMUZd\"><div><table class=\"TxbwNb\"><tr><td><a href=\"/url?q=https://www.learn-italian-online.net/resources/basic-italian-words-2/156-frutta.html&amp;sa=U&amp;ved=2ahUKEwj58r2v44PxAhWxIbcAHRS4DU8QqoUBMBF6BAgBEAE&amp;usg=AOvVaw31esJpmOQCm0Zm67aP1BIj\"><div class=\"RAyV4b\"><img alt=\"\" class=\"t0fcAb\" src=\"https://encrypted-tbn0.gstatic.com/images?q=tbn:ANd9GcSiCoW0R-olkq5yI8MoWDMhJuJSO9mOM-su-7oHJpJwd6K5MzsZbZ_AaAVQcw&amp;s\"/></div></a></td></tr><tr><td><a href=\"/url?q=https://www.learn-italian-online.net/resources/basic-italian-words-2/156-frutta.html&amp;sa=U&amp;ved=2ahUKEwj58r2v44PxAhWxIbcAHRS4DU8Qr4kDMBF6BAgBEAI&amp;usg=AOvVaw0XvH0rQoiyE5depHR435Xz\"><div class=\"Tor4Ec\"> <span class=\"qXLe6d x3G5ab\"> <span class=\"fYyStc\">Italian fruits names</span> </span> <span class=\"qXLe6d F9iS2e\"> <span class=\"fYyStc\">www.learn-italian-online.ne...</span> </span> </div></a></td></tr></table></div></div> </div> </div></td><td align=\"center\" class=\"e3goi\"><div class=\"svla5d\"> <div> <div class=\"lIMUZd\"><div><table class=\"TxbwNb\"><tr><td><a href=\"/url?q=https://fruitguys.com/almanac/infographics/field-guide-fruit-colors/&amp;sa=U&amp;ved=2ahUKEwj58r2v44PxAhWxIbcAHRS4DU8QqoUBMBJ6BAgCEAE&amp;usg=AOvVaw3JS-drTyuTxE43odCBG02Y\"><div class=\"RAyV4b\"><img alt=\"\" class=\"t0fcAb\" src=\"https://encrypted-tbn0.gstatic.com/images?q=tbn:ANd9GcTc-ENM2M04ubHxexTMM0Ud14IKXLOUS_kJBQhowbwxBf5SOTDJXB7gGTXzh8s&amp;s\"/></div></a></td></tr><tr><td><a href=\"/url?q=https://fruitguys.com/almanac/infographics/field-guide-fruit-colors/&amp;sa=U&amp;ved=2ahUKEwj58r2v44PxAhWxIbcAHRS4DU8Qr4kDMBJ6BAgCEAI&amp;usg=AOvVaw0jYQenknpRb3_Z6jvBaHTx\"><div class=\"Tor4Ec\"> <span class=\"qXLe6d x3G5ab\"> <span class=\"fYyStc\">Field Guide to Fruit Colors...</span> </span> <span class=\"qXLe6d F9iS2e\"> <span class=\"fYyStc\">fruitguys.com</span> </span> </div></a></td></tr></table></div></div> </div> </div></td><td align=\"center\" class=\"e3goi\"><div class=\"svla5d\"> <div> <div class=\"lIMUZd\"><div><table class=\"TxbwNb\"><tr><td><a href=\"/url?q=https://www.collinsdictionary.com/dictionary/english/fruit&amp;sa=U&amp;ved=2ahUKEwj58r2v44PxAhWxIbcAHRS4DU8QqoUBMBN6BAgSEAE&amp;usg=AOvVaw1vb9RdVcVqJXJ7frP7BHPP\"><div class=\"RAyV4b\"><img alt=\"\" class=\"t0fcAb\" src=\"https://encrypted-tbn0.gstatic.com/images?q=tbn:ANd9GcTkEWoPNjyljW5qHaFqky4jeUZXwIi699nmzMEEflHZbod6VOL4am6-FzWZBw&amp;s\"/></div></a></td></tr><tr><td><a href=\"/url?q=https://www.collinsdictionary.com/dictionary/english/fruit&amp;sa=U&amp;ved=2ahUKEwj58r2v44PxAhWxIbcAHRS4DU8Qr4kDMBN6BAgSEAI&amp;usg=AOvVaw2N8gV9sJo2ubMiRPTIMexZ\"><div class=\"Tor4Ec\"> <span class=\"qXLe6d x3G5ab\"> <span class=\"fYyStc\">Fruit definition and...</span> </span> <span class=\"qXLe6d F9iS2e\"> <span class=\"fYyStc\">www.collinsdictionary.com</span> </span> </div></a></td></tr></table></div></div> </div> </div></td></tr></table></div><table class=\"uZgmoc\"><tbody><td><a class=\"frGj1b\" href=\"/search?q=fruits&amp;biw=1034&amp;bih=528&amp;ie=UTF-8&amp;tbm=isch&amp;ei=lCa9YPnYHrHD3LUPlPC2-AQ&amp;start=20&amp;sa=N\">Next &gt;</a></td></tbody></table><br/><div class=\"TuS8Ad\" data-ved=\"0ahUKEwj58r2v44PxAhWxIbcAHRS4DU8QpyoIUg\"><style>.VYM29{font-weight:bold}</style><div align=\"center\" class=\"HddGcc\"><span class=\"VYM29\">Lucknow, Uttar Pradesh</span><span> - </span><span>From your Internet address</span><span> - </span><a href=\"/url?q=https://support.google.com/websearch%3Fp%3Dws_settings_location%26hl%3Den-IN&amp;sa=U&amp;ved=0ahUKEwj58r2v44PxAhWxIbcAHRS4DU8Qty4IUw&amp;usg=AOvVaw0jINVXUqdZOapmWE5y3wUm\">Learn more</a></div><div align=\"center\"><a class=\"rEM8G\" href=\"/url?q=https://accounts.google.com/ServiceLogin%3Fcontinue%3Dhttps://www.google.com/search%253Fq%253Dfruits%2526tbm%253Disch%2526source%253Dhp%2526biw%253D1034%2526bih%253D528%2526ei%253Dgia9YOb6FZOJ4-EP4Nq4qA0%2526oq%253Dfruits%2526gs_lcp%253DCgNpbWcQDDIICAAQsQMQgwEyBQgAELEDMgUIABCxAzIICAAQsQMQgwEyBQgAELEDMgUIABCxAzIFCAAQsQMyBQgAELEDMggIABCxAxCDATIFCAAQsQNQgiZYpyZg8EBoAHAAeAGAAc8CiAGhCZIBBTItMS4zmAEAoAEBqgELZ3dzLXdpei1pbWc%2526sclient%253Dimg%2526ved%253D0ahUKEwjmw-qm44PxAhWTxDgGHWAtDtUQ4dUDCAc%26hl%3Den&amp;sa=U&amp;ved=0ahUKEwj58r2v44PxAhWxIbcAHRS4DU8Qxs8CCFQ&amp;usg=AOvVaw1-JlF_SA0doHuCs9i_XQ-d\">Sign in</a></div><div><table class=\"bookcf\"><tbody class=\"InWNIe\"><tr><td><a class=\"rEM8G\" href=\"https://www.google.com/preferences?hl=en&amp;sa=X&amp;ved=0ahUKEwj58r2v44PxAhWxIbcAHRS4DU8Qv5YECFU\">Settings</a></td><td><a class=\"rEM8G\" href=\"https://www.google.com/intl/en_in/policies/privacy/\">Privacy</a></td><td><a class=\"rEM8G\" href=\"https://www.google.com/intl/en_in/policies/terms/\">Terms</a></td></tr></tbody></table></div></div><div> </div></body></html>"
      ]
     },
     "execution_count": 87,
     "metadata": {},
     "output_type": "execute_result"
    }
   ],
   "source": [
    "#parsing the sourcecode using BeautifulSoup and parser used is html.parser\n",
    "soup=BeautifulSoup(fruits_img.content,\"html.parser\")\n",
    "soup"
   ]
  },
  {
   "cell_type": "code",
   "execution_count": 92,
   "metadata": {},
   "outputs": [],
   "source": [
    "#Creating empty Lists so that we can store data in these lists while scraping\n",
    "fruits=[]\n",
    "fruits_url=[]"
   ]
  },
  {
   "cell_type": "code",
   "execution_count": 93,
   "metadata": {},
   "outputs": [],
   "source": [
    "#scrolling page for fetching 100 images\n",
    "driver.execute_script(\"window.scrollTo(0, document.body.scrollHeight);\")"
   ]
  },
  {
   "cell_type": "code",
   "execution_count": 95,
   "metadata": {},
   "outputs": [],
   "source": [
    "#url list of fruits\n",
    "fruit_Url=driver.find_elements_by_xpath(\"//div[@class='bRMDJf islir']/img\")"
   ]
  },
  {
   "cell_type": "code",
   "execution_count": 97,
   "metadata": {},
   "outputs": [],
   "source": [
    "#extracting fruit images \n",
    "for i in fruit_Url:\n",
    "    fruits_url.append(i.get_attribute(\"src\"))\n",
    "    for images in soup.findAll('img'):\n",
    "        try:\n",
    "            fruits.append(images.get('src'))\n",
    "        except NoSuchElementException:\n",
    "            fruits.append('-')\n",
    "time.sleep(3)"
   ]
  },
  {
   "cell_type": "code",
   "execution_count": 106,
   "metadata": {},
   "outputs": [],
   "source": [
    "#Opening webpage https://images.google.com/ for cars\n",
    "url=\"https://images.google.com\"\n",
    "driver.get(url)"
   ]
  },
  {
   "cell_type": "code",
   "execution_count": 107,
   "metadata": {},
   "outputs": [
    {
     "data": {
      "text/plain": [
       "<selenium.webdriver.remote.webelement.WebElement (session=\"b3e90a9e1c1528c03083a01c64746e69\", element=\"4cb7f62f-559b-4745-a323-accc35d9b9c5\")>"
      ]
     },
     "execution_count": 107,
     "metadata": {},
     "output_type": "execute_result"
    }
   ],
   "source": [
    "#finding element for Image search bar\n",
    "search_pro=driver.find_element_by_xpath('//input[@class=\"gLFyf gsfi\"]')    \n",
    "search_pro"
   ]
  },
  {
   "cell_type": "code",
   "execution_count": 108,
   "metadata": {},
   "outputs": [],
   "source": [
    "#Searching for “cars” in Search bar\n",
    "search_pro.send_keys(\"cars\")"
   ]
  },
  {
   "cell_type": "code",
   "execution_count": 109,
   "metadata": {},
   "outputs": [],
   "source": [
    "#Clicking the Search Button using Xpath function\n",
    "search_bt=driver.find_element_by_xpath('//span[@class=\"z1asCe MZy1Rb\"]')\n",
    "search_bt.click()"
   ]
  },
  {
   "cell_type": "code",
   "execution_count": 110,
   "metadata": {},
   "outputs": [
    {
     "data": {
      "text/plain": [
       "<Response [200]>"
      ]
     },
     "execution_count": 110,
     "metadata": {},
     "output_type": "execute_result"
    }
   ],
   "source": [
    "#fetching cars info from images.google.com\n",
    "cars_img=requests.get(driver.current_url)\n",
    "cars_img"
   ]
  },
  {
   "cell_type": "code",
   "execution_count": 111,
   "metadata": {},
   "outputs": [
    {
     "data": {
      "text/plain": [
       "<!DOCTYPE html PUBLIC \"-//WAPFORUM//DTD XHTML Mobile 1.0//EN\" \"http://www.wapforum.org/DTD/xhtml-mobile10.dtd\">\n",
       "<html lang=\"en-IN\" xmlns=\"http://www.w3.org/1999/xhtml\"><head><meta content=\"application/xhtml+xml; charset=utf-8\" http-equiv=\"Content-Type\"/><meta content=\"no-cache\" name=\"Cache-Control\"/><title>cars - Google Search</title><style>a{text-decoration:none;color:inherit}a:hover{text-decoration:underline}a img{border:0}body{font-family:Roboto,Helvetica,Arial,sans-serif;padding:8px;margin:0 auto;max-width:700px;min-width:240px;}.FbhRzb{border-left:thin solid #dadce0;border-right:thin solid #dadce0;border-top:thin solid #dadce0;height:40px;overflow:hidden}.n692Zd{margin-bottom:10px}.cvifge{height:40px;border-spacing:0}.QvGUP{height:40px;padding:0 8px 0 8px;vertical-align:top}.O4cRJf{height:40px;width:100%;padding:0;padding-right:16px}.O1ePr{height:40px;padding:0;vertical-align:top}.kgJEQe{height:36px;width:98px;vertical-align:top;margin-top:4px}.lXLRf{vertical-align:top}.MhzMZd{border:0;vertical-align:middle;font-size:14px;height:40px;padding:0;width:100%;padding-left:16px}.xB0fq{height:40px;border:none;font-size:14px;background-color:#4285f4;color:#fff;padding:0 16px;margin:0;vertical-align:top;cursor:pointer}.xB0fq:focus{border:1px solid #000}.M7pB2{border:thin solid #dadce0;margin:0 0 3px 0;font-size:13px;font-weight:500;height:40px}.euZec{width:100%;height:40px;text-align:center;border-spacing:0}table.euZec td{padding:0;width:25%}.QIqI7{display:inline-block;padding-top:4px;font-weight:bold;color:#4285f4}.EY24We{border-bottom:2px solid #4285f4}.CsQyDc{display:inline-block;color:#70757a}.TuS8Ad{font-size:14px}.HddGcc{padding:8px;color:#70757a}.dzp8ae{font-weight:bold;color:#3c4043}.rEM8G{color:#70757a}.bookcf{table-layout:fixed;width:100%;border-spacing:0}.InWNIe{text-align:center}.uZgmoc{border:thin solid #dadce0;color:#70757a;font-size:14px;text-align:center;table-layout:fixed;width:100%}.frGj1b{display:block;padding:12px 0 12px 0;width:100%}.BnJWBc{text-align:center;padding:6px 0 13px 0;height:35px}.e3goi{vertical-align:top;padding:0;height:180px}.GpQGbf{margin:auto;border-collapse:collapse;border-spacing:0;width:100%}</style></head><body><style>.X6ZCif{color:#202124;font-size:11px;line-height:16px;display:inline-block;padding-top:2px;overflow:hidden;padding-bottom:4px;width:100%}.TwVfHd{border-radius:16px;border:thin solid #dadce0;display:inline-block;padding:8px 8px;margin-right:8px;margin-bottom:4px}.yekiAe{background-color:#dadce0}.svla5d{width:100%}.ezO2md{border:thin solid #dadce0;padding:12px 16px 12px 16px;margin-bottom:10px;font-family:Roboto,Helvetica,Arial,sans-serif}.lIMUZd{font-family:Roboto,Helvetica,Arial,sans-serif}.TxbwNb{border-spacing:0}.K35ahc{width:100%}.owohpf{text-align:center}.RAyV4b{width:162px;height:140px;line-height:140px;overflow:'hidden';text-align:center}.t0fcAb{text-align:center;margin:auto;vertical-align:middle;max-width:162px;max-height:140px}.Tor4Ec{padding-top:2px;padding-bottom:8px;}.fYyStc{word-break:break-word}.ynsChf{display:block;white-space:nowrap;overflow:hidden;text-overflow:ellipsis}.Fj3V3b{color:#1967D2;font-size:14px;line-height:20px}.FrIlee{color:#202124;font-size:11px;line-height:16px}.F9iS2e{color:#70757a;font-size:11px;line-height:16px}.WMQ2Le{color:#70757a;font-size:12px;line-height:16px}.x3G5ab{color:#202124;font-size:12px;line-height:16px}.fuLhoc{color:#1967D2;font-size:16px;line-height:20px}.epoveb{font-size:24px;line-height:28px;font-weight:400;color:#202124}.dXDvrc{color:#0d652d;font-size:14px;line-height:20px;word-wrap:break-word}.dloBPe{font-weight:bold}.YVIcad{color:#70757a}.JkVVdd{color:#ea4335}.oXZRFd{color:#ea4335}.MQHtg{color:#fbbc04}.pyMRrb{color:#1e8e3e}.EtTZid{color:#1e8e3e}.M3vVJe{color:#1967D2}.qXLe6d{display:block}.NHQNef{font-style:italic}.Cb8Z7c{white-space:pre}a.ZWRArf{text-decoration:none}a .CVA68e:hover{text-decoration:underline}</style><div class=\"n692Zd\"><div class=\"BnJWBc\"><a class=\"lXLRf\" href=\"/?biw=1034&amp;bih=528&amp;output=images&amp;ie=UTF-8&amp;tbm=isch&amp;sa=X&amp;ved=0ahUKEwiHiO2E6IPxAhWm4XMBHVsPAZ8QPAgC\"><img alt=\"Google\" class=\"kgJEQe\" src=\"/images/branding/searchlogo/1x/googlelogo_desk_heirloom_color_150x55dp.gif\"/></a></div><div class=\"FbhRzb\"><form action=\"/search\"><input name=\"biw\" type=\"hidden\" value=\"1034\"/><input name=\"bih\" type=\"hidden\" value=\"528\"/><input name=\"ie\" type=\"hidden\" value=\"ISO-8859-1\"/><input name=\"tbm\" type=\"hidden\" value=\"isch\"/><input name=\"oq\" type=\"hidden\"/><input name=\"aqs\" type=\"hidden\"/><table class=\"cvifge\"><tr><td class=\"O4cRJf\"><input class=\"MhzMZd\" name=\"q\" type=\"text\" value=\"cars\"/></td><td class=\"O1ePr\"><input class=\"xB0fq\" type=\"submit\" value=\"Search\"/></td></tr></table></form></div><div class=\"M7pB2\"><table class=\"euZec\"><tbody><tr><td><a class=\"CsQyDc\" href=\"/search?q=cars&amp;biw=1034&amp;bih=528&amp;ie=UTF-8&amp;source=lnms&amp;sa=X&amp;ved=0ahUKEwiHiO2E6IPxAhWm4XMBHVsPAZ8Q_AUIBCgA\">ALL</a></td><td class=\"EY24We\"><span class=\"QIqI7\">IMAGES</span></td><td><a class=\"CsQyDc\" href=\"/search?q=cars&amp;biw=1034&amp;bih=528&amp;ie=UTF-8&amp;tbm=nws&amp;source=lnms&amp;sa=X&amp;ved=0ahUKEwiHiO2E6IPxAhWm4XMBHVsPAZ8Q_AUIBigC\">NEWS</a></td><td><a class=\"CsQyDc\" href=\"/search?q=cars&amp;biw=1034&amp;bih=528&amp;ie=UTF-8&amp;tbm=vid&amp;source=lnms&amp;sa=X&amp;ved=0ahUKEwiHiO2E6IPxAhWm4XMBHVsPAZ8Q_AUIBygD\">VIDEOS</a></td></tr></tbody></table></div></div><div class=\"X6ZCif\"><a class=\"TwVfHd\" href=\"/search?biw=1034&amp;bih=528&amp;ie=UTF-8&amp;tbm=isch&amp;q=cars&amp;chips=q:cars,online_chips:mercedes+benz&amp;sa=X&amp;ved=0ahUKEwiHiO2E6IPxAhWm4XMBHVsPAZ8Q4lYICygA\">mercedes benz</a><a class=\"TwVfHd\" href=\"/search?biw=1034&amp;bih=528&amp;ie=UTF-8&amp;tbm=isch&amp;q=cars&amp;chips=q:cars,online_chips:luxury&amp;sa=X&amp;ved=0ahUKEwiHiO2E6IPxAhWm4XMBHVsPAZ8Q4lYIDCgB\">luxury</a><a class=\"TwVfHd\" href=\"/search?biw=1034&amp;bih=528&amp;ie=UTF-8&amp;tbm=isch&amp;q=cars&amp;chips=q:cars,online_chips:movie&amp;sa=X&amp;ved=0ahUKEwiHiO2E6IPxAhWm4XMBHVsPAZ8Q4lYIDSgC\">movie</a><a class=\"TwVfHd\" href=\"/search?biw=1034&amp;bih=528&amp;ie=UTF-8&amp;tbm=isch&amp;q=cars&amp;chips=q:cars,online_chips:sports&amp;sa=X&amp;ved=0ahUKEwiHiO2E6IPxAhWm4XMBHVsPAZ8Q4lYIDigD\">sports</a><a class=\"TwVfHd\" href=\"/search?biw=1034&amp;bih=528&amp;ie=UTF-8&amp;tbm=isch&amp;q=cars&amp;chips=q:cars,online_chips:2021&amp;sa=X&amp;ved=0ahUKEwiHiO2E6IPxAhWm4XMBHVsPAZ8Q4lYIDygE\">2021</a><a class=\"TwVfHd\" href=\"/search?biw=1034&amp;bih=528&amp;ie=UTF-8&amp;tbm=isch&amp;q=cars&amp;chips=q:cars,online_chips:future&amp;sa=X&amp;ved=0ahUKEwiHiO2E6IPxAhWm4XMBHVsPAZ8Q4lYIECgF\">future</a><a class=\"TwVfHd\" href=\"/search?biw=1034&amp;bih=528&amp;ie=UTF-8&amp;tbm=isch&amp;q=cars&amp;chips=q:cars,online_chips:world&amp;sa=X&amp;ved=0ahUKEwiHiO2E6IPxAhWm4XMBHVsPAZ8Q4lYIESgG\">world</a><a class=\"TwVfHd\" href=\"/search?biw=1034&amp;bih=528&amp;ie=UTF-8&amp;tbm=isch&amp;q=cars&amp;chips=q:cars,online_chips:supercars&amp;sa=X&amp;ved=0ahUKEwiHiO2E6IPxAhWm4XMBHVsPAZ8Q4lYIEigH\">supercars</a><a class=\"TwVfHd\" href=\"/search?biw=1034&amp;bih=528&amp;ie=UTF-8&amp;tbm=isch&amp;q=cars&amp;chips=q:cars,online_chips:coolest&amp;sa=X&amp;ved=0ahUKEwiHiO2E6IPxAhWm4XMBHVsPAZ8Q4lYIEygI\">coolest</a><a class=\"TwVfHd\" href=\"/search?biw=1034&amp;bih=528&amp;ie=UTF-8&amp;tbm=isch&amp;q=cars&amp;chips=q:cars,online_chips:2020&amp;sa=X&amp;ved=0ahUKEwiHiO2E6IPxAhWm4XMBHVsPAZ8Q4lYIFCgJ\">2020</a></div><div><table class=\"GpQGbf\"><tr><td align=\"center\" class=\"e3goi\"><div class=\"svla5d\"> <div> <div class=\"lIMUZd\"><div><table class=\"TxbwNb\"><tr><td><a href=\"/url?q=https://www.forbes.com/sites/jimgorzelany/2019/07/23/here-are-the-coolest-new-cars-for-2020/&amp;sa=U&amp;ved=2ahUKEwiHiO2E6IPxAhWm4XMBHVsPAZ8QqoUBMAB6BAgBEAE&amp;usg=AOvVaw1slueYq5Q1y3WFi7t4ANcf\"><div class=\"RAyV4b\"><img alt=\"\" class=\"t0fcAb\" src=\"https://encrypted-tbn0.gstatic.com/images?q=tbn:ANd9GcS59vgeXdSCETHjjX3Ed7gM5SpOPVW7HbNWFWOHAA3Z82tYMrFmf2Kerw48tzU&amp;s\"/></div></a></td></tr><tr><td><a href=\"/url?q=https://www.forbes.com/sites/jimgorzelany/2019/07/23/here-are-the-coolest-new-cars-for-2020/&amp;sa=U&amp;ved=2ahUKEwiHiO2E6IPxAhWm4XMBHVsPAZ8Qr4kDMAB6BAgBEAI&amp;usg=AOvVaw1sicueJy269MnUw7kDqaNC\"><div class=\"Tor4Ec\"> <span class=\"qXLe6d x3G5ab\"> <span class=\"fYyStc\">Here Are The Coolest New...</span> </span> <span class=\"qXLe6d F9iS2e\"> <span class=\"fYyStc\">www.forbes.com</span> </span> </div></a></td></tr></table></div></div> </div> </div></td><td align=\"center\" class=\"e3goi\"><div class=\"svla5d\"> <div> <div class=\"lIMUZd\"><div><table class=\"TxbwNb\"><tr><td><a href=\"/url?q=https://www.popularmechanics.com/cars/a34824254/most-exciting-new-cars-2021/&amp;sa=U&amp;ved=2ahUKEwiHiO2E6IPxAhWm4XMBHVsPAZ8QqoUBMAF6BAgTEAE&amp;usg=AOvVaw1xLwBkPhMf79fTQ8BM0L7-\"><div class=\"RAyV4b\"><img alt=\"\" class=\"t0fcAb\" src=\"https://encrypted-tbn0.gstatic.com/images?q=tbn:ANd9GcSNiBlr5Dmp5FjQsgZizTB1gnPleXgfExedW9_cK5U7NxnjifETgolZhS-fnA&amp;s\"/></div></a></td></tr><tr><td><a href=\"/url?q=https://www.popularmechanics.com/cars/a34824254/most-exciting-new-cars-2021/&amp;sa=U&amp;ved=2ahUKEwiHiO2E6IPxAhWm4XMBHVsPAZ8Qr4kDMAF6BAgTEAI&amp;usg=AOvVaw3v0VBZVsVRivtfiLMKIA7g\"><div class=\"Tor4Ec\"> <span class=\"qXLe6d x3G5ab\"> <span class=\"fYyStc\">Best New Cars Coming Out in...</span> </span> <span class=\"qXLe6d F9iS2e\"> <span class=\"fYyStc\">www.popularmechanics.com</span> </span> </div></a></td></tr></table></div></div> </div> </div></td><td align=\"center\" class=\"e3goi\"><div class=\"svla5d\"> <div> <div class=\"lIMUZd\"><div><table class=\"TxbwNb\"><tr><td><a href=\"/url?q=https://www.wired.com/story/jd-power-korean-cars-beat-us-europe-quality/&amp;sa=U&amp;ved=2ahUKEwiHiO2E6IPxAhWm4XMBHVsPAZ8QqoUBMAJ6BAgPEAE&amp;usg=AOvVaw3CtRHhu3IkDC44GS0CNJ0O\"><div class=\"RAyV4b\"><img alt=\"\" class=\"t0fcAb\" src=\"https://encrypted-tbn0.gstatic.com/images?q=tbn:ANd9GcRoyJJMIRwWrPIgihZ_nyjXStkZ2oXqOYUpu6nlNyDiluXOJHXfUFFK_oAeVeY&amp;s\"/></div></a></td></tr><tr><td><a href=\"/url?q=https://www.wired.com/story/jd-power-korean-cars-beat-us-europe-quality/&amp;sa=U&amp;ved=2ahUKEwiHiO2E6IPxAhWm4XMBHVsPAZ8Qr4kDMAJ6BAgPEAI&amp;usg=AOvVaw3-ya7pr39StPwofk-Kgjdx\"><div class=\"Tor4Ec\"> <span class=\"qXLe6d x3G5ab\"> <span class=\"fYyStc\">JD Power Says Korean Cars...</span> </span> <span class=\"qXLe6d F9iS2e\"> <span class=\"fYyStc\">www.wired.com</span> </span> </div></a></td></tr></table></div></div> </div> </div></td><td align=\"center\" class=\"e3goi\"><div class=\"svla5d\"> <div> <div class=\"lIMUZd\"><div><table class=\"TxbwNb\"><tr><td><a href=\"/url?q=https://luxe.digital/lifestyle/cars/fastest-cars/&amp;sa=U&amp;ved=2ahUKEwiHiO2E6IPxAhWm4XMBHVsPAZ8QqoUBMAN6BAgOEAE&amp;usg=AOvVaw1DpEn1hqOyaftTDh4akXLR\"><div class=\"RAyV4b\"><img alt=\"\" class=\"t0fcAb\" src=\"https://encrypted-tbn0.gstatic.com/images?q=tbn:ANd9GcR2F4t0MfMMkSoUEj94CUPgJuZTcX_QRxvqtXr_vE4RcjkD2I-6s88e9O1qiws&amp;s\"/></div></a></td></tr><tr><td><a href=\"/url?q=https://luxe.digital/lifestyle/cars/fastest-cars/&amp;sa=U&amp;ved=2ahUKEwiHiO2E6IPxAhWm4XMBHVsPAZ8Qr4kDMAN6BAgOEAI&amp;usg=AOvVaw1MEEMtIlyc32yhaWoz_JL5\"><div class=\"Tor4Ec\"> <span class=\"qXLe6d x3G5ab\"> <span class=\"fYyStc\">7 Fastest Cars in the...</span> </span> <span class=\"qXLe6d F9iS2e\"> <span class=\"fYyStc\">luxe.digital</span> </span> </div></a></td></tr></table></div></div> </div> </div></td></tr><tr><td align=\"center\" class=\"e3goi\"><div class=\"svla5d\"> <div> <div class=\"lIMUZd\"><div><table class=\"TxbwNb\"><tr><td><a href=\"/url?q=https://www.extremetech.com/extreme/303740-car-of-the-year-extremetechs-best-cars-for-2020&amp;sa=U&amp;ved=2ahUKEwiHiO2E6IPxAhWm4XMBHVsPAZ8QqoUBMAR6BAgQEAE&amp;usg=AOvVaw2fHQoHMavq50RrgTkN12kA\"><div class=\"RAyV4b\"><img alt=\"\" class=\"t0fcAb\" src=\"https://encrypted-tbn0.gstatic.com/images?q=tbn:ANd9GcQi3zkEllvjo7sr_YmhlF7wxsw9KGnIPkQCF_uOUJ9CijgP08cuqKRw-e5IPvo&amp;s\"/></div></a></td></tr><tr><td><a href=\"/url?q=https://www.extremetech.com/extreme/303740-car-of-the-year-extremetechs-best-cars-for-2020&amp;sa=U&amp;ved=2ahUKEwiHiO2E6IPxAhWm4XMBHVsPAZ8Qr4kDMAR6BAgQEAI&amp;usg=AOvVaw3bfAgU-CPsArPKhPSQxA8-\"><div class=\"Tor4Ec\"> <span class=\"qXLe6d x3G5ab\"> <span class=\"fYyStc\">Car of the Year:...</span> </span> <span class=\"qXLe6d F9iS2e\"> <span class=\"fYyStc\">www.extremetech.com</span> </span> </div></a></td></tr></table></div></div> </div> </div></td><td align=\"center\" class=\"e3goi\"><div class=\"svla5d\"> <div> <div class=\"lIMUZd\"><div><table class=\"TxbwNb\"><tr><td><a href=\"/url?q=https://theconversation.com/cars-will-change-more-in-the-next-decade-than-they-have-in-the-past-century-113585&amp;sa=U&amp;ved=2ahUKEwiHiO2E6IPxAhWm4XMBHVsPAZ8QqoUBMAV6BAgREAE&amp;usg=AOvVaw0iLP5pG5cocJfVEf1gjipP\"><div class=\"RAyV4b\"><img alt=\"\" class=\"t0fcAb\" src=\"https://encrypted-tbn0.gstatic.com/images?q=tbn:ANd9GcQgn4tF7JcQzeiMjKcbJvdTwolFJf6dpEJ4qhK0KTVtbB44janc7Vkk9NR0AA&amp;s\"/></div></a></td></tr><tr><td><a href=\"/url?q=https://theconversation.com/cars-will-change-more-in-the-next-decade-than-they-have-in-the-past-century-113585&amp;sa=U&amp;ved=2ahUKEwiHiO2E6IPxAhWm4XMBHVsPAZ8Qr4kDMAV6BAgREAI&amp;usg=AOvVaw3nKAz5NEzCbsb2f7SypGAH\"><div class=\"Tor4Ec\"> <span class=\"qXLe6d x3G5ab\"> <span class=\"fYyStc\">Cars will change more in...</span> </span> <span class=\"qXLe6d F9iS2e\"> <span class=\"fYyStc\">theconversation.com</span> </span> </div></a></td></tr></table></div></div> </div> </div></td><td align=\"center\" class=\"e3goi\"><div class=\"svla5d\"> <div> <div class=\"lIMUZd\"><div><table class=\"TxbwNb\"><tr><td><a href=\"/url?q=https://www.wired.com/tag/cars/&amp;sa=U&amp;ved=2ahUKEwiHiO2E6IPxAhWm4XMBHVsPAZ8QqoUBMAZ6BAgSEAE&amp;usg=AOvVaw2aaBI4sja7fJOeyKUBTOlZ\"><div class=\"RAyV4b\"><img alt=\"\" class=\"t0fcAb\" src=\"https://encrypted-tbn0.gstatic.com/images?q=tbn:ANd9GcSA1eibzOVd5bMvrpWjZwZlbA8ixIyB6RfGeLp_YBij2blP9c1nr24Ud0wemIM&amp;s\"/></div></a></td></tr><tr><td><a href=\"/url?q=https://www.wired.com/tag/cars/&amp;sa=U&amp;ved=2ahUKEwiHiO2E6IPxAhWm4XMBHVsPAZ8Qr4kDMAZ6BAgSEAI&amp;usg=AOvVaw0aZE9Z9bIkhtbVhIP6tcJ0\"><div class=\"Tor4Ec\"> <span class=\"qXLe6d x3G5ab\"> <span class=\"fYyStc\">Cars | Latest News, Photos...</span> </span> <span class=\"qXLe6d F9iS2e\"> <span class=\"fYyStc\">www.wired.com</span> </span> </div></a></td></tr></table></div></div> </div> </div></td><td align=\"center\" class=\"e3goi\"><div class=\"svla5d\"> <div> <div class=\"lIMUZd\"><div><table class=\"TxbwNb\"><tr><td><a href=\"/url?q=https://www.elitetraveler.com/luxury-transport/automotive/the-best-luxury-cars-of-2019&amp;sa=U&amp;ved=2ahUKEwiHiO2E6IPxAhWm4XMBHVsPAZ8QqoUBMAd6BAgMEAE&amp;usg=AOvVaw0kBYrcOBD8sIg9kpV1Q32P\"><div class=\"RAyV4b\"><img alt=\"\" class=\"t0fcAb\" src=\"https://encrypted-tbn0.gstatic.com/images?q=tbn:ANd9GcQ8P9PM9WB8mBGeCQhndq9MfwkFU89hSWvxePRAOoyAG0yhjRQuOhT_SguGcA&amp;s\"/></div></a></td></tr><tr><td><a href=\"/url?q=https://www.elitetraveler.com/luxury-transport/automotive/the-best-luxury-cars-of-2019&amp;sa=U&amp;ved=2ahUKEwiHiO2E6IPxAhWm4XMBHVsPAZ8Qr4kDMAd6BAgMEAI&amp;usg=AOvVaw1pc_foD8J14S9x-euLEL7B\"><div class=\"Tor4Ec\"> <span class=\"qXLe6d x3G5ab\"> <span class=\"fYyStc\">The Top 14 Luxury Cars of...</span> </span> <span class=\"qXLe6d F9iS2e\"> <span class=\"fYyStc\">www.elitetraveler.com</span> </span> </div></a></td></tr></table></div></div> </div> </div></td></tr><tr><td align=\"center\" class=\"e3goi\"><div class=\"svla5d\"> <div> <div class=\"lIMUZd\"><div><table class=\"TxbwNb\"><tr><td><a href=\"/url?q=https://www.youtube.com/watch%3Fv%3Ddip_8dmrcaU&amp;sa=U&amp;ved=2ahUKEwiHiO2E6IPxAhWm4XMBHVsPAZ8QqoUBMAh6BAgLEAE&amp;usg=AOvVaw3xbRGmASGMDZy0pAVMv2kF\"><div class=\"RAyV4b\"><img alt=\"\" class=\"t0fcAb\" src=\"https://encrypted-tbn0.gstatic.com/images?q=tbn:ANd9GcTVzJv7zUBVPDBL4pdePOUSg9ORyqbMWCT-HRC-ik7OGnxmT12kWPLUs8iPew&amp;s\"/></div></a></td></tr><tr><td><a href=\"/url?q=https://www.youtube.com/watch%3Fv%3Ddip_8dmrcaU&amp;sa=U&amp;ved=2ahUKEwiHiO2E6IPxAhWm4XMBHVsPAZ8Qr4kDMAh6BAgLEAI&amp;usg=AOvVaw0OC-wRXv9oeT3Nc9463hrh\"><div class=\"Tor4Ec\"> <span class=\"qXLe6d x3G5ab\"> <span class=\"fYyStc\">TOP 10 CRAZIEST CONCEPT...</span> </span> <span class=\"qXLe6d F9iS2e\"> <span class=\"fYyStc\">www.youtube.com</span> </span> </div></a></td></tr></table></div></div> </div> </div></td><td align=\"center\" class=\"e3goi\"><div class=\"svla5d\"> <div> <div class=\"lIMUZd\"><div><table class=\"TxbwNb\"><tr><td><a href=\"/url?q=https://www.motortrend.com/news/the-15-most-important-cars-of-the-decade/&amp;sa=U&amp;ved=2ahUKEwiHiO2E6IPxAhWm4XMBHVsPAZ8QqoUBMAl6BAgNEAE&amp;usg=AOvVaw1zQVVDv4NfRKgYTVD4qCwm\"><div class=\"RAyV4b\"><img alt=\"\" class=\"t0fcAb\" src=\"https://encrypted-tbn0.gstatic.com/images?q=tbn:ANd9GcSX3HuVl20Qh0xUvnfbQOFDAeazUTjFeJfJvt5OS-LEi0O3v60LmsBJfiyiJ38&amp;s\"/></div></a></td></tr><tr><td><a href=\"/url?q=https://www.motortrend.com/news/the-15-most-important-cars-of-the-decade/&amp;sa=U&amp;ved=2ahUKEwiHiO2E6IPxAhWm4XMBHVsPAZ8Qr4kDMAl6BAgNEAI&amp;usg=AOvVaw2StRYosgw4GZI9vS69pPBR\"><div class=\"Tor4Ec\"> <span class=\"qXLe6d x3G5ab\"> <span class=\"fYyStc\">The 15 Most Important Cars...</span> </span> <span class=\"qXLe6d F9iS2e\"> <span class=\"fYyStc\">www.motortrend.com</span> </span> </div></a></td></tr></table></div></div> </div> </div></td><td align=\"center\" class=\"e3goi\"><div class=\"svla5d\"> <div> <div class=\"lIMUZd\"><div><table class=\"TxbwNb\"><tr><td><a href=\"/url?q=https://www.motor1.com/car-lists/coolest-cars/&amp;sa=U&amp;ved=2ahUKEwiHiO2E6IPxAhWm4XMBHVsPAZ8QqoUBMAp6BAgKEAE&amp;usg=AOvVaw3sgK9r1rsyqopZa0N02J71\"><div class=\"RAyV4b\"><img alt=\"\" class=\"t0fcAb\" src=\"https://encrypted-tbn0.gstatic.com/images?q=tbn:ANd9GcST9zD0lWznHtU7faENboDVqn2HulxWopsTGuDvER_0uAUZ1uRugoe_qxJu1jI&amp;s\"/></div></a></td></tr><tr><td><a href=\"/url?q=https://www.motor1.com/car-lists/coolest-cars/&amp;sa=U&amp;ved=2ahUKEwiHiO2E6IPxAhWm4XMBHVsPAZ8Qr4kDMAp6BAgKEAI&amp;usg=AOvVaw0u-S6tx6d554Xr_JHw8OFy\"><div class=\"Tor4Ec\"> <span class=\"qXLe6d x3G5ab\"> <span class=\"fYyStc\">Cool Cars - Coolest Cars,...</span> </span> <span class=\"qXLe6d F9iS2e\"> <span class=\"fYyStc\">www.motor1.com</span> </span> </div></a></td></tr></table></div></div> </div> </div></td><td align=\"center\" class=\"e3goi\"><div class=\"svla5d\"> <div> <div class=\"lIMUZd\"><div><table class=\"TxbwNb\"><tr><td><a href=\"/url?q=https://pv-magazine-usa.com/2020/05/19/the-future-of-cars-is-electric-but-how-soon-is-this-future/&amp;sa=U&amp;ved=2ahUKEwiHiO2E6IPxAhWm4XMBHVsPAZ8QqoUBMAt6BAgIEAE&amp;usg=AOvVaw33MvBT6aCjHTxgk7ITgKPu\"><div class=\"RAyV4b\"><img alt=\"\" class=\"t0fcAb\" src=\"https://encrypted-tbn0.gstatic.com/images?q=tbn:ANd9GcRO6t-uPgKF_fdZzvounQr3c1qn33U_FvfpGk0A4ibMJMJULXbimcJg4Luj-uI&amp;s\"/></div></a></td></tr><tr><td><a href=\"/url?q=https://pv-magazine-usa.com/2020/05/19/the-future-of-cars-is-electric-but-how-soon-is-this-future/&amp;sa=U&amp;ved=2ahUKEwiHiO2E6IPxAhWm4XMBHVsPAZ8Qr4kDMAt6BAgIEAI&amp;usg=AOvVaw1AjdIuuvteJP6Cn8gZnDe8\"><div class=\"Tor4Ec\"> <span class=\"qXLe6d x3G5ab\"> <span class=\"fYyStc\">The future of cars is...</span> </span> <span class=\"qXLe6d F9iS2e\"> <span class=\"fYyStc\">pv-magazine-usa.com</span> </span> </div></a></td></tr></table></div></div> </div> </div></td></tr><tr><td align=\"center\" class=\"e3goi\"><div class=\"svla5d\"> <div> <div class=\"lIMUZd\"><div><table class=\"TxbwNb\"><tr><td><a href=\"/url?q=https://blog.dupontregistry.com/features/top-25-most-expensive-cars/&amp;sa=U&amp;ved=2ahUKEwiHiO2E6IPxAhWm4XMBHVsPAZ8QqoUBMAx6BAgHEAE&amp;usg=AOvVaw0uaq5lW0opw5kuRWpdT6jp\"><div class=\"RAyV4b\"><img alt=\"\" class=\"t0fcAb\" src=\"https://encrypted-tbn0.gstatic.com/images?q=tbn:ANd9GcSq6VFgXGL0IC9anghJyrrZj2dMqNenBNl8cAe9sqpQ_UxX3IqMJc54OzsrqA&amp;s\"/></div></a></td></tr><tr><td><a href=\"/url?q=https://blog.dupontregistry.com/features/top-25-most-expensive-cars/&amp;sa=U&amp;ved=2ahUKEwiHiO2E6IPxAhWm4XMBHVsPAZ8Qr4kDMAx6BAgHEAI&amp;usg=AOvVaw0f_oMCDmdmNQHq0WdcbNJY\"><div class=\"Tor4Ec\"> <span class=\"qXLe6d x3G5ab\"> <span class=\"fYyStc\">Top 25 Most Expensive Cars</span> </span> <span class=\"qXLe6d F9iS2e\"> <span class=\"fYyStc\">blog.dupontregistry.com</span> </span> </div></a></td></tr></table></div></div> </div> </div></td><td align=\"center\" class=\"e3goi\"><div class=\"svla5d\"> <div> <div class=\"lIMUZd\"><div><table class=\"TxbwNb\"><tr><td><a href=\"/url?q=https://m.economictimes.com/wealth/spend/best-cars-for-different-budgets-to-buy-in-2021/articleshow/80420650.cms&amp;sa=U&amp;ved=2ahUKEwiHiO2E6IPxAhWm4XMBHVsPAZ8QqoUBMA16BAgJEAE&amp;usg=AOvVaw38X2mzQKNfkS3BQ8pMqpAu\"><div class=\"RAyV4b\"><img alt=\"\" class=\"t0fcAb\" src=\"https://encrypted-tbn0.gstatic.com/images?q=tbn:ANd9GcQ1ZaAKrQyLv6xGh7fWhL6J5eaapZ-lf1l0mBBA1mMaGwqieE9PH_ujaqc80g&amp;s\"/></div></a></td></tr><tr><td><a href=\"/url?q=https://m.economictimes.com/wealth/spend/best-cars-for-different-budgets-to-buy-in-2021/articleshow/80420650.cms&amp;sa=U&amp;ved=2ahUKEwiHiO2E6IPxAhWm4XMBHVsPAZ8Qr4kDMA16BAgJEAI&amp;usg=AOvVaw2CQfFa98ZlIEatYt4uJbWW\"><div class=\"Tor4Ec\"> <span class=\"qXLe6d x3G5ab\"> <span class=\"fYyStc\">Cars to buy 2021: Best cars...</span> </span> <span class=\"qXLe6d F9iS2e\"> <span class=\"fYyStc\">m.economictimes.com</span> </span> </div></a></td></tr></table></div></div> </div> </div></td><td align=\"center\" class=\"e3goi\"><div class=\"svla5d\"> <div> <div class=\"lIMUZd\"><div><table class=\"TxbwNb\"><tr><td><a href=\"/url?q=https://www.nbcnews.com/mach/science/will-futuristic-flying-car-ever-get-ground-ncna859171&amp;sa=U&amp;ved=2ahUKEwiHiO2E6IPxAhWm4XMBHVsPAZ8QqoUBMA56BAgEEAE&amp;usg=AOvVaw0oyrQ2okCkgVfWkFlrNzFQ\"><div class=\"RAyV4b\"><img alt=\"\" class=\"t0fcAb\" src=\"https://encrypted-tbn0.gstatic.com/images?q=tbn:ANd9GcRdWMyWMuc6w-xu00pM-GSDH_SZKYRoUYyyqvBsvzqMy2KNaGjXwefyD_pYBRw&amp;s\"/></div></a></td></tr><tr><td><a href=\"/url?q=https://www.nbcnews.com/mach/science/will-futuristic-flying-car-ever-get-ground-ncna859171&amp;sa=U&amp;ved=2ahUKEwiHiO2E6IPxAhWm4XMBHVsPAZ8Qr4kDMA56BAgEEAI&amp;usg=AOvVaw3AdS804KJUuRbDYTBcHGay\"><div class=\"Tor4Ec\"> <span class=\"qXLe6d x3G5ab\"> <span class=\"fYyStc\">Will this futuristic flying...</span> </span> <span class=\"qXLe6d F9iS2e\"> <span class=\"fYyStc\">www.nbcnews.com</span> </span> </div></a></td></tr></table></div></div> </div> </div></td><td align=\"center\" class=\"e3goi\"><div class=\"svla5d\"> <div> <div class=\"lIMUZd\"><div><table class=\"TxbwNb\"><tr><td><a href=\"/url?q=https://www.gearpatrol.com/cars/g33835883/the-best-cars-to-buy-in-2020/&amp;sa=U&amp;ved=2ahUKEwiHiO2E6IPxAhWm4XMBHVsPAZ8QqoUBMA96BAgGEAE&amp;usg=AOvVaw2s5LtX43IzA0ZnJC5C0PgX\"><div class=\"RAyV4b\"><img alt=\"\" class=\"t0fcAb\" src=\"https://encrypted-tbn0.gstatic.com/images?q=tbn:ANd9GcRnyCYl9AOvcgFp0W8qAGGwmqIGteQZow9ftTF3vsQt8QpvzJXhHn4aFdEHCp0&amp;s\"/></div></a></td></tr><tr><td><a href=\"/url?q=https://www.gearpatrol.com/cars/g33835883/the-best-cars-to-buy-in-2020/&amp;sa=U&amp;ved=2ahUKEwiHiO2E6IPxAhWm4XMBHVsPAZ8Qr4kDMA96BAgGEAI&amp;usg=AOvVaw3oFR_ytvc2zswpeqApopu4\"><div class=\"Tor4Ec\"> <span class=\"qXLe6d x3G5ab\"> <span class=\"fYyStc\">These Are The 16 Best Cars...</span> </span> <span class=\"qXLe6d F9iS2e\"> <span class=\"fYyStc\">www.gearpatrol.com</span> </span> </div></a></td></tr></table></div></div> </div> </div></td></tr><tr><td align=\"center\" class=\"e3goi\"><div class=\"svla5d\"> <div> <div class=\"lIMUZd\"><div><table class=\"TxbwNb\"><tr><td><a href=\"/url?q=https://www.businessinsider.in/business/news/this-list-of-the-10-new-cars-owners-keep-the-longest-reveals-just-how-much-american-love-their-suvs-and-sports-cars/articleshow/71543233.cms&amp;sa=U&amp;ved=2ahUKEwiHiO2E6IPxAhWm4XMBHVsPAZ8QqoUBMBB6BAgDEAE&amp;usg=AOvVaw22RPxaup0hOgzqBrIC5fs0\"><div class=\"RAyV4b\"><img alt=\"\" class=\"t0fcAb\" src=\"https://encrypted-tbn0.gstatic.com/images?q=tbn:ANd9GcTUt2HSUCAIoaAUWSnM3OwPh_SrAog557fw80X0YOw0_o6Kr3OggG0hC-sGyO4&amp;s\"/></div></a></td></tr><tr><td><a href=\"/url?q=https://www.businessinsider.in/business/news/this-list-of-the-10-new-cars-owners-keep-the-longest-reveals-just-how-much-american-love-their-suvs-and-sports-cars/articleshow/71543233.cms&amp;sa=U&amp;ved=2ahUKEwiHiO2E6IPxAhWm4XMBHVsPAZ8Qr4kDMBB6BAgDEAI&amp;usg=AOvVaw1cE0pYCr_QB9fNOAS3SvZY\"><div class=\"Tor4Ec\"> <span class=\"qXLe6d x3G5ab\"> <span class=\"fYyStc\">This list of the 10 new...</span> </span> <span class=\"qXLe6d F9iS2e\"> <span class=\"fYyStc\">www.businessinsider.in</span> </span> </div></a></td></tr></table></div></div> </div> </div></td><td align=\"center\" class=\"e3goi\"><div class=\"svla5d\"> <div> <div class=\"lIMUZd\"><div><table class=\"TxbwNb\"><tr><td><a href=\"/url?q=https://www.usatoday.com/story/money/2019/05/01/americas-most-eco-friendly-vehicles/39395389/&amp;sa=U&amp;ved=2ahUKEwiHiO2E6IPxAhWm4XMBHVsPAZ8QqoUBMBF6BAgFEAE&amp;usg=AOvVaw1s_xeJD14i0EtAzHeNGyxq\"><div class=\"RAyV4b\"><img alt=\"\" class=\"t0fcAb\" src=\"https://encrypted-tbn0.gstatic.com/images?q=tbn:ANd9GcSHRIUxnZywVxHO8DmoEGCQvjig0JMmVm3Di8iz370A3-StBjfKGCiCyTT3Fg&amp;s\"/></div></a></td></tr><tr><td><a href=\"/url?q=https://www.usatoday.com/story/money/2019/05/01/americas-most-eco-friendly-vehicles/39395389/&amp;sa=U&amp;ved=2ahUKEwiHiO2E6IPxAhWm4XMBHVsPAZ8Qr4kDMBF6BAgFEAI&amp;usg=AOvVaw3SAU97lFRA-fZXpaEvNUit\"><div class=\"Tor4Ec\"> <span class=\"qXLe6d x3G5ab\"> <span class=\"fYyStc\">Most eco-friendly car list:...</span> </span> <span class=\"qXLe6d F9iS2e\"> <span class=\"fYyStc\">www.usatoday.com</span> </span> </div></a></td></tr></table></div></div> </div> </div></td><td align=\"center\" class=\"e3goi\"><div class=\"svla5d\"> <div> <div class=\"lIMUZd\"><div><table class=\"TxbwNb\"><tr><td><a href=\"/url?q=https://www.popularmechanics.com/cars/g93/the-100-hottest-cars-of-all-time/&amp;sa=U&amp;ved=2ahUKEwiHiO2E6IPxAhWm4XMBHVsPAZ8QqoUBMBJ6BAgCEAE&amp;usg=AOvVaw3V6Max1WcJ4iZv2_57kVRN\"><div class=\"RAyV4b\"><img alt=\"\" class=\"t0fcAb\" src=\"https://encrypted-tbn0.gstatic.com/images?q=tbn:ANd9GcRjWCaYxvaeg7mG-Cu4DrY-d_80pcKj4XDEdwE9-jloXJdjsHKiMcJNP_abtQ&amp;s\"/></div></a></td></tr><tr><td><a href=\"/url?q=https://www.popularmechanics.com/cars/g93/the-100-hottest-cars-of-all-time/&amp;sa=U&amp;ved=2ahUKEwiHiO2E6IPxAhWm4XMBHVsPAZ8Qr4kDMBJ6BAgCEAI&amp;usg=AOvVaw3hEoK5gxEukbbdMOV0a2OT\"><div class=\"Tor4Ec\"> <span class=\"qXLe6d x3G5ab\"> <span class=\"fYyStc\">The Hottest Cars of All...</span> </span> <span class=\"qXLe6d F9iS2e\"> <span class=\"fYyStc\">www.popularmechanics.com</span> </span> </div></a></td></tr></table></div></div> </div> </div></td><td align=\"center\" class=\"e3goi\"><div class=\"svla5d\"> <div> <div class=\"lIMUZd\"><div><table class=\"TxbwNb\"><tr><td><a href=\"/url?q=https://www.bloomberg.com/news/articles/2020-04-23/invisibility-cloaks-and-air-purifiers-how-covid-will-change-cars&amp;sa=U&amp;ved=2ahUKEwiHiO2E6IPxAhWm4XMBHVsPAZ8QqoUBMBN6BAgAEAE&amp;usg=AOvVaw1DECHKqU_nFYzgx7hbk0Kw\"><div class=\"RAyV4b\"><img alt=\"\" class=\"t0fcAb\" src=\"https://encrypted-tbn0.gstatic.com/images?q=tbn:ANd9GcTVCu3rAAl1kvWUhlgMZVWPes-3UThXgPTlDYj4kWdExko4duUc6_IkxUFL7NY&amp;s\"/></div></a></td></tr><tr><td><a href=\"/url?q=https://www.bloomberg.com/news/articles/2020-04-23/invisibility-cloaks-and-air-purifiers-how-covid-will-change-cars&amp;sa=U&amp;ved=2ahUKEwiHiO2E6IPxAhWm4XMBHVsPAZ8Qr4kDMBN6BAgAEAI&amp;usg=AOvVaw1ZA6j9UrIPrWslw4MDqef5\"><div class=\"Tor4Ec\"> <span class=\"qXLe6d x3G5ab\"> <span class=\"fYyStc\">Invisibility Cloaks and Air...</span> </span> <span class=\"qXLe6d F9iS2e\"> <span class=\"fYyStc\">www.bloomberg.com</span> </span> </div></a></td></tr></table></div></div> </div> </div></td></tr></table></div><table class=\"uZgmoc\"><tbody><td><a class=\"frGj1b\" href=\"/search?q=cars&amp;biw=1034&amp;bih=528&amp;ie=UTF-8&amp;tbm=isch&amp;ei=eSu9YMfnEKbDz7sP256E-Ak&amp;start=20&amp;sa=N\">Next &gt;</a></td></tbody></table><br/><div class=\"TuS8Ad\" data-ved=\"0ahUKEwiHiO2E6IPxAhWm4XMBHVsPAZ8QpyoIUg\"><style>.VYM29{font-weight:bold}</style><div align=\"center\" class=\"HddGcc\"><span class=\"VYM29\">Lucknow, Uttar Pradesh</span><span> - </span><span>From your Internet address</span><span> - </span><a href=\"/url?q=https://support.google.com/websearch%3Fp%3Dws_settings_location%26hl%3Den-IN&amp;sa=U&amp;ved=0ahUKEwiHiO2E6IPxAhWm4XMBHVsPAZ8Qty4IUw&amp;usg=AOvVaw1SzAAU0N2n-7DPXgcsdzPV\">Learn more</a></div><div align=\"center\"><a class=\"rEM8G\" href=\"/url?q=https://accounts.google.com/ServiceLogin%3Fcontinue%3Dhttps://www.google.com/search%253Fq%253Dcars%2526tbm%253Disch%2526source%253Dhp%2526biw%253D1034%2526bih%253D528%2526ei%253D6yq9YMSbJ4WLmgec2aLwDQ%2526oq%253Dcars%2526gs_lcp%253DCgNpbWcQDDICCAAyBQgAELEDMgUIABCxAzICCAAyCAgAELEDEIMBMgUIABCxAzIFCAAQsQMyBQgAELEDMgUIABCxAzIICAAQsQMQgwFQhLwCWJm8AmCc7gNoAHAAeAKAAdIEiAGKEpIBAzUtNJgBAKABAaoBC2d3cy13aXotaW1n%2526sclient%253Dimg%2526ved%253D0ahUKEwiEvajB54PxAhWFheYKHZysCN4Q4dUDCAc%26hl%3Den&amp;sa=U&amp;ved=0ahUKEwiHiO2E6IPxAhWm4XMBHVsPAZ8Qxs8CCFQ&amp;usg=AOvVaw0aYTx2Y3wE_DsKRblRq2Ig\">Sign in</a></div><div><table class=\"bookcf\"><tbody class=\"InWNIe\"><tr><td><a class=\"rEM8G\" href=\"https://www.google.com/preferences?hl=en&amp;sa=X&amp;ved=0ahUKEwiHiO2E6IPxAhWm4XMBHVsPAZ8Qv5YECFU\">Settings</a></td><td><a class=\"rEM8G\" href=\"https://www.google.com/intl/en_in/policies/privacy/\">Privacy</a></td><td><a class=\"rEM8G\" href=\"https://www.google.com/intl/en_in/policies/terms/\">Terms</a></td></tr></tbody></table></div></div><div> </div></body></html>"
      ]
     },
     "execution_count": 111,
     "metadata": {},
     "output_type": "execute_result"
    }
   ],
   "source": [
    "#parsing the sourcecode using BeautifulSoup and parser used is html.parser\n",
    "soup1=BeautifulSoup(cars_img.content,\"html.parser\")\n",
    "soup1"
   ]
  },
  {
   "cell_type": "code",
   "execution_count": 112,
   "metadata": {},
   "outputs": [],
   "source": [
    "#Creating empty Lists so that we can store data in these lists while scraping\n",
    "cars=[]\n",
    "cars_url=[]"
   ]
  },
  {
   "cell_type": "code",
   "execution_count": 113,
   "metadata": {},
   "outputs": [],
   "source": [
    "#scrolling page for fetching 100 images\n",
    "driver.execute_script(\"window.scrollTo(0, document.body.scrollHeight);\")"
   ]
  },
  {
   "cell_type": "code",
   "execution_count": 114,
   "metadata": {},
   "outputs": [],
   "source": [
    "#url list of Cars\n",
    "car_Url=driver.find_elements_by_xpath(\"//div[@class='bRMDJf islir']/img\")"
   ]
  },
  {
   "cell_type": "code",
   "execution_count": 115,
   "metadata": {},
   "outputs": [],
   "source": [
    "#extracting Cars images \n",
    "for i in car_Url:\n",
    "    cars_url.append(i.get_attribute(\"src\"))\n",
    "    for images in soup1.findAll('img'):\n",
    "        try:\n",
    "            cars.append(images.get('src'))\n",
    "        except NoSuchElementException:\n",
    "            cars.append('-')\n",
    "time.sleep(3)"
   ]
  },
  {
   "cell_type": "code",
   "execution_count": 117,
   "metadata": {},
   "outputs": [],
   "source": [
    "#Opening webpage https://images.google.com/ for Machine Learning\n",
    "url=\"https://images.google.com\"\n",
    "driver.get(url)"
   ]
  },
  {
   "cell_type": "code",
   "execution_count": 118,
   "metadata": {},
   "outputs": [
    {
     "data": {
      "text/plain": [
       "<selenium.webdriver.remote.webelement.WebElement (session=\"b3e90a9e1c1528c03083a01c64746e69\", element=\"5b9aed5f-5ca9-4fcf-a783-06339aee78f1\")>"
      ]
     },
     "execution_count": 118,
     "metadata": {},
     "output_type": "execute_result"
    }
   ],
   "source": [
    "#finding element for Image search bar\n",
    "search_pro=driver.find_element_by_xpath('//input[@class=\"gLFyf gsfi\"]')    \n",
    "search_pro"
   ]
  },
  {
   "cell_type": "code",
   "execution_count": 119,
   "metadata": {},
   "outputs": [],
   "source": [
    "#Searching for “Machine Learning” in Search bar\n",
    "search_pro.send_keys(\"Machine Learning\")"
   ]
  },
  {
   "cell_type": "code",
   "execution_count": 120,
   "metadata": {},
   "outputs": [],
   "source": [
    "#Clicking the Search Button using Xpath function\n",
    "search_bt=driver.find_element_by_xpath('//span[@class=\"z1asCe MZy1Rb\"]')\n",
    "search_bt.click()"
   ]
  },
  {
   "cell_type": "code",
   "execution_count": 121,
   "metadata": {},
   "outputs": [
    {
     "data": {
      "text/plain": [
       "<Response [200]>"
      ]
     },
     "execution_count": 121,
     "metadata": {},
     "output_type": "execute_result"
    }
   ],
   "source": [
    "#fetching ML info from images.google.com\n",
    "ml_img=requests.get(driver.current_url)\n",
    "ml_img"
   ]
  },
  {
   "cell_type": "code",
   "execution_count": 122,
   "metadata": {},
   "outputs": [
    {
     "data": {
      "text/plain": [
       "<!DOCTYPE html PUBLIC \"-//WAPFORUM//DTD XHTML Mobile 1.0//EN\" \"http://www.wapforum.org/DTD/xhtml-mobile10.dtd\">\n",
       "<html lang=\"en-IN\" xmlns=\"http://www.w3.org/1999/xhtml\"><head><meta content=\"application/xhtml+xml; charset=utf-8\" http-equiv=\"Content-Type\"/><meta content=\"no-cache\" name=\"Cache-Control\"/><title>Machine Learning - Google Search</title><style>a{text-decoration:none;color:inherit}a:hover{text-decoration:underline}a img{border:0}body{font-family:Roboto,Helvetica,Arial,sans-serif;padding:8px;margin:0 auto;max-width:700px;min-width:240px;}.FbhRzb{border-left:thin solid #dadce0;border-right:thin solid #dadce0;border-top:thin solid #dadce0;height:40px;overflow:hidden}.n692Zd{margin-bottom:10px}.cvifge{height:40px;border-spacing:0}.QvGUP{height:40px;padding:0 8px 0 8px;vertical-align:top}.O4cRJf{height:40px;width:100%;padding:0;padding-right:16px}.O1ePr{height:40px;padding:0;vertical-align:top}.kgJEQe{height:36px;width:98px;vertical-align:top;margin-top:4px}.lXLRf{vertical-align:top}.MhzMZd{border:0;vertical-align:middle;font-size:14px;height:40px;padding:0;width:100%;padding-left:16px}.xB0fq{height:40px;border:none;font-size:14px;background-color:#4285f4;color:#fff;padding:0 16px;margin:0;vertical-align:top;cursor:pointer}.xB0fq:focus{border:1px solid #000}.M7pB2{border:thin solid #dadce0;margin:0 0 3px 0;font-size:13px;font-weight:500;height:40px}.euZec{width:100%;height:40px;text-align:center;border-spacing:0}table.euZec td{padding:0;width:25%}.QIqI7{display:inline-block;padding-top:4px;font-weight:bold;color:#4285f4}.EY24We{border-bottom:2px solid #4285f4}.CsQyDc{display:inline-block;color:#70757a}.TuS8Ad{font-size:14px}.HddGcc{padding:8px;color:#70757a}.dzp8ae{font-weight:bold;color:#3c4043}.rEM8G{color:#70757a}.bookcf{table-layout:fixed;width:100%;border-spacing:0}.InWNIe{text-align:center}.uZgmoc{border:thin solid #dadce0;color:#70757a;font-size:14px;text-align:center;table-layout:fixed;width:100%}.frGj1b{display:block;padding:12px 0 12px 0;width:100%}.BnJWBc{text-align:center;padding:6px 0 13px 0;height:35px}.e3goi{vertical-align:top;padding:0;height:180px}.GpQGbf{margin:auto;border-collapse:collapse;border-spacing:0;width:100%}</style></head><body><style>.X6ZCif{color:#202124;font-size:11px;line-height:16px;display:inline-block;padding-top:2px;overflow:hidden;padding-bottom:4px;width:100%}.TwVfHd{border-radius:16px;border:thin solid #dadce0;display:inline-block;padding:8px 8px;margin-right:8px;margin-bottom:4px}.yekiAe{background-color:#dadce0}.svla5d{width:100%}.ezO2md{border:thin solid #dadce0;padding:12px 16px 12px 16px;margin-bottom:10px;font-family:Roboto,Helvetica,Arial,sans-serif}.lIMUZd{font-family:Roboto,Helvetica,Arial,sans-serif}.TxbwNb{border-spacing:0}.K35ahc{width:100%}.owohpf{text-align:center}.RAyV4b{width:162px;height:140px;line-height:140px;overflow:'hidden';text-align:center}.t0fcAb{text-align:center;margin:auto;vertical-align:middle;max-width:162px;max-height:140px}.Tor4Ec{padding-top:2px;padding-bottom:8px;}.fYyStc{word-break:break-word}.ynsChf{display:block;white-space:nowrap;overflow:hidden;text-overflow:ellipsis}.Fj3V3b{color:#1967D2;font-size:14px;line-height:20px}.FrIlee{color:#202124;font-size:11px;line-height:16px}.F9iS2e{color:#70757a;font-size:11px;line-height:16px}.WMQ2Le{color:#70757a;font-size:12px;line-height:16px}.x3G5ab{color:#202124;font-size:12px;line-height:16px}.fuLhoc{color:#1967D2;font-size:16px;line-height:20px}.epoveb{font-size:24px;line-height:28px;font-weight:400;color:#202124}.dXDvrc{color:#0d652d;font-size:14px;line-height:20px;word-wrap:break-word}.dloBPe{font-weight:bold}.YVIcad{color:#70757a}.JkVVdd{color:#ea4335}.oXZRFd{color:#ea4335}.MQHtg{color:#fbbc04}.pyMRrb{color:#1e8e3e}.EtTZid{color:#1e8e3e}.M3vVJe{color:#1967D2}.qXLe6d{display:block}.NHQNef{font-style:italic}.Cb8Z7c{white-space:pre}a.ZWRArf{text-decoration:none}a .CVA68e:hover{text-decoration:underline}</style><div class=\"n692Zd\"><div class=\"BnJWBc\"><a class=\"lXLRf\" href=\"/?biw=1034&amp;bih=528&amp;output=images&amp;ie=UTF-8&amp;tbm=isch&amp;sa=X&amp;ved=0ahUKEwij5rvG6oPxAhV3xzgGHbjGDlYQPAgC\"><img alt=\"Google\" class=\"kgJEQe\" src=\"/images/branding/searchlogo/1x/googlelogo_desk_heirloom_color_150x55dp.gif\"/></a></div><div class=\"FbhRzb\"><form action=\"/search\"><input name=\"biw\" type=\"hidden\" value=\"1034\"/><input name=\"bih\" type=\"hidden\" value=\"528\"/><input name=\"ie\" type=\"hidden\" value=\"ISO-8859-1\"/><input name=\"tbm\" type=\"hidden\" value=\"isch\"/><input name=\"oq\" type=\"hidden\"/><input name=\"aqs\" type=\"hidden\"/><table class=\"cvifge\"><tr><td class=\"O4cRJf\"><input class=\"MhzMZd\" name=\"q\" type=\"text\" value=\"Machine Learning\"/></td><td class=\"O1ePr\"><input class=\"xB0fq\" type=\"submit\" value=\"Search\"/></td></tr></table></form></div><div class=\"M7pB2\"><table class=\"euZec\"><tbody><tr><td><a class=\"CsQyDc\" href=\"/search?q=Machine+Learning&amp;biw=1034&amp;bih=528&amp;ie=UTF-8&amp;source=lnms&amp;sa=X&amp;ved=0ahUKEwij5rvG6oPxAhV3xzgGHbjGDlYQ_AUIBCgA\">ALL</a></td><td><a class=\"CsQyDc\" href=\"/search?q=Machine+Learning&amp;biw=1034&amp;bih=528&amp;ie=UTF-8&amp;tbm=nws&amp;source=lnms&amp;sa=X&amp;ved=0ahUKEwij5rvG6oPxAhV3xzgGHbjGDlYQ_AUIBSgB\">NEWS</a></td><td><a class=\"CsQyDc\" href=\"/search?q=Machine+Learning&amp;biw=1034&amp;bih=528&amp;ie=UTF-8&amp;tbm=bks&amp;source=lnms&amp;sa=X&amp;ved=0ahUKEwij5rvG6oPxAhV3xzgGHbjGDlYQ_AUIBigC\">BOOKS</a></td><td class=\"EY24We\"><span class=\"QIqI7\">IMAGES</span></td></tr></tbody></table></div></div><div class=\"X6ZCif\"><a class=\"TwVfHd\" href=\"/search?biw=1034&amp;bih=528&amp;ie=UTF-8&amp;tbm=isch&amp;q=Machine+Learning&amp;chips=q:machine+learning,online_chips:applications&amp;sa=X&amp;ved=0ahUKEwij5rvG6oPxAhV3xzgGHbjGDlYQ4lYICygA\">applications</a><a class=\"TwVfHd\" href=\"/search?biw=1034&amp;bih=528&amp;ie=UTF-8&amp;tbm=isch&amp;q=Machine+Learning&amp;chips=q:machine+learning,online_chips:learning+algorithms&amp;sa=X&amp;ved=0ahUKEwij5rvG6oPxAhV3xzgGHbjGDlYQ4lYIDCgB\">learning algorithms</a><a class=\"TwVfHd\" href=\"/search?biw=1034&amp;bih=528&amp;ie=UTF-8&amp;tbm=isch&amp;q=Machine+Learning&amp;chips=q:machine+learning,online_chips:introduction&amp;sa=X&amp;ved=0ahUKEwij5rvG6oPxAhV3xzgGHbjGDlYQ4lYIDSgC\">introduction</a><a class=\"TwVfHd\" href=\"/search?biw=1034&amp;bih=528&amp;ie=UTF-8&amp;tbm=isch&amp;q=Machine+Learning&amp;chips=q:machine+learning,online_chips:artificial&amp;sa=X&amp;ved=0ahUKEwij5rvG6oPxAhV3xzgGHbjGDlYQ4lYIDigD\">artificial</a><a class=\"TwVfHd\" href=\"/search?biw=1034&amp;bih=528&amp;ie=UTF-8&amp;tbm=isch&amp;q=Machine+Learning&amp;chips=q:machine+learning,online_chips:tutorial&amp;sa=X&amp;ved=0ahUKEwij5rvG6oPxAhV3xzgGHbjGDlYQ4lYIDygE\">tutorial</a><a class=\"TwVfHd\" href=\"/search?biw=1034&amp;bih=528&amp;ie=UTF-8&amp;tbm=isch&amp;q=Machine+Learning&amp;chips=q:machine+learning,online_chips:classification&amp;sa=X&amp;ved=0ahUKEwij5rvG6oPxAhV3xzgGHbjGDlYQ4lYIECgF\">classification</a><a class=\"TwVfHd\" href=\"/search?biw=1034&amp;bih=528&amp;ie=UTF-8&amp;tbm=isch&amp;q=Machine+Learning&amp;chips=q:machine+learning,online_chips:python&amp;sa=X&amp;ved=0ahUKEwij5rvG6oPxAhV3xzgGHbjGDlYQ4lYIESgG\">python</a><a class=\"TwVfHd\" href=\"/search?biw=1034&amp;bih=528&amp;ie=UTF-8&amp;tbm=isch&amp;q=Machine+Learning&amp;chips=q:machine+learning,online_chips:prediction&amp;sa=X&amp;ved=0ahUKEwij5rvG6oPxAhV3xzgGHbjGDlYQ4lYIEigH\">prediction</a><a class=\"TwVfHd\" href=\"/search?biw=1034&amp;bih=528&amp;ie=UTF-8&amp;tbm=isch&amp;q=Machine+Learning&amp;chips=q:machine+learning,online_chips:supervised+learning&amp;sa=X&amp;ved=0ahUKEwij5rvG6oPxAhV3xzgGHbjGDlYQ4lYIEygI\">supervised learning</a><a class=\"TwVfHd\" href=\"/search?biw=1034&amp;bih=528&amp;ie=UTF-8&amp;tbm=isch&amp;q=Machine+Learning&amp;chips=q:machine+learning,online_chips:data&amp;sa=X&amp;ved=0ahUKEwij5rvG6oPxAhV3xzgGHbjGDlYQ4lYIFCgJ\">data</a></div><div><table class=\"GpQGbf\"><tr><td align=\"center\" class=\"e3goi\"><div class=\"svla5d\"> <div> <div class=\"lIMUZd\"><div><table class=\"TxbwNb\"><tr><td><a href=\"/url?q=https://www.forbes.com/sites/kalevleetaru/2019/01/15/why-machine-learning-needs-semantics-not-just-statistics/&amp;sa=U&amp;ved=2ahUKEwij5rvG6oPxAhV3xzgGHbjGDlYQqoUBMAB6BAgEEAE&amp;usg=AOvVaw3h3xKnEj2RIep38ifT0hnH\"><div class=\"RAyV4b\"><img alt=\"\" class=\"t0fcAb\" src=\"https://encrypted-tbn0.gstatic.com/images?q=tbn:ANd9GcT7TdIBku0JWpZvn3e98YIOy9Tf0SLRtlj0sXo2efNHJc0EVvG8UVl-DTzGB8U&amp;s\"/></div></a></td></tr><tr><td><a href=\"/url?q=https://www.forbes.com/sites/kalevleetaru/2019/01/15/why-machine-learning-needs-semantics-not-just-statistics/&amp;sa=U&amp;ved=2ahUKEwij5rvG6oPxAhV3xzgGHbjGDlYQr4kDMAB6BAgEEAI&amp;usg=AOvVaw0Gh6v7AEWExxtVs2_qT1zR\"><div class=\"Tor4Ec\"> <span class=\"qXLe6d x3G5ab\"> <span class=\"fYyStc\">Why Machine Learning Needs...</span> </span> <span class=\"qXLe6d F9iS2e\"> <span class=\"fYyStc\">www.forbes.com</span> </span> </div></a></td></tr></table></div></div> </div> </div></td><td align=\"center\" class=\"e3goi\"><div class=\"svla5d\"> <div> <div class=\"lIMUZd\"><div><table class=\"TxbwNb\"><tr><td><a href=\"/url?q=https://www.forbes.com/sites/tomtaulli/2019/03/02/what-you-need-to-know-about-machine-learning/&amp;sa=U&amp;ved=2ahUKEwij5rvG6oPxAhV3xzgGHbjGDlYQqoUBMAF6BAgSEAE&amp;usg=AOvVaw0ij-zSC6PtdkznCYSs5iXy\"><div class=\"RAyV4b\"><img alt=\"\" class=\"t0fcAb\" src=\"https://encrypted-tbn0.gstatic.com/images?q=tbn:ANd9GcTkSeVOBlwJh9oTnDqYcU5Hz28fKfc9zCuVYHE0_5jPNHuCGqojLm7wxwhxTg&amp;s\"/></div></a></td></tr><tr><td><a href=\"/url?q=https://www.forbes.com/sites/tomtaulli/2019/03/02/what-you-need-to-know-about-machine-learning/&amp;sa=U&amp;ved=2ahUKEwij5rvG6oPxAhV3xzgGHbjGDlYQr4kDMAF6BAgSEAI&amp;usg=AOvVaw0zjupIll3A88PZtx9I78q2\"><div class=\"Tor4Ec\"> <span class=\"qXLe6d x3G5ab\"> <span class=\"fYyStc\">What You Need To Know About...</span> </span> <span class=\"qXLe6d F9iS2e\"> <span class=\"fYyStc\">www.forbes.com</span> </span> </div></a></td></tr></table></div></div> </div> </div></td><td align=\"center\" class=\"e3goi\"><div class=\"svla5d\"> <div> <div class=\"lIMUZd\"><div><table class=\"TxbwNb\"><tr><td><a href=\"/url?q=https://www.blumeglobal.com/learning/machine-learning/&amp;sa=U&amp;ved=2ahUKEwij5rvG6oPxAhV3xzgGHbjGDlYQqoUBMAJ6BAgTEAE&amp;usg=AOvVaw26pfZU1oNb9btoYzHwX4uV\"><div class=\"RAyV4b\"><img alt=\"\" class=\"t0fcAb\" src=\"https://encrypted-tbn0.gstatic.com/images?q=tbn:ANd9GcTpHIlXhhSH-ZfUz1KxLMPQWI5xTNoVgfGxBjYWSx33Wk8rK9guD0A_3QFiRw&amp;s\"/></div></a></td></tr><tr><td><a href=\"/url?q=https://www.blumeglobal.com/learning/machine-learning/&amp;sa=U&amp;ved=2ahUKEwij5rvG6oPxAhV3xzgGHbjGDlYQr4kDMAJ6BAgTEAI&amp;usg=AOvVaw0K7bROJaGidsCSwE1fb6-O\"><div class=\"Tor4Ec\"> <span class=\"qXLe6d x3G5ab\"> <span class=\"fYyStc\">How Machine Learning...</span> </span> <span class=\"qXLe6d F9iS2e\"> <span class=\"fYyStc\">www.blumeglobal.com</span> </span> </div></a></td></tr></table></div></div> </div> </div></td><td align=\"center\" class=\"e3goi\"><div class=\"svla5d\"> <div> <div class=\"lIMUZd\"><div><table class=\"TxbwNb\"><tr><td><a href=\"/url?q=https://data-flair.training/blogs/machine-learning-tutorial/&amp;sa=U&amp;ved=2ahUKEwij5rvG6oPxAhV3xzgGHbjGDlYQqoUBMAN6BAgPEAE&amp;usg=AOvVaw1dsS3KpTExJnXSmDDFCiep\"><div class=\"RAyV4b\"><img alt=\"\" class=\"t0fcAb\" src=\"https://encrypted-tbn0.gstatic.com/images?q=tbn:ANd9GcTEsPDN3p8C0rkTC1_wn30jhKAN1Hm5ry0C08-SxtEzxRKTM-zeffzdfLiy63s&amp;s\"/></div></a></td></tr><tr><td><a href=\"/url?q=https://data-flair.training/blogs/machine-learning-tutorial/&amp;sa=U&amp;ved=2ahUKEwij5rvG6oPxAhV3xzgGHbjGDlYQr4kDMAN6BAgPEAI&amp;usg=AOvVaw25L742BrCsX5JWFHDzUfqk\"><div class=\"Tor4Ec\"> <span class=\"qXLe6d x3G5ab\"> <span class=\"fYyStc\">Machine Learning Tutorial -...</span> </span> <span class=\"qXLe6d F9iS2e\"> <span class=\"fYyStc\">data-flair.training</span> </span> </div></a></td></tr></table></div></div> </div> </div></td></tr><tr><td align=\"center\" class=\"e3goi\"><div class=\"svla5d\"> <div> <div class=\"lIMUZd\"><div><table class=\"TxbwNb\"><tr><td><a href=\"/url?q=https://www.expert.ai/blog/machine-learning-definition/&amp;sa=U&amp;ved=2ahUKEwij5rvG6oPxAhV3xzgGHbjGDlYQqoUBMAR6BAgREAE&amp;usg=AOvVaw0hT7DDSB4MDKBIaa_Fp8Tq\"><div class=\"RAyV4b\"><img alt=\"\" class=\"t0fcAb\" src=\"https://encrypted-tbn0.gstatic.com/images?q=tbn:ANd9GcRlx8mbpqfaG_a2UL_m7kzWSnRf9sJGw7WZzFYOtLi5KS5gEcf1Sx9sVZNpmA&amp;s\"/></div></a></td></tr><tr><td><a href=\"/url?q=https://www.expert.ai/blog/machine-learning-definition/&amp;sa=U&amp;ved=2ahUKEwij5rvG6oPxAhV3xzgGHbjGDlYQr4kDMAR6BAgREAI&amp;usg=AOvVaw1AgLmkiGCOfP1J2cB8RfNX\"><div class=\"Tor4Ec\"> <span class=\"qXLe6d x3G5ab\"> <span class=\"fYyStc\">What is the Definition of...</span> </span> <span class=\"qXLe6d F9iS2e\"> <span class=\"fYyStc\">www.expert.ai</span> </span> </div></a></td></tr></table></div></div> </div> </div></td><td align=\"center\" class=\"e3goi\"><div class=\"svla5d\"> <div> <div class=\"lIMUZd\"><div><table class=\"TxbwNb\"><tr><td><a href=\"/url?q=https://www.techrepublic.com/article/machine-learning-the-smart-persons-guide/&amp;sa=U&amp;ved=2ahUKEwij5rvG6oPxAhV3xzgGHbjGDlYQqoUBMAV6BAgQEAE&amp;usg=AOvVaw3Gf9jAGGto5fr6V-FQERnD\"><div class=\"RAyV4b\"><img alt=\"\" class=\"t0fcAb\" src=\"https://encrypted-tbn0.gstatic.com/images?q=tbn:ANd9GcQFpYsho_wcq_W8Q8LsZ1h8vvcBVcvDu_Nk5WAUwvIBoneIBMc83ZbMjbe8THI&amp;s\"/></div></a></td></tr><tr><td><a href=\"/url?q=https://www.techrepublic.com/article/machine-learning-the-smart-persons-guide/&amp;sa=U&amp;ved=2ahUKEwij5rvG6oPxAhV3xzgGHbjGDlYQr4kDMAV6BAgQEAI&amp;usg=AOvVaw3yQFu659MPvjI64IVWqvfV\"><div class=\"Tor4Ec\"> <span class=\"qXLe6d x3G5ab\"> <span class=\"fYyStc\">Machine learning: A cheat...</span> </span> <span class=\"qXLe6d F9iS2e\"> <span class=\"fYyStc\">www.techrepublic.com</span> </span> </div></a></td></tr></table></div></div> </div> </div></td><td align=\"center\" class=\"e3goi\"><div class=\"svla5d\"> <div> <div class=\"lIMUZd\"><div><table class=\"TxbwNb\"><tr><td><a href=\"/url?q=https://mobidev.biz/blog/machine-learning-methods-demand-forecasting-retail&amp;sa=U&amp;ved=2ahUKEwij5rvG6oPxAhV3xzgGHbjGDlYQqoUBMAZ6BAgOEAE&amp;usg=AOvVaw0S4WvIaGvrpkiwoddW_It-\"><div class=\"RAyV4b\"><img alt=\"\" class=\"t0fcAb\" src=\"https://encrypted-tbn0.gstatic.com/images?q=tbn:ANd9GcSUTmKgE7GJiCzq0dCu2-FzR2rJg_7PNj9CzRobRVmd7vlMFiFnfrDvxCuR498&amp;s\"/></div></a></td></tr><tr><td><a href=\"/url?q=https://mobidev.biz/blog/machine-learning-methods-demand-forecasting-retail&amp;sa=U&amp;ved=2ahUKEwij5rvG6oPxAhV3xzgGHbjGDlYQr4kDMAZ6BAgOEAI&amp;usg=AOvVaw1qH9FbheQEB42ZCgldJ7J8\"><div class=\"Tor4Ec\"> <span class=\"qXLe6d x3G5ab\"> <span class=\"fYyStc\">How to Apply Machine...</span> </span> <span class=\"qXLe6d F9iS2e\"> <span class=\"fYyStc\">mobidev.biz</span> </span> </div></a></td></tr></table></div></div> </div> </div></td><td align=\"center\" class=\"e3goi\"><div class=\"svla5d\"> <div> <div class=\"lIMUZd\"><div><table class=\"TxbwNb\"><tr><td><a href=\"/url?q=https://www.ie.edu/exponential-learning/blog/data-science/machine-learning-marketing/&amp;sa=U&amp;ved=2ahUKEwij5rvG6oPxAhV3xzgGHbjGDlYQqoUBMAd6BAgNEAE&amp;usg=AOvVaw2RyK3AiPZLxMby3eU9QSio\"><div class=\"RAyV4b\"><img alt=\"\" class=\"t0fcAb\" src=\"https://encrypted-tbn0.gstatic.com/images?q=tbn:ANd9GcS5MZuwNvpZH7FExdKNN8ZmE_frFoQ9LKpDrHlVgk4A6Ve25TFGgkTj05w_8w&amp;s\"/></div></a></td></tr><tr><td><a href=\"/url?q=https://www.ie.edu/exponential-learning/blog/data-science/machine-learning-marketing/&amp;sa=U&amp;ved=2ahUKEwij5rvG6oPxAhV3xzgGHbjGDlYQr4kDMAd6BAgNEAI&amp;usg=AOvVaw3xsdcUwWEVlMmwIHSk0DOz\"><div class=\"Tor4Ec\"> <span class=\"qXLe6d x3G5ab\"> <span class=\"fYyStc\">Machine Learning for...</span> </span> <span class=\"qXLe6d F9iS2e\"> <span class=\"fYyStc\">www.ie.edu</span> </span> </div></a></td></tr></table></div></div> </div> </div></td></tr><tr><td align=\"center\" class=\"e3goi\"><div class=\"svla5d\"> <div> <div class=\"lIMUZd\"><div><table class=\"TxbwNb\"><tr><td><a href=\"/url?q=https://www.wordstream.com/blog/ws/2017/07/28/machine-learning-applications&amp;sa=U&amp;ved=2ahUKEwij5rvG6oPxAhV3xzgGHbjGDlYQqoUBMAh6BAgKEAE&amp;usg=AOvVaw1RbD186YH6y69_AamZlZmZ\"><div class=\"RAyV4b\"><img alt=\"\" class=\"t0fcAb\" src=\"https://encrypted-tbn0.gstatic.com/images?q=tbn:ANd9GcRMvjrXkAXvbSxWLNfwDbomsGpc3JbXEDncNIfIYuReZNWMbcJ4I0sG-R7ruQ&amp;s\"/></div></a></td></tr><tr><td><a href=\"/url?q=https://www.wordstream.com/blog/ws/2017/07/28/machine-learning-applications&amp;sa=U&amp;ved=2ahUKEwij5rvG6oPxAhV3xzgGHbjGDlYQr4kDMAh6BAgKEAI&amp;usg=AOvVaw1AuqWUV_cFPYuQl2WZScIk\"><div class=\"Tor4Ec\"> <span class=\"qXLe6d x3G5ab\"> <span class=\"fYyStc\">10 Companies Using Machine...</span> </span> <span class=\"qXLe6d F9iS2e\"> <span class=\"fYyStc\">www.wordstream.com</span> </span> </div></a></td></tr></table></div></div> </div> </div></td><td align=\"center\" class=\"e3goi\"><div class=\"svla5d\"> <div> <div class=\"lIMUZd\"><div><table class=\"TxbwNb\"><tr><td><a href=\"/url?q=https://www.nokia.com/blog/study-ai-machine-learning/&amp;sa=U&amp;ved=2ahUKEwij5rvG6oPxAhV3xzgGHbjGDlYQqoUBMAl6BAgMEAE&amp;usg=AOvVaw2fFhpaaRydqLAFYeu49m2i\"><div class=\"RAyV4b\"><img alt=\"\" class=\"t0fcAb\" src=\"https://encrypted-tbn0.gstatic.com/images?q=tbn:ANd9GcTHzp6LcPWSmNKpIZsbikrxh-fv1k4rdi-yXBDzQL5Ibw5No6mJHa3mMpF5mcQ&amp;s\"/></div></a></td></tr><tr><td><a href=\"/url?q=https://www.nokia.com/blog/study-ai-machine-learning/&amp;sa=U&amp;ved=2ahUKEwij5rvG6oPxAhV3xzgGHbjGDlYQr4kDMAl6BAgMEAI&amp;usg=AOvVaw01ZhCZ6ykkfqb35kc8ws33\"><div class=\"Tor4Ec\"> <span class=\"qXLe6d x3G5ab\"> <span class=\"fYyStc\">Why you should study AI and...</span> </span> <span class=\"qXLe6d F9iS2e\"> <span class=\"fYyStc\">www.nokia.com</span> </span> </div></a></td></tr></table></div></div> </div> </div></td><td align=\"center\" class=\"e3goi\"><div class=\"svla5d\"> <div> <div class=\"lIMUZd\"><div><table class=\"TxbwNb\"><tr><td><a href=\"/url?q=https://blog.bismart.com/en/how-to-approach-a-machine-learning-project&amp;sa=U&amp;ved=2ahUKEwij5rvG6oPxAhV3xzgGHbjGDlYQqoUBMAp6BAgLEAE&amp;usg=AOvVaw07YixMvA6pcBiwHAhI19iq\"><div class=\"RAyV4b\"><img alt=\"\" class=\"t0fcAb\" src=\"https://encrypted-tbn0.gstatic.com/images?q=tbn:ANd9GcT82YZ7tHFbocWbwNOihSjs0r-EuU7HjsZgQCSC30OpV2YQkP1gC7CrQIDlRQ&amp;s\"/></div></a></td></tr><tr><td><a href=\"/url?q=https://blog.bismart.com/en/how-to-approach-a-machine-learning-project&amp;sa=U&amp;ved=2ahUKEwij5rvG6oPxAhV3xzgGHbjGDlYQr4kDMAp6BAgLEAI&amp;usg=AOvVaw1hrbH7va5my__uVXTSe7GB\"><div class=\"Tor4Ec\"> <span class=\"qXLe6d x3G5ab\"> <span class=\"fYyStc\">How To Approach A Machine...</span> </span> <span class=\"qXLe6d F9iS2e\"> <span class=\"fYyStc\">blog.bismart.com</span> </span> </div></a></td></tr></table></div></div> </div> </div></td><td align=\"center\" class=\"e3goi\"><div class=\"svla5d\"> <div> <div class=\"lIMUZd\"><div><table class=\"TxbwNb\"><tr><td><a href=\"/url?q=https://gdmissionsystems.com/about-us/engineering/deep-learning&amp;sa=U&amp;ved=2ahUKEwij5rvG6oPxAhV3xzgGHbjGDlYQqoUBMAt6BAgHEAE&amp;usg=AOvVaw2QcjWf4aW9WcjBj9903ay9\"><div class=\"RAyV4b\"><img alt=\"\" class=\"t0fcAb\" src=\"https://encrypted-tbn0.gstatic.com/images?q=tbn:ANd9GcRWetLaaY0EdpzZ203bFqzzlVFiUxyhpARiuo75rnqUlhysvVpcHaqklirk9Wk&amp;s\"/></div></a></td></tr><tr><td><a href=\"/url?q=https://gdmissionsystems.com/about-us/engineering/deep-learning&amp;sa=U&amp;ved=2ahUKEwij5rvG6oPxAhV3xzgGHbjGDlYQr4kDMAt6BAgHEAI&amp;usg=AOvVaw34kgB9wjOXAzm205XOUNu9\"><div class=\"Tor4Ec\"> <span class=\"qXLe6d x3G5ab\"> <span class=\"fYyStc\">Deep Learning Analytics...</span> </span> <span class=\"qXLe6d F9iS2e\"> <span class=\"fYyStc\">gdmissionsystems.com</span> </span> </div></a></td></tr></table></div></div> </div> </div></td></tr><tr><td align=\"center\" class=\"e3goi\"><div class=\"svla5d\"> <div> <div class=\"lIMUZd\"><div><table class=\"TxbwNb\"><tr><td><a href=\"/url?q=https://www.geeksforgeeks.org/machine-learning/&amp;sa=U&amp;ved=2ahUKEwij5rvG6oPxAhV3xzgGHbjGDlYQqoUBMAx6BAgIEAE&amp;usg=AOvVaw0bqTBB19YaA1NphxQqmqeA\"><div class=\"RAyV4b\"><img alt=\"\" class=\"t0fcAb\" src=\"https://encrypted-tbn0.gstatic.com/images?q=tbn:ANd9GcS7IjZ52TQjEE8wqyXD64IbItlwp-cPFhIRgPT-Ld-h-CqjETSX54PIvXrO0A&amp;s\"/></div></a></td></tr><tr><td><a href=\"/url?q=https://www.geeksforgeeks.org/machine-learning/&amp;sa=U&amp;ved=2ahUKEwij5rvG6oPxAhV3xzgGHbjGDlYQr4kDMAx6BAgIEAI&amp;usg=AOvVaw3XZhMQohXOVMyy-jbXdVAX\"><div class=\"Tor4Ec\"> <span class=\"qXLe6d x3G5ab\"> <span class=\"fYyStc\">Machine Learning -...</span> </span> <span class=\"qXLe6d F9iS2e\"> <span class=\"fYyStc\">www.geeksforgeeks.org</span> </span> </div></a></td></tr></table></div></div> </div> </div></td><td align=\"center\" class=\"e3goi\"><div class=\"svla5d\"> <div> <div class=\"lIMUZd\"><div><table class=\"TxbwNb\"><tr><td><a href=\"/url?q=https://www.iberdrola.com/innovation/machine-learning-automatic-learning&amp;sa=U&amp;ved=2ahUKEwij5rvG6oPxAhV3xzgGHbjGDlYQqoUBMA16BAgJEAE&amp;usg=AOvVaw2R8yn4lT80EIqFAdA0yTJ0\"><div class=\"RAyV4b\"><img alt=\"\" class=\"t0fcAb\" src=\"https://encrypted-tbn0.gstatic.com/images?q=tbn:ANd9GcQI78g93w0X9xrKLd8VzOC8WR3MxhIeOcGqEqGExCil0apeR82Yn0GSe06xNA&amp;s\"/></div></a></td></tr><tr><td><a href=\"/url?q=https://www.iberdrola.com/innovation/machine-learning-automatic-learning&amp;sa=U&amp;ved=2ahUKEwij5rvG6oPxAhV3xzgGHbjGDlYQr4kDMA16BAgJEAI&amp;usg=AOvVaw1skXh5J7QzB5lTPcq1Qknp\"><div class=\"Tor4Ec\"> <span class=\"qXLe6d x3G5ab\"> <span class=\"fYyStc\">Machine Learning:...</span> </span> <span class=\"qXLe6d F9iS2e\"> <span class=\"fYyStc\">www.iberdrola.com</span> </span> </div></a></td></tr></table></div></div> </div> </div></td><td align=\"center\" class=\"e3goi\"><div class=\"svla5d\"> <div> <div class=\"lIMUZd\"><div><table class=\"TxbwNb\"><tr><td><a href=\"/url?q=https://www.techfunnel.com/information-technology/machine-learning-vs-deep-learning/&amp;sa=U&amp;ved=2ahUKEwij5rvG6oPxAhV3xzgGHbjGDlYQqoUBMA56BAgFEAE&amp;usg=AOvVaw0f9oERYyRKbmRQaylvORH5\"><div class=\"RAyV4b\"><img alt=\"\" class=\"t0fcAb\" src=\"https://encrypted-tbn0.gstatic.com/images?q=tbn:ANd9GcTnaOxZYSo80XcsCwo-Tc79ap_ex-p1y_4LAeAGHk6zD6Buk5pqx9G8Q7AcRQ&amp;s\"/></div></a></td></tr><tr><td><a href=\"/url?q=https://www.techfunnel.com/information-technology/machine-learning-vs-deep-learning/&amp;sa=U&amp;ved=2ahUKEwij5rvG6oPxAhV3xzgGHbjGDlYQr4kDMA56BAgFEAI&amp;usg=AOvVaw1zFfmrK-Afn6CTTRyWHRdT\"><div class=\"Tor4Ec\"> <span class=\"qXLe6d x3G5ab\"> <span class=\"fYyStc\">Deep Learning Vs Machine...</span> </span> <span class=\"qXLe6d F9iS2e\"> <span class=\"fYyStc\">www.techfunnel.com</span> </span> </div></a></td></tr></table></div></div> </div> </div></td><td align=\"center\" class=\"e3goi\"><div class=\"svla5d\"> <div> <div class=\"lIMUZd\"><div><table class=\"TxbwNb\"><tr><td><a href=\"/url?q=https://en.wikipedia.org/wiki/Deep_learning&amp;sa=U&amp;ved=2ahUKEwij5rvG6oPxAhV3xzgGHbjGDlYQqoUBMA96BAgBEAE&amp;usg=AOvVaw2hX0JWDsX-8FTL8R1x6en7\"><div class=\"RAyV4b\"><img alt=\"\" class=\"t0fcAb\" src=\"https://encrypted-tbn0.gstatic.com/images?q=tbn:ANd9GcR2RbFxqTYiZUSIDeudo_3yVqOygFYeZ8nJSC1m8DwLiw-OJfGighwkgLuVPQ&amp;s\"/></div></a></td></tr><tr><td><a href=\"/url?q=https://en.wikipedia.org/wiki/Deep_learning&amp;sa=U&amp;ved=2ahUKEwij5rvG6oPxAhV3xzgGHbjGDlYQr4kDMA96BAgBEAI&amp;usg=AOvVaw1r0fvVEbn0tllDdkAgYam5\"><div class=\"Tor4Ec\"> <span class=\"qXLe6d x3G5ab\"> <span class=\"fYyStc\">Deep learning - Wikipedia</span> </span> <span class=\"qXLe6d F9iS2e\"> <span class=\"fYyStc\">en.wikipedia.org</span> </span> </div></a></td></tr></table></div></div> </div> </div></td></tr><tr><td align=\"center\" class=\"e3goi\"><div class=\"svla5d\"> <div> <div class=\"lIMUZd\"><div><table class=\"TxbwNb\"><tr><td><a href=\"/url?q=https://www.simplilearn.com/machine-learning-vs-deep-learning-major-differences-you-need-to-know-article&amp;sa=U&amp;ved=2ahUKEwij5rvG6oPxAhV3xzgGHbjGDlYQqoUBMBB6BAgAEAE&amp;usg=AOvVaw0SPP1mevzVSJ4E1jaENIIK\"><div class=\"RAyV4b\"><img alt=\"\" class=\"t0fcAb\" src=\"https://encrypted-tbn0.gstatic.com/images?q=tbn:ANd9GcQltrw7n7BBRUx3vqXSGLLuT8mP2yS-InkAfVhmKi-6SvB_40UhtSdi3wvn7w&amp;s\"/></div></a></td></tr><tr><td><a href=\"/url?q=https://www.simplilearn.com/machine-learning-vs-deep-learning-major-differences-you-need-to-know-article&amp;sa=U&amp;ved=2ahUKEwij5rvG6oPxAhV3xzgGHbjGDlYQr4kDMBB6BAgAEAI&amp;usg=AOvVaw26L-YrvaLstwoMimwab7Or\"><div class=\"Tor4Ec\"> <span class=\"qXLe6d x3G5ab\"> <span class=\"fYyStc\">Deep-Learning-vs-Machine-...</span> </span> <span class=\"qXLe6d F9iS2e\"> <span class=\"fYyStc\">www.simplilearn.com</span> </span> </div></a></td></tr></table></div></div> </div> </div></td><td align=\"center\" class=\"e3goi\"><div class=\"svla5d\"> <div> <div class=\"lIMUZd\"><div><table class=\"TxbwNb\"><tr><td><a href=\"/url?q=https://www.foreseemed.com/blog/bias-in-machine-learning&amp;sa=U&amp;ved=2ahUKEwij5rvG6oPxAhV3xzgGHbjGDlYQqoUBMBF6BAgCEAE&amp;usg=AOvVaw2ZcvjNOMl76Gsq9JbI0i0K\"><div class=\"RAyV4b\"><img alt=\"\" class=\"t0fcAb\" src=\"https://encrypted-tbn0.gstatic.com/images?q=tbn:ANd9GcRFcGTa-Ndv5r_QTNF77mE3r6bVAm5JKvzcgN8lpos19fSW0iAwXhCIrbR3vAE&amp;s\"/></div></a></td></tr><tr><td><a href=\"/url?q=https://www.foreseemed.com/blog/bias-in-machine-learning&amp;sa=U&amp;ved=2ahUKEwij5rvG6oPxAhV3xzgGHbjGDlYQr4kDMBF6BAgCEAI&amp;usg=AOvVaw1tnFS51ZOwK7OiDabZBtqB\"><div class=\"Tor4Ec\"> <span class=\"qXLe6d x3G5ab\"> <span class=\"fYyStc\">What is Bias in Machine...</span> </span> <span class=\"qXLe6d F9iS2e\"> <span class=\"fYyStc\">www.foreseemed.com</span> </span> </div></a></td></tr></table></div></div> </div> </div></td><td align=\"center\" class=\"e3goi\"><div class=\"svla5d\"> <div> <div class=\"lIMUZd\"><div><table class=\"TxbwNb\"><tr><td><a href=\"/url?q=https://www.thermofisher.com/blog/connectedlab/machine-learning-a-primer-to-laboratory-applications/&amp;sa=U&amp;ved=2ahUKEwij5rvG6oPxAhV3xzgGHbjGDlYQqoUBMBJ6BAgGEAE&amp;usg=AOvVaw2nrB4Iqkg_jbX12_o8mUo3\"><div class=\"RAyV4b\"><img alt=\"\" class=\"t0fcAb\" src=\"https://encrypted-tbn0.gstatic.com/images?q=tbn:ANd9GcSP9X-j1kcHUnye_EDXsaimO_IRba9pwO6HxpE7TOZOoLc8Y3Ma0LhIvJT7Xg&amp;s\"/></div></a></td></tr><tr><td><a href=\"/url?q=https://www.thermofisher.com/blog/connectedlab/machine-learning-a-primer-to-laboratory-applications/&amp;sa=U&amp;ved=2ahUKEwij5rvG6oPxAhV3xzgGHbjGDlYQr4kDMBJ6BAgGEAI&amp;usg=AOvVaw34zxAqStvN3pk4yAtKW9TJ\"><div class=\"Tor4Ec\"> <span class=\"qXLe6d x3G5ab\"> <span class=\"fYyStc\">Machine Learning: A Primer...</span> </span> <span class=\"qXLe6d F9iS2e\"> <span class=\"fYyStc\">www.thermofisher.com</span> </span> </div></a></td></tr></table></div></div> </div> </div></td><td align=\"center\" class=\"e3goi\"><div class=\"svla5d\"> <div> <div class=\"lIMUZd\"><div><table class=\"TxbwNb\"><tr><td><a href=\"/url?q=https://bdtechtalks.com/2018/10/08/artificial-intelligence-vs-machine-learning/&amp;sa=U&amp;ved=2ahUKEwij5rvG6oPxAhV3xzgGHbjGDlYQqoUBMBN6BAgDEAE&amp;usg=AOvVaw305l2WhVI4ZFLoyCYVCEMK\"><div class=\"RAyV4b\"><img alt=\"\" class=\"t0fcAb\" src=\"https://encrypted-tbn0.gstatic.com/images?q=tbn:ANd9GcS4OE6-wkzAWIy3Gjf--WI7wyV8BUFG7PmAlTKWb3sXleuB0EyPCpt6WU0VFA&amp;s\"/></div></a></td></tr><tr><td><a href=\"/url?q=https://bdtechtalks.com/2018/10/08/artificial-intelligence-vs-machine-learning/&amp;sa=U&amp;ved=2ahUKEwij5rvG6oPxAhV3xzgGHbjGDlYQr4kDMBN6BAgDEAI&amp;usg=AOvVaw3bUNEc5HdwXNlJxmTfZPmV\"><div class=\"Tor4Ec\"> <span class=\"qXLe6d x3G5ab\"> <span class=\"fYyStc\">Why the difference between...</span> </span> <span class=\"qXLe6d F9iS2e\"> <span class=\"fYyStc\">bdtechtalks.com</span> </span> </div></a></td></tr></table></div></div> </div> </div></td></tr></table></div><table class=\"uZgmoc\"><tbody><td><a class=\"frGj1b\" href=\"/search?q=Machine+Learning&amp;biw=1034&amp;bih=528&amp;ie=UTF-8&amp;tbm=isch&amp;ei=Gy69YOPsLfeO4-EPuI27sAU&amp;start=20&amp;sa=N\">Next &gt;</a></td></tbody></table><br/><div class=\"TuS8Ad\" data-ved=\"0ahUKEwij5rvG6oPxAhV3xzgGHbjGDlYQpyoIUg\"><style>.VYM29{font-weight:bold}</style><div align=\"center\" class=\"HddGcc\"><span class=\"VYM29\">Lucknow, Uttar Pradesh</span><span> - </span><span>From your Internet address</span><span> - </span><a href=\"/url?q=https://support.google.com/websearch%3Fp%3Dws_settings_location%26hl%3Den-IN&amp;sa=U&amp;ved=0ahUKEwij5rvG6oPxAhV3xzgGHbjGDlYQty4IUw&amp;usg=AOvVaw30KcjqJonFQHvwQgf5yTW3\">Learn more</a></div><div align=\"center\"><a class=\"rEM8G\" href=\"/url?q=https://accounts.google.com/ServiceLogin%3Fcontinue%3Dhttps://www.google.com/search%253Fq%253DMachine%252BLearning%2526tbm%253Disch%2526source%253Dhp%2526biw%253D1034%2526bih%253D528%2526ei%253DVy29YNKxL6if4-EPwaaR6AE%2526oq%253DMachine%252BLearning%2526gs_lcp%253DCgNpbWcQDDIFCAAQsQMyBQgAELEDMgUIABCxAzICCAAyAggAMgIIADICCAAyAggAMgIIADICCABQtOcDWIDoA2DCsAVoAHAAeAKAAf0CiAHJC5IBAzMtNJgBAKABAaoBC2d3cy13aXotaW1n%2526sclient%253Dimg%2526ved%253D0ahUKEwiSuYLp6YPxAhWozzgGHUFTBB0Q4dUDCAc%26hl%3Den&amp;sa=U&amp;ved=0ahUKEwij5rvG6oPxAhV3xzgGHbjGDlYQxs8CCFQ&amp;usg=AOvVaw3x3tic1XZ72MYPVW8zUzG7\">Sign in</a></div><div><table class=\"bookcf\"><tbody class=\"InWNIe\"><tr><td><a class=\"rEM8G\" href=\"https://www.google.com/preferences?hl=en&amp;sa=X&amp;ved=0ahUKEwij5rvG6oPxAhV3xzgGHbjGDlYQv5YECFU\">Settings</a></td><td><a class=\"rEM8G\" href=\"https://www.google.com/intl/en_in/policies/privacy/\">Privacy</a></td><td><a class=\"rEM8G\" href=\"https://www.google.com/intl/en_in/policies/terms/\">Terms</a></td></tr></tbody></table></div></div><div> </div></body></html>"
      ]
     },
     "execution_count": 122,
     "metadata": {},
     "output_type": "execute_result"
    }
   ],
   "source": [
    "#parsing the sourcecode using BeautifulSoup and parser used is html.parser\n",
    "soup2=BeautifulSoup(ml_img.content,\"html.parser\")\n",
    "soup2"
   ]
  },
  {
   "cell_type": "code",
   "execution_count": 123,
   "metadata": {},
   "outputs": [],
   "source": [
    "#Creating empty Lists so that we can store data in these lists while scraping\n",
    "ml_img=[]\n",
    "ml_url=[]"
   ]
  },
  {
   "cell_type": "code",
   "execution_count": 124,
   "metadata": {},
   "outputs": [],
   "source": [
    "#scrolling page for fetching 100 images\n",
    "driver.execute_script(\"window.scrollTo(0, document.body.scrollHeight);\")"
   ]
  },
  {
   "cell_type": "code",
   "execution_count": 126,
   "metadata": {},
   "outputs": [],
   "source": [
    "#url list of ML\n",
    "mlearn_Url=driver.find_elements_by_xpath(\"//div[@class='bRMDJf islir']/img\")"
   ]
  },
  {
   "cell_type": "code",
   "execution_count": 127,
   "metadata": {},
   "outputs": [],
   "source": [
    "#extracting ML images \n",
    "for i in mlearn_Url:\n",
    "    ml_url.append(i.get_attribute(\"src\"))\n",
    "    for images in soup2.findAll('img'):\n",
    "        try:\n",
    "            ml_img.append(images.get('src'))\n",
    "        except NoSuchElementException:\n",
    "            ml_img.append('-')\n",
    "time.sleep(3)"
   ]
  },
  {
   "cell_type": "code",
   "execution_count": 128,
   "metadata": {},
   "outputs": [
    {
     "data": {
      "text/html": [
       "<div>\n",
       "<style scoped>\n",
       "    .dataframe tbody tr th:only-of-type {\n",
       "        vertical-align: middle;\n",
       "    }\n",
       "\n",
       "    .dataframe tbody tr th {\n",
       "        vertical-align: top;\n",
       "    }\n",
       "\n",
       "    .dataframe thead th {\n",
       "        text-align: right;\n",
       "    }\n",
       "</style>\n",
       "<table border=\"1\" class=\"dataframe\">\n",
       "  <thead>\n",
       "    <tr style=\"text-align: right;\">\n",
       "      <th></th>\n",
       "      <th>Fruits</th>\n",
       "      <th>Cars</th>\n",
       "      <th>Machine Learning</th>\n",
       "    </tr>\n",
       "  </thead>\n",
       "  <tbody>\n",
       "    <tr>\n",
       "      <th>0</th>\n",
       "      <td>/images/branding/searchlogo/1x/googlelogo_desk...</td>\n",
       "      <td>/images/branding/searchlogo/1x/googlelogo_desk...</td>\n",
       "      <td>/images/branding/searchlogo/1x/googlelogo_desk...</td>\n",
       "    </tr>\n",
       "    <tr>\n",
       "      <th>1</th>\n",
       "      <td>https://encrypted-tbn0.gstatic.com/images?q=tb...</td>\n",
       "      <td>https://encrypted-tbn0.gstatic.com/images?q=tb...</td>\n",
       "      <td>https://encrypted-tbn0.gstatic.com/images?q=tb...</td>\n",
       "    </tr>\n",
       "    <tr>\n",
       "      <th>2</th>\n",
       "      <td>https://encrypted-tbn0.gstatic.com/images?q=tb...</td>\n",
       "      <td>https://encrypted-tbn0.gstatic.com/images?q=tb...</td>\n",
       "      <td>https://encrypted-tbn0.gstatic.com/images?q=tb...</td>\n",
       "    </tr>\n",
       "    <tr>\n",
       "      <th>3</th>\n",
       "      <td>https://encrypted-tbn0.gstatic.com/images?q=tb...</td>\n",
       "      <td>https://encrypted-tbn0.gstatic.com/images?q=tb...</td>\n",
       "      <td>https://encrypted-tbn0.gstatic.com/images?q=tb...</td>\n",
       "    </tr>\n",
       "    <tr>\n",
       "      <th>4</th>\n",
       "      <td>https://encrypted-tbn0.gstatic.com/images?q=tb...</td>\n",
       "      <td>https://encrypted-tbn0.gstatic.com/images?q=tb...</td>\n",
       "      <td>https://encrypted-tbn0.gstatic.com/images?q=tb...</td>\n",
       "    </tr>\n",
       "    <tr>\n",
       "      <th>...</th>\n",
       "      <td>...</td>\n",
       "      <td>...</td>\n",
       "      <td>...</td>\n",
       "    </tr>\n",
       "    <tr>\n",
       "      <th>95</th>\n",
       "      <td>https://encrypted-tbn0.gstatic.com/images?q=tb...</td>\n",
       "      <td>https://encrypted-tbn0.gstatic.com/images?q=tb...</td>\n",
       "      <td>https://encrypted-tbn0.gstatic.com/images?q=tb...</td>\n",
       "    </tr>\n",
       "    <tr>\n",
       "      <th>96</th>\n",
       "      <td>https://encrypted-tbn0.gstatic.com/images?q=tb...</td>\n",
       "      <td>https://encrypted-tbn0.gstatic.com/images?q=tb...</td>\n",
       "      <td>https://encrypted-tbn0.gstatic.com/images?q=tb...</td>\n",
       "    </tr>\n",
       "    <tr>\n",
       "      <th>97</th>\n",
       "      <td>https://encrypted-tbn0.gstatic.com/images?q=tb...</td>\n",
       "      <td>https://encrypted-tbn0.gstatic.com/images?q=tb...</td>\n",
       "      <td>https://encrypted-tbn0.gstatic.com/images?q=tb...</td>\n",
       "    </tr>\n",
       "    <tr>\n",
       "      <th>98</th>\n",
       "      <td>https://encrypted-tbn0.gstatic.com/images?q=tb...</td>\n",
       "      <td>https://encrypted-tbn0.gstatic.com/images?q=tb...</td>\n",
       "      <td>https://encrypted-tbn0.gstatic.com/images?q=tb...</td>\n",
       "    </tr>\n",
       "    <tr>\n",
       "      <th>99</th>\n",
       "      <td>https://encrypted-tbn0.gstatic.com/images?q=tb...</td>\n",
       "      <td>https://encrypted-tbn0.gstatic.com/images?q=tb...</td>\n",
       "      <td>https://encrypted-tbn0.gstatic.com/images?q=tb...</td>\n",
       "    </tr>\n",
       "  </tbody>\n",
       "</table>\n",
       "<p>100 rows × 3 columns</p>\n",
       "</div>"
      ],
      "text/plain": [
       "                                               Fruits  \\\n",
       "0   /images/branding/searchlogo/1x/googlelogo_desk...   \n",
       "1   https://encrypted-tbn0.gstatic.com/images?q=tb...   \n",
       "2   https://encrypted-tbn0.gstatic.com/images?q=tb...   \n",
       "3   https://encrypted-tbn0.gstatic.com/images?q=tb...   \n",
       "4   https://encrypted-tbn0.gstatic.com/images?q=tb...   \n",
       "..                                                ...   \n",
       "95  https://encrypted-tbn0.gstatic.com/images?q=tb...   \n",
       "96  https://encrypted-tbn0.gstatic.com/images?q=tb...   \n",
       "97  https://encrypted-tbn0.gstatic.com/images?q=tb...   \n",
       "98  https://encrypted-tbn0.gstatic.com/images?q=tb...   \n",
       "99  https://encrypted-tbn0.gstatic.com/images?q=tb...   \n",
       "\n",
       "                                                 Cars  \\\n",
       "0   /images/branding/searchlogo/1x/googlelogo_desk...   \n",
       "1   https://encrypted-tbn0.gstatic.com/images?q=tb...   \n",
       "2   https://encrypted-tbn0.gstatic.com/images?q=tb...   \n",
       "3   https://encrypted-tbn0.gstatic.com/images?q=tb...   \n",
       "4   https://encrypted-tbn0.gstatic.com/images?q=tb...   \n",
       "..                                                ...   \n",
       "95  https://encrypted-tbn0.gstatic.com/images?q=tb...   \n",
       "96  https://encrypted-tbn0.gstatic.com/images?q=tb...   \n",
       "97  https://encrypted-tbn0.gstatic.com/images?q=tb...   \n",
       "98  https://encrypted-tbn0.gstatic.com/images?q=tb...   \n",
       "99  https://encrypted-tbn0.gstatic.com/images?q=tb...   \n",
       "\n",
       "                                     Machine Learning  \n",
       "0   /images/branding/searchlogo/1x/googlelogo_desk...  \n",
       "1   https://encrypted-tbn0.gstatic.com/images?q=tb...  \n",
       "2   https://encrypted-tbn0.gstatic.com/images?q=tb...  \n",
       "3   https://encrypted-tbn0.gstatic.com/images?q=tb...  \n",
       "4   https://encrypted-tbn0.gstatic.com/images?q=tb...  \n",
       "..                                                ...  \n",
       "95  https://encrypted-tbn0.gstatic.com/images?q=tb...  \n",
       "96  https://encrypted-tbn0.gstatic.com/images?q=tb...  \n",
       "97  https://encrypted-tbn0.gstatic.com/images?q=tb...  \n",
       "98  https://encrypted-tbn0.gstatic.com/images?q=tb...  \n",
       "99  https://encrypted-tbn0.gstatic.com/images?q=tb...  \n",
       "\n",
       "[100 rows x 3 columns]"
      ]
     },
     "execution_count": 128,
     "metadata": {},
     "output_type": "execute_result"
    }
   ],
   "source": [
    "#Saving our answer in a DataFrame using Pandas\n",
    "images_100=pd.DataFrame({})\n",
    "images_100['Fruits']= fruits[0:100]\n",
    "images_100['Cars']=cars[0:100]\n",
    "images_100['Machine Learning']= ml_img[0:100]\n",
    "images_100"
   ]
  },
  {
   "cell_type": "code",
   "execution_count": 133,
   "metadata": {},
   "outputs": [],
   "source": [
    "driver.close()"
   ]
  },
  {
   "cell_type": "markdown",
   "metadata": {},
   "source": [
    "***********************************************************************************************************************************************************************Completed*******************************************************************************************************************************************************************************************************************************************************************************************"
   ]
  },
  {
   "cell_type": "code",
   "execution_count": 1,
   "metadata": {},
   "outputs": [],
   "source": [
    "#Importing the required Libraries for web scraping:-\n",
    "import selenium\n",
    "import pandas as pd\n",
    "from selenium import webdriver\n",
    "import time\n",
    "from selenium.common.exceptions import NoSuchElementException\n",
    "from selenium.common.exceptions import StaleElementReferenceException"
   ]
  },
  {
   "cell_type": "markdown",
   "metadata": {},
   "source": [
    "# 4. Write a python program to search for a smartphone(e.g.: Oneplus Nord, pixel 4A, etc.) on www.flipkart.com and scrape following details for all the search results displayed on 1st page. Details to be scraped: “Brand Name”, “Smartphone name”, “Colour”, “RAM”, “Storage(ROM)”, “Primary Camera”, “Secondary Camera”, “Display Size”, “Display Resolution”, “Processor”, “Processor Cores”, “Battery Capacity”, “Price”, “Product URL”. Incase if any of the details is missing then replace it by “- “. Save your results in a dataframe and CSV.\n",
    "\n",
    "Ans: Solution is as:-"
   ]
  },
  {
   "cell_type": "code",
   "execution_count": 38,
   "metadata": {},
   "outputs": [],
   "source": [
    "#Let's first connect to the web driver\n",
    "driver=webdriver.Chrome(\"chromedriver.exe\")"
   ]
  },
  {
   "cell_type": "code",
   "execution_count": 39,
   "metadata": {},
   "outputs": [],
   "source": [
    "#opening \"https://www.flipkart.com/\n",
    "url=\"https://www.flipkart.com/\"\n",
    "driver.get(url)"
   ]
  },
  {
   "cell_type": "code",
   "execution_count": 40,
   "metadata": {},
   "outputs": [
    {
     "data": {
      "text/plain": [
       "<selenium.webdriver.remote.webelement.WebElement (session=\"466d5e1a302796a0f13a99a1780b94d8\", element=\"f71580e9-adee-4682-a8d3-f05d3b59a588\")>"
      ]
     },
     "execution_count": 40,
     "metadata": {},
     "output_type": "execute_result"
    }
   ],
   "source": [
    "#finding element for product search bar\n",
    "search_prod=driver.find_element_by_xpath(\"//input[@class='_3704LK']\")\n",
    "search_prod"
   ]
  },
  {
   "cell_type": "code",
   "execution_count": 41,
   "metadata": {},
   "outputs": [
    {
     "name": "stdout",
     "output_type": "stream",
     "text": [
      "Hello, Please enter product name to search : xiaomi smartphone\n"
     ]
    }
   ],
   "source": [
    "#Taking input from user in Search bar\n",
    "search_prod.send_keys(input(\"Hello, Please enter product name to search : \"))"
   ]
  },
  {
   "cell_type": "code",
   "execution_count": 42,
   "metadata": {},
   "outputs": [],
   "source": [
    "#Clicking the Search Button using Xpath function\n",
    "search_btn=driver.find_element_by_xpath(\"//button[@class='L0Z3Pu']\")\n",
    "search_btn.click()"
   ]
  },
  {
   "cell_type": "code",
   "execution_count": 61,
   "metadata": {},
   "outputs": [],
   "source": [
    "#Creating empty Lists so that we can store data in these lists while scraping first page\n",
    "Brand_Name=[]\n",
    "Smartphone_name=[]\n",
    "Colour_info=[]\n",
    "RAM_info=[]\n",
    "Storage_ROM=[]\n",
    "Primary_Camera=[]\n",
    "Secondary_Camera=[]\n",
    "Display_Size=[]\n",
    "Display_Resolution=[]\n",
    "Processor_info=[]\n",
    "Processor_Cores=[]\n",
    "Battery_Capacity=[]\n",
    "Price_info=[]\n",
    "Product_URL=[]"
   ]
  },
  {
   "cell_type": "code",
   "execution_count": 62,
   "metadata": {},
   "outputs": [],
   "source": [
    "#Extracting all the tags having Smartphone_name Information on 1st Page\n",
    "prod2=driver.find_elements_by_xpath(\"//div[@class='_4rR01T']\")\n",
    "\n",
    "#extracting text inside above tags of first page\n",
    "for i in prod2:\n",
    "    Smartphone_name.append(i.text)"
   ]
  },
  {
   "cell_type": "code",
   "execution_count": 64,
   "metadata": {},
   "outputs": [
    {
     "data": {
      "text/plain": [
       "['REDMI 9i (Midnight Black, 64 GB)',\n",
       " 'REDMI 9i (Sea Blue, 64 GB)',\n",
       " 'REDMI 9i (Nature Green, 64 GB)',\n",
       " 'REDMI Note 9 (Pebble Grey, 64 GB)',\n",
       " 'REDMI 9 Power (Electric Green, 64 GB)',\n",
       " 'REDMI 9 Prime (Sunrise Flare, 64 GB)',\n",
       " 'REDMI 9 Power (Mighty Black, 128 GB)',\n",
       " 'REDMI 9 Power (Mighty Black, 64 GB)',\n",
       " 'REDMI Note 9 (Aqua Green, 64 GB)',\n",
       " 'REDMI Note 9 (Arctic White, 64 GB)',\n",
       " 'REDMI 9 Power (Fiery Red, 64 GB)',\n",
       " 'REDMI 9 Power (Blazing Blue, 64 GB)',\n",
       " 'REDMI 9 Power (Mighty Black, 128 GB)',\n",
       " 'REDMI 9 Prime (Matte Black, 64 GB)',\n",
       " 'REDMI Note 9 (Shadow Black, 64 GB)',\n",
       " 'Redmi 9 (Sporty Orange, 64 GB)',\n",
       " 'REDMI Note 9 (Arctic White, 128 GB)',\n",
       " 'Redmi 9 (Sky Blue, 64 GB)',\n",
       " 'REDMI 9 Power (Electric Green, 128 GB)',\n",
       " 'Redmi 9A (SeaBlue, 32 GB)',\n",
       " 'Redmi 9A (Midnight Black, 32 GB)',\n",
       " 'Redmi 9A (Nature Green, 32 GB)',\n",
       " 'Redmi 9A (Nature Green, 32 GB)',\n",
       " 'Redmi 9 (Sky Blue, 128 GB)']"
      ]
     },
     "execution_count": 64,
     "metadata": {},
     "output_type": "execute_result"
    }
   ],
   "source": [
    "Smartphone_name"
   ]
  },
  {
   "cell_type": "code",
   "execution_count": 65,
   "metadata": {},
   "outputs": [
    {
     "data": {
      "text/plain": [
       "24"
      ]
     },
     "execution_count": 65,
     "metadata": {},
     "output_type": "execute_result"
    }
   ],
   "source": [
    "#checking length of Smartphone_name\n",
    "len(Smartphone_name)"
   ]
  },
  {
   "cell_type": "code",
   "execution_count": 83,
   "metadata": {},
   "outputs": [
    {
     "data": {
      "text/plain": [
       "['Midnight Black',\n",
       " 'Sea Blue',\n",
       " 'Nature Green',\n",
       " 'Pebble Grey',\n",
       " 'Electric Green',\n",
       " 'Sunrise Flare',\n",
       " 'Mighty Black',\n",
       " 'Mighty Black',\n",
       " 'Aqua Green',\n",
       " 'Arctic White',\n",
       " 'Fiery Red',\n",
       " 'Blazing Blue',\n",
       " 'Mighty Black',\n",
       " 'Matte Black',\n",
       " 'Shadow Black',\n",
       " 'Sporty Orange',\n",
       " 'Arctic White',\n",
       " 'Sky Blue',\n",
       " 'Electric Green',\n",
       " 'SeaBlue',\n",
       " 'Midnight Black',\n",
       " 'Nature Green',\n",
       " 'Nature Green',\n",
       " 'Sky Blue']"
      ]
     },
     "execution_count": 83,
     "metadata": {},
     "output_type": "execute_result"
    }
   ],
   "source": [
    "#Extracting all the tags having color Information on 1st Page\n",
    "c1=driver.find_elements_by_xpath(\"//div[@class='_4rR01T']\")\n",
    "#extracting text inside above tags of first page\n",
    "for i in c1:\n",
    "    color_str=i.text\n",
    "    if color_str.find(\"(\")!=-1:\n",
    "        color=color_str.split(\"(\")\n",
    "        color_=color[1].split(',')\n",
    "        Colour_info.append(color_[0])\n",
    "    else:\n",
    "        Colour_info.append(\"-\")\n",
    "Colour_info   "
   ]
  },
  {
   "cell_type": "code",
   "execution_count": 84,
   "metadata": {},
   "outputs": [
    {
     "data": {
      "text/plain": [
       "24"
      ]
     },
     "execution_count": 84,
     "metadata": {},
     "output_type": "execute_result"
    }
   ],
   "source": [
    "len(Colour_info )"
   ]
  },
  {
   "cell_type": "code",
   "execution_count": 85,
   "metadata": {},
   "outputs": [
    {
     "data": {
      "text/plain": [
       "['XIAOMI',\n",
       " 'XIAOMI',\n",
       " 'XIAOMI',\n",
       " 'XIAOMI',\n",
       " 'XIAOMI',\n",
       " 'XIAOMI',\n",
       " 'XIAOMI',\n",
       " 'XIAOMI',\n",
       " 'XIAOMI',\n",
       " 'XIAOMI',\n",
       " 'XIAOMI',\n",
       " 'XIAOMI',\n",
       " 'XIAOMI',\n",
       " 'XIAOMI',\n",
       " 'XIAOMI',\n",
       " 'XIAOMI',\n",
       " 'XIAOMI',\n",
       " 'XIAOMI',\n",
       " 'XIAOMI',\n",
       " 'XIAOMI',\n",
       " 'XIAOMI',\n",
       " 'XIAOMI',\n",
       " 'XIAOMI',\n",
       " 'XIAOMI']"
      ]
     },
     "execution_count": 85,
     "metadata": {},
     "output_type": "execute_result"
    }
   ],
   "source": [
    "#As we are searching for Xioami smartphones so adding brand_name using itertools.\n",
    "import itertools\n",
    "Brand_Name=list(itertools.repeat('XIAOMI', 24))\n",
    "Brand_Name"
   ]
  },
  {
   "cell_type": "code",
   "execution_count": 86,
   "metadata": {},
   "outputs": [
    {
     "data": {
      "text/plain": [
       "24"
      ]
     },
     "execution_count": 86,
     "metadata": {},
     "output_type": "execute_result"
    }
   ],
   "source": [
    "len(Brand_Name)"
   ]
  },
  {
   "cell_type": "code",
   "execution_count": 87,
   "metadata": {},
   "outputs": [
    {
     "data": {
      "text/plain": [
       "['4 GB RAM ',\n",
       " '4 GB RAM ',\n",
       " '4 GB RAM ',\n",
       " '4 GB RAM ',\n",
       " '4 GB RAM ',\n",
       " '4 GB RAM ',\n",
       " '6 GB RAM ',\n",
       " '4 GB RAM ',\n",
       " '4 GB RAM ',\n",
       " '4 GB RAM ',\n",
       " '4 GB RAM ',\n",
       " '4 GB RAM ',\n",
       " '4 GB RAM ',\n",
       " '4 GB RAM ',\n",
       " '4 GB RAM ',\n",
       " '4 GB RAM ',\n",
       " '4 GB RAM ',\n",
       " '4 GB RAM ',\n",
       " '6 GB RAM ',\n",
       " '2 GB RAM ',\n",
       " '2 GB RAM ',\n",
       " '2 GB RAM ',\n",
       " '3 GB RAM ',\n",
       " '4 GB RAM ']"
      ]
     },
     "execution_count": 87,
     "metadata": {},
     "output_type": "execute_result"
    }
   ],
   "source": [
    "#Extracting all the tags having RAM Information on 1st Page\n",
    "r1=driver.find_elements_by_xpath(\"//li[@class='rgWa7D'][1]\")\n",
    "#extracting text inside above tags of first page\n",
    "for i in r1:\n",
    "    r_str=i.text\n",
    "    if(r_str.find(\"|\")==-1):\n",
    "        RAM_info.append(\"-\")\n",
    "    else:\n",
    "        RAM=r_str.split(\"|\")\n",
    "        RAM_info.append(RAM[0])\n",
    "RAM_info     "
   ]
  },
  {
   "cell_type": "code",
   "execution_count": 88,
   "metadata": {},
   "outputs": [
    {
     "data": {
      "text/plain": [
       "24"
      ]
     },
     "execution_count": 88,
     "metadata": {},
     "output_type": "execute_result"
    }
   ],
   "source": [
    "len(RAM_info )"
   ]
  },
  {
   "cell_type": "code",
   "execution_count": 89,
   "metadata": {},
   "outputs": [
    {
     "data": {
      "text/plain": [
       "[' 64 GB ROM ',\n",
       " ' 64 GB ROM ',\n",
       " ' 64 GB ROM ',\n",
       " ' 64 GB ROM ',\n",
       " ' 64 GB ROM',\n",
       " ' 64 GB ROM ',\n",
       " ' 128 GB ROM',\n",
       " ' 64 GB ROM',\n",
       " ' 64 GB ROM ',\n",
       " ' 64 GB ROM ',\n",
       " ' 64 GB ROM',\n",
       " ' 64 GB ROM',\n",
       " ' 128 GB ROM',\n",
       " ' 64 GB ROM ',\n",
       " ' 64 GB ROM ',\n",
       " ' 64 GB ROM',\n",
       " ' 128 GB ROM ',\n",
       " ' 64 GB ROM',\n",
       " ' 128 GB ROM',\n",
       " ' 32 GB ROM',\n",
       " ' 32 GB ROM',\n",
       " ' 32 GB ROM',\n",
       " ' 32 GB ROM ',\n",
       " ' 128 GB ROM']"
      ]
     },
     "execution_count": 89,
     "metadata": {},
     "output_type": "execute_result"
    }
   ],
   "source": [
    "#Extracting all the tags having Storage_ROM Information on 1st Page\n",
    "r2=driver.find_elements_by_xpath(\"//li[@class='rgWa7D'][1]\")\n",
    "#extracting text inside above tags of first page\n",
    "for i in r2:\n",
    "    rm_str=i.text\n",
    "    if(rm_str.find(\"|\")==-1):\n",
    "        Storage_ROM.append(\"-\")\n",
    "    else:\n",
    "        RAM2=rm_str.split(\"|\")\n",
    "        Storage_ROM.append(RAM2[1])\n",
    "Storage_ROM "
   ]
  },
  {
   "cell_type": "code",
   "execution_count": 90,
   "metadata": {},
   "outputs": [
    {
     "data": {
      "text/plain": [
       "24"
      ]
     },
     "execution_count": 90,
     "metadata": {},
     "output_type": "execute_result"
    }
   ],
   "source": [
    "len(Storage_ROM )"
   ]
  },
  {
   "cell_type": "code",
   "execution_count": 91,
   "metadata": {},
   "outputs": [
    {
     "data": {
      "text/plain": [
       "['13MP Rear Camera ',\n",
       " '13MP Rear Camera ',\n",
       " '13MP Rear Camera ',\n",
       " '48MP + 8MP + 2MP + 2MP ',\n",
       " '48MP Rear Camera ',\n",
       " '13MP Rear Camera ',\n",
       " '48MP Rear Camera ',\n",
       " '48MP Rear Camera ',\n",
       " '48MP + 8MP + 2MP + 2MP ',\n",
       " '48MP + 8MP + 2MP + 2MP ',\n",
       " '48MP Rear Camera ',\n",
       " '48MP Rear Camera ',\n",
       " '48MP Rear Camera ',\n",
       " '13MP Rear Camera ',\n",
       " '48MP + 8MP + 2MP + 2MP ',\n",
       " '13MP + 8MP ',\n",
       " '48MP + 8MP + 2MP + 2MP ',\n",
       " '13MP + 2MP ',\n",
       " '48MP Rear Camera ',\n",
       " '-',\n",
       " '-',\n",
       " '-',\n",
       " '13MP Rear Camera ',\n",
       " '13MP + 8MP ']"
      ]
     },
     "execution_count": 91,
     "metadata": {},
     "output_type": "execute_result"
    }
   ],
   "source": [
    "#Extracting all the tags having Primary_Camera Information on 1st Page\n",
    "pc=driver.find_elements_by_xpath(\"//li[@class='rgWa7D'][3]\")\n",
    "#extracting text inside above tags of first page\n",
    "for i in pc:\n",
    "    pc1=i.text\n",
    "    if(pc1.find(\"|\")==-1):\n",
    "        Primary_Camera.append(\"-\")\n",
    "    else:\n",
    "        Primary_Camera.append(pc1.split(\"|\")[0])\n",
    "Primary_Camera"
   ]
  },
  {
   "cell_type": "code",
   "execution_count": 92,
   "metadata": {},
   "outputs": [
    {
     "data": {
      "text/plain": [
       "24"
      ]
     },
     "execution_count": 92,
     "metadata": {},
     "output_type": "execute_result"
    }
   ],
   "source": [
    "len(Primary_Camera)"
   ]
  },
  {
   "cell_type": "code",
   "execution_count": 93,
   "metadata": {},
   "outputs": [
    {
     "data": {
      "text/plain": [
       "[' 5MP Front Camera',\n",
       " ' 5MP Front Camera',\n",
       " ' 5MP Front Camera',\n",
       " ' 13MP Front Camera',\n",
       " ' 8MP Front Camera',\n",
       " ' 8MP Front Camera',\n",
       " ' 8MP Front Camera',\n",
       " ' 8MP Front Camera',\n",
       " ' 13MP Front Camera',\n",
       " ' 13MP Front Camera',\n",
       " ' 8MP Front Camera',\n",
       " ' 8MP Front Camera',\n",
       " ' 8MP Front Camera',\n",
       " ' 8MP Front Camera',\n",
       " ' 13MP Front Camera',\n",
       " ' 5MP Front Camera',\n",
       " ' 13MP Front Camera',\n",
       " ' 5MP Front Camera',\n",
       " ' 8MP Front Camera',\n",
       " '-',\n",
       " '-',\n",
       " '-',\n",
       " ' 5MP Front Camera',\n",
       " ' 5MP Front Camera']"
      ]
     },
     "execution_count": 93,
     "metadata": {},
     "output_type": "execute_result"
    }
   ],
   "source": [
    "#Extracting all the tags having Secondary_Camera Information on 1st Page\n",
    "sc=driver.find_elements_by_xpath(\"//li[@class='rgWa7D'][3]\")\n",
    "#extracting text inside above tags of first page\n",
    "for i in sc:\n",
    "    sc1=i.text\n",
    "    if(sc1.find(\"|\")==-1):\n",
    "        Secondary_Camera.append(\"-\")\n",
    "    else:\n",
    "        Secondary_Camera.append(sc1.split(\"|\")[1])\n",
    "Secondary_Camera"
   ]
  },
  {
   "cell_type": "code",
   "execution_count": 94,
   "metadata": {},
   "outputs": [
    {
     "data": {
      "text/plain": [
       "24"
      ]
     },
     "execution_count": 94,
     "metadata": {},
     "output_type": "execute_result"
    }
   ],
   "source": [
    "len(Secondary_Camera)"
   ]
  },
  {
   "cell_type": "code",
   "execution_count": 95,
   "metadata": {},
   "outputs": [
    {
     "data": {
      "text/plain": [
       "['16.59 cm (6.53 inch)',\n",
       " '16.59 cm (6.53 inch)',\n",
       " '16.59 cm (6.53 inch)',\n",
       " '16.59 cm (6.53 inch)',\n",
       " '16.59 cm (6.53 inch)',\n",
       " '16.59 cm (6.53 inch)',\n",
       " '16.59 cm (6.53 inch)',\n",
       " '16.59 cm (6.53 inch)',\n",
       " '16.59 cm (6.53 inch)',\n",
       " '16.59 cm (6.53 inch)',\n",
       " '16.59 cm (6.53 inch)',\n",
       " '16.59 cm (6.53 inch)',\n",
       " '16.59 cm (6.53 inch)',\n",
       " '16.59 cm (6.53 inch)',\n",
       " '16.59 cm (6.53 inch)',\n",
       " '16.59 cm (6.53 inch)',\n",
       " '16.59 cm (6.53 inch)',\n",
       " '16.59 cm (6.53 inch)',\n",
       " '16.59 cm (6.53 inch)',\n",
       " '16.59 cm (6.53 inch)',\n",
       " '16.59 cm (6.53 inch)',\n",
       " '16.59 cm (6.53 inch)',\n",
       " '16.59 cm (6.53 inch)',\n",
       " '16.59 cm (6.53 inch)']"
      ]
     },
     "execution_count": 95,
     "metadata": {},
     "output_type": "execute_result"
    }
   ],
   "source": [
    "#Extracting all the tags having Display_Size Information on 1st Page\n",
    "ds=driver.find_elements_by_xpath(\"//li[@class='rgWa7D'][2]\")\n",
    "#extracting text inside above tags of first page\n",
    "for i in ds:\n",
    "    ds1=i.text\n",
    "    ds2=ds1.split(\") \")\n",
    "    Display_Size.append(ds2[0]+\")\")\n",
    "Display_Size"
   ]
  },
  {
   "cell_type": "code",
   "execution_count": 96,
   "metadata": {},
   "outputs": [
    {
     "data": {
      "text/plain": [
       "24"
      ]
     },
     "execution_count": 96,
     "metadata": {},
     "output_type": "execute_result"
    }
   ],
   "source": [
    "len(Display_Size)"
   ]
  },
  {
   "cell_type": "code",
   "execution_count": 97,
   "metadata": {},
   "outputs": [
    {
     "data": {
      "text/plain": [
       "['HD+ Display',\n",
       " 'HD+ Display',\n",
       " 'HD+ Display',\n",
       " 'Full HD+ Display',\n",
       " 'Full HD+ Display',\n",
       " 'Full HD+ Display',\n",
       " 'Full HD+ Display',\n",
       " 'Full HD+ Display',\n",
       " 'Full HD+ Display',\n",
       " 'Full HD+ Display',\n",
       " 'Full HD+ Display',\n",
       " 'Full HD+ Display',\n",
       " 'Full HD+ Display',\n",
       " 'Full HD+ Display',\n",
       " 'Full HD+ Display',\n",
       " 'HD+ Display',\n",
       " 'Full HD+ Display',\n",
       " 'HD+ Display',\n",
       " 'Full HD+ Display',\n",
       " 'Full HD+ Display',\n",
       " 'Full HD+ Display',\n",
       " 'Full HD+ Display',\n",
       " 'HD+ Display',\n",
       " 'HD+ Display']"
      ]
     },
     "execution_count": 97,
     "metadata": {},
     "output_type": "execute_result"
    }
   ],
   "source": [
    "#Extracting all the tags having Display_Resolution Information on 1st Page\n",
    "dr=driver.find_elements_by_xpath(\"//li[@class='rgWa7D'][2]\")\n",
    "#extracting text inside above tags of first page\n",
    "for i in dr:\n",
    "    dr1=i.text\n",
    "    dr2=dr1.split(\") \")\n",
    "    Display_Resolution.append(dr2[1])\n",
    "Display_Resolution"
   ]
  },
  {
   "cell_type": "code",
   "execution_count": 98,
   "metadata": {},
   "outputs": [
    {
     "data": {
      "text/plain": [
       "24"
      ]
     },
     "execution_count": 98,
     "metadata": {},
     "output_type": "execute_result"
    }
   ],
   "source": [
    "len(Display_Resolution)"
   ]
  },
  {
   "cell_type": "code",
   "execution_count": 122,
   "metadata": {},
   "outputs": [],
   "source": [
    "#Extracting all the tags having Processor_info on 1st Page\n",
    "proi=driver.find_elements_by_xpath(\"//li[@class='rgWa7D'][5]\")\n",
    "#extracting text inside above tags of first page\n",
    "for i in proi:\n",
    "    fullstring=i.text\n",
    "    substring=\"Processor\"\n",
    "    if substring in fullstring:  #using in operator to check string contains a substring\n",
    "        Processor_info.append(i.text)\n",
    "    else:\n",
    "        Processor_info.append('-')      "
   ]
  },
  {
   "cell_type": "code",
   "execution_count": 123,
   "metadata": {},
   "outputs": [
    {
     "data": {
      "text/plain": [
       "['MediaTek Helio G25 Processor',\n",
       " 'MediaTek Helio G25 Processor',\n",
       " 'MediaTek Helio G25 Processor',\n",
       " 'MediaTek Helio G85 Processor',\n",
       " 'Qualcomm Snapdragon 662 Processor',\n",
       " 'MediaTek Helio G80 Processor',\n",
       " 'Qualcomm® Snapdragon™ 662 Processor',\n",
       " 'Qualcomm Snapdragon 662 Processor',\n",
       " 'MediaTek Helio G85 Processor',\n",
       " 'MediaTek Helio G85 Processor',\n",
       " 'Qualcomm Snapdragon 662 Processor',\n",
       " 'Qualcomm Snapdragon 662 Processor',\n",
       " 'Qualcomm Snapdragon 662 Processor',\n",
       " 'MediaTek Helio G80 Processor',\n",
       " 'MediaTek Helio G85 Processor',\n",
       " 'MediaTek Helio G35 Processor',\n",
       " 'MediaTek Helio G85 Processor',\n",
       " 'MediaTek Helio G35 Processor',\n",
       " 'Qualcomm® Snapdragon™ 662 Processor',\n",
       " '-',\n",
       " '-',\n",
       " '-',\n",
       " 'MediaTek Helio G25 Processor',\n",
       " 'MediaTek Helio G35 Processor']"
      ]
     },
     "execution_count": 123,
     "metadata": {},
     "output_type": "execute_result"
    }
   ],
   "source": [
    "Processor_info"
   ]
  },
  {
   "cell_type": "code",
   "execution_count": 124,
   "metadata": {},
   "outputs": [
    {
     "data": {
      "text/plain": [
       "24"
      ]
     },
     "execution_count": 124,
     "metadata": {},
     "output_type": "execute_result"
    }
   ],
   "source": [
    "len(Processor_info)"
   ]
  },
  {
   "cell_type": "code",
   "execution_count": 125,
   "metadata": {},
   "outputs": [
    {
     "data": {
      "text/plain": [
       "['₹7,999',\n",
       " '₹7,999',\n",
       " '₹7,999',\n",
       " '₹10,999',\n",
       " '₹10,499',\n",
       " '₹9,999',\n",
       " '₹12,999',\n",
       " '₹10,499',\n",
       " '₹10,999',\n",
       " '₹10,999',\n",
       " '₹10,499',\n",
       " '₹10,499',\n",
       " '₹11,999',\n",
       " '₹9,999',\n",
       " '₹10,999',\n",
       " '₹9,170',\n",
       " '₹12,999',\n",
       " '₹9,270',\n",
       " '₹12,999',\n",
       " '₹7,380',\n",
       " '₹7,335',\n",
       " '₹7,360',\n",
       " '₹7,990',\n",
       " '₹11,990']"
      ]
     },
     "execution_count": 125,
     "metadata": {},
     "output_type": "execute_result"
    }
   ],
   "source": [
    "#Extracting all the tags having Price_info on 1st Page\n",
    "pri=driver.find_elements_by_xpath(\"//div[@class='_30jeq3 _1_WHN1']\")\n",
    "\n",
    "#extracting text inside above tags of first page\n",
    "for i in pri:\n",
    "    Price_info.append(i.text)\n",
    "Price_info"
   ]
  },
  {
   "cell_type": "code",
   "execution_count": 126,
   "metadata": {},
   "outputs": [
    {
     "data": {
      "text/plain": [
       "24"
      ]
     },
     "execution_count": 126,
     "metadata": {},
     "output_type": "execute_result"
    }
   ],
   "source": [
    "len(Price_info)"
   ]
  },
  {
   "cell_type": "code",
   "execution_count": 127,
   "metadata": {},
   "outputs": [
    {
     "data": {
      "text/plain": [
       "['https://www.flipkart.com/redmi-9i-midnight-black-64-gb/p/itm0e1018dac2627?pid=MOBFV8RYKWQ3HACE&lid=LSTMOBFV8RYKWQ3HACEV2QOWQ&marketplace=FLIPKART&q=xiaomi+smartphone&store=tyy%2F4io&srno=s_1_1&otracker=search&otracker1=search&fm=SEARCH&iid=f7a3dabb-2211-4bf3-8995-035dc20092cc.MOBFV8RYKWQ3HACE.SEARCH&ppt=hp&ppn=homepage&ssid=t0b56fsjsw0000001623076876939&qH=6cd432542380f9e8',\n",
       " 'https://www.flipkart.com/redmi-9i-sea-blue-64-gb/p/itmfb30d06b478fc?pid=MOBFV8RYTHGA8BY9&lid=LSTMOBFV8RYTHGA8BY94NDC4M&marketplace=FLIPKART&q=xiaomi+smartphone&store=tyy%2F4io&srno=s_1_2&otracker=search&otracker1=search&fm=SEARCH&iid=f7a3dabb-2211-4bf3-8995-035dc20092cc.MOBFV8RYTHGA8BY9.SEARCH&ppt=hp&ppn=homepage&ssid=t0b56fsjsw0000001623076876939&qH=6cd432542380f9e8',\n",
       " 'https://www.flipkart.com/redmi-9i-nature-green-64-gb/p/itm2e2fcd7b3eb7b?pid=MOBFV8RYNA4FVEH7&lid=LSTMOBFV8RYNA4FVEH7NNKUZA&marketplace=FLIPKART&q=xiaomi+smartphone&store=tyy%2F4io&srno=s_1_3&otracker=search&otracker1=search&fm=SEARCH&iid=f7a3dabb-2211-4bf3-8995-035dc20092cc.MOBFV8RYNA4FVEH7.SEARCH&ppt=hp&ppn=homepage&ssid=t0b56fsjsw0000001623076876939&qH=6cd432542380f9e8',\n",
       " 'https://www.flipkart.com/redmi-note-9-pebble-grey-64-gb/p/itmb9c65ffe0ee74?pid=MOBFU3ZFQ3GAGANG&lid=LSTMOBFU3ZFQ3GAGANG1QDSWB&marketplace=FLIPKART&q=xiaomi+smartphone&store=tyy%2F4io&srno=s_1_4&otracker=search&otracker1=search&fm=SEARCH&iid=f7a3dabb-2211-4bf3-8995-035dc20092cc.MOBFU3ZFQ3GAGANG.SEARCH&ppt=hp&ppn=homepage&ssid=t0b56fsjsw0000001623076876939&qH=6cd432542380f9e8',\n",
       " 'https://www.flipkart.com/redmi-9-power-electric-green-64-gb/p/itmca7d78e222ed7?pid=MOBFYZ7AVAXXB2TH&lid=LSTMOBFYZ7AVAXXB2THVSNL0U&marketplace=FLIPKART&q=xiaomi+smartphone&store=tyy%2F4io&srno=s_1_5&otracker=search&otracker1=search&fm=SEARCH&iid=f7a3dabb-2211-4bf3-8995-035dc20092cc.MOBFYZ7AVAXXB2TH.SEARCH&ppt=hp&ppn=homepage&ssid=t0b56fsjsw0000001623076876939&qH=6cd432542380f9e8',\n",
       " 'https://www.flipkart.com/redmi-9-prime-sunrise-flare-64-gb/p/itmbd255e5962722?pid=MOBFUTBVDZHZSG2P&lid=LSTMOBFUTBVDZHZSG2PDEKID5&marketplace=FLIPKART&q=xiaomi+smartphone&store=tyy%2F4io&srno=s_1_6&otracker=search&otracker1=search&fm=SEARCH&iid=f7a3dabb-2211-4bf3-8995-035dc20092cc.MOBFUTBVDZHZSG2P.SEARCH&ppt=hp&ppn=homepage&ssid=t0b56fsjsw0000001623076876939&qH=6cd432542380f9e8',\n",
       " 'https://www.flipkart.com/redmi-9-power-mighty-black-128-gb/p/itm74c84b4084cc5?pid=MOBGYMD9AVZZH9WX&lid=LSTMOBGYMD9AVZZH9WXVMYAUI&marketplace=FLIPKART&q=xiaomi+smartphone&store=tyy%2F4io&srno=s_1_7&otracker=search&otracker1=search&fm=SEARCH&iid=f7a3dabb-2211-4bf3-8995-035dc20092cc.MOBGYMD9AVZZH9WX.SEARCH&ppt=hp&ppn=homepage&ssid=t0b56fsjsw0000001623076876939&qH=6cd432542380f9e8',\n",
       " 'https://www.flipkart.com/redmi-9-power-mighty-black-64-gb/p/itm481ab234a6553?pid=MOBFYZ94UWPWQRNF&lid=LSTMOBFYZ94UWPWQRNFD8SF5T&marketplace=FLIPKART&q=xiaomi+smartphone&store=tyy%2F4io&srno=s_1_8&otracker=search&otracker1=search&fm=SEARCH&iid=f7a3dabb-2211-4bf3-8995-035dc20092cc.MOBFYZ94UWPWQRNF.SEARCH&ppt=hp&ppn=homepage&ssid=t0b56fsjsw0000001623076876939&qH=6cd432542380f9e8',\n",
       " 'https://www.flipkart.com/redmi-note-9-aqua-green-64-gb/p/itme8bb16e02dfa2?pid=MOBFU3ZFAB7VQJHY&lid=LSTMOBFU3ZFAB7VQJHY14W4ET&marketplace=FLIPKART&q=xiaomi+smartphone&store=tyy%2F4io&srno=s_1_9&otracker=search&otracker1=search&fm=SEARCH&iid=f7a3dabb-2211-4bf3-8995-035dc20092cc.MOBFU3ZFAB7VQJHY.SEARCH&ppt=hp&ppn=homepage&ssid=t0b56fsjsw0000001623076876939&qH=6cd432542380f9e8',\n",
       " 'https://www.flipkart.com/redmi-note-9-arctic-white-64-gb/p/itm4ab07b858925c?pid=MOBFU3ZFXMWJCSHP&lid=LSTMOBFU3ZFXMWJCSHPXQ6FTB&marketplace=FLIPKART&q=xiaomi+smartphone&store=tyy%2F4io&srno=s_1_10&otracker=search&otracker1=search&fm=SEARCH&iid=f7a3dabb-2211-4bf3-8995-035dc20092cc.MOBFU3ZFXMWJCSHP.SEARCH&ppt=hp&ppn=homepage&ssid=t0b56fsjsw0000001623076876939&qH=6cd432542380f9e8',\n",
       " 'https://www.flipkart.com/redmi-9-power-fiery-red-64-gb/p/itmcd78b9bc04aa9?pid=MOBFYZF8XVSHPK5M&lid=LSTMOBFYZF8XVSHPK5MMUYMJE&marketplace=FLIPKART&q=xiaomi+smartphone&store=tyy%2F4io&srno=s_1_11&otracker=search&otracker1=search&fm=SEARCH&iid=f7a3dabb-2211-4bf3-8995-035dc20092cc.MOBFYZF8XVSHPK5M.SEARCH&ppt=hp&ppn=homepage&ssid=t0b56fsjsw0000001623076876939&qH=6cd432542380f9e8',\n",
       " 'https://www.flipkart.com/redmi-9-power-blazing-blue-64-gb/p/itm9533b02ba34ef?pid=MOBFYZ7HHGJUATYD&lid=LSTMOBFYZ7HHGJUATYDFYZRIS&marketplace=FLIPKART&q=xiaomi+smartphone&store=tyy%2F4io&srno=s_1_12&otracker=search&otracker1=search&fm=SEARCH&iid=f7a3dabb-2211-4bf3-8995-035dc20092cc.MOBFYZ7HHGJUATYD.SEARCH&ppt=hp&ppn=homepage&ssid=t0b56fsjsw0000001623076876939&qH=6cd432542380f9e8',\n",
       " 'https://www.flipkart.com/redmi-9-power-mighty-black-128-gb/p/itm3108d5bba4d22?pid=MOBFYZFQGUURGNCQ&lid=LSTMOBFYZFQGUURGNCQ6XQOHW&marketplace=FLIPKART&q=xiaomi+smartphone&store=tyy%2F4io&srno=s_1_13&otracker=search&otracker1=search&fm=SEARCH&iid=f7a3dabb-2211-4bf3-8995-035dc20092cc.MOBFYZFQGUURGNCQ.SEARCH&ppt=hp&ppn=homepage&ssid=t0b56fsjsw0000001623076876939&qH=6cd432542380f9e8',\n",
       " 'https://www.flipkart.com/redmi-9-prime-matte-black-64-gb/p/itmeeb1764ec0fcf?pid=MOBFUSCC57HCZGKG&lid=LSTMOBFUSCC57HCZGKGQ6TSNL&marketplace=FLIPKART&q=xiaomi+smartphone&store=tyy%2F4io&srno=s_1_14&otracker=search&otracker1=search&fm=SEARCH&iid=f7a3dabb-2211-4bf3-8995-035dc20092cc.MOBFUSCC57HCZGKG.SEARCH&ppt=hp&ppn=homepage&ssid=t0b56fsjsw0000001623076876939&qH=6cd432542380f9e8',\n",
       " 'https://www.flipkart.com/redmi-note-9-shadow-black-64-gb/p/itm70628269ecd57?pid=MOBFXEPZM4DX89AQ&lid=LSTMOBFXEPZM4DX89AQLO98VX&marketplace=FLIPKART&q=xiaomi+smartphone&store=tyy%2F4io&srno=s_1_15&otracker=search&otracker1=search&fm=SEARCH&iid=f7a3dabb-2211-4bf3-8995-035dc20092cc.MOBFXEPZM4DX89AQ.SEARCH&ppt=hp&ppn=homepage&ssid=t0b56fsjsw0000001623076876939&qH=6cd432542380f9e8',\n",
       " 'https://www.flipkart.com/redmi-9-sporty-orange-64-gb/p/itm4fb151383983b?pid=MOBFV5FPCJC9ZKRB&lid=LSTMOBFV5FPCJC9ZKRBISX1DP&marketplace=FLIPKART&q=xiaomi+smartphone&store=tyy%2F4io&srno=s_1_16&otracker=search&otracker1=search&fm=SEARCH&iid=f7a3dabb-2211-4bf3-8995-035dc20092cc.MOBFV5FPCJC9ZKRB.SEARCH&ppt=hp&ppn=homepage&ssid=t0b56fsjsw0000001623076876939&qH=6cd432542380f9e8',\n",
       " 'https://www.flipkart.com/redmi-note-9-arctic-white-128-gb/p/itm7b7841c67bd44?pid=MOBFU3ZFB27C2VTH&lid=LSTMOBFU3ZFB27C2VTHAZKAHN&marketplace=FLIPKART&q=xiaomi+smartphone&store=tyy%2F4io&srno=s_1_17&otracker=search&otracker1=search&fm=SEARCH&iid=f7a3dabb-2211-4bf3-8995-035dc20092cc.MOBFU3ZFB27C2VTH.SEARCH&ppt=hp&ppn=homepage&ssid=t0b56fsjsw0000001623076876939&qH=6cd432542380f9e8',\n",
       " 'https://www.flipkart.com/redmi-9-sky-blue-64-gb/p/itm4fb151383983b?pid=MOBFV5FPUS8UHG9H&lid=LSTMOBFV5FPUS8UHG9HVCOXLI&marketplace=FLIPKART&q=xiaomi+smartphone&store=tyy%2F4io&srno=s_1_18&otracker=search&otracker1=search&fm=SEARCH&iid=f7a3dabb-2211-4bf3-8995-035dc20092cc.MOBFV5FPUS8UHG9H.SEARCH&ppt=hp&ppn=homepage&ssid=t0b56fsjsw0000001623076876939&qH=6cd432542380f9e8',\n",
       " 'https://www.flipkart.com/redmi-9-power-electric-green-128-gb/p/itm6b72de6ad62b2?pid=MOBGYMD5HHNBHMCK&lid=LSTMOBGYMD5HHNBHMCKYPGDYX&marketplace=FLIPKART&q=xiaomi+smartphone&store=tyy%2F4io&srno=s_1_19&otracker=search&otracker1=search&fm=SEARCH&iid=f7a3dabb-2211-4bf3-8995-035dc20092cc.MOBGYMD5HHNBHMCK.SEARCH&ppt=hp&ppn=homepage&ssid=t0b56fsjsw0000001623076876939&qH=6cd432542380f9e8',\n",
       " 'https://www.flipkart.com/redmi-9a-seablue-32-gb/p/itmeabd39a0cd669?pid=MOBFVD9ZGTYR2WGR&lid=LSTMOBFVD9ZGTYR2WGRRUHRWS&marketplace=FLIPKART&q=xiaomi+smartphone&store=tyy%2F4io&srno=s_1_20&otracker=search&otracker1=search&fm=SEARCH&iid=f7a3dabb-2211-4bf3-8995-035dc20092cc.MOBFVD9ZGTYR2WGR.SEARCH&ppt=hp&ppn=homepage&ssid=t0b56fsjsw0000001623076876939&qH=6cd432542380f9e8',\n",
       " 'https://www.flipkart.com/redmi-9a-midnight-black-32-gb/p/itmeabd39a0cd669?pid=MOBFVDA2RWTCFBHZ&lid=LSTMOBFVDA2RWTCFBHZC9GCG4&marketplace=FLIPKART&q=xiaomi+smartphone&store=tyy%2F4io&srno=s_1_21&otracker=search&otracker1=search&fm=SEARCH&iid=f7a3dabb-2211-4bf3-8995-035dc20092cc.MOBFVDA2RWTCFBHZ.SEARCH&ppt=hp&ppn=homepage&ssid=t0b56fsjsw0000001623076876939&qH=6cd432542380f9e8',\n",
       " 'https://www.flipkart.com/redmi-9a-nature-green-32-gb/p/itmeabd39a0cd669?pid=MOBFVDA5QCGNZKH9&lid=LSTMOBFVDA5QCGNZKH9LPVRPQ&marketplace=FLIPKART&q=xiaomi+smartphone&store=tyy%2F4io&srno=s_1_22&otracker=search&otracker1=search&fm=SEARCH&iid=f7a3dabb-2211-4bf3-8995-035dc20092cc.MOBFVDA5QCGNZKH9.SEARCH&ppt=hp&ppn=homepage&ssid=t0b56fsjsw0000001623076876939&qH=6cd432542380f9e8',\n",
       " 'https://www.flipkart.com/redmi-9a-nature-green-32-gb/p/itmeabd39a0cd669?pid=MOBFVDAFCKBNXQ7E&lid=LSTMOBFVDAFCKBNXQ7EVWBXDD&marketplace=FLIPKART&q=xiaomi+smartphone&store=tyy%2F4io&srno=s_1_23&otracker=search&otracker1=search&fm=SEARCH&iid=f7a3dabb-2211-4bf3-8995-035dc20092cc.MOBFVDAFCKBNXQ7E.SEARCH&ppt=hp&ppn=homepage&ssid=t0b56fsjsw0000001623076876939&qH=6cd432542380f9e8',\n",
       " 'https://www.flipkart.com/redmi-9-sky-blue-128-gb/p/itm4fb151383983b?pid=MOBFV5FPGQPG9CEZ&lid=LSTMOBFV5FPGQPG9CEZPDBZBU&marketplace=FLIPKART&q=xiaomi+smartphone&store=tyy%2F4io&srno=s_1_24&otracker=search&otracker1=search&fm=SEARCH&iid=f7a3dabb-2211-4bf3-8995-035dc20092cc.MOBFV5FPGQPG9CEZ.SEARCH&ppt=hp&ppn=homepage&ssid=t0b56fsjsw0000001623076876939&qH=6cd432542380f9e8']"
      ]
     },
     "execution_count": 127,
     "metadata": {},
     "output_type": "execute_result"
    }
   ],
   "source": [
    "#Extracting all the tags having Product_URL on 1st Page\n",
    "pru=driver.find_elements_by_xpath(\"//a[@class='_1fQZEK']\")\n",
    "\n",
    "#extracting text inside above tags of first page\n",
    "for i in pru:\n",
    "    url=i.get_attribute(\"href\")\n",
    "    Product_URL.append(url)\n",
    "Product_URL"
   ]
  },
  {
   "cell_type": "code",
   "execution_count": 133,
   "metadata": {},
   "outputs": [
    {
     "data": {
      "text/plain": [
       "['Octa Core',\n",
       " 'Octa Core',\n",
       " 'Octa Core',\n",
       " 'Octa Core',\n",
       " 'Octa Core',\n",
       " 'Octa Core',\n",
       " 'Octa Core',\n",
       " 'Octa Core',\n",
       " 'Octa Core',\n",
       " 'Octa Core',\n",
       " 'Octa Core',\n",
       " 'Octa Core',\n",
       " 'Octa Core',\n",
       " 'Octa Core',\n",
       " 'Octa Core',\n",
       " '-',\n",
       " 'Octa Core',\n",
       " '-',\n",
       " 'Octa Core',\n",
       " 'Octa Core',\n",
       " 'Octa Core',\n",
       " 'Octa Core',\n",
       " 'Octa Core',\n",
       " '-']"
      ]
     },
     "execution_count": 133,
     "metadata": {},
     "output_type": "execute_result"
    }
   ],
   "source": [
    "#Extracting all the tags having Processor_Cores information\n",
    "for i in range(0,len(Product_URL)):\n",
    "    driver.get(Product_URL[i])\n",
    "    time.sleep(1)\n",
    "    read_more_btn=driver.find_element_by_xpath(\"//button[@class='_2KpZ6l _1FH0tX']\")\n",
    "    read_more_btn.click()\n",
    "    try:                                                                                     \n",
    "        core_info = driver.find_element_by_xpath('//div[@class=\"_3k-BhJ\"][3]/table[1]/tbody/tr[3]/td[1]')\n",
    "        if core_info.text != \"Processor Core\" :\n",
    "            core_info = driver.find_element_by_xpath('//div[@class=\"_3k-BhJ\"][3]/table[1]/tbody/tr[2]/td[1]')\n",
    "            if core_info.text != \"Processor Core\" : \n",
    "                raise NoSuchElementException\n",
    "            else :\n",
    "                cores = driver.find_element_by_xpath('//div[@class=\"_3k-BhJ\"][3]/table[1]/tbody/tr[2]/td[2]/ul/li')\n",
    "        else :\n",
    "            cores = driver.find_element_by_xpath('//div[@class=\"_3k-BhJ\"][3]/table[1]/tbody/tr[3]/td[2]/ul/li')\n",
    "        Processor_Cores.append(cores.text)\n",
    "    except NoSuchElementException:\n",
    "        Processor_Cores.append('-')\n",
    "Processor_Cores"
   ]
  },
  {
   "cell_type": "code",
   "execution_count": 134,
   "metadata": {},
   "outputs": [
    {
     "data": {
      "text/plain": [
       "24"
      ]
     },
     "execution_count": 134,
     "metadata": {},
     "output_type": "execute_result"
    }
   ],
   "source": [
    "len(Processor_Cores)"
   ]
  },
  {
   "cell_type": "code",
   "execution_count": 135,
   "metadata": {},
   "outputs": [
    {
     "data": {
      "text/plain": [
       "24"
      ]
     },
     "execution_count": 135,
     "metadata": {},
     "output_type": "execute_result"
    }
   ],
   "source": [
    "len(Product_URL)"
   ]
  },
  {
   "cell_type": "code",
   "execution_count": 138,
   "metadata": {},
   "outputs": [
    {
     "data": {
      "text/plain": [
       "['5000 mAh',\n",
       " '5000 mAh',\n",
       " '5000 mAh',\n",
       " '5020 mAh',\n",
       " '6000 mAh',\n",
       " '5020 mAh',\n",
       " '6000 mAh',\n",
       " '6000 mAh',\n",
       " '5020 mAh',\n",
       " '5020 mAh',\n",
       " '6000 mAh',\n",
       " '6000 mAh',\n",
       " '6000 mAh',\n",
       " '5020 mAh',\n",
       " '5020 mAh',\n",
       " '5000 mAh',\n",
       " '5020 mAh',\n",
       " '5000 mAh',\n",
       " '6000 mAh',\n",
       " '5000 mAh',\n",
       " '5000 mAh',\n",
       " '5000 mAh',\n",
       " '5000 mAh',\n",
       " '5000 mAh']"
      ]
     },
     "execution_count": 138,
     "metadata": {},
     "output_type": "execute_result"
    }
   ],
   "source": [
    "#Extracting all the tags having Battery_Capacity information\n",
    "for i in range(0,len(Product_URL)):\n",
    "    driver.get(Product_URL[i])\n",
    "    time.sleep(1)\n",
    "    read_more_btn=driver.find_element_by_xpath(\"//button[@class='_2KpZ6l _1FH0tX']\")\n",
    "    read_more_btn.click()\n",
    "    try:\n",
    "        if driver.find_element_by_xpath('//div[@class=\"_3k-BhJ\"][10]/div').text != \"Battery & Power Features\" :   \n",
    "            if driver.find_element_by_xpath('//div[@class=\"_3k-BhJ\"][9]/div').text == \"Battery & Power Features\" :\n",
    "                battery = driver.find_element_by_xpath('//div[@class=\"_3k-BhJ\"][9]/table/tbody/tr/td[1]')\n",
    "                if battery.text != \"Battery Capacity\" : raise NoSuchElementException\n",
    "                bat_power = driver.find_element_by_xpath('//div[@class=\"_3k-BhJ\"][9]/table/tbody/tr/td[2]/ul/li')                \n",
    "            elif driver.find_element_by_xpath('//div[@class=\"_3k-BhJ\"][8]/div').text == \"Battery & Power Features\" :     \n",
    "                battery = driver.find_element_by_xpath('//div[@class=\"_3k-BhJ\"][8]/table/tbody/tr/td[1]')\n",
    "                if battery.text != \"Battery Capacity\" : raise NoSuchElementException\n",
    "                bat_power = driver.find_element_by_xpath('//div[@class=\"_3k-BhJ\"][8]/table/tbody/tr/td[2]/ul/li')\n",
    "            else:\n",
    "                raise NoSuchElementException\n",
    "        else :\n",
    "            battery = driver.find_element_by_xpath('//div[@class=\"_3k-BhJ\"][10]/table/tbody/tr/td[1]')\n",
    "            if battery.text != \"Battery Capacity\" : raise NoSuchElementException\n",
    "            bat_power = driver.find_element_by_xpath('//div[@class=\"_3k-BhJ\"][10]/table/tbody/tr/td[2]/ul/li')                \n",
    "        Battery_Capacity.append(bat_power.text)\n",
    "    except NoSuchElementException:\n",
    "        Battery_Capacity.append('-')\n",
    "Battery_Capacity"
   ]
  },
  {
   "cell_type": "code",
   "execution_count": 139,
   "metadata": {},
   "outputs": [
    {
     "data": {
      "text/plain": [
       "24"
      ]
     },
     "execution_count": 139,
     "metadata": {},
     "output_type": "execute_result"
    }
   ],
   "source": [
    "len(Battery_Capacity)"
   ]
  },
  {
   "cell_type": "code",
   "execution_count": 140,
   "metadata": {},
   "outputs": [
    {
     "data": {
      "text/html": [
       "<div>\n",
       "<style scoped>\n",
       "    .dataframe tbody tr th:only-of-type {\n",
       "        vertical-align: middle;\n",
       "    }\n",
       "\n",
       "    .dataframe tbody tr th {\n",
       "        vertical-align: top;\n",
       "    }\n",
       "\n",
       "    .dataframe thead th {\n",
       "        text-align: right;\n",
       "    }\n",
       "</style>\n",
       "<table border=\"1\" class=\"dataframe\">\n",
       "  <thead>\n",
       "    <tr style=\"text-align: right;\">\n",
       "      <th></th>\n",
       "      <th>Brand Name</th>\n",
       "      <th>Smartphone Name</th>\n",
       "      <th>Colour</th>\n",
       "      <th>RAM</th>\n",
       "      <th>Storage ROM</th>\n",
       "      <th>Primary Camera</th>\n",
       "      <th>Secondary Camera</th>\n",
       "      <th>Display Size</th>\n",
       "      <th>Display Resolution</th>\n",
       "      <th>Processor Info</th>\n",
       "      <th>Processor Cores</th>\n",
       "      <th>Battery Capacity</th>\n",
       "      <th>Price Info</th>\n",
       "      <th>Product URL</th>\n",
       "    </tr>\n",
       "  </thead>\n",
       "  <tbody>\n",
       "    <tr>\n",
       "      <th>0</th>\n",
       "      <td>XIAOMI</td>\n",
       "      <td>REDMI 9i (Midnight Black, 64 GB)</td>\n",
       "      <td>Midnight Black</td>\n",
       "      <td>4 GB RAM</td>\n",
       "      <td>64 GB ROM</td>\n",
       "      <td>13MP Rear Camera</td>\n",
       "      <td>5MP Front Camera</td>\n",
       "      <td>16.59 cm (6.53 inch)</td>\n",
       "      <td>HD+ Display</td>\n",
       "      <td>MediaTek Helio G25 Processor</td>\n",
       "      <td>Octa Core</td>\n",
       "      <td>5000 mAh</td>\n",
       "      <td>₹7,999</td>\n",
       "      <td>https://www.flipkart.com/redmi-9i-midnight-bla...</td>\n",
       "    </tr>\n",
       "    <tr>\n",
       "      <th>1</th>\n",
       "      <td>XIAOMI</td>\n",
       "      <td>REDMI 9i (Sea Blue, 64 GB)</td>\n",
       "      <td>Sea Blue</td>\n",
       "      <td>4 GB RAM</td>\n",
       "      <td>64 GB ROM</td>\n",
       "      <td>13MP Rear Camera</td>\n",
       "      <td>5MP Front Camera</td>\n",
       "      <td>16.59 cm (6.53 inch)</td>\n",
       "      <td>HD+ Display</td>\n",
       "      <td>MediaTek Helio G25 Processor</td>\n",
       "      <td>Octa Core</td>\n",
       "      <td>5000 mAh</td>\n",
       "      <td>₹7,999</td>\n",
       "      <td>https://www.flipkart.com/redmi-9i-sea-blue-64-...</td>\n",
       "    </tr>\n",
       "    <tr>\n",
       "      <th>2</th>\n",
       "      <td>XIAOMI</td>\n",
       "      <td>REDMI 9i (Nature Green, 64 GB)</td>\n",
       "      <td>Nature Green</td>\n",
       "      <td>4 GB RAM</td>\n",
       "      <td>64 GB ROM</td>\n",
       "      <td>13MP Rear Camera</td>\n",
       "      <td>5MP Front Camera</td>\n",
       "      <td>16.59 cm (6.53 inch)</td>\n",
       "      <td>HD+ Display</td>\n",
       "      <td>MediaTek Helio G25 Processor</td>\n",
       "      <td>Octa Core</td>\n",
       "      <td>5000 mAh</td>\n",
       "      <td>₹7,999</td>\n",
       "      <td>https://www.flipkart.com/redmi-9i-nature-green...</td>\n",
       "    </tr>\n",
       "    <tr>\n",
       "      <th>3</th>\n",
       "      <td>XIAOMI</td>\n",
       "      <td>REDMI Note 9 (Pebble Grey, 64 GB)</td>\n",
       "      <td>Pebble Grey</td>\n",
       "      <td>4 GB RAM</td>\n",
       "      <td>64 GB ROM</td>\n",
       "      <td>48MP + 8MP + 2MP + 2MP</td>\n",
       "      <td>13MP Front Camera</td>\n",
       "      <td>16.59 cm (6.53 inch)</td>\n",
       "      <td>Full HD+ Display</td>\n",
       "      <td>MediaTek Helio G85 Processor</td>\n",
       "      <td>Octa Core</td>\n",
       "      <td>5020 mAh</td>\n",
       "      <td>₹10,999</td>\n",
       "      <td>https://www.flipkart.com/redmi-note-9-pebble-g...</td>\n",
       "    </tr>\n",
       "    <tr>\n",
       "      <th>4</th>\n",
       "      <td>XIAOMI</td>\n",
       "      <td>REDMI 9 Power (Electric Green, 64 GB)</td>\n",
       "      <td>Electric Green</td>\n",
       "      <td>4 GB RAM</td>\n",
       "      <td>64 GB ROM</td>\n",
       "      <td>48MP Rear Camera</td>\n",
       "      <td>8MP Front Camera</td>\n",
       "      <td>16.59 cm (6.53 inch)</td>\n",
       "      <td>Full HD+ Display</td>\n",
       "      <td>Qualcomm Snapdragon 662 Processor</td>\n",
       "      <td>Octa Core</td>\n",
       "      <td>6000 mAh</td>\n",
       "      <td>₹10,499</td>\n",
       "      <td>https://www.flipkart.com/redmi-9-power-electri...</td>\n",
       "    </tr>\n",
       "    <tr>\n",
       "      <th>5</th>\n",
       "      <td>XIAOMI</td>\n",
       "      <td>REDMI 9 Prime (Sunrise Flare, 64 GB)</td>\n",
       "      <td>Sunrise Flare</td>\n",
       "      <td>4 GB RAM</td>\n",
       "      <td>64 GB ROM</td>\n",
       "      <td>13MP Rear Camera</td>\n",
       "      <td>8MP Front Camera</td>\n",
       "      <td>16.59 cm (6.53 inch)</td>\n",
       "      <td>Full HD+ Display</td>\n",
       "      <td>MediaTek Helio G80 Processor</td>\n",
       "      <td>Octa Core</td>\n",
       "      <td>5020 mAh</td>\n",
       "      <td>₹9,999</td>\n",
       "      <td>https://www.flipkart.com/redmi-9-prime-sunrise...</td>\n",
       "    </tr>\n",
       "    <tr>\n",
       "      <th>6</th>\n",
       "      <td>XIAOMI</td>\n",
       "      <td>REDMI 9 Power (Mighty Black, 128 GB)</td>\n",
       "      <td>Mighty Black</td>\n",
       "      <td>6 GB RAM</td>\n",
       "      <td>128 GB ROM</td>\n",
       "      <td>48MP Rear Camera</td>\n",
       "      <td>8MP Front Camera</td>\n",
       "      <td>16.59 cm (6.53 inch)</td>\n",
       "      <td>Full HD+ Display</td>\n",
       "      <td>Qualcomm® Snapdragon™ 662 Processor</td>\n",
       "      <td>Octa Core</td>\n",
       "      <td>6000 mAh</td>\n",
       "      <td>₹12,999</td>\n",
       "      <td>https://www.flipkart.com/redmi-9-power-mighty-...</td>\n",
       "    </tr>\n",
       "    <tr>\n",
       "      <th>7</th>\n",
       "      <td>XIAOMI</td>\n",
       "      <td>REDMI 9 Power (Mighty Black, 64 GB)</td>\n",
       "      <td>Mighty Black</td>\n",
       "      <td>4 GB RAM</td>\n",
       "      <td>64 GB ROM</td>\n",
       "      <td>48MP Rear Camera</td>\n",
       "      <td>8MP Front Camera</td>\n",
       "      <td>16.59 cm (6.53 inch)</td>\n",
       "      <td>Full HD+ Display</td>\n",
       "      <td>Qualcomm Snapdragon 662 Processor</td>\n",
       "      <td>Octa Core</td>\n",
       "      <td>6000 mAh</td>\n",
       "      <td>₹10,499</td>\n",
       "      <td>https://www.flipkart.com/redmi-9-power-mighty-...</td>\n",
       "    </tr>\n",
       "    <tr>\n",
       "      <th>8</th>\n",
       "      <td>XIAOMI</td>\n",
       "      <td>REDMI Note 9 (Aqua Green, 64 GB)</td>\n",
       "      <td>Aqua Green</td>\n",
       "      <td>4 GB RAM</td>\n",
       "      <td>64 GB ROM</td>\n",
       "      <td>48MP + 8MP + 2MP + 2MP</td>\n",
       "      <td>13MP Front Camera</td>\n",
       "      <td>16.59 cm (6.53 inch)</td>\n",
       "      <td>Full HD+ Display</td>\n",
       "      <td>MediaTek Helio G85 Processor</td>\n",
       "      <td>Octa Core</td>\n",
       "      <td>5020 mAh</td>\n",
       "      <td>₹10,999</td>\n",
       "      <td>https://www.flipkart.com/redmi-note-9-aqua-gre...</td>\n",
       "    </tr>\n",
       "    <tr>\n",
       "      <th>9</th>\n",
       "      <td>XIAOMI</td>\n",
       "      <td>REDMI Note 9 (Arctic White, 64 GB)</td>\n",
       "      <td>Arctic White</td>\n",
       "      <td>4 GB RAM</td>\n",
       "      <td>64 GB ROM</td>\n",
       "      <td>48MP + 8MP + 2MP + 2MP</td>\n",
       "      <td>13MP Front Camera</td>\n",
       "      <td>16.59 cm (6.53 inch)</td>\n",
       "      <td>Full HD+ Display</td>\n",
       "      <td>MediaTek Helio G85 Processor</td>\n",
       "      <td>Octa Core</td>\n",
       "      <td>5020 mAh</td>\n",
       "      <td>₹10,999</td>\n",
       "      <td>https://www.flipkart.com/redmi-note-9-arctic-w...</td>\n",
       "    </tr>\n",
       "    <tr>\n",
       "      <th>10</th>\n",
       "      <td>XIAOMI</td>\n",
       "      <td>REDMI 9 Power (Fiery Red, 64 GB)</td>\n",
       "      <td>Fiery Red</td>\n",
       "      <td>4 GB RAM</td>\n",
       "      <td>64 GB ROM</td>\n",
       "      <td>48MP Rear Camera</td>\n",
       "      <td>8MP Front Camera</td>\n",
       "      <td>16.59 cm (6.53 inch)</td>\n",
       "      <td>Full HD+ Display</td>\n",
       "      <td>Qualcomm Snapdragon 662 Processor</td>\n",
       "      <td>Octa Core</td>\n",
       "      <td>6000 mAh</td>\n",
       "      <td>₹10,499</td>\n",
       "      <td>https://www.flipkart.com/redmi-9-power-fiery-r...</td>\n",
       "    </tr>\n",
       "    <tr>\n",
       "      <th>11</th>\n",
       "      <td>XIAOMI</td>\n",
       "      <td>REDMI 9 Power (Blazing Blue, 64 GB)</td>\n",
       "      <td>Blazing Blue</td>\n",
       "      <td>4 GB RAM</td>\n",
       "      <td>64 GB ROM</td>\n",
       "      <td>48MP Rear Camera</td>\n",
       "      <td>8MP Front Camera</td>\n",
       "      <td>16.59 cm (6.53 inch)</td>\n",
       "      <td>Full HD+ Display</td>\n",
       "      <td>Qualcomm Snapdragon 662 Processor</td>\n",
       "      <td>Octa Core</td>\n",
       "      <td>6000 mAh</td>\n",
       "      <td>₹10,499</td>\n",
       "      <td>https://www.flipkart.com/redmi-9-power-blazing...</td>\n",
       "    </tr>\n",
       "    <tr>\n",
       "      <th>12</th>\n",
       "      <td>XIAOMI</td>\n",
       "      <td>REDMI 9 Power (Mighty Black, 128 GB)</td>\n",
       "      <td>Mighty Black</td>\n",
       "      <td>4 GB RAM</td>\n",
       "      <td>128 GB ROM</td>\n",
       "      <td>48MP Rear Camera</td>\n",
       "      <td>8MP Front Camera</td>\n",
       "      <td>16.59 cm (6.53 inch)</td>\n",
       "      <td>Full HD+ Display</td>\n",
       "      <td>Qualcomm Snapdragon 662 Processor</td>\n",
       "      <td>Octa Core</td>\n",
       "      <td>6000 mAh</td>\n",
       "      <td>₹11,999</td>\n",
       "      <td>https://www.flipkart.com/redmi-9-power-mighty-...</td>\n",
       "    </tr>\n",
       "    <tr>\n",
       "      <th>13</th>\n",
       "      <td>XIAOMI</td>\n",
       "      <td>REDMI 9 Prime (Matte Black, 64 GB)</td>\n",
       "      <td>Matte Black</td>\n",
       "      <td>4 GB RAM</td>\n",
       "      <td>64 GB ROM</td>\n",
       "      <td>13MP Rear Camera</td>\n",
       "      <td>8MP Front Camera</td>\n",
       "      <td>16.59 cm (6.53 inch)</td>\n",
       "      <td>Full HD+ Display</td>\n",
       "      <td>MediaTek Helio G80 Processor</td>\n",
       "      <td>Octa Core</td>\n",
       "      <td>5020 mAh</td>\n",
       "      <td>₹9,999</td>\n",
       "      <td>https://www.flipkart.com/redmi-9-prime-matte-b...</td>\n",
       "    </tr>\n",
       "    <tr>\n",
       "      <th>14</th>\n",
       "      <td>XIAOMI</td>\n",
       "      <td>REDMI Note 9 (Shadow Black, 64 GB)</td>\n",
       "      <td>Shadow Black</td>\n",
       "      <td>4 GB RAM</td>\n",
       "      <td>64 GB ROM</td>\n",
       "      <td>48MP + 8MP + 2MP + 2MP</td>\n",
       "      <td>13MP Front Camera</td>\n",
       "      <td>16.59 cm (6.53 inch)</td>\n",
       "      <td>Full HD+ Display</td>\n",
       "      <td>MediaTek Helio G85 Processor</td>\n",
       "      <td>Octa Core</td>\n",
       "      <td>5020 mAh</td>\n",
       "      <td>₹10,999</td>\n",
       "      <td>https://www.flipkart.com/redmi-note-9-shadow-b...</td>\n",
       "    </tr>\n",
       "    <tr>\n",
       "      <th>15</th>\n",
       "      <td>XIAOMI</td>\n",
       "      <td>Redmi 9 (Sporty Orange, 64 GB)</td>\n",
       "      <td>Sporty Orange</td>\n",
       "      <td>4 GB RAM</td>\n",
       "      <td>64 GB ROM</td>\n",
       "      <td>13MP + 8MP</td>\n",
       "      <td>5MP Front Camera</td>\n",
       "      <td>16.59 cm (6.53 inch)</td>\n",
       "      <td>HD+ Display</td>\n",
       "      <td>MediaTek Helio G35 Processor</td>\n",
       "      <td>-</td>\n",
       "      <td>5000 mAh</td>\n",
       "      <td>₹9,170</td>\n",
       "      <td>https://www.flipkart.com/redmi-9-sporty-orange...</td>\n",
       "    </tr>\n",
       "    <tr>\n",
       "      <th>16</th>\n",
       "      <td>XIAOMI</td>\n",
       "      <td>REDMI Note 9 (Arctic White, 128 GB)</td>\n",
       "      <td>Arctic White</td>\n",
       "      <td>4 GB RAM</td>\n",
       "      <td>128 GB ROM</td>\n",
       "      <td>48MP + 8MP + 2MP + 2MP</td>\n",
       "      <td>13MP Front Camera</td>\n",
       "      <td>16.59 cm (6.53 inch)</td>\n",
       "      <td>Full HD+ Display</td>\n",
       "      <td>MediaTek Helio G85 Processor</td>\n",
       "      <td>Octa Core</td>\n",
       "      <td>5020 mAh</td>\n",
       "      <td>₹12,999</td>\n",
       "      <td>https://www.flipkart.com/redmi-note-9-arctic-w...</td>\n",
       "    </tr>\n",
       "    <tr>\n",
       "      <th>17</th>\n",
       "      <td>XIAOMI</td>\n",
       "      <td>Redmi 9 (Sky Blue, 64 GB)</td>\n",
       "      <td>Sky Blue</td>\n",
       "      <td>4 GB RAM</td>\n",
       "      <td>64 GB ROM</td>\n",
       "      <td>13MP + 2MP</td>\n",
       "      <td>5MP Front Camera</td>\n",
       "      <td>16.59 cm (6.53 inch)</td>\n",
       "      <td>HD+ Display</td>\n",
       "      <td>MediaTek Helio G35 Processor</td>\n",
       "      <td>-</td>\n",
       "      <td>5000 mAh</td>\n",
       "      <td>₹9,270</td>\n",
       "      <td>https://www.flipkart.com/redmi-9-sky-blue-64-g...</td>\n",
       "    </tr>\n",
       "    <tr>\n",
       "      <th>18</th>\n",
       "      <td>XIAOMI</td>\n",
       "      <td>REDMI 9 Power (Electric Green, 128 GB)</td>\n",
       "      <td>Electric Green</td>\n",
       "      <td>6 GB RAM</td>\n",
       "      <td>128 GB ROM</td>\n",
       "      <td>48MP Rear Camera</td>\n",
       "      <td>8MP Front Camera</td>\n",
       "      <td>16.59 cm (6.53 inch)</td>\n",
       "      <td>Full HD+ Display</td>\n",
       "      <td>Qualcomm® Snapdragon™ 662 Processor</td>\n",
       "      <td>Octa Core</td>\n",
       "      <td>6000 mAh</td>\n",
       "      <td>₹12,999</td>\n",
       "      <td>https://www.flipkart.com/redmi-9-power-electri...</td>\n",
       "    </tr>\n",
       "    <tr>\n",
       "      <th>19</th>\n",
       "      <td>XIAOMI</td>\n",
       "      <td>Redmi 9A (SeaBlue, 32 GB)</td>\n",
       "      <td>SeaBlue</td>\n",
       "      <td>2 GB RAM</td>\n",
       "      <td>32 GB ROM</td>\n",
       "      <td>-</td>\n",
       "      <td>-</td>\n",
       "      <td>16.59 cm (6.53 inch)</td>\n",
       "      <td>Full HD+ Display</td>\n",
       "      <td>-</td>\n",
       "      <td>Octa Core</td>\n",
       "      <td>5000 mAh</td>\n",
       "      <td>₹7,380</td>\n",
       "      <td>https://www.flipkart.com/redmi-9a-seablue-32-g...</td>\n",
       "    </tr>\n",
       "    <tr>\n",
       "      <th>20</th>\n",
       "      <td>XIAOMI</td>\n",
       "      <td>Redmi 9A (Midnight Black, 32 GB)</td>\n",
       "      <td>Midnight Black</td>\n",
       "      <td>2 GB RAM</td>\n",
       "      <td>32 GB ROM</td>\n",
       "      <td>-</td>\n",
       "      <td>-</td>\n",
       "      <td>16.59 cm (6.53 inch)</td>\n",
       "      <td>Full HD+ Display</td>\n",
       "      <td>-</td>\n",
       "      <td>Octa Core</td>\n",
       "      <td>5000 mAh</td>\n",
       "      <td>₹7,335</td>\n",
       "      <td>https://www.flipkart.com/redmi-9a-midnight-bla...</td>\n",
       "    </tr>\n",
       "    <tr>\n",
       "      <th>21</th>\n",
       "      <td>XIAOMI</td>\n",
       "      <td>Redmi 9A (Nature Green, 32 GB)</td>\n",
       "      <td>Nature Green</td>\n",
       "      <td>2 GB RAM</td>\n",
       "      <td>32 GB ROM</td>\n",
       "      <td>-</td>\n",
       "      <td>-</td>\n",
       "      <td>16.59 cm (6.53 inch)</td>\n",
       "      <td>Full HD+ Display</td>\n",
       "      <td>-</td>\n",
       "      <td>Octa Core</td>\n",
       "      <td>5000 mAh</td>\n",
       "      <td>₹7,360</td>\n",
       "      <td>https://www.flipkart.com/redmi-9a-nature-green...</td>\n",
       "    </tr>\n",
       "    <tr>\n",
       "      <th>22</th>\n",
       "      <td>XIAOMI</td>\n",
       "      <td>Redmi 9A (Nature Green, 32 GB)</td>\n",
       "      <td>Nature Green</td>\n",
       "      <td>3 GB RAM</td>\n",
       "      <td>32 GB ROM</td>\n",
       "      <td>13MP Rear Camera</td>\n",
       "      <td>5MP Front Camera</td>\n",
       "      <td>16.59 cm (6.53 inch)</td>\n",
       "      <td>HD+ Display</td>\n",
       "      <td>MediaTek Helio G25 Processor</td>\n",
       "      <td>Octa Core</td>\n",
       "      <td>5000 mAh</td>\n",
       "      <td>₹7,990</td>\n",
       "      <td>https://www.flipkart.com/redmi-9a-nature-green...</td>\n",
       "    </tr>\n",
       "    <tr>\n",
       "      <th>23</th>\n",
       "      <td>XIAOMI</td>\n",
       "      <td>Redmi 9 (Sky Blue, 128 GB)</td>\n",
       "      <td>Sky Blue</td>\n",
       "      <td>4 GB RAM</td>\n",
       "      <td>128 GB ROM</td>\n",
       "      <td>13MP + 8MP</td>\n",
       "      <td>5MP Front Camera</td>\n",
       "      <td>16.59 cm (6.53 inch)</td>\n",
       "      <td>HD+ Display</td>\n",
       "      <td>MediaTek Helio G35 Processor</td>\n",
       "      <td>-</td>\n",
       "      <td>5000 mAh</td>\n",
       "      <td>₹11,990</td>\n",
       "      <td>https://www.flipkart.com/redmi-9-sky-blue-128-...</td>\n",
       "    </tr>\n",
       "  </tbody>\n",
       "</table>\n",
       "</div>"
      ],
      "text/plain": [
       "   Brand Name                         Smartphone Name          Colour  \\\n",
       "0      XIAOMI        REDMI 9i (Midnight Black, 64 GB)  Midnight Black   \n",
       "1      XIAOMI              REDMI 9i (Sea Blue, 64 GB)        Sea Blue   \n",
       "2      XIAOMI          REDMI 9i (Nature Green, 64 GB)    Nature Green   \n",
       "3      XIAOMI       REDMI Note 9 (Pebble Grey, 64 GB)     Pebble Grey   \n",
       "4      XIAOMI   REDMI 9 Power (Electric Green, 64 GB)  Electric Green   \n",
       "5      XIAOMI    REDMI 9 Prime (Sunrise Flare, 64 GB)   Sunrise Flare   \n",
       "6      XIAOMI    REDMI 9 Power (Mighty Black, 128 GB)    Mighty Black   \n",
       "7      XIAOMI     REDMI 9 Power (Mighty Black, 64 GB)    Mighty Black   \n",
       "8      XIAOMI        REDMI Note 9 (Aqua Green, 64 GB)      Aqua Green   \n",
       "9      XIAOMI      REDMI Note 9 (Arctic White, 64 GB)    Arctic White   \n",
       "10     XIAOMI        REDMI 9 Power (Fiery Red, 64 GB)       Fiery Red   \n",
       "11     XIAOMI     REDMI 9 Power (Blazing Blue, 64 GB)    Blazing Blue   \n",
       "12     XIAOMI    REDMI 9 Power (Mighty Black, 128 GB)    Mighty Black   \n",
       "13     XIAOMI      REDMI 9 Prime (Matte Black, 64 GB)     Matte Black   \n",
       "14     XIAOMI      REDMI Note 9 (Shadow Black, 64 GB)    Shadow Black   \n",
       "15     XIAOMI          Redmi 9 (Sporty Orange, 64 GB)   Sporty Orange   \n",
       "16     XIAOMI     REDMI Note 9 (Arctic White, 128 GB)    Arctic White   \n",
       "17     XIAOMI               Redmi 9 (Sky Blue, 64 GB)        Sky Blue   \n",
       "18     XIAOMI  REDMI 9 Power (Electric Green, 128 GB)  Electric Green   \n",
       "19     XIAOMI               Redmi 9A (SeaBlue, 32 GB)         SeaBlue   \n",
       "20     XIAOMI        Redmi 9A (Midnight Black, 32 GB)  Midnight Black   \n",
       "21     XIAOMI          Redmi 9A (Nature Green, 32 GB)    Nature Green   \n",
       "22     XIAOMI          Redmi 9A (Nature Green, 32 GB)    Nature Green   \n",
       "23     XIAOMI              Redmi 9 (Sky Blue, 128 GB)        Sky Blue   \n",
       "\n",
       "          RAM   Storage ROM           Primary Camera    Secondary Camera  \\\n",
       "0   4 GB RAM     64 GB ROM         13MP Rear Camera     5MP Front Camera   \n",
       "1   4 GB RAM     64 GB ROM         13MP Rear Camera     5MP Front Camera   \n",
       "2   4 GB RAM     64 GB ROM         13MP Rear Camera     5MP Front Camera   \n",
       "3   4 GB RAM     64 GB ROM   48MP + 8MP + 2MP + 2MP    13MP Front Camera   \n",
       "4   4 GB RAM      64 GB ROM        48MP Rear Camera     8MP Front Camera   \n",
       "5   4 GB RAM     64 GB ROM         13MP Rear Camera     8MP Front Camera   \n",
       "6   6 GB RAM     128 GB ROM        48MP Rear Camera     8MP Front Camera   \n",
       "7   4 GB RAM      64 GB ROM        48MP Rear Camera     8MP Front Camera   \n",
       "8   4 GB RAM     64 GB ROM   48MP + 8MP + 2MP + 2MP    13MP Front Camera   \n",
       "9   4 GB RAM     64 GB ROM   48MP + 8MP + 2MP + 2MP    13MP Front Camera   \n",
       "10  4 GB RAM      64 GB ROM        48MP Rear Camera     8MP Front Camera   \n",
       "11  4 GB RAM      64 GB ROM        48MP Rear Camera     8MP Front Camera   \n",
       "12  4 GB RAM     128 GB ROM        48MP Rear Camera     8MP Front Camera   \n",
       "13  4 GB RAM     64 GB ROM         13MP Rear Camera     8MP Front Camera   \n",
       "14  4 GB RAM     64 GB ROM   48MP + 8MP + 2MP + 2MP    13MP Front Camera   \n",
       "15  4 GB RAM      64 GB ROM              13MP + 8MP     5MP Front Camera   \n",
       "16  4 GB RAM    128 GB ROM   48MP + 8MP + 2MP + 2MP    13MP Front Camera   \n",
       "17  4 GB RAM      64 GB ROM              13MP + 2MP     5MP Front Camera   \n",
       "18  6 GB RAM     128 GB ROM        48MP Rear Camera     8MP Front Camera   \n",
       "19  2 GB RAM      32 GB ROM                        -                   -   \n",
       "20  2 GB RAM      32 GB ROM                        -                   -   \n",
       "21  2 GB RAM      32 GB ROM                        -                   -   \n",
       "22  3 GB RAM     32 GB ROM         13MP Rear Camera     5MP Front Camera   \n",
       "23  4 GB RAM     128 GB ROM              13MP + 8MP     5MP Front Camera   \n",
       "\n",
       "            Display Size Display Resolution  \\\n",
       "0   16.59 cm (6.53 inch)        HD+ Display   \n",
       "1   16.59 cm (6.53 inch)        HD+ Display   \n",
       "2   16.59 cm (6.53 inch)        HD+ Display   \n",
       "3   16.59 cm (6.53 inch)   Full HD+ Display   \n",
       "4   16.59 cm (6.53 inch)   Full HD+ Display   \n",
       "5   16.59 cm (6.53 inch)   Full HD+ Display   \n",
       "6   16.59 cm (6.53 inch)   Full HD+ Display   \n",
       "7   16.59 cm (6.53 inch)   Full HD+ Display   \n",
       "8   16.59 cm (6.53 inch)   Full HD+ Display   \n",
       "9   16.59 cm (6.53 inch)   Full HD+ Display   \n",
       "10  16.59 cm (6.53 inch)   Full HD+ Display   \n",
       "11  16.59 cm (6.53 inch)   Full HD+ Display   \n",
       "12  16.59 cm (6.53 inch)   Full HD+ Display   \n",
       "13  16.59 cm (6.53 inch)   Full HD+ Display   \n",
       "14  16.59 cm (6.53 inch)   Full HD+ Display   \n",
       "15  16.59 cm (6.53 inch)        HD+ Display   \n",
       "16  16.59 cm (6.53 inch)   Full HD+ Display   \n",
       "17  16.59 cm (6.53 inch)        HD+ Display   \n",
       "18  16.59 cm (6.53 inch)   Full HD+ Display   \n",
       "19  16.59 cm (6.53 inch)   Full HD+ Display   \n",
       "20  16.59 cm (6.53 inch)   Full HD+ Display   \n",
       "21  16.59 cm (6.53 inch)   Full HD+ Display   \n",
       "22  16.59 cm (6.53 inch)        HD+ Display   \n",
       "23  16.59 cm (6.53 inch)        HD+ Display   \n",
       "\n",
       "                         Processor Info Processor Cores Battery Capacity  \\\n",
       "0          MediaTek Helio G25 Processor       Octa Core         5000 mAh   \n",
       "1          MediaTek Helio G25 Processor       Octa Core         5000 mAh   \n",
       "2          MediaTek Helio G25 Processor       Octa Core         5000 mAh   \n",
       "3          MediaTek Helio G85 Processor       Octa Core         5020 mAh   \n",
       "4     Qualcomm Snapdragon 662 Processor       Octa Core         6000 mAh   \n",
       "5          MediaTek Helio G80 Processor       Octa Core         5020 mAh   \n",
       "6   Qualcomm® Snapdragon™ 662 Processor       Octa Core         6000 mAh   \n",
       "7     Qualcomm Snapdragon 662 Processor       Octa Core         6000 mAh   \n",
       "8          MediaTek Helio G85 Processor       Octa Core         5020 mAh   \n",
       "9          MediaTek Helio G85 Processor       Octa Core         5020 mAh   \n",
       "10    Qualcomm Snapdragon 662 Processor       Octa Core         6000 mAh   \n",
       "11    Qualcomm Snapdragon 662 Processor       Octa Core         6000 mAh   \n",
       "12    Qualcomm Snapdragon 662 Processor       Octa Core         6000 mAh   \n",
       "13         MediaTek Helio G80 Processor       Octa Core         5020 mAh   \n",
       "14         MediaTek Helio G85 Processor       Octa Core         5020 mAh   \n",
       "15         MediaTek Helio G35 Processor               -         5000 mAh   \n",
       "16         MediaTek Helio G85 Processor       Octa Core         5020 mAh   \n",
       "17         MediaTek Helio G35 Processor               -         5000 mAh   \n",
       "18  Qualcomm® Snapdragon™ 662 Processor       Octa Core         6000 mAh   \n",
       "19                                    -       Octa Core         5000 mAh   \n",
       "20                                    -       Octa Core         5000 mAh   \n",
       "21                                    -       Octa Core         5000 mAh   \n",
       "22         MediaTek Helio G25 Processor       Octa Core         5000 mAh   \n",
       "23         MediaTek Helio G35 Processor               -         5000 mAh   \n",
       "\n",
       "   Price Info                                        Product URL  \n",
       "0      ₹7,999  https://www.flipkart.com/redmi-9i-midnight-bla...  \n",
       "1      ₹7,999  https://www.flipkart.com/redmi-9i-sea-blue-64-...  \n",
       "2      ₹7,999  https://www.flipkart.com/redmi-9i-nature-green...  \n",
       "3     ₹10,999  https://www.flipkart.com/redmi-note-9-pebble-g...  \n",
       "4     ₹10,499  https://www.flipkart.com/redmi-9-power-electri...  \n",
       "5      ₹9,999  https://www.flipkart.com/redmi-9-prime-sunrise...  \n",
       "6     ₹12,999  https://www.flipkart.com/redmi-9-power-mighty-...  \n",
       "7     ₹10,499  https://www.flipkart.com/redmi-9-power-mighty-...  \n",
       "8     ₹10,999  https://www.flipkart.com/redmi-note-9-aqua-gre...  \n",
       "9     ₹10,999  https://www.flipkart.com/redmi-note-9-arctic-w...  \n",
       "10    ₹10,499  https://www.flipkart.com/redmi-9-power-fiery-r...  \n",
       "11    ₹10,499  https://www.flipkart.com/redmi-9-power-blazing...  \n",
       "12    ₹11,999  https://www.flipkart.com/redmi-9-power-mighty-...  \n",
       "13     ₹9,999  https://www.flipkart.com/redmi-9-prime-matte-b...  \n",
       "14    ₹10,999  https://www.flipkart.com/redmi-note-9-shadow-b...  \n",
       "15     ₹9,170  https://www.flipkart.com/redmi-9-sporty-orange...  \n",
       "16    ₹12,999  https://www.flipkart.com/redmi-note-9-arctic-w...  \n",
       "17     ₹9,270  https://www.flipkart.com/redmi-9-sky-blue-64-g...  \n",
       "18    ₹12,999  https://www.flipkart.com/redmi-9-power-electri...  \n",
       "19     ₹7,380  https://www.flipkart.com/redmi-9a-seablue-32-g...  \n",
       "20     ₹7,335  https://www.flipkart.com/redmi-9a-midnight-bla...  \n",
       "21     ₹7,360  https://www.flipkart.com/redmi-9a-nature-green...  \n",
       "22     ₹7,990  https://www.flipkart.com/redmi-9a-nature-green...  \n",
       "23    ₹11,990  https://www.flipkart.com/redmi-9-sky-blue-128-...  "
      ]
     },
     "execution_count": 140,
     "metadata": {},
     "output_type": "execute_result"
    }
   ],
   "source": [
    "#Saving our answer in a DataFrame using Pandas\n",
    "smartphone=pd.DataFrame({})\n",
    "smartphone['Brand Name']=Brand_Name\n",
    "smartphone['Smartphone Name']=Smartphone_name\n",
    "smartphone['Colour']=Colour_info\n",
    "smartphone['RAM']=RAM_info\n",
    "smartphone['Storage ROM']=Storage_ROM\n",
    "smartphone['Primary Camera']=Primary_Camera\n",
    "smartphone['Secondary Camera']=Secondary_Camera\n",
    "smartphone['Display Size']=Display_Size\n",
    "smartphone['Display Resolution']=Display_Resolution\n",
    "smartphone['Processor Info']=Processor_info\n",
    "smartphone['Processor Cores']=Processor_Cores\n",
    "smartphone['Battery Capacity']=Battery_Capacity\n",
    "smartphone['Price Info']=Price_info\n",
    "smartphone['Product URL']=Product_URL\n",
    "smartphone"
   ]
  },
  {
   "cell_type": "code",
   "execution_count": 141,
   "metadata": {},
   "outputs": [],
   "source": [
    "#saving as csv file\n",
    "smartphone.to_csv(\"smartphone.csv\")"
   ]
  },
  {
   "cell_type": "code",
   "execution_count": 142,
   "metadata": {},
   "outputs": [],
   "source": [
    "driver.close()"
   ]
  },
  {
   "cell_type": "markdown",
   "metadata": {},
   "source": [
    "******************************************************************************************************************************************************************************************************************************************Completed**************************************************************************************************************************************************************************"
   ]
  },
  {
   "cell_type": "code",
   "execution_count": 144,
   "metadata": {},
   "outputs": [],
   "source": [
    "#Importing the required Libraries for web scraping:-\n",
    "import selenium\n",
    "import pandas as pd\n",
    "from selenium import webdriver\n",
    "import time\n",
    "from selenium.common.exceptions import NoSuchElementException\n",
    "from selenium.common.exceptions import StaleElementReferenceException"
   ]
  },
  {
   "cell_type": "markdown",
   "metadata": {},
   "source": [
    "# 5. Write a program to scrap geospatial coordinates (latitude, longitude) of a city searched on google maps.\n",
    "\n",
    "Ans: Solution is as:-"
   ]
  },
  {
   "cell_type": "code",
   "execution_count": 145,
   "metadata": {},
   "outputs": [],
   "source": [
    "#Let's first connect to the web driver\n",
    "driver=webdriver.Chrome(\"chromedriver.exe\")"
   ]
  },
  {
   "cell_type": "code",
   "execution_count": 146,
   "metadata": {},
   "outputs": [],
   "source": [
    "#opening \"https://www.google.com/maps\"\n",
    "url=\"https://www.google.com/maps\"\n",
    "driver.get(url)"
   ]
  },
  {
   "cell_type": "code",
   "execution_count": 147,
   "metadata": {},
   "outputs": [
    {
     "data": {
      "text/plain": [
       "<selenium.webdriver.remote.webelement.WebElement (session=\"59d467529a01c23cda60d1badf0d21ec\", element=\"0c431898-59e2-4870-88bd-78b47dbc2338\")>"
      ]
     },
     "execution_count": 147,
     "metadata": {},
     "output_type": "execute_result"
    }
   ],
   "source": [
    "#finding element for map search bar\n",
    "search_map=driver.find_element_by_xpath('//input[@class=\"tactile-searchbox-input\"]')\n",
    "search_map"
   ]
  },
  {
   "cell_type": "code",
   "execution_count": 148,
   "metadata": {},
   "outputs": [
    {
     "name": "stdout",
     "output_type": "stream",
     "text": [
      "Hello, Please enter City name to check latitude & longitude : Pune\n"
     ]
    }
   ],
   "source": [
    "#Taking input from user in Map Search bar\n",
    "search_map.send_keys(input(\"Hello, Please enter City name to check latitude & longitude : \"))"
   ]
  },
  {
   "cell_type": "code",
   "execution_count": 149,
   "metadata": {},
   "outputs": [],
   "source": [
    "#Clicking the Search Button using Xpath function\n",
    "search_btn=driver.find_element_by_xpath('//button[@id=\"searchbox-searchbutton\"]')\n",
    "search_btn.click()"
   ]
  },
  {
   "cell_type": "code",
   "execution_count": 150,
   "metadata": {},
   "outputs": [],
   "source": [
    "#Checking URl for searched city\n",
    "city_loc=driver.current_url"
   ]
  },
  {
   "cell_type": "code",
   "execution_count": 151,
   "metadata": {},
   "outputs": [],
   "source": [
    "#finding the geospatial coordinates (latitude & longitude) of searched city\n",
    "geo_loc=city_loc.split(\"@\")[1]\n",
    "upd_loc=geo_loc.split(\",\",2)"
   ]
  },
  {
   "cell_type": "code",
   "execution_count": 152,
   "metadata": {},
   "outputs": [
    {
     "name": "stdout",
     "output_type": "stream",
     "text": [
      "Latitude of Searched City Pune is:  18.5245649\n",
      "Longitude of Searched City Pune is:  73.722876\n"
     ]
    }
   ],
   "source": [
    "#Displaying latitude & longitude of serached city\n",
    "print(\"Latitude of Searched City Pune is: \",upd_loc[0])\n",
    "print(\"Longitude of Searched City Pune is: \",upd_loc[1])"
   ]
  },
  {
   "cell_type": "code",
   "execution_count": 153,
   "metadata": {},
   "outputs": [],
   "source": [
    "driver.close()"
   ]
  },
  {
   "cell_type": "markdown",
   "metadata": {},
   "source": [
    "*************************************************************************************************************Completed*****************************************************************************************************************************************************************************************************************************************************"
   ]
  },
  {
   "cell_type": "code",
   "execution_count": 1,
   "metadata": {},
   "outputs": [],
   "source": [
    "#Importing the required Libraries for web scraping:-\n",
    "import selenium\n",
    "import pandas as pd\n",
    "from selenium import webdriver\n",
    "import time\n",
    "from selenium.common.exceptions import NoSuchElementException\n",
    "from selenium.common.exceptions import StaleElementReferenceException"
   ]
  },
  {
   "cell_type": "markdown",
   "metadata": {},
   "source": [
    "# 6. Write a program to scrap details of all the funding deals for second quarter (i.e. July 20 – September 20) from trak.in.\n",
    "\n",
    "Ans: Solution is as:-"
   ]
  },
  {
   "cell_type": "code",
   "execution_count": 5,
   "metadata": {},
   "outputs": [],
   "source": [
    "#Let's first connect to the web driver\n",
    "driver=webdriver.Chrome(\"chromedriver.exe\")"
   ]
  },
  {
   "cell_type": "code",
   "execution_count": 6,
   "metadata": {},
   "outputs": [],
   "source": [
    "#opening \"https://www.trak.in/\"\n",
    "url=\"https://www.trak.in/\"\n",
    "driver.get(url)"
   ]
  },
  {
   "cell_type": "code",
   "execution_count": 9,
   "metadata": {},
   "outputs": [
    {
     "name": "stdout",
     "output_type": "stream",
     "text": [
      "https://trak.in/india-startup-funding-investment-2015/\n"
     ]
    }
   ],
   "source": [
    "#Extracting funding_Deals information\n",
    "funding_deals=driver.find_element_by_xpath(\"//li[@class='menu-have-icon menu-icon-type-fontawesome menu-item menu-item-type-post_type menu-item-object-page better-anim-fade menu-item-51510']//a\")\n",
    "link=funding_deals.get_attribute(\"href\")\n",
    "print(link)\n",
    "driver.get(link)"
   ]
  },
  {
   "cell_type": "code",
   "execution_count": 10,
   "metadata": {},
   "outputs": [],
   "source": [
    "#creating empty list\n",
    "Date=[]\n",
    "Company_name=[]\n",
    "Industry_vertical=[]\n",
    "Sub_vertical=[]\n",
    "City=[]\n",
    "Investors_name=[]\n",
    "Investment_type=[]\n",
    "Amount=[]"
   ]
  },
  {
   "cell_type": "code",
   "execution_count": 11,
   "metadata": {},
   "outputs": [],
   "source": [
    "#scraping required datas\n",
    "date=driver.find_elements_by_xpath(\"//div[@class='dataTables_scrollBody']/table/tbody/tr/td[2]\")\n",
    "for i in date:\n",
    "    try:\n",
    "        Date.append(i.text)\n",
    "    except:\n",
    "        Date.append('-')\n",
    "        \n",
    "company_name=driver.find_elements_by_xpath(\"//div[@class='dataTables_scrollBody']/table/tbody/tr/td[3]\")\n",
    "for i in company_name:\n",
    "    try:\n",
    "        Company_name.append(i.text)\n",
    "    except:\n",
    "        Company_name.append('-')\n",
    "\n",
    "industry_vertical=driver.find_elements_by_xpath(\"//div[@class='dataTables_scrollBody']/table/tbody/tr/td[4]\")\n",
    "for i in industry_vertical:\n",
    "    try:\n",
    "        Industry_vertical.append(i.text)\n",
    "    except:\n",
    "        Industry_vertical.append('-')\n",
    "        \n",
    "sub_vertical=driver.find_elements_by_xpath(\"//div[@class='dataTables_scrollBody']/table/tbody/tr/td[5]\")\n",
    "for i in sub_vertical:\n",
    "    try:\n",
    "        Sub_vertical.append(i.text)\n",
    "    except:\n",
    "        Sub_vertical.append('-')\n",
    "        \n",
    "city=driver.find_elements_by_xpath(\"//div[@class='dataTables_scrollBody']/table/tbody/tr/td[2]\")\n",
    "for i in city:\n",
    "    try:\n",
    "        City.append(i.text)\n",
    "    except:\n",
    "        City.append('-')\n",
    "        \n",
    "investors_name=driver.find_elements_by_xpath(\"//div[@class='dataTables_scrollBody']/table/tbody/tr/td[3]\")\n",
    "for i in investors_name:\n",
    "    try:\n",
    "        Investors_name.append(i.text)\n",
    "    except:\n",
    "        Investors_name.append('-')\n",
    "\n",
    "investment_type=driver.find_elements_by_xpath(\"//div[@class='dataTables_scrollBody']/table/tbody/tr/td[4]\")\n",
    "for i in investment_type:\n",
    "    try:\n",
    "        Investment_type.append(i.text)\n",
    "    except:\n",
    "        Investment_type.append('-')\n",
    "        \n",
    "amount=driver.find_elements_by_xpath(\"//div[@class='dataTables_scrollBody']/table/tbody/tr/td[5]\")\n",
    "for i in amount:\n",
    "    try:\n",
    "        Amount.append(i.text)\n",
    "    except:\n",
    "        Amount.append('-')"
   ]
  },
  {
   "cell_type": "code",
   "execution_count": 19,
   "metadata": {},
   "outputs": [],
   "source": [
    "#creating empty list for serial_number\n",
    "serial=[]"
   ]
  },
  {
   "cell_type": "code",
   "execution_count": 20,
   "metadata": {},
   "outputs": [
    {
     "data": {
      "text/plain": [
       "['1',\n",
       " '2',\n",
       " '3',\n",
       " '4',\n",
       " '5',\n",
       " '6',\n",
       " '7',\n",
       " '8',\n",
       " '9',\n",
       " '10',\n",
       " '1',\n",
       " '2',\n",
       " '3',\n",
       " '4',\n",
       " '5',\n",
       " '6',\n",
       " '7',\n",
       " '8',\n",
       " '9',\n",
       " '10',\n",
       " '1',\n",
       " '2',\n",
       " '3',\n",
       " '4',\n",
       " '5',\n",
       " '6',\n",
       " '7',\n",
       " '8',\n",
       " '9',\n",
       " '10']"
      ]
     },
     "execution_count": 20,
     "metadata": {},
     "output_type": "execute_result"
    }
   ],
   "source": [
    "#Getting Serial No. for funding_all information\n",
    "sn=driver.find_elements_by_xpath(\"//table[@class='tablepress tablepress-id-48 dataTable no-footer']/tbody/tr/td[1]\")\n",
    "for i in sn:\n",
    "    serial.append(i.text)\n",
    "#updating serial number for second quarter(July 20 – September 20)\n",
    "sr_number=[]\n",
    "sr_number=serial*3\n",
    "sr_number"
   ]
  },
  {
   "cell_type": "code",
   "execution_count": 21,
   "metadata": {},
   "outputs": [
    {
     "data": {
      "text/html": [
       "<div>\n",
       "<style scoped>\n",
       "    .dataframe tbody tr th:only-of-type {\n",
       "        vertical-align: middle;\n",
       "    }\n",
       "\n",
       "    .dataframe tbody tr th {\n",
       "        vertical-align: top;\n",
       "    }\n",
       "\n",
       "    .dataframe thead th {\n",
       "        text-align: right;\n",
       "    }\n",
       "</style>\n",
       "<table border=\"1\" class=\"dataframe\">\n",
       "  <thead>\n",
       "    <tr style=\"text-align: right;\">\n",
       "      <th></th>\n",
       "      <th>Sr. No.</th>\n",
       "      <th>Date</th>\n",
       "      <th>Company_name</th>\n",
       "      <th>Industry_vertical</th>\n",
       "      <th>Sub_vertical</th>\n",
       "      <th>City</th>\n",
       "      <th>Investors_name</th>\n",
       "      <th>Investment_type</th>\n",
       "      <th>Amount</th>\n",
       "    </tr>\n",
       "  </thead>\n",
       "  <tbody>\n",
       "    <tr>\n",
       "      <th>0</th>\n",
       "      <td>1</td>\n",
       "      <td>09/09/2020</td>\n",
       "      <td>Qshala</td>\n",
       "      <td>EduTech</td>\n",
       "      <td>Online Curiosity Platform for Kids</td>\n",
       "      <td>09/09/2020</td>\n",
       "      <td>Qshala</td>\n",
       "      <td>EduTech</td>\n",
       "      <td>Online Curiosity Platform for Kids</td>\n",
       "    </tr>\n",
       "    <tr>\n",
       "      <th>1</th>\n",
       "      <td>2</td>\n",
       "      <td>02/09/2020</td>\n",
       "      <td>Winzo</td>\n",
       "      <td>Online Gaming</td>\n",
       "      <td>Online Gaming</td>\n",
       "      <td>02/09/2020</td>\n",
       "      <td>Winzo</td>\n",
       "      <td>Online Gaming</td>\n",
       "      <td>Online Gaming</td>\n",
       "    </tr>\n",
       "    <tr>\n",
       "      <th>2</th>\n",
       "      <td>3</td>\n",
       "      <td>09/09/2020</td>\n",
       "      <td>Hippo Video</td>\n",
       "      <td>Video Customer Experience(CX) Platform</td>\n",
       "      <td>Video Customer Experience(CX) Platform</td>\n",
       "      <td>09/09/2020</td>\n",
       "      <td>Hippo Video</td>\n",
       "      <td>Video Customer Experience(CX) Platform</td>\n",
       "      <td>Video Customer Experience(CX) Platform</td>\n",
       "    </tr>\n",
       "    <tr>\n",
       "      <th>3</th>\n",
       "      <td>4</td>\n",
       "      <td>07/09/2020</td>\n",
       "      <td>Melorra</td>\n",
       "      <td>E-commerce</td>\n",
       "      <td>Online Jewelry Store</td>\n",
       "      <td>07/09/2020</td>\n",
       "      <td>Melorra</td>\n",
       "      <td>E-commerce</td>\n",
       "      <td>Online Jewelry Store</td>\n",
       "    </tr>\n",
       "    <tr>\n",
       "      <th>4</th>\n",
       "      <td>5</td>\n",
       "      <td>07/09/2020</td>\n",
       "      <td>1mg</td>\n",
       "      <td>E-commerce</td>\n",
       "      <td>Online Pharmacy</td>\n",
       "      <td>07/09/2020</td>\n",
       "      <td>1mg</td>\n",
       "      <td>E-commerce</td>\n",
       "      <td>Online Pharmacy</td>\n",
       "    </tr>\n",
       "    <tr>\n",
       "      <th>5</th>\n",
       "      <td>6</td>\n",
       "      <td>31/08/2020</td>\n",
       "      <td>mfine</td>\n",
       "      <td>HealthTech</td>\n",
       "      <td>On-Demand Healthcare Services</td>\n",
       "      <td>31/08/2020</td>\n",
       "      <td>mfine</td>\n",
       "      <td>HealthTech</td>\n",
       "      <td>On-Demand Healthcare Services</td>\n",
       "    </tr>\n",
       "    <tr>\n",
       "      <th>6</th>\n",
       "      <td>7</td>\n",
       "      <td>31/08/2020</td>\n",
       "      <td>Apna</td>\n",
       "      <td>Human Resources</td>\n",
       "      <td>Recruitment Platform</td>\n",
       "      <td>31/08/2020</td>\n",
       "      <td>Apna</td>\n",
       "      <td>Human Resources</td>\n",
       "      <td>Recruitment Platform</td>\n",
       "    </tr>\n",
       "    <tr>\n",
       "      <th>7</th>\n",
       "      <td>8</td>\n",
       "      <td>03/09/2020</td>\n",
       "      <td>Railofy</td>\n",
       "      <td>Transportation</td>\n",
       "      <td>WL &amp; RAC protection platform</td>\n",
       "      <td>03/09/2020</td>\n",
       "      <td>Railofy</td>\n",
       "      <td>Transportation</td>\n",
       "      <td>WL &amp; RAC protection platform</td>\n",
       "    </tr>\n",
       "    <tr>\n",
       "      <th>8</th>\n",
       "      <td>9</td>\n",
       "      <td>15/08/2020</td>\n",
       "      <td>Practo</td>\n",
       "      <td>HealthTech</td>\n",
       "      <td>Health care and Wellness</td>\n",
       "      <td>15/08/2020</td>\n",
       "      <td>Practo</td>\n",
       "      <td>HealthTech</td>\n",
       "      <td>Health care and Wellness</td>\n",
       "    </tr>\n",
       "    <tr>\n",
       "      <th>9</th>\n",
       "      <td>10</td>\n",
       "      <td>13/08/2020</td>\n",
       "      <td>Medlife</td>\n",
       "      <td>E-commerce</td>\n",
       "      <td>Online Pharmacy</td>\n",
       "      <td>13/08/2020</td>\n",
       "      <td>Medlife</td>\n",
       "      <td>E-commerce</td>\n",
       "      <td>Online Pharmacy</td>\n",
       "    </tr>\n",
       "    <tr>\n",
       "      <th>10</th>\n",
       "      <td>1</td>\n",
       "      <td>13/08/2020</td>\n",
       "      <td>HungerBox</td>\n",
       "      <td>FoodTech</td>\n",
       "      <td>Online Food Delivery Service</td>\n",
       "      <td>13/08/2020</td>\n",
       "      <td>HungerBox</td>\n",
       "      <td>FoodTech</td>\n",
       "      <td>Online Food Delivery Service</td>\n",
       "    </tr>\n",
       "    <tr>\n",
       "      <th>11</th>\n",
       "      <td>2</td>\n",
       "      <td>04/08/2020</td>\n",
       "      <td>Dunzo</td>\n",
       "      <td>Hyper-local Logistics</td>\n",
       "      <td>Online Delivery Services</td>\n",
       "      <td>04/08/2020</td>\n",
       "      <td>Dunzo</td>\n",
       "      <td>Hyper-local Logistics</td>\n",
       "      <td>Online Delivery Services</td>\n",
       "    </tr>\n",
       "    <tr>\n",
       "      <th>12</th>\n",
       "      <td>3</td>\n",
       "      <td>11/08/2020</td>\n",
       "      <td>Terra.do</td>\n",
       "      <td>EduTech</td>\n",
       "      <td>Online Climate School, E-learning</td>\n",
       "      <td>11/08/2020</td>\n",
       "      <td>Terra.do</td>\n",
       "      <td>EduTech</td>\n",
       "      <td>Online Climate School, E-learning</td>\n",
       "    </tr>\n",
       "    <tr>\n",
       "      <th>13</th>\n",
       "      <td>4</td>\n",
       "      <td>12/08/2020</td>\n",
       "      <td>Classplus</td>\n",
       "      <td>EduTech</td>\n",
       "      <td>E-learning, Online Tutoring</td>\n",
       "      <td>12/08/2020</td>\n",
       "      <td>Classplus</td>\n",
       "      <td>EduTech</td>\n",
       "      <td>E-learning, Online Tutoring</td>\n",
       "    </tr>\n",
       "    <tr>\n",
       "      <th>14</th>\n",
       "      <td>5</td>\n",
       "      <td>14/08/2020</td>\n",
       "      <td>Niyo</td>\n",
       "      <td>FinTech</td>\n",
       "      <td>Financial Services</td>\n",
       "      <td>14/08/2020</td>\n",
       "      <td>Niyo</td>\n",
       "      <td>FinTech</td>\n",
       "      <td>Financial Services</td>\n",
       "    </tr>\n",
       "    <tr>\n",
       "      <th>15</th>\n",
       "      <td>6</td>\n",
       "      <td>10/08/2020</td>\n",
       "      <td>ZestMoney</td>\n",
       "      <td>FinTech</td>\n",
       "      <td>Financial Services</td>\n",
       "      <td>10/08/2020</td>\n",
       "      <td>ZestMoney</td>\n",
       "      <td>FinTech</td>\n",
       "      <td>Financial Services</td>\n",
       "    </tr>\n",
       "    <tr>\n",
       "      <th>16</th>\n",
       "      <td>7</td>\n",
       "      <td>07/08/2020</td>\n",
       "      <td>FreshToHome</td>\n",
       "      <td>E-commerce</td>\n",
       "      <td>Food Delivery</td>\n",
       "      <td>07/08/2020</td>\n",
       "      <td>FreshToHome</td>\n",
       "      <td>E-commerce</td>\n",
       "      <td>Food Delivery</td>\n",
       "    </tr>\n",
       "    <tr>\n",
       "      <th>17</th>\n",
       "      <td>8</td>\n",
       "      <td>13/08/2020</td>\n",
       "      <td>Eduvanz</td>\n",
       "      <td>FinTech</td>\n",
       "      <td>Financial Services</td>\n",
       "      <td>13/08/2020</td>\n",
       "      <td>Eduvanz</td>\n",
       "      <td>FinTech</td>\n",
       "      <td>Financial Services</td>\n",
       "    </tr>\n",
       "    <tr>\n",
       "      <th>18</th>\n",
       "      <td>9</td>\n",
       "      <td>15/07/2020</td>\n",
       "      <td>Flipkart</td>\n",
       "      <td>E-commerce</td>\n",
       "      <td>E-commerce</td>\n",
       "      <td>15/07/2020</td>\n",
       "      <td>Flipkart</td>\n",
       "      <td>E-commerce</td>\n",
       "      <td>E-commerce</td>\n",
       "    </tr>\n",
       "    <tr>\n",
       "      <th>19</th>\n",
       "      <td>10</td>\n",
       "      <td>16/07/2020</td>\n",
       "      <td>Vedantu</td>\n",
       "      <td>EduTech</td>\n",
       "      <td>Online Tutoring</td>\n",
       "      <td>16/07/2020</td>\n",
       "      <td>Vedantu</td>\n",
       "      <td>EduTech</td>\n",
       "      <td>Online Tutoring</td>\n",
       "    </tr>\n",
       "    <tr>\n",
       "      <th>20</th>\n",
       "      <td>1</td>\n",
       "      <td>16/07/2020</td>\n",
       "      <td>Crio</td>\n",
       "      <td>EduTech</td>\n",
       "      <td>Learning Platform for Developers</td>\n",
       "      <td>16/07/2020</td>\n",
       "      <td>Crio</td>\n",
       "      <td>EduTech</td>\n",
       "      <td>Learning Platform for Developers</td>\n",
       "    </tr>\n",
       "    <tr>\n",
       "      <th>21</th>\n",
       "      <td>2</td>\n",
       "      <td>14/07/2020</td>\n",
       "      <td>goDutch</td>\n",
       "      <td>FinTech</td>\n",
       "      <td>Group Payments</td>\n",
       "      <td>14/07/2020</td>\n",
       "      <td>goDutch</td>\n",
       "      <td>FinTech</td>\n",
       "      <td>Group Payments</td>\n",
       "    </tr>\n",
       "    <tr>\n",
       "      <th>22</th>\n",
       "      <td>3</td>\n",
       "      <td>13/07/2020</td>\n",
       "      <td>Mystifly</td>\n",
       "      <td>Airfare Marketplace</td>\n",
       "      <td>Ticketing, Airline Retailing, and Post-Ticketi...</td>\n",
       "      <td>13/07/2020</td>\n",
       "      <td>Mystifly</td>\n",
       "      <td>Airfare Marketplace</td>\n",
       "      <td>Ticketing, Airline Retailing, and Post-Ticketi...</td>\n",
       "    </tr>\n",
       "    <tr>\n",
       "      <th>23</th>\n",
       "      <td>4</td>\n",
       "      <td>09/07/2020</td>\n",
       "      <td>JetSynthesys</td>\n",
       "      <td>Gaming and Entertainment</td>\n",
       "      <td>Gaming and Entertainment</td>\n",
       "      <td>09/07/2020</td>\n",
       "      <td>JetSynthesys</td>\n",
       "      <td>Gaming and Entertainment</td>\n",
       "      <td>Gaming and Entertainment</td>\n",
       "    </tr>\n",
       "    <tr>\n",
       "      <th>24</th>\n",
       "      <td>5</td>\n",
       "      <td>10/07/2020</td>\n",
       "      <td>gigIndia</td>\n",
       "      <td>Marketplace</td>\n",
       "      <td>Crowd Sourcing, Freelance</td>\n",
       "      <td>10/07/2020</td>\n",
       "      <td>gigIndia</td>\n",
       "      <td>Marketplace</td>\n",
       "      <td>Crowd Sourcing, Freelance</td>\n",
       "    </tr>\n",
       "    <tr>\n",
       "      <th>25</th>\n",
       "      <td>6</td>\n",
       "      <td>15/07/2020</td>\n",
       "      <td>PumPumPum</td>\n",
       "      <td>Automotive Rental</td>\n",
       "      <td>Used Car-leasing platform</td>\n",
       "      <td>15/07/2020</td>\n",
       "      <td>PumPumPum</td>\n",
       "      <td>Automotive Rental</td>\n",
       "      <td>Used Car-leasing platform</td>\n",
       "    </tr>\n",
       "    <tr>\n",
       "      <th>26</th>\n",
       "      <td>7</td>\n",
       "      <td>14/07/2020</td>\n",
       "      <td>FLYX</td>\n",
       "      <td>OTT Player</td>\n",
       "      <td>Streaming Social Network</td>\n",
       "      <td>14/07/2020</td>\n",
       "      <td>FLYX</td>\n",
       "      <td>OTT Player</td>\n",
       "      <td>Streaming Social Network</td>\n",
       "    </tr>\n",
       "    <tr>\n",
       "      <th>27</th>\n",
       "      <td>8</td>\n",
       "      <td>13/07/2020</td>\n",
       "      <td>Open Appliances Pvt. Ltd.</td>\n",
       "      <td>Information Technology</td>\n",
       "      <td>Internet-of-Things Security Solutions</td>\n",
       "      <td>13/07/2020</td>\n",
       "      <td>Open Appliances Pvt. Ltd.</td>\n",
       "      <td>Information Technology</td>\n",
       "      <td>Internet-of-Things Security Solutions</td>\n",
       "    </tr>\n",
       "    <tr>\n",
       "      <th>28</th>\n",
       "      <td>9</td>\n",
       "      <td>18/06/2020</td>\n",
       "      <td>Drishti Technologies</td>\n",
       "      <td>Technology</td>\n",
       "      <td>Artificial Intelligence, Video Analytics</td>\n",
       "      <td>18/06/2020</td>\n",
       "      <td>Drishti Technologies</td>\n",
       "      <td>Technology</td>\n",
       "      <td>Artificial Intelligence, Video Analytics</td>\n",
       "    </tr>\n",
       "    <tr>\n",
       "      <th>29</th>\n",
       "      <td>10</td>\n",
       "      <td>17/06/2020</td>\n",
       "      <td>Stellaps</td>\n",
       "      <td>AgriTech</td>\n",
       "      <td>Farming, Dairy Management Apps</td>\n",
       "      <td>17/06/2020</td>\n",
       "      <td>Stellaps</td>\n",
       "      <td>AgriTech</td>\n",
       "      <td>Farming, Dairy Management Apps</td>\n",
       "    </tr>\n",
       "  </tbody>\n",
       "</table>\n",
       "</div>"
      ],
      "text/plain": [
       "   Sr. No.        Date               Company_name  \\\n",
       "0        1  09/09/2020                     Qshala   \n",
       "1        2  02/09/2020                      Winzo   \n",
       "2        3  09/09/2020                Hippo Video   \n",
       "3        4  07/09/2020                    Melorra   \n",
       "4        5  07/09/2020                        1mg   \n",
       "5        6  31/08/2020                      mfine   \n",
       "6        7  31/08/2020                       Apna   \n",
       "7        8  03/09/2020                    Railofy   \n",
       "8        9  15/08/2020                     Practo   \n",
       "9       10  13/08/2020                    Medlife   \n",
       "10       1  13/08/2020                  HungerBox   \n",
       "11       2  04/08/2020                      Dunzo   \n",
       "12       3  11/08/2020                   Terra.do   \n",
       "13       4  12/08/2020                  Classplus   \n",
       "14       5  14/08/2020                       Niyo   \n",
       "15       6  10/08/2020                  ZestMoney   \n",
       "16       7  07/08/2020                FreshToHome   \n",
       "17       8  13/08/2020                    Eduvanz   \n",
       "18       9  15/07/2020                   Flipkart   \n",
       "19      10  16/07/2020                    Vedantu   \n",
       "20       1  16/07/2020                       Crio   \n",
       "21       2  14/07/2020                    goDutch   \n",
       "22       3  13/07/2020                   Mystifly   \n",
       "23       4  09/07/2020               JetSynthesys   \n",
       "24       5  10/07/2020                   gigIndia   \n",
       "25       6  15/07/2020                  PumPumPum   \n",
       "26       7  14/07/2020                       FLYX   \n",
       "27       8  13/07/2020  Open Appliances Pvt. Ltd.   \n",
       "28       9  18/06/2020       Drishti Technologies   \n",
       "29      10  17/06/2020                   Stellaps   \n",
       "\n",
       "                         Industry_vertical  \\\n",
       "0                                  EduTech   \n",
       "1                            Online Gaming   \n",
       "2   Video Customer Experience(CX) Platform   \n",
       "3                               E-commerce   \n",
       "4                               E-commerce   \n",
       "5                               HealthTech   \n",
       "6                          Human Resources   \n",
       "7                           Transportation   \n",
       "8                               HealthTech   \n",
       "9                               E-commerce   \n",
       "10                                FoodTech   \n",
       "11                   Hyper-local Logistics   \n",
       "12                                 EduTech   \n",
       "13                                 EduTech   \n",
       "14                                 FinTech   \n",
       "15                                 FinTech   \n",
       "16                              E-commerce   \n",
       "17                                 FinTech   \n",
       "18                              E-commerce   \n",
       "19                                 EduTech   \n",
       "20                                 EduTech   \n",
       "21                                 FinTech   \n",
       "22                     Airfare Marketplace   \n",
       "23                Gaming and Entertainment   \n",
       "24                             Marketplace   \n",
       "25                       Automotive Rental   \n",
       "26                              OTT Player   \n",
       "27                  Information Technology   \n",
       "28                              Technology   \n",
       "29                                AgriTech   \n",
       "\n",
       "                                         Sub_vertical        City  \\\n",
       "0                  Online Curiosity Platform for Kids  09/09/2020   \n",
       "1                                       Online Gaming  02/09/2020   \n",
       "2              Video Customer Experience(CX) Platform  09/09/2020   \n",
       "3                                Online Jewelry Store  07/09/2020   \n",
       "4                                     Online Pharmacy  07/09/2020   \n",
       "5                       On-Demand Healthcare Services  31/08/2020   \n",
       "6                                Recruitment Platform  31/08/2020   \n",
       "7                        WL & RAC protection platform  03/09/2020   \n",
       "8                            Health care and Wellness  15/08/2020   \n",
       "9                                     Online Pharmacy  13/08/2020   \n",
       "10                       Online Food Delivery Service  13/08/2020   \n",
       "11                           Online Delivery Services  04/08/2020   \n",
       "12                  Online Climate School, E-learning  11/08/2020   \n",
       "13                        E-learning, Online Tutoring  12/08/2020   \n",
       "14                                 Financial Services  14/08/2020   \n",
       "15                                 Financial Services  10/08/2020   \n",
       "16                                      Food Delivery  07/08/2020   \n",
       "17                                 Financial Services  13/08/2020   \n",
       "18                                         E-commerce  15/07/2020   \n",
       "19                                    Online Tutoring  16/07/2020   \n",
       "20                   Learning Platform for Developers  16/07/2020   \n",
       "21                                     Group Payments  14/07/2020   \n",
       "22  Ticketing, Airline Retailing, and Post-Ticketi...  13/07/2020   \n",
       "23                           Gaming and Entertainment  09/07/2020   \n",
       "24                          Crowd Sourcing, Freelance  10/07/2020   \n",
       "25                          Used Car-leasing platform  15/07/2020   \n",
       "26                           Streaming Social Network  14/07/2020   \n",
       "27              Internet-of-Things Security Solutions  13/07/2020   \n",
       "28           Artificial Intelligence, Video Analytics  18/06/2020   \n",
       "29                     Farming, Dairy Management Apps  17/06/2020   \n",
       "\n",
       "               Investors_name                         Investment_type  \\\n",
       "0                      Qshala                                 EduTech   \n",
       "1                       Winzo                           Online Gaming   \n",
       "2                 Hippo Video  Video Customer Experience(CX) Platform   \n",
       "3                     Melorra                              E-commerce   \n",
       "4                         1mg                              E-commerce   \n",
       "5                       mfine                              HealthTech   \n",
       "6                        Apna                         Human Resources   \n",
       "7                     Railofy                          Transportation   \n",
       "8                      Practo                              HealthTech   \n",
       "9                     Medlife                              E-commerce   \n",
       "10                  HungerBox                                FoodTech   \n",
       "11                      Dunzo                   Hyper-local Logistics   \n",
       "12                   Terra.do                                 EduTech   \n",
       "13                  Classplus                                 EduTech   \n",
       "14                       Niyo                                 FinTech   \n",
       "15                  ZestMoney                                 FinTech   \n",
       "16                FreshToHome                              E-commerce   \n",
       "17                    Eduvanz                                 FinTech   \n",
       "18                   Flipkart                              E-commerce   \n",
       "19                    Vedantu                                 EduTech   \n",
       "20                       Crio                                 EduTech   \n",
       "21                    goDutch                                 FinTech   \n",
       "22                   Mystifly                     Airfare Marketplace   \n",
       "23               JetSynthesys                Gaming and Entertainment   \n",
       "24                   gigIndia                             Marketplace   \n",
       "25                  PumPumPum                       Automotive Rental   \n",
       "26                       FLYX                              OTT Player   \n",
       "27  Open Appliances Pvt. Ltd.                  Information Technology   \n",
       "28       Drishti Technologies                              Technology   \n",
       "29                   Stellaps                                AgriTech   \n",
       "\n",
       "                                               Amount  \n",
       "0                  Online Curiosity Platform for Kids  \n",
       "1                                       Online Gaming  \n",
       "2              Video Customer Experience(CX) Platform  \n",
       "3                                Online Jewelry Store  \n",
       "4                                     Online Pharmacy  \n",
       "5                       On-Demand Healthcare Services  \n",
       "6                                Recruitment Platform  \n",
       "7                        WL & RAC protection platform  \n",
       "8                            Health care and Wellness  \n",
       "9                                     Online Pharmacy  \n",
       "10                       Online Food Delivery Service  \n",
       "11                           Online Delivery Services  \n",
       "12                  Online Climate School, E-learning  \n",
       "13                        E-learning, Online Tutoring  \n",
       "14                                 Financial Services  \n",
       "15                                 Financial Services  \n",
       "16                                      Food Delivery  \n",
       "17                                 Financial Services  \n",
       "18                                         E-commerce  \n",
       "19                                    Online Tutoring  \n",
       "20                   Learning Platform for Developers  \n",
       "21                                     Group Payments  \n",
       "22  Ticketing, Airline Retailing, and Post-Ticketi...  \n",
       "23                           Gaming and Entertainment  \n",
       "24                          Crowd Sourcing, Freelance  \n",
       "25                          Used Car-leasing platform  \n",
       "26                           Streaming Social Network  \n",
       "27              Internet-of-Things Security Solutions  \n",
       "28           Artificial Intelligence, Video Analytics  \n",
       "29                     Farming, Dairy Management Apps  "
      ]
     },
     "execution_count": 21,
     "metadata": {},
     "output_type": "execute_result"
    }
   ],
   "source": [
    "#Saving our answer in a DataFrame using Pandas\n",
    "funding_all=pd.DataFrame({})\n",
    "funding_all['Sr. No.']=sr_number\n",
    "funding_all['Date']=Date[57:87]\n",
    "funding_all['Company_name']=Company_name[57:87]\n",
    "funding_all['Industry_vertical']=Industry_vertical[57:87]\n",
    "funding_all['Sub_vertical']=Sub_vertical[57:87]\n",
    "funding_all['City']=City[57:87]\n",
    "funding_all['Investors_name']=Investors_name[57:87]\n",
    "funding_all['Investment_type']=Investment_type[57:87]\n",
    "funding_all['Amount']=Amount[57:87]\n",
    "funding_all"
   ]
  },
  {
   "cell_type": "code",
   "execution_count": 22,
   "metadata": {},
   "outputs": [],
   "source": [
    "driver.close()"
   ]
  },
  {
   "cell_type": "markdown",
   "metadata": {},
   "source": [
    "*******************************************************************************************************************************************************************************************************************************************Completed*****************************************************************************************************************************************************************************"
   ]
  },
  {
   "cell_type": "markdown",
   "metadata": {},
   "source": [
    "# 7. Write a program to scrap all the available details of top 10 gaming laptops from digit.in.\n",
    "\n",
    "Ans: Solution is as:-"
   ]
  },
  {
   "cell_type": "code",
   "execution_count": 34,
   "metadata": {},
   "outputs": [],
   "source": [
    "#Let's first connect to the web driver\n",
    "driver=webdriver.Chrome(\"chromedriver.exe\")"
   ]
  },
  {
   "cell_type": "code",
   "execution_count": 35,
   "metadata": {},
   "outputs": [],
   "source": [
    "#opening \"https://www.digit.in/\"\n",
    "url=\"https://www.digit.in/\"\n",
    "driver.get(url)"
   ]
  },
  {
   "cell_type": "code",
   "execution_count": 36,
   "metadata": {},
   "outputs": [
    {
     "data": {
      "text/plain": [
       "<selenium.webdriver.remote.webelement.WebElement (session=\"1b858c0fa0261620c1ca5d32f2c471b9\", element=\"27559536-ea74-4e94-a19d-6bc8dc64c1b0\")>"
      ]
     },
     "execution_count": 36,
     "metadata": {},
     "output_type": "execute_result"
    }
   ],
   "source": [
    "#finding element for product search bar\n",
    "search_prod=driver.find_element_by_xpath('//div[@class=\"search\"]')\n",
    "search_prod"
   ]
  },
  {
   "cell_type": "code",
   "execution_count": 37,
   "metadata": {},
   "outputs": [],
   "source": [
    "#opening search bar by clicking\n",
    "search_prod.click()"
   ]
  },
  {
   "cell_type": "code",
   "execution_count": 38,
   "metadata": {},
   "outputs": [
    {
     "data": {
      "text/plain": [
       "<selenium.webdriver.remote.webelement.WebElement (session=\"1b858c0fa0261620c1ca5d32f2c471b9\", element=\"62780d50-911e-4c41-9918-fc586a86aedf\")>"
      ]
     },
     "execution_count": 38,
     "metadata": {},
     "output_type": "execute_result"
    }
   ],
   "source": [
    "#finding serach place info\n",
    "search_place=driver.find_element_by_id(\"globalPageSearchText\")\n",
    "search_place"
   ]
  },
  {
   "cell_type": "code",
   "execution_count": 39,
   "metadata": {},
   "outputs": [],
   "source": [
    "#Searching for “top 10 gaming laptops” in Search place\n",
    "from selenium.webdriver.common.keys import Keys\n",
    "search_place.send_keys(\"top 10 gaming laptops\")\n",
    "search_place.send_keys(Keys.ENTER)"
   ]
  },
  {
   "cell_type": "code",
   "execution_count": 40,
   "metadata": {},
   "outputs": [],
   "source": [
    "#fetching top 10 gaming laptops information from page\n",
    "top_laptop=driver.find_element_by_id(\"content_top10\")\n",
    "top_laptop.click()"
   ]
  },
  {
   "cell_type": "code",
   "execution_count": 41,
   "metadata": {},
   "outputs": [],
   "source": [
    "#showing best gaming laptops in india\n",
    "best_10=driver.find_element_by_xpath(\"//*[text()='Best Gaming Laptops in India']\")\n",
    "best_10.click()"
   ]
  },
  {
   "cell_type": "code",
   "execution_count": 54,
   "metadata": {},
   "outputs": [],
   "source": [
    "#Creating empty Lists so that we can store data in these lists while scraping\n",
    "Laptop_model=[]\n",
    "Laptop_Processor=[]\n",
    "Laptop_Memory=[]\n",
    "OS_installed=[]\n",
    "Display_size=[]\n",
    "Seller_info=[]\n",
    "Price_list=[]\n",
    "Graphics_Processor=[]\n",
    "Weight_info=[]\n",
    "Dimension_info=[]"
   ]
  },
  {
   "cell_type": "code",
   "execution_count": 55,
   "metadata": {},
   "outputs": [],
   "source": [
    "#Extracting model,processor,memory,os,Display,Seller & Price info \n",
    "Laptop_brand=driver.find_elements_by_xpath(\"//div[@class='right-container']/div/a/h3\")\n",
    "for i in Laptop_brand:\n",
    "    try:\n",
    "        brandinfo=i.text\n",
    "        Laptop_model.append(brandinfo)\n",
    "    except NoSuchElementException   as e:\n",
    "        Laptop_model.append('-')\n",
    "        \n",
    "spec_info=driver.find_elements_by_xpath('//div[@class=\"Specs-Wrap\"]/ul')\n",
    "for j in spec_info:\n",
    "    laptop_details=j.find_elements_by_xpath('.//div[@class=\"value\"]')\n",
    "    try:\n",
    "        Laptop_Processor.append(laptop_details[2].text)\n",
    "        Laptop_Memory.append(laptop_details[3].text)\n",
    "        OS_installed.append(laptop_details[0].text)\n",
    "        Display_size.append(laptop_details[1].text)\n",
    "    except NoSuchElementException   as e:\n",
    "        Laptop_Processor.append('-')\n",
    "        Laptop_Memory.append('-')\n",
    "        OS_installed.append('-')\n",
    "        Display_size.append('-')\n",
    "        \n",
    "Laptop_sell=driver.find_elements_by_xpath('//td[@class=\"smmerchant\"]')\n",
    "for k in Laptop_sell:\n",
    "    try:\n",
    "        Seller_info.append(k.text)\n",
    "    except NoSuchElementException   as e:\n",
    "        Seller_info.append('-')\n",
    "    \n",
    "Laptop_price=driver.find_elements_by_xpath('//td[@class=\"smprice\"]')\n",
    "for l in Laptop_price:\n",
    "    try:\n",
    "        Price_list.append(l.text)\n",
    "    except NoSuchElementException   as e:\n",
    "        Price_list.append('-') "
   ]
  },
  {
   "cell_type": "code",
   "execution_count": 56,
   "metadata": {},
   "outputs": [
    {
     "data": {
      "text/plain": [
       "['Intel® UHD Graphics 630',\n",
       " 'NA',\n",
       " 'NVIDIA® GeForce RTX™ 3070',\n",
       " 'NVIDIA GeForce RTX 2060',\n",
       " 'NVIDIA® GeForce® GTX 1650 4GB',\n",
       " 'NVIDIA GeForce RTX 2070 Max-Q',\n",
       " 'NVIDIA® GeForce® GTX 1650']"
      ]
     },
     "execution_count": 56,
     "metadata": {},
     "output_type": "execute_result"
    }
   ],
   "source": [
    "#Extracting graphic_processor info\n",
    "graphic_pro=driver.find_elements_by_xpath(\"//div[@class='Spcs-details']/table/tbody/tr[9]/td[3]\")\n",
    "for i in graphic_pro :\n",
    "    Graphics_Processor.append(i.text)\n",
    "Graphics_Processor"
   ]
  },
  {
   "cell_type": "code",
   "execution_count": 57,
   "metadata": {},
   "outputs": [
    {
     "data": {
      "text/plain": [
       "['4.1', 'NA', '2.30', '1.65', '2.3', '2.4', '2.15']"
      ]
     },
     "execution_count": 57,
     "metadata": {},
     "output_type": "execute_result"
    }
   ],
   "source": [
    "#Extracting Weight_info\n",
    "Laptop_weight=driver.find_elements_by_xpath(\"//div[@class='Spcs-details']/table/tbody/tr[7]/td[3]\")\n",
    "for i in Laptop_weight :\n",
    "    Weight_info.append(i.text)\n",
    "Weight_info"
   ]
  },
  {
   "cell_type": "code",
   "execution_count": 58,
   "metadata": {},
   "outputs": [
    {
     "data": {
      "text/plain": [
       "['27.65 x 402.6 x 319.14',\n",
       " 'NA',\n",
       " '35.4 x 25.9 x 2.26',\n",
       " '32.5 x 22.1 x 1.8',\n",
       " '363.06 x 259.61 x 23.57',\n",
       " '268.30 x 360.00 x 20.90',\n",
       " '2.29 x 36.3 x 25.4']"
      ]
     },
     "execution_count": 58,
     "metadata": {},
     "output_type": "execute_result"
    }
   ],
   "source": [
    "#Extracting Dimension_info\n",
    "dim1=driver.find_elements_by_xpath(\"//div[@class='Spcs-details']/table/tbody/tr[8]/td[3]\")\n",
    "for i in dim1:\n",
    "    Dimension_info.append(i.text)\n",
    "Dimension_info"
   ]
  },
  {
   "cell_type": "code",
   "execution_count": 59,
   "metadata": {},
   "outputs": [
    {
     "data": {
      "text/html": [
       "<div>\n",
       "<style scoped>\n",
       "    .dataframe tbody tr th:only-of-type {\n",
       "        vertical-align: middle;\n",
       "    }\n",
       "\n",
       "    .dataframe tbody tr th {\n",
       "        vertical-align: top;\n",
       "    }\n",
       "\n",
       "    .dataframe thead th {\n",
       "        text-align: right;\n",
       "    }\n",
       "</style>\n",
       "<table border=\"1\" class=\"dataframe\">\n",
       "  <thead>\n",
       "    <tr style=\"text-align: right;\">\n",
       "      <th></th>\n",
       "      <th>Laptop_model</th>\n",
       "      <th>Laptop_Processor</th>\n",
       "      <th>Laptop_Memory</th>\n",
       "      <th>Laptop_OS</th>\n",
       "      <th>Laptop_Display</th>\n",
       "      <th>Laptop_Seller</th>\n",
       "      <th>Laptop_Price</th>\n",
       "      <th>Graphics_Processor</th>\n",
       "      <th>Weight_info</th>\n",
       "      <th>Dimension_info</th>\n",
       "    </tr>\n",
       "  </thead>\n",
       "  <tbody>\n",
       "    <tr>\n",
       "      <th>0</th>\n",
       "      <td>ALIENWARE AREA 51M R2</td>\n",
       "      <td>10TH GENERATION INTEL® CORE™ I7-10700 | 2.90 GHZ</td>\n",
       "      <td>1 TB SSD/16 GBGB DDR4</td>\n",
       "      <td>WINDOWS 10 HOME</td>\n",
       "      <td>17.3\" (1920 X 1080)</td>\n",
       "      <td>N/A</td>\n",
       "      <td>N/A</td>\n",
       "      <td>Intel® UHD Graphics 630</td>\n",
       "      <td>4.1</td>\n",
       "      <td>27.65 x 402.6 x 319.14</td>\n",
       "    </tr>\n",
       "    <tr>\n",
       "      <th>1</th>\n",
       "      <td>ALIENWARE M15 R3</td>\n",
       "      <td>10TH GENERATION INTEL® CORE™ I9-10980HK | NA</td>\n",
       "      <td>1 TB SSD/16 GBGB DDR4</td>\n",
       "      <td>WINDOWS 10 HOME</td>\n",
       "      <td>15.6\" (3840 X 2160)</td>\n",
       "      <td>N/A</td>\n",
       "      <td>₹341990</td>\n",
       "      <td>NA</td>\n",
       "      <td>NA</td>\n",
       "      <td>NA</td>\n",
       "    </tr>\n",
       "    <tr>\n",
       "      <th>2</th>\n",
       "      <td>ASUS ROG STRIX SCAR 15</td>\n",
       "      <td>AMD RYZEN™ 9 5900HX | 3.3 GHZ</td>\n",
       "      <td>1 TB SSD/16 GBGB DDR4</td>\n",
       "      <td>WINDOWS 10 HOME</td>\n",
       "      <td>15.6\" (1920 X 1080)</td>\n",
       "      <td>N/A</td>\n",
       "      <td>N/A</td>\n",
       "      <td>NVIDIA® GeForce RTX™ 3070</td>\n",
       "      <td>2.30</td>\n",
       "      <td>35.4 x 25.9 x 2.26</td>\n",
       "    </tr>\n",
       "    <tr>\n",
       "      <th>3</th>\n",
       "      <td>ASUS ROG ZEPHYRUS G14</td>\n",
       "      <td>AMD 3RD GENERATION RYZEN 9 | 3.3 GHZ</td>\n",
       "      <td>1 TB SSD/16 GBGB DDR4</td>\n",
       "      <td>WINDOWS 10 HOME</td>\n",
       "      <td>14\" (1920 X 1080)</td>\n",
       "      <td>amazon</td>\n",
       "      <td>₹164990</td>\n",
       "      <td>NVIDIA GeForce RTX 2060</td>\n",
       "      <td>1.65</td>\n",
       "      <td>32.5 x 22.1 x 1.8</td>\n",
       "    </tr>\n",
       "    <tr>\n",
       "      <th>4</th>\n",
       "      <td>LENOVO LEGION 5I</td>\n",
       "      <td>10TH GENERATION INTEL® CORE™ I5-10300H | 2.50 GHZ</td>\n",
       "      <td>1 TB SSD/16 GBGB DDR4</td>\n",
       "      <td>WINDOWS 10 PRO</td>\n",
       "      <td>15.6\" (1920 X 1080)</td>\n",
       "      <td>N/A</td>\n",
       "      <td>₹71990</td>\n",
       "      <td>NVIDIA® GeForce® GTX 1650 4GB</td>\n",
       "      <td>2.3</td>\n",
       "      <td>363.06 x 259.61 x 23.57</td>\n",
       "    </tr>\n",
       "    <tr>\n",
       "      <th>5</th>\n",
       "      <td>ASUS ROG ZEPHYRUS DUO 15</td>\n",
       "      <td>INTEL CORE I7 10TH GEN 10875H | NA</td>\n",
       "      <td>512 GB SSD/4 GBGB DDR4</td>\n",
       "      <td>WINDOWS 10</td>\n",
       "      <td>15.6\" (3840 X 1100)</td>\n",
       "      <td>amazon</td>\n",
       "      <td>₹199990</td>\n",
       "      <td>NVIDIA GeForce RTX 2070 Max-Q</td>\n",
       "      <td>2.4</td>\n",
       "      <td>268.30 x 360.00 x 20.90</td>\n",
       "    </tr>\n",
       "    <tr>\n",
       "      <th>6</th>\n",
       "      <td>ACER ASPIRE 7 GAMING</td>\n",
       "      <td>AMD RYZEN™ 5-5500U HEXA-CORE | NA</td>\n",
       "      <td>512 GB SSD/8 GBGB DDR4</td>\n",
       "      <td>WINDOWS 10 HOME</td>\n",
       "      <td>15.6\" (1920 X 1080)</td>\n",
       "      <td>N/A</td>\n",
       "      <td>₹56990</td>\n",
       "      <td>NVIDIA® GeForce® GTX 1650</td>\n",
       "      <td>2.15</td>\n",
       "      <td>2.29 x 36.3 x 25.4</td>\n",
       "    </tr>\n",
       "  </tbody>\n",
       "</table>\n",
       "</div>"
      ],
      "text/plain": [
       "               Laptop_model  \\\n",
       "0     ALIENWARE AREA 51M R2   \n",
       "1          ALIENWARE M15 R3   \n",
       "2    ASUS ROG STRIX SCAR 15   \n",
       "3     ASUS ROG ZEPHYRUS G14   \n",
       "4          LENOVO LEGION 5I   \n",
       "5  ASUS ROG ZEPHYRUS DUO 15   \n",
       "6      ACER ASPIRE 7 GAMING   \n",
       "\n",
       "                                    Laptop_Processor           Laptop_Memory  \\\n",
       "0   10TH GENERATION INTEL® CORE™ I7-10700 | 2.90 GHZ   1 TB SSD/16 GBGB DDR4   \n",
       "1       10TH GENERATION INTEL® CORE™ I9-10980HK | NA   1 TB SSD/16 GBGB DDR4   \n",
       "2                      AMD RYZEN™ 9 5900HX | 3.3 GHZ   1 TB SSD/16 GBGB DDR4   \n",
       "3               AMD 3RD GENERATION RYZEN 9 | 3.3 GHZ   1 TB SSD/16 GBGB DDR4   \n",
       "4  10TH GENERATION INTEL® CORE™ I5-10300H | 2.50 GHZ   1 TB SSD/16 GBGB DDR4   \n",
       "5                 INTEL CORE I7 10TH GEN 10875H | NA  512 GB SSD/4 GBGB DDR4   \n",
       "6                  AMD RYZEN™ 5-5500U HEXA-CORE | NA  512 GB SSD/8 GBGB DDR4   \n",
       "\n",
       "         Laptop_OS       Laptop_Display Laptop_Seller Laptop_Price  \\\n",
       "0  WINDOWS 10 HOME  17.3\" (1920 X 1080)           N/A          N/A   \n",
       "1  WINDOWS 10 HOME  15.6\" (3840 X 2160)           N/A      ₹341990   \n",
       "2  WINDOWS 10 HOME  15.6\" (1920 X 1080)           N/A          N/A   \n",
       "3  WINDOWS 10 HOME    14\" (1920 X 1080)        amazon      ₹164990   \n",
       "4   WINDOWS 10 PRO  15.6\" (1920 X 1080)           N/A       ₹71990   \n",
       "5       WINDOWS 10  15.6\" (3840 X 1100)        amazon      ₹199990   \n",
       "6  WINDOWS 10 HOME  15.6\" (1920 X 1080)           N/A       ₹56990   \n",
       "\n",
       "              Graphics_Processor Weight_info           Dimension_info  \n",
       "0        Intel® UHD Graphics 630         4.1   27.65 x 402.6 x 319.14  \n",
       "1                             NA          NA                       NA  \n",
       "2      NVIDIA® GeForce RTX™ 3070        2.30       35.4 x 25.9 x 2.26  \n",
       "3        NVIDIA GeForce RTX 2060        1.65        32.5 x 22.1 x 1.8  \n",
       "4  NVIDIA® GeForce® GTX 1650 4GB         2.3  363.06 x 259.61 x 23.57  \n",
       "5  NVIDIA GeForce RTX 2070 Max-Q         2.4  268.30 x 360.00 x 20.90  \n",
       "6      NVIDIA® GeForce® GTX 1650        2.15       2.29 x 36.3 x 25.4  "
      ]
     },
     "execution_count": 59,
     "metadata": {},
     "output_type": "execute_result"
    }
   ],
   "source": [
    "#Saving our answer in a DataFrame using Pandas\n",
    "top_laptops=pd.DataFrame({})\n",
    "top_laptops['Laptop_model']=Laptop_model[0:10]\n",
    "top_laptops['Laptop_Processor']=Laptop_Processor[0:10]\n",
    "top_laptops['Laptop_Memory']=Laptop_Memory[0:10]\n",
    "top_laptops['Laptop_OS']=OS_installed[0:10]\n",
    "top_laptops['Laptop_Display']=Display_size[0:10]\n",
    "top_laptops['Laptop_Seller']=Seller_info[0:10]\n",
    "top_laptops['Laptop_Price']=Price_list[0:10]\n",
    "top_laptops['Graphics_Processor']=Graphics_Processor[0:10]\n",
    "top_laptops['Weight_info']=Weight_info[0:10]\n",
    "top_laptops['Dimension_info']=Dimension_info[0:10]\n",
    "top_laptops"
   ]
  },
  {
   "cell_type": "markdown",
   "metadata": {},
   "source": [
    "On https://www.digit.in/top-products/best-gaming-laptops-40.html website we have information about only 7 laptops under top & best gaming category."
   ]
  },
  {
   "cell_type": "code",
   "execution_count": 60,
   "metadata": {},
   "outputs": [],
   "source": [
    "#Closing driver\n",
    "driver.close()"
   ]
  },
  {
   "cell_type": "markdown",
   "metadata": {},
   "source": [
    "************************************************************************************************************************************************************************Completed*********************************************************************************************************************************************************"
   ]
  },
  {
   "cell_type": "markdown",
   "metadata": {},
   "source": [
    "# ||Happy Ending||"
   ]
  }
 ],
 "metadata": {
  "kernelspec": {
   "display_name": "Python 3",
   "language": "python",
   "name": "python3"
  },
  "language_info": {
   "codemirror_mode": {
    "name": "ipython",
    "version": 3
   },
   "file_extension": ".py",
   "mimetype": "text/x-python",
   "name": "python",
   "nbconvert_exporter": "python",
   "pygments_lexer": "ipython3",
   "version": "3.8.5"
  }
 },
 "nbformat": 4,
 "nbformat_minor": 4
}
