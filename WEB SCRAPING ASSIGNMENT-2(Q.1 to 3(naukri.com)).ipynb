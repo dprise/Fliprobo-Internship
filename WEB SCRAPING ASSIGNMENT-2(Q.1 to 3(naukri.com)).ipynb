{
 "cells": [
  {
   "cell_type": "code",
   "execution_count": 1,
   "metadata": {},
   "outputs": [],
   "source": [
    "#Importing the required Libraries for selenium\n",
    "import selenium\n",
    "import pandas as pd\n",
    "from selenium import webdriver"
   ]
  },
  {
   "cell_type": "markdown",
   "metadata": {},
   "source": [
    "# Q1: Write a python program to scrape data for “Data Analyst” Job position in “Bangalore” location. You have to scrape the job-title, job-location, company_name, experience_required. You have to scrape first 10 jobs data.\n",
    "    \n",
    "Ans: Solution is as:-"
   ]
  },
  {
   "cell_type": "code",
   "execution_count": 2,
   "metadata": {},
   "outputs": [],
   "source": [
    "#Let's first connect to the web driver\n",
    "driver=webdriver.Chrome(\"chromedriver.exe\")"
   ]
  },
  {
   "cell_type": "code",
   "execution_count": 3,
   "metadata": {},
   "outputs": [],
   "source": [
    "#Opening webpage https://www.naukri.com/\n",
    "url=\"https://www.naukri.com/\"\n",
    "driver.get(url)"
   ]
  },
  {
   "cell_type": "code",
   "execution_count": 4,
   "metadata": {},
   "outputs": [
    {
     "data": {
      "text/plain": [
       "<selenium.webdriver.remote.webelement.WebElement (session=\"bf7fa510a2519b12dff750c601a9ba3f\", element=\"09ab0662-92b6-42b5-8009-7cf93d4917f6\")>"
      ]
     },
     "execution_count": 4,
     "metadata": {},
     "output_type": "execute_result"
    }
   ],
   "source": [
    "#finding element for job search bar\n",
    "search_job=driver.find_element_by_id('qsb-keyword-sugg')\n",
    "search_job"
   ]
  },
  {
   "cell_type": "code",
   "execution_count": 5,
   "metadata": {},
   "outputs": [],
   "source": [
    "#Searching for Data Analyst in Search bar\n",
    "search_job.send_keys(\"Data Analyst\")"
   ]
  },
  {
   "cell_type": "code",
   "execution_count": 6,
   "metadata": {},
   "outputs": [],
   "source": [
    "#finding element for job location bar\n",
    "search_loc=driver.find_element_by_id(\"qsb-location-sugg\")\n",
    "search_loc.send_keys(\"Bangalore\")"
   ]
  },
  {
   "cell_type": "code",
   "execution_count": 8,
   "metadata": {},
   "outputs": [],
   "source": [
    "#Clicking the Search Button using Xpath function\n",
    "search_btn=driver.find_element_by_xpath(\"//button[@class='btn']\")\n",
    "search_btn.click()"
   ]
  },
  {
   "cell_type": "code",
   "execution_count": 9,
   "metadata": {},
   "outputs": [],
   "source": [
    "#Creating empty Lists so that we can store data in these lists while scraping\n",
    "job_titles=[]\n",
    "company_names=[]\n",
    "locations_list=[]\n",
    "experience_list=[]"
   ]
  },
  {
   "cell_type": "code",
   "execution_count": 10,
   "metadata": {},
   "outputs": [
    {
     "data": {
      "text/plain": [
       "[<selenium.webdriver.remote.webelement.WebElement (session=\"bf7fa510a2519b12dff750c601a9ba3f\", element=\"450ef586-ba0b-4322-93d0-ebe2e7900d5e\")>,\n",
       " <selenium.webdriver.remote.webelement.WebElement (session=\"bf7fa510a2519b12dff750c601a9ba3f\", element=\"ba2e286b-eee4-4128-8fa5-c4793e8a19a0\")>,\n",
       " <selenium.webdriver.remote.webelement.WebElement (session=\"bf7fa510a2519b12dff750c601a9ba3f\", element=\"75fca8c1-9e9b-47b2-af54-a32af2da3570\")>,\n",
       " <selenium.webdriver.remote.webelement.WebElement (session=\"bf7fa510a2519b12dff750c601a9ba3f\", element=\"80f7baa3-95cc-40f9-a698-39af5191efb2\")>,\n",
       " <selenium.webdriver.remote.webelement.WebElement (session=\"bf7fa510a2519b12dff750c601a9ba3f\", element=\"4b33efb4-9478-46cb-a579-67f394ba8c7b\")>,\n",
       " <selenium.webdriver.remote.webelement.WebElement (session=\"bf7fa510a2519b12dff750c601a9ba3f\", element=\"7cc2693d-9e14-4775-beac-b75aa8844a93\")>,\n",
       " <selenium.webdriver.remote.webelement.WebElement (session=\"bf7fa510a2519b12dff750c601a9ba3f\", element=\"fbee594b-6220-46ac-b48d-d3778a3e380a\")>,\n",
       " <selenium.webdriver.remote.webelement.WebElement (session=\"bf7fa510a2519b12dff750c601a9ba3f\", element=\"026c53e9-6f9a-4827-8d9b-a53c85dc4838\")>,\n",
       " <selenium.webdriver.remote.webelement.WebElement (session=\"bf7fa510a2519b12dff750c601a9ba3f\", element=\"d0659c41-d6c4-4d63-9255-5e674d6b909b\")>,\n",
       " <selenium.webdriver.remote.webelement.WebElement (session=\"bf7fa510a2519b12dff750c601a9ba3f\", element=\"90a53fa2-378a-417a-900b-640809da4f27\")>,\n",
       " <selenium.webdriver.remote.webelement.WebElement (session=\"bf7fa510a2519b12dff750c601a9ba3f\", element=\"b9ed5f73-390a-4924-b883-582404d36f3a\")>,\n",
       " <selenium.webdriver.remote.webelement.WebElement (session=\"bf7fa510a2519b12dff750c601a9ba3f\", element=\"57636aad-2f95-4699-9d4b-b7a4975872d1\")>,\n",
       " <selenium.webdriver.remote.webelement.WebElement (session=\"bf7fa510a2519b12dff750c601a9ba3f\", element=\"2fbe2229-e080-406c-abfa-56b749980533\")>,\n",
       " <selenium.webdriver.remote.webelement.WebElement (session=\"bf7fa510a2519b12dff750c601a9ba3f\", element=\"54287d8d-db5e-4368-b27f-00acacf60ad7\")>,\n",
       " <selenium.webdriver.remote.webelement.WebElement (session=\"bf7fa510a2519b12dff750c601a9ba3f\", element=\"ce1b4a1a-594a-4bc6-b76a-1100bea507fe\")>,\n",
       " <selenium.webdriver.remote.webelement.WebElement (session=\"bf7fa510a2519b12dff750c601a9ba3f\", element=\"4df3125c-0478-468c-bdde-5acc6437acec\")>,\n",
       " <selenium.webdriver.remote.webelement.WebElement (session=\"bf7fa510a2519b12dff750c601a9ba3f\", element=\"e543cdbc-20ab-4d49-804c-be35e0f7f485\")>,\n",
       " <selenium.webdriver.remote.webelement.WebElement (session=\"bf7fa510a2519b12dff750c601a9ba3f\", element=\"f81cb304-a45c-4efb-b3e0-63daccf460f5\")>,\n",
       " <selenium.webdriver.remote.webelement.WebElement (session=\"bf7fa510a2519b12dff750c601a9ba3f\", element=\"81ffa0ae-00a5-4920-a82f-5d6a19daf5ef\")>,\n",
       " <selenium.webdriver.remote.webelement.WebElement (session=\"bf7fa510a2519b12dff750c601a9ba3f\", element=\"f00f7a8b-cc08-441f-91b0-8fedc40eb31d\")>]"
      ]
     },
     "execution_count": 10,
     "metadata": {},
     "output_type": "execute_result"
    }
   ],
   "source": [
    "#Lets extract all the tags having job-titles\n",
    "titles_tags=driver.find_elements_by_xpath(\"//a[@class='title fw500 ellipsis']\")\n",
    "titles_tags"
   ]
  },
  {
   "cell_type": "code",
   "execution_count": 11,
   "metadata": {},
   "outputs": [
    {
     "data": {
      "text/plain": [
       "['Data Scientist / Data Analyst -Business Analyst',\n",
       " 'Data Analyst - Informatica MDM',\n",
       " 'Assistant Vice President - MIS & Reporting ( Business Data Analyst)',\n",
       " 'Data Analyst',\n",
       " 'Hiring For Data Analyst/ MIS Reporting Analyst - Bangalore',\n",
       " 'Consultant-Data Analyst -Bangalore',\n",
       " 'Data analyst - Google Analytics',\n",
       " 'Senior/Regular Business Analyst / Data Analyst',\n",
       " 'SW Technologist I- Data Analyst',\n",
       " 'Data Analyst',\n",
       " 'Hiring For Data Analyst @ Flipkart on Contract',\n",
       " 'Data Analyst - Informatica MDM',\n",
       " 'Senior Data Analyst',\n",
       " 'Cybersecurity Data Analyst',\n",
       " 'Data Analyst / Business Analyst -',\n",
       " 'Business Data Analyst',\n",
       " 'Data Analyst',\n",
       " 'Data Analyst',\n",
       " 'Data Analyst',\n",
       " 'Data Analyst']"
      ]
     },
     "execution_count": 11,
     "metadata": {},
     "output_type": "execute_result"
    }
   ],
   "source": [
    "#extracting text inside title tags\n",
    "for i in titles_tags:\n",
    "    job_titles.append(i.text)\n",
    "job_titles"
   ]
  },
  {
   "cell_type": "code",
   "execution_count": 13,
   "metadata": {},
   "outputs": [
    {
     "data": {
      "text/plain": [
       "[<selenium.webdriver.remote.webelement.WebElement (session=\"bf7fa510a2519b12dff750c601a9ba3f\", element=\"a7e1ee82-b27a-440a-b3fe-194daacc7645\")>,\n",
       " <selenium.webdriver.remote.webelement.WebElement (session=\"bf7fa510a2519b12dff750c601a9ba3f\", element=\"bd245dfa-9628-4115-807a-20a16426a73d\")>,\n",
       " <selenium.webdriver.remote.webelement.WebElement (session=\"bf7fa510a2519b12dff750c601a9ba3f\", element=\"3c782970-24ce-4002-8e13-904d4634491a\")>,\n",
       " <selenium.webdriver.remote.webelement.WebElement (session=\"bf7fa510a2519b12dff750c601a9ba3f\", element=\"3195640e-2108-4381-b4e6-08a079b7d117\")>,\n",
       " <selenium.webdriver.remote.webelement.WebElement (session=\"bf7fa510a2519b12dff750c601a9ba3f\", element=\"ee1e3700-2bbb-4963-a9c5-fc4b6401ab1f\")>,\n",
       " <selenium.webdriver.remote.webelement.WebElement (session=\"bf7fa510a2519b12dff750c601a9ba3f\", element=\"69fd34e2-9665-4510-9f4a-c3c75a66b34f\")>,\n",
       " <selenium.webdriver.remote.webelement.WebElement (session=\"bf7fa510a2519b12dff750c601a9ba3f\", element=\"8b7f0cef-4df4-4263-9cac-cbee2a0c59b1\")>,\n",
       " <selenium.webdriver.remote.webelement.WebElement (session=\"bf7fa510a2519b12dff750c601a9ba3f\", element=\"93615a53-497d-45b0-88e6-a994aab74acd\")>,\n",
       " <selenium.webdriver.remote.webelement.WebElement (session=\"bf7fa510a2519b12dff750c601a9ba3f\", element=\"243ab591-3543-40d8-92b8-019f3532e93e\")>,\n",
       " <selenium.webdriver.remote.webelement.WebElement (session=\"bf7fa510a2519b12dff750c601a9ba3f\", element=\"56cc6aee-07ab-447e-8b14-bcb6521dcb0b\")>,\n",
       " <selenium.webdriver.remote.webelement.WebElement (session=\"bf7fa510a2519b12dff750c601a9ba3f\", element=\"f63f2019-765b-423c-9a74-a5be7ed3b04f\")>,\n",
       " <selenium.webdriver.remote.webelement.WebElement (session=\"bf7fa510a2519b12dff750c601a9ba3f\", element=\"2a9937d8-b95e-40eb-9913-44efc8bd1a6e\")>,\n",
       " <selenium.webdriver.remote.webelement.WebElement (session=\"bf7fa510a2519b12dff750c601a9ba3f\", element=\"044cc073-2bf2-4a22-89b2-13a244772a91\")>,\n",
       " <selenium.webdriver.remote.webelement.WebElement (session=\"bf7fa510a2519b12dff750c601a9ba3f\", element=\"ddd6d03a-7b82-4d4f-aa6f-5bad658969b2\")>,\n",
       " <selenium.webdriver.remote.webelement.WebElement (session=\"bf7fa510a2519b12dff750c601a9ba3f\", element=\"a79db252-f352-47c5-9845-e6f5318fc91e\")>,\n",
       " <selenium.webdriver.remote.webelement.WebElement (session=\"bf7fa510a2519b12dff750c601a9ba3f\", element=\"636c6c30-6b55-4910-9412-95ef4b31c821\")>,\n",
       " <selenium.webdriver.remote.webelement.WebElement (session=\"bf7fa510a2519b12dff750c601a9ba3f\", element=\"ee8bb295-d29e-458b-9aa5-67d4071ae0c7\")>,\n",
       " <selenium.webdriver.remote.webelement.WebElement (session=\"bf7fa510a2519b12dff750c601a9ba3f\", element=\"1e498ef1-52bc-4c74-9ee8-8f766e3652db\")>,\n",
       " <selenium.webdriver.remote.webelement.WebElement (session=\"bf7fa510a2519b12dff750c601a9ba3f\", element=\"a865e821-6865-44e4-a83d-56029d7d7e3a\")>,\n",
       " <selenium.webdriver.remote.webelement.WebElement (session=\"bf7fa510a2519b12dff750c601a9ba3f\", element=\"1b30afed-7946-481d-87ec-d987800af5de\")>]"
      ]
     },
     "execution_count": 13,
     "metadata": {},
     "output_type": "execute_result"
    }
   ],
   "source": [
    "#Extracting all the tags having company names\n",
    "companies_tags=driver.find_elements_by_xpath(\"//a[@class='subTitle ellipsis fleft']\")\n",
    "companies_tags"
   ]
  },
  {
   "cell_type": "code",
   "execution_count": 14,
   "metadata": {},
   "outputs": [
    {
     "data": {
      "text/plain": [
       "['Inflexion Analytix Private Limited',\n",
       " 'Shell India Markets Private Limited',\n",
       " 'INTERTRUSTVITEOS CORPORATE AND FUND SERVICES PVT. LTD.',\n",
       " 'SA Tech Software (I) Pvt. Ltd.',\n",
       " 'PHARMACEUTICAL RESEARCH ASSOCIATES INDIA Pvt Ltd',\n",
       " 'Innovsource Services Private Limited',\n",
       " 'H and M Hennes and Mauritz (P) Ltd.',\n",
       " 'Luxoft',\n",
       " 'Philips India Limited',\n",
       " 'Flipkart Internet Private Limited',\n",
       " 'Flipkart Internet Private Limited',\n",
       " 'Shell India Markets Private Limited',\n",
       " 'Flipkart Internet Private Limited',\n",
       " 'Huawei Technologies India Pvt Ltd',\n",
       " 'LatentView Analytics Private Limited',\n",
       " 'ALSTOM India Limited',\n",
       " 'Udaan',\n",
       " 'Luxoft',\n",
       " 'Yodlee Infotech Private Limited',\n",
       " 'Novel Office']"
      ]
     },
     "execution_count": 14,
     "metadata": {},
     "output_type": "execute_result"
    }
   ],
   "source": [
    "#extracting text inside company tags\n",
    "for i in companies_tags:\n",
    "    company_names.append(i.text)\n",
    "company_names"
   ]
  },
  {
   "cell_type": "code",
   "execution_count": 15,
   "metadata": {},
   "outputs": [
    {
     "data": {
      "text/plain": [
       "[<selenium.webdriver.remote.webelement.WebElement (session=\"bf7fa510a2519b12dff750c601a9ba3f\", element=\"06e3d285-565d-4249-9bd7-170204678671\")>,\n",
       " <selenium.webdriver.remote.webelement.WebElement (session=\"bf7fa510a2519b12dff750c601a9ba3f\", element=\"184707b4-2c0d-4c29-be5a-21b62339e24f\")>,\n",
       " <selenium.webdriver.remote.webelement.WebElement (session=\"bf7fa510a2519b12dff750c601a9ba3f\", element=\"b71495ac-b9ef-4c3f-86db-15d231fd7d92\")>,\n",
       " <selenium.webdriver.remote.webelement.WebElement (session=\"bf7fa510a2519b12dff750c601a9ba3f\", element=\"c143c8ec-91d6-4d5d-98eb-e53f6f434408\")>,\n",
       " <selenium.webdriver.remote.webelement.WebElement (session=\"bf7fa510a2519b12dff750c601a9ba3f\", element=\"842b201e-c4bd-4751-891a-db9276aa32e6\")>,\n",
       " <selenium.webdriver.remote.webelement.WebElement (session=\"bf7fa510a2519b12dff750c601a9ba3f\", element=\"2a2a5ede-8110-418b-9e05-3eba3e41915c\")>,\n",
       " <selenium.webdriver.remote.webelement.WebElement (session=\"bf7fa510a2519b12dff750c601a9ba3f\", element=\"d59d0c0e-c733-4b09-8bb3-80d67eb36ac6\")>,\n",
       " <selenium.webdriver.remote.webelement.WebElement (session=\"bf7fa510a2519b12dff750c601a9ba3f\", element=\"2c69810c-8a6f-4d8e-8202-3feaac70c629\")>,\n",
       " <selenium.webdriver.remote.webelement.WebElement (session=\"bf7fa510a2519b12dff750c601a9ba3f\", element=\"4bb23da4-dd56-4ea9-bc49-0162b94e780b\")>,\n",
       " <selenium.webdriver.remote.webelement.WebElement (session=\"bf7fa510a2519b12dff750c601a9ba3f\", element=\"3b2a18e1-11d7-4157-b6f7-993048a689ae\")>,\n",
       " <selenium.webdriver.remote.webelement.WebElement (session=\"bf7fa510a2519b12dff750c601a9ba3f\", element=\"01451b49-3b24-4a74-a541-ab5ded431d3e\")>,\n",
       " <selenium.webdriver.remote.webelement.WebElement (session=\"bf7fa510a2519b12dff750c601a9ba3f\", element=\"d3bb2cd9-ecc4-480c-83a6-abc862f24e94\")>,\n",
       " <selenium.webdriver.remote.webelement.WebElement (session=\"bf7fa510a2519b12dff750c601a9ba3f\", element=\"8cdea91a-c26b-47c1-bebc-2766eed7520f\")>,\n",
       " <selenium.webdriver.remote.webelement.WebElement (session=\"bf7fa510a2519b12dff750c601a9ba3f\", element=\"9fc97755-502e-4b16-93c0-61d9be788062\")>,\n",
       " <selenium.webdriver.remote.webelement.WebElement (session=\"bf7fa510a2519b12dff750c601a9ba3f\", element=\"f0b720d6-1416-4671-a9d6-23bb98be4a18\")>,\n",
       " <selenium.webdriver.remote.webelement.WebElement (session=\"bf7fa510a2519b12dff750c601a9ba3f\", element=\"1e92e131-2722-4caf-b4e1-31172a2bd1d9\")>,\n",
       " <selenium.webdriver.remote.webelement.WebElement (session=\"bf7fa510a2519b12dff750c601a9ba3f\", element=\"fe855321-79be-4030-9603-0adfe3c9166a\")>,\n",
       " <selenium.webdriver.remote.webelement.WebElement (session=\"bf7fa510a2519b12dff750c601a9ba3f\", element=\"3b0173cb-b584-4641-b252-d502eb6ff790\")>,\n",
       " <selenium.webdriver.remote.webelement.WebElement (session=\"bf7fa510a2519b12dff750c601a9ba3f\", element=\"db4ea0d2-845d-4c29-850b-41117abc5005\")>,\n",
       " <selenium.webdriver.remote.webelement.WebElement (session=\"bf7fa510a2519b12dff750c601a9ba3f\", element=\"bcab9e4a-e7fa-4018-8903-80394aad3766\")>]"
      ]
     },
     "execution_count": 15,
     "metadata": {},
     "output_type": "execute_result"
    }
   ],
   "source": [
    "#Extracting all the tags having location info\n",
    "locations_tags=driver.find_elements_by_xpath(\"//li[@class='fleft grey-text br2 placeHolderLi location']/span\")\n",
    "locations_tags"
   ]
  },
  {
   "cell_type": "code",
   "execution_count": 16,
   "metadata": {},
   "outputs": [
    {
     "data": {
      "text/plain": [
       "['Mumbai, Hyderabad/Secunderabad, Pune, Gurgaon/Gurugram, Chennai, Bangalore/Bengaluru',\n",
       " 'Bangalore/Bengaluru',\n",
       " 'Mumbai, Bangalore/Bengaluru',\n",
       " 'Kolkata, Pune, Chennai, Bangalore/Bengaluru, Delhi / NCR, Mumbai (All Areas)',\n",
       " 'Bangalore/Bengaluru',\n",
       " 'Bangalore/Bengaluru',\n",
       " 'Bangalore/Bengaluru',\n",
       " 'Bangalore/Bengaluru',\n",
       " 'Bangalore/Bengaluru',\n",
       " 'Bangalore/Bengaluru',\n",
       " 'Bangalore/Bengaluru',\n",
       " 'Bangalore/Bengaluru',\n",
       " 'Bangalore/Bengaluru',\n",
       " 'Bangalore/Bengaluru',\n",
       " 'Chennai, Bangalore/Bengaluru',\n",
       " 'Bangalore/Bengaluru',\n",
       " 'Bangalore/Bengaluru',\n",
       " 'Bangalore/Bengaluru',\n",
       " 'Bangalore/Bengaluru',\n",
       " 'Bangalore/Bengaluru']"
      ]
     },
     "execution_count": 16,
     "metadata": {},
     "output_type": "execute_result"
    }
   ],
   "source": [
    "#extracting text inside Location tags\n",
    "for i in locations_tags:\n",
    "    locations_list.append(i.text)\n",
    "locations_list"
   ]
  },
  {
   "cell_type": "code",
   "execution_count": 17,
   "metadata": {},
   "outputs": [
    {
     "data": {
      "text/plain": [
       "[<selenium.webdriver.remote.webelement.WebElement (session=\"bf7fa510a2519b12dff750c601a9ba3f\", element=\"0dee67ea-6b6a-402a-a18c-6fcfa091efe0\")>,\n",
       " <selenium.webdriver.remote.webelement.WebElement (session=\"bf7fa510a2519b12dff750c601a9ba3f\", element=\"e147d614-6c61-4f82-870e-9a09f0a3cb21\")>,\n",
       " <selenium.webdriver.remote.webelement.WebElement (session=\"bf7fa510a2519b12dff750c601a9ba3f\", element=\"f626303e-28a0-4ac6-acb8-09f28492bcff\")>,\n",
       " <selenium.webdriver.remote.webelement.WebElement (session=\"bf7fa510a2519b12dff750c601a9ba3f\", element=\"13c49ac6-9091-413d-82d6-3c821b01abf9\")>,\n",
       " <selenium.webdriver.remote.webelement.WebElement (session=\"bf7fa510a2519b12dff750c601a9ba3f\", element=\"d72e4bbc-f3c6-419d-9dca-4bfba5515a37\")>,\n",
       " <selenium.webdriver.remote.webelement.WebElement (session=\"bf7fa510a2519b12dff750c601a9ba3f\", element=\"7bbd379d-c77e-45dc-acf6-e023fc90c1f0\")>,\n",
       " <selenium.webdriver.remote.webelement.WebElement (session=\"bf7fa510a2519b12dff750c601a9ba3f\", element=\"4ec0c413-ed54-43c3-974f-bf0d81d76922\")>,\n",
       " <selenium.webdriver.remote.webelement.WebElement (session=\"bf7fa510a2519b12dff750c601a9ba3f\", element=\"da5c85bb-363c-473a-be8e-93ccf4d46906\")>,\n",
       " <selenium.webdriver.remote.webelement.WebElement (session=\"bf7fa510a2519b12dff750c601a9ba3f\", element=\"c31a49cd-b6e8-413f-bad1-f9f1f26aef0b\")>,\n",
       " <selenium.webdriver.remote.webelement.WebElement (session=\"bf7fa510a2519b12dff750c601a9ba3f\", element=\"a1c281ad-b138-4cc9-80f8-519618a1a061\")>,\n",
       " <selenium.webdriver.remote.webelement.WebElement (session=\"bf7fa510a2519b12dff750c601a9ba3f\", element=\"6dbbbefa-e466-42a8-8854-0978471613fb\")>,\n",
       " <selenium.webdriver.remote.webelement.WebElement (session=\"bf7fa510a2519b12dff750c601a9ba3f\", element=\"dd594b8a-9731-4aee-a913-3a92ef416a70\")>,\n",
       " <selenium.webdriver.remote.webelement.WebElement (session=\"bf7fa510a2519b12dff750c601a9ba3f\", element=\"ab3fbda1-9434-4514-8243-4253e351e93b\")>,\n",
       " <selenium.webdriver.remote.webelement.WebElement (session=\"bf7fa510a2519b12dff750c601a9ba3f\", element=\"7b5cd4f6-e354-4538-9f79-5fa76dd06656\")>,\n",
       " <selenium.webdriver.remote.webelement.WebElement (session=\"bf7fa510a2519b12dff750c601a9ba3f\", element=\"d2b5a90a-cdb2-46ad-b144-7825d077e54a\")>,\n",
       " <selenium.webdriver.remote.webelement.WebElement (session=\"bf7fa510a2519b12dff750c601a9ba3f\", element=\"cd6ee34f-b7f4-42ef-9777-10d83d7dc569\")>,\n",
       " <selenium.webdriver.remote.webelement.WebElement (session=\"bf7fa510a2519b12dff750c601a9ba3f\", element=\"12144bbb-4563-42a5-ae98-588972fe4f5f\")>,\n",
       " <selenium.webdriver.remote.webelement.WebElement (session=\"bf7fa510a2519b12dff750c601a9ba3f\", element=\"2ccc6001-d877-48a6-b191-aa1df5a27203\")>,\n",
       " <selenium.webdriver.remote.webelement.WebElement (session=\"bf7fa510a2519b12dff750c601a9ba3f\", element=\"df561d56-c38a-48d2-ad90-af0ad9fefb34\")>,\n",
       " <selenium.webdriver.remote.webelement.WebElement (session=\"bf7fa510a2519b12dff750c601a9ba3f\", element=\"53f3f266-09ad-4cb6-906d-86ae84647158\")>]"
      ]
     },
     "execution_count": 17,
     "metadata": {},
     "output_type": "execute_result"
    }
   ],
   "source": [
    "#Extracting all the tags having Experience info\n",
    "experience_tags=driver.find_elements_by_xpath(\"//li[@class='fleft grey-text br2 placeHolderLi experience']//span\")\n",
    "experience_tags"
   ]
  },
  {
   "cell_type": "code",
   "execution_count": 18,
   "metadata": {},
   "outputs": [
    {
     "data": {
      "text/plain": [
       "['0-3 Yrs',\n",
       " '6-9 Yrs',\n",
       " '12-18 Yrs',\n",
       " '1-3 Yrs',\n",
       " '2-4 Yrs',\n",
       " '2-7 Yrs',\n",
       " '4-7 Yrs',\n",
       " '3-6 Yrs',\n",
       " '5-10 Yrs',\n",
       " '1-3 Yrs',\n",
       " '2-6 Yrs',\n",
       " '6-9 Yrs',\n",
       " '2-5 Yrs',\n",
       " '5-8 Yrs',\n",
       " '1-5 Yrs',\n",
       " '5-10 Yrs',\n",
       " '1-6 Yrs',\n",
       " '2-6 Yrs',\n",
       " '2-6 Yrs',\n",
       " '0-3 Yrs']"
      ]
     },
     "execution_count": 18,
     "metadata": {},
     "output_type": "execute_result"
    }
   ],
   "source": [
    "#extracting text inside Experience tags\n",
    "for i in experience_tags:\n",
    "    experience_list.append(i.text)\n",
    "experience_list"
   ]
  },
  {
   "cell_type": "code",
   "execution_count": 19,
   "metadata": {},
   "outputs": [],
   "source": [
    "#Saving our answer in a DataFrame using Pandas\n",
    "jobs=pd.DataFrame({})\n",
    "jobs['Job Title']=job_titles[0:10]\n",
    "jobs['Company Name']=company_names[0:10]\n",
    "jobs['Location']=locations_list[0:10]\n",
    "jobs['Experience_required']=experience_list[0:10]"
   ]
  },
  {
   "cell_type": "code",
   "execution_count": 20,
   "metadata": {},
   "outputs": [
    {
     "data": {
      "text/html": [
       "<div>\n",
       "<style scoped>\n",
       "    .dataframe tbody tr th:only-of-type {\n",
       "        vertical-align: middle;\n",
       "    }\n",
       "\n",
       "    .dataframe tbody tr th {\n",
       "        vertical-align: top;\n",
       "    }\n",
       "\n",
       "    .dataframe thead th {\n",
       "        text-align: right;\n",
       "    }\n",
       "</style>\n",
       "<table border=\"1\" class=\"dataframe\">\n",
       "  <thead>\n",
       "    <tr style=\"text-align: right;\">\n",
       "      <th></th>\n",
       "      <th>Job Title</th>\n",
       "      <th>Company Name</th>\n",
       "      <th>Location</th>\n",
       "      <th>Experience_required</th>\n",
       "    </tr>\n",
       "  </thead>\n",
       "  <tbody>\n",
       "    <tr>\n",
       "      <th>0</th>\n",
       "      <td>Data Scientist / Data Analyst -Business Analyst</td>\n",
       "      <td>Inflexion Analytix Private Limited</td>\n",
       "      <td>Mumbai, Hyderabad/Secunderabad, Pune, Gurgaon/...</td>\n",
       "      <td>0-3 Yrs</td>\n",
       "    </tr>\n",
       "    <tr>\n",
       "      <th>1</th>\n",
       "      <td>Data Analyst - Informatica MDM</td>\n",
       "      <td>Shell India Markets Private Limited</td>\n",
       "      <td>Bangalore/Bengaluru</td>\n",
       "      <td>6-9 Yrs</td>\n",
       "    </tr>\n",
       "    <tr>\n",
       "      <th>2</th>\n",
       "      <td>Assistant Vice President - MIS &amp; Reporting ( B...</td>\n",
       "      <td>INTERTRUSTVITEOS CORPORATE AND FUND SERVICES P...</td>\n",
       "      <td>Mumbai, Bangalore/Bengaluru</td>\n",
       "      <td>12-18 Yrs</td>\n",
       "    </tr>\n",
       "    <tr>\n",
       "      <th>3</th>\n",
       "      <td>Data Analyst</td>\n",
       "      <td>SA Tech Software (I) Pvt. Ltd.</td>\n",
       "      <td>Kolkata, Pune, Chennai, Bangalore/Bengaluru, D...</td>\n",
       "      <td>1-3 Yrs</td>\n",
       "    </tr>\n",
       "    <tr>\n",
       "      <th>4</th>\n",
       "      <td>Hiring For Data Analyst/ MIS Reporting Analyst...</td>\n",
       "      <td>PHARMACEUTICAL RESEARCH ASSOCIATES INDIA Pvt Ltd</td>\n",
       "      <td>Bangalore/Bengaluru</td>\n",
       "      <td>2-4 Yrs</td>\n",
       "    </tr>\n",
       "    <tr>\n",
       "      <th>5</th>\n",
       "      <td>Consultant-Data Analyst -Bangalore</td>\n",
       "      <td>Innovsource Services Private Limited</td>\n",
       "      <td>Bangalore/Bengaluru</td>\n",
       "      <td>2-7 Yrs</td>\n",
       "    </tr>\n",
       "    <tr>\n",
       "      <th>6</th>\n",
       "      <td>Data analyst - Google Analytics</td>\n",
       "      <td>H and M Hennes and Mauritz (P) Ltd.</td>\n",
       "      <td>Bangalore/Bengaluru</td>\n",
       "      <td>4-7 Yrs</td>\n",
       "    </tr>\n",
       "    <tr>\n",
       "      <th>7</th>\n",
       "      <td>Senior/Regular Business Analyst / Data Analyst</td>\n",
       "      <td>Luxoft</td>\n",
       "      <td>Bangalore/Bengaluru</td>\n",
       "      <td>3-6 Yrs</td>\n",
       "    </tr>\n",
       "    <tr>\n",
       "      <th>8</th>\n",
       "      <td>SW Technologist I- Data Analyst</td>\n",
       "      <td>Philips India Limited</td>\n",
       "      <td>Bangalore/Bengaluru</td>\n",
       "      <td>5-10 Yrs</td>\n",
       "    </tr>\n",
       "    <tr>\n",
       "      <th>9</th>\n",
       "      <td>Data Analyst</td>\n",
       "      <td>Flipkart Internet Private Limited</td>\n",
       "      <td>Bangalore/Bengaluru</td>\n",
       "      <td>1-3 Yrs</td>\n",
       "    </tr>\n",
       "  </tbody>\n",
       "</table>\n",
       "</div>"
      ],
      "text/plain": [
       "                                           Job Title  \\\n",
       "0    Data Scientist / Data Analyst -Business Analyst   \n",
       "1                     Data Analyst - Informatica MDM   \n",
       "2  Assistant Vice President - MIS & Reporting ( B...   \n",
       "3                                       Data Analyst   \n",
       "4  Hiring For Data Analyst/ MIS Reporting Analyst...   \n",
       "5                 Consultant-Data Analyst -Bangalore   \n",
       "6                    Data analyst - Google Analytics   \n",
       "7     Senior/Regular Business Analyst / Data Analyst   \n",
       "8                    SW Technologist I- Data Analyst   \n",
       "9                                       Data Analyst   \n",
       "\n",
       "                                        Company Name  \\\n",
       "0                 Inflexion Analytix Private Limited   \n",
       "1                Shell India Markets Private Limited   \n",
       "2  INTERTRUSTVITEOS CORPORATE AND FUND SERVICES P...   \n",
       "3                     SA Tech Software (I) Pvt. Ltd.   \n",
       "4   PHARMACEUTICAL RESEARCH ASSOCIATES INDIA Pvt Ltd   \n",
       "5               Innovsource Services Private Limited   \n",
       "6                H and M Hennes and Mauritz (P) Ltd.   \n",
       "7                                             Luxoft   \n",
       "8                              Philips India Limited   \n",
       "9                  Flipkart Internet Private Limited   \n",
       "\n",
       "                                            Location Experience_required  \n",
       "0  Mumbai, Hyderabad/Secunderabad, Pune, Gurgaon/...             0-3 Yrs  \n",
       "1                                Bangalore/Bengaluru             6-9 Yrs  \n",
       "2                        Mumbai, Bangalore/Bengaluru           12-18 Yrs  \n",
       "3  Kolkata, Pune, Chennai, Bangalore/Bengaluru, D...             1-3 Yrs  \n",
       "4                                Bangalore/Bengaluru             2-4 Yrs  \n",
       "5                                Bangalore/Bengaluru             2-7 Yrs  \n",
       "6                                Bangalore/Bengaluru             4-7 Yrs  \n",
       "7                                Bangalore/Bengaluru             3-6 Yrs  \n",
       "8                                Bangalore/Bengaluru            5-10 Yrs  \n",
       "9                                Bangalore/Bengaluru             1-3 Yrs  "
      ]
     },
     "execution_count": 20,
     "metadata": {},
     "output_type": "execute_result"
    }
   ],
   "source": [
    "#Final Dataframe\n",
    "jobs"
   ]
  },
  {
   "cell_type": "code",
   "execution_count": 21,
   "metadata": {},
   "outputs": [],
   "source": [
    "#Closing driver\n",
    "driver.close()"
   ]
  },
  {
   "cell_type": "markdown",
   "metadata": {},
   "source": [
    "*******************************************Completed***********************************************************************"
   ]
  },
  {
   "cell_type": "markdown",
   "metadata": {},
   "source": [
    "# Q2: Write a python program to scrape data for “Data Scientist” Job position in “Bangalore” location. You have to scrape the job-title, job-location, company_name, full job-description. You have to scrape first 10 jobs data.\n",
    "    \n",
    "Ans: Solution is as:-\n"
   ]
  },
  {
   "cell_type": "code",
   "execution_count": 22,
   "metadata": {},
   "outputs": [],
   "source": [
    "#Let's first connect to the web driver\n",
    "driver=webdriver.Chrome(\"chromedriver.exe\")"
   ]
  },
  {
   "cell_type": "code",
   "execution_count": 23,
   "metadata": {},
   "outputs": [],
   "source": [
    "#Opening webpage https://www.naukri.com/\n",
    "url=\"https://www.naukri.com/\"\n",
    "driver.get(url)"
   ]
  },
  {
   "cell_type": "code",
   "execution_count": 24,
   "metadata": {},
   "outputs": [
    {
     "data": {
      "text/plain": [
       "<selenium.webdriver.remote.webelement.WebElement (session=\"47d329c67ba2b6fc40dc47be02c80214\", element=\"c55b8b3e-30e7-4369-b2f4-98fece605bea\")>"
      ]
     },
     "execution_count": 24,
     "metadata": {},
     "output_type": "execute_result"
    }
   ],
   "source": [
    "#finding element for job search bar\n",
    "search_job=driver.find_element_by_id('qsb-keyword-sugg')\n",
    "search_job"
   ]
  },
  {
   "cell_type": "code",
   "execution_count": 25,
   "metadata": {},
   "outputs": [],
   "source": [
    "#Searching for Data Scientist in Search bar\n",
    "search_job.send_keys(\"Data Scientist\")"
   ]
  },
  {
   "cell_type": "code",
   "execution_count": 26,
   "metadata": {},
   "outputs": [],
   "source": [
    "#finding element for job location bar\n",
    "search_loc=driver.find_element_by_id(\"qsb-location-sugg\")\n",
    "search_loc.send_keys(\"Bangalore\")"
   ]
  },
  {
   "cell_type": "code",
   "execution_count": 27,
   "metadata": {},
   "outputs": [],
   "source": [
    "#Clicking the Search Button using Xpath function\n",
    "search_btn=driver.find_element_by_xpath(\"//button[@class='btn']\")\n",
    "search_btn.click()"
   ]
  },
  {
   "cell_type": "code",
   "execution_count": 29,
   "metadata": {},
   "outputs": [],
   "source": [
    "#Creating empty Lists so that we can store data in these lists while scraping\n",
    "job_titles=[]\n",
    "job_location=[]\n",
    "company_names=[]\n",
    "job_description=[]"
   ]
  },
  {
   "cell_type": "code",
   "execution_count": 30,
   "metadata": {},
   "outputs": [
    {
     "data": {
      "text/plain": [
       "[<selenium.webdriver.remote.webelement.WebElement (session=\"47d329c67ba2b6fc40dc47be02c80214\", element=\"c7cb638f-ef15-412b-b8c9-29fc60e57647\")>,\n",
       " <selenium.webdriver.remote.webelement.WebElement (session=\"47d329c67ba2b6fc40dc47be02c80214\", element=\"f5b63b0e-085d-40a8-911d-e64ee54a2246\")>,\n",
       " <selenium.webdriver.remote.webelement.WebElement (session=\"47d329c67ba2b6fc40dc47be02c80214\", element=\"7037716e-97c6-46ef-ad99-e14c76add391\")>,\n",
       " <selenium.webdriver.remote.webelement.WebElement (session=\"47d329c67ba2b6fc40dc47be02c80214\", element=\"fb55a7ca-dada-4684-a616-10d7780f429b\")>,\n",
       " <selenium.webdriver.remote.webelement.WebElement (session=\"47d329c67ba2b6fc40dc47be02c80214\", element=\"0189ca12-6ea3-4202-888b-3ab30482952e\")>,\n",
       " <selenium.webdriver.remote.webelement.WebElement (session=\"47d329c67ba2b6fc40dc47be02c80214\", element=\"7f6f5c49-719e-46b5-a583-5ddd09a0c24c\")>,\n",
       " <selenium.webdriver.remote.webelement.WebElement (session=\"47d329c67ba2b6fc40dc47be02c80214\", element=\"f210d5fe-0276-4fde-ac1c-263318601cd1\")>,\n",
       " <selenium.webdriver.remote.webelement.WebElement (session=\"47d329c67ba2b6fc40dc47be02c80214\", element=\"0d049359-6bb3-4d73-9a4c-5af622340e26\")>,\n",
       " <selenium.webdriver.remote.webelement.WebElement (session=\"47d329c67ba2b6fc40dc47be02c80214\", element=\"de24eea6-fd98-49f0-beb0-2e4220c0aa03\")>,\n",
       " <selenium.webdriver.remote.webelement.WebElement (session=\"47d329c67ba2b6fc40dc47be02c80214\", element=\"3f9ef165-8718-4962-904a-987e3115fbc4\")>,\n",
       " <selenium.webdriver.remote.webelement.WebElement (session=\"47d329c67ba2b6fc40dc47be02c80214\", element=\"10f3469b-d169-4559-9cbd-d5ff72604ad9\")>,\n",
       " <selenium.webdriver.remote.webelement.WebElement (session=\"47d329c67ba2b6fc40dc47be02c80214\", element=\"5ac85ad8-d4f9-4113-9f1b-35c9512d121d\")>,\n",
       " <selenium.webdriver.remote.webelement.WebElement (session=\"47d329c67ba2b6fc40dc47be02c80214\", element=\"9abb9764-0c98-40b8-8f8d-f52127e454b5\")>,\n",
       " <selenium.webdriver.remote.webelement.WebElement (session=\"47d329c67ba2b6fc40dc47be02c80214\", element=\"13d02517-a0e4-462f-bde4-ec9ce1f648be\")>,\n",
       " <selenium.webdriver.remote.webelement.WebElement (session=\"47d329c67ba2b6fc40dc47be02c80214\", element=\"2a1cb840-c490-4089-81f2-1361f7d313db\")>,\n",
       " <selenium.webdriver.remote.webelement.WebElement (session=\"47d329c67ba2b6fc40dc47be02c80214\", element=\"7eb4ae8e-967f-4f8c-b6d7-b25a71bee9d0\")>,\n",
       " <selenium.webdriver.remote.webelement.WebElement (session=\"47d329c67ba2b6fc40dc47be02c80214\", element=\"cfab7346-b248-4212-8d36-4ad0db416238\")>,\n",
       " <selenium.webdriver.remote.webelement.WebElement (session=\"47d329c67ba2b6fc40dc47be02c80214\", element=\"3b331b88-2b0c-440a-8f40-a655f0c2f03c\")>,\n",
       " <selenium.webdriver.remote.webelement.WebElement (session=\"47d329c67ba2b6fc40dc47be02c80214\", element=\"376eba26-be09-4e94-b198-3b3bca6fc31c\")>,\n",
       " <selenium.webdriver.remote.webelement.WebElement (session=\"47d329c67ba2b6fc40dc47be02c80214\", element=\"65e8b416-43db-4722-a5e8-946f68c01450\")>]"
      ]
     },
     "execution_count": 30,
     "metadata": {},
     "output_type": "execute_result"
    }
   ],
   "source": [
    "#Lets extract all the tags having job-titles\n",
    "titles_tags=driver.find_elements_by_xpath(\"//a[@class='title fw500 ellipsis']\")\n",
    "titles_tags"
   ]
  },
  {
   "cell_type": "code",
   "execution_count": 31,
   "metadata": {},
   "outputs": [
    {
     "data": {
      "text/plain": [
       "['Data Scientist / Data Analyst -Business Analyst',\n",
       " 'Data Scientist',\n",
       " 'Big Data - Data Scientist',\n",
       " 'Specialist I - Data Scientist',\n",
       " 'Data Scientist',\n",
       " 'Lead Data Scientist',\n",
       " 'Data Scientist',\n",
       " 'SDE Lead Data Scientist-L3',\n",
       " 'Computational Design Lead Data Scientist-L3',\n",
       " 'Hiring For DATA Scientist - ON Contract Basis (3-6 Months)',\n",
       " 'Senior Data Scientist',\n",
       " 'Senior Data Scientist',\n",
       " 'Sr. Data Scientist',\n",
       " 'Senior Data Scientist',\n",
       " 'Senior Data Scientist',\n",
       " 'Senior Associate/Team Lead - Data Scientist Consulting',\n",
       " 'Senior Data Scientist',\n",
       " 'Data Scientist',\n",
       " 'Sr Data Scientist, Payments',\n",
       " 'Hiring For Lead data Scientist For Bangalore location']"
      ]
     },
     "execution_count": 31,
     "metadata": {},
     "output_type": "execute_result"
    }
   ],
   "source": [
    "#extracting text inside title tags\n",
    "for i in titles_tags:\n",
    "    job_titles.append(i.text)\n",
    "job_titles"
   ]
  },
  {
   "cell_type": "code",
   "execution_count": 32,
   "metadata": {},
   "outputs": [
    {
     "data": {
      "text/plain": [
       "[<selenium.webdriver.remote.webelement.WebElement (session=\"47d329c67ba2b6fc40dc47be02c80214\", element=\"2c5e052b-571a-4174-86d4-803a4cf4095d\")>,\n",
       " <selenium.webdriver.remote.webelement.WebElement (session=\"47d329c67ba2b6fc40dc47be02c80214\", element=\"fbf35d33-f37a-4730-a259-3540d7ae4aca\")>,\n",
       " <selenium.webdriver.remote.webelement.WebElement (session=\"47d329c67ba2b6fc40dc47be02c80214\", element=\"0fbca189-5b43-4ef0-bb17-5e3b69b083f5\")>,\n",
       " <selenium.webdriver.remote.webelement.WebElement (session=\"47d329c67ba2b6fc40dc47be02c80214\", element=\"53369f42-af2f-43a3-9d2c-5b7936e6e8b1\")>,\n",
       " <selenium.webdriver.remote.webelement.WebElement (session=\"47d329c67ba2b6fc40dc47be02c80214\", element=\"9e337280-6537-44d9-8189-8d5de477c421\")>,\n",
       " <selenium.webdriver.remote.webelement.WebElement (session=\"47d329c67ba2b6fc40dc47be02c80214\", element=\"8cae462f-3cc8-473b-9275-ff3f3672795a\")>,\n",
       " <selenium.webdriver.remote.webelement.WebElement (session=\"47d329c67ba2b6fc40dc47be02c80214\", element=\"730e1c1c-eaa4-4081-a1cf-8f9f05ea7ed7\")>,\n",
       " <selenium.webdriver.remote.webelement.WebElement (session=\"47d329c67ba2b6fc40dc47be02c80214\", element=\"6e7fab97-e559-4935-8d48-2b1e1b1d4538\")>,\n",
       " <selenium.webdriver.remote.webelement.WebElement (session=\"47d329c67ba2b6fc40dc47be02c80214\", element=\"fb90ae20-4d98-444c-a1da-c51e01ea188e\")>,\n",
       " <selenium.webdriver.remote.webelement.WebElement (session=\"47d329c67ba2b6fc40dc47be02c80214\", element=\"dd4b4db9-ea2b-4846-ac45-0787e8efd094\")>,\n",
       " <selenium.webdriver.remote.webelement.WebElement (session=\"47d329c67ba2b6fc40dc47be02c80214\", element=\"5a103840-b6af-4fcc-84a0-449aae945c18\")>,\n",
       " <selenium.webdriver.remote.webelement.WebElement (session=\"47d329c67ba2b6fc40dc47be02c80214\", element=\"083d9a8b-d2a7-4478-8979-0522da9b64a4\")>,\n",
       " <selenium.webdriver.remote.webelement.WebElement (session=\"47d329c67ba2b6fc40dc47be02c80214\", element=\"5d8f7800-8084-48ff-b43b-24211c30e9a6\")>,\n",
       " <selenium.webdriver.remote.webelement.WebElement (session=\"47d329c67ba2b6fc40dc47be02c80214\", element=\"eab89da4-a2a2-43c7-a139-a1865c75d7c0\")>,\n",
       " <selenium.webdriver.remote.webelement.WebElement (session=\"47d329c67ba2b6fc40dc47be02c80214\", element=\"36889d38-a5ec-409f-a20a-64ec91aa8ab9\")>,\n",
       " <selenium.webdriver.remote.webelement.WebElement (session=\"47d329c67ba2b6fc40dc47be02c80214\", element=\"987f2f4c-d95c-478b-b4c7-04160dd5b9bd\")>,\n",
       " <selenium.webdriver.remote.webelement.WebElement (session=\"47d329c67ba2b6fc40dc47be02c80214\", element=\"42841db0-6830-40df-8a3e-6defc8fc6d7a\")>,\n",
       " <selenium.webdriver.remote.webelement.WebElement (session=\"47d329c67ba2b6fc40dc47be02c80214\", element=\"9bd6b0de-ba01-4473-95f7-309ceee7a4b5\")>,\n",
       " <selenium.webdriver.remote.webelement.WebElement (session=\"47d329c67ba2b6fc40dc47be02c80214\", element=\"4cb47e3e-1009-4ec5-92c6-03576bdb13af\")>,\n",
       " <selenium.webdriver.remote.webelement.WebElement (session=\"47d329c67ba2b6fc40dc47be02c80214\", element=\"4486aae0-a307-44ae-bb13-cb6d1bb10404\")>]"
      ]
     },
     "execution_count": 32,
     "metadata": {},
     "output_type": "execute_result"
    }
   ],
   "source": [
    "#Extracting all the tags having location info\n",
    "locations_tags=driver.find_elements_by_xpath(\"//li[@class='fleft grey-text br2 placeHolderLi location']/span\")\n",
    "locations_tags"
   ]
  },
  {
   "cell_type": "code",
   "execution_count": 33,
   "metadata": {},
   "outputs": [
    {
     "data": {
      "text/plain": [
       "['Mumbai, Hyderabad/Secunderabad, Pune, Gurgaon/Gurugram, Chennai, Bangalore/Bengaluru',\n",
       " 'Kolkata, Hyderabad/Secunderabad, Chennai, Bangalore/Bengaluru',\n",
       " 'Kochi/Cochin, Indore, Hyderabad/Secunderabad, Pune, Ahmedabad, Bangalore/Bengaluru, Mumbai (All Areas)',\n",
       " 'Bangalore/Bengaluru',\n",
       " 'Bangalore/Bengaluru',\n",
       " 'Bangalore/Bengaluru',\n",
       " 'Bangalore/Bengaluru',\n",
       " 'Bangalore/Bengaluru',\n",
       " 'Bangalore/Bengaluru',\n",
       " 'Hyderabad/Secunderabad, Bangalore/Bengaluru, Mumbai (All Areas)',\n",
       " 'Bangalore/Bengaluru',\n",
       " 'Bangalore/Bengaluru',\n",
       " 'Bangalore/Bengaluru, Delhi / NCR',\n",
       " 'Bangalore/Bengaluru',\n",
       " 'Bangalore/Bengaluru',\n",
       " 'Bangalore/Bengaluru',\n",
       " 'Bangalore/Bengaluru',\n",
       " 'Bangalore/Bengaluru',\n",
       " 'Bangalore/Bengaluru',\n",
       " 'Bangalore/Bengaluru']"
      ]
     },
     "execution_count": 33,
     "metadata": {},
     "output_type": "execute_result"
    }
   ],
   "source": [
    "#extracting text inside Location tags\n",
    "for i in locations_tags:\n",
    "    job_location.append(i.text)\n",
    "job_location"
   ]
  },
  {
   "cell_type": "code",
   "execution_count": 34,
   "metadata": {},
   "outputs": [
    {
     "data": {
      "text/plain": [
       "[<selenium.webdriver.remote.webelement.WebElement (session=\"47d329c67ba2b6fc40dc47be02c80214\", element=\"6c1e8114-27f2-4dce-98f7-9f734cfa26c9\")>,\n",
       " <selenium.webdriver.remote.webelement.WebElement (session=\"47d329c67ba2b6fc40dc47be02c80214\", element=\"72d4ded4-616b-49f2-83a0-21f6b654d336\")>,\n",
       " <selenium.webdriver.remote.webelement.WebElement (session=\"47d329c67ba2b6fc40dc47be02c80214\", element=\"dd09033f-1d10-4666-b4df-ef52000b4fed\")>,\n",
       " <selenium.webdriver.remote.webelement.WebElement (session=\"47d329c67ba2b6fc40dc47be02c80214\", element=\"c24ee39a-2aee-42b4-be90-f524700f6b32\")>,\n",
       " <selenium.webdriver.remote.webelement.WebElement (session=\"47d329c67ba2b6fc40dc47be02c80214\", element=\"b74d590e-7f38-4778-80e6-5271066b16f0\")>,\n",
       " <selenium.webdriver.remote.webelement.WebElement (session=\"47d329c67ba2b6fc40dc47be02c80214\", element=\"e98f6a88-1676-4852-9eab-dd78afdd91cd\")>,\n",
       " <selenium.webdriver.remote.webelement.WebElement (session=\"47d329c67ba2b6fc40dc47be02c80214\", element=\"483110c6-4d8f-4519-8484-bf0db88d4f62\")>,\n",
       " <selenium.webdriver.remote.webelement.WebElement (session=\"47d329c67ba2b6fc40dc47be02c80214\", element=\"b6675001-bd8b-419d-b412-71cc193a44e7\")>,\n",
       " <selenium.webdriver.remote.webelement.WebElement (session=\"47d329c67ba2b6fc40dc47be02c80214\", element=\"6dc4642a-f767-4ac0-b012-5561683fa64d\")>,\n",
       " <selenium.webdriver.remote.webelement.WebElement (session=\"47d329c67ba2b6fc40dc47be02c80214\", element=\"c9ab06d4-8323-4ed6-8ba1-4f25392efd5e\")>,\n",
       " <selenium.webdriver.remote.webelement.WebElement (session=\"47d329c67ba2b6fc40dc47be02c80214\", element=\"3553f95a-5e58-4f13-adcc-c859895da874\")>,\n",
       " <selenium.webdriver.remote.webelement.WebElement (session=\"47d329c67ba2b6fc40dc47be02c80214\", element=\"a7ebdf0e-abc6-4f6d-966e-404dc9416305\")>,\n",
       " <selenium.webdriver.remote.webelement.WebElement (session=\"47d329c67ba2b6fc40dc47be02c80214\", element=\"fda2065e-e3e2-4275-8888-2f84752bf9dc\")>,\n",
       " <selenium.webdriver.remote.webelement.WebElement (session=\"47d329c67ba2b6fc40dc47be02c80214\", element=\"ef1da667-963e-4294-b012-86793e95a0bc\")>,\n",
       " <selenium.webdriver.remote.webelement.WebElement (session=\"47d329c67ba2b6fc40dc47be02c80214\", element=\"6d18c601-c6bf-4e12-9f51-ca3a3388ae3f\")>,\n",
       " <selenium.webdriver.remote.webelement.WebElement (session=\"47d329c67ba2b6fc40dc47be02c80214\", element=\"68bcb0d9-e7bd-44b9-9266-5f318052eadf\")>,\n",
       " <selenium.webdriver.remote.webelement.WebElement (session=\"47d329c67ba2b6fc40dc47be02c80214\", element=\"61c84c99-12b1-44ea-b531-6faf7a1e1743\")>,\n",
       " <selenium.webdriver.remote.webelement.WebElement (session=\"47d329c67ba2b6fc40dc47be02c80214\", element=\"89b9ef31-9ff3-472d-b3e6-e38c7d60f895\")>,\n",
       " <selenium.webdriver.remote.webelement.WebElement (session=\"47d329c67ba2b6fc40dc47be02c80214\", element=\"13058c18-63bd-41fc-b032-f31b39bbc6c1\")>,\n",
       " <selenium.webdriver.remote.webelement.WebElement (session=\"47d329c67ba2b6fc40dc47be02c80214\", element=\"4f724bea-19e5-469a-b8ea-8f012f4c27b8\")>]"
      ]
     },
     "execution_count": 34,
     "metadata": {},
     "output_type": "execute_result"
    }
   ],
   "source": [
    "#Extracting all the tags having company names\n",
    "companies_tags=driver.find_elements_by_xpath(\"//a[@class='subTitle ellipsis fleft']\")\n",
    "companies_tags"
   ]
  },
  {
   "cell_type": "code",
   "execution_count": 35,
   "metadata": {},
   "outputs": [
    {
     "data": {
      "text/plain": [
       "['Inflexion Analytix Private Limited',\n",
       " 'Wipro Limited',\n",
       " 'Xoriant Solutions Pvt Ltd',\n",
       " 'Philips India Limited',\n",
       " 'IBM India Pvt. Limited',\n",
       " 'Intel Technology India Pvt Ltd',\n",
       " 'Oracle India Pvt. Ltd.',\n",
       " 'Huawei Technologies India Pvt Ltd',\n",
       " 'Huawei Technologies India Pvt Ltd',\n",
       " 'GlobalEdx Learning and Technology Solution Pvt Ltd',\n",
       " 'GO-JEK India',\n",
       " 'nanobi data and analytics private limited',\n",
       " 'VALIANCE ANALYTICS PRIVATE LIMITED',\n",
       " 'BankBazaar.com (A&A DUKAAN FINANCIAL SERVICES PVT. LTD)',\n",
       " 'Kwalee',\n",
       " 'Analytics India Magazine',\n",
       " 'Gojek Tech',\n",
       " 'Applied Materials',\n",
       " 'AIRBNB GLOBAL CAPABILITY CENTER PRIVATE LIMITED',\n",
       " 'Societe Generale']"
      ]
     },
     "execution_count": 35,
     "metadata": {},
     "output_type": "execute_result"
    }
   ],
   "source": [
    "#extracting text inside company tags\n",
    "for i in companies_tags:\n",
    "    company_names.append(i.text)\n",
    "company_names"
   ]
  },
  {
   "cell_type": "code",
   "execution_count": 36,
   "metadata": {},
   "outputs": [
    {
     "data": {
      "text/plain": [
       "[<selenium.webdriver.remote.webelement.WebElement (session=\"47d329c67ba2b6fc40dc47be02c80214\", element=\"71b4342a-8b06-46f4-b4a6-75001ded7603\")>,\n",
       " <selenium.webdriver.remote.webelement.WebElement (session=\"47d329c67ba2b6fc40dc47be02c80214\", element=\"12a6fdbe-6a35-4038-b71d-637e50ae1e26\")>,\n",
       " <selenium.webdriver.remote.webelement.WebElement (session=\"47d329c67ba2b6fc40dc47be02c80214\", element=\"882c4386-4c5f-4180-84b8-bed0edfd688c\")>,\n",
       " <selenium.webdriver.remote.webelement.WebElement (session=\"47d329c67ba2b6fc40dc47be02c80214\", element=\"0be32c44-c2ed-4b9f-823e-e2da76ccf125\")>,\n",
       " <selenium.webdriver.remote.webelement.WebElement (session=\"47d329c67ba2b6fc40dc47be02c80214\", element=\"99fcd12d-c7eb-43f9-851d-cf4e0ca65bbf\")>,\n",
       " <selenium.webdriver.remote.webelement.WebElement (session=\"47d329c67ba2b6fc40dc47be02c80214\", element=\"537774e2-42bf-4f7b-a28a-f733f8adf863\")>,\n",
       " <selenium.webdriver.remote.webelement.WebElement (session=\"47d329c67ba2b6fc40dc47be02c80214\", element=\"1348394a-f32b-4263-9fcc-29fce9256f2f\")>,\n",
       " <selenium.webdriver.remote.webelement.WebElement (session=\"47d329c67ba2b6fc40dc47be02c80214\", element=\"f7a6d9ee-f0ce-4d8d-bc7c-d7edeb36c895\")>,\n",
       " <selenium.webdriver.remote.webelement.WebElement (session=\"47d329c67ba2b6fc40dc47be02c80214\", element=\"3d77f53e-b638-4039-881b-861435e8ae32\")>,\n",
       " <selenium.webdriver.remote.webelement.WebElement (session=\"47d329c67ba2b6fc40dc47be02c80214\", element=\"504d21f1-293e-46d1-b1f6-ca2e35dee48a\")>,\n",
       " <selenium.webdriver.remote.webelement.WebElement (session=\"47d329c67ba2b6fc40dc47be02c80214\", element=\"3c772b11-4099-43d6-adc7-81d39bb82a1a\")>,\n",
       " <selenium.webdriver.remote.webelement.WebElement (session=\"47d329c67ba2b6fc40dc47be02c80214\", element=\"f37aed46-c505-4df3-ba82-191897717cb9\")>,\n",
       " <selenium.webdriver.remote.webelement.WebElement (session=\"47d329c67ba2b6fc40dc47be02c80214\", element=\"6cb847b6-e4ac-4af0-b366-3d9aba814e09\")>,\n",
       " <selenium.webdriver.remote.webelement.WebElement (session=\"47d329c67ba2b6fc40dc47be02c80214\", element=\"8007f017-60a1-4122-8c69-877811e18887\")>,\n",
       " <selenium.webdriver.remote.webelement.WebElement (session=\"47d329c67ba2b6fc40dc47be02c80214\", element=\"6c8eb394-d571-4996-8369-bdb88beca4e7\")>,\n",
       " <selenium.webdriver.remote.webelement.WebElement (session=\"47d329c67ba2b6fc40dc47be02c80214\", element=\"05ddc1de-25fd-44ad-b5b0-ba6e0f022cfe\")>,\n",
       " <selenium.webdriver.remote.webelement.WebElement (session=\"47d329c67ba2b6fc40dc47be02c80214\", element=\"079ab3a2-95f8-4373-a311-878183ad4b2b\")>,\n",
       " <selenium.webdriver.remote.webelement.WebElement (session=\"47d329c67ba2b6fc40dc47be02c80214\", element=\"96898013-c2f8-407b-91eb-67c35ae804a0\")>,\n",
       " <selenium.webdriver.remote.webelement.WebElement (session=\"47d329c67ba2b6fc40dc47be02c80214\", element=\"f07e0583-97ee-43e2-af74-1c4ec344a3f0\")>,\n",
       " <selenium.webdriver.remote.webelement.WebElement (session=\"47d329c67ba2b6fc40dc47be02c80214\", element=\"338039b0-dff4-4be7-b2ad-ebea8de2ab91\")>]"
      ]
     },
     "execution_count": 36,
     "metadata": {},
     "output_type": "execute_result"
    }
   ],
   "source": [
    "#Extracting all the tags having full job description\n",
    "fjd_tags = driver.find_elements_by_xpath(\"//div[@class='job-description fs12 grey-text']\")\n",
    "fjd_tags"
   ]
  },
  {
   "cell_type": "code",
   "execution_count": 37,
   "metadata": {},
   "outputs": [
    {
     "data": {
      "text/plain": [
       "['Applications invited from all Freshers and experienced candidates (0-3 yrs) aspiring to...',\n",
       " 'Good statistical analysis skills for data pre-processing and data wrangling Experience ...',\n",
       " 'High motivation, good work ethic and maturityMinimum 1-3 yrs of proven project experien...',\n",
       " 'Responsibilities and Key Result Areas Design and develop project prototypes and solutio...',\n",
       " 'modeling and business system design with experience in relational SQL and NoSQL databas...',\n",
       " 'Experience in using data analysis techniques and ML methods like classification, regres...',\n",
       " 'Roles and Responsibilities Looking for 6+ yrs of experience in data science, predictive...',\n",
       " 'Strong hands-on experience in implementing and validating big data algorithms and model...',\n",
       " 'Business & Team overview:Founded in 1987, Huawei is a leading global provider of ICT (i...',\n",
       " 'Experience : 3+ Years',\n",
       " 'About the Role Fasten your helmet and climb on board if youre ready to be our Senior Da...',\n",
       " 'These will be across industries and functions and must be designed generically to handl...',\n",
       " 'Programming Language: Python / SQL (Must)',\n",
       " 'Preferable to have Masters in a numerate subject such as Mathematics, Operational Resea...',\n",
       " 'Experience with AWS - Redshift, EC2, Lambda 5+Years experience using Python for data an...',\n",
       " 'We should also let you know we put a premium on a few personality traits: - You are a p...',\n",
       " 'What You Will Do Build machine learning models that generate or foster answers to some ...',\n",
       " 'Education: Bachelors Degree analyzes possible solutions using technical experience and ...',\n",
       " '4+ years industry experience in a quantitative analysis roleExperience in Payments a st...',\n",
       " 'We are hiring for Lead data Scientist for Bangalore location Skills and QualificationsB...']"
      ]
     },
     "execution_count": 37,
     "metadata": {},
     "output_type": "execute_result"
    }
   ],
   "source": [
    "#extracting text inside fjd(full job description) tags\n",
    "for i in fjd_tags:\n",
    "    job_description.append(i.text)\n",
    "job_description"
   ]
  },
  {
   "cell_type": "code",
   "execution_count": 38,
   "metadata": {},
   "outputs": [
    {
     "data": {
      "text/html": [
       "<div>\n",
       "<style scoped>\n",
       "    .dataframe tbody tr th:only-of-type {\n",
       "        vertical-align: middle;\n",
       "    }\n",
       "\n",
       "    .dataframe tbody tr th {\n",
       "        vertical-align: top;\n",
       "    }\n",
       "\n",
       "    .dataframe thead th {\n",
       "        text-align: right;\n",
       "    }\n",
       "</style>\n",
       "<table border=\"1\" class=\"dataframe\">\n",
       "  <thead>\n",
       "    <tr style=\"text-align: right;\">\n",
       "      <th></th>\n",
       "      <th>Job Title</th>\n",
       "      <th>Job Location</th>\n",
       "      <th>Company Name</th>\n",
       "      <th>Full Job Description</th>\n",
       "    </tr>\n",
       "  </thead>\n",
       "  <tbody>\n",
       "    <tr>\n",
       "      <th>0</th>\n",
       "      <td>Data Scientist / Data Analyst -Business Analyst</td>\n",
       "      <td>Mumbai, Hyderabad/Secunderabad, Pune, Gurgaon/...</td>\n",
       "      <td>Inflexion Analytix Private Limited</td>\n",
       "      <td>Applications invited from all Freshers and exp...</td>\n",
       "    </tr>\n",
       "    <tr>\n",
       "      <th>1</th>\n",
       "      <td>Data Scientist</td>\n",
       "      <td>Kolkata, Hyderabad/Secunderabad, Chennai, Bang...</td>\n",
       "      <td>Wipro Limited</td>\n",
       "      <td>Good statistical analysis skills for data pre-...</td>\n",
       "    </tr>\n",
       "    <tr>\n",
       "      <th>2</th>\n",
       "      <td>Big Data - Data Scientist</td>\n",
       "      <td>Kochi/Cochin, Indore, Hyderabad/Secunderabad, ...</td>\n",
       "      <td>Xoriant Solutions Pvt Ltd</td>\n",
       "      <td>High motivation, good work ethic and maturityM...</td>\n",
       "    </tr>\n",
       "    <tr>\n",
       "      <th>3</th>\n",
       "      <td>Specialist I - Data Scientist</td>\n",
       "      <td>Bangalore/Bengaluru</td>\n",
       "      <td>Philips India Limited</td>\n",
       "      <td>Responsibilities and Key Result Areas Design a...</td>\n",
       "    </tr>\n",
       "    <tr>\n",
       "      <th>4</th>\n",
       "      <td>Data Scientist</td>\n",
       "      <td>Bangalore/Bengaluru</td>\n",
       "      <td>IBM India Pvt. Limited</td>\n",
       "      <td>modeling and business system design with exper...</td>\n",
       "    </tr>\n",
       "    <tr>\n",
       "      <th>5</th>\n",
       "      <td>Lead Data Scientist</td>\n",
       "      <td>Bangalore/Bengaluru</td>\n",
       "      <td>Intel Technology India Pvt Ltd</td>\n",
       "      <td>Experience in using data analysis techniques a...</td>\n",
       "    </tr>\n",
       "    <tr>\n",
       "      <th>6</th>\n",
       "      <td>Data Scientist</td>\n",
       "      <td>Bangalore/Bengaluru</td>\n",
       "      <td>Oracle India Pvt. Ltd.</td>\n",
       "      <td>Roles and Responsibilities Looking for 6+ yrs ...</td>\n",
       "    </tr>\n",
       "    <tr>\n",
       "      <th>7</th>\n",
       "      <td>SDE Lead Data Scientist-L3</td>\n",
       "      <td>Bangalore/Bengaluru</td>\n",
       "      <td>Huawei Technologies India Pvt Ltd</td>\n",
       "      <td>Strong hands-on experience in implementing and...</td>\n",
       "    </tr>\n",
       "    <tr>\n",
       "      <th>8</th>\n",
       "      <td>Computational Design Lead Data Scientist-L3</td>\n",
       "      <td>Bangalore/Bengaluru</td>\n",
       "      <td>Huawei Technologies India Pvt Ltd</td>\n",
       "      <td>Business &amp; Team overview:Founded in 1987, Huaw...</td>\n",
       "    </tr>\n",
       "    <tr>\n",
       "      <th>9</th>\n",
       "      <td>Hiring For DATA Scientist - ON Contract Basis ...</td>\n",
       "      <td>Hyderabad/Secunderabad, Bangalore/Bengaluru, M...</td>\n",
       "      <td>GlobalEdx Learning and Technology Solution Pvt...</td>\n",
       "      <td>Experience : 3+ Years</td>\n",
       "    </tr>\n",
       "  </tbody>\n",
       "</table>\n",
       "</div>"
      ],
      "text/plain": [
       "                                           Job Title  \\\n",
       "0    Data Scientist / Data Analyst -Business Analyst   \n",
       "1                                     Data Scientist   \n",
       "2                          Big Data - Data Scientist   \n",
       "3                      Specialist I - Data Scientist   \n",
       "4                                     Data Scientist   \n",
       "5                                Lead Data Scientist   \n",
       "6                                     Data Scientist   \n",
       "7                         SDE Lead Data Scientist-L3   \n",
       "8        Computational Design Lead Data Scientist-L3   \n",
       "9  Hiring For DATA Scientist - ON Contract Basis ...   \n",
       "\n",
       "                                        Job Location  \\\n",
       "0  Mumbai, Hyderabad/Secunderabad, Pune, Gurgaon/...   \n",
       "1  Kolkata, Hyderabad/Secunderabad, Chennai, Bang...   \n",
       "2  Kochi/Cochin, Indore, Hyderabad/Secunderabad, ...   \n",
       "3                                Bangalore/Bengaluru   \n",
       "4                                Bangalore/Bengaluru   \n",
       "5                                Bangalore/Bengaluru   \n",
       "6                                Bangalore/Bengaluru   \n",
       "7                                Bangalore/Bengaluru   \n",
       "8                                Bangalore/Bengaluru   \n",
       "9  Hyderabad/Secunderabad, Bangalore/Bengaluru, M...   \n",
       "\n",
       "                                        Company Name  \\\n",
       "0                 Inflexion Analytix Private Limited   \n",
       "1                                      Wipro Limited   \n",
       "2                          Xoriant Solutions Pvt Ltd   \n",
       "3                              Philips India Limited   \n",
       "4                             IBM India Pvt. Limited   \n",
       "5                     Intel Technology India Pvt Ltd   \n",
       "6                             Oracle India Pvt. Ltd.   \n",
       "7                  Huawei Technologies India Pvt Ltd   \n",
       "8                  Huawei Technologies India Pvt Ltd   \n",
       "9  GlobalEdx Learning and Technology Solution Pvt...   \n",
       "\n",
       "                                Full Job Description  \n",
       "0  Applications invited from all Freshers and exp...  \n",
       "1  Good statistical analysis skills for data pre-...  \n",
       "2  High motivation, good work ethic and maturityM...  \n",
       "3  Responsibilities and Key Result Areas Design a...  \n",
       "4  modeling and business system design with exper...  \n",
       "5  Experience in using data analysis techniques a...  \n",
       "6  Roles and Responsibilities Looking for 6+ yrs ...  \n",
       "7  Strong hands-on experience in implementing and...  \n",
       "8  Business & Team overview:Founded in 1987, Huaw...  \n",
       "9                              Experience : 3+ Years  "
      ]
     },
     "execution_count": 38,
     "metadata": {},
     "output_type": "execute_result"
    }
   ],
   "source": [
    "#Saving our answer in a DataFrame using Pandas\n",
    "jobds=pd.DataFrame({})\n",
    "jobds['Job Title']=job_titles[0:10]\n",
    "jobds['Job Location']=job_location[0:10]\n",
    "jobds['Company Name']=company_names[0:10]\n",
    "jobds['Full Job Description']=job_description[0:10]\n",
    "jobds"
   ]
  },
  {
   "cell_type": "code",
   "execution_count": 39,
   "metadata": {},
   "outputs": [],
   "source": [
    "#Closing driver\n",
    "driver.close()"
   ]
  },
  {
   "cell_type": "markdown",
   "metadata": {},
   "source": [
    "*******************************************Completed***********************************************************************"
   ]
  },
  {
   "cell_type": "markdown",
   "metadata": {},
   "source": [
    "# Q3: In this question you have to scrape data using the filters available on the webpage as shown below:\n",
    "    You have to use the location and salary filter.\n",
    "    You have to scrape data for “Data Scientist” designation for first 10 job results.\n",
    "    You have to scrape the job-title, job-location, company_name, experience_required.\n",
    "    The location filter to be used is “Delhi/NCR”.\n",
    "    The salary filter to be used is “3-6” lakhs.\n",
    "    \n",
    "Ans: Solution is as:-"
   ]
  },
  {
   "cell_type": "code",
   "execution_count": 40,
   "metadata": {},
   "outputs": [],
   "source": [
    "#Let's first connect to the web driver\n",
    "driver=webdriver.Chrome(\"chromedriver.exe\")"
   ]
  },
  {
   "cell_type": "code",
   "execution_count": 41,
   "metadata": {},
   "outputs": [],
   "source": [
    "#Opening webpage https://www.naukri.com/\n",
    "url=\"https://www.naukri.com/\"\n",
    "driver.get(url)"
   ]
  },
  {
   "cell_type": "code",
   "execution_count": 42,
   "metadata": {},
   "outputs": [
    {
     "data": {
      "text/plain": [
       "<selenium.webdriver.remote.webelement.WebElement (session=\"4d6534ebf4c50bd08944ccf25b7bc52e\", element=\"a8e3d592-ffc5-4939-a08b-11661dc0628c\")>"
      ]
     },
     "execution_count": 42,
     "metadata": {},
     "output_type": "execute_result"
    }
   ],
   "source": [
    "#finding element for job search bar\n",
    "search_job=driver.find_element_by_id('qsb-keyword-sugg')\n",
    "search_job"
   ]
  },
  {
   "cell_type": "code",
   "execution_count": 43,
   "metadata": {},
   "outputs": [],
   "source": [
    "#Searching for Data Scientist in Search bar\n",
    "search_job.send_keys(\"Data Scientist\")"
   ]
  },
  {
   "cell_type": "code",
   "execution_count": 44,
   "metadata": {},
   "outputs": [],
   "source": [
    "#finding element for job location bar\n",
    "search_loc=driver.find_element_by_id(\"qsb-location-sugg\")\n",
    "search_loc.send_keys(\"Delhi/NCR\")"
   ]
  },
  {
   "cell_type": "code",
   "execution_count": 45,
   "metadata": {},
   "outputs": [],
   "source": [
    "#Clicking the Search Button using Xpath function\n",
    "search_btn=driver.find_element_by_xpath(\"//button[@class='btn']\")\n",
    "search_btn.click()"
   ]
  },
  {
   "cell_type": "code",
   "execution_count": 46,
   "metadata": {},
   "outputs": [],
   "source": [
    "#Creating empty Lists so that we can store data in these lists while scraping\n",
    "job_titles=[]\n",
    "job_location=[]\n",
    "company_names=[]\n",
    "experience_list=[]"
   ]
  },
  {
   "cell_type": "code",
   "execution_count": 47,
   "metadata": {},
   "outputs": [
    {
     "data": {
      "text/plain": [
       "[<selenium.webdriver.remote.webelement.WebElement (session=\"4d6534ebf4c50bd08944ccf25b7bc52e\", element=\"39f6b78a-0d3d-4e81-89cc-ae7db281cf91\")>,\n",
       " <selenium.webdriver.remote.webelement.WebElement (session=\"4d6534ebf4c50bd08944ccf25b7bc52e\", element=\"ce585c44-192d-4f5b-8dbf-3f7e6dedf605\")>,\n",
       " <selenium.webdriver.remote.webelement.WebElement (session=\"4d6534ebf4c50bd08944ccf25b7bc52e\", element=\"ae70b46a-8575-42af-bbec-7b6341d617a1\")>,\n",
       " <selenium.webdriver.remote.webelement.WebElement (session=\"4d6534ebf4c50bd08944ccf25b7bc52e\", element=\"5c659381-b3e6-4747-91f1-983ea58725f6\")>,\n",
       " <selenium.webdriver.remote.webelement.WebElement (session=\"4d6534ebf4c50bd08944ccf25b7bc52e\", element=\"95a1e8f7-3bd3-4c3e-90ac-1ae203c21dfc\")>,\n",
       " <selenium.webdriver.remote.webelement.WebElement (session=\"4d6534ebf4c50bd08944ccf25b7bc52e\", element=\"43753684-7862-4d57-bba9-f4bf08ce1101\")>,\n",
       " <selenium.webdriver.remote.webelement.WebElement (session=\"4d6534ebf4c50bd08944ccf25b7bc52e\", element=\"bfbfc3a1-6724-4ed0-86c4-ad5e989d0781\")>,\n",
       " <selenium.webdriver.remote.webelement.WebElement (session=\"4d6534ebf4c50bd08944ccf25b7bc52e\", element=\"04435147-1b52-42cd-be29-ce4454a404b0\")>,\n",
       " <selenium.webdriver.remote.webelement.WebElement (session=\"4d6534ebf4c50bd08944ccf25b7bc52e\", element=\"9bcd54cf-83d6-43ff-b491-469053518f84\")>,\n",
       " <selenium.webdriver.remote.webelement.WebElement (session=\"4d6534ebf4c50bd08944ccf25b7bc52e\", element=\"aaf39c9e-6101-473e-a11e-38913b588d7f\")>,\n",
       " <selenium.webdriver.remote.webelement.WebElement (session=\"4d6534ebf4c50bd08944ccf25b7bc52e\", element=\"e2ce305f-3a55-4ae9-8440-95f65775ca1c\")>,\n",
       " <selenium.webdriver.remote.webelement.WebElement (session=\"4d6534ebf4c50bd08944ccf25b7bc52e\", element=\"b1722133-1957-4699-a034-05628908c474\")>,\n",
       " <selenium.webdriver.remote.webelement.WebElement (session=\"4d6534ebf4c50bd08944ccf25b7bc52e\", element=\"100f02f6-f3be-4e9c-950e-7692758b1435\")>,\n",
       " <selenium.webdriver.remote.webelement.WebElement (session=\"4d6534ebf4c50bd08944ccf25b7bc52e\", element=\"7e08c0da-f8ac-4d74-91d1-afcd111d5051\")>,\n",
       " <selenium.webdriver.remote.webelement.WebElement (session=\"4d6534ebf4c50bd08944ccf25b7bc52e\", element=\"b43ae2f2-541e-471b-b502-6134ecdd4638\")>,\n",
       " <selenium.webdriver.remote.webelement.WebElement (session=\"4d6534ebf4c50bd08944ccf25b7bc52e\", element=\"6c9cc1b2-d7db-4ca4-b302-49a8cabeb961\")>,\n",
       " <selenium.webdriver.remote.webelement.WebElement (session=\"4d6534ebf4c50bd08944ccf25b7bc52e\", element=\"92193624-d108-4076-b920-022afe98b123\")>,\n",
       " <selenium.webdriver.remote.webelement.WebElement (session=\"4d6534ebf4c50bd08944ccf25b7bc52e\", element=\"06018a1f-1660-4b70-8c17-459032a94615\")>,\n",
       " <selenium.webdriver.remote.webelement.WebElement (session=\"4d6534ebf4c50bd08944ccf25b7bc52e\", element=\"419a5d1b-7e99-493e-a20b-1fd907206eac\")>,\n",
       " <selenium.webdriver.remote.webelement.WebElement (session=\"4d6534ebf4c50bd08944ccf25b7bc52e\", element=\"8dc69b43-8363-4a90-a218-0fb11b6cfd1d\")>]"
      ]
     },
     "execution_count": 47,
     "metadata": {},
     "output_type": "execute_result"
    }
   ],
   "source": [
    "#Lets extract all the tags having job-titles\n",
    "titles_tags=driver.find_elements_by_xpath(\"//a[@class='title fw500 ellipsis']\")\n",
    "titles_tags"
   ]
  },
  {
   "cell_type": "code",
   "execution_count": 48,
   "metadata": {},
   "outputs": [
    {
     "data": {
      "text/plain": [
       "['Consultant II/ Sr Consultant SAS Analytics Banking Domain ISI/IIT/JNU',\n",
       " 'Social Media Specialist - eCommerce',\n",
       " 'Senior Software Developer',\n",
       " 'UI Designer HTML/CSS/SCSS/SASS - Remote',\n",
       " 'SEO Expert',\n",
       " 'Software Application Developer',\n",
       " 'Technical Manager/Sales Engineer',\n",
       " 'WordPress/PHP developer',\n",
       " 'Search Engine Optimization Expert',\n",
       " 'HTML Expert / WEB Designer',\n",
       " 'Photoshop Designers',\n",
       " 'Social Media Strategist',\n",
       " 'Counsellor',\n",
       " 'Program Manager',\n",
       " 'Open Source Developer (PHP/MYSQL/WORDPRESS)',\n",
       " 'SEO Executive',\n",
       " 'Business Development Executive',\n",
       " 'PHP Developer',\n",
       " 'Content Writer',\n",
       " 'Content Writer']"
      ]
     },
     "execution_count": 48,
     "metadata": {},
     "output_type": "execute_result"
    }
   ],
   "source": [
    "#extracting text inside title tags\n",
    "for i in titles_tags:\n",
    "    job_titles.append(i.text)\n",
    "job_titles"
   ]
  },
  {
   "cell_type": "code",
   "execution_count": 49,
   "metadata": {},
   "outputs": [
    {
     "data": {
      "text/plain": [
       "[<selenium.webdriver.remote.webelement.WebElement (session=\"4d6534ebf4c50bd08944ccf25b7bc52e\", element=\"d52e59d6-c3b6-444d-8e82-b1969a084607\")>,\n",
       " <selenium.webdriver.remote.webelement.WebElement (session=\"4d6534ebf4c50bd08944ccf25b7bc52e\", element=\"8edc4729-b31e-43ff-981b-34457c23aede\")>,\n",
       " <selenium.webdriver.remote.webelement.WebElement (session=\"4d6534ebf4c50bd08944ccf25b7bc52e\", element=\"9f97da9b-e4ab-4031-bf7b-5f1e3188598b\")>,\n",
       " <selenium.webdriver.remote.webelement.WebElement (session=\"4d6534ebf4c50bd08944ccf25b7bc52e\", element=\"b1e8a6ff-d41d-4ab0-a089-6068323572e8\")>,\n",
       " <selenium.webdriver.remote.webelement.WebElement (session=\"4d6534ebf4c50bd08944ccf25b7bc52e\", element=\"cca961c3-43e3-4e73-b8c6-ba77a1e33a27\")>,\n",
       " <selenium.webdriver.remote.webelement.WebElement (session=\"4d6534ebf4c50bd08944ccf25b7bc52e\", element=\"b210776e-d6e0-49a6-9ee8-acff660f1c79\")>,\n",
       " <selenium.webdriver.remote.webelement.WebElement (session=\"4d6534ebf4c50bd08944ccf25b7bc52e\", element=\"b6d98fba-f237-4c0b-bea4-2707f3b74637\")>,\n",
       " <selenium.webdriver.remote.webelement.WebElement (session=\"4d6534ebf4c50bd08944ccf25b7bc52e\", element=\"f29a1214-bbe9-4f13-a7cd-6e3185d1ad18\")>,\n",
       " <selenium.webdriver.remote.webelement.WebElement (session=\"4d6534ebf4c50bd08944ccf25b7bc52e\", element=\"c97f67a4-88b8-42d9-90aa-015b90bc665f\")>,\n",
       " <selenium.webdriver.remote.webelement.WebElement (session=\"4d6534ebf4c50bd08944ccf25b7bc52e\", element=\"9d46cfae-7514-4073-8524-fed45f4d98d0\")>,\n",
       " <selenium.webdriver.remote.webelement.WebElement (session=\"4d6534ebf4c50bd08944ccf25b7bc52e\", element=\"eaa0145b-e041-4ce7-be01-f4f09f66f1f5\")>,\n",
       " <selenium.webdriver.remote.webelement.WebElement (session=\"4d6534ebf4c50bd08944ccf25b7bc52e\", element=\"65b48c8f-c487-4418-8744-df7a5a5b0b78\")>,\n",
       " <selenium.webdriver.remote.webelement.WebElement (session=\"4d6534ebf4c50bd08944ccf25b7bc52e\", element=\"bc079a05-c666-45c0-b693-57aca72e135a\")>,\n",
       " <selenium.webdriver.remote.webelement.WebElement (session=\"4d6534ebf4c50bd08944ccf25b7bc52e\", element=\"17478b3b-300b-426c-ad3e-d1c3ffe04035\")>,\n",
       " <selenium.webdriver.remote.webelement.WebElement (session=\"4d6534ebf4c50bd08944ccf25b7bc52e\", element=\"2ba82c93-34ff-4e12-a088-03a5dc0d833f\")>,\n",
       " <selenium.webdriver.remote.webelement.WebElement (session=\"4d6534ebf4c50bd08944ccf25b7bc52e\", element=\"e5748068-c76e-40d6-b222-cebfda03a549\")>,\n",
       " <selenium.webdriver.remote.webelement.WebElement (session=\"4d6534ebf4c50bd08944ccf25b7bc52e\", element=\"2a3221fd-fde1-4f96-b2e8-5b924cc3d187\")>,\n",
       " <selenium.webdriver.remote.webelement.WebElement (session=\"4d6534ebf4c50bd08944ccf25b7bc52e\", element=\"2c3edbdd-5cf7-49cc-8527-8985f35df033\")>,\n",
       " <selenium.webdriver.remote.webelement.WebElement (session=\"4d6534ebf4c50bd08944ccf25b7bc52e\", element=\"61d44259-a06e-48a7-8138-dbb379bdce17\")>,\n",
       " <selenium.webdriver.remote.webelement.WebElement (session=\"4d6534ebf4c50bd08944ccf25b7bc52e\", element=\"3bf5ee99-98b7-46cf-ba8a-f1f587c216d2\")>]"
      ]
     },
     "execution_count": 49,
     "metadata": {},
     "output_type": "execute_result"
    }
   ],
   "source": [
    "#Extracting all the tags having location info\n",
    "locations_tags=driver.find_elements_by_xpath(\"//li[@class='fleft grey-text br2 placeHolderLi location']/span\")\n",
    "locations_tags"
   ]
  },
  {
   "cell_type": "code",
   "execution_count": 50,
   "metadata": {},
   "outputs": [
    {
     "data": {
      "text/plain": [
       "['Gurgaon/Gurugram, Delhi/NCR',\n",
       " 'Delhi/NCR',\n",
       " 'New Delhi, Delhi/NCR',\n",
       " 'Bangalore/Bengaluru, Delhi/NCR',\n",
       " 'New Delhi, Delhi/NCR',\n",
       " 'New Delhi, Delhi/NCR',\n",
       " 'Delhi, Delhi/NCR',\n",
       " 'Ghaziabad, New Delhi, Delhi/NCR, Ghaziabad',\n",
       " 'New Delhi, Delhi/NCR',\n",
       " 'New Delhi, Delhi/NCR',\n",
       " 'Noida, Delhi/NCR, Noida/Greater Noida',\n",
       " 'New Delhi, Delhi/NCR',\n",
       " 'New Delhi, Delhi/NCR',\n",
       " 'New Delhi, Delhi/NCR',\n",
       " 'New Delhi, Delhi/NCR',\n",
       " 'Ghaziabad, New Delhi, Delhi/NCR, Ghaziabad',\n",
       " 'Noida, Delhi/NCR, Noida/Greater Noida',\n",
       " 'Noida, Delhi/NCR, Noida/Greater Noida',\n",
       " 'New Delhi, Delhi/NCR',\n",
       " 'New Delhi, Delhi/NCR']"
      ]
     },
     "execution_count": 50,
     "metadata": {},
     "output_type": "execute_result"
    }
   ],
   "source": [
    "#extracting text inside Location tags\n",
    "for i in locations_tags:\n",
    "    job_location.append(i.text)\n",
    "job_location"
   ]
  },
  {
   "cell_type": "code",
   "execution_count": 51,
   "metadata": {},
   "outputs": [
    {
     "data": {
      "text/plain": [
       "[<selenium.webdriver.remote.webelement.WebElement (session=\"4d6534ebf4c50bd08944ccf25b7bc52e\", element=\"54536a86-de0a-4d22-85da-8ce5c543b752\")>,\n",
       " <selenium.webdriver.remote.webelement.WebElement (session=\"4d6534ebf4c50bd08944ccf25b7bc52e\", element=\"5877d4af-397b-4f84-8b47-7be012deb915\")>,\n",
       " <selenium.webdriver.remote.webelement.WebElement (session=\"4d6534ebf4c50bd08944ccf25b7bc52e\", element=\"4238cee3-246d-4911-86d6-1b3f4fed373c\")>,\n",
       " <selenium.webdriver.remote.webelement.WebElement (session=\"4d6534ebf4c50bd08944ccf25b7bc52e\", element=\"29900069-25de-4818-a9ca-02c22f6cedfb\")>,\n",
       " <selenium.webdriver.remote.webelement.WebElement (session=\"4d6534ebf4c50bd08944ccf25b7bc52e\", element=\"639b14c6-c176-49f7-bd49-02fbc88f8fab\")>,\n",
       " <selenium.webdriver.remote.webelement.WebElement (session=\"4d6534ebf4c50bd08944ccf25b7bc52e\", element=\"972c18cd-334c-4848-90a2-c21ab7932f45\")>,\n",
       " <selenium.webdriver.remote.webelement.WebElement (session=\"4d6534ebf4c50bd08944ccf25b7bc52e\", element=\"88319579-3261-4797-9f07-48a7f53e9b99\")>,\n",
       " <selenium.webdriver.remote.webelement.WebElement (session=\"4d6534ebf4c50bd08944ccf25b7bc52e\", element=\"34e2ddaf-2bcf-4cc5-b75b-ceb71dccddc6\")>,\n",
       " <selenium.webdriver.remote.webelement.WebElement (session=\"4d6534ebf4c50bd08944ccf25b7bc52e\", element=\"086ca36d-fb43-40c6-a0ba-7a6be90f3a90\")>,\n",
       " <selenium.webdriver.remote.webelement.WebElement (session=\"4d6534ebf4c50bd08944ccf25b7bc52e\", element=\"358f5b7f-2b70-494f-a843-0eaa889d6494\")>,\n",
       " <selenium.webdriver.remote.webelement.WebElement (session=\"4d6534ebf4c50bd08944ccf25b7bc52e\", element=\"965cd408-3406-481d-8529-b4681217010c\")>,\n",
       " <selenium.webdriver.remote.webelement.WebElement (session=\"4d6534ebf4c50bd08944ccf25b7bc52e\", element=\"77a3b76e-3578-457d-90b9-bd1a70fdb586\")>,\n",
       " <selenium.webdriver.remote.webelement.WebElement (session=\"4d6534ebf4c50bd08944ccf25b7bc52e\", element=\"d5ad890b-01f7-4c18-8564-84f7fd2a4c03\")>,\n",
       " <selenium.webdriver.remote.webelement.WebElement (session=\"4d6534ebf4c50bd08944ccf25b7bc52e\", element=\"7d7954c7-ca11-4724-82bd-89225130755f\")>,\n",
       " <selenium.webdriver.remote.webelement.WebElement (session=\"4d6534ebf4c50bd08944ccf25b7bc52e\", element=\"dd682102-7754-4d7e-bd3b-181e9c774666\")>,\n",
       " <selenium.webdriver.remote.webelement.WebElement (session=\"4d6534ebf4c50bd08944ccf25b7bc52e\", element=\"006b3af6-e45c-45e2-825d-cabe1544c89a\")>,\n",
       " <selenium.webdriver.remote.webelement.WebElement (session=\"4d6534ebf4c50bd08944ccf25b7bc52e\", element=\"64da41ee-467a-4414-a116-4a5fa26eeb09\")>,\n",
       " <selenium.webdriver.remote.webelement.WebElement (session=\"4d6534ebf4c50bd08944ccf25b7bc52e\", element=\"874cab2a-eb4b-460b-b0b0-bf70ad4448e9\")>,\n",
       " <selenium.webdriver.remote.webelement.WebElement (session=\"4d6534ebf4c50bd08944ccf25b7bc52e\", element=\"f43dd574-f511-4179-89bd-83101671d461\")>,\n",
       " <selenium.webdriver.remote.webelement.WebElement (session=\"4d6534ebf4c50bd08944ccf25b7bc52e\", element=\"eb170c2a-1f05-4668-93a1-27384d236248\")>]"
      ]
     },
     "execution_count": 51,
     "metadata": {},
     "output_type": "execute_result"
    }
   ],
   "source": [
    "#Extracting all the tags having company names\n",
    "companies_tags=driver.find_elements_by_xpath(\"//a[@class='subTitle ellipsis fleft']\")\n",
    "companies_tags"
   ]
  },
  {
   "cell_type": "code",
   "execution_count": 52,
   "metadata": {},
   "outputs": [
    {
     "data": {
      "text/plain": [
       "['Elixir Web Solutions',\n",
       " 'Megma Services',\n",
       " 'Pinga Solutions',\n",
       " 'Benchire',\n",
       " 'Akrsk.com',\n",
       " 'Odyssey India Ltd',\n",
       " 'Dura Build Care Pvt. Ltd',\n",
       " 'IT Monteur',\n",
       " 'Nine Digital',\n",
       " 'Akrsk.com',\n",
       " 'Dimension India Networks (P) Ltd',\n",
       " 'Nine Digital',\n",
       " 'Jugalbandi Studio',\n",
       " 'Sportseed',\n",
       " 'Odyssey India Ltd',\n",
       " 'IT Monteur',\n",
       " 'GLEAMING MEDIA',\n",
       " 'GLEAMING MEDIA',\n",
       " 'Thinktank Infotech (P) Ltd',\n",
       " 'GullyBaba Publishing House Pvt. Ltd']"
      ]
     },
     "execution_count": 52,
     "metadata": {},
     "output_type": "execute_result"
    }
   ],
   "source": [
    "#extracting text inside company tags\n",
    "for i in companies_tags:\n",
    "    company_names.append(i.text)\n",
    "company_names"
   ]
  },
  {
   "cell_type": "code",
   "execution_count": 53,
   "metadata": {},
   "outputs": [
    {
     "data": {
      "text/plain": [
       "[<selenium.webdriver.remote.webelement.WebElement (session=\"4d6534ebf4c50bd08944ccf25b7bc52e\", element=\"0d4e0cc9-e64f-46c8-91c6-7c354549de87\")>,\n",
       " <selenium.webdriver.remote.webelement.WebElement (session=\"4d6534ebf4c50bd08944ccf25b7bc52e\", element=\"259edcb0-3c66-414d-b5be-9d2b92df94ca\")>,\n",
       " <selenium.webdriver.remote.webelement.WebElement (session=\"4d6534ebf4c50bd08944ccf25b7bc52e\", element=\"12374a06-938d-4c11-8d97-0282516af921\")>,\n",
       " <selenium.webdriver.remote.webelement.WebElement (session=\"4d6534ebf4c50bd08944ccf25b7bc52e\", element=\"2713eeeb-e1ac-48c9-aeea-1c7ead65a2d5\")>,\n",
       " <selenium.webdriver.remote.webelement.WebElement (session=\"4d6534ebf4c50bd08944ccf25b7bc52e\", element=\"6321bfae-40c3-4f58-b4e5-a9204f34ba03\")>,\n",
       " <selenium.webdriver.remote.webelement.WebElement (session=\"4d6534ebf4c50bd08944ccf25b7bc52e\", element=\"c5d53cbb-37a7-47a2-b628-8500e34db84a\")>,\n",
       " <selenium.webdriver.remote.webelement.WebElement (session=\"4d6534ebf4c50bd08944ccf25b7bc52e\", element=\"f7e4727c-5e35-4d05-9a5a-2021acc54a5d\")>,\n",
       " <selenium.webdriver.remote.webelement.WebElement (session=\"4d6534ebf4c50bd08944ccf25b7bc52e\", element=\"2827bd22-94f4-4464-9fad-e9d1ab6b691f\")>,\n",
       " <selenium.webdriver.remote.webelement.WebElement (session=\"4d6534ebf4c50bd08944ccf25b7bc52e\", element=\"38309ba7-78c9-4924-93cf-a63f59c8465e\")>,\n",
       " <selenium.webdriver.remote.webelement.WebElement (session=\"4d6534ebf4c50bd08944ccf25b7bc52e\", element=\"be1b8945-33b2-40ee-ad22-23b850e4ec37\")>,\n",
       " <selenium.webdriver.remote.webelement.WebElement (session=\"4d6534ebf4c50bd08944ccf25b7bc52e\", element=\"ef7136f1-ed4d-4e56-a312-8614256680b5\")>,\n",
       " <selenium.webdriver.remote.webelement.WebElement (session=\"4d6534ebf4c50bd08944ccf25b7bc52e\", element=\"478ee10d-9460-4735-8f3d-b70a80e3acf8\")>,\n",
       " <selenium.webdriver.remote.webelement.WebElement (session=\"4d6534ebf4c50bd08944ccf25b7bc52e\", element=\"91b1317b-b65e-4472-b6b1-48e3c5ef7a82\")>,\n",
       " <selenium.webdriver.remote.webelement.WebElement (session=\"4d6534ebf4c50bd08944ccf25b7bc52e\", element=\"abcd3b20-16c6-4ce6-ae73-4ddf21bb18ef\")>,\n",
       " <selenium.webdriver.remote.webelement.WebElement (session=\"4d6534ebf4c50bd08944ccf25b7bc52e\", element=\"f783fb80-6065-450d-a0d6-26ebe2537c71\")>,\n",
       " <selenium.webdriver.remote.webelement.WebElement (session=\"4d6534ebf4c50bd08944ccf25b7bc52e\", element=\"1767b825-d736-4bc4-b57f-a0531cbb89dd\")>,\n",
       " <selenium.webdriver.remote.webelement.WebElement (session=\"4d6534ebf4c50bd08944ccf25b7bc52e\", element=\"08f8613f-ed14-477b-a336-b586016f9050\")>,\n",
       " <selenium.webdriver.remote.webelement.WebElement (session=\"4d6534ebf4c50bd08944ccf25b7bc52e\", element=\"af75deec-e2bc-4b6f-8fa0-0889f460ce3e\")>,\n",
       " <selenium.webdriver.remote.webelement.WebElement (session=\"4d6534ebf4c50bd08944ccf25b7bc52e\", element=\"d46e5575-e5a3-4373-b982-ec92c9d69b65\")>,\n",
       " <selenium.webdriver.remote.webelement.WebElement (session=\"4d6534ebf4c50bd08944ccf25b7bc52e\", element=\"6315bc71-515b-4fa4-b541-0ecbe2d7ed44\")>]"
      ]
     },
     "execution_count": 53,
     "metadata": {},
     "output_type": "execute_result"
    }
   ],
   "source": [
    "#Extracting all the tags having Experience info\n",
    "experience_tags=driver.find_elements_by_xpath(\"//li[@class='fleft grey-text br2 placeHolderLi experience']//span\")\n",
    "experience_tags"
   ]
  },
  {
   "cell_type": "code",
   "execution_count": 54,
   "metadata": {},
   "outputs": [
    {
     "data": {
      "text/plain": [
       "['1-5 Yrs',\n",
       " '1-3 Yrs',\n",
       " '3-8 Yrs',\n",
       " '2-6 Yrs',\n",
       " '1-3 Yrs',\n",
       " '2-4 Yrs',\n",
       " '2-7 Yrs',\n",
       " '1-2 Yrs',\n",
       " '2-3 Yrs',\n",
       " '1-5 Yrs',\n",
       " '0-3 Yrs',\n",
       " '2-3 Yrs',\n",
       " '2-5 Yrs',\n",
       " '3-5 Yrs',\n",
       " '2-4 Yrs',\n",
       " '1-2 Yrs',\n",
       " '1-2 Yrs',\n",
       " '1-2 Yrs',\n",
       " '0-3 Yrs',\n",
       " '1-3 Yrs']"
      ]
     },
     "execution_count": 54,
     "metadata": {},
     "output_type": "execute_result"
    }
   ],
   "source": [
    "#extracting text inside Experience tags\n",
    "for i in experience_tags:\n",
    "    experience_list.append(i.text)\n",
    "experience_list"
   ]
  },
  {
   "cell_type": "code",
   "execution_count": 55,
   "metadata": {},
   "outputs": [
    {
     "data": {
      "text/html": [
       "<div>\n",
       "<style scoped>\n",
       "    .dataframe tbody tr th:only-of-type {\n",
       "        vertical-align: middle;\n",
       "    }\n",
       "\n",
       "    .dataframe tbody tr th {\n",
       "        vertical-align: top;\n",
       "    }\n",
       "\n",
       "    .dataframe thead th {\n",
       "        text-align: right;\n",
       "    }\n",
       "</style>\n",
       "<table border=\"1\" class=\"dataframe\">\n",
       "  <thead>\n",
       "    <tr style=\"text-align: right;\">\n",
       "      <th></th>\n",
       "      <th>Job Title</th>\n",
       "      <th>Job Location</th>\n",
       "      <th>Company Name</th>\n",
       "      <th>Experience Required</th>\n",
       "    </tr>\n",
       "  </thead>\n",
       "  <tbody>\n",
       "    <tr>\n",
       "      <th>0</th>\n",
       "      <td>Consultant II/ Sr Consultant SAS Analytics Ban...</td>\n",
       "      <td>Gurgaon/Gurugram, Delhi/NCR</td>\n",
       "      <td>Elixir Web Solutions</td>\n",
       "      <td>1-5 Yrs</td>\n",
       "    </tr>\n",
       "    <tr>\n",
       "      <th>1</th>\n",
       "      <td>Social Media Specialist - eCommerce</td>\n",
       "      <td>Delhi/NCR</td>\n",
       "      <td>Megma Services</td>\n",
       "      <td>1-3 Yrs</td>\n",
       "    </tr>\n",
       "    <tr>\n",
       "      <th>2</th>\n",
       "      <td>Senior Software Developer</td>\n",
       "      <td>New Delhi, Delhi/NCR</td>\n",
       "      <td>Pinga Solutions</td>\n",
       "      <td>3-8 Yrs</td>\n",
       "    </tr>\n",
       "    <tr>\n",
       "      <th>3</th>\n",
       "      <td>UI Designer HTML/CSS/SCSS/SASS - Remote</td>\n",
       "      <td>Bangalore/Bengaluru, Delhi/NCR</td>\n",
       "      <td>Benchire</td>\n",
       "      <td>2-6 Yrs</td>\n",
       "    </tr>\n",
       "    <tr>\n",
       "      <th>4</th>\n",
       "      <td>SEO Expert</td>\n",
       "      <td>New Delhi, Delhi/NCR</td>\n",
       "      <td>Akrsk.com</td>\n",
       "      <td>1-3 Yrs</td>\n",
       "    </tr>\n",
       "    <tr>\n",
       "      <th>5</th>\n",
       "      <td>Software Application Developer</td>\n",
       "      <td>New Delhi, Delhi/NCR</td>\n",
       "      <td>Odyssey India Ltd</td>\n",
       "      <td>2-4 Yrs</td>\n",
       "    </tr>\n",
       "    <tr>\n",
       "      <th>6</th>\n",
       "      <td>Technical Manager/Sales Engineer</td>\n",
       "      <td>Delhi, Delhi/NCR</td>\n",
       "      <td>Dura Build Care Pvt. Ltd</td>\n",
       "      <td>2-7 Yrs</td>\n",
       "    </tr>\n",
       "    <tr>\n",
       "      <th>7</th>\n",
       "      <td>WordPress/PHP developer</td>\n",
       "      <td>Ghaziabad, New Delhi, Delhi/NCR, Ghaziabad</td>\n",
       "      <td>IT Monteur</td>\n",
       "      <td>1-2 Yrs</td>\n",
       "    </tr>\n",
       "    <tr>\n",
       "      <th>8</th>\n",
       "      <td>Search Engine Optimization Expert</td>\n",
       "      <td>New Delhi, Delhi/NCR</td>\n",
       "      <td>Nine Digital</td>\n",
       "      <td>2-3 Yrs</td>\n",
       "    </tr>\n",
       "    <tr>\n",
       "      <th>9</th>\n",
       "      <td>HTML Expert / WEB Designer</td>\n",
       "      <td>New Delhi, Delhi/NCR</td>\n",
       "      <td>Akrsk.com</td>\n",
       "      <td>1-5 Yrs</td>\n",
       "    </tr>\n",
       "  </tbody>\n",
       "</table>\n",
       "</div>"
      ],
      "text/plain": [
       "                                           Job Title  \\\n",
       "0  Consultant II/ Sr Consultant SAS Analytics Ban...   \n",
       "1                Social Media Specialist - eCommerce   \n",
       "2                          Senior Software Developer   \n",
       "3            UI Designer HTML/CSS/SCSS/SASS - Remote   \n",
       "4                                         SEO Expert   \n",
       "5                     Software Application Developer   \n",
       "6                   Technical Manager/Sales Engineer   \n",
       "7                            WordPress/PHP developer   \n",
       "8                  Search Engine Optimization Expert   \n",
       "9                         HTML Expert / WEB Designer   \n",
       "\n",
       "                                 Job Location              Company Name  \\\n",
       "0                 Gurgaon/Gurugram, Delhi/NCR      Elixir Web Solutions   \n",
       "1                                   Delhi/NCR            Megma Services   \n",
       "2                        New Delhi, Delhi/NCR           Pinga Solutions   \n",
       "3              Bangalore/Bengaluru, Delhi/NCR                  Benchire   \n",
       "4                        New Delhi, Delhi/NCR                 Akrsk.com   \n",
       "5                        New Delhi, Delhi/NCR         Odyssey India Ltd   \n",
       "6                            Delhi, Delhi/NCR  Dura Build Care Pvt. Ltd   \n",
       "7  Ghaziabad, New Delhi, Delhi/NCR, Ghaziabad                IT Monteur   \n",
       "8                        New Delhi, Delhi/NCR              Nine Digital   \n",
       "9                        New Delhi, Delhi/NCR                 Akrsk.com   \n",
       "\n",
       "  Experience Required  \n",
       "0             1-5 Yrs  \n",
       "1             1-3 Yrs  \n",
       "2             3-8 Yrs  \n",
       "3             2-6 Yrs  \n",
       "4             1-3 Yrs  \n",
       "5             2-4 Yrs  \n",
       "6             2-7 Yrs  \n",
       "7             1-2 Yrs  \n",
       "8             2-3 Yrs  \n",
       "9             1-5 Yrs  "
      ]
     },
     "execution_count": 55,
     "metadata": {},
     "output_type": "execute_result"
    }
   ],
   "source": [
    "#Saving our answer in a DataFrame using Pandas\n",
    "jobncr=pd.DataFrame({})\n",
    "jobncr['Job Title']=job_titles[0:10]\n",
    "jobncr['Job Location']=job_location[0:10]\n",
    "jobncr['Company Name']=company_names[0:10]\n",
    "jobncr['Experience Required']=experience_list[0:10]\n",
    "jobncr"
   ]
  },
  {
   "cell_type": "code",
   "execution_count": 56,
   "metadata": {},
   "outputs": [],
   "source": [
    "#Closing driver\n",
    "driver.close()"
   ]
  },
  {
   "cell_type": "markdown",
   "metadata": {},
   "source": [
    "*******************************************Completed***********************************************************************"
   ]
  }
 ],
 "metadata": {
  "kernelspec": {
   "display_name": "Python 3",
   "language": "python",
   "name": "python3"
  },
  "language_info": {
   "codemirror_mode": {
    "name": "ipython",
    "version": 3
   },
   "file_extension": ".py",
   "mimetype": "text/x-python",
   "name": "python",
   "nbconvert_exporter": "python",
   "pygments_lexer": "ipython3",
   "version": "3.8.5"
  }
 },
 "nbformat": 4,
 "nbformat_minor": 4
}
